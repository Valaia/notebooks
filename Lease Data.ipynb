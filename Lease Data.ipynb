{
 "cells": [
  {
   "cell_type": "code",
   "execution_count": 1,
   "metadata": {},
   "outputs": [],
   "source": [
    "import calcbench as cb"
   ]
  },
  {
   "cell_type": "code",
   "execution_count": 9,
   "metadata": {},
   "outputs": [],
   "source": [
    "# https://www.calcbench.com/home/standardizedmetrics\n",
    "lease_points = '''\n",
    "LeaseImpairmentLoss\n",
    "FinanceLeaseRightOfUseAsset\n",
    "OperatingLeaseRightOfUseAsset\n",
    "FinanceLeaseLiability\n",
    "OperatingLeaseLiability\n",
    "ProvisionForLoanLeaseAndOtherLosses\n",
    "AllowanceForLoanAndLeaseLossesWriteoffsNet\n",
    "AllowanceForLoanAndLeaseLossesWriteOffs\n",
    "BusinessCombinationLiabilitiesAssumedCapitalLeaseObligation\n",
    "CapitalLeaseObligations\n",
    "CapitalLeasesFutureMinimumPaymentsDue\n",
    "FinanceLeaseWeightedAverageDiscountRatePercent\n",
    "FinanceLeaseWeightedAverageRemainingLeaseTerm\n",
    "CapitalLeasesFutureMinimumPaymentsDueCurrent\n",
    "CapitalLeasesFutureMinimumPaymentsRemainderOfFiscalYear\n",
    "CapitalLeasesFutureMinimumPaymentsDueInTwoYears\n",
    "CapitalLeasesFutureMinimumPaymentsDueInThreeYears\n",
    "CapitalLeasesFutureMinimumPaymentsDueInFourYears\n",
    "CapitalLeasesFutureMinimumPaymentsDueInFiveYears\n",
    "CapitalLeasesFutureMinimumPaymentsDueThereafter\n",
    "CapitalLeasesFutureMinimumPaymentsInterestIncludedInPayments\n",
    "CapitalLeasesFutureMinimumPaymentsPresentValueOfNetMinimumPayments\n",
    "FiniteLivedIntangibleAssetsGrossLeases\n",
    "FiniteLivedIntangibleAssetsAccumulatedAmortizationLeases\n",
    "FiniteLivedIntangibleAssetsNetLeases\n",
    "OperatingLeasesFutureMinimumPaymentsDue\n",
    "FinanceLeaseLiabilityPaymentsDue\n",
    "OperatingLeaseWeightedAverageDiscountRatePercent\n",
    "OperatingLeaseWeightedAverageRemainingLeaseTerm\n",
    "OperatingLeasesFutureMinimumPaymentsDueCurrent\n",
    "OperatingLeasesFutureMinimumPaymentsRemainderOfFiscalYear\n",
    "OperatingLeasesFutureMinimumPaymentsDueInTwoYears\n",
    "OperatingLeasesFutureMinimumPaymentsDueInThreeYears\n",
    "OperatingLeasesFutureMinimumPaymentsDueInFourYears\n",
    "OperatingLeasesFutureMinimumPaymentsDueInFiveYears\n",
    "OperatingLeasesFutureMinimumPaymentsDueThereafter\n",
    "OperatingLeasesRentExpenseMinimumRentals\n",
    "OperatingLeasesRentExpenseContingentRentals\n",
    "OperatingLeasesRentExpenseSubleaseRentals\n",
    "OperatingLeasesRentExpenseNet\n",
    "OperatingLeasesIncomeStatementLeaseRevenue\n",
    "OperatingLeasesIncomeStatementSubleaseRevenue\n",
    "OperatingLeasesFutureMinimumPaymentsReceivableCurrent\n",
    "OperatingLeasesFutureMinimumPaymentsReceivableInTwoYears\n",
    "OperatingLeasesFutureMinimumPaymentsReceivableInThreeYears\n",
    "OperatingLeasesFutureMinimumPaymentsReceivableInFourYears\n",
    "OperatingLeasesFutureMinimumPaymentsReceivableInFiveYears\n",
    "OperatingLeasesFutureMinimumPaymentsReceivableThereafter\n",
    "LeaseholdImprovementsGross\n",
    "CapitalLeasedAssetsGross\n",
    "PropertyForOperatingLeaseGross\n",
    "PropertyPlantAndEquipmentUsefulLifeMaximumLeaseholdImprovement\n",
    "PropertyPlantAndEquipmentUsefulLifeMinimumLeaseholdImprovement\n",
    "DeferredTaxAssetsDeferredGainOnSaleLeasebackTransaction\n",
    "RetailLeaseRevenue\n",
    "WholesaleLeaseRevenue\n",
    "'''.split()"
   ]
  },
  {
   "cell_type": "code",
   "execution_count": 10,
   "metadata": {},
   "outputs": [
    {
     "name": "stderr",
     "output_type": "stream",
     "text": [
      "C:\\Users\\Andrew Kittredge\\git\\python_api_client\\calcbench\\api_client.py:168: UserWarning: Did not find metrics {'OperatingLeaseWeightedAverageDiscountRatePercent', 'FinanceLeaseWeightedAverageDiscountRatePercent'}\n",
      "  warnings.warn(\"Did not find metrics {0}\".format(missing_metrics))\n"
     ]
    }
   ],
   "source": [
    "d = cb.standardized_data(entire_universe=True, metrics=lease_points, all_history=True, period_type='annual')"
   ]
  },
  {
   "cell_type": "code",
   "execution_count": null,
   "metadata": {},
   "outputs": [],
   "source": []
  }
 ],
 "metadata": {
  "kernelspec": {
   "display_name": "Python 3",
   "language": "python",
   "name": "python3"
  },
  "language_info": {
   "codemirror_mode": {
    "name": "ipython",
    "version": 3
   },
   "file_extension": ".py",
   "mimetype": "text/x-python",
   "name": "python",
   "nbconvert_exporter": "python",
   "pygments_lexer": "ipython3",
   "version": "3.7.1"
  }
 },
 "nbformat": 4,
 "nbformat_minor": 2
}
