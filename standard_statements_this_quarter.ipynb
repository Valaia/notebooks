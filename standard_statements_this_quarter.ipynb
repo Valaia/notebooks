{
 "cells": [
  {
   "cell_type": "code",
   "execution_count": 2,
   "metadata": {
    "collapsed": false
   },
   "outputs": [
    {
     "name": "stdout",
     "output_type": "stream",
     "text": [
      "Populating the interactive namespace from numpy and matplotlib\n"
     ]
    }
   ],
   "source": [
    "import calcbench as cb\n",
    "%pylab inline"
   ]
  },
  {
   "cell_type": "code",
   "execution_count": 4,
   "metadata": {
    "collapsed": true
   },
   "outputs": [],
   "source": [
    "income_statement_metrics = [\n",
    "    'revenue', \n",
    "    'costofrevenue', \n",
    "    'sgaexpense', \n",
    "    'operatingexpenses', \n",
    "    'operatingincome',\n",
    "    'ebit',\n",
    "    'interestexpense',\n",
    "    'incometaxes',\n",
    "    'netincome']"
   ]
  },
  {
   "cell_type": "code",
   "execution_count": 95,
   "metadata": {
    "collapsed": false
   },
   "outputs": [],
   "source": [
    "income_statement_points = cb.normalized_data(entire_universe=True,\n",
    "                                             metrics=income_statement_metrics,\n",
    "                                             start_year=2015,\n",
    "                                             start_period=1,\n",
    "                                             end_year=2016,\n",
    "                                             end_period=1)"
   ]
  },
  {
   "cell_type": "code",
   "execution_count": 120,
   "metadata": {
    "collapsed": false
   },
   "outputs": [],
   "source": [
    "filed_q1_2015 = income_statement_points.revenue.T.notnull()['2015Q1']\n",
    "filed_q1_2016 = income_statement_points.revenue.T.notnull()['2016Q1']\n",
    "filed_both = filed_q1_2015 & filed_q1_2016"
   ]
  },
  {
   "cell_type": "code",
   "execution_count": 105,
   "metadata": {
    "collapsed": false
   },
   "outputs": [],
   "source": [
    "py_sum = income_statement_points.revenue.T['2015Q1'][filed_q1_2016].sum()"
   ]
  },
  {
   "cell_type": "code",
   "execution_count": 122,
   "metadata": {
    "collapsed": true
   },
   "outputs": [],
   "source": [
    "this_y_sum = income_statement_points.revenue.T['2016Q1'][filed_both].sum()"
   ]
  },
  {
   "cell_type": "code",
   "execution_count": 124,
   "metadata": {
    "collapsed": false
   },
   "outputs": [
    {
     "data": {
      "text/plain": [
       "0.056488317955210497"
      ]
     },
     "execution_count": 124,
     "metadata": {},
     "output_type": "execute_result"
    }
   ],
   "source": [
    "(this_y_sum - py_sum) / py_sum "
   ]
  }
 ],
 "metadata": {
  "kernelspec": {
   "display_name": "Python 3",
   "language": "python",
   "name": "python3"
  },
  "language_info": {
   "codemirror_mode": {
    "name": "ipython",
    "version": 3
   },
   "file_extension": ".py",
   "mimetype": "text/x-python",
   "name": "python",
   "nbconvert_exporter": "python",
   "pygments_lexer": "ipython3",
   "version": "3.5.1"
  }
 },
 "nbformat": 4,
 "nbformat_minor": 0
}
