{
 "cells": [
  {
   "cell_type": "code",
   "execution_count": null,
   "metadata": {},
   "outputs": [],
   "source": [
    "import calcbench as cb\n",
    "import json\n",
    "import itertools\n",
    "from tqdm import tqdm, tqdm_notebook\n",
    "import random\n",
    "import urllib.error\n",
    "import requests\n",
    "import sys\n",
    "from bs4 import BeautifulSoup\n",
    "import backoff\n",
    "import logging\n",
    "from datetime import date, timedelta\n",
    "logging.getLogger('backoff').addHandler(logging.StreamHandler())\n",
    "logging.getLogger('backoff').setLevel(logging.INFO)"
   ]
  },
  {
   "cell_type": "code",
   "execution_count": null,
   "metadata": {},
   "outputs": [],
   "source": [
    "@backoff.on_exception(backoff.expo, (requests.exceptions.RequestException), 8)\n",
    "def get_doc_contents(doc):\n",
    "    return doc.get_contents()"
   ]
  },
  {
   "cell_type": "code",
   "execution_count": null,
   "metadata": {},
   "outputs": [],
   "source": [
    "file_name = 'guidance_outlook.txt'\n",
    "disclosure_name = 'Guidance/Outlook'\n",
    "open(file_name, 'w').close()\n",
    "\n",
    "found_documents = cb.document_search(entire_universe=True, \n",
    "                                     document_name=disclosure_name,  \n",
    "                                     all_history=True)\n",
    "\n",
    "for doc in tqdm_notebook(found_documents, leave=False):\n",
    "    try:\n",
    "        contents = get_doc_contents(doc)\n",
    "    except requests.RequestException:\n",
    "        missing_docs.append(doc)\n",
    "    except json.JSONDecodeError:\n",
    "        print(disclosure_name, year, period, doc['ticker'])\n",
    "    contents = BeautifulSoup(contents, 'html.parser').text\n",
    "    title = '{0} {1}-{2} filing date:{3}'.format(doc['ticker'], \n",
    "                                                 doc['fiscal_year'], \n",
    "                                                 doc['fiscal_period'], \n",
    "                                                 doc['filing_date'])\n",
    "    output_str = '{0}\\n\\n{1}\\n{2}\\n'.format(title, contents, '-' * 80)\n",
    "    output_bytes = output_str.encode(encoding='utf-8', errors='ignore')\n",
    "    with open(file_name, 'ba') as output:\n",
    "        output.write(output_bytes)"
   ]
  },
  {
   "cell_type": "code",
   "execution_count": null,
   "metadata": {},
   "outputs": [],
   "source": []
  }
 ],
 "metadata": {
  "kernelspec": {
   "display_name": "Python 3",
   "language": "python",
   "name": "python3"
  },
  "language_info": {
   "codemirror_mode": {
    "name": "ipython",
    "version": 3
   },
   "file_extension": ".py",
   "mimetype": "text/x-python",
   "name": "python",
   "nbconvert_exporter": "python",
   "pygments_lexer": "ipython3",
   "version": "3.5.1"
  }
 },
 "nbformat": 4,
 "nbformat_minor": 2
}
