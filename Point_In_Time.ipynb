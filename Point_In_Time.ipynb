{
 "cells": [
  {
   "cell_type": "code",
   "execution_count": 1,
   "metadata": {
    "collapsed": true
   },
   "outputs": [],
   "source": [
    "import calcbench as cb\n",
    "import pandas as pd\n",
    "import datetime"
   ]
  },
  {
   "cell_type": "code",
   "execution_count": null,
   "metadata": {
    "collapsed": false
   },
   "outputs": [],
   "source": [
    "companies = cb.companies(entire_universe=True)"
   ]
  },
  {
   "cell_type": "markdown",
   "metadata": {},
   "source": [
    "## Get historical data for all companies.  This takes an average of 6 seconds per company, about 10 hours in total."
   ]
  },
  {
   "cell_type": "code",
   "execution_count": null,
   "metadata": {
    "collapsed": true
   },
   "outputs": [],
   "source": [
    "data = pd.DataFrame()\n",
    "elapsed_start = datetime.datetime.now()\n",
    "for company_number, ticker in enumerate(companies.ticker):\n",
    "    start = datetime.datetime.now()\n",
    "    try:\n",
    "        pit_data = cb.point_in_time(all_footnotes=True, company_identifiers=[ticker])\n",
    "    except Exception as e:\n",
    "        print(\"Exception getting {0}\".format(ticker))\n",
    "    else:\n",
    "        pit_df = pd.DataFrame(pit_data)\n",
    "        data = data.append(pit_df)\n",
    "        print(\"done getting {0}, it took {1}, elapsed {2}, company_number {3}, average time {4}\".format(ticker, \n",
    "                                                                                      datetime.datetime.now() - start, \n",
    "                                                                                      datetime.datetime.now() - elapsed_start, \n",
    "                                                                                      company_number,\n",
    "                                                                                        (datetime.datetime.now() - elapsed_start) / (company_number + 1)))"
   ]
  },
  {
   "cell_type": "code",
   "execution_count": null,
   "metadata": {
    "collapsed": true
   },
   "outputs": [],
   "source": [
    "data.to_csv(\"c://Users/Andrew Kittredge/Documents/footnotes_pit_all.csv\")"
   ]
  },
  {
   "cell_type": "markdown",
   "metadata": {},
   "source": [
    "## Get the points from documents filed yesterday"
   ]
  },
  {
   "cell_type": "code",
   "execution_count": 15,
   "metadata": {
    "collapsed": false
   },
   "outputs": [],
   "source": [
    "yesterday = datetime.datetime.now() - datetime.timedelta(days=1)\n",
    "daily_updates = cb.point_in_time(all_footnotes=True, update_date=yesterday)\n",
    "daily_updates.to_csv(\"c://Users/Andrew Kittredge/Documents/footnotes_pit_all-{0}.csv\".format(yesterday.strftime('%Y-%m-%d')))"
   ]
  },
  {
   "cell_type": "code",
   "execution_count": null,
   "metadata": {
    "collapsed": true
   },
   "outputs": [],
   "source": []
  }
 ],
 "metadata": {
  "kernelspec": {
   "display_name": "Python 3",
   "language": "python",
   "name": "python3"
  },
  "language_info": {
   "codemirror_mode": {
    "name": "ipython",
    "version": 3
   },
   "file_extension": ".py",
   "mimetype": "text/x-python",
   "name": "python",
   "nbconvert_exporter": "python",
   "pygments_lexer": "ipython3",
   "version": "3.5.1"
  }
 },
 "nbformat": 4,
 "nbformat_minor": 1
}
