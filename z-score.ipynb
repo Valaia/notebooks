{
 "cells": [
  {
   "cell_type": "code",
   "execution_count": 1,
   "metadata": {
    "collapsed": false
   },
   "outputs": [
    {
     "name": "stdout",
     "output_type": "stream",
     "text": [
      "Populating the interactive namespace from numpy and matplotlib\n"
     ]
    }
   ],
   "source": [
    "import calcbench as cb\n",
    "import pandas as pd\n",
    "%pylab inline"
   ]
  },
  {
   "cell_type": "code",
   "execution_count": 10,
   "metadata": {
    "collapsed": true
   },
   "outputs": [],
   "source": [
    "z_score_metrics = ['CurrentAssets',\n",
    "                   'CurrentLiabilities', \n",
    "                   'Assets', \n",
    "                   'RetainedEarnings', \n",
    "                   'EBIT', \n",
    "                   'MarketCapAtEndOfPeriod',\n",
    "                  'Liabilities',\n",
    "                  'Revenue']"
   ]
  },
  {
   "cell_type": "code",
   "execution_count": 42,
   "metadata": {
    "collapsed": false
   },
   "outputs": [],
   "source": [
    "crude_and_natural_gas_SIC = 1311"
   ]
  },
  {
   "cell_type": "code",
   "execution_count": 46,
   "metadata": {
    "collapsed": true
   },
   "outputs": [],
   "source": [
    "def industry_z_score(SIC_code, bad_tickers):\n",
    "    peer_group = cb.companies(SIC_codes=[SIC_code])\n",
    "    z_score_data = cb.normalized_dataframe(company_identifiers=list(peer_group.ticker), \n",
    "                                           metrics=z_score_metrics, \n",
    "                                           start_year=2008, start_period=0, \n",
    "                                           end_year=2014, end_period=0)\n",
    "    aggregate_data = z_score_data.sum(level=[0], axis=1)\n",
    "    return z_score(aggregate_data)"
   ]
  },
  {
   "cell_type": "code",
   "execution_count": 39,
   "metadata": {
    "collapsed": true
   },
   "outputs": [],
   "source": [
    "def z_score(inputs):\n",
    "    working_capital = inputs['CurrentAssets'] - inputs['CurrentLiabilities']\n",
    "    \n",
    "\n",
    "    z_score = (1.2 * (working_capital / inputs['Assets']) + \n",
    "              1.4 * (inputs['RetainedEarnings'] / inputs['Assets']) +\n",
    "              3.3 * (inputs['EBIT'] / inputs['Assets']) +\n",
    "              0.6 * (inputs['MarketCapAtEndOfPeriod'] / inputs['Liabilities']) +\n",
    "              .99 * (inputs['Revenue'] / inputs['Assets']))\n",
    "    \n",
    "    return z_score"
   ]
  },
  {
   "cell_type": "code",
   "execution_count": 40,
   "metadata": {
    "collapsed": false
   },
   "outputs": [
    {
     "data": {
      "text/plain": [
       "period\n",
       "2008      1.885423\n",
       "2009      1.684778\n",
       "2010      2.032320\n",
       "2011      1.789922\n",
       "2012      1.459113\n",
       "2013      1.692637\n",
       "2014      1.441063\n",
       "Freq: A-DEC, dtype: float64"
      ]
     },
     "execution_count": 40,
     "metadata": {},
     "output_type": "execute_result"
    }
   ],
   "source": [
    "z_score(z_score_data.sum(level=[0], axis=1))"
   ]
  },
  {
   "cell_type": "code",
   "execution_count": 83,
   "metadata": {
    "collapsed": false
   },
   "outputs": [
    {
     "data": {
      "text/plain": [
       "<matplotlib.axes.AxesSubplot at 0xba61f90>"
      ]
     },
     "execution_count": 83,
     "metadata": {},
     "output_type": "execute_result"
    },
    {
     "data": {
      "image/png": "[encoded data removed]",
      "text/plain": [
       "<matplotlib.figure.Figure at 0xca98830>"
      ]
     },
     "metadata": {},
     "output_type": "display_data"
    }
   ],
   "source": [
    "industry_z_score(1200).plot()"
   ]
  },
  {
   "cell_type": "code",
   "execution_count": 82,
   "metadata": {
    "collapsed": false
   },
   "outputs": [
    {
     "data": {
      "text/plain": [
       "<matplotlib.axes.AxesSubplot at 0xc943930>"
      ]
     },
     "execution_count": 82,
     "metadata": {},
     "output_type": "execute_result"
    },
    {
     "data": {
      "image/png": "[encoded data removed]",
      "text/plain": [
       "<matplotlib.figure.Figure at 0xc943d50>"
      ]
     },
     "metadata": {},
     "output_type": "display_data"
    }
   ],
   "source": [
    "industry_z_score(1300).plot()"
   ]
  },
  {
   "cell_type": "code",
   "execution_count": 53,
   "metadata": {
    "collapsed": true
   },
   "outputs": [],
   "source": [
    "peer_group = cb.companies(SIC_codes=[1000])\n",
    "z_score_data = cb.normalized_dataframe(company_identifiers=list(peer_group.ticker), \n",
    "                                       metrics=z_score_metrics, \n",
    "                                       start_year=2008, start_period=0, \n",
    "                                       end_year=2014, end_period=0)"
   ]
  },
  {
   "cell_type": "code",
   "execution_count": 54,
   "metadata": {
    "collapsed": false,
    "scrolled": true
   },
   "outputs": [
    {
     "data": {
      "text/html": [
       "<div style=\"max-height:1000px;max-width:1500px;overflow:auto;\">\n",
       "<table border=\"1\" class=\"dataframe\">\n",
       "  <thead>\n",
       "    <tr>\n",
       "      <th>metric</th>\n",
       "      <th colspan=\"10\" halign=\"left\">MarketCapAtEndOfPeriod</th>\n",
       "      <th>...</th>\n",
       "      <th colspan=\"10\" halign=\"left\">Assets</th>\n",
       "    </tr>\n",
       "    <tr>\n",
       "      <th>ticker</th>\n",
       "      <th>AAGC</th>\n",
       "      <th>ABHD</th>\n",
       "      <th>ABX</th>\n",
       "      <th>ADNT</th>\n",
       "      <th>AEM</th>\n",
       "      <th>AGPH</th>\n",
       "      <th>AIVN</th>\n",
       "      <th>ALTA</th>\n",
       "      <th>ALTO</th>\n",
       "      <th>AMCM</th>\n",
       "      <th>...</th>\n",
       "      <th>WCYN</th>\n",
       "      <th>WMTM</th>\n",
       "      <th>WMTN</th>\n",
       "      <th>WOLV</th>\n",
       "      <th>WSGP</th>\n",
       "      <th>XPL</th>\n",
       "      <th>XTGR</th>\n",
       "      <th>YKMN</th>\n",
       "      <th>YTRV</th>\n",
       "      <th>ZDVN</th>\n",
       "    </tr>\n",
       "    <tr>\n",
       "      <th>period</th>\n",
       "      <th></th>\n",
       "      <th></th>\n",
       "      <th></th>\n",
       "      <th></th>\n",
       "      <th></th>\n",
       "      <th></th>\n",
       "      <th></th>\n",
       "      <th></th>\n",
       "      <th></th>\n",
       "      <th></th>\n",
       "      <th></th>\n",
       "      <th></th>\n",
       "      <th></th>\n",
       "      <th></th>\n",
       "      <th></th>\n",
       "      <th></th>\n",
       "      <th></th>\n",
       "      <th></th>\n",
       "      <th></th>\n",
       "      <th></th>\n",
       "      <th></th>\n",
       "    </tr>\n",
       "  </thead>\n",
       "  <tbody>\n",
       "    <tr>\n",
       "      <th>2008</th>\n",
       "      <td>NaN</td>\n",
       "      <td>         NaN</td>\n",
       "      <td>NaN</td>\n",
       "      <td>NaN</td>\n",
       "      <td>NaN</td>\n",
       "      <td>NaN</td>\n",
       "      <td>NaN</td>\n",
       "      <td>NaN</td>\n",
       "      <td>NaN</td>\n",
       "      <td>NaN</td>\n",
       "      <td>...</td>\n",
       "      <td>     NaN</td>\n",
       "      <td>     NaN</td>\n",
       "      <td>     NaN</td>\n",
       "      <td>    NaN</td>\n",
       "      <td>    NaN</td>\n",
       "      <td>      NaN</td>\n",
       "      <td>      NaN</td>\n",
       "      <td>   NaN</td>\n",
       "      <td>   NaN</td>\n",
       "      <td>    NaN</td>\n",
       "    </tr>\n",
       "    <tr>\n",
       "      <th>2009</th>\n",
       "      <td>NaN</td>\n",
       "      <td>         NaN</td>\n",
       "      <td>NaN</td>\n",
       "      <td>NaN</td>\n",
       "      <td>NaN</td>\n",
       "      <td>NaN</td>\n",
       "      <td>NaN</td>\n",
       "      <td>NaN</td>\n",
       "      <td>NaN</td>\n",
       "      <td>NaN</td>\n",
       "      <td>...</td>\n",
       "      <td>     NaN</td>\n",
       "      <td>     NaN</td>\n",
       "      <td>     NaN</td>\n",
       "      <td>    NaN</td>\n",
       "      <td>    NaN</td>\n",
       "      <td>      NaN</td>\n",
       "      <td>      NaN</td>\n",
       "      <td>   NaN</td>\n",
       "      <td>   NaN</td>\n",
       "      <td>    NaN</td>\n",
       "    </tr>\n",
       "    <tr>\n",
       "      <th>2010</th>\n",
       "      <td>NaN</td>\n",
       "      <td>         NaN</td>\n",
       "      <td>NaN</td>\n",
       "      <td>NaN</td>\n",
       "      <td>NaN</td>\n",
       "      <td>NaN</td>\n",
       "      <td>NaN</td>\n",
       "      <td>NaN</td>\n",
       "      <td>NaN</td>\n",
       "      <td>NaN</td>\n",
       "      <td>...</td>\n",
       "      <td> 2576653</td>\n",
       "      <td> 7309065</td>\n",
       "      <td>  675781</td>\n",
       "      <td>  32359</td>\n",
       "      <td>  17367</td>\n",
       "      <td> 29608000</td>\n",
       "      <td> 13019905</td>\n",
       "      <td> 17457</td>\n",
       "      <td>   NaN</td>\n",
       "      <td>    416</td>\n",
       "    </tr>\n",
       "    <tr>\n",
       "      <th>2011</th>\n",
       "      <td>NaN</td>\n",
       "      <td>         NaN</td>\n",
       "      <td>NaN</td>\n",
       "      <td>NaN</td>\n",
       "      <td>NaN</td>\n",
       "      <td>NaN</td>\n",
       "      <td>NaN</td>\n",
       "      <td>NaN</td>\n",
       "      <td>NaN</td>\n",
       "      <td>NaN</td>\n",
       "      <td>...</td>\n",
       "      <td>   30036</td>\n",
       "      <td> 5341349</td>\n",
       "      <td> 1277857</td>\n",
       "      <td>   8074</td>\n",
       "      <td>   4417</td>\n",
       "      <td> 22054000</td>\n",
       "      <td>  9823316</td>\n",
       "      <td>   532</td>\n",
       "      <td>   360</td>\n",
       "      <td>    188</td>\n",
       "    </tr>\n",
       "    <tr>\n",
       "      <th>2012</th>\n",
       "      <td>NaN</td>\n",
       "      <td> 56235383.64</td>\n",
       "      <td>NaN</td>\n",
       "      <td>NaN</td>\n",
       "      <td>NaN</td>\n",
       "      <td>NaN</td>\n",
       "      <td>NaN</td>\n",
       "      <td>NaN</td>\n",
       "      <td>NaN</td>\n",
       "      <td>NaN</td>\n",
       "      <td>...</td>\n",
       "      <td>     NaN</td>\n",
       "      <td> 4217334</td>\n",
       "      <td> 1229192</td>\n",
       "      <td>   3354</td>\n",
       "      <td>   4010</td>\n",
       "      <td> 23483000</td>\n",
       "      <td>  4836377</td>\n",
       "      <td>   NaN</td>\n",
       "      <td> 37500</td>\n",
       "      <td> 506173</td>\n",
       "    </tr>\n",
       "    <tr>\n",
       "      <th>2013</th>\n",
       "      <td>NaN</td>\n",
       "      <td> 33263100.71</td>\n",
       "      <td>NaN</td>\n",
       "      <td>NaN</td>\n",
       "      <td>NaN</td>\n",
       "      <td>NaN</td>\n",
       "      <td>NaN</td>\n",
       "      <td>NaN</td>\n",
       "      <td>NaN</td>\n",
       "      <td>NaN</td>\n",
       "      <td>...</td>\n",
       "      <td>     NaN</td>\n",
       "      <td> 4803748</td>\n",
       "      <td> 1501259</td>\n",
       "      <td> 203438</td>\n",
       "      <td>  19300</td>\n",
       "      <td> 19500000</td>\n",
       "      <td>  3616752</td>\n",
       "      <td>   NaN</td>\n",
       "      <td>   NaN</td>\n",
       "      <td> 576931</td>\n",
       "    </tr>\n",
       "    <tr>\n",
       "      <th>2014</th>\n",
       "      <td>NaN</td>\n",
       "      <td> 19192040.56</td>\n",
       "      <td>NaN</td>\n",
       "      <td>NaN</td>\n",
       "      <td>NaN</td>\n",
       "      <td>NaN</td>\n",
       "      <td>NaN</td>\n",
       "      <td>NaN</td>\n",
       "      <td>NaN</td>\n",
       "      <td>NaN</td>\n",
       "      <td>...</td>\n",
       "      <td>     NaN</td>\n",
       "      <td> 1994870</td>\n",
       "      <td> 3783404</td>\n",
       "      <td>  98920</td>\n",
       "      <td> 122683</td>\n",
       "      <td> 19040000</td>\n",
       "      <td>  2713212</td>\n",
       "      <td>   NaN</td>\n",
       "      <td>   NaN</td>\n",
       "      <td> 116327</td>\n",
       "    </tr>\n",
       "  </tbody>\n",
       "</table>\n",
       "<p>7 rows × 2416 columns</p>\n",
       "</div>"
      ],
      "text/plain": [
       "metric MarketCapAtEndOfPeriod                                                \\\n",
       "ticker                   AAGC         ABHD ABX ADNT AEM AGPH AIVN ALTA ALTO   \n",
       "period                                                                        \n",
       "2008                      NaN          NaN NaN  NaN NaN  NaN  NaN  NaN  NaN   \n",
       "2009                      NaN          NaN NaN  NaN NaN  NaN  NaN  NaN  NaN   \n",
       "2010                      NaN          NaN NaN  NaN NaN  NaN  NaN  NaN  NaN   \n",
       "2011                      NaN          NaN NaN  NaN NaN  NaN  NaN  NaN  NaN   \n",
       "2012                      NaN  56235383.64 NaN  NaN NaN  NaN  NaN  NaN  NaN   \n",
       "2013                      NaN  33263100.71 NaN  NaN NaN  NaN  NaN  NaN  NaN   \n",
       "2014                      NaN  19192040.56 NaN  NaN NaN  NaN  NaN  NaN  NaN   \n",
       "\n",
       "metric        ...     Assets                                              \\\n",
       "ticker AMCM   ...       WCYN     WMTM     WMTN    WOLV    WSGP       XPL   \n",
       "period        ...                                                          \n",
       "2008    NaN   ...        NaN      NaN      NaN     NaN     NaN       NaN   \n",
       "2009    NaN   ...        NaN      NaN      NaN     NaN     NaN       NaN   \n",
       "2010    NaN   ...    2576653  7309065   675781   32359   17367  29608000   \n",
       "2011    NaN   ...      30036  5341349  1277857    8074    4417  22054000   \n",
       "2012    NaN   ...        NaN  4217334  1229192    3354    4010  23483000   \n",
       "2013    NaN   ...        NaN  4803748  1501259  203438   19300  19500000   \n",
       "2014    NaN   ...        NaN  1994870  3783404   98920  122683  19040000   \n",
       "\n",
       "metric                                  \n",
       "ticker      XTGR   YKMN   YTRV    ZDVN  \n",
       "period                                  \n",
       "2008         NaN    NaN    NaN     NaN  \n",
       "2009         NaN    NaN    NaN     NaN  \n",
       "2010    13019905  17457    NaN     416  \n",
       "2011     9823316    532    360     188  \n",
       "2012     4836377    NaN  37500  506173  \n",
       "2013     3616752    NaN    NaN  576931  \n",
       "2014     2713212    NaN    NaN  116327  \n",
       "\n",
       "[7 rows x 2416 columns]"
      ]
     },
     "execution_count": 54,
     "metadata": {},
     "output_type": "execute_result"
    }
   ],
   "source": [
    "z_score_data"
   ]
  },
  {
   "cell_type": "code",
   "execution_count": 56,
   "metadata": {
    "collapsed": false
   },
   "outputs": [
    {
     "data": {
      "text/plain": [
       "<matplotlib.axes.AxesSubplot at 0xa40ef70>"
      ]
     },
     "execution_count": 56,
     "metadata": {},
     "output_type": "execute_result"
    },
    {
     "data": {
      "image/png": "[encoded data removed]",
      "text/plain": [
       "<matplotlib.figure.Figure at 0xb5f0570>"
      ]
     },
     "metadata": {},
     "output_type": "display_data"
    }
   ],
   "source": [
    "z_score_data.sum(level=[0], axis=1).plot()"
   ]
  },
  {
   "cell_type": "code",
   "execution_count": null,
   "metadata": {
    "collapsed": true
   },
   "outputs": [],
   "source": []
  }
 ],
 "metadata": {
  "kernelspec": {
   "display_name": "Python 3",
   "language": "python",
   "name": "python3"
  },
  "language_info": {
   "codemirror_mode": {
    "name": "ipython",
    "version": 3
   },
   "file_extension": ".py",
   "mimetype": "text/x-python",
   "name": "python",
   "nbconvert_exporter": "python",
   "pygments_lexer": "ipython3",
   "version": "3.4.0"
  }
 },
 "nbformat": 4,
 "nbformat_minor": 0
}
