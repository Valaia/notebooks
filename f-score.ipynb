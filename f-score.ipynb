{
 "cells": [
  {
   "cell_type": "markdown",
   "metadata": {},
   "source": [
    "## [Originahttps://poseidon01.ssrn.com/delivery.php?ID=556009073006105088000122086073105078024081022041024036031090115103120083014070085024099002021039108007045065097003086091003112104036001013036115108029089018008107000061062003088073093002097123117025122099081111118125007118076120069029016119120082027&EXT=pdf"
   ]
  },
  {
   "cell_type": "code",
   "execution_count": 43,
   "metadata": {},
   "outputs": [],
   "source": [
    "import calcbench as cb\n",
    "import pandas as pd"
   ]
  },
  {
   "cell_type": "code",
   "execution_count": 88,
   "metadata": {},
   "outputs": [],
   "source": [
    "metrics = ['Assets', \n",
    "           'Liabilities',\n",
    "           'CurrentAssets', \n",
    "           'Cash', \n",
    "           'ShortTermInvestments', \n",
    "           'CurrentLiabilities', \n",
    "           'CurrentLongTermDebt', \n",
    "           'LongTermDebt',\n",
    "           'PreferredStockValue',\n",
    "           'AccountsReceivable',\n",
    "           'Inventory',\n",
    "           'PPE',\n",
    "           'NetIncome',\n",
    "           'SharesIssued',\n",
    "           'LoansReceivable',\n",
    "           'LongTermInvestments',\n",
    "           'Revenue']"
   ]
  },
  {
   "cell_type": "code",
   "execution_count": 52,
   "metadata": {},
   "outputs": [],
   "source": [
    "tickers = cb.tickers(index='DJIA')"
   ]
  },
  {
   "cell_type": "code",
   "execution_count": 90,
   "metadata": {},
   "outputs": [],
   "source": [
    "data = cb.standardized_data(company_identifiers=tickers, metrics=metrics, all_history=True, period_type='annual').fillna(0)"
   ]
  },
  {
   "cell_type": "code",
   "execution_count": 84,
   "metadata": {},
   "outputs": [],
   "source": [
    "average_total_assets = ((data['Assets'] + data.shift(1)['Assets']) / 2)"
   ]
  },
  {
   "cell_type": "code",
   "execution_count": 65,
   "metadata": {},
   "outputs": [],
   "source": [
    "#Working Capital\n",
    "WC = data['CurrentAssets'] - data['Cash'] - data['CurrentLiabilities'] - data['CurrentLongTermDebt'] "
   ]
  },
  {
   "cell_type": "code",
   "execution_count": 66,
   "metadata": {},
   "outputs": [],
   "source": [
    "#Net Charge Offs\n",
    "investments_and_advances = data['LoansReceivable'] # This is probably not totally correct.  The paper says Investments and Advances is DATA 32 from CompuStat\n",
    "NCO = (data['Assets'] - data['CurrentAssets'] - investments_and_advances) - (data['Liabilities'] - data['CurrentLiabilities'] - data['LongTermDebt'])"
   ]
  },
  {
   "cell_type": "code",
   "execution_count": 67,
   "metadata": {},
   "outputs": [],
   "source": [
    "FIN = (data['ShortTermInvestments'] + data['LongTermInvestments']) - (data['LongTermDebt'] + data['CurrentLongTermDebt'] + data['PreferredStockValue'])"
   ]
  },
  {
   "cell_type": "code",
   "execution_count": 83,
   "metadata": {},
   "outputs": [],
   "source": [
    "RSST_Accruals = (WC.diff() + NCO.diff() + FIN.diff()) / average_total_assets"
   ]
  },
  {
   "cell_type": "code",
   "execution_count": 40,
   "metadata": {},
   "outputs": [],
   "source": [
    "percent_soft_assets = (data['Assets'] - data['PPE']) / data['Assets']"
   ]
  },
  {
   "cell_type": "code",
   "execution_count": 60,
   "metadata": {},
   "outputs": [],
   "source": [
    "issued_shares = data['SharesIssued'].diff() > 0"
   ]
  },
  {
   "cell_type": "code",
   "execution_count": 85,
   "metadata": {},
   "outputs": [],
   "source": [
    "change_inventory = data['Inventory'].diff() / average_total_assets"
   ]
  },
  {
   "cell_type": "code",
   "execution_count": 86,
   "metadata": {},
   "outputs": [],
   "source": [
    "change_receivables = data['AccountsReceivable'] / average_total_assets"
   ]
  },
  {
   "cell_type": "code",
   "execution_count": 92,
   "metadata": {},
   "outputs": [],
   "source": [
    "change_cash_sales = data['Revenue'] - data['AccountsReceivable'].diff()"
   ]
  },
  {
   "cell_type": "code",
   "execution_count": 97,
   "metadata": {},
   "outputs": [],
   "source": [
    "ROA = data['NetIncome'] / average_total_assets"
   ]
  },
  {
   "cell_type": "code",
   "execution_count": 87,
   "metadata": {},
   "outputs": [],
   "source": [
    "intercept = -7.893"
   ]
  },
  {
   "cell_type": "code",
   "execution_count": 101,
   "metadata": {},
   "outputs": [],
   "source": [
    "m_score = intercept + (.79 * RSST_Accruals) + (2.518 * change_receivables) + (1.191 * change_inventory) + (1.979 * percent_soft_assets) + (.171 * change_cash_sales) + (-.932 * ROA.diff()) + (1.029 * issued_shares)"
   ]
  },
  {
   "cell_type": "code",
   "execution_count": null,
   "metadata": {},
   "outputs": [],
   "source": []
  }
 ],
 "metadata": {
  "kernelspec": {
   "display_name": "Python 3",
   "language": "python",
   "name": "python3"
  },
  "language_info": {
   "codemirror_mode": {
    "name": "ipython",
    "version": 3
   },
   "file_extension": ".py",
   "mimetype": "text/x-python",
   "name": "python",
   "nbconvert_exporter": "python",
   "pygments_lexer": "ipython3",
   "version": "3.7.1"
  }
 },
 "nbformat": 4,
 "nbformat_minor": 2
}
