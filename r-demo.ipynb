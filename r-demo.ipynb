{
 "cells": [
  {
   "cell_type": "code",
   "execution_count": 3,
   "metadata": {},
   "outputs": [],
   "source": [
    "library(httr)"
   ]
  },
  {
   "cell_type": "code",
   "execution_count": 1,
   "metadata": {},
   "outputs": [],
   "source": [
    "response <- httr::POST('https://www.calcbench.com/account/LogOnAjax', \n",
    "                 body = list(email = Sys.getenv(\"CALCBENCH_USERNAME\"), strng = Sys.getenv(\"CALCBENCH_PASSWORD\")), \n",
    "                 encode = 'json')"
   ]
  },
  {
   "cell_type": "code",
   "execution_count": 4,
   "metadata": {},
   "outputs": [
    {
     "data": {
      "text/html": [
       "TRUE"
      ],
      "text/latex": [
       "TRUE"
      ],
      "text/markdown": [
       "TRUE"
      ],
      "text/plain": [
       "[1] TRUE"
      ]
     },
     "metadata": {},
     "output_type": "display_data"
    }
   ],
   "source": [
    "content(response)"
   ]
  },
  {
   "cell_type": "code",
   "execution_count": 118,
   "metadata": {},
   "outputs": [],
   "source": [
    "companiesResponse <- POST('https://www.calcbench.com/api/companies', body = list(index = jsonlite::unbox('DJIA')), encode='json')"
   ]
  },
  {
   "cell_type": "code",
   "execution_count": 10,
   "metadata": {},
   "outputs": [
    {
     "data": {
      "text/html": [
       "<dl>\n",
       "\t<dt>$footnotes</dt>\n",
       "\t\t<dd><ol>\n",
       "</ol>\n",
       "</dd>\n",
       "\t<dt>$nextGroupStartEntityID</dt>\n",
       "\t\t<dd>0</dd>\n",
       "\t<dt>$nextGroupStartOffset</dt>\n",
       "\t\t<dd>0</dd>\n",
       "\t<dt>$moreResults</dt>\n",
       "\t\t<dd>FALSE</dd>\n",
       "</dl>\n"
      ],
      "text/latex": [
       "\\begin{description}\n",
       "\\item[\\$footnotes] \\begin{enumerate}\n",
       "\\end{enumerate}\n",
       "\n",
       "\\item[\\$nextGroupStartEntityID] 0\n",
       "\\item[\\$nextGroupStartOffset] 0\n",
       "\\item[\\$moreResults] FALSE\n",
       "\\end{description}\n"
      ],
      "text/markdown": [
       "$footnotes\n",
       ":   \n",
       "\n",
       "\n",
       "$nextGroupStartEntityID\n",
       ":   0\n",
       "$nextGroupStartOffset\n",
       ":   0\n",
       "$moreResults\n",
       ":   FALSE\n",
       "\n",
       "\n"
      ],
      "text/plain": [
       "$footnotes\n",
       "list()\n",
       "\n",
       "$nextGroupStartEntityID\n",
       "[1] 0\n",
       "\n",
       "$nextGroupStartOffset\n",
       "[1] 0\n",
       "\n",
       "$moreResults\n",
       "[1] FALSE\n"
      ]
     },
     "metadata": {},
     "output_type": "display_data"
    }
   ],
   "source": [
    "documentBody <- list(                                               \n",
    "    pageParameters = list(footnoteType = jsonlite::unbox(1110)),                                               \n",
    "    companiesParameters = list(companyIdentifiers = list(jsonlite::unbox(\"820901\"))),                                               \n",
    "    periodParameters = list(year = jsonlite::unbox(2016), period = jsonlite::unbox(0), period_type = jsonlite::unbox('annual'))\n",
    "                                          )\n",
    "documentSearchResponse <- POST('https://www.calcbench.com/api/footnoteSearch', \n",
    "                               body = documentBody,\n",
    "                              encode='json')\n",
    "content(documentSearchResponse)"
   ]
  },
  {
   "cell_type": "code",
   "execution_count": null,
   "metadata": {},
   "outputs": [],
   "source": []
  }
 ],
 "metadata": {
  "kernelspec": {
   "display_name": "R",
   "language": "R",
   "name": "ir"
  },
  "language_info": {
   "codemirror_mode": "r",
   "file_extension": ".r",
   "mimetype": "text/x-r-source",
   "name": "R",
   "pygments_lexer": "r",
   "version": "3.2.4"
  }
 },
 "nbformat": 4,
 "nbformat_minor": 2
}
