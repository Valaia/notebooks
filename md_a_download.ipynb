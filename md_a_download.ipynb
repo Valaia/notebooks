{
 "cells": [
  {
   "cell_type": "code",
   "execution_count": null,
   "metadata": {
    "collapsed": false
   },
   "outputs": [],
   "source": [
    "import calcbench as cb\n",
    "from IPython.core.display import display, HTML"
   ]
  },
  {
   "cell_type": "code",
   "execution_count": null,
   "metadata": {
    "collapsed": true
   },
   "outputs": [],
   "source": [
    "tickers = cb.tickers(index='DJIA')"
   ]
  },
  {
   "cell_type": "code",
   "execution_count": null,
   "metadata": {
    "collapsed": false
   },
   "outputs": [],
   "source": [
    "Management_Discussion_and_Analysis_Document_Type = 2700\n",
    "for ticker in tickers:\n",
    "    found_document = list(cb.document_search(company_identifiers=[ticker], \n",
    "                                             document_type=Management_Discussion_and_Analysis_Document_Type, \n",
    "                                             year=2014, period=0))\n",
    "    print(ticker)\n",
    "    if found_document:\n",
    "        display(HTML(cb.document_contents(blob_id=d['blob_id'], SEC_ID=d['sec_filing_id'])))"
   ]
  },
  {
   "cell_type": "code",
   "execution_count": null,
   "metadata": {
    "collapsed": false
   },
   "outputs": [],
   "source": []
  }
 ],
 "metadata": {
  "kernelspec": {
   "display_name": "Python 3",
   "language": "python",
   "name": "python3"
  },
  "language_info": {
   "codemirror_mode": {
    "name": "ipython",
    "version": 3
   },
   "file_extension": ".py",
   "mimetype": "text/x-python",
   "name": "python",
   "nbconvert_exporter": "python",
   "pygments_lexer": "ipython3",
   "version": "3.5.1"
  }
 },
 "nbformat": 4,
 "nbformat_minor": 1
}
