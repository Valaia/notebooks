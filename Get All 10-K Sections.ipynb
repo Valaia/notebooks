{
 "cells": [
  {
   "cell_type": "code",
   "execution_count": null,
   "metadata": {},
   "outputs": [],
   "source": [
    "import calcbench as cb\n",
    "from datetime import date, timedelta\n",
    "from tqdm import tqdm, tqdm_notebook\n",
    "cb.enable_backoff()"
   ]
  },
  {
   "cell_type": "code",
   "execution_count": null,
   "metadata": {},
   "outputs": [],
   "source": [
    "tenKQsections = [d['name'] for d in cb.document_types()['tenKQSections']]"
   ]
  },
  {
   "cell_type": "code",
   "execution_count": null,
   "metadata": {},
   "outputs": [],
   "source": [
    "tickers = cb.tickers(index='DJIA')"
   ]
  },
  {
   "cell_type": "code",
   "execution_count": null,
   "metadata": {},
   "outputs": [],
   "source": [
    "for ticker in tqdm_notebook(tickers, leave=False):\n",
    "    docs = cb.document_search(company_identifiers=[ticker], \n",
    "                              disclosure_names=tenKQsections, \n",
    "                              all_history=True, \n",
    "                              period_type='quarterly')\n",
    "    for document in docs:\n",
    "        contents = document.get_contents_text()\n",
    "        print(\"{0} {1[fiscal_year]}-{1[fiscal_period]} {1[disclosure_type_name]}, Word Count {2}\".format(ticker, document, len(contents.split())))"
   ]
  },
  {
   "cell_type": "markdown",
   "metadata": {},
   "source": [
    "# Recent Filings"
   ]
  },
  {
   "cell_type": "code",
   "execution_count": null,
   "metadata": {},
   "outputs": [],
   "source": [
    "all_10_K_Q_sections = cb.document_types()['tenKQSections']\n",
    "yesterday = date.today() - timedelta(1)\n",
    "docs = cb.document_search(updated_from=yesterday, entire_universe=True, disclosure_names=tenKQsections)\n",
    "for document in docs:\n",
    "    contents = document.get_contents_text()\n",
    "    print(\"{0[ticker]} {0[fiscal_year]}-{0[fiscal_period]} Reported {0[date_reported]} {0[disclosure_type_name]}, Word Count {1}\".format(document, len(contents.split())))"
   ]
  },
  {
   "cell_type": "code",
   "execution_count": null,
   "metadata": {},
   "outputs": [],
   "source": []
  }
 ],
 "metadata": {
  "kernelspec": {
   "display_name": "Python 3",
   "language": "python",
   "name": "python3"
  },
  "language_info": {
   "codemirror_mode": {
    "name": "ipython",
    "version": 3
   },
   "file_extension": ".py",
   "mimetype": "text/x-python",
   "name": "python",
   "nbconvert_exporter": "python",
   "pygments_lexer": "ipython3",
   "version": "3.7.3"
  }
 },
 "nbformat": 4,
 "nbformat_minor": 2
}
