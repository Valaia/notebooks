{
 "cells": [
  {
   "cell_type": "code",
   "execution_count": null,
   "metadata": {},
   "outputs": [],
   "source": [
    "import calcbench as cb\n",
    "from IPython.core.display import display, HTML\n",
    "import json\n",
    "import itertools\n",
    "from tqdm import tqdm, tqdm_notebook\n",
    "import random\n",
    "import urllib.error\n",
    "import requests"
   ]
  },
  {
   "cell_type": "code",
   "execution_count": null,
   "metadata": {},
   "outputs": [],
   "source": [
    "disclosure_types = json.loads('[{\"arcrole\":1100,\"name\":\"Business Description\",\"shortName\":\"Business Description\",\"tags\":null,\"longName\":\"Business Description\"},{\"arcrole\":1110,\"name\":\"Risk Factors\",\"shortName\":\"Risk Factors\",\"tags\":null,\"longName\":\"Risk Factors\"},{\"arcrole\":1120,\"name\":\"Unresolved SEC Comments\",\"shortName\":\"Unresolved Comments\",\"tags\":null,\"longName\":\"Unresolved SEC Comments\"},{\"arcrole\":1200,\"name\":\"Properties\",\"shortName\":\"Properties\",\"tags\":null,\"longName\":\"Properties\"},{\"arcrole\":1300,\"name\":\"Legal Proceedings\",\"shortName\":\"Legal Proceedings\",\"tags\":null,\"longName\":\"Legal Proceedings\"},{\"arcrole\":2410,\"name\":\"Executive Officers\",\"shortName\":\"Executive Officers\",\"tags\":null,\"longName\":\"Executive Officers\"},{\"arcrole\":2300,\"name\":\"Defaults Upon Senior Securities\",\"shortName\":\"Defaults\",\"tags\":null,\"longName\":\"Defaults Upon Senior Securities\"},{\"arcrole\":2500,\"name\":\"Market For Registrants Common Equity\",\"shortName\":\"Market For Equity\",\"tags\":null,\"longName\":\"Market For Registrants Common Equity\"},{\"arcrole\":2600,\"name\":\"Selected Financial Data\",\"shortName\":\"Selected Data\",\"tags\":null,\"longName\":\"Selected Financial Data\"},{\"arcrole\":2700,\"name\":\"Management\\u0027s Discussion And Analysis\",\"shortName\":\"MD\\u0026A\",\"tags\":null,\"longName\":\"Management\\u0027s Discussion And Analysis\"},{\"arcrole\":2710,\"name\":\"Disclosures About Market Risk\",\"shortName\":\"Market Risk\",\"tags\":null,\"longName\":\"Disclosures About Market Risk\"},{\"arcrole\":2810,\"name\":\"Report Of Independent Registered Public Accounting Firm\",\"shortName\":\"Auditor\\u0027s Report\",\"tags\":null,\"longName\":\"Report Of Independent Registered Public Accounting Firm\"},{\"arcrole\":2900,\"name\":\"Changes In And Disagreements With Accountants\",\"shortName\":\"Auditor Changes/Disagreements\",\"tags\":null,\"longName\":\"Changes In And Disagreements With Accountants\"},{\"arcrole\":2910,\"name\":\"Controls And Procedures\",\"shortName\":\"Controls And Procedures\",\"tags\":null,\"longName\":\"Controls And Procedures\"},{\"arcrole\":2920,\"name\":\"Other Information\",\"shortName\":\"Other Information\",\"tags\":null,\"longName\":\"Other Information\"},{\"arcrole\":3100,\"name\":\"Corporate Governance\",\"shortName\":\"Corporate Governance\",\"tags\":null,\"longName\":\"Corporate Governance\"},{\"arcrole\":3120,\"name\":\"Security Ownership\",\"shortName\":\"Security Ownership\",\"tags\":null,\"longName\":\"Security Ownership\"},{\"arcrole\":3130,\"name\":\"Relationships\",\"shortName\":\"Relationships\",\"tags\":null,\"longName\":\"Relationships\"}]')\n",
    "disclosure_name_to_disclosure_type = {d['name'] : d['arcrole'] for d in disclosure_types}"
   ]
  },
  {
   "cell_type": "code",
   "execution_count": null,
   "metadata": {},
   "outputs": [],
   "source": [
    "periods = [(year, period) for year in range(2010, 2018) for period in [0, 1, 2, 3]]"
   ]
  },
  {
   "cell_type": "code",
   "execution_count": null,
   "metadata": {},
   "outputs": [],
   "source": [
    "get_doc_contents = lambda doc : cb.document_contents(blob_id=doc['blob_id'], SEC_ID=doc['sec_filing_id'])"
   ]
  },
  {
   "cell_type": "code",
   "execution_count": null,
   "metadata": {},
   "outputs": [],
   "source": [
    "def get_documents_all_companies(disclosure_type, year, period):\n",
    "    try:\n",
    "        found_documents = list(cb.document_search(entire_universe=True, document_type=disclosure_type, year=year, period=period))\n",
    "    except requests.RequestException:\n",
    "        print(disclosure_type, year, period)\n",
    "        return\n",
    "    docs = []\n",
    "    for  doc in tqdm_notebook(found_documents, desc=\"{0} {1}-{2}\".format(disclosure_type, year, period), leave=False):\n",
    "        try:            \n",
    "            docs.append(get_doc_contents(doc))\n",
    "        except requests.RequestException:\n",
    "            print(disclosure_type, year, period, doc)"
   ]
  },
  {
   "cell_type": "code",
   "execution_count": null,
   "metadata": {},
   "outputs": [],
   "source": [
    "test_doc_periods = list(itertools.product(disclosure_types, periods))"
   ]
  },
  {
   "cell_type": "code",
   "execution_count": null,
   "metadata": {},
   "outputs": [],
   "source": [
    "for test_doc, period in tqdm_notebook(test_doc_periods, desc=\"period loop\"):\n",
    "    get_documents_all_companies(test_doc['arcrole'], year=period[0], period=period[1])"
   ]
  },
  {
   "cell_type": "code",
   "execution_count": null,
   "metadata": {},
   "outputs": [],
   "source": []
  }
 ],
 "metadata": {
  "kernelspec": {
   "display_name": "Python 3",
   "language": "python",
   "name": "python3"
  },
  "language_info": {
   "codemirror_mode": {
    "name": "ipython",
    "version": 3
   },
   "file_extension": ".py",
   "mimetype": "text/x-python",
   "name": "python",
   "nbconvert_exporter": "python",
   "pygments_lexer": "ipython3",
   "version": "3.5.1"
  }
 },
 "nbformat": 4,
 "nbformat_minor": 1
}
