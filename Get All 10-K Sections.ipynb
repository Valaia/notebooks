{
 "cells": [
  {
   "cell_type": "code",
   "execution_count": null,
   "metadata": {
    "collapsed": true
   },
   "outputs": [],
   "source": [
    "import calcbench as cb\n",
    "from IPython.core.display import display, HTML\n",
    "import json\n",
    "import itertools\n",
    "from tqdm import tqdm, tqdm_notebook\n",
    "import random\n",
    "import urllib.error\n",
    "import requests\n",
    "import sys\n",
    "from bs4 import BeautifulSoup\n",
    "import backoff\n",
    "import logging\n",
    "logging.getLogger('backoff').addHandler(logging.StreamHandler())\n",
    "logging.getLogger('backoff').setLevel(logging.INFO)"
   ]
  },
  {
   "cell_type": "code",
   "execution_count": null,
   "metadata": {
    "collapsed": true
   },
   "outputs": [],
   "source": [
    "tenKQsections = cb.document_types()['tenKQSections']"
   ]
  },
  {
   "cell_type": "code",
   "execution_count": null,
   "metadata": {
    "collapsed": true
   },
   "outputs": [],
   "source": [
    "periods = [(year, period) for year in range(2010, 2018) for period in [0, 1, 2, 3]]"
   ]
  },
  {
   "cell_type": "code",
   "execution_count": null,
   "metadata": {
    "collapsed": true
   },
   "outputs": [],
   "source": [
    "missing_docs = []\n",
    "def get_documents(disclosure_name, year, period, company_identifiers=[]):\n",
    "    total_length = 0\n",
    "    text_length = 0\n",
    "    entire_universe = not company_identifiers\n",
    "    try:\n",
    "        found_documents = doc_search(company_identifiers=company_identifiers,\n",
    "                                      entire_universe=entire_universe, \n",
    "                                      document_name=disclosure_name, \n",
    "                                      year=year, \n",
    "                                      period=period)\n",
    "    except requests.RequestException:\n",
    "        print(disclosure_type, year, period)\n",
    "    else:\n",
    "        contents_length = 0\n",
    "        docs = []\n",
    "        for  doc in tqdm_notebook(found_documents, desc=\"{0} {1}-{2}\".format(disclosure_name, year, period), leave=False):\n",
    "            try:\n",
    "                contents = get_doc_contents(doc)\n",
    "                total_length = total_length + len(contents)\n",
    "                text_length += len(BeautifulSoup(contents, 'html.parser').text)\n",
    "            except requests.RequestException:\n",
    "                missing_docs.append(doc)\n",
    "            except json.JSONDecodeError:\n",
    "                print(disclosure_name, year, period, doc['ticker'])\n",
    "    return total_length, text_length"
   ]
  },
  {
   "cell_type": "code",
   "execution_count": null,
   "metadata": {
    "collapsed": true
   },
   "outputs": [],
   "source": [
    "@backoff.on_exception(backoff.expo, (requests.exceptions.RequestException), 8)\n",
    "def doc_search(*args, **kwargs):\n",
    "    return list(cb.document_search(*args, **kwargs))"
   ]
  },
  {
   "cell_type": "code",
   "execution_count": null,
   "metadata": {
    "collapsed": true
   },
   "outputs": [],
   "source": [
    "@backoff.on_exception(backoff.expo, (requests.exceptions.RequestException), 8)\n",
    "def get_doc_contents(doc):\n",
    "    return doc.get_contents()"
   ]
  },
  {
   "cell_type": "code",
   "execution_count": null,
   "metadata": {
    "collapsed": true
   },
   "outputs": [],
   "source": [
    "sample_sections = [section for section in tenKQsections]"
   ]
  },
  {
   "cell_type": "code",
   "execution_count": null,
   "metadata": {
    "collapsed": true
   },
   "outputs": [],
   "source": [
    "test_doc_periods = list(itertools.product(sample_sections, periods))"
   ]
  },
  {
   "cell_type": "code",
   "execution_count": null,
   "metadata": {
    "collapsed": true
   },
   "outputs": [],
   "source": [
    "total_length = 0\n",
    "for test_doc, period in tqdm_notebook(test_doc_periods, desc=\"period loop\"):\n",
    "    total_length, text_length = get_documents(test_doc['name'], year=period[0], period=period[1])"
   ]
  },
  {
   "cell_type": "code",
   "execution_count": null,
   "metadata": {
    "collapsed": true
   },
   "outputs": [],
   "source": []
  }
 ],
 "metadata": {
  "kernelspec": {
   "display_name": "Python 3",
   "language": "python",
   "name": "python3"
  },
  "language_info": {
   "codemirror_mode": {
    "name": "ipython",
    "version": 3
   },
   "file_extension": ".py",
   "mimetype": "text/x-python",
   "name": "python",
   "nbconvert_exporter": "python",
   "pygments_lexer": "ipython3",
   "version": "3.5.1"
  }
 },
 "nbformat": 4,
 "nbformat_minor": 1
}
