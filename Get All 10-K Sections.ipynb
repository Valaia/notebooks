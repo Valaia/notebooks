{
 "cells": [
  {
   "cell_type": "code",
   "execution_count": 20,
   "metadata": {
    "collapsed": true
   },
   "outputs": [],
   "source": [
    "import calcbench as cb\n",
    "from IPython.core.display import display, HTML\n",
    "import json\n",
    "import itertools\n",
    "from tqdm import tqdm, tqdm_notebook\n",
    "import random\n",
    "import urllib.error\n",
    "import requests\n",
    "import sys\n",
    "from bs4 import BeautifulSoup"
   ]
  },
  {
   "cell_type": "code",
   "execution_count": 12,
   "metadata": {
    "collapsed": true
   },
   "outputs": [],
   "source": [
    "cb.api_client._rig_for_testing()"
   ]
  },
  {
   "cell_type": "code",
   "execution_count": 6,
   "metadata": {
    "collapsed": true
   },
   "outputs": [],
   "source": [
    "tenKQsections = cb.document_types()['tenKQSections']\n",
    "disclosure_name_to_disclosure_type = {d['name'] : d['arcrole'] for d in tenKQsections}"
   ]
  },
  {
   "cell_type": "code",
   "execution_count": 9,
   "metadata": {},
   "outputs": [
    {
     "data": {
      "text/plain": [
       "18"
      ]
     },
     "execution_count": 9,
     "metadata": {},
     "output_type": "execute_result"
    }
   ],
   "source": [
    "len([s['name'] for s in tenKQsections])"
   ]
  },
  {
   "cell_type": "code",
   "execution_count": 16,
   "metadata": {},
   "outputs": [
    {
     "data": {
      "text/plain": [
       "18"
      ]
     },
     "execution_count": 16,
     "metadata": {},
     "output_type": "execute_result"
    }
   ],
   "source": [
    "len(bens_sections)"
   ]
  },
  {
   "cell_type": "code",
   "execution_count": 14,
   "metadata": {
    "collapsed": true
   },
   "outputs": [],
   "source": [
    "bens_sections = '''business_description\n",
    "changes_in_and_disagreements_with_accountants\n",
    "controls_and_procedures\n",
    "corporate_governance\n",
    "defaults_upon_senior_securities\n",
    "disclosures_about_market_risk\n",
    "executive_officers\n",
    "legal_proceedings\n",
    "management_s_discussion_and_analysis\n",
    "market_for_registrants_common_equity\n",
    "other_information\n",
    "properties\n",
    "relationships\n",
    "report_of_independent_registered_public_accounting_firm\n",
    "risk_factors\n",
    "security_ownership\n",
    "selected_financial_data\n",
    "unresolved_sec_comments\n",
    "'''.splitlines()"
   ]
  },
  {
   "cell_type": "code",
   "execution_count": 29,
   "metadata": {
    "collapsed": true
   },
   "outputs": [],
   "source": [
    "periods = [(year, period) for year in range(2010, 2018) for period in [0, 1, 2, 3]]"
   ]
  },
  {
   "cell_type": "code",
   "execution_count": 31,
   "metadata": {
    "collapsed": true
   },
   "outputs": [],
   "source": [
    "missing_docs = []\n",
    "def get_documents_all_companies(disclosure_type, year, period):\n",
    "    total_length = 0\n",
    "    text_length = 0 \n",
    "    try:\n",
    "        found_documents = list(cb.document_search(entire_universe=True, document_type=disclosure_type, year=year, period=period))\n",
    "    except requests.RequestException:\n",
    "        print(disclosure_type, year, period)\n",
    "    else:\n",
    "        contents_length = 0\n",
    "        docs = []\n",
    "        for  doc in tqdm_notebook(found_documents, desc=\"{0} {1}-{2}\".format(disclosure_type, year, period), leave=False):\n",
    "            try:\n",
    "                contents = doc.get_contents()\n",
    "                total_length = total_length + len(contents)\n",
    "                text_length += len(BeautifulSoup(contents, 'html.parser').text)\n",
    "            except requests.RequestException:\n",
    "                missing_docs.append(doc)\n",
    "            except json.JSONDecodeError:\n",
    "                print(disclosure_type, year, period, doc['ticker'])\n",
    "    return total_length, text_length"
   ]
  },
  {
   "cell_type": "code",
   "execution_count": 30,
   "metadata": {
    "collapsed": true
   },
   "outputs": [],
   "source": [
    "test_doc_periods = list(itertools.product(tenKQsections, periods))"
   ]
  },
  {
   "cell_type": "code",
   "execution_count": 32,
   "metadata": {
    "collapsed": true
   },
   "outputs": [],
   "source": [
    "doc_period_sample = random.sample(test_doc_periods, 28)"
   ]
  },
  {
   "cell_type": "code",
   "execution_count": 32,
   "metadata": {
    "collapsed": true
   },
   "outputs": [],
   "source": [
    "doc_period_sample = [({'arcrole' : 2710}, (2015, 1))]"
   ]
  },
  {
   "cell_type": "code",
   "execution_count": 34,
   "metadata": {},
   "outputs": [
    {
     "data": {
      "application/vnd.jupyter.widget-view+json": {
       "model_id": "d3341725dd774cf0874bd1ff6ef76a94"
      }
     },
     "metadata": {},
     "output_type": "display_data"
    },
    {
     "data": {
      "application/vnd.jupyter.widget-view+json": {
       "model_id": "c5f566e6ee8e4ba28751d13ca3e17e9f"
      }
     },
     "metadata": {},
     "output_type": "display_data"
    },
    {
     "name": "stdout",
     "output_type": "stream",
     "text": [
      "\n"
     ]
    }
   ],
   "source": [
    "total_length = 0\n",
    "for test_doc, period in tqdm_notebook(doc_period_sample, desc=\"period loop\"):\n",
    "    total_length, text_length = get_documents_all_companies(test_doc['arcrole'], year=period[0], period=period[1])"
   ]
  },
  {
   "cell_type": "code",
   "execution_count": 18,
   "metadata": {
    "collapsed": true
   },
   "outputs": [],
   "source": [
    "found_documents = list(cb.document_search(entire_universe=True, document_type=1110, year=2016, period=0))"
   ]
  },
  {
   "cell_type": "code",
   "execution_count": 21,
   "metadata": {
    "collapsed": true
   },
   "outputs": [],
   "source": [
    "contents = found_documents[0].get_contents()"
   ]
  },
  {
   "cell_type": "code",
   "execution_count": 25,
   "metadata": {
    "collapsed": true
   },
   "outputs": [],
   "source": [
    "soup = BeautifulSoup(contents, 'html.parser')"
   ]
  },
  {
   "cell_type": "code",
   "execution_count": 27,
   "metadata": {},
   "outputs": [
    {
     "data": {
      "text/plain": [
       "63659"
      ]
     },
     "execution_count": 27,
     "metadata": {},
     "output_type": "execute_result"
    }
   ],
   "source": [
    "len(soup.text)"
   ]
  },
  {
   "cell_type": "code",
   "execution_count": 28,
   "metadata": {},
   "outputs": [
    {
     "data": {
      "text/plain": [
       "135760"
      ]
     },
     "execution_count": 28,
     "metadata": {},
     "output_type": "execute_result"
    }
   ],
   "source": [
    "len(contents)"
   ]
  },
  {
   "cell_type": "code",
   "execution_count": 35,
   "metadata": {},
   "outputs": [
    {
     "data": {
      "text/plain": [
       "73157887"
      ]
     },
     "execution_count": 35,
     "metadata": {},
     "output_type": "execute_result"
    }
   ],
   "source": [
    "total_length"
   ]
  },
  {
   "cell_type": "code",
   "execution_count": 36,
   "metadata": {},
   "outputs": [
    {
     "data": {
      "text/plain": [
       "13967146"
      ]
     },
     "execution_count": 36,
     "metadata": {},
     "output_type": "execute_result"
    }
   ],
   "source": [
    "text_length"
   ]
  },
  {
   "cell_type": "code",
   "execution_count": 37,
   "metadata": {},
   "outputs": [
    {
     "data": {
      "text/plain": [
       "0.19091784321217478"
      ]
     },
     "execution_count": 37,
     "metadata": {},
     "output_type": "execute_result"
    }
   ],
   "source": [
    "text_length / total_length"
   ]
  },
  {
   "cell_type": "code",
   "execution_count": null,
   "metadata": {
    "collapsed": true
   },
   "outputs": [],
   "source": []
  }
 ],
 "metadata": {
  "kernelspec": {
   "display_name": "Python 3",
   "language": "python",
   "name": "python3"
  },
  "language_info": {
   "codemirror_mode": {
    "name": "ipython",
    "version": 3
   },
   "file_extension": ".py",
   "mimetype": "text/x-python",
   "name": "python",
   "nbconvert_exporter": "python",
   "pygments_lexer": "ipython3",
   "version": "3.5.1"
  }
 },
 "nbformat": 4,
 "nbformat_minor": 1
}
