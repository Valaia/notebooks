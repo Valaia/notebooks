{
 "cells": [
  {
   "cell_type": "code",
   "execution_count": 1,
   "metadata": {},
   "outputs": [],
   "source": [
    "import calcbench as cb\n",
    "from IPython.core.display import display, HTML\n",
    "import json\n",
    "import itertools\n",
    "from tqdm import tqdm, tqdm_notebook\n",
    "import random\n",
    "import urllib.error\n",
    "import requests\n",
    "import sys\n",
    "from bs4 import BeautifulSoup\n",
    "import backoff\n",
    "import logging\n",
    "from datetime import date, timedelta\n",
    "logging.getLogger('backoff').addHandler(logging.StreamHandler())\n",
    "logging.getLogger('backoff').setLevel(logging.INFO)"
   ]
  },
  {
   "cell_type": "code",
   "execution_count": null,
   "metadata": {},
   "outputs": [],
   "source": [
    "tenKQsections = cb.document_types()['tenKQSections']"
   ]
  },
  {
   "cell_type": "code",
   "execution_count": null,
   "metadata": {},
   "outputs": [],
   "source": [
    "periods = [(year, period) for year in range(2010, 2018) for period in [0, 1, 2, 3]]"
   ]
  },
  {
   "cell_type": "code",
   "execution_count": null,
   "metadata": {},
   "outputs": [],
   "source": [
    "missing_docs = []\n",
    "def get_documents(disclosure_name, year, period, company_identifiers=[]):\n",
    "    total_length = 0\n",
    "    text_length = 0\n",
    "    entire_universe = not company_identifiers\n",
    "    try:\n",
    "        found_documents = doc_search(company_identifiers=company_identifiers,\n",
    "                                      entire_universe=entire_universe, \n",
    "                                      document_name=disclosure_name, \n",
    "                                      year=year, \n",
    "                                      period=period)\n",
    "    except requests.RequestException:\n",
    "        print(disclosure_type, year, period)\n",
    "    else:\n",
    "        contents_length = 0\n",
    "        docs = []\n",
    "        for  doc in tqdm_notebook(found_documents, desc=\"{0} {1}-{2}\".format(disclosure_name, year, period), leave=False):\n",
    "            try:\n",
    "                contents = get_doc_contents(doc)\n",
    "                total_length = total_length + len(contents)\n",
    "                text_length += len(BeautifulSoup(contents, 'html.parser').text)\n",
    "            except requests.RequestException:\n",
    "                missing_docs.append(doc)\n",
    "            except json.JSONDecodeError:\n",
    "                print(disclosure_name, year, period, doc['ticker'])\n",
    "    return total_length, text_length"
   ]
  },
  {
   "cell_type": "code",
   "execution_count": null,
   "metadata": {},
   "outputs": [],
   "source": [
    "@backoff.on_exception(backoff.expo, (requests.exceptions.RequestException), 8)\n",
    "def doc_search(*args, **kwargs):\n",
    "    for r in tqdm_notebook(cb.document_search(*args, **kwargs), desc=\"search results\"):\n",
    "        yield r"
   ]
  },
  {
   "cell_type": "code",
   "execution_count": null,
   "metadata": {},
   "outputs": [],
   "source": [
    "@backoff.on_exception(backoff.expo, (requests.exceptions.RequestException), 8)\n",
    "def get_doc_contents(doc):\n",
    "    return doc.get_contents()"
   ]
  },
  {
   "cell_type": "code",
   "execution_count": null,
   "metadata": {},
   "outputs": [],
   "source": [
    "sample_sections = [d['name']  for d in cb.document_types()['disclosures']]"
   ]
  },
  {
   "cell_type": "code",
   "execution_count": null,
   "metadata": {},
   "outputs": [],
   "source": [
    "test_doc_periods = list(itertools.product(sample_sections, periods))"
   ]
  },
  {
   "cell_type": "code",
   "execution_count": null,
   "metadata": {},
   "outputs": [],
   "source": [
    "total_length = 0\n",
    "for test_doc, period in tqdm_notebook(test_doc_periods, desc=\"period loop\"):\n",
    "    total_length, text_length = get_documents(test_doc, year=period[0], period=period[1])"
   ]
  },
  {
   "cell_type": "code",
   "execution_count": 4,
   "metadata": {},
   "outputs": [
    {
     "name": "stdout",
     "output_type": "stream",
     "text": [
      "{'arcrole': 1100, 'name': 'Business Description', 'shortName': 'Business Description', 'tags': None, 'documentType': '10-K/Q Disclosures', 'longName': 'Business Description'}\n",
      "11\n",
      "{'arcrole': 1110, 'name': 'Risk Factors', 'shortName': 'Risk Factors', 'tags': None, 'documentType': '10-K/Q Disclosures', 'longName': 'Risk Factors'}\n",
      "579\n",
      "{'arcrole': 1120, 'name': 'Unresolved SEC Comments', 'shortName': 'Unresolved Comments', 'tags': None, 'documentType': '10-K/Q Disclosures', 'longName': 'Unresolved SEC Comments'}\n",
      "1\n",
      "{'arcrole': 1200, 'name': 'Properties', 'shortName': 'Properties', 'tags': None, 'documentType': '10-K/Q Disclosures', 'longName': 'Properties'}\n",
      "10\n",
      "{'arcrole': 1300, 'name': 'Legal Proceedings', 'shortName': 'Legal Proceedings', 'tags': None, 'documentType': '10-K/Q Disclosures', 'longName': 'Legal Proceedings'}\n",
      "445\n",
      "{'arcrole': 2410, 'name': 'Executive Officers', 'shortName': 'Executive Officers', 'tags': None, 'documentType': '10-K/Q Disclosures', 'longName': 'Executive Officers'}\n",
      "0\n",
      "{'arcrole': 2300, 'name': 'Defaults Upon Senior Securities', 'shortName': 'Defaults', 'tags': None, 'documentType': '10-K/Q Disclosures', 'longName': 'Defaults Upon Senior Securities'}\n",
      "13\n",
      "{'arcrole': 2500, 'name': 'Market For Registrants Common Equity', 'shortName': 'Market For Equity', 'tags': None, 'documentType': '10-K/Q Disclosures', 'longName': 'Market For Registrants Common Equity'}\n",
      "357\n",
      "{'arcrole': 2600, 'name': 'Selected Financial Data', 'shortName': 'Selected Data', 'tags': None, 'documentType': '10-K/Q Disclosures', 'longName': 'Selected Financial Data'}\n",
      "7\n",
      "{'arcrole': 2700, 'name': \"Management's Discussion And Analysis\", 'shortName': 'MD&A', 'tags': None, 'documentType': '10-K/Q Disclosures', 'longName': \"Management's Discussion And Analysis\"}\n",
      "620\n",
      "{'arcrole': 2710, 'name': 'Disclosures About Market Risk', 'shortName': 'Market Risk', 'tags': None, 'documentType': '10-K/Q Disclosures', 'longName': 'Disclosures About Market Risk'}\n",
      "556\n",
      "{'arcrole': 2810, 'name': 'Report Of Independent Registered Public Accounting Firm', 'shortName': \"Auditor's Report\", 'tags': None, 'documentType': '10-K/Q Disclosures', 'longName': 'Report Of Independent Registered Public Accounting Firm'}\n",
      "14\n",
      "{'arcrole': 2900, 'name': 'Changes In And Disagreements With Accountants', 'shortName': 'Auditor Changes/Disagreements', 'tags': None, 'documentType': '10-K/Q Disclosures', 'longName': 'Changes In And Disagreements With Accountants'}\n",
      "5\n",
      "{'arcrole': 2910, 'name': 'Controls And Procedures', 'shortName': 'Controls And Procedures', 'tags': None, 'documentType': '10-K/Q Disclosures', 'longName': 'Controls And Procedures'}\n",
      "618\n",
      "{'arcrole': 2920, 'name': 'Other Information', 'shortName': 'Other Information', 'tags': None, 'documentType': '10-K/Q Disclosures', 'longName': 'Other Information'}\n",
      "62\n",
      "{'arcrole': 3100, 'name': 'Corporate Governance', 'shortName': 'Corporate Governance', 'tags': None, 'documentType': '10-K/Q Disclosures', 'longName': 'Corporate Governance'}\n",
      "10\n",
      "{'arcrole': 3110, 'name': 'Executive Compensation', 'shortName': 'Executive Compensation', 'tags': None, 'documentType': '10-K/Q Disclosures', 'longName': 'Executive Compensation'}\n",
      "8\n",
      "{'arcrole': 3120, 'name': 'Security Ownership', 'shortName': 'Security Ownership', 'tags': None, 'documentType': '10-K/Q Disclosures', 'longName': 'Security Ownership'}\n",
      "9\n",
      "{'arcrole': 3130, 'name': 'Relationships', 'shortName': 'Relationships', 'tags': None, 'documentType': '10-K/Q Disclosures', 'longName': 'Relationships'}\n",
      "10\n",
      "{'arcrole': 5120, 'name': 'Ratio of Earnings To Fixed Charges (EX 12)', 'shortName': 'Fixed Charges Ratio', 'tags': None, 'documentType': '10-K/Q Disclosures', 'longName': 'Ratio of Earnings To Fixed Charges (EX 12)'}\n",
      "1\n",
      "{'arcrole': 5210, 'name': 'Subsidiaries (EX 21)', 'shortName': 'Subsidiaries', 'tags': None, 'documentType': '10-K/Q Disclosures', 'longName': 'Subsidiaries (EX 21)'}\n",
      "5\n",
      "{'arcrole': 5230, 'name': 'Auditor Consent (EX 23)', 'shortName': 'Auditor Consent', 'tags': None, 'documentType': '10-K/Q Disclosures', 'longName': 'Auditor Consent (EX 23)'}\n",
      "3\n"
     ]
    }
   ],
   "source": [
    "all_10_K_Q_sections = cb.document_types()['tenKQSections']\n",
    "yesterday = date.today() - timedelta(1)\n",
    "sections_from_document_recieved_since_yesterday = []\n",
    "for section in all_10_K_Q_sections:\n",
    "    print(section)\n",
    "    print(len(list(cb.document_search(updated_from=yesterday, entire_universe=True, document_name=section['name']))))"
   ]
  },
  {
   "cell_type": "code",
   "execution_count": 2,
   "metadata": {},
   "outputs": [],
   "source": [
    "cb.api_client._rig_for_testing('localhost')"
   ]
  },
  {
   "cell_type": "code",
   "execution_count": null,
   "metadata": {},
   "outputs": [],
   "source": []
  }
 ],
 "metadata": {
  "kernelspec": {
   "display_name": "Python 3",
   "language": "python",
   "name": "python3"
  },
  "language_info": {
   "codemirror_mode": {
    "name": "ipython",
    "version": 3
   },
   "file_extension": ".py",
   "mimetype": "text/x-python",
   "name": "python",
   "nbconvert_exporter": "python",
   "pygments_lexer": "ipython3",
   "version": "3.7.3"
  }
 },
 "nbformat": 4,
 "nbformat_minor": 2
}
