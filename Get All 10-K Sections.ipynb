{
 "cells": [
  {
   "cell_type": "code",
   "execution_count": 20,
   "metadata": {
    "collapsed": true
   },
   "outputs": [],
   "source": [
    "import calcbench as cb\n",
    "from IPython.core.display import display, HTML\n",
    "import json\n",
    "import itertools\n",
    "from tqdm import tqdm, tqdm_notebook\n",
    "import random\n",
    "import urllib.error\n",
    "import requests\n",
    "import sys\n",
    "from bs4 import BeautifulSoup"
   ]
  },
  {
   "cell_type": "code",
   "execution_count": 6,
   "metadata": {
    "collapsed": true
   },
   "outputs": [],
   "source": [
    "tenKQsections = cb.document_types()['tenKQSections']\n",
    "disclosure_name_to_disclosure_type = {d['name'] : d['arcrole'] for d in tenKQsections}"
   ]
  },
  {
   "cell_type": "code",
   "execution_count": 29,
   "metadata": {
    "collapsed": true
   },
   "outputs": [],
   "source": [
    "periods = [(year, period) for year in range(2010, 2018) for period in [0, 1, 2, 3]]"
   ]
  },
  {
   "cell_type": "code",
   "execution_count": 31,
   "metadata": {
    "collapsed": true
   },
   "outputs": [],
   "source": [
    "missing_docs = []\n",
    "def get_documents_all_companies(disclosure_type, year, period):\n",
    "    total_length = 0\n",
    "    text_length = 0 \n",
    "    try:\n",
    "        found_documents = list(cb.document_search(entire_universe=True, document_type=disclosure_type, year=year, period=period))\n",
    "    except requests.RequestException:\n",
    "        print(disclosure_type, year, period)\n",
    "    else:\n",
    "        contents_length = 0\n",
    "        docs = []\n",
    "        for  doc in tqdm_notebook(found_documents, desc=\"{0} {1}-{2}\".format(disclosure_type, year, period), leave=False):\n",
    "            try:\n",
    "                contents = doc.get_contents()\n",
    "                total_length = total_length + len(contents)\n",
    "                text_length += len(BeautifulSoup(contents, 'html.parser').text)\n",
    "            except requests.RequestException:\n",
    "                missing_docs.append(doc)\n",
    "            except json.JSONDecodeError:\n",
    "                print(disclosure_type, year, period, doc['ticker'])\n",
    "    return total_length, text_length"
   ]
  },
  {
   "cell_type": "code",
   "execution_count": 30,
   "metadata": {
    "collapsed": true
   },
   "outputs": [],
   "source": [
    "test_doc_periods = list(itertools.product(tenKQsections, periods))"
   ]
  },
  {
   "cell_type": "code",
   "execution_count": 32,
   "metadata": {
    "collapsed": true
   },
   "outputs": [],
   "source": [
    "doc_period_sample = random.sample(test_doc_periods, 28)"
   ]
  },
  {
   "cell_type": "code",
   "execution_count": 32,
   "metadata": {
    "collapsed": true
   },
   "outputs": [],
   "source": [
    "doc_period_sample = [({'arcrole' : 2710}, (2015, 1))]"
   ]
  },
  {
   "cell_type": "code",
   "execution_count": 34,
   "metadata": {},
   "outputs": [
    {
     "data": {
      "application/vnd.jupyter.widget-view+json": {
       "model_id": "d3341725dd774cf0874bd1ff6ef76a94"
      }
     },
     "metadata": {},
     "output_type": "display_data"
    },
    {
     "data": {
      "application/vnd.jupyter.widget-view+json": {
       "model_id": "c5f566e6ee8e4ba28751d13ca3e17e9f"
      }
     },
     "metadata": {},
     "output_type": "display_data"
    },
    {
     "name": "stdout",
     "output_type": "stream",
     "text": [
      "\n"
     ]
    }
   ],
   "source": [
    "total_length = 0\n",
    "for test_doc, period in tqdm_notebook(doc_period_sample, desc=\"period loop\"):\n",
    "    total_length, text_length = get_documents_all_companies(test_doc['arcrole'], year=period[0], period=period[1])"
   ]
  }
 ],
 "metadata": {
  "kernelspec": {
   "display_name": "Python 3",
   "language": "python",
   "name": "python3"
  },
  "language_info": {
   "codemirror_mode": {
    "name": "ipython",
    "version": 3
   },
   "file_extension": ".py",
   "mimetype": "text/x-python",
   "name": "python",
   "nbconvert_exporter": "python",
   "pygments_lexer": "ipython3",
   "version": "3.5.1"
  }
 },
 "nbformat": 4,
 "nbformat_minor": 1
}
