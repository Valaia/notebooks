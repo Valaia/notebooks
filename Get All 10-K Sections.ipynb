{
 "cells": [
  {
   "cell_type": "code",
   "execution_count": 4,
   "metadata": {
    "collapsed": true
   },
   "outputs": [],
   "source": [
    "import calcbench as cb\n",
    "from IPython.core.display import display, HTML\n",
    "import json\n",
    "import itertools\n",
    "from tqdm import tqdm, tqdm_notebook\n",
    "import random\n",
    "import urllib.error\n",
    "import requests"
   ]
  },
  {
   "cell_type": "code",
   "execution_count": 5,
   "metadata": {
    "collapsed": true
   },
   "outputs": [],
   "source": [
    "disclosure_types = json.loads('[{\"arcrole\":1100,\"name\":\"Business Description\",\"shortName\":\"Business Description\",\"tags\":null,\"longName\":\"Business Description\"},{\"arcrole\":1110,\"name\":\"Risk Factors\",\"shortName\":\"Risk Factors\",\"tags\":null,\"longName\":\"Risk Factors\"},{\"arcrole\":1120,\"name\":\"Unresolved SEC Comments\",\"shortName\":\"Unresolved Comments\",\"tags\":null,\"longName\":\"Unresolved SEC Comments\"},{\"arcrole\":1200,\"name\":\"Properties\",\"shortName\":\"Properties\",\"tags\":null,\"longName\":\"Properties\"},{\"arcrole\":1300,\"name\":\"Legal Proceedings\",\"shortName\":\"Legal Proceedings\",\"tags\":null,\"longName\":\"Legal Proceedings\"},{\"arcrole\":2410,\"name\":\"Executive Officers\",\"shortName\":\"Executive Officers\",\"tags\":null,\"longName\":\"Executive Officers\"},{\"arcrole\":2300,\"name\":\"Defaults Upon Senior Securities\",\"shortName\":\"Defaults\",\"tags\":null,\"longName\":\"Defaults Upon Senior Securities\"},{\"arcrole\":2500,\"name\":\"Market For Registrants Common Equity\",\"shortName\":\"Market For Equity\",\"tags\":null,\"longName\":\"Market For Registrants Common Equity\"},{\"arcrole\":2600,\"name\":\"Selected Financial Data\",\"shortName\":\"Selected Data\",\"tags\":null,\"longName\":\"Selected Financial Data\"},{\"arcrole\":2700,\"name\":\"Management\\u0027s Discussion And Analysis\",\"shortName\":\"MD\\u0026A\",\"tags\":null,\"longName\":\"Management\\u0027s Discussion And Analysis\"},{\"arcrole\":2710,\"name\":\"Disclosures About Market Risk\",\"shortName\":\"Market Risk\",\"tags\":null,\"longName\":\"Disclosures About Market Risk\"},{\"arcrole\":2810,\"name\":\"Report Of Independent Registered Public Accounting Firm\",\"shortName\":\"Auditor\\u0027s Report\",\"tags\":null,\"longName\":\"Report Of Independent Registered Public Accounting Firm\"},{\"arcrole\":2900,\"name\":\"Changes In And Disagreements With Accountants\",\"shortName\":\"Auditor Changes/Disagreements\",\"tags\":null,\"longName\":\"Changes In And Disagreements With Accountants\"},{\"arcrole\":2910,\"name\":\"Controls And Procedures\",\"shortName\":\"Controls And Procedures\",\"tags\":null,\"longName\":\"Controls And Procedures\"},{\"arcrole\":2920,\"name\":\"Other Information\",\"shortName\":\"Other Information\",\"tags\":null,\"longName\":\"Other Information\"},{\"arcrole\":3100,\"name\":\"Corporate Governance\",\"shortName\":\"Corporate Governance\",\"tags\":null,\"longName\":\"Corporate Governance\"},{\"arcrole\":3120,\"name\":\"Security Ownership\",\"shortName\":\"Security Ownership\",\"tags\":null,\"longName\":\"Security Ownership\"},{\"arcrole\":3130,\"name\":\"Relationships\",\"shortName\":\"Relationships\",\"tags\":null,\"longName\":\"Relationships\"}]')\n",
    "disclosure_name_to_disclosure_type = {d['name'] : d['arcrole'] for d in disclosure_types}"
   ]
  },
  {
   "cell_type": "code",
   "execution_count": 6,
   "metadata": {
    "collapsed": true
   },
   "outputs": [],
   "source": [
    "periods = [(year, period) for year in range(2010, 2018) for period in [0, 1, 2, 3]]"
   ]
  },
  {
   "cell_type": "code",
   "execution_count": 7,
   "metadata": {
    "collapsed": true
   },
   "outputs": [],
   "source": [
    "get_doc_contents = lambda doc : cb.document_contents(blob_id=doc['blob_id'], SEC_ID=doc['sec_filing_id'])"
   ]
  },
  {
   "cell_type": "code",
   "execution_count": 29,
   "metadata": {
    "collapsed": true
   },
   "outputs": [],
   "source": [
    "def get_documents_all_companies(disclosure_type, year, period):\n",
    "    try:\n",
    "        found_documents = list(cb.document_search(entire_universe=True, document_type=disclosure_type, year=year, period=period))\n",
    "    except requests.RequestException:\n",
    "        print(disclosure_type, year, period)\n",
    "        return\n",
    "    docs = []\n",
    "    for  doc in tqdm_notebook(found_documents, desc=\"{0} {1}-{2}\".format(disclosure_type, year, period), leave=False):\n",
    "        try:            \n",
    "            docs.append(get_doc_contents(doc))\n",
    "        except requests.RequestException:\n",
    "            print(disclosure_type, year, period, doc)"
   ]
  },
  {
   "cell_type": "code",
   "execution_count": 9,
   "metadata": {
    "collapsed": true
   },
   "outputs": [],
   "source": [
    "test_doc_periods = list(itertools.product(disclosure_types, periods))"
   ]
  },
  {
   "cell_type": "code",
   "execution_count": 10,
   "metadata": {},
   "outputs": [
    {
     "data": {
      "application/vnd.jupyter.widget-view+json": {
       "model_id": "8464e88c9d7a4e55b429d8473f3273da"
      }
     },
     "metadata": {},
     "output_type": "display_data"
    },
    {
     "data": {
      "application/vnd.jupyter.widget-view+json": {
       "model_id": "a86b2984ff024f6694c68a43b1c6ca9e"
      }
     },
     "metadata": {},
     "output_type": "display_data"
    },
    {
     "data": {
      "application/vnd.jupyter.widget-view+json": {
       "model_id": "02239b7e9d4f4f7fa252870d3cf43dac"
      }
     },
     "metadata": {},
     "output_type": "display_data"
    },
    {
     "data": {
      "application/vnd.jupyter.widget-view+json": {
       "model_id": "c08805ac0de046d3b91ef2cafc459a92"
      }
     },
     "metadata": {},
     "output_type": "display_data"
    },
    {
     "data": {
      "application/vnd.jupyter.widget-view+json": {
       "model_id": "f748cd3b1a3249d783bffa4127e43955"
      }
     },
     "metadata": {},
     "output_type": "display_data"
    },
    {
     "data": {
      "application/vnd.jupyter.widget-view+json": {
       "model_id": "d92cc8f8910642d99724a947fc610e01"
      }
     },
     "metadata": {},
     "output_type": "display_data"
    },
    {
     "data": {
      "application/vnd.jupyter.widget-view+json": {
       "model_id": "ee05e08e050a4d728992207a4610c2ea"
      }
     },
     "metadata": {},
     "output_type": "display_data"
    },
    {
     "data": {
      "application/vnd.jupyter.widget-view+json": {
       "model_id": "d0ea425d73764958be4f825f1f78f0a4"
      }
     },
     "metadata": {},
     "output_type": "display_data"
    },
    {
     "name": "stdout",
     "output_type": "stream",
     "text": [
      "1100 2011 2 {'page_url': 'ftp://ftp.sec.gov/edgar/data/1493040/000105652011000387/nmed10q07312011final.htm', 'local_name': None, 'blob_id': '198050_section110', 'accession_id': 7561, 'received_date': '2011-09-13', 'description': 'New Media Insight Group, Inc. (NMED)', 'fiscal_year': 2012, 'entity_id': 4249, 'sec_filing_id': 198050, 'fiscal_period': '1Q', 'fact_id': 0, 'is_detail': False, 'network_id': 0, 'filing_date': '2011-09-13', 'footnote_type_title': 'Additional 10-K and 10-Q Sections', 'ticker': 'NMED', 'guide_link': None, 'footnote_type': 1100, 'entity_name': 'New Media Insight Group, Inc.', 'document_type': '10-Q', 'SEC_URL': 'http://www.sec.gov/Archives/edgar/data/1493040/000105652011000387/0001056520-11-000387-index.htm'}\n"
     ]
    },
    {
     "data": {
      "application/vnd.jupyter.widget-view+json": {
       "model_id": "f2d72529267241388c86759ff2b52e48"
      }
     },
     "metadata": {},
     "output_type": "display_data"
    },
    {
     "data": {
      "application/vnd.jupyter.widget-view+json": {
       "model_id": "7336ba8eee3b43ae8af08e374bb5f6ef"
      }
     },
     "metadata": {},
     "output_type": "display_data"
    },
    {
     "data": {
      "application/vnd.jupyter.widget-view+json": {
       "model_id": "a1f8f0d547784eeaa7830930522db260"
      }
     },
     "metadata": {},
     "output_type": "display_data"
    },
    {
     "data": {
      "application/vnd.jupyter.widget-view+json": {
       "model_id": "fb51e3f625ca4df69de15b76bc44a97c"
      }
     },
     "metadata": {},
     "output_type": "display_data"
    },
    {
     "data": {
      "application/vnd.jupyter.widget-view+json": {
       "model_id": "0c91ed6751954cb48ea48d8f3261883b"
      }
     },
     "metadata": {},
     "output_type": "display_data"
    },
    {
     "data": {
      "application/vnd.jupyter.widget-view+json": {
       "model_id": "210c0174aed84c63a62dbcc100498219"
      }
     },
     "metadata": {},
     "output_type": "display_data"
    },
    {
     "data": {
      "application/vnd.jupyter.widget-view+json": {
       "model_id": "877b5f8507d842c0aebfd6e399be8880"
      }
     },
     "metadata": {},
     "output_type": "display_data"
    },
    {
     "data": {
      "application/vnd.jupyter.widget-view+json": {
       "model_id": "75cdade1d2774b95a5eb3e1b026e4cc1"
      }
     },
     "metadata": {},
     "output_type": "display_data"
    },
    {
     "data": {
      "application/vnd.jupyter.widget-view+json": {
       "model_id": "6253dff497c9413fb311f1329423410b"
      }
     },
     "metadata": {},
     "output_type": "display_data"
    },
    {
     "data": {
      "application/vnd.jupyter.widget-view+json": {
       "model_id": "9f71cdcc08a540d5840d6d96f01a22a1"
      }
     },
     "metadata": {},
     "output_type": "display_data"
    },
    {
     "data": {
      "application/vnd.jupyter.widget-view+json": {
       "model_id": "c19e60bd920c4d13b7c67a7aa75411dd"
      }
     },
     "metadata": {},
     "output_type": "display_data"
    },
    {
     "data": {
      "application/vnd.jupyter.widget-view+json": {
       "model_id": "668681defecf45789d90bbd54171eeda"
      }
     },
     "metadata": {},
     "output_type": "display_data"
    },
    {
     "data": {
      "application/vnd.jupyter.widget-view+json": {
       "model_id": "c5e8699ba00e40de91d7c4b6a6f7f452"
      }
     },
     "metadata": {},
     "output_type": "display_data"
    },
    {
     "data": {
      "application/vnd.jupyter.widget-view+json": {
       "model_id": "71af5a26ee8149d69b7e94d2c788cf77"
      }
     },
     "metadata": {},
     "output_type": "display_data"
    },
    {
     "data": {
      "application/vnd.jupyter.widget-view+json": {
       "model_id": "8a971537e42f45019017fac90a7891eb"
      }
     },
     "metadata": {},
     "output_type": "display_data"
    },
    {
     "data": {
      "application/vnd.jupyter.widget-view+json": {
       "model_id": "ce86d1e06dad49ad86a61787c1859219"
      }
     },
     "metadata": {},
     "output_type": "display_data"
    },
    {
     "data": {
      "application/vnd.jupyter.widget-view+json": {
       "model_id": "ac20bf74b00c4c699d7034109d9a99c1"
      }
     },
     "metadata": {},
     "output_type": "display_data"
    },
    {
     "data": {
      "application/vnd.jupyter.widget-view+json": {
       "model_id": "ef7af0d8fbfb4004a6fa0f05631b2d47"
      }
     },
     "metadata": {},
     "output_type": "display_data"
    },
    {
     "data": {
      "application/vnd.jupyter.widget-view+json": {
       "model_id": "6d7b2180056f40d4b5b8582995c84f9c"
      }
     },
     "metadata": {},
     "output_type": "display_data"
    },
    {
     "data": {
      "application/vnd.jupyter.widget-view+json": {
       "model_id": "bca2c9c4431941619fbeff58e2d8cc22"
      }
     },
     "metadata": {},
     "output_type": "display_data"
    },
    {
     "data": {
      "application/vnd.jupyter.widget-view+json": {
       "model_id": "d4a6d844ae9d44c689f38e1a00e7a6c1"
      }
     },
     "metadata": {},
     "output_type": "display_data"
    },
    {
     "data": {
      "application/vnd.jupyter.widget-view+json": {
       "model_id": "b55a4fa4dba6401d945867bed1e0eba1"
      }
     },
     "metadata": {},
     "output_type": "display_data"
    },
    {
     "data": {
      "application/vnd.jupyter.widget-view+json": {
       "model_id": "14a9b0dc1d2e4d649d41f292990f9847"
      }
     },
     "metadata": {},
     "output_type": "display_data"
    },
    {
     "data": {
      "application/vnd.jupyter.widget-view+json": {
       "model_id": "1d7aa9063b4644b8a74314a1a4b018fe"
      }
     },
     "metadata": {},
     "output_type": "display_data"
    },
    {
     "data": {
      "application/vnd.jupyter.widget-view+json": {
       "model_id": "ee9c1e29729e4178b085642183314cec"
      }
     },
     "metadata": {},
     "output_type": "display_data"
    },
    {
     "data": {
      "application/vnd.jupyter.widget-view+json": {
       "model_id": "58d776c5d50d42c8b9d405cb323c6af3"
      }
     },
     "metadata": {},
     "output_type": "display_data"
    },
    {
     "data": {
      "application/vnd.jupyter.widget-view+json": {
       "model_id": "953b9e2a40c14311a60ab40fca13a1a1"
      }
     },
     "metadata": {},
     "output_type": "display_data"
    },
    {
     "data": {
      "application/vnd.jupyter.widget-view+json": {
       "model_id": "6a8d6a685b074b779bf3c62e6f0ecf0b"
      }
     },
     "metadata": {},
     "output_type": "display_data"
    },
    {
     "data": {
      "application/vnd.jupyter.widget-view+json": {
       "model_id": "bb41752d678c4e6eb6e760c0e3cd0bf6"
      }
     },
     "metadata": {},
     "output_type": "display_data"
    },
    {
     "name": "stdout",
     "output_type": "stream",
     "text": [
      "1110 2010 3 {'page_url': 'ftp://ftp.sec.gov/edgar/data/26324/000002632410000013/form10q.htm', 'local_name': None, 'blob_id': '198816_section111', 'accession_id': 8327, 'received_date': '2010-11-04', 'description': 'Curtiss Wright Corp (CW)', 'fiscal_year': 2010, 'entity_id': 4650, 'sec_filing_id': 198816, 'fiscal_period': '3Q', 'fact_id': 0, 'is_detail': False, 'network_id': 0, 'filing_date': '2010-11-04', 'footnote_type_title': 'Additional 10-K and 10-Q Sections', 'ticker': 'CW', 'guide_link': None, 'footnote_type': 1110, 'entity_name': 'Curtiss Wright Corp', 'document_type': '10-Q', 'SEC_URL': 'http://www.sec.gov/Archives/edgar/data/26324/000002632410000013/0000026324-10-000013-index.htm'}\n",
      "1110 2010 3 {'page_url': 'ftp://ftp.sec.gov/edgar/data/1140536/000095012310101712/u09753e10vq.htm', 'local_name': None, 'blob_id': '193887_section111', 'accession_id': 3398, 'received_date': '2010-11-05', 'description': 'Willis Towers Watson Plc (WLTW)', 'fiscal_year': 2010, 'entity_id': 1534, 'sec_filing_id': 193887, 'fiscal_period': '3Q', 'fact_id': 0, 'is_detail': False, 'network_id': 0, 'filing_date': '2010-11-05', 'footnote_type_title': 'Additional 10-K and 10-Q Sections', 'ticker': 'WLTW', 'guide_link': None, 'footnote_type': 1110, 'entity_name': 'Willis Towers Watson Plc', 'document_type': '10-Q', 'SEC_URL': 'http://www.sec.gov/Archives/edgar/data/1140536/000095012310101712/0000950123-10-101712-index.htm'}\n"
     ]
    },
    {
     "data": {
      "application/vnd.jupyter.widget-view+json": {
       "model_id": "4cc0a26e660b487cab351f4dc6bf902a"
      }
     },
     "metadata": {},
     "output_type": "display_data"
    },
    {
     "data": {
      "application/vnd.jupyter.widget-view+json": {
       "model_id": "118b4c907d1e4afd978996fef26f1874"
      }
     },
     "metadata": {},
     "output_type": "display_data"
    },
    {
     "data": {
      "application/vnd.jupyter.widget-view+json": {
       "model_id": "7dafe5e0c16c4c4baa702b8e7ecf736c"
      }
     },
     "metadata": {},
     "output_type": "display_data"
    },
    {
     "name": "stdout",
     "output_type": "stream",
     "text": [
      "1110 2011 2 {'page_url': 'ftp://ftp.sec.gov/edgar/data/1518238/000149473311000044/advancecloudstorage10qjune30.htm', 'local_name': None, 'blob_id': '198317_section111', 'accession_id': 7828, 'received_date': '2011-09-07', 'description': 'Montalvo Spirits, Inc. (ACSRD)', 'fiscal_year': 2012, 'entity_id': 4497, 'sec_filing_id': 198317, 'fiscal_period': '1Q', 'fact_id': 0, 'is_detail': False, 'network_id': 0, 'filing_date': '2011-09-07', 'footnote_type_title': 'Additional 10-K and 10-Q Sections', 'ticker': 'ACSRD', 'guide_link': None, 'footnote_type': 1110, 'entity_name': 'Montalvo Spirits, Inc.', 'document_type': '10-Q', 'SEC_URL': 'http://www.sec.gov/Archives/edgar/data/1518238/000149473311000044/0001494733-11-000044-index.htm'}\n",
      "1110 2011 2 {'page_url': 'ftp://ftp.sec.gov/edgar/data/1211524/000121152411000193/qjune2011.htm', 'local_name': None, 'blob_id': '194557_section111', 'accession_id': 4068, 'received_date': '2011-08-26', 'description': 'Allied Resources Inc (ALOD)', 'fiscal_year': 2011, 'entity_id': 1867, 'sec_filing_id': 194557, 'fiscal_period': '2Q', 'fact_id': 0, 'is_detail': False, 'network_id': 0, 'filing_date': '2011-08-26', 'footnote_type_title': 'Additional 10-K and 10-Q Sections', 'ticker': 'ALOD', 'guide_link': None, 'footnote_type': 1110, 'entity_name': 'Allied Resources Inc', 'document_type': '10-Q/A', 'SEC_URL': 'http://www.sec.gov/Archives/edgar/data/1211524/000121152411000193/0001211524-11-000193-index.htm'}\n",
      "1110 2011 2 {'page_url': 'ftp://ftp.sec.gov/edgar/data/20639/000002063911000023/frm10q6302011.htm', 'local_name': None, 'blob_id': '198572_section111', 'accession_id': 8083, 'received_date': '2011-08-11', 'description': 'Ambase Corp (ABCP)', 'fiscal_year': 2011, 'entity_id': 4582, 'sec_filing_id': 198572, 'fiscal_period': '2Q', 'fact_id': 0, 'is_detail': False, 'network_id': 0, 'filing_date': '2011-08-11', 'footnote_type_title': 'Additional 10-K and 10-Q Sections', 'ticker': 'ABCP', 'guide_link': None, 'footnote_type': 1110, 'entity_name': 'Ambase Corp', 'document_type': '10-Q', 'SEC_URL': 'http://www.sec.gov/Archives/edgar/data/20639/000002063911000023/0000020639-11-000023-index.htm'}\n",
      "1110 2011 2 {'page_url': 'ftp://ftp.sec.gov/edgar/data/1096298/000121152411000217/qjune2011.htm', 'local_name': None, 'blob_id': '193020_section111', 'accession_id': 2531, 'received_date': '2011-08-31', 'description': 'Asia8, Inc. (CIK0001096298)', 'fiscal_year': 2011, 'entity_id': 1106, 'sec_filing_id': 193020, 'fiscal_period': '2Q', 'fact_id': 0, 'is_detail': False, 'network_id': 0, 'filing_date': '2011-08-31', 'footnote_type_title': 'Additional 10-K and 10-Q Sections', 'ticker': 'CIK0001096298', 'guide_link': None, 'footnote_type': 1110, 'entity_name': 'Asia8, Inc.', 'document_type': '10-Q/A', 'SEC_URL': 'http://www.sec.gov/Archives/edgar/data/1096298/000121152411000217/0001211524-11-000217-index.htm'}\n",
      "1110 2011 2 {'page_url': 'ftp://ftp.sec.gov/edgar/data/1347078/000134707811000016/form10qajun2011edgar.htm', 'local_name': None, 'blob_id': '195911_section111', 'accession_id': 5422, 'received_date': '2011-09-12', 'description': 'Bitzio, Inc. (BTZO)', 'fiscal_year': 2011, 'entity_id': 2645, 'sec_filing_id': 195911, 'fiscal_period': '2Q', 'fact_id': 0, 'is_detail': False, 'network_id': 0, 'filing_date': '2011-09-12', 'footnote_type_title': 'Additional 10-K and 10-Q Sections', 'ticker': 'BTZO', 'guide_link': None, 'footnote_type': 1110, 'entity_name': 'Bitzio, Inc.', 'document_type': '10-Q/A', 'SEC_URL': 'http://www.sec.gov/Archives/edgar/data/1347078/000134707811000016/0001347078-11-000016-index.htm'}\n",
      "1110 2011 2 {'page_url': 'ftp://ftp.sec.gov/edgar/data/12400/000001240011000016/bhp10qq22011.htm', 'local_name': None, 'blob_id': '194675_section111', 'accession_id': 4186, 'received_date': '2011-08-11', 'description': 'Black Hills Power Inc (BHP)', 'fiscal_year': 2011, 'entity_id': 1935, 'sec_filing_id': 194675, 'fiscal_period': '2Q', 'fact_id': 0, 'is_detail': False, 'network_id': 0, 'filing_date': '2011-08-11', 'footnote_type_title': 'Additional 10-K and 10-Q Sections', 'ticker': 'BHP', 'guide_link': None, 'footnote_type': 1110, 'entity_name': 'Black Hills Power Inc', 'document_type': '10-Q', 'SEC_URL': 'http://www.sec.gov/Archives/edgar/data/12400/000001240011000016/0000012400-11-000016-index.htm'}\n",
      "1110 2011 2 {'page_url': 'ftp://ftp.sec.gov/edgar/data/1098881/000109888111000008/caly6301110qadoc.htm', 'local_name': None, 'blob_id': '193084_section111', 'accession_id': 2595, 'received_date': '2011-09-15', 'description': 'U.S. Rare Earths, Inc (UREE)', 'fiscal_year': 2011, 'entity_id': 1141, 'sec_filing_id': 193084, 'fiscal_period': '2Q', 'fact_id': 0, 'is_detail': False, 'network_id': 0, 'filing_date': '2011-09-15', 'footnote_type_title': 'Additional 10-K and 10-Q Sections', 'ticker': 'UREE', 'guide_link': None, 'footnote_type': 1110, 'entity_name': 'U.S. Rare Earths, Inc', 'document_type': '10-Q/A', 'SEC_URL': 'http://www.sec.gov/Archives/edgar/data/1098881/000109888111000008/0001098881-11-000008-index.htm'}\n",
      "1110 2011 2 {'page_url': 'ftp://ftp.sec.gov/edgar/data/1201135/000120113511000014/creditone10q06302011.htm', 'local_name': None, 'blob_id': '194518_section111', 'accession_id': 4029, 'received_date': '2011-08-17', 'description': 'Credit One Financial Inc (COFI)', 'fiscal_year': 2011, 'entity_id': 1841, 'sec_filing_id': 194518, 'fiscal_period': '2Q', 'fact_id': 0, 'is_detail': False, 'network_id': 0, 'filing_date': '2011-08-17', 'footnote_type_title': 'Additional 10-K and 10-Q Sections', 'ticker': 'COFI', 'guide_link': None, 'footnote_type': 1110, 'entity_name': 'Credit One Financial Inc', 'document_type': '10-Q/A', 'SEC_URL': 'http://www.sec.gov/Archives/edgar/data/1201135/000120113511000014/0001201135-11-000014-index.htm'}\n",
      "1110 2011 2 {'page_url': 'ftp://ftp.sec.gov/edgar/data/1368568/000136856811000031/dalian10qjun11_10q.htm', 'local_name': None, 'blob_id': '196253_section111', 'accession_id': 5764, 'received_date': '2011-09-14', 'description': 'Dalian Capital Group, Inc. (DALC)', 'fiscal_year': 2011, 'entity_id': 2863, 'sec_filing_id': 196253, 'fiscal_period': '2Q', 'fact_id': 0, 'is_detail': False, 'network_id': 0, 'filing_date': '2011-09-14', 'footnote_type_title': 'Additional 10-K and 10-Q Sections', 'ticker': 'DALC', 'guide_link': None, 'footnote_type': 1110, 'entity_name': 'Dalian Capital Group, Inc.', 'document_type': '10-Q', 'SEC_URL': 'http://www.sec.gov/Archives/edgar/data/1368568/000136856811000031/0001368568-11-000031-index.htm'}\n",
      "1110 2011 2 {'page_url': 'ftp://ftp.sec.gov/edgar/data/318835/000076458611000006/dsi006q211.htm', 'local_name': None, 'blob_id': '199259_section111', 'accession_id': 8770, 'received_date': '2011-08-22', 'description': 'Dsi Realty Income Fund Vi (DSI006)', 'fiscal_year': 2011, 'entity_id': 4782, 'sec_filing_id': 199259, 'fiscal_period': '2Q', 'fact_id': 0, 'is_detail': False, 'network_id': 0, 'filing_date': '2011-08-22', 'footnote_type_title': 'Additional 10-K and 10-Q Sections', 'ticker': 'DSI006', 'guide_link': None, 'footnote_type': 1110, 'entity_name': 'Dsi Realty Income Fund Vi', 'document_type': '10-Q', 'SEC_URL': 'http://www.sec.gov/Archives/edgar/data/318835/000076458611000006/0000764586-11-000006-index.htm'}\n",
      "1110 2011 2 {'page_url': 'ftp://ftp.sec.gov/edgar/data/1099574/000109957411000006/f10qajune2011xbrl.htm', 'local_name': None, 'blob_id': '193113_section111', 'accession_id': 2624, 'received_date': '2011-09-15', 'description': 'Eastgate Biotech Corp (ETBI)', 'fiscal_year': 2011, 'entity_id': 1153, 'sec_filing_id': 193113, 'fiscal_period': '2Q', 'fact_id': 0, 'is_detail': False, 'network_id': 0, 'filing_date': '2011-09-15', 'footnote_type_title': 'Additional 10-K and 10-Q Sections', 'ticker': 'ETBI', 'guide_link': None, 'footnote_type': 1110, 'entity_name': 'Eastgate Biotech Corp', 'document_type': '10-Q/A', 'SEC_URL': 'http://www.sec.gov/Archives/edgar/data/1099574/000109957411000006/0001099574-11-000006-index.htm'}\n"
     ]
    },
    {
     "name": "stdout",
     "output_type": "stream",
     "text": [
      "1110 2011 2 {'page_url': 'ftp://ftp.sec.gov/edgar/data/1377318/000143209311000544/huntglobal10q063011.htm', 'local_name': None, 'blob_id': '196402_section111', 'accession_id': 5913, 'received_date': '2011-08-15', 'description': 'Hunt Global Resources, Inc. (HGCO)', 'fiscal_year': 2011, 'entity_id': 2976, 'sec_filing_id': 196402, 'fiscal_period': '2Q', 'fact_id': 0, 'is_detail': False, 'network_id': 0, 'filing_date': '2011-08-15', 'footnote_type_title': 'Additional 10-K and 10-Q Sections', 'ticker': 'HGCO', 'guide_link': None, 'footnote_type': 1110, 'entity_name': 'Hunt Global Resources, Inc.', 'document_type': '10-Q', 'SEC_URL': 'http://www.sec.gov/Archives/edgar/data/1377318/000143209311000544/0001432093-11-000544-index.htm'}\n",
      "1110 2011 2 {'page_url': 'ftp://ftp.sec.gov/edgar/data/1011452/000101145211000020/tenq2a.htm', 'local_name': None, 'blob_id': '190793_section111', 'accession_id': 304, 'received_date': '2011-09-06', 'description': 'Medical Information Technology, Inc. (CIK0001011452)', 'fiscal_year': 2011, 'entity_id': 129, 'sec_filing_id': 190793, 'fiscal_period': '2Q', 'fact_id': 0, 'is_detail': False, 'network_id': 0, 'filing_date': '2011-09-06', 'footnote_type_title': 'Additional 10-K and 10-Q Sections', 'ticker': 'CIK0001011452', 'guide_link': None, 'footnote_type': 1110, 'entity_name': 'Medical Information Technology, Inc.', 'document_type': '10-Q/A', 'SEC_URL': 'http://www.sec.gov/Archives/edgar/data/1011452/000101145211000020/0001011452-11-000020-index.htm'}\n",
      "1110 2011 2 {'page_url': 'ftp://ftp.sec.gov/edgar/data/1104672/000121152411000195/qjune2011final.htm', 'local_name': None, 'blob_id': '193246_section111', 'accession_id': 2757, 'received_date': '2011-08-26', 'description': 'Park Vida Group, Inc. (PRKV)', 'fiscal_year': 2011, 'entity_id': 1225, 'sec_filing_id': 193246, 'fiscal_period': '2Q', 'fact_id': 0, 'is_detail': False, 'network_id': 0, 'filing_date': '2011-08-26', 'footnote_type_title': 'Additional 10-K and 10-Q Sections', 'ticker': 'PRKV', 'guide_link': None, 'footnote_type': 1110, 'entity_name': 'Park Vida Group, Inc.', 'document_type': '10-Q/A', 'SEC_URL': 'http://www.sec.gov/Archives/edgar/data/1104672/000121152411000195/0001211524-11-000195-index.htm'}\n",
      "1110 2011 2 {'page_url': 'ftp://ftp.sec.gov/edgar/data/1169567/000116956711000009/oxford10q06302011a.htm', 'local_name': None, 'blob_id': '194297_section111', 'accession_id': 3808, 'received_date': '2011-08-18', 'description': 'Oxford Technologies Inc (OXFO)', 'fiscal_year': 2011, 'entity_id': 1716, 'sec_filing_id': 194297, 'fiscal_period': '2Q', 'fact_id': 0, 'is_detail': False, 'network_id': 0, 'filing_date': '2011-08-18', 'footnote_type_title': 'Additional 10-K and 10-Q Sections', 'ticker': 'OXFO', 'guide_link': None, 'footnote_type': 1110, 'entity_name': 'Oxford Technologies Inc', 'document_type': '10-Q/A', 'SEC_URL': 'http://www.sec.gov/Archives/edgar/data/1169567/000116956711000009/0001169567-11-000009-index.htm'}\n",
      "1110 2011 2 {'page_url': 'ftp://ftp.sec.gov/edgar/data/1027235/000101041211000390/piranhaform10qjune115.htm', 'local_name': None, 'blob_id': '191199_section111', 'accession_id': 710, 'received_date': '2011-08-05', 'description': 'Asia Travel Corp (PNHVD)', 'fiscal_year': 2011, 'entity_id': 304, 'sec_filing_id': 191199, 'fiscal_period': '2Q', 'fact_id': 0, 'is_detail': False, 'network_id': 0, 'filing_date': '2011-08-05', 'footnote_type_title': 'Additional 10-K and 10-Q Sections', 'ticker': 'PNHVD', 'guide_link': None, 'footnote_type': 1110, 'entity_name': 'Asia Travel Corp', 'document_type': '10-Q', 'SEC_URL': 'http://www.sec.gov/Archives/edgar/data/1027235/000101041211000390/0001010412-11-000390-index.htm'}\n",
      "1110 2011 2 {'page_url': 'ftp://ftp.sec.gov/edgar/data/790179/000102317511000433/f10qv2edgar.htm', 'local_name': None, 'blob_id': '202034_section111', 'accession_id': 11546, 'received_date': '2011-08-11', 'description': 'Prestige Capital Corp (PGEC)', 'fiscal_year': 2011, 'entity_id': 5732, 'sec_filing_id': 202034, 'fiscal_period': '2Q', 'fact_id': 0, 'is_detail': False, 'network_id': 0, 'filing_date': '2011-08-11', 'footnote_type_title': 'Additional 10-K and 10-Q Sections', 'ticker': 'PGEC', 'guide_link': None, 'footnote_type': 1110, 'entity_name': 'Prestige Capital Corp', 'document_type': '10-Q/A', 'SEC_URL': 'http://www.sec.gov/Archives/edgar/data/790179/000102317511000433/0001023175-11-000433-index.htm'}\n",
      "1110 2011 2 {'page_url': 'ftp://ftp.sec.gov/edgar/data/1329606/000150441211000059/probeq22011.htm', 'local_name': None, 'blob_id': '195657_section111', 'accession_id': 5168, 'received_date': '2011-08-15', 'description': 'Probe Manufacturing Inc (CETY)', 'fiscal_year': 2011, 'entity_id': 2494, 'sec_filing_id': 195657, 'fiscal_period': '2Q', 'fact_id': 0, 'is_detail': False, 'network_id': 0, 'filing_date': '2011-08-15', 'footnote_type_title': 'Additional 10-K and 10-Q Sections', 'ticker': 'CETY', 'guide_link': None, 'footnote_type': 1110, 'entity_name': 'Probe Manufacturing Inc', 'document_type': '10-Q', 'SEC_URL': 'http://www.sec.gov/Archives/edgar/data/1329606/000150441211000059/0001504412-11-000059-index.htm'}\n",
      "1110 2011 2 {'page_url': 'ftp://ftp.sec.gov/edgar/data/1333614/000137216711000039/razor10qajuly31.htm', 'local_name': None, 'blob_id': '195728_section111', 'accession_id': 5239, 'received_date': '2011-10-06', 'description': 'You Han Data Tech Co Ltd. (RZOR)', 'fiscal_year': 2011, 'entity_id': 2532, 'sec_filing_id': 195728, 'fiscal_period': '1Q', 'fact_id': 0, 'is_detail': False, 'network_id': 0, 'filing_date': '2011-10-06', 'footnote_type_title': 'Additional 10-K and 10-Q Sections', 'ticker': 'RZOR', 'guide_link': None, 'footnote_type': 1110, 'entity_name': 'You Han Data Tech Co Ltd.', 'document_type': '10-Q/A', 'SEC_URL': 'http://www.sec.gov/Archives/edgar/data/1333614/000137216711000039/0001372167-11-000039-index.htm'}\n",
      "1110 2011 2 {'page_url': 'ftp://ftp.sec.gov/edgar/data/1276531/000127653111000012/scientificenergy10q06302011.htm', 'local_name': None, 'blob_id': '194910_section111', 'accession_id': 4421, 'received_date': '2011-08-11', 'description': 'Scientific Energy Inc (SCGY)', 'fiscal_year': 2011, 'entity_id': 2060, 'sec_filing_id': 194910, 'fiscal_period': '2Q', 'fact_id': 0, 'is_detail': False, 'network_id': 0, 'filing_date': '2011-08-11', 'footnote_type_title': 'Additional 10-K and 10-Q Sections', 'ticker': 'SCGY', 'guide_link': None, 'footnote_type': 1110, 'entity_name': 'Scientific Energy Inc', 'document_type': '10-Q/A', 'SEC_URL': 'http://www.sec.gov/Archives/edgar/data/1276531/000127653111000012/0001276531-11-000012-index.htm'}\n",
      "1110 2011 2 {'page_url': 'ftp://ftp.sec.gov/edgar/data/1432290/000093173111000172/securewindow-10q063011.htm', 'local_name': None, 'blob_id': '197355_section111', 'accession_id': 6866, 'received_date': '2011-08-18', 'description': 'A1 Group, Inc. (FBTN)', 'fiscal_year': 2011, 'entity_id': 3662, 'sec_filing_id': 197355, 'fiscal_period': '2Q', 'fact_id': 0, 'is_detail': False, 'network_id': 0, 'filing_date': '2011-08-18', 'footnote_type_title': 'Additional 10-K and 10-Q Sections', 'ticker': 'FBTN', 'guide_link': None, 'footnote_type': 1110, 'entity_name': 'A1 Group, Inc.', 'document_type': '10-Q/A', 'SEC_URL': 'http://www.sec.gov/Archives/edgar/data/1432290/000093173111000172/0000931731-11-000172-index.htm'}\n",
      "1110 2011 2 {'page_url': 'ftp://ftp.sec.gov/edgar/data/1028394/000102317511000447/veii6301110q2.htm', 'local_name': None, 'blob_id': '191221_section111', 'accession_id': 732, 'received_date': '2011-08-12', 'description': 'Voyager Entertainment International Inc (VEII)', 'fiscal_year': 2011, 'entity_id': 313, 'sec_filing_id': 191221, 'fiscal_period': '2Q', 'fact_id': 0, 'is_detail': False, 'network_id': 0, 'filing_date': '2011-08-12', 'footnote_type_title': 'Additional 10-K and 10-Q Sections', 'ticker': 'VEII', 'guide_link': None, 'footnote_type': 1110, 'entity_name': 'Voyager Entertainment International Inc', 'document_type': '10-Q', 'SEC_URL': 'http://www.sec.gov/Archives/edgar/data/1028394/000102317511000447/0001023175-11-000447-index.htm'}\n"
     ]
    },
    {
     "name": "stdout",
     "output_type": "stream",
     "text": [
      "1110 2011 2 {'page_url': 'ftp://ftp.sec.gov/edgar/data/1442101/000100233411000346/j11q.htm', 'local_name': None, 'blob_id': '197491_section111', 'accession_id': 7002, 'received_date': '2011-08-17', 'description': 'Western Lucrative Enterprises, Inc. (WLUC)', 'fiscal_year': 2011, 'entity_id': 3786, 'sec_filing_id': 197491, 'fiscal_period': '2Q', 'fact_id': 0, 'is_detail': False, 'network_id': 0, 'filing_date': '2011-08-17', 'footnote_type_title': 'Additional 10-K and 10-Q Sections', 'ticker': 'WLUC', 'guide_link': None, 'footnote_type': 1110, 'entity_name': 'Western Lucrative Enterprises, Inc.', 'document_type': '10-Q', 'SEC_URL': 'http://www.sec.gov/Archives/edgar/data/1442101/000100233411000346/0001002334-11-000346-index.htm'}\n",
      "1110 2011 2 {'page_url': 'ftp://ftp.sec.gov/edgar/data/1099568/000109956811000005/f10qajune2011.htm', 'local_name': None, 'blob_id': '193112_section111', 'accession_id': 2623, 'received_date': '2011-09-15', 'description': 'Westgate Acquisitions Corp (WESTG)', 'fiscal_year': 2011, 'entity_id': 1152, 'sec_filing_id': 193112, 'fiscal_period': '2Q', 'fact_id': 0, 'is_detail': False, 'network_id': 0, 'filing_date': '2011-09-15', 'footnote_type_title': 'Additional 10-K and 10-Q Sections', 'ticker': 'WESTG', 'guide_link': None, 'footnote_type': 1110, 'entity_name': 'Westgate Acquisitions Corp', 'document_type': '10-Q/A', 'SEC_URL': 'http://www.sec.gov/Archives/edgar/data/1099568/000109956811000005/0001099568-11-000005-index.htm'}\n"
     ]
    },
    {
     "data": {
      "application/vnd.jupyter.widget-view+json": {
       "model_id": "22ab9e24586545ccb5f586174fb3f676"
      }
     },
     "metadata": {},
     "output_type": "display_data"
    },
    {
     "data": {
      "application/vnd.jupyter.widget-view+json": {
       "model_id": "079a39c12ade413a9e5892e092312b91"
      }
     },
     "metadata": {},
     "output_type": "display_data"
    },
    {
     "data": {
      "application/vnd.jupyter.widget-view+json": {
       "model_id": "fad209a4dda34503967198f6c193c2dc"
      }
     },
     "metadata": {},
     "output_type": "display_data"
    },
    {
     "data": {
      "application/vnd.jupyter.widget-view+json": {
       "model_id": "663de66c94824789affa09c4443597b1"
      }
     },
     "metadata": {},
     "output_type": "display_data"
    },
    {
     "data": {
      "application/vnd.jupyter.widget-view+json": {
       "model_id": "e059bc1966864b07ba100fde061f5fa9"
      }
     },
     "metadata": {},
     "output_type": "display_data"
    },
    {
     "name": "stdout",
     "output_type": "stream",
     "text": [
      "\n"
     ]
    },
    {
     "ename": "ConnectionError",
     "evalue": "('Connection aborted.', TimeoutError(10060, 'A connection attempt failed because the connected party did not properly respond after a period of time, or established connection failed because connected host has failed to respond', None, 10060, None))",
     "output_type": "error",
     "traceback": [
      "\u001b[1;31m---------------------------------------------------------------------------\u001b[0m",
      "\u001b[1;31mTimeoutError\u001b[0m                              Traceback (most recent call last)",
      "\u001b[1;32mc:\\users\\andrew kittredge\\appdata\\local\\programs\\python\\python35\\lib\\site-packages\\requests\\packages\\urllib3\\connectionpool.py\u001b[0m in \u001b[0;36murlopen\u001b[1;34m(self, method, url, body, headers, retries, redirect, assert_same_host, timeout, pool_timeout, release_conn, chunked, **response_kw)\u001b[0m\n\u001b[0;32m    594\u001b[0m                                                   \u001b[0mbody\u001b[0m\u001b[1;33m=\u001b[0m\u001b[0mbody\u001b[0m\u001b[1;33m,\u001b[0m \u001b[0mheaders\u001b[0m\u001b[1;33m=\u001b[0m\u001b[0mheaders\u001b[0m\u001b[1;33m,\u001b[0m\u001b[1;33m\u001b[0m\u001b[0m\n\u001b[1;32m--> 595\u001b[1;33m                                                   chunked=chunked)\n\u001b[0m\u001b[0;32m    596\u001b[0m \u001b[1;33m\u001b[0m\u001b[0m\n",
      "\u001b[1;32mc:\\users\\andrew kittredge\\appdata\\local\\programs\\python\\python35\\lib\\site-packages\\requests\\packages\\urllib3\\connectionpool.py\u001b[0m in \u001b[0;36m_make_request\u001b[1;34m(self, conn, method, url, timeout, chunked, **httplib_request_kw)\u001b[0m\n\u001b[0;32m    392\u001b[0m                     \u001b[1;31m# otherwise it looks like a programming error was the cause.\u001b[0m\u001b[1;33m\u001b[0m\u001b[1;33m\u001b[0m\u001b[0m\n\u001b[1;32m--> 393\u001b[1;33m                     \u001b[0msix\u001b[0m\u001b[1;33m.\u001b[0m\u001b[0mraise_from\u001b[0m\u001b[1;33m(\u001b[0m\u001b[0me\u001b[0m\u001b[1;33m,\u001b[0m \u001b[1;32mNone\u001b[0m\u001b[1;33m)\u001b[0m\u001b[1;33m\u001b[0m\u001b[0m\n\u001b[0m\u001b[0;32m    394\u001b[0m         \u001b[1;32mexcept\u001b[0m \u001b[1;33m(\u001b[0m\u001b[0mSocketTimeout\u001b[0m\u001b[1;33m,\u001b[0m \u001b[0mBaseSSLError\u001b[0m\u001b[1;33m,\u001b[0m \u001b[0mSocketError\u001b[0m\u001b[1;33m)\u001b[0m \u001b[1;32mas\u001b[0m \u001b[0me\u001b[0m\u001b[1;33m:\u001b[0m\u001b[1;33m\u001b[0m\u001b[0m\n",
      "\u001b[1;32mc:\\users\\andrew kittredge\\appdata\\local\\programs\\python\\python35\\lib\\site-packages\\requests\\packages\\urllib3\\packages\\six.py\u001b[0m in \u001b[0;36mraise_from\u001b[1;34m(value, from_value)\u001b[0m\n",
      "\u001b[1;32mc:\\users\\andrew kittredge\\appdata\\local\\programs\\python\\python35\\lib\\site-packages\\requests\\packages\\urllib3\\connectionpool.py\u001b[0m in \u001b[0;36m_make_request\u001b[1;34m(self, conn, method, url, timeout, chunked, **httplib_request_kw)\u001b[0m\n\u001b[0;32m    388\u001b[0m                 \u001b[1;32mtry\u001b[0m\u001b[1;33m:\u001b[0m\u001b[1;33m\u001b[0m\u001b[0m\n\u001b[1;32m--> 389\u001b[1;33m                     \u001b[0mhttplib_response\u001b[0m \u001b[1;33m=\u001b[0m \u001b[0mconn\u001b[0m\u001b[1;33m.\u001b[0m\u001b[0mgetresponse\u001b[0m\u001b[1;33m(\u001b[0m\u001b[1;33m)\u001b[0m\u001b[1;33m\u001b[0m\u001b[0m\n\u001b[0m\u001b[0;32m    390\u001b[0m                 \u001b[1;32mexcept\u001b[0m \u001b[0mException\u001b[0m \u001b[1;32mas\u001b[0m \u001b[0me\u001b[0m\u001b[1;33m:\u001b[0m\u001b[1;33m\u001b[0m\u001b[0m\n",
      "\u001b[1;32mc:\\users\\andrew kittredge\\appdata\\local\\programs\\python\\python35\\lib\\http\\client.py\u001b[0m in \u001b[0;36mgetresponse\u001b[1;34m(self)\u001b[0m\n\u001b[0;32m   1173\u001b[0m             \u001b[1;32mtry\u001b[0m\u001b[1;33m:\u001b[0m\u001b[1;33m\u001b[0m\u001b[0m\n\u001b[1;32m-> 1174\u001b[1;33m                 \u001b[0mresponse\u001b[0m\u001b[1;33m.\u001b[0m\u001b[0mbegin\u001b[0m\u001b[1;33m(\u001b[0m\u001b[1;33m)\u001b[0m\u001b[1;33m\u001b[0m\u001b[0m\n\u001b[0m\u001b[0;32m   1175\u001b[0m             \u001b[1;32mexcept\u001b[0m \u001b[0mConnectionError\u001b[0m\u001b[1;33m:\u001b[0m\u001b[1;33m\u001b[0m\u001b[0m\n",
      "\u001b[1;32mc:\\users\\andrew kittredge\\appdata\\local\\programs\\python\\python35\\lib\\http\\client.py\u001b[0m in \u001b[0;36mbegin\u001b[1;34m(self)\u001b[0m\n\u001b[0;32m    281\u001b[0m         \u001b[1;32mwhile\u001b[0m \u001b[1;32mTrue\u001b[0m\u001b[1;33m:\u001b[0m\u001b[1;33m\u001b[0m\u001b[0m\n\u001b[1;32m--> 282\u001b[1;33m             \u001b[0mversion\u001b[0m\u001b[1;33m,\u001b[0m \u001b[0mstatus\u001b[0m\u001b[1;33m,\u001b[0m \u001b[0mreason\u001b[0m \u001b[1;33m=\u001b[0m \u001b[0mself\u001b[0m\u001b[1;33m.\u001b[0m\u001b[0m_read_status\u001b[0m\u001b[1;33m(\u001b[0m\u001b[1;33m)\u001b[0m\u001b[1;33m\u001b[0m\u001b[0m\n\u001b[0m\u001b[0;32m    283\u001b[0m             \u001b[1;32mif\u001b[0m \u001b[0mstatus\u001b[0m \u001b[1;33m!=\u001b[0m \u001b[0mCONTINUE\u001b[0m\u001b[1;33m:\u001b[0m\u001b[1;33m\u001b[0m\u001b[0m\n",
      "\u001b[1;32mc:\\users\\andrew kittredge\\appdata\\local\\programs\\python\\python35\\lib\\http\\client.py\u001b[0m in \u001b[0;36m_read_status\u001b[1;34m(self)\u001b[0m\n\u001b[0;32m    242\u001b[0m     \u001b[1;32mdef\u001b[0m \u001b[0m_read_status\u001b[0m\u001b[1;33m(\u001b[0m\u001b[0mself\u001b[0m\u001b[1;33m)\u001b[0m\u001b[1;33m:\u001b[0m\u001b[1;33m\u001b[0m\u001b[0m\n\u001b[1;32m--> 243\u001b[1;33m         \u001b[0mline\u001b[0m \u001b[1;33m=\u001b[0m \u001b[0mstr\u001b[0m\u001b[1;33m(\u001b[0m\u001b[0mself\u001b[0m\u001b[1;33m.\u001b[0m\u001b[0mfp\u001b[0m\u001b[1;33m.\u001b[0m\u001b[0mreadline\u001b[0m\u001b[1;33m(\u001b[0m\u001b[0m_MAXLINE\u001b[0m \u001b[1;33m+\u001b[0m \u001b[1;36m1\u001b[0m\u001b[1;33m)\u001b[0m\u001b[1;33m,\u001b[0m \u001b[1;34m\"iso-8859-1\"\u001b[0m\u001b[1;33m)\u001b[0m\u001b[1;33m\u001b[0m\u001b[0m\n\u001b[0m\u001b[0;32m    244\u001b[0m         \u001b[1;32mif\u001b[0m \u001b[0mlen\u001b[0m\u001b[1;33m(\u001b[0m\u001b[0mline\u001b[0m\u001b[1;33m)\u001b[0m \u001b[1;33m>\u001b[0m \u001b[0m_MAXLINE\u001b[0m\u001b[1;33m:\u001b[0m\u001b[1;33m\u001b[0m\u001b[0m\n",
      "\u001b[1;32mc:\\users\\andrew kittredge\\appdata\\local\\programs\\python\\python35\\lib\\socket.py\u001b[0m in \u001b[0;36mreadinto\u001b[1;34m(self, b)\u001b[0m\n\u001b[0;32m    574\u001b[0m             \u001b[1;32mtry\u001b[0m\u001b[1;33m:\u001b[0m\u001b[1;33m\u001b[0m\u001b[0m\n\u001b[1;32m--> 575\u001b[1;33m                 \u001b[1;32mreturn\u001b[0m \u001b[0mself\u001b[0m\u001b[1;33m.\u001b[0m\u001b[0m_sock\u001b[0m\u001b[1;33m.\u001b[0m\u001b[0mrecv_into\u001b[0m\u001b[1;33m(\u001b[0m\u001b[0mb\u001b[0m\u001b[1;33m)\u001b[0m\u001b[1;33m\u001b[0m\u001b[0m\n\u001b[0m\u001b[0;32m    576\u001b[0m             \u001b[1;32mexcept\u001b[0m \u001b[0mtimeout\u001b[0m\u001b[1;33m:\u001b[0m\u001b[1;33m\u001b[0m\u001b[0m\n",
      "\u001b[1;32mc:\\users\\andrew kittredge\\appdata\\local\\programs\\python\\python35\\lib\\ssl.py\u001b[0m in \u001b[0;36mrecv_into\u001b[1;34m(self, buffer, nbytes, flags)\u001b[0m\n\u001b[0;32m    923\u001b[0m                   self.__class__)\n\u001b[1;32m--> 924\u001b[1;33m             \u001b[1;32mreturn\u001b[0m \u001b[0mself\u001b[0m\u001b[1;33m.\u001b[0m\u001b[0mread\u001b[0m\u001b[1;33m(\u001b[0m\u001b[0mnbytes\u001b[0m\u001b[1;33m,\u001b[0m \u001b[0mbuffer\u001b[0m\u001b[1;33m)\u001b[0m\u001b[1;33m\u001b[0m\u001b[0m\n\u001b[0m\u001b[0;32m    925\u001b[0m         \u001b[1;32melse\u001b[0m\u001b[1;33m:\u001b[0m\u001b[1;33m\u001b[0m\u001b[0m\n",
      "\u001b[1;32mc:\\users\\andrew kittredge\\appdata\\local\\programs\\python\\python35\\lib\\ssl.py\u001b[0m in \u001b[0;36mread\u001b[1;34m(self, len, buffer)\u001b[0m\n\u001b[0;32m    785\u001b[0m         \u001b[1;32mtry\u001b[0m\u001b[1;33m:\u001b[0m\u001b[1;33m\u001b[0m\u001b[0m\n\u001b[1;32m--> 786\u001b[1;33m             \u001b[1;32mreturn\u001b[0m \u001b[0mself\u001b[0m\u001b[1;33m.\u001b[0m\u001b[0m_sslobj\u001b[0m\u001b[1;33m.\u001b[0m\u001b[0mread\u001b[0m\u001b[1;33m(\u001b[0m\u001b[0mlen\u001b[0m\u001b[1;33m,\u001b[0m \u001b[0mbuffer\u001b[0m\u001b[1;33m)\u001b[0m\u001b[1;33m\u001b[0m\u001b[0m\n\u001b[0m\u001b[0;32m    787\u001b[0m         \u001b[1;32mexcept\u001b[0m \u001b[0mSSLError\u001b[0m \u001b[1;32mas\u001b[0m \u001b[0mx\u001b[0m\u001b[1;33m:\u001b[0m\u001b[1;33m\u001b[0m\u001b[0m\n",
      "\u001b[1;32mc:\\users\\andrew kittredge\\appdata\\local\\programs\\python\\python35\\lib\\ssl.py\u001b[0m in \u001b[0;36mread\u001b[1;34m(self, len, buffer)\u001b[0m\n\u001b[0;32m    569\u001b[0m         \u001b[1;32mif\u001b[0m \u001b[0mbuffer\u001b[0m \u001b[1;32mis\u001b[0m \u001b[1;32mnot\u001b[0m \u001b[1;32mNone\u001b[0m\u001b[1;33m:\u001b[0m\u001b[1;33m\u001b[0m\u001b[0m\n\u001b[1;32m--> 570\u001b[1;33m             \u001b[0mv\u001b[0m \u001b[1;33m=\u001b[0m \u001b[0mself\u001b[0m\u001b[1;33m.\u001b[0m\u001b[0m_sslobj\u001b[0m\u001b[1;33m.\u001b[0m\u001b[0mread\u001b[0m\u001b[1;33m(\u001b[0m\u001b[0mlen\u001b[0m\u001b[1;33m,\u001b[0m \u001b[0mbuffer\u001b[0m\u001b[1;33m)\u001b[0m\u001b[1;33m\u001b[0m\u001b[0m\n\u001b[0m\u001b[0;32m    571\u001b[0m         \u001b[1;32melse\u001b[0m\u001b[1;33m:\u001b[0m\u001b[1;33m\u001b[0m\u001b[0m\n",
      "\u001b[1;31mTimeoutError\u001b[0m: [WinError 10060] A connection attempt failed because the connected party did not properly respond after a period of time, or established connection failed because connected host has failed to respond",
      "\nDuring handling of the above exception, another exception occurred:\n",
      "\u001b[1;31mProtocolError\u001b[0m                             Traceback (most recent call last)",
      "\u001b[1;32mc:\\users\\andrew kittredge\\appdata\\local\\programs\\python\\python35\\lib\\site-packages\\requests\\adapters.py\u001b[0m in \u001b[0;36msend\u001b[1;34m(self, request, stream, timeout, verify, cert, proxies)\u001b[0m\n\u001b[0;32m    422\u001b[0m                     \u001b[0mretries\u001b[0m\u001b[1;33m=\u001b[0m\u001b[0mself\u001b[0m\u001b[1;33m.\u001b[0m\u001b[0mmax_retries\u001b[0m\u001b[1;33m,\u001b[0m\u001b[1;33m\u001b[0m\u001b[0m\n\u001b[1;32m--> 423\u001b[1;33m                     \u001b[0mtimeout\u001b[0m\u001b[1;33m=\u001b[0m\u001b[0mtimeout\u001b[0m\u001b[1;33m\u001b[0m\u001b[0m\n\u001b[0m\u001b[0;32m    424\u001b[0m                 )\n",
      "\u001b[1;32mc:\\users\\andrew kittredge\\appdata\\local\\programs\\python\\python35\\lib\\site-packages\\requests\\packages\\urllib3\\connectionpool.py\u001b[0m in \u001b[0;36murlopen\u001b[1;34m(self, method, url, body, headers, retries, redirect, assert_same_host, timeout, pool_timeout, release_conn, chunked, **response_kw)\u001b[0m\n\u001b[0;32m    639\u001b[0m             retries = retries.increment(method, url, error=e, _pool=self,\n\u001b[1;32m--> 640\u001b[1;33m                                         _stacktrace=sys.exc_info()[2])\n\u001b[0m\u001b[0;32m    641\u001b[0m             \u001b[0mretries\u001b[0m\u001b[1;33m.\u001b[0m\u001b[0msleep\u001b[0m\u001b[1;33m(\u001b[0m\u001b[1;33m)\u001b[0m\u001b[1;33m\u001b[0m\u001b[0m\n",
      "\u001b[1;32mc:\\users\\andrew kittredge\\appdata\\local\\programs\\python\\python35\\lib\\site-packages\\requests\\packages\\urllib3\\util\\retry.py\u001b[0m in \u001b[0;36mincrement\u001b[1;34m(self, method, url, response, error, _pool, _stacktrace)\u001b[0m\n\u001b[0;32m    260\u001b[0m             \u001b[1;32mif\u001b[0m \u001b[0mread\u001b[0m \u001b[1;32mis\u001b[0m \u001b[1;32mFalse\u001b[0m\u001b[1;33m:\u001b[0m\u001b[1;33m\u001b[0m\u001b[0m\n\u001b[1;32m--> 261\u001b[1;33m                 \u001b[1;32mraise\u001b[0m \u001b[0msix\u001b[0m\u001b[1;33m.\u001b[0m\u001b[0mreraise\u001b[0m\u001b[1;33m(\u001b[0m\u001b[0mtype\u001b[0m\u001b[1;33m(\u001b[0m\u001b[0merror\u001b[0m\u001b[1;33m)\u001b[0m\u001b[1;33m,\u001b[0m \u001b[0merror\u001b[0m\u001b[1;33m,\u001b[0m \u001b[0m_stacktrace\u001b[0m\u001b[1;33m)\u001b[0m\u001b[1;33m\u001b[0m\u001b[0m\n\u001b[0m\u001b[0;32m    262\u001b[0m             \u001b[1;32melif\u001b[0m \u001b[0mread\u001b[0m \u001b[1;32mis\u001b[0m \u001b[1;32mnot\u001b[0m \u001b[1;32mNone\u001b[0m\u001b[1;33m:\u001b[0m\u001b[1;33m\u001b[0m\u001b[0m\n",
      "\u001b[1;32mc:\\users\\andrew kittredge\\appdata\\local\\programs\\python\\python35\\lib\\site-packages\\requests\\packages\\urllib3\\packages\\six.py\u001b[0m in \u001b[0;36mreraise\u001b[1;34m(tp, value, tb)\u001b[0m\n\u001b[0;32m    684\u001b[0m         \u001b[1;32mif\u001b[0m \u001b[0mvalue\u001b[0m\u001b[1;33m.\u001b[0m\u001b[0m__traceback__\u001b[0m \u001b[1;32mis\u001b[0m \u001b[1;32mnot\u001b[0m \u001b[0mtb\u001b[0m\u001b[1;33m:\u001b[0m\u001b[1;33m\u001b[0m\u001b[0m\n\u001b[1;32m--> 685\u001b[1;33m             \u001b[1;32mraise\u001b[0m \u001b[0mvalue\u001b[0m\u001b[1;33m.\u001b[0m\u001b[0mwith_traceback\u001b[0m\u001b[1;33m(\u001b[0m\u001b[0mtb\u001b[0m\u001b[1;33m)\u001b[0m\u001b[1;33m\u001b[0m\u001b[0m\n\u001b[0m\u001b[0;32m    686\u001b[0m         \u001b[1;32mraise\u001b[0m \u001b[0mvalue\u001b[0m\u001b[1;33m\u001b[0m\u001b[0m\n",
      "\u001b[1;32mc:\\users\\andrew kittredge\\appdata\\local\\programs\\python\\python35\\lib\\site-packages\\requests\\packages\\urllib3\\connectionpool.py\u001b[0m in \u001b[0;36murlopen\u001b[1;34m(self, method, url, body, headers, retries, redirect, assert_same_host, timeout, pool_timeout, release_conn, chunked, **response_kw)\u001b[0m\n\u001b[0;32m    594\u001b[0m                                                   \u001b[0mbody\u001b[0m\u001b[1;33m=\u001b[0m\u001b[0mbody\u001b[0m\u001b[1;33m,\u001b[0m \u001b[0mheaders\u001b[0m\u001b[1;33m=\u001b[0m\u001b[0mheaders\u001b[0m\u001b[1;33m,\u001b[0m\u001b[1;33m\u001b[0m\u001b[0m\n\u001b[1;32m--> 595\u001b[1;33m                                                   chunked=chunked)\n\u001b[0m\u001b[0;32m    596\u001b[0m \u001b[1;33m\u001b[0m\u001b[0m\n",
      "\u001b[1;32mc:\\users\\andrew kittredge\\appdata\\local\\programs\\python\\python35\\lib\\site-packages\\requests\\packages\\urllib3\\connectionpool.py\u001b[0m in \u001b[0;36m_make_request\u001b[1;34m(self, conn, method, url, timeout, chunked, **httplib_request_kw)\u001b[0m\n\u001b[0;32m    392\u001b[0m                     \u001b[1;31m# otherwise it looks like a programming error was the cause.\u001b[0m\u001b[1;33m\u001b[0m\u001b[1;33m\u001b[0m\u001b[0m\n\u001b[1;32m--> 393\u001b[1;33m                     \u001b[0msix\u001b[0m\u001b[1;33m.\u001b[0m\u001b[0mraise_from\u001b[0m\u001b[1;33m(\u001b[0m\u001b[0me\u001b[0m\u001b[1;33m,\u001b[0m \u001b[1;32mNone\u001b[0m\u001b[1;33m)\u001b[0m\u001b[1;33m\u001b[0m\u001b[0m\n\u001b[0m\u001b[0;32m    394\u001b[0m         \u001b[1;32mexcept\u001b[0m \u001b[1;33m(\u001b[0m\u001b[0mSocketTimeout\u001b[0m\u001b[1;33m,\u001b[0m \u001b[0mBaseSSLError\u001b[0m\u001b[1;33m,\u001b[0m \u001b[0mSocketError\u001b[0m\u001b[1;33m)\u001b[0m \u001b[1;32mas\u001b[0m \u001b[0me\u001b[0m\u001b[1;33m:\u001b[0m\u001b[1;33m\u001b[0m\u001b[0m\n",
      "\u001b[1;32mc:\\users\\andrew kittredge\\appdata\\local\\programs\\python\\python35\\lib\\site-packages\\requests\\packages\\urllib3\\packages\\six.py\u001b[0m in \u001b[0;36mraise_from\u001b[1;34m(value, from_value)\u001b[0m\n",
      "\u001b[1;32mc:\\users\\andrew kittredge\\appdata\\local\\programs\\python\\python35\\lib\\site-packages\\requests\\packages\\urllib3\\connectionpool.py\u001b[0m in \u001b[0;36m_make_request\u001b[1;34m(self, conn, method, url, timeout, chunked, **httplib_request_kw)\u001b[0m\n\u001b[0;32m    388\u001b[0m                 \u001b[1;32mtry\u001b[0m\u001b[1;33m:\u001b[0m\u001b[1;33m\u001b[0m\u001b[0m\n\u001b[1;32m--> 389\u001b[1;33m                     \u001b[0mhttplib_response\u001b[0m \u001b[1;33m=\u001b[0m \u001b[0mconn\u001b[0m\u001b[1;33m.\u001b[0m\u001b[0mgetresponse\u001b[0m\u001b[1;33m(\u001b[0m\u001b[1;33m)\u001b[0m\u001b[1;33m\u001b[0m\u001b[0m\n\u001b[0m\u001b[0;32m    390\u001b[0m                 \u001b[1;32mexcept\u001b[0m \u001b[0mException\u001b[0m \u001b[1;32mas\u001b[0m \u001b[0me\u001b[0m\u001b[1;33m:\u001b[0m\u001b[1;33m\u001b[0m\u001b[0m\n",
      "\u001b[1;32mc:\\users\\andrew kittredge\\appdata\\local\\programs\\python\\python35\\lib\\http\\client.py\u001b[0m in \u001b[0;36mgetresponse\u001b[1;34m(self)\u001b[0m\n\u001b[0;32m   1173\u001b[0m             \u001b[1;32mtry\u001b[0m\u001b[1;33m:\u001b[0m\u001b[1;33m\u001b[0m\u001b[0m\n\u001b[1;32m-> 1174\u001b[1;33m                 \u001b[0mresponse\u001b[0m\u001b[1;33m.\u001b[0m\u001b[0mbegin\u001b[0m\u001b[1;33m(\u001b[0m\u001b[1;33m)\u001b[0m\u001b[1;33m\u001b[0m\u001b[0m\n\u001b[0m\u001b[0;32m   1175\u001b[0m             \u001b[1;32mexcept\u001b[0m \u001b[0mConnectionError\u001b[0m\u001b[1;33m:\u001b[0m\u001b[1;33m\u001b[0m\u001b[0m\n",
      "\u001b[1;32mc:\\users\\andrew kittredge\\appdata\\local\\programs\\python\\python35\\lib\\http\\client.py\u001b[0m in \u001b[0;36mbegin\u001b[1;34m(self)\u001b[0m\n\u001b[0;32m    281\u001b[0m         \u001b[1;32mwhile\u001b[0m \u001b[1;32mTrue\u001b[0m\u001b[1;33m:\u001b[0m\u001b[1;33m\u001b[0m\u001b[0m\n\u001b[1;32m--> 282\u001b[1;33m             \u001b[0mversion\u001b[0m\u001b[1;33m,\u001b[0m \u001b[0mstatus\u001b[0m\u001b[1;33m,\u001b[0m \u001b[0mreason\u001b[0m \u001b[1;33m=\u001b[0m \u001b[0mself\u001b[0m\u001b[1;33m.\u001b[0m\u001b[0m_read_status\u001b[0m\u001b[1;33m(\u001b[0m\u001b[1;33m)\u001b[0m\u001b[1;33m\u001b[0m\u001b[0m\n\u001b[0m\u001b[0;32m    283\u001b[0m             \u001b[1;32mif\u001b[0m \u001b[0mstatus\u001b[0m \u001b[1;33m!=\u001b[0m \u001b[0mCONTINUE\u001b[0m\u001b[1;33m:\u001b[0m\u001b[1;33m\u001b[0m\u001b[0m\n",
      "\u001b[1;32mc:\\users\\andrew kittredge\\appdata\\local\\programs\\python\\python35\\lib\\http\\client.py\u001b[0m in \u001b[0;36m_read_status\u001b[1;34m(self)\u001b[0m\n\u001b[0;32m    242\u001b[0m     \u001b[1;32mdef\u001b[0m \u001b[0m_read_status\u001b[0m\u001b[1;33m(\u001b[0m\u001b[0mself\u001b[0m\u001b[1;33m)\u001b[0m\u001b[1;33m:\u001b[0m\u001b[1;33m\u001b[0m\u001b[0m\n\u001b[1;32m--> 243\u001b[1;33m         \u001b[0mline\u001b[0m \u001b[1;33m=\u001b[0m \u001b[0mstr\u001b[0m\u001b[1;33m(\u001b[0m\u001b[0mself\u001b[0m\u001b[1;33m.\u001b[0m\u001b[0mfp\u001b[0m\u001b[1;33m.\u001b[0m\u001b[0mreadline\u001b[0m\u001b[1;33m(\u001b[0m\u001b[0m_MAXLINE\u001b[0m \u001b[1;33m+\u001b[0m \u001b[1;36m1\u001b[0m\u001b[1;33m)\u001b[0m\u001b[1;33m,\u001b[0m \u001b[1;34m\"iso-8859-1\"\u001b[0m\u001b[1;33m)\u001b[0m\u001b[1;33m\u001b[0m\u001b[0m\n\u001b[0m\u001b[0;32m    244\u001b[0m         \u001b[1;32mif\u001b[0m \u001b[0mlen\u001b[0m\u001b[1;33m(\u001b[0m\u001b[0mline\u001b[0m\u001b[1;33m)\u001b[0m \u001b[1;33m>\u001b[0m \u001b[0m_MAXLINE\u001b[0m\u001b[1;33m:\u001b[0m\u001b[1;33m\u001b[0m\u001b[0m\n",
      "\u001b[1;32mc:\\users\\andrew kittredge\\appdata\\local\\programs\\python\\python35\\lib\\socket.py\u001b[0m in \u001b[0;36mreadinto\u001b[1;34m(self, b)\u001b[0m\n\u001b[0;32m    574\u001b[0m             \u001b[1;32mtry\u001b[0m\u001b[1;33m:\u001b[0m\u001b[1;33m\u001b[0m\u001b[0m\n\u001b[1;32m--> 575\u001b[1;33m                 \u001b[1;32mreturn\u001b[0m \u001b[0mself\u001b[0m\u001b[1;33m.\u001b[0m\u001b[0m_sock\u001b[0m\u001b[1;33m.\u001b[0m\u001b[0mrecv_into\u001b[0m\u001b[1;33m(\u001b[0m\u001b[0mb\u001b[0m\u001b[1;33m)\u001b[0m\u001b[1;33m\u001b[0m\u001b[0m\n\u001b[0m\u001b[0;32m    576\u001b[0m             \u001b[1;32mexcept\u001b[0m \u001b[0mtimeout\u001b[0m\u001b[1;33m:\u001b[0m\u001b[1;33m\u001b[0m\u001b[0m\n",
      "\u001b[1;32mc:\\users\\andrew kittredge\\appdata\\local\\programs\\python\\python35\\lib\\ssl.py\u001b[0m in \u001b[0;36mrecv_into\u001b[1;34m(self, buffer, nbytes, flags)\u001b[0m\n\u001b[0;32m    923\u001b[0m                   self.__class__)\n\u001b[1;32m--> 924\u001b[1;33m             \u001b[1;32mreturn\u001b[0m \u001b[0mself\u001b[0m\u001b[1;33m.\u001b[0m\u001b[0mread\u001b[0m\u001b[1;33m(\u001b[0m\u001b[0mnbytes\u001b[0m\u001b[1;33m,\u001b[0m \u001b[0mbuffer\u001b[0m\u001b[1;33m)\u001b[0m\u001b[1;33m\u001b[0m\u001b[0m\n\u001b[0m\u001b[0;32m    925\u001b[0m         \u001b[1;32melse\u001b[0m\u001b[1;33m:\u001b[0m\u001b[1;33m\u001b[0m\u001b[0m\n",
      "\u001b[1;32mc:\\users\\andrew kittredge\\appdata\\local\\programs\\python\\python35\\lib\\ssl.py\u001b[0m in \u001b[0;36mread\u001b[1;34m(self, len, buffer)\u001b[0m\n\u001b[0;32m    785\u001b[0m         \u001b[1;32mtry\u001b[0m\u001b[1;33m:\u001b[0m\u001b[1;33m\u001b[0m\u001b[0m\n\u001b[1;32m--> 786\u001b[1;33m             \u001b[1;32mreturn\u001b[0m \u001b[0mself\u001b[0m\u001b[1;33m.\u001b[0m\u001b[0m_sslobj\u001b[0m\u001b[1;33m.\u001b[0m\u001b[0mread\u001b[0m\u001b[1;33m(\u001b[0m\u001b[0mlen\u001b[0m\u001b[1;33m,\u001b[0m \u001b[0mbuffer\u001b[0m\u001b[1;33m)\u001b[0m\u001b[1;33m\u001b[0m\u001b[0m\n\u001b[0m\u001b[0;32m    787\u001b[0m         \u001b[1;32mexcept\u001b[0m \u001b[0mSSLError\u001b[0m \u001b[1;32mas\u001b[0m \u001b[0mx\u001b[0m\u001b[1;33m:\u001b[0m\u001b[1;33m\u001b[0m\u001b[0m\n",
      "\u001b[1;32mc:\\users\\andrew kittredge\\appdata\\local\\programs\\python\\python35\\lib\\ssl.py\u001b[0m in \u001b[0;36mread\u001b[1;34m(self, len, buffer)\u001b[0m\n\u001b[0;32m    569\u001b[0m         \u001b[1;32mif\u001b[0m \u001b[0mbuffer\u001b[0m \u001b[1;32mis\u001b[0m \u001b[1;32mnot\u001b[0m \u001b[1;32mNone\u001b[0m\u001b[1;33m:\u001b[0m\u001b[1;33m\u001b[0m\u001b[0m\n\u001b[1;32m--> 570\u001b[1;33m             \u001b[0mv\u001b[0m \u001b[1;33m=\u001b[0m \u001b[0mself\u001b[0m\u001b[1;33m.\u001b[0m\u001b[0m_sslobj\u001b[0m\u001b[1;33m.\u001b[0m\u001b[0mread\u001b[0m\u001b[1;33m(\u001b[0m\u001b[0mlen\u001b[0m\u001b[1;33m,\u001b[0m \u001b[0mbuffer\u001b[0m\u001b[1;33m)\u001b[0m\u001b[1;33m\u001b[0m\u001b[0m\n\u001b[0m\u001b[0;32m    571\u001b[0m         \u001b[1;32melse\u001b[0m\u001b[1;33m:\u001b[0m\u001b[1;33m\u001b[0m\u001b[0m\n",
      "\u001b[1;31mProtocolError\u001b[0m: ('Connection aborted.', TimeoutError(10060, 'A connection attempt failed because the connected party did not properly respond after a period of time, or established connection failed because connected host has failed to respond', None, 10060, None))",
      "\nDuring handling of the above exception, another exception occurred:\n",
      "\u001b[1;31mConnectionError\u001b[0m                           Traceback (most recent call last)",
      "\u001b[1;32m<ipython-input-10-131cc73231c3>\u001b[0m in \u001b[0;36m<module>\u001b[1;34m()\u001b[0m\n\u001b[0;32m      1\u001b[0m \u001b[1;32mfor\u001b[0m \u001b[0mtest_doc\u001b[0m\u001b[1;33m,\u001b[0m \u001b[0mperiod\u001b[0m \u001b[1;32min\u001b[0m \u001b[0mtqdm_notebook\u001b[0m\u001b[1;33m(\u001b[0m\u001b[0mtest_doc_periods\u001b[0m\u001b[1;33m,\u001b[0m \u001b[0mdesc\u001b[0m\u001b[1;33m=\u001b[0m\u001b[1;34m\"period loop\"\u001b[0m\u001b[1;33m)\u001b[0m\u001b[1;33m:\u001b[0m\u001b[1;33m\u001b[0m\u001b[0m\n\u001b[1;32m----> 2\u001b[1;33m     \u001b[0mget_documents_all_companies\u001b[0m\u001b[1;33m(\u001b[0m\u001b[0mtest_doc\u001b[0m\u001b[1;33m[\u001b[0m\u001b[1;34m'arcrole'\u001b[0m\u001b[1;33m]\u001b[0m\u001b[1;33m,\u001b[0m \u001b[0myear\u001b[0m\u001b[1;33m=\u001b[0m\u001b[0mperiod\u001b[0m\u001b[1;33m[\u001b[0m\u001b[1;36m0\u001b[0m\u001b[1;33m]\u001b[0m\u001b[1;33m,\u001b[0m \u001b[0mperiod\u001b[0m\u001b[1;33m=\u001b[0m\u001b[0mperiod\u001b[0m\u001b[1;33m[\u001b[0m\u001b[1;36m1\u001b[0m\u001b[1;33m]\u001b[0m\u001b[1;33m)\u001b[0m\u001b[1;33m\u001b[0m\u001b[0m\n\u001b[0m",
      "\u001b[1;32m<ipython-input-3-2c4ccb87a8b5>\u001b[0m in \u001b[0;36mget_documents_all_companies\u001b[1;34m(disclosure_type, year, period)\u001b[0m\n\u001b[0;32m      4\u001b[0m     \u001b[1;32mfor\u001b[0m  \u001b[0mdoc\u001b[0m \u001b[1;32min\u001b[0m \u001b[0mtqdm_notebook\u001b[0m\u001b[1;33m(\u001b[0m\u001b[0mfound_documents\u001b[0m\u001b[1;33m,\u001b[0m \u001b[0mdesc\u001b[0m\u001b[1;33m=\u001b[0m\u001b[1;34m\"{0} {1}-{2}\"\u001b[0m\u001b[1;33m.\u001b[0m\u001b[0mformat\u001b[0m\u001b[1;33m(\u001b[0m\u001b[0mdisclosure_type\u001b[0m\u001b[1;33m,\u001b[0m \u001b[0myear\u001b[0m\u001b[1;33m,\u001b[0m \u001b[0mperiod\u001b[0m\u001b[1;33m)\u001b[0m\u001b[1;33m,\u001b[0m \u001b[0mleave\u001b[0m\u001b[1;33m=\u001b[0m\u001b[1;32mFalse\u001b[0m\u001b[1;33m)\u001b[0m\u001b[1;33m:\u001b[0m\u001b[1;33m\u001b[0m\u001b[0m\n\u001b[0;32m      5\u001b[0m         \u001b[1;32mtry\u001b[0m\u001b[1;33m:\u001b[0m\u001b[1;33m\u001b[0m\u001b[0m\n\u001b[1;32m----> 6\u001b[1;33m             \u001b[0mdocs\u001b[0m\u001b[1;33m.\u001b[0m\u001b[0mappend\u001b[0m\u001b[1;33m(\u001b[0m\u001b[0mget_doc_contents\u001b[0m\u001b[1;33m(\u001b[0m\u001b[0mdoc\u001b[0m\u001b[1;33m)\u001b[0m\u001b[1;33m)\u001b[0m\u001b[1;33m\u001b[0m\u001b[0m\n\u001b[0m\u001b[0;32m      7\u001b[0m         \u001b[1;32mexcept\u001b[0m \u001b[0mrequests\u001b[0m\u001b[1;33m.\u001b[0m\u001b[0mHTTPError\u001b[0m\u001b[1;33m:\u001b[0m\u001b[1;33m\u001b[0m\u001b[0m\n\u001b[0;32m      8\u001b[0m             \u001b[0mprint\u001b[0m\u001b[1;33m(\u001b[0m\u001b[0mdisclosure_type\u001b[0m\u001b[1;33m,\u001b[0m \u001b[0myear\u001b[0m\u001b[1;33m,\u001b[0m \u001b[0mperiod\u001b[0m\u001b[1;33m,\u001b[0m \u001b[0mdoc\u001b[0m\u001b[1;33m)\u001b[0m\u001b[1;33m\u001b[0m\u001b[0m\n",
      "\u001b[1;32m<ipython-input-7-17d2769ae888>\u001b[0m in \u001b[0;36m<lambda>\u001b[1;34m(doc)\u001b[0m\n\u001b[1;32m----> 1\u001b[1;33m \u001b[0mget_doc_contents\u001b[0m \u001b[1;33m=\u001b[0m \u001b[1;32mlambda\u001b[0m \u001b[0mdoc\u001b[0m \u001b[1;33m:\u001b[0m \u001b[0mcb\u001b[0m\u001b[1;33m.\u001b[0m\u001b[0mdocument_contents\u001b[0m\u001b[1;33m(\u001b[0m\u001b[0mblob_id\u001b[0m\u001b[1;33m=\u001b[0m\u001b[0mdoc\u001b[0m\u001b[1;33m[\u001b[0m\u001b[1;34m'blob_id'\u001b[0m\u001b[1;33m]\u001b[0m\u001b[1;33m,\u001b[0m \u001b[0mSEC_ID\u001b[0m\u001b[1;33m=\u001b[0m\u001b[0mdoc\u001b[0m\u001b[1;33m[\u001b[0m\u001b[1;34m'sec_filing_id'\u001b[0m\u001b[1;33m]\u001b[0m\u001b[1;33m)\u001b[0m\u001b[1;33m\u001b[0m\u001b[0m\n\u001b[0m",
      "\u001b[1;32mC:\\Users\\Andrew Kittredge\\git\\python_api_client\\calcbench\\api_client.py\u001b[0m in \u001b[0;36mdocument_contents\u001b[1;34m(blob_id, SEC_ID, SEC_URL)\u001b[0m\n\u001b[0;32m    444\u001b[0m                                         \u001b[0mheaders\u001b[0m\u001b[1;33m=\u001b[0m\u001b[1;33m{\u001b[0m\u001b[1;34m'content-type'\u001b[0m\u001b[1;33m:\u001b[0m \u001b[1;34m'application/json'\u001b[0m\u001b[1;33m}\u001b[0m\u001b[1;33m,\u001b[0m\u001b[1;33m\u001b[0m\u001b[0m\n\u001b[0;32m    445\u001b[0m                                         verify=_SESSION_STUFF['ssl_verify'])\n\u001b[1;32m--> 446\u001b[1;33m     \u001b[0mresponse\u001b[0m\u001b[1;33m.\u001b[0m\u001b[0mraise_for_status\u001b[0m\u001b[1;33m(\u001b[0m\u001b[1;33m)\u001b[0m\u001b[1;33m\u001b[0m\u001b[0m\n\u001b[0m\u001b[0;32m    447\u001b[0m     \u001b[1;32mreturn\u001b[0m \u001b[0mresponse\u001b[0m\u001b[1;33m.\u001b[0m\u001b[0mjson\u001b[0m\u001b[1;33m(\u001b[0m\u001b[1;33m)\u001b[0m\u001b[1;33m[\u001b[0m\u001b[1;34m'blobs'\u001b[0m\u001b[1;33m]\u001b[0m\u001b[1;33m[\u001b[0m\u001b[1;36m0\u001b[0m\u001b[1;33m]\u001b[0m\u001b[1;33m\u001b[0m\u001b[0m\n\u001b[0;32m    448\u001b[0m \u001b[1;33m\u001b[0m\u001b[0m\n",
      "\u001b[1;32mc:\\users\\andrew kittredge\\appdata\\local\\programs\\python\\python35\\lib\\site-packages\\requests\\sessions.py\u001b[0m in \u001b[0;36mget\u001b[1;34m(self, url, **kwargs)\u001b[0m\n\u001b[0;32m    486\u001b[0m \u001b[1;33m\u001b[0m\u001b[0m\n\u001b[0;32m    487\u001b[0m         \u001b[0mkwargs\u001b[0m\u001b[1;33m.\u001b[0m\u001b[0msetdefault\u001b[0m\u001b[1;33m(\u001b[0m\u001b[1;34m'allow_redirects'\u001b[0m\u001b[1;33m,\u001b[0m \u001b[1;32mTrue\u001b[0m\u001b[1;33m)\u001b[0m\u001b[1;33m\u001b[0m\u001b[0m\n\u001b[1;32m--> 488\u001b[1;33m         \u001b[1;32mreturn\u001b[0m \u001b[0mself\u001b[0m\u001b[1;33m.\u001b[0m\u001b[0mrequest\u001b[0m\u001b[1;33m(\u001b[0m\u001b[1;34m'GET'\u001b[0m\u001b[1;33m,\u001b[0m \u001b[0murl\u001b[0m\u001b[1;33m,\u001b[0m \u001b[1;33m**\u001b[0m\u001b[0mkwargs\u001b[0m\u001b[1;33m)\u001b[0m\u001b[1;33m\u001b[0m\u001b[0m\n\u001b[0m\u001b[0;32m    489\u001b[0m \u001b[1;33m\u001b[0m\u001b[0m\n\u001b[0;32m    490\u001b[0m     \u001b[1;32mdef\u001b[0m \u001b[0moptions\u001b[0m\u001b[1;33m(\u001b[0m\u001b[0mself\u001b[0m\u001b[1;33m,\u001b[0m \u001b[0murl\u001b[0m\u001b[1;33m,\u001b[0m \u001b[1;33m**\u001b[0m\u001b[0mkwargs\u001b[0m\u001b[1;33m)\u001b[0m\u001b[1;33m:\u001b[0m\u001b[1;33m\u001b[0m\u001b[0m\n",
      "\u001b[1;32mc:\\users\\andrew kittredge\\appdata\\local\\programs\\python\\python35\\lib\\site-packages\\requests\\sessions.py\u001b[0m in \u001b[0;36mrequest\u001b[1;34m(self, method, url, params, data, headers, cookies, files, auth, timeout, allow_redirects, proxies, hooks, stream, verify, cert, json)\u001b[0m\n\u001b[0;32m    473\u001b[0m         }\n\u001b[0;32m    474\u001b[0m         \u001b[0msend_kwargs\u001b[0m\u001b[1;33m.\u001b[0m\u001b[0mupdate\u001b[0m\u001b[1;33m(\u001b[0m\u001b[0msettings\u001b[0m\u001b[1;33m)\u001b[0m\u001b[1;33m\u001b[0m\u001b[0m\n\u001b[1;32m--> 475\u001b[1;33m         \u001b[0mresp\u001b[0m \u001b[1;33m=\u001b[0m \u001b[0mself\u001b[0m\u001b[1;33m.\u001b[0m\u001b[0msend\u001b[0m\u001b[1;33m(\u001b[0m\u001b[0mprep\u001b[0m\u001b[1;33m,\u001b[0m \u001b[1;33m**\u001b[0m\u001b[0msend_kwargs\u001b[0m\u001b[1;33m)\u001b[0m\u001b[1;33m\u001b[0m\u001b[0m\n\u001b[0m\u001b[0;32m    476\u001b[0m \u001b[1;33m\u001b[0m\u001b[0m\n\u001b[0;32m    477\u001b[0m         \u001b[1;32mreturn\u001b[0m \u001b[0mresp\u001b[0m\u001b[1;33m\u001b[0m\u001b[0m\n",
      "\u001b[1;32mc:\\users\\andrew kittredge\\appdata\\local\\programs\\python\\python35\\lib\\site-packages\\requests\\sessions.py\u001b[0m in \u001b[0;36msend\u001b[1;34m(self, request, **kwargs)\u001b[0m\n\u001b[0;32m    594\u001b[0m \u001b[1;33m\u001b[0m\u001b[0m\n\u001b[0;32m    595\u001b[0m         \u001b[1;31m# Send the request\u001b[0m\u001b[1;33m\u001b[0m\u001b[1;33m\u001b[0m\u001b[0m\n\u001b[1;32m--> 596\u001b[1;33m         \u001b[0mr\u001b[0m \u001b[1;33m=\u001b[0m \u001b[0madapter\u001b[0m\u001b[1;33m.\u001b[0m\u001b[0msend\u001b[0m\u001b[1;33m(\u001b[0m\u001b[0mrequest\u001b[0m\u001b[1;33m,\u001b[0m \u001b[1;33m**\u001b[0m\u001b[0mkwargs\u001b[0m\u001b[1;33m)\u001b[0m\u001b[1;33m\u001b[0m\u001b[0m\n\u001b[0m\u001b[0;32m    597\u001b[0m \u001b[1;33m\u001b[0m\u001b[0m\n\u001b[0;32m    598\u001b[0m         \u001b[1;31m# Total elapsed time of the request (approximately)\u001b[0m\u001b[1;33m\u001b[0m\u001b[1;33m\u001b[0m\u001b[0m\n",
      "\u001b[1;32mc:\\users\\andrew kittredge\\appdata\\local\\programs\\python\\python35\\lib\\site-packages\\requests\\adapters.py\u001b[0m in \u001b[0;36msend\u001b[1;34m(self, request, stream, timeout, verify, cert, proxies)\u001b[0m\n\u001b[0;32m    471\u001b[0m \u001b[1;33m\u001b[0m\u001b[0m\n\u001b[0;32m    472\u001b[0m         \u001b[1;32mexcept\u001b[0m \u001b[1;33m(\u001b[0m\u001b[0mProtocolError\u001b[0m\u001b[1;33m,\u001b[0m \u001b[0msocket\u001b[0m\u001b[1;33m.\u001b[0m\u001b[0merror\u001b[0m\u001b[1;33m)\u001b[0m \u001b[1;32mas\u001b[0m \u001b[0merr\u001b[0m\u001b[1;33m:\u001b[0m\u001b[1;33m\u001b[0m\u001b[0m\n\u001b[1;32m--> 473\u001b[1;33m             \u001b[1;32mraise\u001b[0m \u001b[0mConnectionError\u001b[0m\u001b[1;33m(\u001b[0m\u001b[0merr\u001b[0m\u001b[1;33m,\u001b[0m \u001b[0mrequest\u001b[0m\u001b[1;33m=\u001b[0m\u001b[0mrequest\u001b[0m\u001b[1;33m)\u001b[0m\u001b[1;33m\u001b[0m\u001b[0m\n\u001b[0m\u001b[0;32m    474\u001b[0m \u001b[1;33m\u001b[0m\u001b[0m\n\u001b[0;32m    475\u001b[0m         \u001b[1;32mexcept\u001b[0m \u001b[0mMaxRetryError\u001b[0m \u001b[1;32mas\u001b[0m \u001b[0me\u001b[0m\u001b[1;33m:\u001b[0m\u001b[1;33m\u001b[0m\u001b[0m\n",
      "\u001b[1;31mConnectionError\u001b[0m: ('Connection aborted.', TimeoutError(10060, 'A connection attempt failed because the connected party did not properly respond after a period of time, or established connection failed because connected host has failed to respond', None, 10060, None))"
     ]
    }
   ],
   "source": [
    "for test_doc, period in tqdm_notebook(test_doc_periods[44:], desc=\"period loop\"):\n",
    "    get_documents_all_companies(test_doc['arcrole'], year=period[0], period=period[1])"
   ]
  },
  {
   "cell_type": "code",
   "execution_count": 18,
   "metadata": {},
   "outputs": [
    {
     "data": {
      "application/vnd.jupyter.widget-view+json": {
       "model_id": "895013a2f17d429db2e984b37cc2b816"
      }
     },
     "metadata": {},
     "output_type": "display_data"
    },
    {
     "name": "stdout",
     "output_type": "stream",
     "text": [
      "\r"
     ]
    },
    {
     "data": {
      "application/vnd.jupyter.widget-view+json": {
       "model_id": "cb000e8f480c444295970acadd92d5cf"
      }
     },
     "metadata": {},
     "output_type": "display_data"
    },
    {
     "data": {
      "application/vnd.jupyter.widget-view+json": {
       "model_id": "d1f41233b94f40998f4aaf2c853d5a60"
      }
     },
     "metadata": {},
     "output_type": "display_data"
    },
    {
     "data": {
      "application/vnd.jupyter.widget-view+json": {
       "model_id": "4002f2ed661c4c98989e37839433f126"
      }
     },
     "metadata": {},
     "output_type": "display_data"
    },
    {
     "data": {
      "application/vnd.jupyter.widget-view+json": {
       "model_id": "0b187c295fb7474fb591b946eff381b5"
      }
     },
     "metadata": {},
     "output_type": "display_data"
    },
    {
     "data": {
      "application/vnd.jupyter.widget-view+json": {
       "model_id": "6a05b6c2092444ef9182a1ca99eb98b3"
      }
     },
     "metadata": {},
     "output_type": "display_data"
    },
    {
     "data": {
      "application/vnd.jupyter.widget-view+json": {
       "model_id": "e7e1d88c5b8949cd8b80cafa28420699"
      }
     },
     "metadata": {},
     "output_type": "display_data"
    },
    {
     "data": {
      "application/vnd.jupyter.widget-view+json": {
       "model_id": "f2799ae8064344f3a8b6f73da0b58c99"
      }
     },
     "metadata": {},
     "output_type": "display_data"
    },
    {
     "data": {
      "application/vnd.jupyter.widget-view+json": {
       "model_id": "5e2c47703f6f40359785adf78b73e5fb"
      }
     },
     "metadata": {},
     "output_type": "display_data"
    },
    {
     "data": {
      "application/vnd.jupyter.widget-view+json": {
       "model_id": "9d9ac860b0194deca7b2698865f4c78f"
      }
     },
     "metadata": {},
     "output_type": "display_data"
    },
    {
     "data": {
      "application/vnd.jupyter.widget-view+json": {
       "model_id": "2ea76cb83a0b4f03b9a0769c859d546f"
      }
     },
     "metadata": {},
     "output_type": "display_data"
    },
    {
     "data": {
      "application/vnd.jupyter.widget-view+json": {
       "model_id": "3f1ee7f897f34fcbbb65356a37937ed3"
      }
     },
     "metadata": {},
     "output_type": "display_data"
    },
    {
     "data": {
      "application/vnd.jupyter.widget-view+json": {
       "model_id": "0221c59bc29c46ac8044e442d9996c02"
      }
     },
     "metadata": {},
     "output_type": "display_data"
    },
    {
     "data": {
      "application/vnd.jupyter.widget-view+json": {
       "model_id": "c441f442ddba48ce86a78aa37815149d"
      }
     },
     "metadata": {},
     "output_type": "display_data"
    },
    {
     "data": {
      "application/vnd.jupyter.widget-view+json": {
       "model_id": "17a44fa2b5b3409093b5148044bb46e8"
      }
     },
     "metadata": {},
     "output_type": "display_data"
    },
    {
     "data": {
      "application/vnd.jupyter.widget-view+json": {
       "model_id": "c79deca6b06b4ae88a61801d652b8161"
      }
     },
     "metadata": {},
     "output_type": "display_data"
    },
    {
     "name": "stdout",
     "output_type": "stream",
     "text": [
      "1110 2016 2 {'page_url': 'ftp://ftp.sec.gov/edgar/data/1472595/000147259516000220/june302016-form10q.htm', 'local_name': None, 'blob_id': '607039_section111', 'accession_id': 165832, 'received_date': '2016-08-04', 'description': 'R1 Rcm Inc. (ACHI)', 'fiscal_year': 2016, 'entity_id': 4024, 'sec_filing_id': 607039, 'fiscal_period': '2Q', 'fact_id': 0, 'is_detail': False, 'network_id': 0, 'filing_date': '2016-08-04', 'footnote_type_title': 'Additional 10-K and 10-Q Sections', 'ticker': 'ACHI', 'guide_link': None, 'footnote_type': 1110, 'entity_name': 'R1 Rcm Inc.', 'document_type': '10-Q', 'SEC_URL': 'http://www.sec.gov/Archives/edgar/data/1472595/000147259516000220/0001472595-16-000220-index.htm'}\n",
      "1110 2016 2 {'page_url': 'ftp://ftp.sec.gov/edgar/data/702513/000143774916036550/boch20160630_10q.htm', 'local_name': None, 'blob_id': '608096_section111', 'accession_id': 166230, 'received_date': '2016-08-05', 'description': 'Bank of Commerce Holdings (BOCH)', 'fiscal_year': 2016, 'entity_id': 5180, 'sec_filing_id': 608096, 'fiscal_period': '2Q', 'fact_id': 0, 'is_detail': False, 'network_id': 0, 'filing_date': '2016-08-05', 'footnote_type_title': 'Additional 10-K and 10-Q Sections', 'ticker': 'BOCH', 'guide_link': None, 'footnote_type': 1110, 'entity_name': 'Bank of Commerce Holdings', 'document_type': '10-Q', 'SEC_URL': 'http://www.sec.gov/Archives/edgar/data/702513/000143774916036550/0001437749-16-036550-index.htm'}\n",
      "1110 2016 2 {'page_url': 'ftp://ftp.sec.gov/edgar/data/902791/000119312516676902/d221905d10q.htm', 'local_name': None, 'blob_id': '610294_section111', 'accession_id': 167588, 'received_date': '2016-08-09', 'description': 'Barrett Business Services Inc (BBSI)', 'fiscal_year': 2016, 'entity_id': 6690, 'sec_filing_id': 610294, 'fiscal_period': '2Q', 'fact_id': 0, 'is_detail': False, 'network_id': 0, 'filing_date': '2016-08-09', 'footnote_type_title': 'Additional 10-K and 10-Q Sections', 'ticker': 'BBSI', 'guide_link': None, 'footnote_type': 1110, 'entity_name': 'Barrett Business Services Inc', 'document_type': '10-Q', 'SEC_URL': 'http://www.sec.gov/Archives/edgar/data/902791/000119312516676902/0001193125-16-676902-index.htm'}\n",
      "1110 2016 2 {'page_url': 'ftp://ftp.sec.gov/edgar/data/1075706/000119312516676113/d215574d10q.htm', 'local_name': None, 'blob_id': '609654_section111', 'accession_id': 167121, 'received_date': '2016-08-09', 'description': 'Citizens Holding Co /MS/ (CIZN)', 'fiscal_year': 2016, 'entity_id': 839, 'sec_filing_id': 609654, 'fiscal_period': '2Q', 'fact_id': 0, 'is_detail': False, 'network_id': 0, 'filing_date': '2016-08-09', 'footnote_type_title': 'Additional 10-K and 10-Q Sections', 'ticker': 'CIZN', 'guide_link': None, 'footnote_type': 1110, 'entity_name': 'Citizens Holding Co /MS/', 'document_type': '10-Q', 'SEC_URL': 'http://www.sec.gov/Archives/edgar/data/1075706/000119312516676113/0001193125-16-676113-index.htm'}\n",
      "1110 2016 2 {'page_url': 'ftp://ftp.sec.gov/edgar/data/718413/000165495416001436/a10qjune2016.htm', 'local_name': None, 'blob_id': '611264_section111', 'accession_id': 168096, 'received_date': '2016-08-11', 'description': 'Community Bancorp /VT (CMTV)', 'fiscal_year': 2016, 'entity_id': 5298, 'sec_filing_id': 611264, 'fiscal_period': '2Q', 'fact_id': 0, 'is_detail': False, 'network_id': 0, 'filing_date': '2016-08-11', 'footnote_type_title': 'Additional 10-K and 10-Q Sections', 'ticker': 'CMTV', 'guide_link': None, 'footnote_type': 1110, 'entity_name': 'Community Bancorp /VT', 'document_type': '10-Q', 'SEC_URL': 'http://www.sec.gov/Archives/edgar/data/718413/000165495416001436/0001654954-16-001436-index.htm'}\n",
      "1110 2016 2 {'page_url': 'ftp://ftp.sec.gov/edgar/data/1015780/000101578016000165/etfc-2016630x10q.htm', 'local_name': None, 'blob_id': '607238_section111', 'accession_id': 165874, 'received_date': '2016-08-04', 'description': 'E Trade Financial Corp (ETFC)', 'fiscal_year': 2016, 'entity_id': 175, 'sec_filing_id': 607238, 'fiscal_period': '2Q', 'fact_id': 0, 'is_detail': False, 'network_id': 0, 'filing_date': '2016-08-04', 'footnote_type_title': 'Additional 10-K and 10-Q Sections', 'ticker': 'ETFC', 'guide_link': None, 'footnote_type': 1110, 'entity_name': 'E Trade Financial Corp', 'document_type': '10-Q', 'SEC_URL': 'http://www.sec.gov/Archives/edgar/data/1015780/000101578016000165/0001015780-16-000165-index.htm'}\n",
      "1110 2016 2 {'page_url': 'ftp://ftp.sec.gov/edgar/data/1490873/000159406216000609/form10q.htm', 'local_name': None, 'blob_id': '617809_section111', 'accession_id': 170374, 'received_date': '2016-09-19', 'description': 'Eco Science Solutions, Inc. (ESSI)', 'fiscal_year': 2017, 'entity_id': 4216, 'sec_filing_id': 617809, 'fiscal_period': '2Q', 'fact_id': 0, 'is_detail': False, 'network_id': 0, 'filing_date': '2016-09-19', 'footnote_type_title': 'Additional 10-K and 10-Q Sections', 'ticker': 'ESSI', 'guide_link': None, 'footnote_type': 1110, 'entity_name': 'Eco Science Solutions, Inc.', 'document_type': '10-Q', 'SEC_URL': 'http://www.sec.gov/Archives/edgar/data/1490873/000159406216000609/0001594062-16-000609-index.htm'}\n",
      "1110 2016 2 {'page_url': 'ftp://ftp.sec.gov/edgar/data/1329842/000110465916138987/a16-11511_110q.htm', 'local_name': None, 'blob_id': '611199_section111', 'accession_id': 168044, 'received_date': '2016-08-11', 'description': 'Federal Home Loan Bank of New York (FHLBNY)', 'fiscal_year': 2016, 'entity_id': 2496, 'sec_filing_id': 611199, 'fiscal_period': '2Q', 'fact_id': 0, 'is_detail': False, 'network_id': 0, 'filing_date': '2016-08-11', 'footnote_type_title': 'Additional 10-K and 10-Q Sections', 'ticker': 'FHLBNY', 'guide_link': None, 'footnote_type': 1110, 'entity_name': 'Federal Home Loan Bank of New York', 'document_type': '10-Q', 'SEC_URL': 'http://www.sec.gov/Archives/edgar/data/1329842/000110465916138987/0001104659-16-138987-index.htm'}\n",
      "1110 2016 2 {'page_url': 'ftp://ftp.sec.gov/edgar/data/36029/000119312516661536/d209433d10q.htm', 'local_name': None, 'blob_id': '603017_section111', 'accession_id': 164499, 'received_date': '2016-07-28', 'description': 'First Financial Bankshares Inc (FFIN)', 'fiscal_year': 2016, 'entity_id': 4912, 'sec_filing_id': 603017, 'fiscal_period': '2Q', 'fact_id': 0, 'is_detail': False, 'network_id': 0, 'filing_date': '2016-07-28', 'footnote_type_title': 'Additional 10-K and 10-Q Sections', 'ticker': 'FFIN', 'guide_link': None, 'footnote_type': 1110, 'entity_name': 'First Financial Bankshares Inc', 'document_type': '10-Q', 'SEC_URL': 'http://www.sec.gov/Archives/edgar/data/36029/000119312516661536/0001193125-16-661536-index.htm'}\n",
      "1110 2016 2 {'page_url': 'ftp://ftp.sec.gov/edgar/data/1114927/000114036116074649/form10q.htm', 'local_name': None, 'blob_id': '606008_section111', 'accession_id': 165555, 'received_date': '2016-08-03', 'description': 'First Northern Community Bancorp (FNRN)', 'fiscal_year': 2016, 'entity_id': 1316, 'sec_filing_id': 606008, 'fiscal_period': '2Q', 'fact_id': 0, 'is_detail': False, 'network_id': 0, 'filing_date': '2016-08-03', 'footnote_type_title': 'Additional 10-K and 10-Q Sections', 'ticker': 'FNRN', 'guide_link': None, 'footnote_type': 1110, 'entity_name': 'First Northern Community Bancorp', 'document_type': '10-Q', 'SEC_URL': 'http://www.sec.gov/Archives/edgar/data/1114927/000114036116074649/0001140361-16-074649-index.htm'}\n",
      "1110 2016 2 {'page_url': 'ftp://ftp.sec.gov/edgar/data/1128361/000112836116000097/hope-6301610q.htm', 'local_name': None, 'blob_id': '609490_section111', 'accession_id': 167055, 'received_date': '2016-08-08', 'description': 'Hope Bancorp Inc (BBCN)', 'fiscal_year': 2016, 'entity_id': 1425, 'sec_filing_id': 609490, 'fiscal_period': '2Q', 'fact_id': 0, 'is_detail': False, 'network_id': 0, 'filing_date': '2016-08-08', 'footnote_type_title': 'Additional 10-K and 10-Q Sections', 'ticker': 'BBCN', 'guide_link': None, 'footnote_type': 1110, 'entity_name': 'Hope Bancorp Inc', 'document_type': '10-Q', 'SEC_URL': 'http://www.sec.gov/Archives/edgar/data/1128361/000112836116000097/0001128361-16-000097-index.htm'}\n"
     ]
    },
    {
     "name": "stdout",
     "output_type": "stream",
     "text": [
      "1110 2016 2 {'page_url': 'ftp://ftp.sec.gov/edgar/data/315374/000114420416122905/v447426_10q.htm', 'local_name': None, 'blob_id': '616164_section111', 'accession_id': 169998, 'received_date': '2016-09-06', 'description': 'Hurco Companies Inc (HURC)', 'fiscal_year': 2016, 'entity_id': 4749, 'sec_filing_id': 616164, 'fiscal_period': '3Q', 'fact_id': 0, 'is_detail': False, 'network_id': 0, 'filing_date': '2016-09-06', 'footnote_type_title': 'Additional 10-K and 10-Q Sections', 'ticker': 'HURC', 'guide_link': None, 'footnote_type': 1110, 'entity_name': 'Hurco Companies Inc', 'document_type': '10-Q', 'SEC_URL': 'http://www.sec.gov/Archives/edgar/data/315374/000114420416122905/0001144204-16-122905-index.htm'}\n",
      "1110 2016 2 {'page_url': 'ftp://ftp.sec.gov/edgar/data/1495231/000149523116000133/izea16063010q.htm', 'local_name': None, 'blob_id': '611149_section111', 'accession_id': 168015, 'received_date': '2016-08-11', 'description': 'IZEA, Inc. (IZEA)', 'fiscal_year': 2016, 'entity_id': 4269, 'sec_filing_id': 611149, 'fiscal_period': '2Q', 'fact_id': 0, 'is_detail': False, 'network_id': 0, 'filing_date': '2016-08-11', 'footnote_type_title': 'Additional 10-K and 10-Q Sections', 'ticker': 'IZEA', 'guide_link': None, 'footnote_type': 1110, 'entity_name': 'IZEA, Inc.', 'document_type': '10-Q', 'SEC_URL': 'http://www.sec.gov/Archives/edgar/data/1495231/000149523116000133/0001495231-16-000133-index.htm'}\n",
      "1110 2016 2 {'page_url': 'ftp://ftp.sec.gov/edgar/data/19617/000001961716001056/corpq22016.htm', 'local_name': None, 'blob_id': '605838_section111', 'accession_id': 165459, 'received_date': '2016-08-03', 'description': 'Jpmorgan Chase & Co (JPM)', 'fiscal_year': 2016, 'entity_id': 4560, 'sec_filing_id': 605838, 'fiscal_period': '2Q', 'fact_id': 0, 'is_detail': False, 'network_id': 0, 'filing_date': '2016-08-03', 'footnote_type_title': 'Additional 10-K and 10-Q Sections', 'ticker': 'JPM', 'guide_link': None, 'footnote_type': 1110, 'entity_name': 'Jpmorgan Chase & Co', 'document_type': '10-Q', 'SEC_URL': 'http://www.sec.gov/Archives/edgar/data/19617/000001961716001056/0000019617-16-001056-index.htm'}\n",
      "1110 2016 2 {'page_url': 'ftp://ftp.sec.gov/edgar/data/704051/000070405116000179/lm_10qx6302016.htm', 'local_name': None, 'blob_id': '605177_section111', 'accession_id': 165204, 'received_date': '2016-08-02', 'description': 'Legg Mason, Inc. (LM)', 'fiscal_year': 2017, 'entity_id': 5191, 'sec_filing_id': 605177, 'fiscal_period': '1Q', 'fact_id': 0, 'is_detail': False, 'network_id': 0, 'filing_date': '2016-08-02', 'footnote_type_title': 'Additional 10-K and 10-Q Sections', 'ticker': 'LM', 'guide_link': None, 'footnote_type': 1110, 'entity_name': 'Legg Mason, Inc.', 'document_type': '10-Q', 'SEC_URL': 'http://www.sec.gov/Archives/edgar/data/704051/000070405116000179/0000704051-16-000179-index.htm'}\n",
      "1110 2016 2 {'page_url': 'ftp://ftp.sec.gov/edgar/data/1356564/000144586616002517/leom10q08152016.htm', 'local_name': None, 'blob_id': '612820_section111', 'accession_id': 169161, 'received_date': '2016-08-15', 'description': 'Leo Motors, Inc. (LEOM)', 'fiscal_year': 2016, 'entity_id': 2733, 'sec_filing_id': 612820, 'fiscal_period': '2Q', 'fact_id': 0, 'is_detail': False, 'network_id': 0, 'filing_date': '2016-08-15', 'footnote_type_title': 'Additional 10-K and 10-Q Sections', 'ticker': 'LEOM', 'guide_link': None, 'footnote_type': 1110, 'entity_name': 'Leo Motors, Inc.', 'document_type': '10-Q', 'SEC_URL': 'http://www.sec.gov/Archives/edgar/data/1356564/000144586616002517/0001445866-16-002517-index.htm'}\n",
      "1110 2016 2 {'page_url': 'ftp://ftp.sec.gov/edgar/data/1139812/000113981216000088/a06301610q.htm', 'local_name': None, 'blob_id': '608521_section111', 'accession_id': 166532, 'received_date': '2016-08-05', 'description': 'Mb Financial Inc /MD (MBFI)', 'fiscal_year': 2016, 'entity_id': 1523, 'sec_filing_id': 608521, 'fiscal_period': '2Q', 'fact_id': 0, 'is_detail': False, 'network_id': 0, 'filing_date': '2016-08-05', 'footnote_type_title': 'Additional 10-K and 10-Q Sections', 'ticker': 'MBFI', 'guide_link': None, 'footnote_type': 1110, 'entity_name': 'Mb Financial Inc /MD', 'document_type': '10-Q', 'SEC_URL': 'http://www.sec.gov/Archives/edgar/data/1139812/000113981216000088/0001139812-16-000088-index.htm'}\n",
      "1110 2016 2 {'page_url': 'ftp://ftp.sec.gov/edgar/data/1600125/000119312516675086/d213545d10q.htm', 'local_name': None, 'blob_id': '609048_section111', 'accession_id': 166814, 'received_date': '2016-08-08', 'description': 'Meridian Bancorp, Inc. (EBSB)', 'fiscal_year': 2016, 'entity_id': 3405, 'sec_filing_id': 609048, 'fiscal_period': '2Q', 'fact_id': 0, 'is_detail': False, 'network_id': 0, 'filing_date': '2016-08-08', 'footnote_type_title': 'Additional 10-K and 10-Q Sections', 'ticker': 'EBSB', 'guide_link': None, 'footnote_type': 1110, 'entity_name': 'Meridian Bancorp, Inc.', 'document_type': '10-Q', 'SEC_URL': 'http://www.sec.gov/Archives/edgar/data/1600125/000119312516675086/0001193125-16-675086-index.htm'}\n",
      "1110 2016 2 {'page_url': 'ftp://ftp.sec.gov/edgar/data/1578735/000157873516000141/nghc20162q10-q.htm', 'local_name': None, 'blob_id': '608334_section111', 'accession_id': 166368, 'received_date': '2016-08-05', 'description': 'National General Holdings Corp. (NGHC)', 'fiscal_year': 2016, 'entity_id': 9952, 'sec_filing_id': 608334, 'fiscal_period': '2Q', 'fact_id': 0, 'is_detail': False, 'network_id': 0, 'filing_date': '2016-08-05', 'footnote_type_title': 'Additional 10-K and 10-Q Sections', 'ticker': 'NGHC', 'guide_link': None, 'footnote_type': 1110, 'entity_name': 'National General Holdings Corp.', 'document_type': '10-Q', 'SEC_URL': 'http://www.sec.gov/Archives/edgar/data/1578735/000157873516000141/0001578735-16-000141-index.htm'}\n",
      "1110 2016 2 {'page_url': 'ftp://ftp.sec.gov/edgar/data/1504461/000150446116000034/ngl-6302016x10q.htm', 'local_name': None, 'blob_id': '610259_section111', 'accession_id': 167431, 'received_date': '2016-08-09', 'description': 'NGL Energy Partners LP (NGL)', 'fiscal_year': 2017, 'entity_id': 4385, 'sec_filing_id': 610259, 'fiscal_period': '1Q', 'fact_id': 0, 'is_detail': False, 'network_id': 0, 'filing_date': '2016-08-09', 'footnote_type_title': 'Additional 10-K and 10-Q Sections', 'ticker': 'NGL', 'guide_link': None, 'footnote_type': 1110, 'entity_name': 'NGL Energy Partners LP', 'document_type': '10-Q', 'SEC_URL': 'http://www.sec.gov/Archives/edgar/data/1504461/000150446116000034/0001504461-16-000034-index.htm'}\n",
      "1110 2016 2 {'page_url': 'ftp://ftp.sec.gov/edgar/data/1002517/000100251716000078/nuan0630201610-q.htm', 'local_name': None, 'blob_id': '609977_section111', 'accession_id': 167353, 'received_date': '2016-08-09', 'description': 'Nuance Communications, Inc. (NUAN)', 'fiscal_year': 2016, 'entity_id': 40, 'sec_filing_id': 609977, 'fiscal_period': '3Q', 'fact_id': 0, 'is_detail': False, 'network_id': 0, 'filing_date': '2016-08-09', 'footnote_type_title': 'Additional 10-K and 10-Q Sections', 'ticker': 'NUAN', 'guide_link': None, 'footnote_type': 1110, 'entity_name': 'Nuance Communications, Inc.', 'document_type': '10-Q', 'SEC_URL': 'http://www.sec.gov/Archives/edgar/data/1002517/000100251716000078/0001002517-16-000078-index.htm'}\n",
      "1110 2016 2 {'page_url': 'ftp://ftp.sec.gov/edgar/data/1097792/000121390016016316/f10q0616_omintoinc.htm', 'local_name': None, 'blob_id': '614161_section111', 'accession_id': 169493, 'received_date': '2016-08-22', 'description': 'Ominto, Inc. (OMNT)', 'fiscal_year': 2016, 'entity_id': 1131, 'sec_filing_id': 614161, 'fiscal_period': '3Q', 'fact_id': 0, 'is_detail': False, 'network_id': 0, 'filing_date': '2016-08-22', 'footnote_type_title': 'Additional 10-K and 10-Q Sections', 'ticker': 'OMNT', 'guide_link': None, 'footnote_type': 1110, 'entity_name': 'Ominto, Inc.', 'document_type': '10-Q', 'SEC_URL': 'http://www.sec.gov/Archives/edgar/data/1097792/000121390016016316/0001213900-16-016316-index.htm'}\n"
     ]
    },
    {
     "name": "stdout",
     "output_type": "stream",
     "text": [
      "1110 2016 2 {'page_url': 'ftp://ftp.sec.gov/edgar/data/1321070/000143774916037388/ottw20160630_10q.htm', 'local_name': None, 'blob_id': '612167_section111', 'accession_id': 168626, 'received_date': '2016-08-15', 'description': 'Ottawa Bancorp Inc (OTTW)', 'fiscal_year': 2016, 'entity_id': 2404, 'sec_filing_id': 612167, 'fiscal_period': '2Q', 'fact_id': 0, 'is_detail': False, 'network_id': 0, 'filing_date': '2016-08-15', 'footnote_type_title': 'Additional 10-K and 10-Q Sections', 'ticker': 'OTTW', 'guide_link': None, 'footnote_type': 1110, 'entity_name': 'Ottawa Bancorp Inc', 'document_type': '10-Q', 'SEC_URL': 'http://www.sec.gov/Archives/edgar/data/1321070/000143774916037388/0001437749-16-037388-index.htm'}\n",
      "1110 2016 2 {'page_url': 'ftp://ftp.sec.gov/edgar/data/1378946/000119312516676617/d221059d10q.htm', 'local_name': None, 'blob_id': '609839_section111', 'accession_id': 167272, 'received_date': '2016-08-09', 'description': \"People's United Financial, Inc. (PBCT)\", 'fiscal_year': 2016, 'entity_id': 2996, 'sec_filing_id': 609839, 'fiscal_period': '2Q', 'fact_id': 0, 'is_detail': False, 'network_id': 0, 'filing_date': '2016-08-09', 'footnote_type_title': 'Additional 10-K and 10-Q Sections', 'ticker': 'PBCT', 'guide_link': None, 'footnote_type': 1110, 'entity_name': \"People's United Financial, Inc.\", 'document_type': '10-Q', 'SEC_URL': 'http://www.sec.gov/Archives/edgar/data/1378946/000119312516676617/0001193125-16-676617-index.htm'}\n",
      "1110 2016 2 {'page_url': 'ftp://ftp.sec.gov/edgar/data/77776/000007777616000013/phh2016063010-q.htm', 'local_name': None, 'blob_id': '609731_section111', 'accession_id': 167178, 'received_date': '2016-08-09', 'description': 'Phh Corp (PHH)', 'fiscal_year': 2016, 'entity_id': 5657, 'sec_filing_id': 609731, 'fiscal_period': '2Q', 'fact_id': 0, 'is_detail': False, 'network_id': 0, 'filing_date': '2016-08-09', 'footnote_type_title': 'Additional 10-K and 10-Q Sections', 'ticker': 'PHH', 'guide_link': None, 'footnote_type': 1110, 'entity_name': 'Phh Corp', 'document_type': '10-Q', 'SEC_URL': 'http://www.sec.gov/Archives/edgar/data/77776/000007777616000013/0000077776-16-000013-index.htm'}\n",
      "1110 2016 2 {'page_url': 'ftp://ftp.sec.gov/edgar/data/720005/000072000516000144/a2016063010qrjf.htm', 'local_name': None, 'blob_id': '609294_section111', 'accession_id': 166969, 'received_date': '2016-08-08', 'description': 'Raymond James Financial Inc (RJF)', 'fiscal_year': 2016, 'entity_id': 5321, 'sec_filing_id': 609294, 'fiscal_period': '3Q', 'fact_id': 0, 'is_detail': False, 'network_id': 0, 'filing_date': '2016-08-08', 'footnote_type_title': 'Additional 10-K and 10-Q Sections', 'ticker': 'RJF', 'guide_link': None, 'footnote_type': 1110, 'entity_name': 'Raymond James Financial Inc', 'document_type': '10-Q', 'SEC_URL': 'http://www.sec.gov/Archives/edgar/data/720005/000072000516000144/0000720005-16-000144-index.htm'}\n",
      "1110 2016 2 {'page_url': 'ftp://ftp.sec.gov/edgar/data/316709/000031670916000093/schw-20160630x10q.htm', 'local_name': None, 'blob_id': '608451_section111', 'accession_id': 166468, 'received_date': '2016-08-05', 'description': 'Schwab Charles Corp (SCHW)', 'fiscal_year': 2016, 'entity_id': 4760, 'sec_filing_id': 608451, 'fiscal_period': '2Q', 'fact_id': 0, 'is_detail': False, 'network_id': 0, 'filing_date': '2016-08-05', 'footnote_type_title': 'Additional 10-K and 10-Q Sections', 'ticker': 'SCHW', 'guide_link': None, 'footnote_type': 1110, 'entity_name': 'Schwab Charles Corp', 'document_type': '10-Q', 'SEC_URL': 'http://www.sec.gov/Archives/edgar/data/316709/000031670916000093/0000316709-16-000093-index.htm'}\n",
      "1110 2016 2 {'page_url': 'ftp://ftp.sec.gov/edgar/data/818677/000093905716000960/sfdl-20160630x10q.htm', 'local_name': None, 'blob_id': '611553_section111', 'accession_id': 168234, 'received_date': '2016-08-12', 'description': 'Security Federal Corp (SFDL)', 'fiscal_year': 2016, 'entity_id': 5951, 'sec_filing_id': 611553, 'fiscal_period': '2Q', 'fact_id': 0, 'is_detail': False, 'network_id': 0, 'filing_date': '2016-08-12', 'footnote_type_title': 'Additional 10-K and 10-Q Sections', 'ticker': 'SFDL', 'guide_link': None, 'footnote_type': 1110, 'entity_name': 'Security Federal Corp', 'document_type': '10-Q', 'SEC_URL': 'http://www.sec.gov/Archives/edgar/data/818677/000093905716000960/0000939057-16-000960-index.htm'}\n",
      "1110 2016 2 {'page_url': 'ftp://ftp.sec.gov/edgar/data/1500213/000150021316000072/sifi0630201610-q2.htm', 'local_name': None, 'blob_id': '608979_section111', 'accession_id': 166790, 'received_date': '2016-08-08', 'description': 'SI Financial Group, Inc. (SIFI)', 'fiscal_year': 2016, 'entity_id': 4343, 'sec_filing_id': 608979, 'fiscal_period': '2Q', 'fact_id': 0, 'is_detail': False, 'network_id': 0, 'filing_date': '2016-08-08', 'footnote_type_title': 'Additional 10-K and 10-Q Sections', 'ticker': 'SIFI', 'guide_link': None, 'footnote_type': 1110, 'entity_name': 'SI Financial Group, Inc.', 'document_type': '10-Q', 'SEC_URL': 'http://www.sec.gov/Archives/edgar/data/1500213/000150021316000072/0001500213-16-000072-index.htm'}\n",
      "1110 2016 2 {'page_url': 'ftp://ftp.sec.gov/edgar/data/880116/000157104916017331/t1600511_10qa.htm', 'local_name': None, 'blob_id': '610730_section111', 'accession_id': 167772, 'received_date': '2016-08-10', 'description': 'Southeastern Bank Financial CORP (SBFC)', 'fiscal_year': 2016, 'entity_id': 6416, 'sec_filing_id': 610730, 'fiscal_period': '2Q', 'fact_id': 0, 'is_detail': False, 'network_id': 0, 'filing_date': '2016-08-10', 'footnote_type_title': 'Additional 10-K and 10-Q Sections', 'ticker': 'SBFC', 'guide_link': None, 'footnote_type': 1110, 'entity_name': 'Southeastern Bank Financial CORP', 'document_type': '10-Q/A', 'SEC_URL': 'http://www.sec.gov/Archives/edgar/data/880116/000157104916017331/0001571049-16-017331-index.htm'}\n",
      "1110 2016 2 {'page_url': 'ftp://ftp.sec.gov/edgar/data/880116/000157104916016939/t1600454_10q.htm', 'local_name': None, 'blob_id': '604232_section111', 'accession_id': 164906, 'received_date': '2016-07-29', 'description': 'Southeastern Bank Financial CORP (SBFC)', 'fiscal_year': 2016, 'entity_id': 6416, 'sec_filing_id': 604232, 'fiscal_period': '2Q', 'fact_id': 0, 'is_detail': False, 'network_id': 0, 'filing_date': '2016-07-29', 'footnote_type_title': 'Additional 10-K and 10-Q Sections', 'ticker': 'SBFC', 'guide_link': None, 'footnote_type': 1110, 'entity_name': 'Southeastern Bank Financial CORP', 'document_type': '10-Q', 'SEC_URL': 'http://www.sec.gov/Archives/edgar/data/880116/000157104916016939/0001571049-16-016939-index.htm'}\n",
      "1110 2016 2 {'page_url': 'ftp://ftp.sec.gov/edgar/data/1325670/000157104916017203/t1600497_10q.htm', 'local_name': None, 'blob_id': '608829_section111', 'accession_id': 166671, 'received_date': '2016-08-08', 'description': 'Southern National Bancorp of Virginia Inc (SONA)', 'fiscal_year': 2016, 'entity_id': 2446, 'sec_filing_id': 608829, 'fiscal_period': '2Q', 'fact_id': 0, 'is_detail': False, 'network_id': 0, 'filing_date': '2016-08-08', 'footnote_type_title': 'Additional 10-K and 10-Q Sections', 'ticker': 'SONA', 'guide_link': None, 'footnote_type': 1110, 'entity_name': 'Southern National Bancorp of Virginia Inc', 'document_type': '10-Q', 'SEC_URL': 'http://www.sec.gov/Archives/edgar/data/1325670/000157104916017203/0001571049-16-017203-index.htm'}\n",
      "1110 2016 2 {'page_url': 'ftp://ftp.sec.gov/edgar/data/706863/000070686316000112/a63016unb10-q.htm', 'local_name': None, 'blob_id': '609825_section111', 'accession_id': 167260, 'received_date': '2016-08-09', 'description': 'Union Bankshares Inc (UNB)', 'fiscal_year': 2016, 'entity_id': 5209, 'sec_filing_id': 609825, 'fiscal_period': '2Q', 'fact_id': 0, 'is_detail': False, 'network_id': 0, 'filing_date': '2016-08-09', 'footnote_type_title': 'Additional 10-K and 10-Q Sections', 'ticker': 'UNB', 'guide_link': None, 'footnote_type': 1110, 'entity_name': 'Union Bankshares Inc', 'document_type': '10-Q', 'SEC_URL': 'http://www.sec.gov/Archives/edgar/data/706863/000070686316000112/0000706863-16-000112-index.htm'}\n"
     ]
    },
    {
     "name": "stdout",
     "output_type": "stream",
     "text": [
      "1110 2016 2 {'page_url': 'ftp://ftp.sec.gov/edgar/data/1137547/000162828016018498/ubfo-20160630xq2.htm', 'local_name': None, 'blob_id': '607016_section111', 'accession_id': 165809, 'received_date': '2016-08-04', 'description': 'United Security Bancshares (UBFO)', 'fiscal_year': 2016, 'entity_id': 1503, 'sec_filing_id': 607016, 'fiscal_period': '2Q', 'fact_id': 0, 'is_detail': False, 'network_id': 0, 'filing_date': '2016-08-04', 'footnote_type_title': 'Additional 10-K and 10-Q Sections', 'ticker': 'UBFO', 'guide_link': None, 'footnote_type': 1110, 'entity_name': 'United Security Bancshares', 'document_type': '10-Q', 'SEC_URL': 'http://www.sec.gov/Archives/edgar/data/1137547/000162828016018498/0001628280-16-018498-index.htm'}\n",
      "1110 2016 2 {'page_url': 'ftp://ftp.sec.gov/edgar/data/1052100/000155837016006946/wdr-20160630x10q.htm', 'local_name': None, 'blob_id': '603911_section111', 'accession_id': 164753, 'received_date': '2016-07-29', 'description': 'Waddell & Reed Financial Inc (WDR)', 'fiscal_year': 2016, 'entity_id': 585, 'sec_filing_id': 603911, 'fiscal_period': '2Q', 'fact_id': 0, 'is_detail': False, 'network_id': 0, 'filing_date': '2016-07-29', 'footnote_type_title': 'Additional 10-K and 10-Q Sections', 'ticker': 'WDR', 'guide_link': None, 'footnote_type': 1110, 'entity_name': 'Waddell & Reed Financial Inc', 'document_type': '10-Q', 'SEC_URL': 'http://www.sec.gov/Archives/edgar/data/1052100/000155837016006946/0001558370-16-006946-index.htm'}\n",
      "1110 2016 2 {'page_url': 'ftp://ftp.sec.gov/edgar/data/801337/000080133716000223/wbs-06302016x10q.htm', 'local_name': None, 'blob_id': '609849_section111', 'accession_id': 167282, 'received_date': '2016-08-09', 'description': 'Webster Financial Corp (WBS)', 'fiscal_year': 2016, 'entity_id': 5820, 'sec_filing_id': 609849, 'fiscal_period': '2Q', 'fact_id': 0, 'is_detail': False, 'network_id': 0, 'filing_date': '2016-08-09', 'footnote_type_title': 'Additional 10-K and 10-Q Sections', 'ticker': 'WBS', 'guide_link': None, 'footnote_type': 1110, 'entity_name': 'Webster Financial Corp', 'document_type': '10-Q', 'SEC_URL': 'http://www.sec.gov/Archives/edgar/data/801337/000080133716000223/0000801337-16-000223-index.htm'}\n",
      "1110 2016 2 {'page_url': 'ftp://ftp.sec.gov/edgar/data/1309108/000130910816000254/wex6_30x201610-q.htm', 'local_name': None, 'blob_id': '609847_section111', 'accession_id': 167280, 'received_date': '2016-08-09', 'description': 'WEX Inc. (WEX)', 'fiscal_year': 2016, 'entity_id': 2311, 'sec_filing_id': 609847, 'fiscal_period': '2Q', 'fact_id': 0, 'is_detail': False, 'network_id': 0, 'filing_date': '2016-08-09', 'footnote_type_title': 'Additional 10-K and 10-Q Sections', 'ticker': 'WEX', 'guide_link': None, 'footnote_type': 1110, 'entity_name': 'WEX Inc.', 'document_type': '10-Q', 'SEC_URL': 'http://www.sec.gov/Archives/edgar/data/1309108/000130910816000254/0001309108-16-000254-index.htm'}\n"
     ]
    },
    {
     "data": {
      "application/vnd.jupyter.widget-view+json": {
       "model_id": "47460f7719a14dadb5aca85cb526e04c"
      }
     },
     "metadata": {},
     "output_type": "display_data"
    },
    {
     "name": "stdout",
     "output_type": "stream",
     "text": [
      "1110 2016 3 {'page_url': 'ftp://ftp.sec.gov/edgar/data/1317630/000162828016020815/itc930201610q.htm', 'local_name': None, 'blob_id': '626844_section111', 'accession_id': 172789, 'received_date': '2016-11-04', 'description': 'ITC Holdings Corp. (ITC)', 'fiscal_year': 2016, 'entity_id': 2373, 'sec_filing_id': 626844, 'fiscal_period': '3Q', 'fact_id': 0, 'is_detail': False, 'network_id': 0, 'filing_date': '2016-11-04', 'footnote_type_title': 'Additional 10-K and 10-Q Sections', 'ticker': 'ITC', 'guide_link': None, 'footnote_type': 1110, 'entity_name': 'ITC Holdings Corp.', 'document_type': '10-Q', 'SEC_URL': 'http://www.sec.gov/Archives/edgar/data/1317630/000162828016020815/0001628280-16-020815-index.htm'}\n",
      "1110 2016 3 {'page_url': 'ftp://ftp.sec.gov/edgar/data/350868/000110465916156308/a16-17251_110q.htm', 'local_name': None, 'blob_id': '630674_section111', 'accession_id': 174994, 'received_date': '2016-11-10', 'description': 'Iteris, Inc. (ITI)', 'fiscal_year': 2017, 'entity_id': 4839, 'sec_filing_id': 630674, 'fiscal_period': '2Q', 'fact_id': 0, 'is_detail': False, 'network_id': 0, 'filing_date': '2016-11-10', 'footnote_type_title': 'Additional 10-K and 10-Q Sections', 'ticker': 'ITI', 'guide_link': None, 'footnote_type': 1110, 'entity_name': 'Iteris, Inc.', 'document_type': '10-Q', 'SEC_URL': 'http://www.sec.gov/Archives/edgar/data/350868/000110465916156308/0001104659-16-156308-index.htm'}\n",
      "1110 2016 3 {'page_url': 'ftp://ftp.sec.gov/edgar/data/780571/000078057116000072/itri10q09302016.htm', 'local_name': None, 'blob_id': '626139_section111', 'accession_id': 172466, 'received_date': '2016-11-03', 'description': 'Itron Inc /WA/ (ITRI)', 'fiscal_year': 2016, 'entity_id': 5673, 'sec_filing_id': 626139, 'fiscal_period': '3Q', 'fact_id': 0, 'is_detail': False, 'network_id': 0, 'filing_date': '2016-11-03', 'footnote_type_title': 'Additional 10-K and 10-Q Sections', 'ticker': 'ITRI', 'guide_link': None, 'footnote_type': 1110, 'entity_name': 'Itron Inc /WA/', 'document_type': '10-Q', 'SEC_URL': 'http://www.sec.gov/Archives/edgar/data/780571/000078057116000072/0000780571-16-000072-index.htm'}\n",
      "1110 2016 3 {'page_url': 'ftp://ftp.sec.gov/edgar/data/715446/000151316216001101/form10k_amendment.htm', 'local_name': None, 'blob_id': '635177_section111', 'accession_id': 176853, 'received_date': '2016-12-08', 'description': 'ITUS Corp (ITUS)', 'fiscal_year': 2016, 'entity_id': 5272, 'sec_filing_id': 635177, 'fiscal_period': 'Y', 'fact_id': 0, 'is_detail': False, 'network_id': 0, 'filing_date': '2016-12-08', 'footnote_type_title': 'Additional 10-K and 10-Q Sections', 'ticker': 'ITUS', 'guide_link': None, 'footnote_type': 1110, 'entity_name': 'ITUS Corp', 'document_type': '10-K/A', 'SEC_URL': 'http://www.sec.gov/Archives/edgar/data/715446/000151316216001101/0001513162-16-001101-index.htm'}\n",
      "1110 2016 3 {'page_url': 'ftp://ftp.sec.gov/edgar/data/1648365/000160706216001021/iwbb093016form10q.htm', 'local_name': None, 'blob_id': '620811_section111', 'accession_id': 170950, 'received_date': '2016-10-17', 'description': 'IWEB, Inc. (IWBB)', 'fiscal_year': 2016, 'entity_id': 10872, 'sec_filing_id': 620811, 'fiscal_period': '1Q', 'fact_id': 0, 'is_detail': False, 'network_id': 0, 'filing_date': '2016-10-17', 'footnote_type_title': 'Additional 10-K and 10-Q Sections', 'ticker': 'IWBB', 'guide_link': None, 'footnote_type': 1110, 'entity_name': 'IWEB, Inc.', 'document_type': '10-Q', 'SEC_URL': 'http://www.sec.gov/Archives/edgar/data/1648365/000160706216001021/0001607062-16-001021-index.htm'}\n",
      "1110 2016 3 {'page_url': 'ftp://ftp.sec.gov/edgar/data/1120295/000112029516000205/a2016q310-q.htm', 'local_name': None, 'blob_id': '628035_section111', 'accession_id': 173484, 'received_date': '2016-11-07', 'description': 'Ixia (XXIA)', 'fiscal_year': 2016, 'entity_id': 1350, 'sec_filing_id': 628035, 'fiscal_period': '3Q', 'fact_id': 0, 'is_detail': False, 'network_id': 0, 'filing_date': '2016-11-07', 'footnote_type_title': 'Additional 10-K and 10-Q Sections', 'ticker': 'XXIA', 'guide_link': None, 'footnote_type': 1110, 'entity_name': 'Ixia', 'document_type': '10-Q', 'SEC_URL': 'http://www.sec.gov/Archives/edgar/data/1120295/000112029516000205/0001120295-16-000205-index.htm'}\n",
      "1110 2016 3 {'page_url': 'ftp://ftp.sec.gov/edgar/data/945699/000119312516758789/d255601d10q.htm', 'local_name': None, 'blob_id': '626199_section111', 'accession_id': 172503, 'received_date': '2016-11-03', 'description': 'Ixys Corp /DE/ (IXYS)', 'fiscal_year': 2017, 'entity_id': 7135, 'sec_filing_id': 626199, 'fiscal_period': '2Q', 'fact_id': 0, 'is_detail': False, 'network_id': 0, 'filing_date': '2016-11-03', 'footnote_type_title': 'Additional 10-K and 10-Q Sections', 'ticker': 'IXYS', 'guide_link': None, 'footnote_type': 1110, 'entity_name': 'Ixys Corp /DE/', 'document_type': '10-Q', 'SEC_URL': 'http://www.sec.gov/Archives/edgar/data/945699/000119312516758789/0001193125-16-758789-index.htm'}\n",
      "1110 2016 3 {'page_url': 'ftp://ftp.sec.gov/edgar/data/1495231/000149523116000146/izea16093010q.htm', 'local_name': None, 'blob_id': '631389_section111', 'accession_id': 175593, 'received_date': '2016-11-14', 'description': 'IZEA, Inc. (IZEA)', 'fiscal_year': 2016, 'entity_id': 4269, 'sec_filing_id': 631389, 'fiscal_period': '3Q', 'fact_id': 0, 'is_detail': False, 'network_id': 0, 'filing_date': '2016-11-14', 'footnote_type_title': 'Additional 10-K and 10-Q Sections', 'ticker': 'IZEA', 'guide_link': None, 'footnote_type': 1110, 'entity_name': 'IZEA, Inc.', 'document_type': '10-Q', 'SEC_URL': 'http://www.sec.gov/Archives/edgar/data/1495231/000149523116000146/0001495231-16-000146-index.htm'}\n",
      "1110 2016 3 {'page_url': 'ftp://ftp.sec.gov/edgar/data/1166126/000116612616000117/jcp-10292016x10q.htm', 'local_name': None, 'blob_id': '633635_section111', 'accession_id': 176653, 'received_date': '2016-11-30', 'description': 'J C Penney Co Inc (JCP)', 'fiscal_year': 2016, 'entity_id': 1680, 'sec_filing_id': 633635, 'fiscal_period': '3Q', 'fact_id': 0, 'is_detail': False, 'network_id': 0, 'filing_date': '2016-11-30', 'footnote_type_title': 'Additional 10-K and 10-Q Sections', 'ticker': 'JCP', 'guide_link': None, 'footnote_type': 1110, 'entity_name': 'J C Penney Co Inc', 'document_type': '10-Q', 'SEC_URL': 'http://www.sec.gov/Archives/edgar/data/1166126/000116612616000117/0001166126-16-000117-index.htm'}\n",
      "1110 2016 3 {'page_url': 'ftp://ftp.sec.gov/edgar/data/1051251/000156459016029583/jcg-10q_20161029.htm', 'local_name': None, 'blob_id': '633114_section111', 'accession_id': 176498, 'received_date': '2016-11-22', 'description': 'J Crew Group Inc (JCG)', 'fiscal_year': 2016, 'entity_id': 570, 'sec_filing_id': 633114, 'fiscal_period': '3Q', 'fact_id': 0, 'is_detail': False, 'network_id': 0, 'filing_date': '2016-11-22', 'footnote_type_title': 'Additional 10-K and 10-Q Sections', 'ticker': 'JCG', 'guide_link': None, 'footnote_type': 1110, 'entity_name': 'J Crew Group Inc', 'document_type': '10-Q', 'SEC_URL': 'http://www.sec.gov/Archives/edgar/data/1051251/000156459016029583/0001564590-16-029583-index.htm'}\n",
      "1110 2016 3 {'page_url': 'ftp://ftp.sec.gov/edgar/data/91419/000009141916000014/sjm20161031-10q.htm', 'local_name': None, 'blob_id': '633132_section111', 'accession_id': 176506, 'received_date': '2016-11-22', 'description': 'J M SMUCKER Co (SJM)', 'fiscal_year': 2017, 'entity_id': 6814, 'sec_filing_id': 633132, 'fiscal_period': '2Q', 'fact_id': 0, 'is_detail': False, 'network_id': 0, 'filing_date': '2016-11-22', 'footnote_type_title': 'Additional 10-K and 10-Q Sections', 'ticker': 'SJM', 'guide_link': None, 'footnote_type': 1110, 'entity_name': 'J M SMUCKER Co', 'document_type': '10-Q', 'SEC_URL': 'http://www.sec.gov/Archives/edgar/data/91419/000009141916000014/0000091419-16-000014-index.htm'}\n"
     ]
    },
    {
     "name": "stdout",
     "output_type": "stream",
     "text": [
      "1110 2016 3 {'page_url': 'ftp://ftp.sec.gov/edgar/data/785956/000143774916042541/jjsf20160817_10k.htm', 'local_name': None, 'blob_id': '633159_section111', 'accession_id': 176523, 'received_date': '2016-11-22', 'description': 'J&J Snack Foods Corp (JJSF)', 'fiscal_year': 2016, 'entity_id': 5699, 'sec_filing_id': 633159, 'fiscal_period': 'Y', 'fact_id': 0, 'is_detail': False, 'network_id': 0, 'filing_date': '2016-11-22', 'footnote_type_title': 'Additional 10-K and 10-Q Sections', 'ticker': 'JJSF', 'guide_link': None, 'footnote_type': 1110, 'entity_name': 'J&J Snack Foods Corp', 'document_type': '10-K', 'SEC_URL': 'http://www.sec.gov/Archives/edgar/data/785956/000143774916042541/0001437749-16-042541-index.htm'}\n",
      "1110 2016 3 {'page_url': 'ftp://ftp.sec.gov/edgar/data/1617227/000156459016027872/jax-10q_20161002.htm', 'local_name': None, 'blob_id': '627692_section111', 'accession_id': 173277, 'received_date': '2016-11-07', 'description': \"J. Alexander's Holdings, Inc. (JAX)\", 'fiscal_year': 2016, 'entity_id': 421, 'sec_filing_id': 627692, 'fiscal_period': '3Q', 'fact_id': 0, 'is_detail': False, 'network_id': 0, 'filing_date': '2016-11-07', 'footnote_type_title': 'Additional 10-K and 10-Q Sections', 'ticker': 'JAX', 'guide_link': None, 'footnote_type': 1110, 'entity_name': \"J. Alexander's Holdings, Inc.\", 'document_type': '10-Q', 'SEC_URL': 'http://www.sec.gov/Archives/edgar/data/1617227/000156459016027872/0001564590-16-027872-index.htm'}\n",
      "1110 2016 3 {'page_url': 'ftp://ftp.sec.gov/edgar/data/1580185/000158018516000153/jgw9301610-q.htm', 'local_name': None, 'blob_id': '629674_section111', 'accession_id': 174442, 'received_date': '2016-11-09', 'description': 'J.G. Wentworth Co (JGW)', 'fiscal_year': 2016, 'entity_id': 9828, 'sec_filing_id': 629674, 'fiscal_period': '3Q', 'fact_id': 0, 'is_detail': False, 'network_id': 0, 'filing_date': '2016-11-09', 'footnote_type_title': 'Additional 10-K and 10-Q Sections', 'ticker': 'JGW', 'guide_link': None, 'footnote_type': 1110, 'entity_name': 'J.G. Wentworth Co', 'document_type': '10-Q', 'SEC_URL': 'http://www.sec.gov/Archives/edgar/data/1580185/000158018516000153/0001580185-16-000153-index.htm'}\n",
      "1110 2016 3 {'page_url': 'ftp://ftp.sec.gov/edgar/data/1084048/000108404816000026/jcom2016093010-q.htm', 'local_name': None, 'blob_id': '629621_section111', 'accession_id': 174398, 'received_date': '2016-11-09', 'description': 'J2 Global, Inc. (JCOM)', 'fiscal_year': 2016, 'entity_id': 933, 'sec_filing_id': 629621, 'fiscal_period': '3Q', 'fact_id': 0, 'is_detail': False, 'network_id': 0, 'filing_date': '2016-11-09', 'footnote_type_title': 'Additional 10-K and 10-Q Sections', 'ticker': 'JCOM', 'guide_link': None, 'footnote_type': 1110, 'entity_name': 'J2 Global, Inc.', 'document_type': '10-Q', 'SEC_URL': 'http://www.sec.gov/Archives/edgar/data/1084048/000108404816000026/0001084048-16-000026-index.htm'}\n",
      "1110 2016 3 {'page_url': 'ftp://ftp.sec.gov/edgar/data/898293/000119312516742815/d126783d10k.htm', 'local_name': None, 'blob_id': '621484_section111', 'accession_id': 171036, 'received_date': '2016-10-20', 'description': 'Jabil Circuit Inc (JBL)', 'fiscal_year': 2016, 'entity_id': 6662, 'sec_filing_id': 621484, 'fiscal_period': 'Y', 'fact_id': 0, 'is_detail': False, 'network_id': 0, 'filing_date': '2016-10-20', 'footnote_type_title': 'Additional 10-K and 10-Q Sections', 'ticker': 'JBL', 'guide_link': None, 'footnote_type': 1110, 'entity_name': 'Jabil Circuit Inc', 'document_type': '10-K', 'SEC_URL': 'http://www.sec.gov/Archives/edgar/data/898293/000119312516742815/0001193125-16-742815-index.htm'}\n",
      "1110 2016 3 {'page_url': 'ftp://ftp.sec.gov/edgar/data/1653979/000152013816001274/jacc-20160930_10q.htm', 'local_name': None, 'blob_id': '633521_section111', 'accession_id': 176616, 'received_date': '2016-11-29', 'description': 'Jacc Studios Inc. (JACC)', 'fiscal_year': 2016, 'entity_id': 11087, 'sec_filing_id': 633521, 'fiscal_period': '3Q', 'fact_id': 0, 'is_detail': False, 'network_id': 0, 'filing_date': '2016-11-29', 'footnote_type_title': 'Additional 10-K and 10-Q Sections', 'ticker': 'JACC', 'guide_link': None, 'footnote_type': 1110, 'entity_name': 'Jacc Studios Inc.', 'document_type': '10-Q', 'SEC_URL': 'http://www.sec.gov/Archives/edgar/data/1653979/000152013816001274/0001520138-16-001274-index.htm'}\n",
      "1110 2016 3 {'page_url': 'ftp://ftp.sec.gov/edgar/data/1655780/000155837016009723/jchc-20160930x10q.htm', 'local_name': None, 'blob_id': '628758_section111', 'accession_id': 173941, 'received_date': '2016-11-08', 'description': 'Jack Cooper Holdings Corp. (CIK0001655780)', 'fiscal_year': 2016, 'entity_id': 11065, 'sec_filing_id': 628758, 'fiscal_period': '3Q', 'fact_id': 0, 'is_detail': False, 'network_id': 0, 'filing_date': '2016-11-08', 'footnote_type_title': 'Additional 10-K and 10-Q Sections', 'ticker': 'CIK0001655780', 'guide_link': None, 'footnote_type': 1110, 'entity_name': 'Jack Cooper Holdings Corp.', 'document_type': '10-Q', 'SEC_URL': 'http://www.sec.gov/Archives/edgar/data/1655780/000155837016009723/0001558370-16-009723-index.htm'}\n",
      "1110 2016 3 {'page_url': 'ftp://ftp.sec.gov/edgar/data/807882/000080788216000036/fy201610-k.htm', 'local_name': None, 'blob_id': '633150_section111', 'accession_id': 176515, 'received_date': '2016-11-22', 'description': 'Jack In The Box Inc /NEW/ (JACK)', 'fiscal_year': 2016, 'entity_id': 5864, 'sec_filing_id': 633150, 'fiscal_period': 'Y', 'fact_id': 0, 'is_detail': False, 'network_id': 0, 'filing_date': '2016-11-22', 'footnote_type_title': 'Additional 10-K and 10-Q Sections', 'ticker': 'JACK', 'guide_link': None, 'footnote_type': 1110, 'entity_name': 'Jack In The Box Inc /NEW/', 'document_type': '10-K', 'SEC_URL': 'http://www.sec.gov/Archives/edgar/data/807882/000080788216000036/0000807882-16-000036-index.htm'}\n",
      "1110 2016 3 {'page_url': 'ftp://ftp.sec.gov/edgar/data/52988/000156459016029571/jec-10k_20160930.htm', 'local_name': None, 'blob_id': '633084_section111', 'accession_id': 176480, 'received_date': '2016-11-22', 'description': 'Jacobs Engineering Group Inc /DE/ (JEC)', 'fiscal_year': 2016, 'entity_id': 5037, 'sec_filing_id': 633084, 'fiscal_period': 'Y', 'fact_id': 0, 'is_detail': False, 'network_id': 0, 'filing_date': '2016-11-22', 'footnote_type_title': 'Additional 10-K and 10-Q Sections', 'ticker': 'JEC', 'guide_link': None, 'footnote_type': 1110, 'entity_name': 'Jacobs Engineering Group Inc /DE/', 'document_type': '10-K', 'SEC_URL': 'http://www.sec.gov/Archives/edgar/data/52988/000156459016029571/0001564590-16-029571-index.htm'}\n",
      "1110 2016 3 {'page_url': 'ftp://ftp.sec.gov/edgar/data/1009829/000115752316007321/a51454442.htm', 'local_name': None, 'blob_id': '629231_section111', 'accession_id': 174144, 'received_date': '2016-11-09', 'description': 'Jakks Pacific Inc (JAKK)', 'fiscal_year': 2016, 'entity_id': 112, 'sec_filing_id': 629231, 'fiscal_period': '3Q', 'fact_id': 0, 'is_detail': False, 'network_id': 0, 'filing_date': '2016-11-09', 'footnote_type_title': 'Additional 10-K and 10-Q Sections', 'ticker': 'JAKK', 'guide_link': None, 'footnote_type': 1110, 'entity_name': 'Jakks Pacific Inc', 'document_type': '10-Q', 'SEC_URL': 'http://www.sec.gov/Archives/edgar/data/1009829/000115752316007321/0001157523-16-007321-index.htm'}\n",
      "1110 2016 3 {'page_url': 'ftp://ftp.sec.gov/edgar/data/1316898/000114420416132122/v450759_10q.htm', 'local_name': None, 'blob_id': '628050_section111', 'accession_id': 173495, 'received_date': '2016-11-07', 'description': 'Jamba, Inc. (JMBA)', 'fiscal_year': 2016, 'entity_id': 2370, 'sec_filing_id': 628050, 'fiscal_period': '3Q', 'fact_id': 0, 'is_detail': False, 'network_id': 0, 'filing_date': '2016-11-07', 'footnote_type_title': 'Additional 10-K and 10-Q Sections', 'ticker': 'JMBA', 'guide_link': None, 'footnote_type': 1110, 'entity_name': 'Jamba, Inc.', 'document_type': '10-Q', 'SEC_URL': 'http://www.sec.gov/Archives/edgar/data/1316898/000114420416132122/0001144204-16-132122-index.htm'}\n"
     ]
    },
    {
     "name": "stdout",
     "output_type": "stream",
     "text": [
      "1110 2016 3 {'page_url': 'ftp://ftp.sec.gov/edgar/data/1620459/000157104916019499/t1602506_10q.htm', 'local_name': None, 'blob_id': '627168_section111', 'accession_id': 172993, 'received_date': '2016-11-04', 'description': 'James River Group Holdings, Ltd. (JRVR)', 'fiscal_year': 2016, 'entity_id': 10598, 'sec_filing_id': 627168, 'fiscal_period': '3Q', 'fact_id': 0, 'is_detail': False, 'network_id': 0, 'filing_date': '2016-11-04', 'footnote_type_title': 'Additional 10-K and 10-Q Sections', 'ticker': 'JRVR', 'guide_link': None, 'footnote_type': 1110, 'entity_name': 'James River Group Holdings, Ltd.', 'document_type': '10-Q', 'SEC_URL': 'http://www.sec.gov/Archives/edgar/data/1620459/000157104916019499/0001571049-16-019499-index.htm'}\n",
      "1110 2016 3 {'page_url': 'ftp://ftp.sec.gov/edgar/data/1334586/000158069517000220/jamn-10q_103116.htm', 'local_name': None, 'blob_id': '658507_section111', 'accession_id': 183827, 'received_date': '2017-04-07', 'description': 'Jammin Java Corp. (JAMN)', 'fiscal_year': 2017, 'entity_id': 2539, 'sec_filing_id': 658507, 'fiscal_period': '3Q', 'fact_id': 0, 'is_detail': False, 'network_id': 0, 'filing_date': '2017-04-07', 'footnote_type_title': 'Additional 10-K and 10-Q Sections', 'ticker': 'JAMN', 'guide_link': None, 'footnote_type': 1110, 'entity_name': 'Jammin Java Corp.', 'document_type': '10-Q', 'SEC_URL': 'http://www.sec.gov/Archives/edgar/data/1334586/000158069517000220/0001580695-17-000220-index.htm'}\n",
      "1110 2016 3 {'page_url': 'ftp://ftp.sec.gov/edgar/data/1133062/000114420416141034/v454542_10k.htm', 'local_name': None, 'blob_id': '636799_section111', 'accession_id': 177309, 'received_date': '2016-12-22', 'description': 'Janel Corp (JANL)', 'fiscal_year': 2016, 'entity_id': 1464, 'sec_filing_id': 636799, 'fiscal_period': 'Y', 'fact_id': 0, 'is_detail': False, 'network_id': 0, 'filing_date': '2016-12-22', 'footnote_type_title': 'Additional 10-K and 10-Q Sections', 'ticker': 'JANL', 'guide_link': None, 'footnote_type': 1110, 'entity_name': 'Janel Corp', 'document_type': '10-K', 'SEC_URL': 'http://www.sec.gov/Archives/edgar/data/1133062/000114420416141034/0001144204-16-141034-index.htm'}\n",
      "1110 2016 3 {'page_url': 'ftp://ftp.sec.gov/edgar/data/1065865/000110465916151936/a16-17237_110q.htm', 'local_name': None, 'blob_id': '622294_section111', 'accession_id': 171181, 'received_date': '2016-10-25', 'description': 'Janus Capital Group Inc (JNS)', 'fiscal_year': 2016, 'entity_id': 743, 'sec_filing_id': 622294, 'fiscal_period': '3Q', 'fact_id': 0, 'is_detail': False, 'network_id': 0, 'filing_date': '2016-10-25', 'footnote_type_title': 'Additional 10-K and 10-Q Sections', 'ticker': 'JNS', 'guide_link': None, 'footnote_type': 1110, 'entity_name': 'Janus Capital Group Inc', 'document_type': '10-Q', 'SEC_URL': 'http://www.sec.gov/Archives/edgar/data/1065865/000110465916151936/0001104659-16-151936-index.htm'}\n",
      "1110 2016 3 {'page_url': 'ftp://ftp.sec.gov/edgar/data/1579252/000157925216000224/jasonindustriesq3201610q.htm', 'local_name': None, 'blob_id': '627221_section111', 'accession_id': 173038, 'received_date': '2016-11-04', 'description': 'Jason Industries, Inc. (JASN)', 'fiscal_year': 2016, 'entity_id': 9619, 'sec_filing_id': 627221, 'fiscal_period': '3Q', 'fact_id': 0, 'is_detail': False, 'network_id': 0, 'filing_date': '2016-11-04', 'footnote_type_title': 'Additional 10-K and 10-Q Sections', 'ticker': 'JASN', 'guide_link': None, 'footnote_type': 1110, 'entity_name': 'Jason Industries, Inc.', 'document_type': '10-Q', 'SEC_URL': 'http://www.sec.gov/Archives/edgar/data/1579252/000157925216000224/0001579252-16-000224-index.htm'}\n",
      "1110 2016 3 {'page_url': 'ftp://ftp.sec.gov/edgar/data/1232524/000123252416000384/jazz2016q3doc.htm', 'local_name': None, 'blob_id': '628734_section111', 'accession_id': 173924, 'received_date': '2016-11-08', 'description': 'Jazz Pharmaceuticals plc (JAZZ)', 'fiscal_year': 2016, 'entity_id': 1922, 'sec_filing_id': 628734, 'fiscal_period': '3Q', 'fact_id': 0, 'is_detail': False, 'network_id': 0, 'filing_date': '2016-11-08', 'footnote_type_title': 'Additional 10-K and 10-Q Sections', 'ticker': 'JAZZ', 'guide_link': None, 'footnote_type': 1110, 'entity_name': 'Jazz Pharmaceuticals plc', 'document_type': '10-Q', 'SEC_URL': 'http://www.sec.gov/Archives/edgar/data/1232524/000123252416000384/0001232524-16-000384-index.htm'}\n",
      "1110 2016 3 {'page_url': 'ftp://ftp.sec.gov/edgar/data/1084580/000108458016000033/jef10q83116.htm', 'local_name': None, 'blob_id': '619645_section111', 'accession_id': 170704, 'received_date': '2016-10-05', 'description': 'Jefferies Group LLC (CIK0001084580)', 'fiscal_year': 2016, 'entity_id': 943, 'sec_filing_id': 619645, 'fiscal_period': '3Q', 'fact_id': 0, 'is_detail': False, 'network_id': 0, 'filing_date': '2016-10-05', 'footnote_type_title': 'Additional 10-K and 10-Q Sections', 'ticker': 'CIK0001084580', 'guide_link': None, 'footnote_type': 1110, 'entity_name': 'Jefferies Group LLC', 'document_type': '10-Q', 'SEC_URL': 'http://www.sec.gov/Archives/edgar/data/1084580/000108458016000033/0001084580-16-000033-index.htm'}\n",
      "1110 2016 3 {'page_url': 'ftp://ftp.sec.gov/edgar/data/1634447/000149315216015088/form10-q.htm', 'local_name': None, 'blob_id': '632035_section111', 'accession_id': 176028, 'received_date': '2016-11-15', 'description': 'Jensyn Acquisition Corp. (JSYN)', 'fiscal_year': 2016, 'entity_id': 11073, 'sec_filing_id': 632035, 'fiscal_period': '3Q', 'fact_id': 0, 'is_detail': False, 'network_id': 0, 'filing_date': '2016-11-15', 'footnote_type_title': 'Additional 10-K and 10-Q Sections', 'ticker': 'JSYN', 'guide_link': None, 'footnote_type': 1110, 'entity_name': 'Jensyn Acquisition Corp.', 'document_type': '10-Q', 'SEC_URL': 'http://www.sec.gov/Archives/edgar/data/1634447/000149315216015088/0001493152-16-015088-index.htm'}\n",
      "1110 2016 3 {'page_url': 'ftp://ftp.sec.gov/edgar/data/1622353/000114420416132428/v451477_10q.htm', 'local_name': None, 'blob_id': '628571_section111', 'accession_id': 173804, 'received_date': '2016-11-08', 'description': 'Jernigan Capital, Inc. (JCAP)', 'fiscal_year': 2016, 'entity_id': 10649, 'sec_filing_id': 628571, 'fiscal_period': '3Q', 'fact_id': 0, 'is_detail': False, 'network_id': 0, 'filing_date': '2016-11-08', 'footnote_type_title': 'Additional 10-K and 10-Q Sections', 'ticker': 'JCAP', 'guide_link': None, 'footnote_type': 1110, 'entity_name': 'Jernigan Capital, Inc.', 'document_type': '10-Q', 'SEC_URL': 'http://www.sec.gov/Archives/edgar/data/1622353/000114420416132428/0001144204-16-132428-index.htm'}\n",
      "1110 2016 3 {'page_url': 'ftp://ftp.sec.gov/edgar/data/1357671/000121390016018784/f10q0916_jerrickmedia.htm', 'local_name': None, 'blob_id': '632810_section111', 'accession_id': 176305, 'received_date': '2016-11-21', 'description': 'Jerrick Media Holdings, Inc. (JMDA)', 'fiscal_year': 2016, 'entity_id': 2746, 'sec_filing_id': 632810, 'fiscal_period': '3Q', 'fact_id': 0, 'is_detail': False, 'network_id': 0, 'filing_date': '2016-11-21', 'footnote_type_title': 'Additional 10-K and 10-Q Sections', 'ticker': 'JMDA', 'guide_link': None, 'footnote_type': 1110, 'entity_name': 'Jerrick Media Holdings, Inc.', 'document_type': '10-Q', 'SEC_URL': 'http://www.sec.gov/Archives/edgar/data/1357671/000121390016018784/0001213900-16-018784-index.htm'}\n",
      "1110 2016 3 {'page_url': 'ftp://ftp.sec.gov/edgar/data/1158463/000115846316000162/q3201610-q.htm', 'local_name': None, 'blob_id': '623862_section111', 'accession_id': 171574, 'received_date': '2016-10-28', 'description': 'Jetblue Airways Corp (JBLU)', 'fiscal_year': 2016, 'entity_id': 1615, 'sec_filing_id': 623862, 'fiscal_period': '3Q', 'fact_id': 0, 'is_detail': False, 'network_id': 0, 'filing_date': '2016-10-28', 'footnote_type_title': 'Additional 10-K and 10-Q Sections', 'ticker': 'JBLU', 'guide_link': None, 'footnote_type': 1110, 'entity_name': 'Jetblue Airways Corp', 'document_type': '10-Q', 'SEC_URL': 'http://www.sec.gov/Archives/edgar/data/1158463/000115846316000162/0001158463-16-000162-index.htm'}\n"
     ]
    },
    {
     "name": "stdout",
     "output_type": "stream",
     "text": [
      "1110 2016 3 {'page_url': 'ftp://ftp.sec.gov/edgar/data/1507986/000114420416133816/v452228_10q.htm', 'local_name': None, 'blob_id': '630939_section111', 'accession_id': 175197, 'received_date': '2016-11-14', 'description': 'JetPay Corp (JTPY)', 'fiscal_year': 2016, 'entity_id': 4420, 'sec_filing_id': 630939, 'fiscal_period': '3Q', 'fact_id': 0, 'is_detail': False, 'network_id': 0, 'filing_date': '2016-11-14', 'footnote_type_title': 'Additional 10-K and 10-Q Sections', 'ticker': 'JTPY', 'guide_link': None, 'footnote_type': 1110, 'entity_name': 'JetPay Corp', 'document_type': '10-Q', 'SEC_URL': 'http://www.sec.gov/Archives/edgar/data/1507986/000114420416133816/0001144204-16-133816-index.htm'}\n",
      "1110 2016 3 {'page_url': 'ftp://ftp.sec.gov/edgar/data/885307/000121716016000703/jewettcameron_201610k.htm', 'local_name': None, 'blob_id': '625561_section111', 'accession_id': 172195, 'received_date': '2016-11-02', 'description': 'Jewett Cameron Trading Co Ltd (JCTCF)', 'fiscal_year': 2016, 'entity_id': 8196, 'sec_filing_id': 625561, 'fiscal_period': 'Y', 'fact_id': 0, 'is_detail': False, 'network_id': 0, 'filing_date': '2016-11-02', 'footnote_type_title': 'Additional 10-K and 10-Q Sections', 'ticker': 'JCTCF', 'guide_link': None, 'footnote_type': 1110, 'entity_name': 'Jewett Cameron Trading Co Ltd', 'document_type': '10-K', 'SEC_URL': 'http://www.sec.gov/Archives/edgar/data/885307/000121716016000703/0001217160-16-000703-index.htm'}\n",
      "1110 2016 3 {'page_url': 'ftp://ftp.sec.gov/edgar/data/1462633/000162828016020664/jive-09302016x10q.htm', 'local_name': None, 'blob_id': '625820_section111', 'accession_id': 172318, 'received_date': '2016-11-02', 'description': 'Jive Software, Inc. (JIVE)', 'fiscal_year': 2016, 'entity_id': 8560, 'sec_filing_id': 625820, 'fiscal_period': '3Q', 'fact_id': 0, 'is_detail': False, 'network_id': 0, 'filing_date': '2016-11-02', 'footnote_type_title': 'Additional 10-K and 10-Q Sections', 'ticker': 'JIVE', 'guide_link': None, 'footnote_type': 1110, 'entity_name': 'Jive Software, Inc.', 'document_type': '10-Q', 'SEC_URL': 'http://www.sec.gov/Archives/edgar/data/1462633/000162828016020664/0001628280-16-020664-index.htm'}\n",
      "1110 2016 3 {'page_url': 'ftp://ftp.sec.gov/edgar/data/1641398/000121390016018198/f10q0916_jmglobalholding.htm', 'local_name': None, 'blob_id': '630285_section111', 'accession_id': 174787, 'received_date': '2016-11-10', 'description': 'JM Global Holding Co (WYIGU)', 'fiscal_year': 2016, 'entity_id': 10838, 'sec_filing_id': 630285, 'fiscal_period': '3Q', 'fact_id': 0, 'is_detail': False, 'network_id': 0, 'filing_date': '2016-11-10', 'footnote_type_title': 'Additional 10-K and 10-Q Sections', 'ticker': 'WYIGU', 'guide_link': None, 'footnote_type': 1110, 'entity_name': 'JM Global Holding Co', 'document_type': '10-Q', 'SEC_URL': 'http://www.sec.gov/Archives/edgar/data/1641398/000121390016018198/0001213900-16-018198-index.htm'}\n",
      "1110 2016 3 {'page_url': 'ftp://ftp.sec.gov/edgar/data/747159/000089262616000574/park-20160930.htm', 'local_name': None, 'blob_id': '629193_section111', 'accession_id': 174107, 'received_date': '2016-11-09', 'description': 'Jmb 245 Park Avenue Associates Ltd (JMB245)', 'fiscal_year': 2016, 'entity_id': 5503, 'sec_filing_id': 629193, 'fiscal_period': '3Q', 'fact_id': 0, 'is_detail': False, 'network_id': 0, 'filing_date': '2016-11-09', 'footnote_type_title': 'Additional 10-K and 10-Q Sections', 'ticker': 'JMB245', 'guide_link': None, 'footnote_type': 1110, 'entity_name': 'Jmb 245 Park Avenue Associates Ltd', 'document_type': '10-Q', 'SEC_URL': 'http://www.sec.gov/Archives/edgar/data/747159/000089262616000574/0000892626-16-000574-index.htm'}\n",
      "1110 2016 3 {'page_url': 'ftp://ftp.sec.gov/edgar/data/1302350/000143774916040755/jmpllc20160818_10q.htm', 'local_name': None, 'blob_id': '624935_section111', 'accession_id': 171948, 'received_date': '2016-11-01', 'description': 'Jmp Group Llc (JMP)', 'fiscal_year': 2016, 'entity_id': 10573, 'sec_filing_id': 624935, 'fiscal_period': '3Q', 'fact_id': 0, 'is_detail': False, 'network_id': 0, 'filing_date': '2016-11-01', 'footnote_type_title': 'Additional 10-K and 10-Q Sections', 'ticker': 'JMP', 'guide_link': None, 'footnote_type': 1110, 'entity_name': 'Jmp Group Llc', 'document_type': '10-Q', 'SEC_URL': 'http://www.sec.gov/Archives/edgar/data/1302350/000143774916040755/0001437749-16-040755-index.htm'}\n",
      "1110 2016 3 {'page_url': 'ftp://ftp.sec.gov/edgar/data/1542013/000107997416001647/joey10qa18312016.htm', 'local_name': None, 'blob_id': '624717_section111', 'accession_id': 171869, 'received_date': '2016-11-01', 'description': 'Joey New York, Inc. (CIK0001542013)', 'fiscal_year': 2016, 'entity_id': 9047, 'sec_filing_id': 624717, 'fiscal_period': '2Q', 'fact_id': 0, 'is_detail': False, 'network_id': 0, 'filing_date': '2016-11-01', 'footnote_type_title': 'Additional 10-K and 10-Q Sections', 'ticker': 'CIK0001542013', 'guide_link': None, 'footnote_type': 1110, 'entity_name': 'Joey New York, Inc.', 'document_type': '10-Q/A', 'SEC_URL': 'http://www.sec.gov/Archives/edgar/data/1542013/000107997416001647/0001079974-16-001647-index.htm'}\n",
      "1110 2016 3 {'page_url': 'ftp://ftp.sec.gov/edgar/data/1433660/000143366016000030/a93016-jbt10xq.htm', 'local_name': None, 'blob_id': '623867_section111', 'accession_id': 171577, 'received_date': '2016-10-28', 'description': 'John Bean Technologies CORP (JBT)', 'fiscal_year': 2016, 'entity_id': 3674, 'sec_filing_id': 623867, 'fiscal_period': '3Q', 'fact_id': 0, 'is_detail': False, 'network_id': 0, 'filing_date': '2016-10-28', 'footnote_type_title': 'Additional 10-K and 10-Q Sections', 'ticker': 'JBT', 'guide_link': None, 'footnote_type': 1110, 'entity_name': 'John Bean Technologies CORP', 'document_type': '10-Q', 'SEC_URL': 'http://www.sec.gov/Archives/edgar/data/1433660/000143366016000030/0001433660-16-000030-index.htm'}\n",
      "1110 2016 3 {'page_url': 'ftp://ftp.sec.gov/edgar/data/53669/000005366916000087/jci201610-k.htm', 'local_name': None, 'blob_id': '633192_section111', 'accession_id': 176547, 'received_date': '2016-11-23', 'description': 'Johnson Controls Inc (CIK0000053669)', 'fiscal_year': 2016, 'entity_id': 11703, 'sec_filing_id': 633192, 'fiscal_period': 'Y', 'fact_id': 0, 'is_detail': False, 'network_id': 0, 'filing_date': '2016-11-23', 'footnote_type_title': 'Additional 10-K and 10-Q Sections', 'ticker': 'CIK0000053669', 'guide_link': None, 'footnote_type': 1110, 'entity_name': 'Johnson Controls Inc', 'document_type': '10-K', 'SEC_URL': 'http://www.sec.gov/Archives/edgar/data/53669/000005366916000087/0000053669-16-000087-index.htm'}\n",
      "1110 2016 3 {'page_url': 'ftp://ftp.sec.gov/edgar/data/833444/000083344416000216/jciplc201610-k.htm', 'local_name': None, 'blob_id': '633196_section111', 'accession_id': 176549, 'received_date': '2016-11-23', 'description': 'Johnson Controls International plc (JCI)', 'fiscal_year': 2016, 'entity_id': 5039, 'sec_filing_id': 633196, 'fiscal_period': 'Y', 'fact_id': 0, 'is_detail': False, 'network_id': 0, 'filing_date': '2016-11-23', 'footnote_type_title': 'Additional 10-K and 10-Q Sections', 'ticker': 'JCI', 'guide_link': None, 'footnote_type': 1110, 'entity_name': 'Johnson Controls International plc', 'document_type': '10-K', 'SEC_URL': 'http://www.sec.gov/Archives/edgar/data/833444/000083344416000216/0000833444-16-000216-index.htm'}\n",
      "1110 2016 3 {'page_url': 'ftp://ftp.sec.gov/edgar/data/788329/000114036116089543/form10k.htm', 'local_name': None, 'blob_id': '635733_section111', 'accession_id': 177034, 'received_date': '2016-12-13', 'description': 'Johnson Outdoors Inc (JOUT)', 'fiscal_year': 2016, 'entity_id': 5709, 'sec_filing_id': 635733, 'fiscal_period': 'Y', 'fact_id': 0, 'is_detail': False, 'network_id': 0, 'filing_date': '2016-12-13', 'footnote_type_title': 'Additional 10-K and 10-Q Sections', 'ticker': 'JOUT', 'guide_link': None, 'footnote_type': 1110, 'entity_name': 'Johnson Outdoors Inc', 'document_type': '10-K', 'SEC_URL': 'http://www.sec.gov/Archives/edgar/data/788329/000114036116089543/0001140361-16-089543-index.htm'}\n"
     ]
    },
    {
     "name": "stdout",
     "output_type": "stream",
     "text": [
      "1110 2016 3 {'page_url': 'ftp://ftp.sec.gov/edgar/data/1612630/000117184316013201/f10q_111416p.htm', 'local_name': None, 'blob_id': '631082_section111', 'accession_id': 175317, 'received_date': '2016-11-14', 'description': 'JOINT Corp (JYNT)', 'fiscal_year': 2016, 'entity_id': 10435, 'sec_filing_id': 631082, 'fiscal_period': '3Q', 'fact_id': 0, 'is_detail': False, 'network_id': 0, 'filing_date': '2016-11-14', 'footnote_type_title': 'Additional 10-K and 10-Q Sections', 'ticker': 'JYNT', 'guide_link': None, 'footnote_type': 1110, 'entity_name': 'JOINT Corp', 'document_type': '10-Q', 'SEC_URL': 'http://www.sec.gov/Archives/edgar/data/1612630/000117184316013201/0001171843-16-013201-index.htm'}\n",
      "1110 2016 3 {'page_url': 'ftp://ftp.sec.gov/edgar/data/1573166/000155837016009284/jone-20160930x10q.htm', 'local_name': None, 'blob_id': '626866_section111', 'accession_id': 172803, 'received_date': '2016-11-04', 'description': 'Jones Energy, Inc. (JONE)', 'fiscal_year': 2016, 'entity_id': 9589, 'sec_filing_id': 626866, 'fiscal_period': '3Q', 'fact_id': 0, 'is_detail': False, 'network_id': 0, 'filing_date': '2016-11-04', 'footnote_type_title': 'Additional 10-K and 10-Q Sections', 'ticker': 'JONE', 'guide_link': None, 'footnote_type': 1110, 'entity_name': 'Jones Energy, Inc.', 'document_type': '10-Q', 'SEC_URL': 'http://www.sec.gov/Archives/edgar/data/1573166/000155837016009284/0001558370-16-009284-index.htm'}\n",
      "1110 2016 3 {'page_url': 'ftp://ftp.sec.gov/edgar/data/815917/000156459016028841/ck0000815917-10q_20160930.htm', 'local_name': None, 'blob_id': '630067_section111', 'accession_id': 174620, 'received_date': '2016-11-10', 'description': 'Jones Financial Companies Lllp (JNFC)', 'fiscal_year': 2016, 'entity_id': 5938, 'sec_filing_id': 630067, 'fiscal_period': '3Q', 'fact_id': 0, 'is_detail': False, 'network_id': 0, 'filing_date': '2016-11-10', 'footnote_type_title': 'Additional 10-K and 10-Q Sections', 'ticker': 'JNFC', 'guide_link': None, 'footnote_type': 1110, 'entity_name': 'Jones Financial Companies Lllp', 'document_type': '10-Q', 'SEC_URL': 'http://www.sec.gov/Archives/edgar/data/815917/000156459016028841/0001564590-16-028841-index.htm'}\n",
      "1110 2016 3 {'page_url': 'ftp://ftp.sec.gov/edgar/data/1037976/000103797616000147/jll-2016930x10qq3.htm', 'local_name': None, 'blob_id': '626092_section111', 'accession_id': 172425, 'received_date': '2016-11-03', 'description': 'Jones Lang Lasalle Inc (JLL)', 'fiscal_year': 2016, 'entity_id': 409, 'sec_filing_id': 626092, 'fiscal_period': '3Q', 'fact_id': 0, 'is_detail': False, 'network_id': 0, 'filing_date': '2016-11-03', 'footnote_type_title': 'Additional 10-K and 10-Q Sections', 'ticker': 'JLL', 'guide_link': None, 'footnote_type': 1110, 'entity_name': 'Jones Lang Lasalle Inc', 'document_type': '10-Q', 'SEC_URL': 'http://www.sec.gov/Archives/edgar/data/1037976/000103797616000147/0001037976-16-000147-index.htm'}\n",
      "1110 2016 3 {'page_url': 'ftp://ftp.sec.gov/edgar/data/1314152/000131415216000258/jllipt-20160930x10q.htm', 'local_name': None, 'blob_id': '631490_section111', 'accession_id': 175664, 'received_date': '2016-11-14', 'description': 'Jones Lang LaSalle Income Property Trust, Inc. (CIK0001314152)', 'fiscal_year': 2016, 'entity_id': 2349, 'sec_filing_id': 631490, 'fiscal_period': '3Q', 'fact_id': 0, 'is_detail': False, 'network_id': 0, 'filing_date': '2016-11-14', 'footnote_type_title': 'Additional 10-K and 10-Q Sections', 'ticker': 'CIK0001314152', 'guide_link': None, 'footnote_type': 1110, 'entity_name': 'Jones Lang LaSalle Income Property Trust, Inc.', 'document_type': '10-Q', 'SEC_URL': 'http://www.sec.gov/Archives/edgar/data/1314152/000131415216000258/0001314152-16-000258-index.htm'}\n",
      "1110 2016 3 {'page_url': 'ftp://ftp.sec.gov/edgar/data/1263364/000121390016018368/f10q0916_jowayhealth.htm', 'local_name': None, 'blob_id': '631031_section111', 'accession_id': 175275, 'received_date': '2016-11-14', 'description': 'Joway Health Industries Group Inc (GTVI)', 'fiscal_year': 2016, 'entity_id': 1987, 'sec_filing_id': 631031, 'fiscal_period': '3Q', 'fact_id': 0, 'is_detail': False, 'network_id': 0, 'filing_date': '2016-11-14', 'footnote_type_title': 'Additional 10-K and 10-Q Sections', 'ticker': 'GTVI', 'guide_link': None, 'footnote_type': 1110, 'entity_name': 'Joway Health Industries Group Inc', 'document_type': '10-Q', 'SEC_URL': 'http://www.sec.gov/Archives/edgar/data/1263364/000121390016018368/0001213900-16-018368-index.htm'}\n",
      "1110 2016 3 {'page_url': 'ftp://ftp.sec.gov/edgar/data/801898/000080189816000280/joy-10282016x10xk.htm', 'local_name': None, 'blob_id': '636219_section111', 'accession_id': 177180, 'received_date': '2016-12-16', 'description': 'Joy Global Inc (JOY)', 'fiscal_year': 2016, 'entity_id': 4671, 'sec_filing_id': 636219, 'fiscal_period': 'Y', 'fact_id': 0, 'is_detail': False, 'network_id': 0, 'filing_date': '2016-12-16', 'footnote_type_title': 'Additional 10-K and 10-Q Sections', 'ticker': 'JOY', 'guide_link': None, 'footnote_type': 1110, 'entity_name': 'Joy Global Inc', 'document_type': '10-K', 'SEC_URL': 'http://www.sec.gov/Archives/edgar/data/801898/000080189816000280/0000801898-16-000280-index.htm'}\n"
     ]
    },
    {
     "data": {
      "application/vnd.jupyter.widget-view+json": {
       "model_id": "8d82eb73496848d5af4c03f3896decf7"
      }
     },
     "metadata": {},
     "output_type": "display_data"
    },
    {
     "data": {
      "application/vnd.jupyter.widget-view+json": {
       "model_id": "00503dc1185542f9baf567519670bbb6"
      }
     },
     "metadata": {},
     "output_type": "display_data"
    },
    {
     "name": "stdout",
     "output_type": "stream",
     "text": [
      "1110 2017 1 {'page_url': 'ftp://ftp.sec.gov/edgar/data/1611019/000161577417002332/s106144_10q.htm', 'local_name': None, 'blob_id': '670990_section111', 'accession_id': 188577, 'received_date': '2017-05-12', 'description': 'Caleminder Inc (CMND)', 'fiscal_year': 2017, 'entity_id': 10424, 'sec_filing_id': 670990, 'fiscal_period': '1Q', 'fact_id': 0, 'is_detail': False, 'network_id': 0, 'filing_date': '2017-05-12', 'footnote_type_title': 'Additional 10-K and 10-Q Sections', 'ticker': 'CMND', 'guide_link': None, 'footnote_type': 1110, 'entity_name': 'Caleminder Inc', 'document_type': '10-Q', 'SEC_URL': 'http://www.sec.gov/Archives/edgar/data/1611019/000161577417002332/0001615774-17-002332-index.htm'}\n",
      "1110 2017 1 {'page_url': 'ftp://ftp.sec.gov/edgar/data/1611647/000156459017009445/frpt-10q_20170331.htm', 'local_name': None, 'blob_id': '668237_section111', 'accession_id': 186927, 'received_date': '2017-05-08', 'description': 'Freshpet, Inc. (FRPT)', 'fiscal_year': 2017, 'entity_id': 10414, 'sec_filing_id': 668237, 'fiscal_period': '1Q', 'fact_id': 0, 'is_detail': False, 'network_id': 0, 'filing_date': '2017-05-08', 'footnote_type_title': 'Additional 10-K and 10-Q Sections', 'ticker': 'FRPT', 'guide_link': None, 'footnote_type': 1110, 'entity_name': 'Freshpet, Inc.', 'document_type': '10-Q', 'SEC_URL': 'http://www.sec.gov/Archives/edgar/data/1611647/000156459017009445/0001564590-17-009445-index.htm'}\n"
     ]
    },
    {
     "data": {
      "application/vnd.jupyter.widget-view+json": {
       "model_id": "1577dcfa07d2423b92665cc45e044b15"
      }
     },
     "metadata": {},
     "output_type": "display_data"
    },
    {
     "data": {
      "application/vnd.jupyter.widget-view+json": {
       "model_id": "75eb01906f0b495b858fc6eb0fef862c"
      }
     },
     "metadata": {},
     "output_type": "display_data"
    },
    {
     "data": {
      "application/vnd.jupyter.widget-view+json": {
       "model_id": "cae354d54c3842a4ad8f8a8c68e882ef"
      }
     },
     "metadata": {},
     "output_type": "display_data"
    },
    {
     "data": {
      "application/vnd.jupyter.widget-view+json": {
       "model_id": "8820df0f442140d9bf10ec09a1d1663b"
      }
     },
     "metadata": {},
     "output_type": "display_data"
    },
    {
     "data": {
      "application/vnd.jupyter.widget-view+json": {
       "model_id": "4532f8837f8b463d805afb76d47bc79d"
      }
     },
     "metadata": {},
     "output_type": "display_data"
    },
    {
     "data": {
      "application/vnd.jupyter.widget-view+json": {
       "model_id": "59df4cd98b674e7097fb97e0b1abfab4"
      }
     },
     "metadata": {},
     "output_type": "display_data"
    },
    {
     "data": {
      "application/vnd.jupyter.widget-view+json": {
       "model_id": "104aa8eae71644c18c683e90018b4d4b"
      }
     },
     "metadata": {},
     "output_type": "display_data"
    },
    {
     "data": {
      "application/vnd.jupyter.widget-view+json": {
       "model_id": "b2cef11e34394b5790089063445572bd"
      }
     },
     "metadata": {},
     "output_type": "display_data"
    },
    {
     "data": {
      "application/vnd.jupyter.widget-view+json": {
       "model_id": "f9c7a6de5ee34c7d9491238e69df90d5"
      }
     },
     "metadata": {},
     "output_type": "display_data"
    },
    {
     "data": {
      "application/vnd.jupyter.widget-view+json": {
       "model_id": "9a3f27a541b140aab3e8f396e0d5441d"
      }
     },
     "metadata": {},
     "output_type": "display_data"
    },
    {
     "data": {
      "application/vnd.jupyter.widget-view+json": {
       "model_id": "dff64a8c04034fb5b0ec340aaea9cf6a"
      }
     },
     "metadata": {},
     "output_type": "display_data"
    },
    {
     "data": {
      "application/vnd.jupyter.widget-view+json": {
       "model_id": "2df594e862cf48e28b060174170b756c"
      }
     },
     "metadata": {},
     "output_type": "display_data"
    },
    {
     "data": {
      "application/vnd.jupyter.widget-view+json": {
       "model_id": "76d7d8f9b97b4f0d9c0f3110881284da"
      }
     },
     "metadata": {},
     "output_type": "display_data"
    },
    {
     "data": {
      "application/vnd.jupyter.widget-view+json": {
       "model_id": "2289a497dc344e4886b430493bca7290"
      }
     },
     "metadata": {},
     "output_type": "display_data"
    },
    {
     "data": {
      "application/vnd.jupyter.widget-view+json": {
       "model_id": "07fbaf6616714685ac329db28b47f0f3"
      }
     },
     "metadata": {},
     "output_type": "display_data"
    },
    {
     "data": {
      "application/vnd.jupyter.widget-view+json": {
       "model_id": "53323e676ca94e46bced221e8870b26d"
      }
     },
     "metadata": {},
     "output_type": "display_data"
    },
    {
     "data": {
      "application/vnd.jupyter.widget-view+json": {
       "model_id": "6eae246f051e48a78ddf1791a877e243"
      }
     },
     "metadata": {},
     "output_type": "display_data"
    },
    {
     "data": {
      "application/vnd.jupyter.widget-view+json": {
       "model_id": "fc7ac7ab0b5549f29f21d7168fd7a89c"
      }
     },
     "metadata": {},
     "output_type": "display_data"
    },
    {
     "data": {
      "application/vnd.jupyter.widget-view+json": {
       "model_id": "57883c83429f4dc0beb2c592bcd1fe54"
      }
     },
     "metadata": {},
     "output_type": "display_data"
    },
    {
     "data": {
      "application/vnd.jupyter.widget-view+json": {
       "model_id": "2a50e1553fd84127b8afad0944b89f58"
      }
     },
     "metadata": {},
     "output_type": "display_data"
    },
    {
     "data": {
      "application/vnd.jupyter.widget-view+json": {
       "model_id": "d87c78d0dfae4dc6a1855b750f9e27d4"
      }
     },
     "metadata": {},
     "output_type": "display_data"
    },
    {
     "data": {
      "application/vnd.jupyter.widget-view+json": {
       "model_id": "0c6d4d3f1f4d4547afb58a2900bf3166"
      }
     },
     "metadata": {},
     "output_type": "display_data"
    },
    {
     "data": {
      "application/vnd.jupyter.widget-view+json": {
       "model_id": "6f13dad2f5354d9ebe9269ee1b38a9c1"
      }
     },
     "metadata": {},
     "output_type": "display_data"
    },
    {
     "data": {
      "application/vnd.jupyter.widget-view+json": {
       "model_id": "e152a492c3c64610a11eab16b3e5a639"
      }
     },
     "metadata": {},
     "output_type": "display_data"
    },
    {
     "data": {
      "application/vnd.jupyter.widget-view+json": {
       "model_id": "45ed70df237140f8bccea1606466ac7c"
      }
     },
     "metadata": {},
     "output_type": "display_data"
    },
    {
     "data": {
      "application/vnd.jupyter.widget-view+json": {
       "model_id": "4db7f4fc905343898321ed417d90f72e"
      }
     },
     "metadata": {},
     "output_type": "display_data"
    },
    {
     "data": {
      "application/vnd.jupyter.widget-view+json": {
       "model_id": "1cf5bcd7d06148faad7195465833e9b9"
      }
     },
     "metadata": {},
     "output_type": "display_data"
    },
    {
     "data": {
      "application/vnd.jupyter.widget-view+json": {
       "model_id": "51607a3820b243fcb4c41c3b372e96a9"
      }
     },
     "metadata": {},
     "output_type": "display_data"
    },
    {
     "data": {
      "application/vnd.jupyter.widget-view+json": {
       "model_id": "252a6b4890ca4ff9a86c8d1eefcb3746"
      }
     },
     "metadata": {},
     "output_type": "display_data"
    },
    {
     "data": {
      "application/vnd.jupyter.widget-view+json": {
       "model_id": "7db51a4c45be4a29a48fb27d91d48557"
      }
     },
     "metadata": {},
     "output_type": "display_data"
    },
    {
     "data": {
      "application/vnd.jupyter.widget-view+json": {
       "model_id": "dab0b52865c147778ea369b0d85e3f00"
      }
     },
     "metadata": {},
     "output_type": "display_data"
    },
    {
     "data": {
      "application/vnd.jupyter.widget-view+json": {
       "model_id": "7057338a5f1b48899a01fdfd05fa6d5d"
      }
     },
     "metadata": {},
     "output_type": "display_data"
    },
    {
     "data": {
      "application/vnd.jupyter.widget-view+json": {
       "model_id": "933d357e45404d71a4ecb8f976aa67e9"
      }
     },
     "metadata": {},
     "output_type": "display_data"
    },
    {
     "data": {
      "application/vnd.jupyter.widget-view+json": {
       "model_id": "86651678e97a4d18b147d6ddb62206c7"
      }
     },
     "metadata": {},
     "output_type": "display_data"
    },
    {
     "data": {
      "application/vnd.jupyter.widget-view+json": {
       "model_id": "f00e7caf6988435f8576b1935d32810b"
      }
     },
     "metadata": {},
     "output_type": "display_data"
    },
    {
     "data": {
      "application/vnd.jupyter.widget-view+json": {
       "model_id": "a847f0fd6a09400b848330bb369a4e51"
      }
     },
     "metadata": {},
     "output_type": "display_data"
    },
    {
     "data": {
      "application/vnd.jupyter.widget-view+json": {
       "model_id": "769473f13be24ba493d01126a996ec6d"
      }
     },
     "metadata": {},
     "output_type": "display_data"
    },
    {
     "data": {
      "application/vnd.jupyter.widget-view+json": {
       "model_id": "7a7d8a5d4c7e47c0b12311cda9f8d9bd"
      }
     },
     "metadata": {},
     "output_type": "display_data"
    },
    {
     "data": {
      "application/vnd.jupyter.widget-view+json": {
       "model_id": "a56d8a1fb80f434a930a8da000ad730a"
      }
     },
     "metadata": {},
     "output_type": "display_data"
    },
    {
     "data": {
      "application/vnd.jupyter.widget-view+json": {
       "model_id": "cf9cdbe6c30b4868b45188a32fa5388e"
      }
     },
     "metadata": {},
     "output_type": "display_data"
    },
    {
     "data": {
      "application/vnd.jupyter.widget-view+json": {
       "model_id": "7d860647f928469dbfbe535e0987fbaf"
      }
     },
     "metadata": {},
     "output_type": "display_data"
    },
    {
     "data": {
      "application/vnd.jupyter.widget-view+json": {
       "model_id": "890782ae66b4446aa0f107c0ee7a058a"
      }
     },
     "metadata": {},
     "output_type": "display_data"
    },
    {
     "data": {
      "application/vnd.jupyter.widget-view+json": {
       "model_id": "aabf2b7fd7414d93b32d531eacfd75b4"
      }
     },
     "metadata": {},
     "output_type": "display_data"
    },
    {
     "data": {
      "application/vnd.jupyter.widget-view+json": {
       "model_id": "905c19be3cef41a59ed56cfbf7af5b70"
      }
     },
     "metadata": {},
     "output_type": "display_data"
    },
    {
     "data": {
      "application/vnd.jupyter.widget-view+json": {
       "model_id": "17080bbfa8fe4c3f85945dcacec6c15c"
      }
     },
     "metadata": {},
     "output_type": "display_data"
    },
    {
     "data": {
      "application/vnd.jupyter.widget-view+json": {
       "model_id": "bc7f578f7279497382106d422ba22817"
      }
     },
     "metadata": {},
     "output_type": "display_data"
    },
    {
     "data": {
      "application/vnd.jupyter.widget-view+json": {
       "model_id": "f0286f6113a34f22ad91212e2fbe66fd"
      }
     },
     "metadata": {},
     "output_type": "display_data"
    },
    {
     "data": {
      "application/vnd.jupyter.widget-view+json": {
       "model_id": "11615d6aa83a4aa494d19628dd8d3cbe"
      }
     },
     "metadata": {},
     "output_type": "display_data"
    },
    {
     "data": {
      "application/vnd.jupyter.widget-view+json": {
       "model_id": "beb8d986550d423c8f6e06bb6ecb403a"
      }
     },
     "metadata": {},
     "output_type": "display_data"
    },
    {
     "data": {
      "application/vnd.jupyter.widget-view+json": {
       "model_id": "55460cac6b89460fa2b4d0c486829690"
      }
     },
     "metadata": {},
     "output_type": "display_data"
    },
    {
     "data": {
      "application/vnd.jupyter.widget-view+json": {
       "model_id": "4ee5b4ab6c354866ba1ca88319a77d63"
      }
     },
     "metadata": {},
     "output_type": "display_data"
    },
    {
     "data": {
      "application/vnd.jupyter.widget-view+json": {
       "model_id": "bf5a7de627bd4970b78cd5670c8aeb96"
      }
     },
     "metadata": {},
     "output_type": "display_data"
    },
    {
     "data": {
      "application/vnd.jupyter.widget-view+json": {
       "model_id": "cd83debd995245eba945687c682a33e8"
      }
     },
     "metadata": {},
     "output_type": "display_data"
    },
    {
     "data": {
      "application/vnd.jupyter.widget-view+json": {
       "model_id": "36a46d53e6e64beea751c72fcd8709e9"
      }
     },
     "metadata": {},
     "output_type": "display_data"
    },
    {
     "data": {
      "application/vnd.jupyter.widget-view+json": {
       "model_id": "4e5712f07b794e1f8c2468197633e930"
      }
     },
     "metadata": {},
     "output_type": "display_data"
    },
    {
     "data": {
      "application/vnd.jupyter.widget-view+json": {
       "model_id": "105648a1c4fc41c9b43ad97b2d86d9f4"
      }
     },
     "metadata": {},
     "output_type": "display_data"
    },
    {
     "data": {
      "application/vnd.jupyter.widget-view+json": {
       "model_id": "8fee616e247e4e6baabe42bdbc2c1462"
      }
     },
     "metadata": {},
     "output_type": "display_data"
    },
    {
     "data": {
      "application/vnd.jupyter.widget-view+json": {
       "model_id": "bef8e55acec54586af667eee0255fcaf"
      }
     },
     "metadata": {},
     "output_type": "display_data"
    },
    {
     "data": {
      "application/vnd.jupyter.widget-view+json": {
       "model_id": "61b85c5b34b84de99eb3b1ea53d7846a"
      }
     },
     "metadata": {},
     "output_type": "display_data"
    },
    {
     "data": {
      "application/vnd.jupyter.widget-view+json": {
       "model_id": "76cb65b2d3f2407b8a1ca74a3d11b32d"
      }
     },
     "metadata": {},
     "output_type": "display_data"
    },
    {
     "data": {
      "application/vnd.jupyter.widget-view+json": {
       "model_id": "7f76dec49f794dc6b85607fd42bae5ce"
      }
     },
     "metadata": {},
     "output_type": "display_data"
    },
    {
     "data": {
      "application/vnd.jupyter.widget-view+json": {
       "model_id": "f3f16e4b47d84b4a885b1b3154ece807"
      }
     },
     "metadata": {},
     "output_type": "display_data"
    },
    {
     "data": {
      "application/vnd.jupyter.widget-view+json": {
       "model_id": "5bee43d7ea734e2fbade980417cfbace"
      }
     },
     "metadata": {},
     "output_type": "display_data"
    },
    {
     "data": {
      "application/vnd.jupyter.widget-view+json": {
       "model_id": "a405bc0d64154fe8a038eefb633bffc4"
      }
     },
     "metadata": {},
     "output_type": "display_data"
    },
    {
     "data": {
      "application/vnd.jupyter.widget-view+json": {
       "model_id": "effdbf3de488482f9adb2a591296e1f1"
      }
     },
     "metadata": {},
     "output_type": "display_data"
    },
    {
     "data": {
      "application/vnd.jupyter.widget-view+json": {
       "model_id": "1029e66c1b134f3e8e06812e762e6ec1"
      }
     },
     "metadata": {},
     "output_type": "display_data"
    },
    {
     "data": {
      "application/vnd.jupyter.widget-view+json": {
       "model_id": "8d82829b48674fb78ad302fae3724cd7"
      }
     },
     "metadata": {},
     "output_type": "display_data"
    },
    {
     "data": {
      "application/vnd.jupyter.widget-view+json": {
       "model_id": "95f4006fd640425182e2002fdfd94f33"
      }
     },
     "metadata": {},
     "output_type": "display_data"
    },
    {
     "data": {
      "application/vnd.jupyter.widget-view+json": {
       "model_id": "f7e3fcc1b0284e0c97914e126806bd53"
      }
     },
     "metadata": {},
     "output_type": "display_data"
    },
    {
     "data": {
      "application/vnd.jupyter.widget-view+json": {
       "model_id": "0663ed706a4b42f986b9455aec8cb511"
      }
     },
     "metadata": {},
     "output_type": "display_data"
    },
    {
     "data": {
      "application/vnd.jupyter.widget-view+json": {
       "model_id": "c197a374875647168e75a043979caae4"
      }
     },
     "metadata": {},
     "output_type": "display_data"
    },
    {
     "data": {
      "application/vnd.jupyter.widget-view+json": {
       "model_id": "87674fd20cfb48299547d5c0b58f1b48"
      }
     },
     "metadata": {},
     "output_type": "display_data"
    },
    {
     "data": {
      "application/vnd.jupyter.widget-view+json": {
       "model_id": "c96161afdce442698d8f0488b8e94603"
      }
     },
     "metadata": {},
     "output_type": "display_data"
    },
    {
     "name": "stdout",
     "output_type": "stream",
     "text": [
      "1300 2011 2 {'page_url': 'ftp://ftp.sec.gov/edgar/data/1096298/000121152411000217/qjune2011.htm', 'local_name': None, 'blob_id': '193020_section130', 'accession_id': 2531, 'received_date': '2011-08-31', 'description': 'Asia8, Inc. (CIK0001096298)', 'fiscal_year': 2011, 'entity_id': 1106, 'sec_filing_id': 193020, 'fiscal_period': '2Q', 'fact_id': 0, 'is_detail': False, 'network_id': 0, 'filing_date': '2011-08-31', 'footnote_type_title': 'Additional 10-K and 10-Q Sections', 'ticker': 'CIK0001096298', 'guide_link': None, 'footnote_type': 1300, 'entity_name': 'Asia8, Inc.', 'document_type': '10-Q/A', 'SEC_URL': 'http://www.sec.gov/Archives/edgar/data/1096298/000121152411000217/0001211524-11-000217-index.htm'}\n",
      "1300 2011 2 {'page_url': 'ftp://ftp.sec.gov/edgar/data/715812/000071581211000005/form10q.htm', 'local_name': None, 'blob_id': '200869_section130', 'accession_id': 10381, 'received_date': '2011-09-15', 'description': 'Biosynergy Inc (BSYN)', 'fiscal_year': 2012, 'entity_id': 5277, 'sec_filing_id': 200869, 'fiscal_period': '1Q', 'fact_id': 0, 'is_detail': False, 'network_id': 0, 'filing_date': '2011-09-15', 'footnote_type_title': 'Additional 10-K and 10-Q Sections', 'ticker': 'BSYN', 'guide_link': None, 'footnote_type': 1300, 'entity_name': 'Biosynergy Inc', 'document_type': '10-Q', 'SEC_URL': 'http://www.sec.gov/Archives/edgar/data/715812/000071581211000005/0000715812-11-000005-index.htm'}\n",
      "1300 2011 2 {'page_url': 'ftp://ftp.sec.gov/edgar/data/12400/000001240011000016/bhp10qq22011.htm', 'local_name': None, 'blob_id': '194675_section130', 'accession_id': 4186, 'received_date': '2011-08-11', 'description': 'Black Hills Power Inc (BHP)', 'fiscal_year': 2011, 'entity_id': 1935, 'sec_filing_id': 194675, 'fiscal_period': '2Q', 'fact_id': 0, 'is_detail': False, 'network_id': 0, 'filing_date': '2011-08-11', 'footnote_type_title': 'Additional 10-K and 10-Q Sections', 'ticker': 'BHP', 'guide_link': None, 'footnote_type': 1300, 'entity_name': 'Black Hills Power Inc', 'document_type': '10-Q', 'SEC_URL': 'http://www.sec.gov/Archives/edgar/data/12400/000001240011000016/0000012400-11-000016-index.htm'}\n",
      "1300 2011 2 {'page_url': 'ftp://ftp.sec.gov/edgar/data/1385211/000113705011000233/cmi10q30jun11_final3clean2.htm', 'local_name': None, 'blob_id': '196538_section130', 'accession_id': 6049, 'received_date': '2011-08-19', 'description': 'China Multimedia, Inc. (CMMI)', 'fiscal_year': 2011, 'entity_id': 3064, 'sec_filing_id': 196538, 'fiscal_period': '3Q', 'fact_id': 0, 'is_detail': False, 'network_id': 0, 'filing_date': '2011-08-19', 'footnote_type_title': 'Additional 10-K and 10-Q Sections', 'ticker': 'CMMI', 'guide_link': None, 'footnote_type': 1300, 'entity_name': 'China Multimedia, Inc.', 'document_type': '10-Q', 'SEC_URL': 'http://www.sec.gov/Archives/edgar/data/1385211/000113705011000233/0001137050-11-000233-index.htm'}\n",
      "1300 2011 2 {'page_url': 'ftp://ftp.sec.gov/edgar/data/1391426/000113705011000273/cvph_10qa06302011final.htm', 'local_name': None, 'blob_id': '196638_section130', 'accession_id': 6149, 'received_date': '2011-09-13', 'description': 'China Vitup Health Care Holdings, Inc. (CVPH)', 'fiscal_year': 2011, 'entity_id': 3142, 'sec_filing_id': 196638, 'fiscal_period': '2Q', 'fact_id': 0, 'is_detail': False, 'network_id': 0, 'filing_date': '2011-09-13', 'footnote_type_title': 'Additional 10-K and 10-Q Sections', 'ticker': 'CVPH', 'guide_link': None, 'footnote_type': 1300, 'entity_name': 'China Vitup Health Care Holdings, Inc.', 'document_type': '10-Q/A', 'SEC_URL': 'http://www.sec.gov/Archives/edgar/data/1391426/000113705011000273/0001137050-11-000273-index.htm'}\n",
      "1300 2011 2 {'page_url': 'ftp://ftp.sec.gov/edgar/data/1098881/000109888111000008/caly6301110qadoc.htm', 'local_name': None, 'blob_id': '193084_section130', 'accession_id': 2595, 'received_date': '2011-09-15', 'description': 'U.S. Rare Earths, Inc (UREE)', 'fiscal_year': 2011, 'entity_id': 1141, 'sec_filing_id': 193084, 'fiscal_period': '2Q', 'fact_id': 0, 'is_detail': False, 'network_id': 0, 'filing_date': '2011-09-15', 'footnote_type_title': 'Additional 10-K and 10-Q Sections', 'ticker': 'UREE', 'guide_link': None, 'footnote_type': 1300, 'entity_name': 'U.S. Rare Earths, Inc', 'document_type': '10-Q/A', 'SEC_URL': 'http://www.sec.gov/Archives/edgar/data/1098881/000109888111000008/0001098881-11-000008-index.htm'}\n",
      "1300 2011 2 {'page_url': 'ftp://ftp.sec.gov/edgar/data/1448324/000113542811000403/form10qfinal.htm', 'local_name': None, 'blob_id': '197548_section130', 'accession_id': 7059, 'received_date': '2011-08-12', 'description': 'Cornerstone Financial Corp (CFIC)', 'fiscal_year': 2011, 'entity_id': 3833, 'sec_filing_id': 197548, 'fiscal_period': '2Q', 'fact_id': 0, 'is_detail': False, 'network_id': 0, 'filing_date': '2011-08-12', 'footnote_type_title': 'Additional 10-K and 10-Q Sections', 'ticker': 'CFIC', 'guide_link': None, 'footnote_type': 1300, 'entity_name': 'Cornerstone Financial Corp', 'document_type': '10-Q', 'SEC_URL': 'http://www.sec.gov/Archives/edgar/data/1448324/000113542811000403/0001135428-11-000403-index.htm'}\n",
      "1300 2011 2 {'page_url': 'ftp://ftp.sec.gov/edgar/data/1432939/000152745811000005/credexq22011_10qz.htm', 'local_name': None, 'blob_id': '197357_section130', 'accession_id': 6868, 'received_date': '2011-09-09', 'description': 'Credex Corp (CRDXE)', 'fiscal_year': 2011, 'entity_id': 3664, 'sec_filing_id': 197357, 'fiscal_period': '2Q', 'fact_id': 0, 'is_detail': False, 'network_id': 0, 'filing_date': '2011-09-09', 'footnote_type_title': 'Additional 10-K and 10-Q Sections', 'ticker': 'CRDXE', 'guide_link': None, 'footnote_type': 1300, 'entity_name': 'Credex Corp', 'document_type': '10-Q/A', 'SEC_URL': 'http://www.sec.gov/Archives/edgar/data/1432939/000152745811000005/0001527458-11-000005-index.htm'}\n",
      "1300 2011 2 {'page_url': 'ftp://ftp.sec.gov/edgar/data/1368568/000136856811000031/dalian10qjun11_10q.htm', 'local_name': None, 'blob_id': '196253_section130', 'accession_id': 5764, 'received_date': '2011-09-14', 'description': 'Dalian Capital Group, Inc. (DALC)', 'fiscal_year': 2011, 'entity_id': 2863, 'sec_filing_id': 196253, 'fiscal_period': '2Q', 'fact_id': 0, 'is_detail': False, 'network_id': 0, 'filing_date': '2011-09-14', 'footnote_type_title': 'Additional 10-K and 10-Q Sections', 'ticker': 'DALC', 'guide_link': None, 'footnote_type': 1300, 'entity_name': 'Dalian Capital Group, Inc.', 'document_type': '10-Q', 'SEC_URL': 'http://www.sec.gov/Archives/edgar/data/1368568/000136856811000031/0001368568-11-000031-index.htm'}\n",
      "1300 2011 2 {'page_url': 'ftp://ftp.sec.gov/edgar/data/1311546/000113705011000199/derby_form10q6302011final.htm', 'local_name': None, 'blob_id': '195384_section130', 'accession_id': 4895, 'received_date': '2011-08-12', 'description': 'Xtraplan, Inc. (DRBY)', 'fiscal_year': 2011, 'entity_id': 2338, 'sec_filing_id': 195384, 'fiscal_period': '2Q', 'fact_id': 0, 'is_detail': False, 'network_id': 0, 'filing_date': '2011-08-12', 'footnote_type_title': 'Additional 10-K and 10-Q Sections', 'ticker': 'DRBY', 'guide_link': None, 'footnote_type': 1300, 'entity_name': 'Xtraplan, Inc.', 'document_type': '10-Q', 'SEC_URL': 'http://www.sec.gov/Archives/edgar/data/1311546/000113705011000199/0001137050-11-000199-index.htm'}\n",
      "1300 2011 2 {'page_url': 'ftp://ftp.sec.gov/edgar/data/1441551/000113705011000265/dnas10q_finalclean.htm', 'local_name': None, 'blob_id': '197482_section130', 'accession_id': 6993, 'received_date': '2011-09-12', 'description': 'Dna Systems, Inc. (DNAS)', 'fiscal_year': 2012, 'entity_id': 3779, 'sec_filing_id': 197482, 'fiscal_period': '1Q', 'fact_id': 0, 'is_detail': False, 'network_id': 0, 'filing_date': '2011-09-12', 'footnote_type_title': 'Additional 10-K and 10-Q Sections', 'ticker': 'DNAS', 'guide_link': None, 'footnote_type': 1300, 'entity_name': 'Dna Systems, Inc.', 'document_type': '10-Q', 'SEC_URL': 'http://www.sec.gov/Archives/edgar/data/1441551/000113705011000265/0001137050-11-000265-index.htm'}\n"
     ]
    },
    {
     "name": "stdout",
     "output_type": "stream",
     "text": [
      "1300 2011 2 {'page_url': 'ftp://ftp.sec.gov/edgar/data/318835/000076458611000006/dsi006q211.htm', 'local_name': None, 'blob_id': '199259_section130', 'accession_id': 8770, 'received_date': '2011-08-22', 'description': 'Dsi Realty Income Fund Vi (DSI006)', 'fiscal_year': 2011, 'entity_id': 4782, 'sec_filing_id': 199259, 'fiscal_period': '2Q', 'fact_id': 0, 'is_detail': False, 'network_id': 0, 'filing_date': '2011-08-22', 'footnote_type_title': 'Additional 10-K and 10-Q Sections', 'ticker': 'DSI006', 'guide_link': None, 'footnote_type': 1300, 'entity_name': 'Dsi Realty Income Fund Vi', 'document_type': '10-Q', 'SEC_URL': 'http://www.sec.gov/Archives/edgar/data/318835/000076458611000006/0000764586-11-000006-index.htm'}\n",
      "1300 2011 2 {'page_url': 'ftp://ftp.sec.gov/edgar/data/1099574/000109957411000006/f10qajune2011xbrl.htm', 'local_name': None, 'blob_id': '193113_section130', 'accession_id': 2624, 'received_date': '2011-09-15', 'description': 'Eastgate Biotech Corp (ETBI)', 'fiscal_year': 2011, 'entity_id': 1153, 'sec_filing_id': 193113, 'fiscal_period': '2Q', 'fact_id': 0, 'is_detail': False, 'network_id': 0, 'filing_date': '2011-09-15', 'footnote_type_title': 'Additional 10-K and 10-Q Sections', 'ticker': 'ETBI', 'guide_link': None, 'footnote_type': 1300, 'entity_name': 'Eastgate Biotech Corp', 'document_type': '10-Q/A', 'SEC_URL': 'http://www.sec.gov/Archives/edgar/data/1099574/000109957411000006/0001099574-11-000006-index.htm'}\n",
      "1300 2011 2 {'page_url': 'ftp://ftp.sec.gov/edgar/data/1095133/000109513311000027/isa3qtr201110qver75.htm', 'local_name': None, 'blob_id': '192993_section130', 'accession_id': 2504, 'received_date': '2011-09-15', 'description': 'Isa Internationale Inc (ISATOB)', 'fiscal_year': 2011, 'entity_id': 1087, 'sec_filing_id': 192993, 'fiscal_period': '3Q', 'fact_id': 0, 'is_detail': False, 'network_id': 0, 'filing_date': '2011-09-15', 'footnote_type_title': 'Additional 10-K and 10-Q Sections', 'ticker': 'ISATOB', 'guide_link': None, 'footnote_type': 1300, 'entity_name': 'Isa Internationale Inc', 'document_type': '10-Q/A', 'SEC_URL': 'http://www.sec.gov/Archives/edgar/data/1095133/000109513311000027/0001095133-11-000027-index.htm'}\n",
      "1300 2011 2 {'page_url': 'ftp://ftp.sec.gov/edgar/data/1112551/000113705011000204/merci_form10qa6302011final.htm', 'local_name': None, 'blob_id': '193387_section130', 'accession_id': 2898, 'received_date': '2011-08-12', 'description': 'Merci Inc (MRCI)', 'fiscal_year': 2011, 'entity_id': 1295, 'sec_filing_id': 193387, 'fiscal_period': '2Q', 'fact_id': 0, 'is_detail': False, 'network_id': 0, 'filing_date': '2011-08-12', 'footnote_type_title': 'Additional 10-K and 10-Q Sections', 'ticker': 'MRCI', 'guide_link': None, 'footnote_type': 1300, 'entity_name': 'Merci Inc', 'document_type': '10-Q/A', 'SEC_URL': 'http://www.sec.gov/Archives/edgar/data/1112551/000113705011000204/0001137050-11-000204-index.htm'}\n",
      "1300 2011 2 {'page_url': 'ftp://ftp.sec.gov/edgar/data/1302365/000113705011000196/ourglass_form10q6302011final.htm', 'local_name': None, 'blob_id': '195269_section130', 'accession_id': 4780, 'received_date': '2011-08-12', 'description': 'Our Glass, Inc. (CIK0001302365)', 'fiscal_year': 2011, 'entity_id': 2264, 'sec_filing_id': 195269, 'fiscal_period': '2Q', 'fact_id': 0, 'is_detail': False, 'network_id': 0, 'filing_date': '2011-08-12', 'footnote_type_title': 'Additional 10-K and 10-Q Sections', 'ticker': 'CIK0001302365', 'guide_link': None, 'footnote_type': 1300, 'entity_name': 'Our Glass, Inc.', 'document_type': '10-Q', 'SEC_URL': 'http://www.sec.gov/Archives/edgar/data/1302365/000113705011000196/0001137050-11-000196-index.htm'}\n",
      "1300 2011 2 {'page_url': 'ftp://ftp.sec.gov/edgar/data/790179/000102317511000433/f10qv2edgar.htm', 'local_name': None, 'blob_id': '202034_section130', 'accession_id': 11546, 'received_date': '2011-08-11', 'description': 'Prestige Capital Corp (PGEC)', 'fiscal_year': 2011, 'entity_id': 5732, 'sec_filing_id': 202034, 'fiscal_period': '2Q', 'fact_id': 0, 'is_detail': False, 'network_id': 0, 'filing_date': '2011-08-11', 'footnote_type_title': 'Additional 10-K and 10-Q Sections', 'ticker': 'PGEC', 'guide_link': None, 'footnote_type': 1300, 'entity_name': 'Prestige Capital Corp', 'document_type': '10-Q/A', 'SEC_URL': 'http://www.sec.gov/Archives/edgar/data/790179/000102317511000433/0001023175-11-000433-index.htm'}\n",
      "1300 2011 2 {'page_url': 'ftp://ftp.sec.gov/edgar/data/1451512/000149473311000034/f10qjune302011v2.htm', 'local_name': None, 'blob_id': '197593_section130', 'accession_id': 7104, 'received_date': '2011-08-12', 'description': 'Terra Tech Corp. (TRTC)', 'fiscal_year': 2011, 'entity_id': 3865, 'sec_filing_id': 197593, 'fiscal_period': '3Q', 'fact_id': 0, 'is_detail': False, 'network_id': 0, 'filing_date': '2011-08-12', 'footnote_type_title': 'Additional 10-K and 10-Q Sections', 'ticker': 'TRTC', 'guide_link': None, 'footnote_type': 1300, 'entity_name': 'Terra Tech Corp.', 'document_type': '10-Q', 'SEC_URL': 'http://www.sec.gov/Archives/edgar/data/1451512/000149473311000034/0001494733-11-000034-index.htm'}\n",
      "1300 2011 2 {'page_url': 'ftp://ftp.sec.gov/edgar/data/1333614/000137216711000039/razor10qajuly31.htm', 'local_name': None, 'blob_id': '195728_section130', 'accession_id': 5239, 'received_date': '2011-10-06', 'description': 'You Han Data Tech Co Ltd. (RZOR)', 'fiscal_year': 2011, 'entity_id': 2532, 'sec_filing_id': 195728, 'fiscal_period': '1Q', 'fact_id': 0, 'is_detail': False, 'network_id': 0, 'filing_date': '2011-10-06', 'footnote_type_title': 'Additional 10-K and 10-Q Sections', 'ticker': 'RZOR', 'guide_link': None, 'footnote_type': 1300, 'entity_name': 'You Han Data Tech Co Ltd.', 'document_type': '10-Q/A', 'SEC_URL': 'http://www.sec.gov/Archives/edgar/data/1333614/000137216711000039/0001372167-11-000039-index.htm'}\n",
      "1300 2011 2 {'page_url': 'ftp://ftp.sec.gov/edgar/data/1103090/000101041211000453/f10qq211v7.htm', 'local_name': None, 'blob_id': '193202_section130', 'accession_id': 2713, 'received_date': '2011-08-15', 'description': 'Reflect Scientific Inc (RSCF)', 'fiscal_year': 2011, 'entity_id': 1202, 'sec_filing_id': 193202, 'fiscal_period': '2Q', 'fact_id': 0, 'is_detail': False, 'network_id': 0, 'filing_date': '2011-08-15', 'footnote_type_title': 'Additional 10-K and 10-Q Sections', 'ticker': 'RSCF', 'guide_link': None, 'footnote_type': 1300, 'entity_name': 'Reflect Scientific Inc', 'document_type': '10-Q', 'SEC_URL': 'http://www.sec.gov/Archives/edgar/data/1103090/000101041211000453/0001010412-11-000453-index.htm'}\n",
      "1300 2011 2 {'page_url': 'ftp://ftp.sec.gov/edgar/data/1432290/000093173111000172/securewindow-10q063011.htm', 'local_name': None, 'blob_id': '197355_section130', 'accession_id': 6866, 'received_date': '2011-08-18', 'description': 'A1 Group, Inc. (FBTN)', 'fiscal_year': 2011, 'entity_id': 3662, 'sec_filing_id': 197355, 'fiscal_period': '2Q', 'fact_id': 0, 'is_detail': False, 'network_id': 0, 'filing_date': '2011-08-18', 'footnote_type_title': 'Additional 10-K and 10-Q Sections', 'ticker': 'FBTN', 'guide_link': None, 'footnote_type': 1300, 'entity_name': 'A1 Group, Inc.', 'document_type': '10-Q/A', 'SEC_URL': 'http://www.sec.gov/Archives/edgar/data/1432290/000093173111000172/0000931731-11-000172-index.htm'}\n",
      "1300 2011 2 {'page_url': 'ftp://ftp.sec.gov/edgar/data/1111468/000113705011000200/tranquility_form10q6302011fi.htm', 'local_name': None, 'blob_id': '193372_section130', 'accession_id': 2883, 'received_date': '2011-08-12', 'description': 'Tranquility Inc (CIK0001111468)', 'fiscal_year': 2011, 'entity_id': 1284, 'sec_filing_id': 193372, 'fiscal_period': '2Q', 'fact_id': 0, 'is_detail': False, 'network_id': 0, 'filing_date': '2011-08-12', 'footnote_type_title': 'Additional 10-K and 10-Q Sections', 'ticker': 'CIK0001111468', 'guide_link': None, 'footnote_type': 1300, 'entity_name': 'Tranquility Inc', 'document_type': '10-Q', 'SEC_URL': 'http://www.sec.gov/Archives/edgar/data/1111468/000113705011000200/0001137050-11-000200-index.htm'}\n"
     ]
    },
    {
     "name": "stdout",
     "output_type": "stream",
     "text": [
      "1300 2011 2 {'page_url': 'ftp://ftp.sec.gov/edgar/data/1442101/000100233411000346/j11q.htm', 'local_name': None, 'blob_id': '197491_section130', 'accession_id': 7002, 'received_date': '2011-08-17', 'description': 'Western Lucrative Enterprises, Inc. (WLUC)', 'fiscal_year': 2011, 'entity_id': 3786, 'sec_filing_id': 197491, 'fiscal_period': '2Q', 'fact_id': 0, 'is_detail': False, 'network_id': 0, 'filing_date': '2011-08-17', 'footnote_type_title': 'Additional 10-K and 10-Q Sections', 'ticker': 'WLUC', 'guide_link': None, 'footnote_type': 1300, 'entity_name': 'Western Lucrative Enterprises, Inc.', 'document_type': '10-Q', 'SEC_URL': 'http://www.sec.gov/Archives/edgar/data/1442101/000100233411000346/0001002334-11-000346-index.htm'}\n",
      "1300 2011 2 {'page_url': 'ftp://ftp.sec.gov/edgar/data/1099568/000109956811000005/f10qajune2011.htm', 'local_name': None, 'blob_id': '193112_section130', 'accession_id': 2623, 'received_date': '2011-09-15', 'description': 'Westgate Acquisitions Corp (WESTG)', 'fiscal_year': 2011, 'entity_id': 1152, 'sec_filing_id': 193112, 'fiscal_period': '2Q', 'fact_id': 0, 'is_detail': False, 'network_id': 0, 'filing_date': '2011-09-15', 'footnote_type_title': 'Additional 10-K and 10-Q Sections', 'ticker': 'WESTG', 'guide_link': None, 'footnote_type': 1300, 'entity_name': 'Westgate Acquisitions Corp', 'document_type': '10-Q/A', 'SEC_URL': 'http://www.sec.gov/Archives/edgar/data/1099568/000109956811000005/0001099568-11-000005-index.htm'}\n"
     ]
    },
    {
     "data": {
      "application/vnd.jupyter.widget-view+json": {
       "model_id": "5fe64eb173b84211945c2dc1694a2a52"
      }
     },
     "metadata": {},
     "output_type": "display_data"
    },
    {
     "name": "stdout",
     "output_type": "stream",
     "text": [
      "1300 2011 3 {'page_url': 'ftp://ftp.sec.gov/edgar/data/1510961/000148725211000074/ucv1septq.htm', 'local_name': None, 'blob_id': '198255_section130', 'accession_id': 7766, 'received_date': '2011-10-07', 'description': 'USChina Venture I Inc (CIK0001510961)', 'fiscal_year': 2011, 'entity_id': 4437, 'sec_filing_id': 198255, 'fiscal_period': '3Q', 'fact_id': 0, 'is_detail': False, 'network_id': 0, 'filing_date': '2011-10-07', 'footnote_type_title': 'Additional 10-K and 10-Q Sections', 'ticker': 'CIK0001510961', 'guide_link': None, 'footnote_type': 1300, 'entity_name': 'USChina Venture I Inc', 'document_type': '10-Q', 'SEC_URL': 'http://www.sec.gov/Archives/edgar/data/1510961/000148725211000074/0001487252-11-000074-index.htm'}\n",
      "1300 2011 3 {'page_url': 'ftp://ftp.sec.gov/edgar/data/1510962/000148725211000078/ucv1septq.htm', 'local_name': None, 'blob_id': '198257_section130', 'accession_id': 7768, 'received_date': '2011-10-07', 'description': 'USChina Venture II Inc (CIK0001510962)', 'fiscal_year': 2011, 'entity_id': 4438, 'sec_filing_id': 198257, 'fiscal_period': '3Q', 'fact_id': 0, 'is_detail': False, 'network_id': 0, 'filing_date': '2011-10-07', 'footnote_type_title': 'Additional 10-K and 10-Q Sections', 'ticker': 'CIK0001510962', 'guide_link': None, 'footnote_type': 1300, 'entity_name': 'USChina Venture II Inc', 'document_type': '10-Q', 'SEC_URL': 'http://www.sec.gov/Archives/edgar/data/1510962/000148725211000078/0001487252-11-000078-index.htm'}\n"
     ]
    },
    {
     "data": {
      "application/vnd.jupyter.widget-view+json": {
       "model_id": "75a45ef4279c47a6994c3a33a296ad2a"
      }
     },
     "metadata": {},
     "output_type": "display_data"
    },
    {
     "data": {
      "application/vnd.jupyter.widget-view+json": {
       "model_id": "8b66e354901e4319a46ed1b00ad002b1"
      }
     },
     "metadata": {},
     "output_type": "display_data"
    },
    {
     "data": {
      "application/vnd.jupyter.widget-view+json": {
       "model_id": "f41d1e482ba24c6495e0140202649976"
      }
     },
     "metadata": {},
     "output_type": "display_data"
    },
    {
     "data": {
      "application/vnd.jupyter.widget-view+json": {
       "model_id": "d4c5fead397e48b1ab94402f1ed57f98"
      }
     },
     "metadata": {},
     "output_type": "display_data"
    },
    {
     "data": {
      "application/vnd.jupyter.widget-view+json": {
       "model_id": "132d88fad46a45709a5b1c688c1710aa"
      }
     },
     "metadata": {},
     "output_type": "display_data"
    },
    {
     "data": {
      "application/vnd.jupyter.widget-view+json": {
       "model_id": "9cff93468bb140dd9401b110a55ae991"
      }
     },
     "metadata": {},
     "output_type": "display_data"
    },
    {
     "data": {
      "application/vnd.jupyter.widget-view+json": {
       "model_id": "9633229c1f234651a37921454319c36c"
      }
     },
     "metadata": {},
     "output_type": "display_data"
    },
    {
     "data": {
      "application/vnd.jupyter.widget-view+json": {
       "model_id": "b4f29b7164bf410aa0c7425f76724301"
      }
     },
     "metadata": {},
     "output_type": "display_data"
    },
    {
     "data": {
      "application/vnd.jupyter.widget-view+json": {
       "model_id": "64b9a1b6e95b4f18b9ab2980274c850c"
      }
     },
     "metadata": {},
     "output_type": "display_data"
    },
    {
     "data": {
      "application/vnd.jupyter.widget-view+json": {
       "model_id": "18f34c6235db4b0fab7a0395e5841c2a"
      }
     },
     "metadata": {},
     "output_type": "display_data"
    },
    {
     "data": {
      "application/vnd.jupyter.widget-view+json": {
       "model_id": "ac7560aff6e547479927e54a8e9689c1"
      }
     },
     "metadata": {},
     "output_type": "display_data"
    },
    {
     "data": {
      "application/vnd.jupyter.widget-view+json": {
       "model_id": "314abda73be34486af735a12a0e49e2d"
      }
     },
     "metadata": {},
     "output_type": "display_data"
    },
    {
     "data": {
      "application/vnd.jupyter.widget-view+json": {
       "model_id": "695560b700ed4ad69a0a092fe393a678"
      }
     },
     "metadata": {},
     "output_type": "display_data"
    },
    {
     "name": "stdout",
     "output_type": "stream",
     "text": [
      "1300 2015 0 {'page_url': 'ftp://ftp.sec.gov/edgar/data/92230/000009223016000125/f10k2015.htm', 'local_name': None, 'blob_id': '342086_section130', 'accession_id': 152398, 'received_date': '2016-02-25', 'description': 'Bb&T Corp (BBT)', 'fiscal_year': 2015, 'entity_id': 6925, 'sec_filing_id': 342086, 'fiscal_period': 'Y', 'fact_id': 0, 'is_detail': False, 'network_id': 0, 'filing_date': '2016-02-25', 'footnote_type_title': 'Additional 10-K and 10-Q Sections', 'ticker': 'BBT', 'guide_link': None, 'footnote_type': 1300, 'entity_name': 'Bb&T Corp', 'document_type': '10-K', 'SEC_URL': 'http://www.sec.gov/Archives/edgar/data/92230/000009223016000125/0000092230-16-000125-index.htm'}\n"
     ]
    },
    {
     "data": {
      "application/vnd.jupyter.widget-view+json": {
       "model_id": "1a612967561242a583113e8b9425b92a"
      }
     },
     "metadata": {},
     "output_type": "display_data"
    },
    {
     "data": {
      "application/vnd.jupyter.widget-view+json": {
       "model_id": "1c4e2fc971894d8da5ef7e5027fa1131"
      }
     },
     "metadata": {},
     "output_type": "display_data"
    },
    {
     "data": {
      "application/vnd.jupyter.widget-view+json": {
       "model_id": "4123a0da0d4e4cabb670a0b98713eeee"
      }
     },
     "metadata": {},
     "output_type": "display_data"
    },
    {
     "data": {
      "application/vnd.jupyter.widget-view+json": {
       "model_id": "0f73153cd187464c962d864344c47e52"
      }
     },
     "metadata": {},
     "output_type": "display_data"
    },
    {
     "name": "stdout",
     "output_type": "stream",
     "text": [
      "1300 2016 0 {'page_url': 'ftp://ftp.sec.gov/edgar/data/92230/000009223017000021/form10-kx2016.htm', 'local_name': None, 'blob_id': '646472_section130', 'accession_id': 179334, 'received_date': '2017-02-21', 'description': 'Bb&T Corp (BBT)', 'fiscal_year': 2016, 'entity_id': 6925, 'sec_filing_id': 646472, 'fiscal_period': 'Y', 'fact_id': 0, 'is_detail': False, 'network_id': 0, 'filing_date': '2017-02-21', 'footnote_type_title': 'Additional 10-K and 10-Q Sections', 'ticker': 'BBT', 'guide_link': None, 'footnote_type': 1300, 'entity_name': 'Bb&T Corp', 'document_type': '10-K', 'SEC_URL': 'http://www.sec.gov/Archives/edgar/data/92230/000009223017000021/0000092230-17-000021-index.htm'}\n"
     ]
    },
    {
     "data": {
      "application/vnd.jupyter.widget-view+json": {
       "model_id": "507e71fa0a174feeac7202906491504a"
      }
     },
     "metadata": {},
     "output_type": "display_data"
    },
    {
     "data": {
      "application/vnd.jupyter.widget-view+json": {
       "model_id": "3cddee7bd57b423d9f6ae51224a7f44e"
      }
     },
     "metadata": {},
     "output_type": "display_data"
    },
    {
     "name": "stdout",
     "output_type": "stream",
     "text": [
      "1300 2016 2 {'page_url': 'ftp://ftp.sec.gov/edgar/data/1472595/000147259516000220/june302016-form10q.htm', 'local_name': None, 'blob_id': '607039_section130', 'accession_id': 165832, 'received_date': '2016-08-04', 'description': 'R1 Rcm Inc. (ACHI)', 'fiscal_year': 2016, 'entity_id': 4024, 'sec_filing_id': 607039, 'fiscal_period': '2Q', 'fact_id': 0, 'is_detail': False, 'network_id': 0, 'filing_date': '2016-08-04', 'footnote_type_title': 'Additional 10-K and 10-Q Sections', 'ticker': 'ACHI', 'guide_link': None, 'footnote_type': 1300, 'entity_name': 'R1 Rcm Inc.', 'document_type': '10-Q', 'SEC_URL': 'http://www.sec.gov/Archives/edgar/data/1472595/000147259516000220/0001472595-16-000220-index.htm'}\n",
      "1300 2016 2 {'page_url': 'ftp://ftp.sec.gov/edgar/data/7789/000000778916000069/asb0630201610q.htm', 'local_name': None, 'blob_id': '603524_section130', 'accession_id': 164658, 'received_date': '2016-07-28', 'description': 'Associated Banc-Corp (ASB)', 'fiscal_year': 2016, 'entity_id': 5663, 'sec_filing_id': 603524, 'fiscal_period': '2Q', 'fact_id': 0, 'is_detail': False, 'network_id': 0, 'filing_date': '2016-07-28', 'footnote_type_title': 'Additional 10-K and 10-Q Sections', 'ticker': 'ASB', 'guide_link': None, 'footnote_type': 1300, 'entity_name': 'Associated Banc-Corp', 'document_type': '10-Q', 'SEC_URL': 'http://www.sec.gov/Archives/edgar/data/7789/000000778916000069/0000007789-16-000069-index.htm'}\n",
      "1300 2016 2 {'page_url': 'ftp://ftp.sec.gov/edgar/data/702513/000143774916036550/boch20160630_10q.htm', 'local_name': None, 'blob_id': '608096_section130', 'accession_id': 166230, 'received_date': '2016-08-05', 'description': 'Bank of Commerce Holdings (BOCH)', 'fiscal_year': 2016, 'entity_id': 5180, 'sec_filing_id': 608096, 'fiscal_period': '2Q', 'fact_id': 0, 'is_detail': False, 'network_id': 0, 'filing_date': '2016-08-05', 'footnote_type_title': 'Additional 10-K and 10-Q Sections', 'ticker': 'BOCH', 'guide_link': None, 'footnote_type': 1300, 'entity_name': 'Bank of Commerce Holdings', 'document_type': '10-Q', 'SEC_URL': 'http://www.sec.gov/Archives/edgar/data/702513/000143774916036550/0001437749-16-036550-index.htm'}\n",
      "1300 2016 2 {'page_url': 'ftp://ftp.sec.gov/edgar/data/902791/000119312516676902/d221905d10q.htm', 'local_name': None, 'blob_id': '610294_section130', 'accession_id': 167588, 'received_date': '2016-08-09', 'description': 'Barrett Business Services Inc (BBSI)', 'fiscal_year': 2016, 'entity_id': 6690, 'sec_filing_id': 610294, 'fiscal_period': '2Q', 'fact_id': 0, 'is_detail': False, 'network_id': 0, 'filing_date': '2016-08-09', 'footnote_type_title': 'Additional 10-K and 10-Q Sections', 'ticker': 'BBSI', 'guide_link': None, 'footnote_type': 1300, 'entity_name': 'Barrett Business Services Inc', 'document_type': '10-Q', 'SEC_URL': 'http://www.sec.gov/Archives/edgar/data/902791/000119312516676902/0001193125-16-676902-index.htm'}\n",
      "1300 2016 2 {'page_url': 'ftp://ftp.sec.gov/edgar/data/1075706/000119312516676113/d215574d10q.htm', 'local_name': None, 'blob_id': '609654_section130', 'accession_id': 167121, 'received_date': '2016-08-09', 'description': 'Citizens Holding Co /MS/ (CIZN)', 'fiscal_year': 2016, 'entity_id': 839, 'sec_filing_id': 609654, 'fiscal_period': '2Q', 'fact_id': 0, 'is_detail': False, 'network_id': 0, 'filing_date': '2016-08-09', 'footnote_type_title': 'Additional 10-K and 10-Q Sections', 'ticker': 'CIZN', 'guide_link': None, 'footnote_type': 1300, 'entity_name': 'Citizens Holding Co /MS/', 'document_type': '10-Q', 'SEC_URL': 'http://www.sec.gov/Archives/edgar/data/1075706/000119312516676113/0001193125-16-676113-index.htm'}\n",
      "1300 2016 2 {'page_url': 'ftp://ftp.sec.gov/edgar/data/718413/000165495416001436/a10qjune2016.htm', 'local_name': None, 'blob_id': '611264_section130', 'accession_id': 168096, 'received_date': '2016-08-11', 'description': 'Community Bancorp /VT (CMTV)', 'fiscal_year': 2016, 'entity_id': 5298, 'sec_filing_id': 611264, 'fiscal_period': '2Q', 'fact_id': 0, 'is_detail': False, 'network_id': 0, 'filing_date': '2016-08-11', 'footnote_type_title': 'Additional 10-K and 10-Q Sections', 'ticker': 'CMTV', 'guide_link': None, 'footnote_type': 1300, 'entity_name': 'Community Bancorp /VT', 'document_type': '10-Q', 'SEC_URL': 'http://www.sec.gov/Archives/edgar/data/718413/000165495416001436/0001654954-16-001436-index.htm'}\n",
      "1300 2016 2 {'page_url': 'ftp://ftp.sec.gov/edgar/data/1490873/000159406216000609/form10q.htm', 'local_name': None, 'blob_id': '617809_section130', 'accession_id': 170374, 'received_date': '2016-09-19', 'description': 'Eco Science Solutions, Inc. (ESSI)', 'fiscal_year': 2017, 'entity_id': 4216, 'sec_filing_id': 617809, 'fiscal_period': '2Q', 'fact_id': 0, 'is_detail': False, 'network_id': 0, 'filing_date': '2016-09-19', 'footnote_type_title': 'Additional 10-K and 10-Q Sections', 'ticker': 'ESSI', 'guide_link': None, 'footnote_type': 1300, 'entity_name': 'Eco Science Solutions, Inc.', 'document_type': '10-Q', 'SEC_URL': 'http://www.sec.gov/Archives/edgar/data/1490873/000159406216000609/0001594062-16-000609-index.htm'}\n",
      "1300 2016 2 {'page_url': 'ftp://ftp.sec.gov/edgar/data/1329842/000110465916138987/a16-11511_110q.htm', 'local_name': None, 'blob_id': '611199_section130', 'accession_id': 168044, 'received_date': '2016-08-11', 'description': 'Federal Home Loan Bank of New York (FHLBNY)', 'fiscal_year': 2016, 'entity_id': 2496, 'sec_filing_id': 611199, 'fiscal_period': '2Q', 'fact_id': 0, 'is_detail': False, 'network_id': 0, 'filing_date': '2016-08-11', 'footnote_type_title': 'Additional 10-K and 10-Q Sections', 'ticker': 'FHLBNY', 'guide_link': None, 'footnote_type': 1300, 'entity_name': 'Federal Home Loan Bank of New York', 'document_type': '10-Q', 'SEC_URL': 'http://www.sec.gov/Archives/edgar/data/1329842/000110465916138987/0001104659-16-138987-index.htm'}\n",
      "1300 2016 2 {'page_url': 'ftp://ftp.sec.gov/edgar/data/36029/000119312516661536/d209433d10q.htm', 'local_name': None, 'blob_id': '603017_section130', 'accession_id': 164499, 'received_date': '2016-07-28', 'description': 'First Financial Bankshares Inc (FFIN)', 'fiscal_year': 2016, 'entity_id': 4912, 'sec_filing_id': 603017, 'fiscal_period': '2Q', 'fact_id': 0, 'is_detail': False, 'network_id': 0, 'filing_date': '2016-07-28', 'footnote_type_title': 'Additional 10-K and 10-Q Sections', 'ticker': 'FFIN', 'guide_link': None, 'footnote_type': 1300, 'entity_name': 'First Financial Bankshares Inc', 'document_type': '10-Q', 'SEC_URL': 'http://www.sec.gov/Archives/edgar/data/36029/000119312516661536/0001193125-16-661536-index.htm'}\n",
      "1300 2016 2 {'page_url': 'ftp://ftp.sec.gov/edgar/data/1114927/000114036116074649/form10q.htm', 'local_name': None, 'blob_id': '606008_section130', 'accession_id': 165555, 'received_date': '2016-08-03', 'description': 'First Northern Community Bancorp (FNRN)', 'fiscal_year': 2016, 'entity_id': 1316, 'sec_filing_id': 606008, 'fiscal_period': '2Q', 'fact_id': 0, 'is_detail': False, 'network_id': 0, 'filing_date': '2016-08-03', 'footnote_type_title': 'Additional 10-K and 10-Q Sections', 'ticker': 'FNRN', 'guide_link': None, 'footnote_type': 1300, 'entity_name': 'First Northern Community Bancorp', 'document_type': '10-Q', 'SEC_URL': 'http://www.sec.gov/Archives/edgar/data/1114927/000114036116074649/0001140361-16-074649-index.htm'}\n",
      "1300 2016 2 {'page_url': 'ftp://ftp.sec.gov/edgar/data/1128361/000112836116000097/hope-6301610q.htm', 'local_name': None, 'blob_id': '609490_section130', 'accession_id': 167055, 'received_date': '2016-08-08', 'description': 'Hope Bancorp Inc (BBCN)', 'fiscal_year': 2016, 'entity_id': 1425, 'sec_filing_id': 609490, 'fiscal_period': '2Q', 'fact_id': 0, 'is_detail': False, 'network_id': 0, 'filing_date': '2016-08-08', 'footnote_type_title': 'Additional 10-K and 10-Q Sections', 'ticker': 'BBCN', 'guide_link': None, 'footnote_type': 1300, 'entity_name': 'Hope Bancorp Inc', 'document_type': '10-Q', 'SEC_URL': 'http://www.sec.gov/Archives/edgar/data/1128361/000112836116000097/0001128361-16-000097-index.htm'}\n"
     ]
    },
    {
     "name": "stdout",
     "output_type": "stream",
     "text": [
      "1300 2016 2 {'page_url': 'ftp://ftp.sec.gov/edgar/data/315374/000114420416122905/v447426_10q.htm', 'local_name': None, 'blob_id': '616164_section130', 'accession_id': 169998, 'received_date': '2016-09-06', 'description': 'Hurco Companies Inc (HURC)', 'fiscal_year': 2016, 'entity_id': 4749, 'sec_filing_id': 616164, 'fiscal_period': '3Q', 'fact_id': 0, 'is_detail': False, 'network_id': 0, 'filing_date': '2016-09-06', 'footnote_type_title': 'Additional 10-K and 10-Q Sections', 'ticker': 'HURC', 'guide_link': None, 'footnote_type': 1300, 'entity_name': 'Hurco Companies Inc', 'document_type': '10-Q', 'SEC_URL': 'http://www.sec.gov/Archives/edgar/data/315374/000114420416122905/0001144204-16-122905-index.htm'}\n",
      "1300 2016 2 {'page_url': 'ftp://ftp.sec.gov/edgar/data/1495231/000149523116000133/izea16063010q.htm', 'local_name': None, 'blob_id': '611149_section130', 'accession_id': 168015, 'received_date': '2016-08-11', 'description': 'IZEA, Inc. (IZEA)', 'fiscal_year': 2016, 'entity_id': 4269, 'sec_filing_id': 611149, 'fiscal_period': '2Q', 'fact_id': 0, 'is_detail': False, 'network_id': 0, 'filing_date': '2016-08-11', 'footnote_type_title': 'Additional 10-K and 10-Q Sections', 'ticker': 'IZEA', 'guide_link': None, 'footnote_type': 1300, 'entity_name': 'IZEA, Inc.', 'document_type': '10-Q', 'SEC_URL': 'http://www.sec.gov/Archives/edgar/data/1495231/000149523116000133/0001495231-16-000133-index.htm'}\n",
      "1300 2016 2 {'page_url': 'ftp://ftp.sec.gov/edgar/data/19617/000001961716001056/corpq22016.htm', 'local_name': None, 'blob_id': '605838_section130', 'accession_id': 165459, 'received_date': '2016-08-03', 'description': 'Jpmorgan Chase & Co (JPM)', 'fiscal_year': 2016, 'entity_id': 4560, 'sec_filing_id': 605838, 'fiscal_period': '2Q', 'fact_id': 0, 'is_detail': False, 'network_id': 0, 'filing_date': '2016-08-03', 'footnote_type_title': 'Additional 10-K and 10-Q Sections', 'ticker': 'JPM', 'guide_link': None, 'footnote_type': 1300, 'entity_name': 'Jpmorgan Chase & Co', 'document_type': '10-Q', 'SEC_URL': 'http://www.sec.gov/Archives/edgar/data/19617/000001961716001056/0000019617-16-001056-index.htm'}\n",
      "1300 2016 2 {'page_url': 'ftp://ftp.sec.gov/edgar/data/1356564/000144586616002517/leom10q08152016.htm', 'local_name': None, 'blob_id': '612820_section130', 'accession_id': 169161, 'received_date': '2016-08-15', 'description': 'Leo Motors, Inc. (LEOM)', 'fiscal_year': 2016, 'entity_id': 2733, 'sec_filing_id': 612820, 'fiscal_period': '2Q', 'fact_id': 0, 'is_detail': False, 'network_id': 0, 'filing_date': '2016-08-15', 'footnote_type_title': 'Additional 10-K and 10-Q Sections', 'ticker': 'LEOM', 'guide_link': None, 'footnote_type': 1300, 'entity_name': 'Leo Motors, Inc.', 'document_type': '10-Q', 'SEC_URL': 'http://www.sec.gov/Archives/edgar/data/1356564/000144586616002517/0001445866-16-002517-index.htm'}\n",
      "1300 2016 2 {'page_url': 'ftp://ftp.sec.gov/edgar/data/36506/000155837016007997/mfnc-20160630x10q.htm', 'local_name': None, 'blob_id': '612403_section130', 'accession_id': 168819, 'received_date': '2016-08-15', 'description': 'Mackinac Financial Corp /MI/ (MFNC)', 'fiscal_year': 2016, 'entity_id': 4917, 'sec_filing_id': 612403, 'fiscal_period': '2Q', 'fact_id': 0, 'is_detail': False, 'network_id': 0, 'filing_date': '2016-08-15', 'footnote_type_title': 'Additional 10-K and 10-Q Sections', 'ticker': 'MFNC', 'guide_link': None, 'footnote_type': 1300, 'entity_name': 'Mackinac Financial Corp /MI/', 'document_type': '10-Q', 'SEC_URL': 'http://www.sec.gov/Archives/edgar/data/36506/000155837016007997/0001558370-16-007997-index.htm'}\n",
      "1300 2016 2 {'page_url': 'ftp://ftp.sec.gov/edgar/data/1139812/000113981216000088/a06301610q.htm', 'local_name': None, 'blob_id': '608521_section130', 'accession_id': 166532, 'received_date': '2016-08-05', 'description': 'Mb Financial Inc /MD (MBFI)', 'fiscal_year': 2016, 'entity_id': 1523, 'sec_filing_id': 608521, 'fiscal_period': '2Q', 'fact_id': 0, 'is_detail': False, 'network_id': 0, 'filing_date': '2016-08-05', 'footnote_type_title': 'Additional 10-K and 10-Q Sections', 'ticker': 'MBFI', 'guide_link': None, 'footnote_type': 1300, 'entity_name': 'Mb Financial Inc /MD', 'document_type': '10-Q', 'SEC_URL': 'http://www.sec.gov/Archives/edgar/data/1139812/000113981216000088/0001139812-16-000088-index.htm'}\n",
      "1300 2016 2 {'page_url': 'ftp://ftp.sec.gov/edgar/data/1600125/000119312516675086/d213545d10q.htm', 'local_name': None, 'blob_id': '609048_section130', 'accession_id': 166814, 'received_date': '2016-08-08', 'description': 'Meridian Bancorp, Inc. (EBSB)', 'fiscal_year': 2016, 'entity_id': 3405, 'sec_filing_id': 609048, 'fiscal_period': '2Q', 'fact_id': 0, 'is_detail': False, 'network_id': 0, 'filing_date': '2016-08-08', 'footnote_type_title': 'Additional 10-K and 10-Q Sections', 'ticker': 'EBSB', 'guide_link': None, 'footnote_type': 1300, 'entity_name': 'Meridian Bancorp, Inc.', 'document_type': '10-Q', 'SEC_URL': 'http://www.sec.gov/Archives/edgar/data/1600125/000119312516675086/0001193125-16-675086-index.htm'}\n",
      "1300 2016 2 {'page_url': 'ftp://ftp.sec.gov/edgar/data/1578735/000157873516000141/nghc20162q10-q.htm', 'local_name': None, 'blob_id': '608334_section130', 'accession_id': 166368, 'received_date': '2016-08-05', 'description': 'National General Holdings Corp. (NGHC)', 'fiscal_year': 2016, 'entity_id': 9952, 'sec_filing_id': 608334, 'fiscal_period': '2Q', 'fact_id': 0, 'is_detail': False, 'network_id': 0, 'filing_date': '2016-08-05', 'footnote_type_title': 'Additional 10-K and 10-Q Sections', 'ticker': 'NGHC', 'guide_link': None, 'footnote_type': 1300, 'entity_name': 'National General Holdings Corp.', 'document_type': '10-Q', 'SEC_URL': 'http://www.sec.gov/Archives/edgar/data/1578735/000157873516000141/0001578735-16-000141-index.htm'}\n",
      "1300 2016 2 {'page_url': 'ftp://ftp.sec.gov/edgar/data/1504461/000150446116000034/ngl-6302016x10q.htm', 'local_name': None, 'blob_id': '610259_section130', 'accession_id': 167431, 'received_date': '2016-08-09', 'description': 'NGL Energy Partners LP (NGL)', 'fiscal_year': 2017, 'entity_id': 4385, 'sec_filing_id': 610259, 'fiscal_period': '1Q', 'fact_id': 0, 'is_detail': False, 'network_id': 0, 'filing_date': '2016-08-09', 'footnote_type_title': 'Additional 10-K and 10-Q Sections', 'ticker': 'NGL', 'guide_link': None, 'footnote_type': 1300, 'entity_name': 'NGL Energy Partners LP', 'document_type': '10-Q', 'SEC_URL': 'http://www.sec.gov/Archives/edgar/data/1504461/000150446116000034/0001504461-16-000034-index.htm'}\n",
      "1300 2016 2 {'page_url': 'ftp://ftp.sec.gov/edgar/data/1097792/000121390016016316/f10q0616_omintoinc.htm', 'local_name': None, 'blob_id': '614161_section130', 'accession_id': 169493, 'received_date': '2016-08-22', 'description': 'Ominto, Inc. (OMNT)', 'fiscal_year': 2016, 'entity_id': 1131, 'sec_filing_id': 614161, 'fiscal_period': '3Q', 'fact_id': 0, 'is_detail': False, 'network_id': 0, 'filing_date': '2016-08-22', 'footnote_type_title': 'Additional 10-K and 10-Q Sections', 'ticker': 'OMNT', 'guide_link': None, 'footnote_type': 1300, 'entity_name': 'Ominto, Inc.', 'document_type': '10-Q', 'SEC_URL': 'http://www.sec.gov/Archives/edgar/data/1097792/000121390016016316/0001213900-16-016316-index.htm'}\n",
      "1300 2016 2 {'page_url': 'ftp://ftp.sec.gov/edgar/data/1321070/000143774916037388/ottw20160630_10q.htm', 'local_name': None, 'blob_id': '612167_section130', 'accession_id': 168626, 'received_date': '2016-08-15', 'description': 'Ottawa Bancorp Inc (OTTW)', 'fiscal_year': 2016, 'entity_id': 2404, 'sec_filing_id': 612167, 'fiscal_period': '2Q', 'fact_id': 0, 'is_detail': False, 'network_id': 0, 'filing_date': '2016-08-15', 'footnote_type_title': 'Additional 10-K and 10-Q Sections', 'ticker': 'OTTW', 'guide_link': None, 'footnote_type': 1300, 'entity_name': 'Ottawa Bancorp Inc', 'document_type': '10-Q', 'SEC_URL': 'http://www.sec.gov/Archives/edgar/data/1321070/000143774916037388/0001437749-16-037388-index.htm'}\n"
     ]
    },
    {
     "name": "stdout",
     "output_type": "stream",
     "text": [
      "1300 2016 2 {'page_url': 'ftp://ftp.sec.gov/edgar/data/1378946/000119312516676617/d221059d10q.htm', 'local_name': None, 'blob_id': '609839_section130', 'accession_id': 167272, 'received_date': '2016-08-09', 'description': \"People's United Financial, Inc. (PBCT)\", 'fiscal_year': 2016, 'entity_id': 2996, 'sec_filing_id': 609839, 'fiscal_period': '2Q', 'fact_id': 0, 'is_detail': False, 'network_id': 0, 'filing_date': '2016-08-09', 'footnote_type_title': 'Additional 10-K and 10-Q Sections', 'ticker': 'PBCT', 'guide_link': None, 'footnote_type': 1300, 'entity_name': \"People's United Financial, Inc.\", 'document_type': '10-Q', 'SEC_URL': 'http://www.sec.gov/Archives/edgar/data/1378946/000119312516676617/0001193125-16-676617-index.htm'}\n",
      "1300 2016 2 {'page_url': 'ftp://ftp.sec.gov/edgar/data/77776/000007777616000013/phh2016063010-q.htm', 'local_name': None, 'blob_id': '609731_section130', 'accession_id': 167178, 'received_date': '2016-08-09', 'description': 'Phh Corp (PHH)', 'fiscal_year': 2016, 'entity_id': 5657, 'sec_filing_id': 609731, 'fiscal_period': '2Q', 'fact_id': 0, 'is_detail': False, 'network_id': 0, 'filing_date': '2016-08-09', 'footnote_type_title': 'Additional 10-K and 10-Q Sections', 'ticker': 'PHH', 'guide_link': None, 'footnote_type': 1300, 'entity_name': 'Phh Corp', 'document_type': '10-Q', 'SEC_URL': 'http://www.sec.gov/Archives/edgar/data/77776/000007777616000013/0000077776-16-000013-index.htm'}\n",
      "1300 2016 2 {'page_url': 'ftp://ftp.sec.gov/edgar/data/720005/000072000516000144/a2016063010qrjf.htm', 'local_name': None, 'blob_id': '609294_section130', 'accession_id': 166969, 'received_date': '2016-08-08', 'description': 'Raymond James Financial Inc (RJF)', 'fiscal_year': 2016, 'entity_id': 5321, 'sec_filing_id': 609294, 'fiscal_period': '3Q', 'fact_id': 0, 'is_detail': False, 'network_id': 0, 'filing_date': '2016-08-08', 'footnote_type_title': 'Additional 10-K and 10-Q Sections', 'ticker': 'RJF', 'guide_link': None, 'footnote_type': 1300, 'entity_name': 'Raymond James Financial Inc', 'document_type': '10-Q', 'SEC_URL': 'http://www.sec.gov/Archives/edgar/data/720005/000072000516000144/0000720005-16-000144-index.htm'}\n",
      "1300 2016 2 {'page_url': 'ftp://ftp.sec.gov/edgar/data/316709/000031670916000093/schw-20160630x10q.htm', 'local_name': None, 'blob_id': '608451_section130', 'accession_id': 166468, 'received_date': '2016-08-05', 'description': 'Schwab Charles Corp (SCHW)', 'fiscal_year': 2016, 'entity_id': 4760, 'sec_filing_id': 608451, 'fiscal_period': '2Q', 'fact_id': 0, 'is_detail': False, 'network_id': 0, 'filing_date': '2016-08-05', 'footnote_type_title': 'Additional 10-K and 10-Q Sections', 'ticker': 'SCHW', 'guide_link': None, 'footnote_type': 1300, 'entity_name': 'Schwab Charles Corp', 'document_type': '10-Q', 'SEC_URL': 'http://www.sec.gov/Archives/edgar/data/316709/000031670916000093/0000316709-16-000093-index.htm'}\n",
      "1300 2016 2 {'page_url': 'ftp://ftp.sec.gov/edgar/data/818677/000093905716000960/sfdl-20160630x10q.htm', 'local_name': None, 'blob_id': '611553_section130', 'accession_id': 168234, 'received_date': '2016-08-12', 'description': 'Security Federal Corp (SFDL)', 'fiscal_year': 2016, 'entity_id': 5951, 'sec_filing_id': 611553, 'fiscal_period': '2Q', 'fact_id': 0, 'is_detail': False, 'network_id': 0, 'filing_date': '2016-08-12', 'footnote_type_title': 'Additional 10-K and 10-Q Sections', 'ticker': 'SFDL', 'guide_link': None, 'footnote_type': 1300, 'entity_name': 'Security Federal Corp', 'document_type': '10-Q', 'SEC_URL': 'http://www.sec.gov/Archives/edgar/data/818677/000093905716000960/0000939057-16-000960-index.htm'}\n",
      "1300 2016 2 {'page_url': 'ftp://ftp.sec.gov/edgar/data/1500213/000150021316000072/sifi0630201610-q2.htm', 'local_name': None, 'blob_id': '608979_section130', 'accession_id': 166790, 'received_date': '2016-08-08', 'description': 'SI Financial Group, Inc. (SIFI)', 'fiscal_year': 2016, 'entity_id': 4343, 'sec_filing_id': 608979, 'fiscal_period': '2Q', 'fact_id': 0, 'is_detail': False, 'network_id': 0, 'filing_date': '2016-08-08', 'footnote_type_title': 'Additional 10-K and 10-Q Sections', 'ticker': 'SIFI', 'guide_link': None, 'footnote_type': 1300, 'entity_name': 'SI Financial Group, Inc.', 'document_type': '10-Q', 'SEC_URL': 'http://www.sec.gov/Archives/edgar/data/1500213/000150021316000072/0001500213-16-000072-index.htm'}\n",
      "1300 2016 2 {'page_url': 'ftp://ftp.sec.gov/edgar/data/880116/000157104916017331/t1600511_10qa.htm', 'local_name': None, 'blob_id': '610730_section130', 'accession_id': 167772, 'received_date': '2016-08-10', 'description': 'Southeastern Bank Financial CORP (SBFC)', 'fiscal_year': 2016, 'entity_id': 6416, 'sec_filing_id': 610730, 'fiscal_period': '2Q', 'fact_id': 0, 'is_detail': False, 'network_id': 0, 'filing_date': '2016-08-10', 'footnote_type_title': 'Additional 10-K and 10-Q Sections', 'ticker': 'SBFC', 'guide_link': None, 'footnote_type': 1300, 'entity_name': 'Southeastern Bank Financial CORP', 'document_type': '10-Q/A', 'SEC_URL': 'http://www.sec.gov/Archives/edgar/data/880116/000157104916017331/0001571049-16-017331-index.htm'}\n",
      "1300 2016 2 {'page_url': 'ftp://ftp.sec.gov/edgar/data/880116/000157104916016939/t1600454_10q.htm', 'local_name': None, 'blob_id': '604232_section130', 'accession_id': 164906, 'received_date': '2016-07-29', 'description': 'Southeastern Bank Financial CORP (SBFC)', 'fiscal_year': 2016, 'entity_id': 6416, 'sec_filing_id': 604232, 'fiscal_period': '2Q', 'fact_id': 0, 'is_detail': False, 'network_id': 0, 'filing_date': '2016-07-29', 'footnote_type_title': 'Additional 10-K and 10-Q Sections', 'ticker': 'SBFC', 'guide_link': None, 'footnote_type': 1300, 'entity_name': 'Southeastern Bank Financial CORP', 'document_type': '10-Q', 'SEC_URL': 'http://www.sec.gov/Archives/edgar/data/880116/000157104916016939/0001571049-16-016939-index.htm'}\n",
      "1300 2016 2 {'page_url': 'ftp://ftp.sec.gov/edgar/data/1325670/000157104916017203/t1600497_10q.htm', 'local_name': None, 'blob_id': '608829_section130', 'accession_id': 166671, 'received_date': '2016-08-08', 'description': 'Southern National Bancorp of Virginia Inc (SONA)', 'fiscal_year': 2016, 'entity_id': 2446, 'sec_filing_id': 608829, 'fiscal_period': '2Q', 'fact_id': 0, 'is_detail': False, 'network_id': 0, 'filing_date': '2016-08-08', 'footnote_type_title': 'Additional 10-K and 10-Q Sections', 'ticker': 'SONA', 'guide_link': None, 'footnote_type': 1300, 'entity_name': 'Southern National Bancorp of Virginia Inc', 'document_type': '10-Q', 'SEC_URL': 'http://www.sec.gov/Archives/edgar/data/1325670/000157104916017203/0001571049-16-017203-index.htm'}\n",
      "1300 2016 2 {'page_url': 'ftp://ftp.sec.gov/edgar/data/706863/000070686316000112/a63016unb10-q.htm', 'local_name': None, 'blob_id': '609825_section130', 'accession_id': 167260, 'received_date': '2016-08-09', 'description': 'Union Bankshares Inc (UNB)', 'fiscal_year': 2016, 'entity_id': 5209, 'sec_filing_id': 609825, 'fiscal_period': '2Q', 'fact_id': 0, 'is_detail': False, 'network_id': 0, 'filing_date': '2016-08-09', 'footnote_type_title': 'Additional 10-K and 10-Q Sections', 'ticker': 'UNB', 'guide_link': None, 'footnote_type': 1300, 'entity_name': 'Union Bankshares Inc', 'document_type': '10-Q', 'SEC_URL': 'http://www.sec.gov/Archives/edgar/data/706863/000070686316000112/0000706863-16-000112-index.htm'}\n",
      "1300 2016 2 {'page_url': 'ftp://ftp.sec.gov/edgar/data/1137547/000162828016018498/ubfo-20160630xq2.htm', 'local_name': None, 'blob_id': '607016_section130', 'accession_id': 165809, 'received_date': '2016-08-04', 'description': 'United Security Bancshares (UBFO)', 'fiscal_year': 2016, 'entity_id': 1503, 'sec_filing_id': 607016, 'fiscal_period': '2Q', 'fact_id': 0, 'is_detail': False, 'network_id': 0, 'filing_date': '2016-08-04', 'footnote_type_title': 'Additional 10-K and 10-Q Sections', 'ticker': 'UBFO', 'guide_link': None, 'footnote_type': 1300, 'entity_name': 'United Security Bancshares', 'document_type': '10-Q', 'SEC_URL': 'http://www.sec.gov/Archives/edgar/data/1137547/000162828016018498/0001628280-16-018498-index.htm'}\n"
     ]
    },
    {
     "name": "stdout",
     "output_type": "stream",
     "text": [
      "1300 2016 2 {'page_url': 'ftp://ftp.sec.gov/edgar/data/1052100/000155837016006946/wdr-20160630x10q.htm', 'local_name': None, 'blob_id': '603911_section130', 'accession_id': 164753, 'received_date': '2016-07-29', 'description': 'Waddell & Reed Financial Inc (WDR)', 'fiscal_year': 2016, 'entity_id': 585, 'sec_filing_id': 603911, 'fiscal_period': '2Q', 'fact_id': 0, 'is_detail': False, 'network_id': 0, 'filing_date': '2016-07-29', 'footnote_type_title': 'Additional 10-K and 10-Q Sections', 'ticker': 'WDR', 'guide_link': None, 'footnote_type': 1300, 'entity_name': 'Waddell & Reed Financial Inc', 'document_type': '10-Q', 'SEC_URL': 'http://www.sec.gov/Archives/edgar/data/1052100/000155837016006946/0001558370-16-006946-index.htm'}\n",
      "1300 2016 2 {'page_url': 'ftp://ftp.sec.gov/edgar/data/801337/000080133716000223/wbs-06302016x10q.htm', 'local_name': None, 'blob_id': '609849_section130', 'accession_id': 167282, 'received_date': '2016-08-09', 'description': 'Webster Financial Corp (WBS)', 'fiscal_year': 2016, 'entity_id': 5820, 'sec_filing_id': 609849, 'fiscal_period': '2Q', 'fact_id': 0, 'is_detail': False, 'network_id': 0, 'filing_date': '2016-08-09', 'footnote_type_title': 'Additional 10-K and 10-Q Sections', 'ticker': 'WBS', 'guide_link': None, 'footnote_type': 1300, 'entity_name': 'Webster Financial Corp', 'document_type': '10-Q', 'SEC_URL': 'http://www.sec.gov/Archives/edgar/data/801337/000080133716000223/0000801337-16-000223-index.htm'}\n",
      "1300 2016 2 {'page_url': 'ftp://ftp.sec.gov/edgar/data/1309108/000130910816000254/wex6_30x201610-q.htm', 'local_name': None, 'blob_id': '609847_section130', 'accession_id': 167280, 'received_date': '2016-08-09', 'description': 'WEX Inc. (WEX)', 'fiscal_year': 2016, 'entity_id': 2311, 'sec_filing_id': 609847, 'fiscal_period': '2Q', 'fact_id': 0, 'is_detail': False, 'network_id': 0, 'filing_date': '2016-08-09', 'footnote_type_title': 'Additional 10-K and 10-Q Sections', 'ticker': 'WEX', 'guide_link': None, 'footnote_type': 1300, 'entity_name': 'WEX Inc.', 'document_type': '10-Q', 'SEC_URL': 'http://www.sec.gov/Archives/edgar/data/1309108/000130910816000254/0001309108-16-000254-index.htm'}\n"
     ]
    },
    {
     "data": {
      "application/vnd.jupyter.widget-view+json": {
       "model_id": "7fafa177a63243baa92dc1ef15cef9b9"
      }
     },
     "metadata": {},
     "output_type": "display_data"
    },
    {
     "data": {
      "application/vnd.jupyter.widget-view+json": {
       "model_id": "bdc7feaa1ee740c39c1c1748f0ca1272"
      }
     },
     "metadata": {},
     "output_type": "display_data"
    },
    {
     "data": {
      "application/vnd.jupyter.widget-view+json": {
       "model_id": "2ecca28bdd2d49bdac2288c45cf08b9c"
      }
     },
     "metadata": {},
     "output_type": "display_data"
    },
    {
     "name": "stdout",
     "output_type": "stream",
     "text": [
      "1300 2017 1 {'page_url': 'ftp://ftp.sec.gov/edgar/data/1619739/000156459017011061/hesm-10q_20170331.htm', 'local_name': None, 'blob_id': '672079_section130', 'accession_id': 189393, 'received_date': '2017-05-15', 'description': 'Hess Midstream Partners LP (HESM)', 'fiscal_year': 2017, 'entity_id': 11873, 'sec_filing_id': 672079, 'fiscal_period': '1Q', 'fact_id': 0, 'is_detail': False, 'network_id': 0, 'filing_date': '2017-05-15', 'footnote_type_title': 'Additional 10-K and 10-Q Sections', 'ticker': 'HESM', 'guide_link': None, 'footnote_type': 1300, 'entity_name': 'Hess Midstream Partners LP', 'document_type': '10-Q', 'SEC_URL': 'http://www.sec.gov/Archives/edgar/data/1619739/000156459017011061/0001564590-17-011061-index.htm'}\n"
     ]
    },
    {
     "data": {
      "application/vnd.jupyter.widget-view+json": {
       "model_id": "eef5f0bf94b04bdba069a68e56465f9b"
      }
     },
     "metadata": {},
     "output_type": "display_data"
    },
    {
     "data": {
      "application/vnd.jupyter.widget-view+json": {
       "model_id": "9532a285c1b04c189c1f3a36c82c9c62"
      }
     },
     "metadata": {},
     "output_type": "display_data"
    },
    {
     "data": {
      "application/vnd.jupyter.widget-view+json": {
       "model_id": "956faec890e2462bb8f9822e68a8f9b6"
      }
     },
     "metadata": {},
     "output_type": "display_data"
    },
    {
     "data": {
      "application/vnd.jupyter.widget-view+json": {
       "model_id": "9f8adbc904e9422e85f02a27765b7818"
      }
     },
     "metadata": {},
     "output_type": "display_data"
    },
    {
     "data": {
      "application/vnd.jupyter.widget-view+json": {
       "model_id": "6d68586de57247e8ad5b874cf67f39e9"
      }
     },
     "metadata": {},
     "output_type": "display_data"
    },
    {
     "data": {
      "application/vnd.jupyter.widget-view+json": {
       "model_id": "39890d25360f4adc880304cc389f3bb2"
      }
     },
     "metadata": {},
     "output_type": "display_data"
    },
    {
     "data": {
      "application/vnd.jupyter.widget-view+json": {
       "model_id": "09a787dbc47d4d6ea840c6dde1566943"
      }
     },
     "metadata": {},
     "output_type": "display_data"
    },
    {
     "data": {
      "application/vnd.jupyter.widget-view+json": {
       "model_id": "bed93e1d458649528de8bdefdd23c121"
      }
     },
     "metadata": {},
     "output_type": "display_data"
    },
    {
     "data": {
      "application/vnd.jupyter.widget-view+json": {
       "model_id": "469acad0c2204ecba3eb0ff534567164"
      }
     },
     "metadata": {},
     "output_type": "display_data"
    },
    {
     "data": {
      "application/vnd.jupyter.widget-view+json": {
       "model_id": "8a30f42af90442f48c1b72d06a14905f"
      }
     },
     "metadata": {},
     "output_type": "display_data"
    },
    {
     "data": {
      "application/vnd.jupyter.widget-view+json": {
       "model_id": "7a440002d09f471ba59324fdc16a241a"
      }
     },
     "metadata": {},
     "output_type": "display_data"
    },
    {
     "data": {
      "application/vnd.jupyter.widget-view+json": {
       "model_id": "d729f0b04563482aa34499a0336f5858"
      }
     },
     "metadata": {},
     "output_type": "display_data"
    },
    {
     "data": {
      "application/vnd.jupyter.widget-view+json": {
       "model_id": "df252e6e09074a9fb95a1bcb1757face"
      }
     },
     "metadata": {},
     "output_type": "display_data"
    },
    {
     "data": {
      "application/vnd.jupyter.widget-view+json": {
       "model_id": "0cc39567bb9749b0acf07034da78a455"
      }
     },
     "metadata": {},
     "output_type": "display_data"
    },
    {
     "data": {
      "application/vnd.jupyter.widget-view+json": {
       "model_id": "e566626a593946cb973bd642057a0329"
      }
     },
     "metadata": {},
     "output_type": "display_data"
    },
    {
     "data": {
      "application/vnd.jupyter.widget-view+json": {
       "model_id": "47f6692c996b493f9d61815546a4825a"
      }
     },
     "metadata": {},
     "output_type": "display_data"
    },
    {
     "data": {
      "application/vnd.jupyter.widget-view+json": {
       "model_id": "38c47eb3fe944edf8e8c9000715ea514"
      }
     },
     "metadata": {},
     "output_type": "display_data"
    },
    {
     "data": {
      "application/vnd.jupyter.widget-view+json": {
       "model_id": "c918b5a1fd3e4cc3821a6825892e2c2b"
      }
     },
     "metadata": {},
     "output_type": "display_data"
    },
    {
     "data": {
      "application/vnd.jupyter.widget-view+json": {
       "model_id": "98d45c35c24a42b797a8dd8723e013d9"
      }
     },
     "metadata": {},
     "output_type": "display_data"
    },
    {
     "data": {
      "application/vnd.jupyter.widget-view+json": {
       "model_id": "4c766ba1b2bd451fb708367cb7f96f63"
      }
     },
     "metadata": {},
     "output_type": "display_data"
    },
    {
     "data": {
      "application/vnd.jupyter.widget-view+json": {
       "model_id": "69f6dfc62d404d29b62a0c4c0a38ed25"
      }
     },
     "metadata": {},
     "output_type": "display_data"
    },
    {
     "data": {
      "application/vnd.jupyter.widget-view+json": {
       "model_id": "13bc058a6f5847eba184a6baa548b215"
      }
     },
     "metadata": {},
     "output_type": "display_data"
    },
    {
     "data": {
      "application/vnd.jupyter.widget-view+json": {
       "model_id": "7157383b273c4a47bee41834c85b263b"
      }
     },
     "metadata": {},
     "output_type": "display_data"
    },
    {
     "data": {
      "application/vnd.jupyter.widget-view+json": {
       "model_id": "66ed6ec204c8477184e711f438d01d1c"
      }
     },
     "metadata": {},
     "output_type": "display_data"
    },
    {
     "data": {
      "application/vnd.jupyter.widget-view+json": {
       "model_id": "88d9096ce6754570b1cc809305c9d8ab"
      }
     },
     "metadata": {},
     "output_type": "display_data"
    },
    {
     "data": {
      "application/vnd.jupyter.widget-view+json": {
       "model_id": "4440fb1bc1e5421786099eb86f69a5f5"
      }
     },
     "metadata": {},
     "output_type": "display_data"
    },
    {
     "data": {
      "application/vnd.jupyter.widget-view+json": {
       "model_id": "68b7d456dce74245be80c535c8af0348"
      }
     },
     "metadata": {},
     "output_type": "display_data"
    },
    {
     "data": {
      "application/vnd.jupyter.widget-view+json": {
       "model_id": "c5d9c593aa984dbc9dabc78dd58d893a"
      }
     },
     "metadata": {},
     "output_type": "display_data"
    },
    {
     "data": {
      "application/vnd.jupyter.widget-view+json": {
       "model_id": "9545f307b2c5411e9f95bcb53566bd90"
      }
     },
     "metadata": {},
     "output_type": "display_data"
    },
    {
     "data": {
      "application/vnd.jupyter.widget-view+json": {
       "model_id": "5561c911c64d45199bde4a57f2072e6e"
      }
     },
     "metadata": {},
     "output_type": "display_data"
    },
    {
     "data": {
      "application/vnd.jupyter.widget-view+json": {
       "model_id": "faeb498aaa9249ba8d063660c2727175"
      }
     },
     "metadata": {},
     "output_type": "display_data"
    },
    {
     "data": {
      "application/vnd.jupyter.widget-view+json": {
       "model_id": "43db867428ea4040b5431fcf14fa0f8e"
      }
     },
     "metadata": {},
     "output_type": "display_data"
    },
    {
     "data": {
      "application/vnd.jupyter.widget-view+json": {
       "model_id": "29ecb3b0c77741efb322cd105eb7a493"
      }
     },
     "metadata": {},
     "output_type": "display_data"
    },
    {
     "data": {
      "application/vnd.jupyter.widget-view+json": {
       "model_id": "bb4f263b730c4d31bd6df923cbf8a2cf"
      }
     },
     "metadata": {},
     "output_type": "display_data"
    },
    {
     "data": {
      "application/vnd.jupyter.widget-view+json": {
       "model_id": "6d47df4d326c4049a5d1a0cf4d89a605"
      }
     },
     "metadata": {},
     "output_type": "display_data"
    },
    {
     "data": {
      "application/vnd.jupyter.widget-view+json": {
       "model_id": "02dd374b9d754a7090a9e25764d1c149"
      }
     },
     "metadata": {},
     "output_type": "display_data"
    },
    {
     "data": {
      "application/vnd.jupyter.widget-view+json": {
       "model_id": "f8ef61fae3c34df7857ae06b9e9f2d3e"
      }
     },
     "metadata": {},
     "output_type": "display_data"
    },
    {
     "data": {
      "application/vnd.jupyter.widget-view+json": {
       "model_id": "788001f37c05488d8d7c5a5cb2cbad7d"
      }
     },
     "metadata": {},
     "output_type": "display_data"
    },
    {
     "data": {
      "application/vnd.jupyter.widget-view+json": {
       "model_id": "bacfa89f13c6445ba2f3013acac60cdb"
      }
     },
     "metadata": {},
     "output_type": "display_data"
    },
    {
     "data": {
      "application/vnd.jupyter.widget-view+json": {
       "model_id": "883a66cbcb584675b1d573c89f5f3a1c"
      }
     },
     "metadata": {},
     "output_type": "display_data"
    },
    {
     "data": {
      "application/vnd.jupyter.widget-view+json": {
       "model_id": "ecaef63c551a447fa508d62bbc724ebd"
      }
     },
     "metadata": {},
     "output_type": "display_data"
    },
    {
     "name": "stdout",
     "output_type": "stream",
     "text": [
      "2300 2011 2 {'page_url': 'ftp://ftp.sec.gov/edgar/data/715812/000071581211000005/form10q.htm', 'local_name': None, 'blob_id': '200869_section230', 'accession_id': 10381, 'received_date': '2011-09-15', 'description': 'Biosynergy Inc (BSYN)', 'fiscal_year': 2012, 'entity_id': 5277, 'sec_filing_id': 200869, 'fiscal_period': '1Q', 'fact_id': 0, 'is_detail': False, 'network_id': 0, 'filing_date': '2011-09-15', 'footnote_type_title': 'Additional 10-K and 10-Q Sections', 'ticker': 'BSYN', 'guide_link': None, 'footnote_type': 2300, 'entity_name': 'Biosynergy Inc', 'document_type': '10-Q', 'SEC_URL': 'http://www.sec.gov/Archives/edgar/data/715812/000071581211000005/0000715812-11-000005-index.htm'}\n",
      "2300 2011 2 {'page_url': 'ftp://ftp.sec.gov/edgar/data/1098881/000109888111000008/caly6301110qadoc.htm', 'local_name': None, 'blob_id': '193084_section230', 'accession_id': 2595, 'received_date': '2011-09-15', 'description': 'U.S. Rare Earths, Inc (UREE)', 'fiscal_year': 2011, 'entity_id': 1141, 'sec_filing_id': 193084, 'fiscal_period': '2Q', 'fact_id': 0, 'is_detail': False, 'network_id': 0, 'filing_date': '2011-09-15', 'footnote_type_title': 'Additional 10-K and 10-Q Sections', 'ticker': 'UREE', 'guide_link': None, 'footnote_type': 2300, 'entity_name': 'U.S. Rare Earths, Inc', 'document_type': '10-Q/A', 'SEC_URL': 'http://www.sec.gov/Archives/edgar/data/1098881/000109888111000008/0001098881-11-000008-index.htm'}\n",
      "2300 2011 2 {'page_url': 'ftp://ftp.sec.gov/edgar/data/1432939/000152745811000005/credexq22011_10qz.htm', 'local_name': None, 'blob_id': '197357_section230', 'accession_id': 6868, 'received_date': '2011-09-09', 'description': 'Credex Corp (CRDXE)', 'fiscal_year': 2011, 'entity_id': 3664, 'sec_filing_id': 197357, 'fiscal_period': '2Q', 'fact_id': 0, 'is_detail': False, 'network_id': 0, 'filing_date': '2011-09-09', 'footnote_type_title': 'Additional 10-K and 10-Q Sections', 'ticker': 'CRDXE', 'guide_link': None, 'footnote_type': 2300, 'entity_name': 'Credex Corp', 'document_type': '10-Q/A', 'SEC_URL': 'http://www.sec.gov/Archives/edgar/data/1432939/000152745811000005/0001527458-11-000005-index.htm'}\n",
      "2300 2011 2 {'page_url': 'ftp://ftp.sec.gov/edgar/data/1368568/000136856811000031/dalian10qjun11_10q.htm', 'local_name': None, 'blob_id': '196253_section230', 'accession_id': 5764, 'received_date': '2011-09-14', 'description': 'Dalian Capital Group, Inc. (DALC)', 'fiscal_year': 2011, 'entity_id': 2863, 'sec_filing_id': 196253, 'fiscal_period': '2Q', 'fact_id': 0, 'is_detail': False, 'network_id': 0, 'filing_date': '2011-09-14', 'footnote_type_title': 'Additional 10-K and 10-Q Sections', 'ticker': 'DALC', 'guide_link': None, 'footnote_type': 2300, 'entity_name': 'Dalian Capital Group, Inc.', 'document_type': '10-Q', 'SEC_URL': 'http://www.sec.gov/Archives/edgar/data/1368568/000136856811000031/0001368568-11-000031-index.htm'}\n",
      "2300 2011 2 {'page_url': 'ftp://ftp.sec.gov/edgar/data/1099574/000109957411000006/f10qajune2011xbrl.htm', 'local_name': None, 'blob_id': '193113_section230', 'accession_id': 2624, 'received_date': '2011-09-15', 'description': 'Eastgate Biotech Corp (ETBI)', 'fiscal_year': 2011, 'entity_id': 1153, 'sec_filing_id': 193113, 'fiscal_period': '2Q', 'fact_id': 0, 'is_detail': False, 'network_id': 0, 'filing_date': '2011-09-15', 'footnote_type_title': 'Additional 10-K and 10-Q Sections', 'ticker': 'ETBI', 'guide_link': None, 'footnote_type': 2300, 'entity_name': 'Eastgate Biotech Corp', 'document_type': '10-Q/A', 'SEC_URL': 'http://www.sec.gov/Archives/edgar/data/1099574/000109957411000006/0001099574-11-000006-index.htm'}\n",
      "2300 2011 2 {'page_url': 'ftp://ftp.sec.gov/edgar/data/701869/000070186911000029/ihc2q2011_10q.htm', 'local_name': None, 'blob_id': '200634_section230', 'accession_id': 10146, 'received_date': '2011-08-16', 'description': 'Independence Holding Co (IHC)', 'fiscal_year': 2011, 'entity_id': 5176, 'sec_filing_id': 200634, 'fiscal_period': '2Q', 'fact_id': 0, 'is_detail': False, 'network_id': 0, 'filing_date': '2011-08-16', 'footnote_type_title': 'Additional 10-K and 10-Q Sections', 'ticker': 'IHC', 'guide_link': None, 'footnote_type': 2300, 'entity_name': 'Independence Holding Co', 'document_type': '10-Q/A', 'SEC_URL': 'http://www.sec.gov/Archives/edgar/data/701869/000070186911000029/0000701869-11-000029-index.htm'}\n",
      "2300 2011 2 {'page_url': 'ftp://ftp.sec.gov/edgar/data/1095133/000109513311000027/isa3qtr201110qver75.htm', 'local_name': None, 'blob_id': '192993_section230', 'accession_id': 2504, 'received_date': '2011-09-15', 'description': 'Isa Internationale Inc (ISATOB)', 'fiscal_year': 2011, 'entity_id': 1087, 'sec_filing_id': 192993, 'fiscal_period': '3Q', 'fact_id': 0, 'is_detail': False, 'network_id': 0, 'filing_date': '2011-09-15', 'footnote_type_title': 'Additional 10-K and 10-Q Sections', 'ticker': 'ISATOB', 'guide_link': None, 'footnote_type': 2300, 'entity_name': 'Isa Internationale Inc', 'document_type': '10-Q/A', 'SEC_URL': 'http://www.sec.gov/Archives/edgar/data/1095133/000109513311000027/0001095133-11-000027-index.htm'}\n",
      "2300 2011 2 {'page_url': 'ftp://ftp.sec.gov/edgar/data/1104265/000101041211000432/lighttouchform10qjune11.htm', 'local_name': None, 'blob_id': '193232_section230', 'accession_id': 2743, 'received_date': '2011-08-12', 'description': 'Grow Solutions Holdings, Inc. (LTVL)', 'fiscal_year': 2011, 'entity_id': 1218, 'sec_filing_id': 193232, 'fiscal_period': '2Q', 'fact_id': 0, 'is_detail': False, 'network_id': 0, 'filing_date': '2011-08-12', 'footnote_type_title': 'Additional 10-K and 10-Q Sections', 'ticker': 'LTVL', 'guide_link': None, 'footnote_type': 2300, 'entity_name': 'Grow Solutions Holdings, Inc.', 'document_type': '10-Q', 'SEC_URL': 'http://www.sec.gov/Archives/edgar/data/1104265/000101041211000432/0001010412-11-000432-index.htm'}\n",
      "2300 2011 2 {'page_url': 'ftp://ftp.sec.gov/edgar/data/1100734/000101041211000401/merilusform10qjune11.htm', 'local_name': None, 'blob_id': '193140_section230', 'accession_id': 2651, 'received_date': '2011-08-09', 'description': 'Kingsmen Capital Group, Ltd (ZNDX)', 'fiscal_year': 2011, 'entity_id': 1168, 'sec_filing_id': 193140, 'fiscal_period': '2Q', 'fact_id': 0, 'is_detail': False, 'network_id': 0, 'filing_date': '2011-08-09', 'footnote_type_title': 'Additional 10-K and 10-Q Sections', 'ticker': 'ZNDX', 'guide_link': None, 'footnote_type': 2300, 'entity_name': 'Kingsmen Capital Group, Ltd', 'document_type': '10-Q', 'SEC_URL': 'http://www.sec.gov/Archives/edgar/data/1100734/000101041211000401/0001010412-11-000401-index.htm'}\n",
      "2300 2011 2 {'page_url': 'ftp://ftp.sec.gov/edgar/data/1169567/000116956711000009/oxford10q06302011a.htm', 'local_name': None, 'blob_id': '194297_section230', 'accession_id': 3808, 'received_date': '2011-08-18', 'description': 'Oxford Technologies Inc (OXFO)', 'fiscal_year': 2011, 'entity_id': 1716, 'sec_filing_id': 194297, 'fiscal_period': '2Q', 'fact_id': 0, 'is_detail': False, 'network_id': 0, 'filing_date': '2011-08-18', 'footnote_type_title': 'Additional 10-K and 10-Q Sections', 'ticker': 'OXFO', 'guide_link': None, 'footnote_type': 2300, 'entity_name': 'Oxford Technologies Inc', 'document_type': '10-Q/A', 'SEC_URL': 'http://www.sec.gov/Archives/edgar/data/1169567/000116956711000009/0001169567-11-000009-index.htm'}\n",
      "2300 2011 2 {'page_url': 'ftp://ftp.sec.gov/edgar/data/1027235/000101041211000390/piranhaform10qjune115.htm', 'local_name': None, 'blob_id': '191199_section230', 'accession_id': 710, 'received_date': '2011-08-05', 'description': 'Asia Travel Corp (PNHVD)', 'fiscal_year': 2011, 'entity_id': 304, 'sec_filing_id': 191199, 'fiscal_period': '2Q', 'fact_id': 0, 'is_detail': False, 'network_id': 0, 'filing_date': '2011-08-05', 'footnote_type_title': 'Additional 10-K and 10-Q Sections', 'ticker': 'PNHVD', 'guide_link': None, 'footnote_type': 2300, 'entity_name': 'Asia Travel Corp', 'document_type': '10-Q', 'SEC_URL': 'http://www.sec.gov/Archives/edgar/data/1027235/000101041211000390/0001010412-11-000390-index.htm'}\n"
     ]
    },
    {
     "name": "stdout",
     "output_type": "stream",
     "text": [
      "2300 2011 2 {'page_url': 'ftp://ftp.sec.gov/edgar/data/1103090/000101041211000453/f10qq211v7.htm', 'local_name': None, 'blob_id': '193202_section230', 'accession_id': 2713, 'received_date': '2011-08-15', 'description': 'Reflect Scientific Inc (RSCF)', 'fiscal_year': 2011, 'entity_id': 1202, 'sec_filing_id': 193202, 'fiscal_period': '2Q', 'fact_id': 0, 'is_detail': False, 'network_id': 0, 'filing_date': '2011-08-15', 'footnote_type_title': 'Additional 10-K and 10-Q Sections', 'ticker': 'RSCF', 'guide_link': None, 'footnote_type': 2300, 'entity_name': 'Reflect Scientific Inc', 'document_type': '10-Q', 'SEC_URL': 'http://www.sec.gov/Archives/edgar/data/1103090/000101041211000453/0001010412-11-000453-index.htm'}\n",
      "2300 2011 2 {'page_url': 'ftp://ftp.sec.gov/edgar/data/1419559/000101041211000443/rtform10qjune11maryschanges.htm', 'local_name': None, 'blob_id': '197144_section230', 'accession_id': 6655, 'received_date': '2011-08-15', 'description': 'CAM Group, Inc. (CAMG)', 'fiscal_year': 2011, 'entity_id': 3503, 'sec_filing_id': 197144, 'fiscal_period': '2Q', 'fact_id': 0, 'is_detail': False, 'network_id': 0, 'filing_date': '2011-08-15', 'footnote_type_title': 'Additional 10-K and 10-Q Sections', 'ticker': 'CAMG', 'guide_link': None, 'footnote_type': 2300, 'entity_name': 'CAM Group, Inc.', 'document_type': '10-Q', 'SEC_URL': 'http://www.sec.gov/Archives/edgar/data/1419559/000101041211000443/0001010412-11-000443-index.htm'}\n",
      "2300 2011 2 {'page_url': 'ftp://ftp.sec.gov/edgar/data/1003986/000114036111039256/r10q0611.htm', 'local_name': None, 'blob_id': '190637_section230', 'accession_id': 148, 'received_date': '2011-08-03', 'description': 'Taylor Calvin B Bankshares Inc (TYBC)', 'fiscal_year': 2011, 'entity_id': 55, 'sec_filing_id': 190637, 'fiscal_period': '2Q', 'fact_id': 0, 'is_detail': False, 'network_id': 0, 'filing_date': '2011-08-03', 'footnote_type_title': 'Additional 10-K and 10-Q Sections', 'ticker': 'TYBC', 'guide_link': None, 'footnote_type': 2300, 'entity_name': 'Taylor Calvin B Bankshares Inc', 'document_type': '10-Q', 'SEC_URL': 'http://www.sec.gov/Archives/edgar/data/1003986/000114036111039256/0001140361-11-039256-index.htm'}\n",
      "2300 2011 2 {'page_url': 'ftp://ftp.sec.gov/edgar/data/1310630/000101041211000420/trafalgar10qjune11.htm', 'local_name': None, 'blob_id': '195373_section230', 'accession_id': 4884, 'received_date': '2011-08-11', 'description': 'Trafalgar Resources, Inc. (TFLG)', 'fiscal_year': 2011, 'entity_id': 2331, 'sec_filing_id': 195373, 'fiscal_period': '3Q', 'fact_id': 0, 'is_detail': False, 'network_id': 0, 'filing_date': '2011-08-11', 'footnote_type_title': 'Additional 10-K and 10-Q Sections', 'ticker': 'TFLG', 'guide_link': None, 'footnote_type': 2300, 'entity_name': 'Trafalgar Resources, Inc.', 'document_type': '10-Q', 'SEC_URL': 'http://www.sec.gov/Archives/edgar/data/1310630/000101041211000420/0001010412-11-000420-index.htm'}\n",
      "2300 2011 2 {'page_url': 'ftp://ftp.sec.gov/edgar/data/1028394/000102317511000447/veii6301110q2.htm', 'local_name': None, 'blob_id': '191221_section230', 'accession_id': 732, 'received_date': '2011-08-12', 'description': 'Voyager Entertainment International Inc (VEII)', 'fiscal_year': 2011, 'entity_id': 313, 'sec_filing_id': 191221, 'fiscal_period': '2Q', 'fact_id': 0, 'is_detail': False, 'network_id': 0, 'filing_date': '2011-08-12', 'footnote_type_title': 'Additional 10-K and 10-Q Sections', 'ticker': 'VEII', 'guide_link': None, 'footnote_type': 2300, 'entity_name': 'Voyager Entertainment International Inc', 'document_type': '10-Q', 'SEC_URL': 'http://www.sec.gov/Archives/edgar/data/1028394/000102317511000447/0001023175-11-000447-index.htm'}\n",
      "2300 2011 2 {'page_url': 'ftp://ftp.sec.gov/edgar/data/1442101/000100233411000346/j11q.htm', 'local_name': None, 'blob_id': '197491_section230', 'accession_id': 7002, 'received_date': '2011-08-17', 'description': 'Western Lucrative Enterprises, Inc. (WLUC)', 'fiscal_year': 2011, 'entity_id': 3786, 'sec_filing_id': 197491, 'fiscal_period': '2Q', 'fact_id': 0, 'is_detail': False, 'network_id': 0, 'filing_date': '2011-08-17', 'footnote_type_title': 'Additional 10-K and 10-Q Sections', 'ticker': 'WLUC', 'guide_link': None, 'footnote_type': 2300, 'entity_name': 'Western Lucrative Enterprises, Inc.', 'document_type': '10-Q', 'SEC_URL': 'http://www.sec.gov/Archives/edgar/data/1442101/000100233411000346/0001002334-11-000346-index.htm'}\n",
      "2300 2011 2 {'page_url': 'ftp://ftp.sec.gov/edgar/data/1099568/000109956811000005/f10qajune2011.htm', 'local_name': None, 'blob_id': '193112_section230', 'accession_id': 2623, 'received_date': '2011-09-15', 'description': 'Westgate Acquisitions Corp (WESTG)', 'fiscal_year': 2011, 'entity_id': 1152, 'sec_filing_id': 193112, 'fiscal_period': '2Q', 'fact_id': 0, 'is_detail': False, 'network_id': 0, 'filing_date': '2011-09-15', 'footnote_type_title': 'Additional 10-K and 10-Q Sections', 'ticker': 'WESTG', 'guide_link': None, 'footnote_type': 2300, 'entity_name': 'Westgate Acquisitions Corp', 'document_type': '10-Q/A', 'SEC_URL': 'http://www.sec.gov/Archives/edgar/data/1099568/000109956811000005/0001099568-11-000005-index.htm'}\n"
     ]
    },
    {
     "data": {
      "application/vnd.jupyter.widget-view+json": {
       "model_id": "371e370612b248329f921413b7eeea20"
      }
     },
     "metadata": {},
     "output_type": "display_data"
    },
    {
     "name": "stdout",
     "output_type": "stream",
     "text": [
      "2300 2011 3 {'page_url': 'ftp://ftp.sec.gov/edgar/data/1510961/000148725211000074/ucv1septq.htm', 'local_name': None, 'blob_id': '198255_section230', 'accession_id': 7766, 'received_date': '2011-10-07', 'description': 'USChina Venture I Inc (CIK0001510961)', 'fiscal_year': 2011, 'entity_id': 4437, 'sec_filing_id': 198255, 'fiscal_period': '3Q', 'fact_id': 0, 'is_detail': False, 'network_id': 0, 'filing_date': '2011-10-07', 'footnote_type_title': 'Additional 10-K and 10-Q Sections', 'ticker': 'CIK0001510961', 'guide_link': None, 'footnote_type': 2300, 'entity_name': 'USChina Venture I Inc', 'document_type': '10-Q', 'SEC_URL': 'http://www.sec.gov/Archives/edgar/data/1510961/000148725211000074/0001487252-11-000074-index.htm'}\n",
      "2300 2011 3 {'page_url': 'ftp://ftp.sec.gov/edgar/data/1510962/000148725211000078/ucv1septq.htm', 'local_name': None, 'blob_id': '198257_section230', 'accession_id': 7768, 'received_date': '2011-10-07', 'description': 'USChina Venture II Inc (CIK0001510962)', 'fiscal_year': 2011, 'entity_id': 4438, 'sec_filing_id': 198257, 'fiscal_period': '3Q', 'fact_id': 0, 'is_detail': False, 'network_id': 0, 'filing_date': '2011-10-07', 'footnote_type_title': 'Additional 10-K and 10-Q Sections', 'ticker': 'CIK0001510962', 'guide_link': None, 'footnote_type': 2300, 'entity_name': 'USChina Venture II Inc', 'document_type': '10-Q', 'SEC_URL': 'http://www.sec.gov/Archives/edgar/data/1510962/000148725211000078/0001487252-11-000078-index.htm'}\n"
     ]
    },
    {
     "data": {
      "application/vnd.jupyter.widget-view+json": {
       "model_id": "f3aeac73833940e1b1c58589ceb8eb44"
      }
     },
     "metadata": {},
     "output_type": "display_data"
    },
    {
     "data": {
      "application/vnd.jupyter.widget-view+json": {
       "model_id": "efb5acac0d424cda917b76ebe19ac532"
      }
     },
     "metadata": {},
     "output_type": "display_data"
    },
    {
     "data": {
      "application/vnd.jupyter.widget-view+json": {
       "model_id": "20e2ee731bca4bb099f5b0a254c628df"
      }
     },
     "metadata": {},
     "output_type": "display_data"
    },
    {
     "data": {
      "application/vnd.jupyter.widget-view+json": {
       "model_id": "ef49026d0c774540b70f5b063532b6c0"
      }
     },
     "metadata": {},
     "output_type": "display_data"
    },
    {
     "data": {
      "application/vnd.jupyter.widget-view+json": {
       "model_id": "0e3dd0d546d0460bba2fd8616cc290d8"
      }
     },
     "metadata": {},
     "output_type": "display_data"
    },
    {
     "data": {
      "application/vnd.jupyter.widget-view+json": {
       "model_id": "d3a884a6fb1b46bd8cd12fe0f9e79ddb"
      }
     },
     "metadata": {},
     "output_type": "display_data"
    },
    {
     "data": {
      "application/vnd.jupyter.widget-view+json": {
       "model_id": "75c99199b4774edbadd77a5106c79f70"
      }
     },
     "metadata": {},
     "output_type": "display_data"
    },
    {
     "data": {
      "application/vnd.jupyter.widget-view+json": {
       "model_id": "c01155e5a87545bbbe367ccdef55a709"
      }
     },
     "metadata": {},
     "output_type": "display_data"
    },
    {
     "data": {
      "application/vnd.jupyter.widget-view+json": {
       "model_id": "8f7b0327724447e8a7a86dc8e89a2607"
      }
     },
     "metadata": {},
     "output_type": "display_data"
    },
    {
     "data": {
      "application/vnd.jupyter.widget-view+json": {
       "model_id": "7491f48072dc4da1b49d5394818b77f1"
      }
     },
     "metadata": {},
     "output_type": "display_data"
    },
    {
     "data": {
      "application/vnd.jupyter.widget-view+json": {
       "model_id": "57f11800d014461884d24fc7ee745c02"
      }
     },
     "metadata": {},
     "output_type": "display_data"
    },
    {
     "data": {
      "application/vnd.jupyter.widget-view+json": {
       "model_id": "b96db17df0fb4d97b66f3bdc1b7c2941"
      }
     },
     "metadata": {},
     "output_type": "display_data"
    },
    {
     "data": {
      "application/vnd.jupyter.widget-view+json": {
       "model_id": "bb0f8d29a0774a418e77b71a3983b4bd"
      }
     },
     "metadata": {},
     "output_type": "display_data"
    },
    {
     "data": {
      "application/vnd.jupyter.widget-view+json": {
       "model_id": "dae4d5c8ed37419e9db3c5bfdb281a6f"
      }
     },
     "metadata": {},
     "output_type": "display_data"
    },
    {
     "data": {
      "application/vnd.jupyter.widget-view+json": {
       "model_id": "165738b679de408c971d78f657e05a2b"
      }
     },
     "metadata": {},
     "output_type": "display_data"
    },
    {
     "data": {
      "application/vnd.jupyter.widget-view+json": {
       "model_id": "26dbed7896564ff29f0fc327a0007e16"
      }
     },
     "metadata": {},
     "output_type": "display_data"
    },
    {
     "data": {
      "application/vnd.jupyter.widget-view+json": {
       "model_id": "3eb5b89d32f94990a47e65db3b67b186"
      }
     },
     "metadata": {},
     "output_type": "display_data"
    },
    {
     "data": {
      "application/vnd.jupyter.widget-view+json": {
       "model_id": "42aa3e87ca78494cb1200179fc8391f2"
      }
     },
     "metadata": {},
     "output_type": "display_data"
    },
    {
     "data": {
      "application/vnd.jupyter.widget-view+json": {
       "model_id": "17f19d5682fb4e7fa2f8d83706c7a904"
      }
     },
     "metadata": {},
     "output_type": "display_data"
    },
    {
     "name": "stdout",
     "output_type": "stream",
     "text": [
      "2300 2016 2 {'page_url': 'ftp://ftp.sec.gov/edgar/data/702513/000143774916036550/boch20160630_10q.htm', 'local_name': None, 'blob_id': '608096_section230', 'accession_id': 166230, 'received_date': '2016-08-05', 'description': 'Bank of Commerce Holdings (BOCH)', 'fiscal_year': 2016, 'entity_id': 5180, 'sec_filing_id': 608096, 'fiscal_period': '2Q', 'fact_id': 0, 'is_detail': False, 'network_id': 0, 'filing_date': '2016-08-05', 'footnote_type_title': 'Additional 10-K and 10-Q Sections', 'ticker': 'BOCH', 'guide_link': None, 'footnote_type': 2300, 'entity_name': 'Bank of Commerce Holdings', 'document_type': '10-Q', 'SEC_URL': 'http://www.sec.gov/Archives/edgar/data/702513/000143774916036550/0001437749-16-036550-index.htm'}\n",
      "2300 2016 2 {'page_url': 'ftp://ftp.sec.gov/edgar/data/36029/000119312516661536/d209433d10q.htm', 'local_name': None, 'blob_id': '603017_section230', 'accession_id': 164499, 'received_date': '2016-07-28', 'description': 'First Financial Bankshares Inc (FFIN)', 'fiscal_year': 2016, 'entity_id': 4912, 'sec_filing_id': 603017, 'fiscal_period': '2Q', 'fact_id': 0, 'is_detail': False, 'network_id': 0, 'filing_date': '2016-07-28', 'footnote_type_title': 'Additional 10-K and 10-Q Sections', 'ticker': 'FFIN', 'guide_link': None, 'footnote_type': 2300, 'entity_name': 'First Financial Bankshares Inc', 'document_type': '10-Q', 'SEC_URL': 'http://www.sec.gov/Archives/edgar/data/36029/000119312516661536/0001193125-16-661536-index.htm'}\n",
      "2300 2016 2 {'page_url': 'ftp://ftp.sec.gov/edgar/data/880116/000157104916017331/t1600511_10qa.htm', 'local_name': None, 'blob_id': '610730_section230', 'accession_id': 167772, 'received_date': '2016-08-10', 'description': 'Southeastern Bank Financial CORP (SBFC)', 'fiscal_year': 2016, 'entity_id': 6416, 'sec_filing_id': 610730, 'fiscal_period': '2Q', 'fact_id': 0, 'is_detail': False, 'network_id': 0, 'filing_date': '2016-08-10', 'footnote_type_title': 'Additional 10-K and 10-Q Sections', 'ticker': 'SBFC', 'guide_link': None, 'footnote_type': 2300, 'entity_name': 'Southeastern Bank Financial CORP', 'document_type': '10-Q/A', 'SEC_URL': 'http://www.sec.gov/Archives/edgar/data/880116/000157104916017331/0001571049-16-017331-index.htm'}\n",
      "2300 2016 2 {'page_url': 'ftp://ftp.sec.gov/edgar/data/880116/000157104916016939/t1600454_10q.htm', 'local_name': None, 'blob_id': '604232_section230', 'accession_id': 164906, 'received_date': '2016-07-29', 'description': 'Southeastern Bank Financial CORP (SBFC)', 'fiscal_year': 2016, 'entity_id': 6416, 'sec_filing_id': 604232, 'fiscal_period': '2Q', 'fact_id': 0, 'is_detail': False, 'network_id': 0, 'filing_date': '2016-07-29', 'footnote_type_title': 'Additional 10-K and 10-Q Sections', 'ticker': 'SBFC', 'guide_link': None, 'footnote_type': 2300, 'entity_name': 'Southeastern Bank Financial CORP', 'document_type': '10-Q', 'SEC_URL': 'http://www.sec.gov/Archives/edgar/data/880116/000157104916016939/0001571049-16-016939-index.htm'}\n",
      "2300 2016 2 {'page_url': 'ftp://ftp.sec.gov/edgar/data/1325670/000157104916017203/t1600497_10q.htm', 'local_name': None, 'blob_id': '608829_section230', 'accession_id': 166671, 'received_date': '2016-08-08', 'description': 'Southern National Bancorp of Virginia Inc (SONA)', 'fiscal_year': 2016, 'entity_id': 2446, 'sec_filing_id': 608829, 'fiscal_period': '2Q', 'fact_id': 0, 'is_detail': False, 'network_id': 0, 'filing_date': '2016-08-08', 'footnote_type_title': 'Additional 10-K and 10-Q Sections', 'ticker': 'SONA', 'guide_link': None, 'footnote_type': 2300, 'entity_name': 'Southern National Bancorp of Virginia Inc', 'document_type': '10-Q', 'SEC_URL': 'http://www.sec.gov/Archives/edgar/data/1325670/000157104916017203/0001571049-16-017203-index.htm'}\n",
      "2300 2016 2 {'page_url': 'ftp://ftp.sec.gov/edgar/data/1137547/000162828016018498/ubfo-20160630xq2.htm', 'local_name': None, 'blob_id': '607016_section230', 'accession_id': 165809, 'received_date': '2016-08-04', 'description': 'United Security Bancshares (UBFO)', 'fiscal_year': 2016, 'entity_id': 1503, 'sec_filing_id': 607016, 'fiscal_period': '2Q', 'fact_id': 0, 'is_detail': False, 'network_id': 0, 'filing_date': '2016-08-04', 'footnote_type_title': 'Additional 10-K and 10-Q Sections', 'ticker': 'UBFO', 'guide_link': None, 'footnote_type': 2300, 'entity_name': 'United Security Bancshares', 'document_type': '10-Q', 'SEC_URL': 'http://www.sec.gov/Archives/edgar/data/1137547/000162828016018498/0001628280-16-018498-index.htm'}\n",
      "2300 2016 2 {'page_url': 'ftp://ftp.sec.gov/edgar/data/801337/000080133716000223/wbs-06302016x10q.htm', 'local_name': None, 'blob_id': '609849_section230', 'accession_id': 167282, 'received_date': '2016-08-09', 'description': 'Webster Financial Corp (WBS)', 'fiscal_year': 2016, 'entity_id': 5820, 'sec_filing_id': 609849, 'fiscal_period': '2Q', 'fact_id': 0, 'is_detail': False, 'network_id': 0, 'filing_date': '2016-08-09', 'footnote_type_title': 'Additional 10-K and 10-Q Sections', 'ticker': 'WBS', 'guide_link': None, 'footnote_type': 2300, 'entity_name': 'Webster Financial Corp', 'document_type': '10-Q', 'SEC_URL': 'http://www.sec.gov/Archives/edgar/data/801337/000080133716000223/0000801337-16-000223-index.htm'}\n"
     ]
    },
    {
     "data": {
      "application/vnd.jupyter.widget-view+json": {
       "model_id": "bfe3d6dae1ba4e9688807f5cea917ba3"
      }
     },
     "metadata": {},
     "output_type": "display_data"
    },
    {
     "data": {
      "application/vnd.jupyter.widget-view+json": {
       "model_id": "aca6a89f3ef043b08d1989c31be27876"
      }
     },
     "metadata": {},
     "output_type": "display_data"
    },
    {
     "data": {
      "application/vnd.jupyter.widget-view+json": {
       "model_id": "f31578ae816640fbbdbde4bb4390da74"
      }
     },
     "metadata": {},
     "output_type": "display_data"
    },
    {
     "data": {
      "application/vnd.jupyter.widget-view+json": {
       "model_id": "e236c9e7e79842708512d3eb4be63ce0"
      }
     },
     "metadata": {},
     "output_type": "display_data"
    },
    {
     "data": {
      "application/vnd.jupyter.widget-view+json": {
       "model_id": "3720d2c504624b7eb9f0449e65e48b03"
      }
     },
     "metadata": {},
     "output_type": "display_data"
    },
    {
     "data": {
      "application/vnd.jupyter.widget-view+json": {
       "model_id": "a86ada747c5b42f8ab61261ca5af5daf"
      }
     },
     "metadata": {},
     "output_type": "display_data"
    },
    {
     "data": {
      "application/vnd.jupyter.widget-view+json": {
       "model_id": "17e1cc75b368469dbe32e0ad90863ed7"
      }
     },
     "metadata": {},
     "output_type": "display_data"
    },
    {
     "data": {
      "application/vnd.jupyter.widget-view+json": {
       "model_id": "1101df0529fb4d64b12d8c4d5928ff3c"
      }
     },
     "metadata": {},
     "output_type": "display_data"
    },
    {
     "data": {
      "application/vnd.jupyter.widget-view+json": {
       "model_id": "e5fcbeca531144b1bd8e1ee635952ff2"
      }
     },
     "metadata": {},
     "output_type": "display_data"
    },
    {
     "data": {
      "application/vnd.jupyter.widget-view+json": {
       "model_id": "a52bf2916a8e4db4a49b905b887aaa94"
      }
     },
     "metadata": {},
     "output_type": "display_data"
    },
    {
     "data": {
      "application/vnd.jupyter.widget-view+json": {
       "model_id": "8c763b5153c24411a44eb2392e07cb61"
      }
     },
     "metadata": {},
     "output_type": "display_data"
    },
    {
     "data": {
      "application/vnd.jupyter.widget-view+json": {
       "model_id": "aac3ebce378e4c27902be1ea2f0f994e"
      }
     },
     "metadata": {},
     "output_type": "display_data"
    },
    {
     "name": "stdout",
     "output_type": "stream",
     "text": [
      "2500 2011 2 {'page_url': 'ftp://ftp.sec.gov/edgar/data/734543/000113705011000190/alco10qfinaldraft20110804for.htm', 'local_name': None, 'blob_id': '201291_section250', 'accession_id': 10803, 'received_date': '2011-08-05', 'description': 'Alco, Inc. (ALCQ)', 'fiscal_year': 2011, 'entity_id': 5438, 'sec_filing_id': 201291, 'fiscal_period': '2Q', 'fact_id': 0, 'is_detail': False, 'network_id': 0, 'filing_date': '2011-08-05', 'footnote_type_title': 'Additional 10-K and 10-Q Sections', 'ticker': 'ALCQ', 'guide_link': None, 'footnote_type': 2500, 'entity_name': 'Alco, Inc.', 'document_type': '10-Q', 'SEC_URL': 'http://www.sec.gov/Archives/edgar/data/734543/000113705011000190/0001137050-11-000190-index.htm'}\n",
      "2500 2011 2 {'page_url': 'ftp://ftp.sec.gov/edgar/data/715812/000071581211000005/form10q.htm', 'local_name': None, 'blob_id': '200869_section250', 'accession_id': 10381, 'received_date': '2011-09-15', 'description': 'Biosynergy Inc (BSYN)', 'fiscal_year': 2012, 'entity_id': 5277, 'sec_filing_id': 200869, 'fiscal_period': '1Q', 'fact_id': 0, 'is_detail': False, 'network_id': 0, 'filing_date': '2011-09-15', 'footnote_type_title': 'Additional 10-K and 10-Q Sections', 'ticker': 'BSYN', 'guide_link': None, 'footnote_type': 2500, 'entity_name': 'Biosynergy Inc', 'document_type': '10-Q', 'SEC_URL': 'http://www.sec.gov/Archives/edgar/data/715812/000071581211000005/0000715812-11-000005-index.htm'}\n",
      "2500 2011 2 {'page_url': 'ftp://ftp.sec.gov/edgar/data/1098881/000109888111000008/caly6301110qadoc.htm', 'local_name': None, 'blob_id': '193084_section250', 'accession_id': 2595, 'received_date': '2011-09-15', 'description': 'U.S. Rare Earths, Inc (UREE)', 'fiscal_year': 2011, 'entity_id': 1141, 'sec_filing_id': 193084, 'fiscal_period': '2Q', 'fact_id': 0, 'is_detail': False, 'network_id': 0, 'filing_date': '2011-09-15', 'footnote_type_title': 'Additional 10-K and 10-Q Sections', 'ticker': 'UREE', 'guide_link': None, 'footnote_type': 2500, 'entity_name': 'U.S. Rare Earths, Inc', 'document_type': '10-Q/A', 'SEC_URL': 'http://www.sec.gov/Archives/edgar/data/1098881/000109888111000008/0001098881-11-000008-index.htm'}\n",
      "2500 2011 2 {'page_url': 'ftp://ftp.sec.gov/edgar/data/1432939/000152745811000005/credexq22011_10qz.htm', 'local_name': None, 'blob_id': '197357_section250', 'accession_id': 6868, 'received_date': '2011-09-09', 'description': 'Credex Corp (CRDXE)', 'fiscal_year': 2011, 'entity_id': 3664, 'sec_filing_id': 197357, 'fiscal_period': '2Q', 'fact_id': 0, 'is_detail': False, 'network_id': 0, 'filing_date': '2011-09-09', 'footnote_type_title': 'Additional 10-K and 10-Q Sections', 'ticker': 'CRDXE', 'guide_link': None, 'footnote_type': 2500, 'entity_name': 'Credex Corp', 'document_type': '10-Q/A', 'SEC_URL': 'http://www.sec.gov/Archives/edgar/data/1432939/000152745811000005/0001527458-11-000005-index.htm'}\n",
      "2500 2011 2 {'page_url': 'ftp://ftp.sec.gov/edgar/data/1368568/000136856811000031/dalian10qjun11_10q.htm', 'local_name': None, 'blob_id': '196253_section250', 'accession_id': 5764, 'received_date': '2011-09-14', 'description': 'Dalian Capital Group, Inc. (DALC)', 'fiscal_year': 2011, 'entity_id': 2863, 'sec_filing_id': 196253, 'fiscal_period': '2Q', 'fact_id': 0, 'is_detail': False, 'network_id': 0, 'filing_date': '2011-09-14', 'footnote_type_title': 'Additional 10-K and 10-Q Sections', 'ticker': 'DALC', 'guide_link': None, 'footnote_type': 2500, 'entity_name': 'Dalian Capital Group, Inc.', 'document_type': '10-Q', 'SEC_URL': 'http://www.sec.gov/Archives/edgar/data/1368568/000136856811000031/0001368568-11-000031-index.htm'}\n",
      "2500 2011 2 {'page_url': 'ftp://ftp.sec.gov/edgar/data/1099574/000109957411000006/f10qajune2011xbrl.htm', 'local_name': None, 'blob_id': '193113_section250', 'accession_id': 2624, 'received_date': '2011-09-15', 'description': 'Eastgate Biotech Corp (ETBI)', 'fiscal_year': 2011, 'entity_id': 1153, 'sec_filing_id': 193113, 'fiscal_period': '2Q', 'fact_id': 0, 'is_detail': False, 'network_id': 0, 'filing_date': '2011-09-15', 'footnote_type_title': 'Additional 10-K and 10-Q Sections', 'ticker': 'ETBI', 'guide_link': None, 'footnote_type': 2500, 'entity_name': 'Eastgate Biotech Corp', 'document_type': '10-Q/A', 'SEC_URL': 'http://www.sec.gov/Archives/edgar/data/1099574/000109957411000006/0001099574-11-000006-index.htm'}\n",
      "2500 2011 2 {'page_url': 'ftp://ftp.sec.gov/edgar/data/1377318/000143209311000544/huntglobal10q063011.htm', 'local_name': None, 'blob_id': '196402_section250', 'accession_id': 5913, 'received_date': '2011-08-15', 'description': 'Hunt Global Resources, Inc. (HGCO)', 'fiscal_year': 2011, 'entity_id': 2976, 'sec_filing_id': 196402, 'fiscal_period': '2Q', 'fact_id': 0, 'is_detail': False, 'network_id': 0, 'filing_date': '2011-08-15', 'footnote_type_title': 'Additional 10-K and 10-Q Sections', 'ticker': 'HGCO', 'guide_link': None, 'footnote_type': 2500, 'entity_name': 'Hunt Global Resources, Inc.', 'document_type': '10-Q', 'SEC_URL': 'http://www.sec.gov/Archives/edgar/data/1377318/000143209311000544/0001432093-11-000544-index.htm'}\n",
      "2500 2011 2 {'page_url': 'ftp://ftp.sec.gov/edgar/data/1095133/000109513311000027/isa3qtr201110qver75.htm', 'local_name': None, 'blob_id': '192993_section250', 'accession_id': 2504, 'received_date': '2011-09-15', 'description': 'Isa Internationale Inc (ISATOB)', 'fiscal_year': 2011, 'entity_id': 1087, 'sec_filing_id': 192993, 'fiscal_period': '3Q', 'fact_id': 0, 'is_detail': False, 'network_id': 0, 'filing_date': '2011-09-15', 'footnote_type_title': 'Additional 10-K and 10-Q Sections', 'ticker': 'ISATOB', 'guide_link': None, 'footnote_type': 2500, 'entity_name': 'Isa Internationale Inc', 'document_type': '10-Q/A', 'SEC_URL': 'http://www.sec.gov/Archives/edgar/data/1095133/000109513311000027/0001095133-11-000027-index.htm'}\n",
      "2500 2011 2 {'page_url': 'ftp://ftp.sec.gov/edgar/data/1104265/000101041211000432/lighttouchform10qjune11.htm', 'local_name': None, 'blob_id': '193232_section250', 'accession_id': 2743, 'received_date': '2011-08-12', 'description': 'Grow Solutions Holdings, Inc. (LTVL)', 'fiscal_year': 2011, 'entity_id': 1218, 'sec_filing_id': 193232, 'fiscal_period': '2Q', 'fact_id': 0, 'is_detail': False, 'network_id': 0, 'filing_date': '2011-08-12', 'footnote_type_title': 'Additional 10-K and 10-Q Sections', 'ticker': 'LTVL', 'guide_link': None, 'footnote_type': 2500, 'entity_name': 'Grow Solutions Holdings, Inc.', 'document_type': '10-Q', 'SEC_URL': 'http://www.sec.gov/Archives/edgar/data/1104265/000101041211000432/0001010412-11-000432-index.htm'}\n",
      "2500 2011 2 {'page_url': 'ftp://ftp.sec.gov/edgar/data/1011452/000101145211000020/tenq2a.htm', 'local_name': None, 'blob_id': '190793_section250', 'accession_id': 304, 'received_date': '2011-09-06', 'description': 'Medical Information Technology, Inc. (CIK0001011452)', 'fiscal_year': 2011, 'entity_id': 129, 'sec_filing_id': 190793, 'fiscal_period': '2Q', 'fact_id': 0, 'is_detail': False, 'network_id': 0, 'filing_date': '2011-09-06', 'footnote_type_title': 'Additional 10-K and 10-Q Sections', 'ticker': 'CIK0001011452', 'guide_link': None, 'footnote_type': 2500, 'entity_name': 'Medical Information Technology, Inc.', 'document_type': '10-Q/A', 'SEC_URL': 'http://www.sec.gov/Archives/edgar/data/1011452/000101145211000020/0001011452-11-000020-index.htm'}\n",
      "2500 2011 2 {'page_url': 'ftp://ftp.sec.gov/edgar/data/1100734/000101041211000401/merilusform10qjune11.htm', 'local_name': None, 'blob_id': '193140_section250', 'accession_id': 2651, 'received_date': '2011-08-09', 'description': 'Kingsmen Capital Group, Ltd (ZNDX)', 'fiscal_year': 2011, 'entity_id': 1168, 'sec_filing_id': 193140, 'fiscal_period': '2Q', 'fact_id': 0, 'is_detail': False, 'network_id': 0, 'filing_date': '2011-08-09', 'footnote_type_title': 'Additional 10-K and 10-Q Sections', 'ticker': 'ZNDX', 'guide_link': None, 'footnote_type': 2500, 'entity_name': 'Kingsmen Capital Group, Ltd', 'document_type': '10-Q', 'SEC_URL': 'http://www.sec.gov/Archives/edgar/data/1100734/000101041211000401/0001010412-11-000401-index.htm'}\n"
     ]
    },
    {
     "name": "stdout",
     "output_type": "stream",
     "text": [
      "2500 2011 2 {'page_url': 'ftp://ftp.sec.gov/edgar/data/1372167/000137216711000028/nevaeh10qjuly312011.htm', 'local_name': None, 'blob_id': '196305_section250', 'accession_id': 5816, 'received_date': '2011-09-19', 'description': 'Pan Ocean Container Supplies, Ltd. (NVEH)', 'fiscal_year': 2011, 'entity_id': 2907, 'sec_filing_id': 196305, 'fiscal_period': '1Q', 'fact_id': 0, 'is_detail': False, 'network_id': 0, 'filing_date': '2011-09-19', 'footnote_type_title': 'Additional 10-K and 10-Q Sections', 'ticker': 'NVEH', 'guide_link': None, 'footnote_type': 2500, 'entity_name': 'Pan Ocean Container Supplies, Ltd.', 'document_type': '10-Q/A', 'SEC_URL': 'http://www.sec.gov/Archives/edgar/data/1372167/000137216711000028/0001372167-11-000028-index.htm'}\n",
      "2500 2011 2 {'page_url': 'ftp://ftp.sec.gov/edgar/data/1169567/000116956711000009/oxford10q06302011a.htm', 'local_name': None, 'blob_id': '194297_section250', 'accession_id': 3808, 'received_date': '2011-08-18', 'description': 'Oxford Technologies Inc (OXFO)', 'fiscal_year': 2011, 'entity_id': 1716, 'sec_filing_id': 194297, 'fiscal_period': '2Q', 'fact_id': 0, 'is_detail': False, 'network_id': 0, 'filing_date': '2011-08-18', 'footnote_type_title': 'Additional 10-K and 10-Q Sections', 'ticker': 'OXFO', 'guide_link': None, 'footnote_type': 2500, 'entity_name': 'Oxford Technologies Inc', 'document_type': '10-Q/A', 'SEC_URL': 'http://www.sec.gov/Archives/edgar/data/1169567/000116956711000009/0001169567-11-000009-index.htm'}\n",
      "2500 2011 2 {'page_url': 'ftp://ftp.sec.gov/edgar/data/1027235/000101041211000390/piranhaform10qjune115.htm', 'local_name': None, 'blob_id': '191199_section250', 'accession_id': 710, 'received_date': '2011-08-05', 'description': 'Asia Travel Corp (PNHVD)', 'fiscal_year': 2011, 'entity_id': 304, 'sec_filing_id': 191199, 'fiscal_period': '2Q', 'fact_id': 0, 'is_detail': False, 'network_id': 0, 'filing_date': '2011-08-05', 'footnote_type_title': 'Additional 10-K and 10-Q Sections', 'ticker': 'PNHVD', 'guide_link': None, 'footnote_type': 2500, 'entity_name': 'Asia Travel Corp', 'document_type': '10-Q', 'SEC_URL': 'http://www.sec.gov/Archives/edgar/data/1027235/000101041211000390/0001010412-11-000390-index.htm'}\n",
      "2500 2011 2 {'page_url': 'ftp://ftp.sec.gov/edgar/data/1103090/000101041211000453/f10qq211v7.htm', 'local_name': None, 'blob_id': '193202_section250', 'accession_id': 2713, 'received_date': '2011-08-15', 'description': 'Reflect Scientific Inc (RSCF)', 'fiscal_year': 2011, 'entity_id': 1202, 'sec_filing_id': 193202, 'fiscal_period': '2Q', 'fact_id': 0, 'is_detail': False, 'network_id': 0, 'filing_date': '2011-08-15', 'footnote_type_title': 'Additional 10-K and 10-Q Sections', 'ticker': 'RSCF', 'guide_link': None, 'footnote_type': 2500, 'entity_name': 'Reflect Scientific Inc', 'document_type': '10-Q', 'SEC_URL': 'http://www.sec.gov/Archives/edgar/data/1103090/000101041211000453/0001010412-11-000453-index.htm'}\n",
      "2500 2011 2 {'page_url': 'ftp://ftp.sec.gov/edgar/data/1419559/000101041211000443/rtform10qjune11maryschanges.htm', 'local_name': None, 'blob_id': '197144_section250', 'accession_id': 6655, 'received_date': '2011-08-15', 'description': 'CAM Group, Inc. (CAMG)', 'fiscal_year': 2011, 'entity_id': 3503, 'sec_filing_id': 197144, 'fiscal_period': '2Q', 'fact_id': 0, 'is_detail': False, 'network_id': 0, 'filing_date': '2011-08-15', 'footnote_type_title': 'Additional 10-K and 10-Q Sections', 'ticker': 'CAMG', 'guide_link': None, 'footnote_type': 2500, 'entity_name': 'CAM Group, Inc.', 'document_type': '10-Q', 'SEC_URL': 'http://www.sec.gov/Archives/edgar/data/1419559/000101041211000443/0001010412-11-000443-index.htm'}\n",
      "2500 2011 2 {'page_url': 'ftp://ftp.sec.gov/edgar/data/1310630/000101041211000420/trafalgar10qjune11.htm', 'local_name': None, 'blob_id': '195373_section250', 'accession_id': 4884, 'received_date': '2011-08-11', 'description': 'Trafalgar Resources, Inc. (TFLG)', 'fiscal_year': 2011, 'entity_id': 2331, 'sec_filing_id': 195373, 'fiscal_period': '3Q', 'fact_id': 0, 'is_detail': False, 'network_id': 0, 'filing_date': '2011-08-11', 'footnote_type_title': 'Additional 10-K and 10-Q Sections', 'ticker': 'TFLG', 'guide_link': None, 'footnote_type': 2500, 'entity_name': 'Trafalgar Resources, Inc.', 'document_type': '10-Q', 'SEC_URL': 'http://www.sec.gov/Archives/edgar/data/1310630/000101041211000420/0001010412-11-000420-index.htm'}\n",
      "2500 2011 2 {'page_url': 'ftp://ftp.sec.gov/edgar/data/1028394/000102317511000447/veii6301110q2.htm', 'local_name': None, 'blob_id': '191221_section250', 'accession_id': 732, 'received_date': '2011-08-12', 'description': 'Voyager Entertainment International Inc (VEII)', 'fiscal_year': 2011, 'entity_id': 313, 'sec_filing_id': 191221, 'fiscal_period': '2Q', 'fact_id': 0, 'is_detail': False, 'network_id': 0, 'filing_date': '2011-08-12', 'footnote_type_title': 'Additional 10-K and 10-Q Sections', 'ticker': 'VEII', 'guide_link': None, 'footnote_type': 2500, 'entity_name': 'Voyager Entertainment International Inc', 'document_type': '10-Q', 'SEC_URL': 'http://www.sec.gov/Archives/edgar/data/1028394/000102317511000447/0001023175-11-000447-index.htm'}\n",
      "2500 2011 2 {'page_url': 'ftp://ftp.sec.gov/edgar/data/1099568/000109956811000005/f10qajune2011.htm', 'local_name': None, 'blob_id': '193112_section250', 'accession_id': 2623, 'received_date': '2011-09-15', 'description': 'Westgate Acquisitions Corp (WESTG)', 'fiscal_year': 2011, 'entity_id': 1152, 'sec_filing_id': 193112, 'fiscal_period': '2Q', 'fact_id': 0, 'is_detail': False, 'network_id': 0, 'filing_date': '2011-09-15', 'footnote_type_title': 'Additional 10-K and 10-Q Sections', 'ticker': 'WESTG', 'guide_link': None, 'footnote_type': 2500, 'entity_name': 'Westgate Acquisitions Corp', 'document_type': '10-Q/A', 'SEC_URL': 'http://www.sec.gov/Archives/edgar/data/1099568/000109956811000005/0001099568-11-000005-index.htm'}\n"
     ]
    },
    {
     "data": {
      "application/vnd.jupyter.widget-view+json": {
       "model_id": "a408bb884aeb4f9e99d2681c4d81967f"
      }
     },
     "metadata": {},
     "output_type": "display_data"
    },
    {
     "data": {
      "application/vnd.jupyter.widget-view+json": {
       "model_id": "d9a2ea6d1135429681aa98a9c8af553f"
      }
     },
     "metadata": {},
     "output_type": "display_data"
    },
    {
     "data": {
      "application/vnd.jupyter.widget-view+json": {
       "model_id": "fe91c463d97d4e979606c243cfdb2ff9"
      }
     },
     "metadata": {},
     "output_type": "display_data"
    },
    {
     "data": {
      "application/vnd.jupyter.widget-view+json": {
       "model_id": "21d431db960c4a0ca8997edd41946791"
      }
     },
     "metadata": {},
     "output_type": "display_data"
    },
    {
     "data": {
      "application/vnd.jupyter.widget-view+json": {
       "model_id": "6e2157c8d0c246658613924650dbe018"
      }
     },
     "metadata": {},
     "output_type": "display_data"
    },
    {
     "data": {
      "application/vnd.jupyter.widget-view+json": {
       "model_id": "4aa787b8b5c840e184cf6ad866ae2f5b"
      }
     },
     "metadata": {},
     "output_type": "display_data"
    },
    {
     "data": {
      "application/vnd.jupyter.widget-view+json": {
       "model_id": "410b1ddcebe34433b20a9e71f58b69c5"
      }
     },
     "metadata": {},
     "output_type": "display_data"
    },
    {
     "data": {
      "application/vnd.jupyter.widget-view+json": {
       "model_id": "7064b2770acb465990409959812520e2"
      }
     },
     "metadata": {},
     "output_type": "display_data"
    },
    {
     "data": {
      "application/vnd.jupyter.widget-view+json": {
       "model_id": "501d2f88703642d7b33c2c8e91b34891"
      }
     },
     "metadata": {},
     "output_type": "display_data"
    },
    {
     "data": {
      "application/vnd.jupyter.widget-view+json": {
       "model_id": "b68cd654f5aa4ef8bf6bbf79455a376a"
      }
     },
     "metadata": {},
     "output_type": "display_data"
    },
    {
     "data": {
      "application/vnd.jupyter.widget-view+json": {
       "model_id": "5a5db756c16a4acfb9bdb51ae8aa11f7"
      }
     },
     "metadata": {},
     "output_type": "display_data"
    },
    {
     "data": {
      "application/vnd.jupyter.widget-view+json": {
       "model_id": "8a4ed0b878c1492e9942870dd4799d4a"
      }
     },
     "metadata": {},
     "output_type": "display_data"
    },
    {
     "data": {
      "application/vnd.jupyter.widget-view+json": {
       "model_id": "dfec5ff156a14d308f267e20fa39a7cf"
      }
     },
     "metadata": {},
     "output_type": "display_data"
    },
    {
     "data": {
      "application/vnd.jupyter.widget-view+json": {
       "model_id": "42b77258b9df407d91e34034d6fa0848"
      }
     },
     "metadata": {},
     "output_type": "display_data"
    },
    {
     "data": {
      "application/vnd.jupyter.widget-view+json": {
       "model_id": "4d4ef225ea1e49949f73fe6b3711d1e6"
      }
     },
     "metadata": {},
     "output_type": "display_data"
    },
    {
     "data": {
      "application/vnd.jupyter.widget-view+json": {
       "model_id": "81b6fa136f4f46baaeb97ce20a8232d0"
      }
     },
     "metadata": {},
     "output_type": "display_data"
    },
    {
     "data": {
      "application/vnd.jupyter.widget-view+json": {
       "model_id": "f7caa03313d041c09292897e5ad1f20e"
      }
     },
     "metadata": {},
     "output_type": "display_data"
    },
    {
     "data": {
      "application/vnd.jupyter.widget-view+json": {
       "model_id": "4baf4cc6c1a344e1bea11f1e69337d51"
      }
     },
     "metadata": {},
     "output_type": "display_data"
    },
    {
     "data": {
      "application/vnd.jupyter.widget-view+json": {
       "model_id": "36540f3d4fa34c59896de914d08a1379"
      }
     },
     "metadata": {},
     "output_type": "display_data"
    },
    {
     "name": "stdout",
     "output_type": "stream",
     "text": [
      "2500 2016 1 {'page_url': 'ftp://ftp.sec.gov/edgar/data/763532/000143774916030331/lyts20160331_10q.htm', 'local_name': None, 'blob_id': '354046_section250', 'accession_id': 157778, 'received_date': '2016-04-29', 'description': 'Lsi Industries Inc (LYTS)', 'fiscal_year': 2016, 'entity_id': 7368, 'sec_filing_id': 354046, 'fiscal_period': '3Q', 'fact_id': 0, 'is_detail': False, 'network_id': 0, 'filing_date': '2016-04-29', 'footnote_type_title': 'Additional 10-K and 10-Q Sections', 'ticker': 'LYTS', 'guide_link': None, 'footnote_type': 2500, 'entity_name': 'Lsi Industries Inc', 'document_type': '10-Q', 'SEC_URL': 'http://www.sec.gov/Archives/edgar/data/763532/000143774916030331/0001437749-16-030331-index.htm'}\n"
     ]
    },
    {
     "data": {
      "application/vnd.jupyter.widget-view+json": {
       "model_id": "5d1467eca719475ba75a687523e52b41"
      }
     },
     "metadata": {},
     "output_type": "display_data"
    },
    {
     "name": "stdout",
     "output_type": "stream",
     "text": [
      "2500 2016 2 {'page_url': 'ftp://ftp.sec.gov/edgar/data/1472595/000147259516000220/june302016-form10q.htm', 'local_name': None, 'blob_id': '607039_section250', 'accession_id': 165832, 'received_date': '2016-08-04', 'description': 'R1 Rcm Inc. (ACHI)', 'fiscal_year': 2016, 'entity_id': 4024, 'sec_filing_id': 607039, 'fiscal_period': '2Q', 'fact_id': 0, 'is_detail': False, 'network_id': 0, 'filing_date': '2016-08-04', 'footnote_type_title': 'Additional 10-K and 10-Q Sections', 'ticker': 'ACHI', 'guide_link': None, 'footnote_type': 2500, 'entity_name': 'R1 Rcm Inc.', 'document_type': '10-Q', 'SEC_URL': 'http://www.sec.gov/Archives/edgar/data/1472595/000147259516000220/0001472595-16-000220-index.htm'}\n",
      "2500 2016 2 {'page_url': 'ftp://ftp.sec.gov/edgar/data/7789/000000778916000069/asb0630201610q.htm', 'local_name': None, 'blob_id': '603524_section250', 'accession_id': 164658, 'received_date': '2016-07-28', 'description': 'Associated Banc-Corp (ASB)', 'fiscal_year': 2016, 'entity_id': 5663, 'sec_filing_id': 603524, 'fiscal_period': '2Q', 'fact_id': 0, 'is_detail': False, 'network_id': 0, 'filing_date': '2016-07-28', 'footnote_type_title': 'Additional 10-K and 10-Q Sections', 'ticker': 'ASB', 'guide_link': None, 'footnote_type': 2500, 'entity_name': 'Associated Banc-Corp', 'document_type': '10-Q', 'SEC_URL': 'http://www.sec.gov/Archives/edgar/data/7789/000000778916000069/0000007789-16-000069-index.htm'}\n",
      "2500 2016 2 {'page_url': 'ftp://ftp.sec.gov/edgar/data/702513/000143774916036550/boch20160630_10q.htm', 'local_name': None, 'blob_id': '608096_section250', 'accession_id': 166230, 'received_date': '2016-08-05', 'description': 'Bank of Commerce Holdings (BOCH)', 'fiscal_year': 2016, 'entity_id': 5180, 'sec_filing_id': 608096, 'fiscal_period': '2Q', 'fact_id': 0, 'is_detail': False, 'network_id': 0, 'filing_date': '2016-08-05', 'footnote_type_title': 'Additional 10-K and 10-Q Sections', 'ticker': 'BOCH', 'guide_link': None, 'footnote_type': 2500, 'entity_name': 'Bank of Commerce Holdings', 'document_type': '10-Q', 'SEC_URL': 'http://www.sec.gov/Archives/edgar/data/702513/000143774916036550/0001437749-16-036550-index.htm'}\n",
      "2500 2016 2 {'page_url': 'ftp://ftp.sec.gov/edgar/data/718413/000165495416001436/a10qjune2016.htm', 'local_name': None, 'blob_id': '611264_section250', 'accession_id': 168096, 'received_date': '2016-08-11', 'description': 'Community Bancorp /VT (CMTV)', 'fiscal_year': 2016, 'entity_id': 5298, 'sec_filing_id': 611264, 'fiscal_period': '2Q', 'fact_id': 0, 'is_detail': False, 'network_id': 0, 'filing_date': '2016-08-11', 'footnote_type_title': 'Additional 10-K and 10-Q Sections', 'ticker': 'CMTV', 'guide_link': None, 'footnote_type': 2500, 'entity_name': 'Community Bancorp /VT', 'document_type': '10-Q', 'SEC_URL': 'http://www.sec.gov/Archives/edgar/data/718413/000165495416001436/0001654954-16-001436-index.htm'}\n",
      "2500 2016 2 {'page_url': 'ftp://ftp.sec.gov/edgar/data/1015780/000101578016000165/etfc-2016630x10q.htm', 'local_name': None, 'blob_id': '607238_section250', 'accession_id': 165874, 'received_date': '2016-08-04', 'description': 'E Trade Financial Corp (ETFC)', 'fiscal_year': 2016, 'entity_id': 175, 'sec_filing_id': 607238, 'fiscal_period': '2Q', 'fact_id': 0, 'is_detail': False, 'network_id': 0, 'filing_date': '2016-08-04', 'footnote_type_title': 'Additional 10-K and 10-Q Sections', 'ticker': 'ETFC', 'guide_link': None, 'footnote_type': 2500, 'entity_name': 'E Trade Financial Corp', 'document_type': '10-Q', 'SEC_URL': 'http://www.sec.gov/Archives/edgar/data/1015780/000101578016000165/0001015780-16-000165-index.htm'}\n",
      "2500 2016 2 {'page_url': 'ftp://ftp.sec.gov/edgar/data/1490873/000159406216000609/form10q.htm', 'local_name': None, 'blob_id': '617809_section250', 'accession_id': 170374, 'received_date': '2016-09-19', 'description': 'Eco Science Solutions, Inc. (ESSI)', 'fiscal_year': 2017, 'entity_id': 4216, 'sec_filing_id': 617809, 'fiscal_period': '2Q', 'fact_id': 0, 'is_detail': False, 'network_id': 0, 'filing_date': '2016-09-19', 'footnote_type_title': 'Additional 10-K and 10-Q Sections', 'ticker': 'ESSI', 'guide_link': None, 'footnote_type': 2500, 'entity_name': 'Eco Science Solutions, Inc.', 'document_type': '10-Q', 'SEC_URL': 'http://www.sec.gov/Archives/edgar/data/1490873/000159406216000609/0001594062-16-000609-index.htm'}\n",
      "2500 2016 2 {'page_url': 'ftp://ftp.sec.gov/edgar/data/315374/000114420416122905/v447426_10q.htm', 'local_name': None, 'blob_id': '616164_section250', 'accession_id': 169998, 'received_date': '2016-09-06', 'description': 'Hurco Companies Inc (HURC)', 'fiscal_year': 2016, 'entity_id': 4749, 'sec_filing_id': 616164, 'fiscal_period': '3Q', 'fact_id': 0, 'is_detail': False, 'network_id': 0, 'filing_date': '2016-09-06', 'footnote_type_title': 'Additional 10-K and 10-Q Sections', 'ticker': 'HURC', 'guide_link': None, 'footnote_type': 2500, 'entity_name': 'Hurco Companies Inc', 'document_type': '10-Q', 'SEC_URL': 'http://www.sec.gov/Archives/edgar/data/315374/000114420416122905/0001144204-16-122905-index.htm'}\n",
      "2500 2016 2 {'page_url': 'ftp://ftp.sec.gov/edgar/data/1495231/000149523116000133/izea16063010q.htm', 'local_name': None, 'blob_id': '611149_section250', 'accession_id': 168015, 'received_date': '2016-08-11', 'description': 'IZEA, Inc. (IZEA)', 'fiscal_year': 2016, 'entity_id': 4269, 'sec_filing_id': 611149, 'fiscal_period': '2Q', 'fact_id': 0, 'is_detail': False, 'network_id': 0, 'filing_date': '2016-08-11', 'footnote_type_title': 'Additional 10-K and 10-Q Sections', 'ticker': 'IZEA', 'guide_link': None, 'footnote_type': 2500, 'entity_name': 'IZEA, Inc.', 'document_type': '10-Q', 'SEC_URL': 'http://www.sec.gov/Archives/edgar/data/1495231/000149523116000133/0001495231-16-000133-index.htm'}\n",
      "2500 2016 2 {'page_url': 'ftp://ftp.sec.gov/edgar/data/19617/000001961716001056/corpq22016.htm', 'local_name': None, 'blob_id': '605838_section250', 'accession_id': 165459, 'received_date': '2016-08-03', 'description': 'Jpmorgan Chase & Co (JPM)', 'fiscal_year': 2016, 'entity_id': 4560, 'sec_filing_id': 605838, 'fiscal_period': '2Q', 'fact_id': 0, 'is_detail': False, 'network_id': 0, 'filing_date': '2016-08-03', 'footnote_type_title': 'Additional 10-K and 10-Q Sections', 'ticker': 'JPM', 'guide_link': None, 'footnote_type': 2500, 'entity_name': 'Jpmorgan Chase & Co', 'document_type': '10-Q', 'SEC_URL': 'http://www.sec.gov/Archives/edgar/data/19617/000001961716001056/0000019617-16-001056-index.htm'}\n",
      "2500 2016 2 {'page_url': 'ftp://ftp.sec.gov/edgar/data/704051/000070405116000179/lm_10qx6302016.htm', 'local_name': None, 'blob_id': '605177_section250', 'accession_id': 165204, 'received_date': '2016-08-02', 'description': 'Legg Mason, Inc. (LM)', 'fiscal_year': 2017, 'entity_id': 5191, 'sec_filing_id': 605177, 'fiscal_period': '1Q', 'fact_id': 0, 'is_detail': False, 'network_id': 0, 'filing_date': '2016-08-02', 'footnote_type_title': 'Additional 10-K and 10-Q Sections', 'ticker': 'LM', 'guide_link': None, 'footnote_type': 2500, 'entity_name': 'Legg Mason, Inc.', 'document_type': '10-Q', 'SEC_URL': 'http://www.sec.gov/Archives/edgar/data/704051/000070405116000179/0000704051-16-000179-index.htm'}\n",
      "2500 2016 2 {'page_url': 'ftp://ftp.sec.gov/edgar/data/1356564/000144586616002517/leom10q08152016.htm', 'local_name': None, 'blob_id': '612820_section250', 'accession_id': 169161, 'received_date': '2016-08-15', 'description': 'Leo Motors, Inc. (LEOM)', 'fiscal_year': 2016, 'entity_id': 2733, 'sec_filing_id': 612820, 'fiscal_period': '2Q', 'fact_id': 0, 'is_detail': False, 'network_id': 0, 'filing_date': '2016-08-15', 'footnote_type_title': 'Additional 10-K and 10-Q Sections', 'ticker': 'LEOM', 'guide_link': None, 'footnote_type': 2500, 'entity_name': 'Leo Motors, Inc.', 'document_type': '10-Q', 'SEC_URL': 'http://www.sec.gov/Archives/edgar/data/1356564/000144586616002517/0001445866-16-002517-index.htm'}\n"
     ]
    },
    {
     "name": "stdout",
     "output_type": "stream",
     "text": [
      "2500 2016 2 {'page_url': 'ftp://ftp.sec.gov/edgar/data/36506/000155837016007997/mfnc-20160630x10q.htm', 'local_name': None, 'blob_id': '612403_section250', 'accession_id': 168819, 'received_date': '2016-08-15', 'description': 'Mackinac Financial Corp /MI/ (MFNC)', 'fiscal_year': 2016, 'entity_id': 4917, 'sec_filing_id': 612403, 'fiscal_period': '2Q', 'fact_id': 0, 'is_detail': False, 'network_id': 0, 'filing_date': '2016-08-15', 'footnote_type_title': 'Additional 10-K and 10-Q Sections', 'ticker': 'MFNC', 'guide_link': None, 'footnote_type': 2500, 'entity_name': 'Mackinac Financial Corp /MI/', 'document_type': '10-Q', 'SEC_URL': 'http://www.sec.gov/Archives/edgar/data/36506/000155837016007997/0001558370-16-007997-index.htm'}\n",
      "2500 2016 2 {'page_url': 'ftp://ftp.sec.gov/edgar/data/1139812/000113981216000088/a06301610q.htm', 'local_name': None, 'blob_id': '608521_section250', 'accession_id': 166532, 'received_date': '2016-08-05', 'description': 'Mb Financial Inc /MD (MBFI)', 'fiscal_year': 2016, 'entity_id': 1523, 'sec_filing_id': 608521, 'fiscal_period': '2Q', 'fact_id': 0, 'is_detail': False, 'network_id': 0, 'filing_date': '2016-08-05', 'footnote_type_title': 'Additional 10-K and 10-Q Sections', 'ticker': 'MBFI', 'guide_link': None, 'footnote_type': 2500, 'entity_name': 'Mb Financial Inc /MD', 'document_type': '10-Q', 'SEC_URL': 'http://www.sec.gov/Archives/edgar/data/1139812/000113981216000088/0001139812-16-000088-index.htm'}\n",
      "2500 2016 2 {'page_url': 'ftp://ftp.sec.gov/edgar/data/1600125/000119312516675086/d213545d10q.htm', 'local_name': None, 'blob_id': '609048_section250', 'accession_id': 166814, 'received_date': '2016-08-08', 'description': 'Meridian Bancorp, Inc. (EBSB)', 'fiscal_year': 2016, 'entity_id': 3405, 'sec_filing_id': 609048, 'fiscal_period': '2Q', 'fact_id': 0, 'is_detail': False, 'network_id': 0, 'filing_date': '2016-08-08', 'footnote_type_title': 'Additional 10-K and 10-Q Sections', 'ticker': 'EBSB', 'guide_link': None, 'footnote_type': 2500, 'entity_name': 'Meridian Bancorp, Inc.', 'document_type': '10-Q', 'SEC_URL': 'http://www.sec.gov/Archives/edgar/data/1600125/000119312516675086/0001193125-16-675086-index.htm'}\n",
      "2500 2016 2 {'page_url': 'ftp://ftp.sec.gov/edgar/data/1504461/000150446116000034/ngl-6302016x10q.htm', 'local_name': None, 'blob_id': '610259_section250', 'accession_id': 167431, 'received_date': '2016-08-09', 'description': 'NGL Energy Partners LP (NGL)', 'fiscal_year': 2017, 'entity_id': 4385, 'sec_filing_id': 610259, 'fiscal_period': '1Q', 'fact_id': 0, 'is_detail': False, 'network_id': 0, 'filing_date': '2016-08-09', 'footnote_type_title': 'Additional 10-K and 10-Q Sections', 'ticker': 'NGL', 'guide_link': None, 'footnote_type': 2500, 'entity_name': 'NGL Energy Partners LP', 'document_type': '10-Q', 'SEC_URL': 'http://www.sec.gov/Archives/edgar/data/1504461/000150446116000034/0001504461-16-000034-index.htm'}\n",
      "2500 2016 2 {'page_url': 'ftp://ftp.sec.gov/edgar/data/1002517/000100251716000078/nuan0630201610-q.htm', 'local_name': None, 'blob_id': '609977_section250', 'accession_id': 167353, 'received_date': '2016-08-09', 'description': 'Nuance Communications, Inc. (NUAN)', 'fiscal_year': 2016, 'entity_id': 40, 'sec_filing_id': 609977, 'fiscal_period': '3Q', 'fact_id': 0, 'is_detail': False, 'network_id': 0, 'filing_date': '2016-08-09', 'footnote_type_title': 'Additional 10-K and 10-Q Sections', 'ticker': 'NUAN', 'guide_link': None, 'footnote_type': 2500, 'entity_name': 'Nuance Communications, Inc.', 'document_type': '10-Q', 'SEC_URL': 'http://www.sec.gov/Archives/edgar/data/1002517/000100251716000078/0001002517-16-000078-index.htm'}\n",
      "2500 2016 2 {'page_url': 'ftp://ftp.sec.gov/edgar/data/1378946/000119312516676617/d221059d10q.htm', 'local_name': None, 'blob_id': '609839_section250', 'accession_id': 167272, 'received_date': '2016-08-09', 'description': \"People's United Financial, Inc. (PBCT)\", 'fiscal_year': 2016, 'entity_id': 2996, 'sec_filing_id': 609839, 'fiscal_period': '2Q', 'fact_id': 0, 'is_detail': False, 'network_id': 0, 'filing_date': '2016-08-09', 'footnote_type_title': 'Additional 10-K and 10-Q Sections', 'ticker': 'PBCT', 'guide_link': None, 'footnote_type': 2500, 'entity_name': \"People's United Financial, Inc.\", 'document_type': '10-Q', 'SEC_URL': 'http://www.sec.gov/Archives/edgar/data/1378946/000119312516676617/0001193125-16-676617-index.htm'}\n",
      "2500 2016 2 {'page_url': 'ftp://ftp.sec.gov/edgar/data/77776/000007777616000013/phh2016063010-q.htm', 'local_name': None, 'blob_id': '609731_section250', 'accession_id': 167178, 'received_date': '2016-08-09', 'description': 'Phh Corp (PHH)', 'fiscal_year': 2016, 'entity_id': 5657, 'sec_filing_id': 609731, 'fiscal_period': '2Q', 'fact_id': 0, 'is_detail': False, 'network_id': 0, 'filing_date': '2016-08-09', 'footnote_type_title': 'Additional 10-K and 10-Q Sections', 'ticker': 'PHH', 'guide_link': None, 'footnote_type': 2500, 'entity_name': 'Phh Corp', 'document_type': '10-Q', 'SEC_URL': 'http://www.sec.gov/Archives/edgar/data/77776/000007777616000013/0000077776-16-000013-index.htm'}\n",
      "2500 2016 2 {'page_url': 'ftp://ftp.sec.gov/edgar/data/316709/000031670916000093/schw-20160630x10q.htm', 'local_name': None, 'blob_id': '608451_section250', 'accession_id': 166468, 'received_date': '2016-08-05', 'description': 'Schwab Charles Corp (SCHW)', 'fiscal_year': 2016, 'entity_id': 4760, 'sec_filing_id': 608451, 'fiscal_period': '2Q', 'fact_id': 0, 'is_detail': False, 'network_id': 0, 'filing_date': '2016-08-05', 'footnote_type_title': 'Additional 10-K and 10-Q Sections', 'ticker': 'SCHW', 'guide_link': None, 'footnote_type': 2500, 'entity_name': 'Schwab Charles Corp', 'document_type': '10-Q', 'SEC_URL': 'http://www.sec.gov/Archives/edgar/data/316709/000031670916000093/0000316709-16-000093-index.htm'}\n",
      "2500 2016 2 {'page_url': 'ftp://ftp.sec.gov/edgar/data/1500213/000150021316000072/sifi0630201610-q2.htm', 'local_name': None, 'blob_id': '608979_section250', 'accession_id': 166790, 'received_date': '2016-08-08', 'description': 'SI Financial Group, Inc. (SIFI)', 'fiscal_year': 2016, 'entity_id': 4343, 'sec_filing_id': 608979, 'fiscal_period': '2Q', 'fact_id': 0, 'is_detail': False, 'network_id': 0, 'filing_date': '2016-08-08', 'footnote_type_title': 'Additional 10-K and 10-Q Sections', 'ticker': 'SIFI', 'guide_link': None, 'footnote_type': 2500, 'entity_name': 'SI Financial Group, Inc.', 'document_type': '10-Q', 'SEC_URL': 'http://www.sec.gov/Archives/edgar/data/1500213/000150021316000072/0001500213-16-000072-index.htm'}\n",
      "2500 2016 2 {'page_url': 'ftp://ftp.sec.gov/edgar/data/880116/000157104916017331/t1600511_10qa.htm', 'local_name': None, 'blob_id': '610730_section250', 'accession_id': 167772, 'received_date': '2016-08-10', 'description': 'Southeastern Bank Financial CORP (SBFC)', 'fiscal_year': 2016, 'entity_id': 6416, 'sec_filing_id': 610730, 'fiscal_period': '2Q', 'fact_id': 0, 'is_detail': False, 'network_id': 0, 'filing_date': '2016-08-10', 'footnote_type_title': 'Additional 10-K and 10-Q Sections', 'ticker': 'SBFC', 'guide_link': None, 'footnote_type': 2500, 'entity_name': 'Southeastern Bank Financial CORP', 'document_type': '10-Q/A', 'SEC_URL': 'http://www.sec.gov/Archives/edgar/data/880116/000157104916017331/0001571049-16-017331-index.htm'}\n",
      "2500 2016 2 {'page_url': 'ftp://ftp.sec.gov/edgar/data/880116/000157104916016939/t1600454_10q.htm', 'local_name': None, 'blob_id': '604232_section250', 'accession_id': 164906, 'received_date': '2016-07-29', 'description': 'Southeastern Bank Financial CORP (SBFC)', 'fiscal_year': 2016, 'entity_id': 6416, 'sec_filing_id': 604232, 'fiscal_period': '2Q', 'fact_id': 0, 'is_detail': False, 'network_id': 0, 'filing_date': '2016-07-29', 'footnote_type_title': 'Additional 10-K and 10-Q Sections', 'ticker': 'SBFC', 'guide_link': None, 'footnote_type': 2500, 'entity_name': 'Southeastern Bank Financial CORP', 'document_type': '10-Q', 'SEC_URL': 'http://www.sec.gov/Archives/edgar/data/880116/000157104916016939/0001571049-16-016939-index.htm'}\n"
     ]
    },
    {
     "name": "stdout",
     "output_type": "stream",
     "text": [
      "2500 2016 2 {'page_url': 'ftp://ftp.sec.gov/edgar/data/1325670/000157104916017203/t1600497_10q.htm', 'local_name': None, 'blob_id': '608829_section250', 'accession_id': 166671, 'received_date': '2016-08-08', 'description': 'Southern National Bancorp of Virginia Inc (SONA)', 'fiscal_year': 2016, 'entity_id': 2446, 'sec_filing_id': 608829, 'fiscal_period': '2Q', 'fact_id': 0, 'is_detail': False, 'network_id': 0, 'filing_date': '2016-08-08', 'footnote_type_title': 'Additional 10-K and 10-Q Sections', 'ticker': 'SONA', 'guide_link': None, 'footnote_type': 2500, 'entity_name': 'Southern National Bancorp of Virginia Inc', 'document_type': '10-Q', 'SEC_URL': 'http://www.sec.gov/Archives/edgar/data/1325670/000157104916017203/0001571049-16-017203-index.htm'}\n",
      "2500 2016 2 {'page_url': 'ftp://ftp.sec.gov/edgar/data/706863/000070686316000112/a63016unb10-q.htm', 'local_name': None, 'blob_id': '609825_section250', 'accession_id': 167260, 'received_date': '2016-08-09', 'description': 'Union Bankshares Inc (UNB)', 'fiscal_year': 2016, 'entity_id': 5209, 'sec_filing_id': 609825, 'fiscal_period': '2Q', 'fact_id': 0, 'is_detail': False, 'network_id': 0, 'filing_date': '2016-08-09', 'footnote_type_title': 'Additional 10-K and 10-Q Sections', 'ticker': 'UNB', 'guide_link': None, 'footnote_type': 2500, 'entity_name': 'Union Bankshares Inc', 'document_type': '10-Q', 'SEC_URL': 'http://www.sec.gov/Archives/edgar/data/706863/000070686316000112/0000706863-16-000112-index.htm'}\n",
      "2500 2016 2 {'page_url': 'ftp://ftp.sec.gov/edgar/data/1052100/000155837016006946/wdr-20160630x10q.htm', 'local_name': None, 'blob_id': '603911_section250', 'accession_id': 164753, 'received_date': '2016-07-29', 'description': 'Waddell & Reed Financial Inc (WDR)', 'fiscal_year': 2016, 'entity_id': 585, 'sec_filing_id': 603911, 'fiscal_period': '2Q', 'fact_id': 0, 'is_detail': False, 'network_id': 0, 'filing_date': '2016-07-29', 'footnote_type_title': 'Additional 10-K and 10-Q Sections', 'ticker': 'WDR', 'guide_link': None, 'footnote_type': 2500, 'entity_name': 'Waddell & Reed Financial Inc', 'document_type': '10-Q', 'SEC_URL': 'http://www.sec.gov/Archives/edgar/data/1052100/000155837016006946/0001558370-16-006946-index.htm'}\n",
      "2500 2016 2 {'page_url': 'ftp://ftp.sec.gov/edgar/data/801337/000080133716000223/wbs-06302016x10q.htm', 'local_name': None, 'blob_id': '609849_section250', 'accession_id': 167282, 'received_date': '2016-08-09', 'description': 'Webster Financial Corp (WBS)', 'fiscal_year': 2016, 'entity_id': 5820, 'sec_filing_id': 609849, 'fiscal_period': '2Q', 'fact_id': 0, 'is_detail': False, 'network_id': 0, 'filing_date': '2016-08-09', 'footnote_type_title': 'Additional 10-K and 10-Q Sections', 'ticker': 'WBS', 'guide_link': None, 'footnote_type': 2500, 'entity_name': 'Webster Financial Corp', 'document_type': '10-Q', 'SEC_URL': 'http://www.sec.gov/Archives/edgar/data/801337/000080133716000223/0000801337-16-000223-index.htm'}\n",
      "2500 2016 2 {'page_url': 'ftp://ftp.sec.gov/edgar/data/1309108/000130910816000254/wex6_30x201610-q.htm', 'local_name': None, 'blob_id': '609847_section250', 'accession_id': 167280, 'received_date': '2016-08-09', 'description': 'WEX Inc. (WEX)', 'fiscal_year': 2016, 'entity_id': 2311, 'sec_filing_id': 609847, 'fiscal_period': '2Q', 'fact_id': 0, 'is_detail': False, 'network_id': 0, 'filing_date': '2016-08-09', 'footnote_type_title': 'Additional 10-K and 10-Q Sections', 'ticker': 'WEX', 'guide_link': None, 'footnote_type': 2500, 'entity_name': 'WEX Inc.', 'document_type': '10-Q', 'SEC_URL': 'http://www.sec.gov/Archives/edgar/data/1309108/000130910816000254/0001309108-16-000254-index.htm'}\n"
     ]
    },
    {
     "data": {
      "application/vnd.jupyter.widget-view+json": {
       "model_id": "b0f22c3e4c814e1789eff5a84584da5d"
      }
     },
     "metadata": {},
     "output_type": "display_data"
    },
    {
     "data": {
      "application/vnd.jupyter.widget-view+json": {
       "model_id": "b096282795bb472697c8f2f2ddabbabb"
      }
     },
     "metadata": {},
     "output_type": "display_data"
    },
    {
     "data": {
      "application/vnd.jupyter.widget-view+json": {
       "model_id": "9ad43c031d724ee882f05c5877c002ff"
      }
     },
     "metadata": {},
     "output_type": "display_data"
    },
    {
     "data": {
      "application/vnd.jupyter.widget-view+json": {
       "model_id": "b97e1075be4e4a09967b5a8fa803b5f3"
      }
     },
     "metadata": {},
     "output_type": "display_data"
    },
    {
     "data": {
      "application/vnd.jupyter.widget-view+json": {
       "model_id": "83c46591c7574d98aeb0d3e07b0e27ae"
      }
     },
     "metadata": {},
     "output_type": "display_data"
    },
    {
     "data": {
      "application/vnd.jupyter.widget-view+json": {
       "model_id": "fd58d2ba41b74ad2816b9ab8e7941871"
      }
     },
     "metadata": {},
     "output_type": "display_data"
    },
    {
     "data": {
      "application/vnd.jupyter.widget-view+json": {
       "model_id": "1d4ff26142894c81958c8cc9f6b3d943"
      }
     },
     "metadata": {},
     "output_type": "display_data"
    },
    {
     "data": {
      "application/vnd.jupyter.widget-view+json": {
       "model_id": "4446b75b36ae459390a58c5a14de9744"
      }
     },
     "metadata": {},
     "output_type": "display_data"
    },
    {
     "data": {
      "application/vnd.jupyter.widget-view+json": {
       "model_id": "9cf99ef1f7b64b849d843c42f192b128"
      }
     },
     "metadata": {},
     "output_type": "display_data"
    },
    {
     "data": {
      "application/vnd.jupyter.widget-view+json": {
       "model_id": "7db1ba6d786f44a9bb83740ff86b89ff"
      }
     },
     "metadata": {},
     "output_type": "display_data"
    },
    {
     "data": {
      "application/vnd.jupyter.widget-view+json": {
       "model_id": "562c87d1c3a34027be0621e35436131e"
      }
     },
     "metadata": {},
     "output_type": "display_data"
    },
    {
     "data": {
      "application/vnd.jupyter.widget-view+json": {
       "model_id": "02913fb9e02c413a893fef42b4dcd347"
      }
     },
     "metadata": {},
     "output_type": "display_data"
    },
    {
     "data": {
      "application/vnd.jupyter.widget-view+json": {
       "model_id": "69ca7ef0759343c0b7f3b68e8709c3d1"
      }
     },
     "metadata": {},
     "output_type": "display_data"
    },
    {
     "data": {
      "application/vnd.jupyter.widget-view+json": {
       "model_id": "ff5ac0f2feec4b398d78065a29ca962a"
      }
     },
     "metadata": {},
     "output_type": "display_data"
    },
    {
     "data": {
      "application/vnd.jupyter.widget-view+json": {
       "model_id": "063a18f2f98145f5bd4d827f07cab6e9"
      }
     },
     "metadata": {},
     "output_type": "display_data"
    },
    {
     "data": {
      "application/vnd.jupyter.widget-view+json": {
       "model_id": "7ae89fc2d45f48dcb43c2b7df0964973"
      }
     },
     "metadata": {},
     "output_type": "display_data"
    },
    {
     "data": {
      "application/vnd.jupyter.widget-view+json": {
       "model_id": "4fda426bc87446b2a5d3a39b74cc3113"
      }
     },
     "metadata": {},
     "output_type": "display_data"
    },
    {
     "data": {
      "application/vnd.jupyter.widget-view+json": {
       "model_id": "6fcb096cb93e4fcd992bb3ee23f543d1"
      }
     },
     "metadata": {},
     "output_type": "display_data"
    },
    {
     "data": {
      "application/vnd.jupyter.widget-view+json": {
       "model_id": "de7d821e7d61481a9919cc0f2f15f173"
      }
     },
     "metadata": {},
     "output_type": "display_data"
    },
    {
     "data": {
      "application/vnd.jupyter.widget-view+json": {
       "model_id": "0bb4f05b80494fe1ade18050359edd96"
      }
     },
     "metadata": {},
     "output_type": "display_data"
    },
    {
     "data": {
      "application/vnd.jupyter.widget-view+json": {
       "model_id": "ea2a1793e5f94e44951f6596b7b7f635"
      }
     },
     "metadata": {},
     "output_type": "display_data"
    },
    {
     "data": {
      "application/vnd.jupyter.widget-view+json": {
       "model_id": "e51d8dd7649c402aaa885961aa1943c8"
      }
     },
     "metadata": {},
     "output_type": "display_data"
    },
    {
     "data": {
      "application/vnd.jupyter.widget-view+json": {
       "model_id": "00ac2f87169f42c59ed4d64898e9e5bc"
      }
     },
     "metadata": {},
     "output_type": "display_data"
    },
    {
     "data": {
      "application/vnd.jupyter.widget-view+json": {
       "model_id": "54262fa9278140ccae47cfbee5b8e360"
      }
     },
     "metadata": {},
     "output_type": "display_data"
    },
    {
     "data": {
      "application/vnd.jupyter.widget-view+json": {
       "model_id": "b56d604f6a524573866c66e28c66025b"
      }
     },
     "metadata": {},
     "output_type": "display_data"
    },
    {
     "data": {
      "application/vnd.jupyter.widget-view+json": {
       "model_id": "8126d637588e44c2b329eb60525f4d5f"
      }
     },
     "metadata": {},
     "output_type": "display_data"
    },
    {
     "data": {
      "application/vnd.jupyter.widget-view+json": {
       "model_id": "2c672456ba874c2fa8b43f24b74dad86"
      }
     },
     "metadata": {},
     "output_type": "display_data"
    },
    {
     "data": {
      "application/vnd.jupyter.widget-view+json": {
       "model_id": "9592d651d32c437d95d29968065ae666"
      }
     },
     "metadata": {},
     "output_type": "display_data"
    },
    {
     "data": {
      "application/vnd.jupyter.widget-view+json": {
       "model_id": "d957fb6334ac43469a15e9a5a5e7d3f1"
      }
     },
     "metadata": {},
     "output_type": "display_data"
    },
    {
     "data": {
      "application/vnd.jupyter.widget-view+json": {
       "model_id": "3f60bf7e7a9e418e94e2652009fa52e2"
      }
     },
     "metadata": {},
     "output_type": "display_data"
    },
    {
     "name": "stdout",
     "output_type": "stream",
     "text": [
      "2600 2016 0 {'page_url': 'ftp://ftp.sec.gov/edgar/data/750558/000156459017004465/qnbc-10k_20161231.htm', 'local_name': None, 'blob_id': '653129_section260', 'accession_id': 182125, 'received_date': '2017-03-15', 'description': 'Qnb Corp (QNBC)', 'fiscal_year': 2016, 'entity_id': 5523, 'sec_filing_id': 653129, 'fiscal_period': 'Y', 'fact_id': 0, 'is_detail': False, 'network_id': 0, 'filing_date': '2017-03-15', 'footnote_type_title': 'Additional 10-K and 10-Q Sections', 'ticker': 'QNBC', 'guide_link': None, 'footnote_type': 2600, 'entity_name': 'Qnb Corp', 'document_type': '10-K', 'SEC_URL': 'http://www.sec.gov/Archives/edgar/data/750558/000156459017004465/0001564590-17-004465-index.htm'}\n"
     ]
    },
    {
     "data": {
      "application/vnd.jupyter.widget-view+json": {
       "model_id": "1e4e2158a367434684cc1083a0e4c164"
      }
     },
     "metadata": {},
     "output_type": "display_data"
    },
    {
     "data": {
      "application/vnd.jupyter.widget-view+json": {
       "model_id": "d9e5a5fb2ffd4473a217e670aed892d6"
      }
     },
     "metadata": {},
     "output_type": "display_data"
    },
    {
     "data": {
      "application/vnd.jupyter.widget-view+json": {
       "model_id": "b4c7106defa443da88a2193361f65fa3"
      }
     },
     "metadata": {},
     "output_type": "display_data"
    },
    {
     "data": {
      "application/vnd.jupyter.widget-view+json": {
       "model_id": "24a3c30730ad481daee247824b62ec8b"
      }
     },
     "metadata": {},
     "output_type": "display_data"
    },
    {
     "data": {
      "application/vnd.jupyter.widget-view+json": {
       "model_id": "b561ccdbb7444781b27fbdbebb55e6b0"
      }
     },
     "metadata": {},
     "output_type": "display_data"
    },
    {
     "data": {
      "application/vnd.jupyter.widget-view+json": {
       "model_id": "b61129eb8c044a2593d41ec29a48dfad"
      }
     },
     "metadata": {},
     "output_type": "display_data"
    },
    {
     "data": {
      "application/vnd.jupyter.widget-view+json": {
       "model_id": "975e4fc2ada0457cbcadbc1391a3d5c0"
      }
     },
     "metadata": {},
     "output_type": "display_data"
    },
    {
     "data": {
      "application/vnd.jupyter.widget-view+json": {
       "model_id": "da0c11cb199b41f89c14c26f31909268"
      }
     },
     "metadata": {},
     "output_type": "display_data"
    },
    {
     "data": {
      "application/vnd.jupyter.widget-view+json": {
       "model_id": "7da5b9ef4e7b4de08212fca2a19d6e40"
      }
     },
     "metadata": {},
     "output_type": "display_data"
    },
    {
     "data": {
      "application/vnd.jupyter.widget-view+json": {
       "model_id": "c0b1c179012a4c2e828e267253d3d12d"
      }
     },
     "metadata": {},
     "output_type": "display_data"
    },
    {
     "data": {
      "application/vnd.jupyter.widget-view+json": {
       "model_id": "a9327922d268423296edbdce98b89ec2"
      }
     },
     "metadata": {},
     "output_type": "display_data"
    },
    {
     "data": {
      "application/vnd.jupyter.widget-view+json": {
       "model_id": "3a917b34f26543b0b1330d4fcd4278d9"
      }
     },
     "metadata": {},
     "output_type": "display_data"
    },
    {
     "data": {
      "application/vnd.jupyter.widget-view+json": {
       "model_id": "3d6fcd9a0d4e4848a61ba60f00819877"
      }
     },
     "metadata": {},
     "output_type": "display_data"
    },
    {
     "data": {
      "application/vnd.jupyter.widget-view+json": {
       "model_id": "41117b77f8134fdeb19263f727f61a3f"
      }
     },
     "metadata": {},
     "output_type": "display_data"
    },
    {
     "name": "stdout",
     "output_type": "stream",
     "text": [
      "2700 2011 2 {'page_url': 'ftp://ftp.sec.gov/edgar/data/734543/000113705011000190/alco10qfinaldraft20110804for.htm', 'local_name': None, 'blob_id': '201291_section270', 'accession_id': 10803, 'received_date': '2011-08-05', 'description': 'Alco, Inc. (ALCQ)', 'fiscal_year': 2011, 'entity_id': 5438, 'sec_filing_id': 201291, 'fiscal_period': '2Q', 'fact_id': 0, 'is_detail': False, 'network_id': 0, 'filing_date': '2011-08-05', 'footnote_type_title': 'Additional 10-K and 10-Q Sections', 'ticker': 'ALCQ', 'guide_link': None, 'footnote_type': 2700, 'entity_name': 'Alco, Inc.', 'document_type': '10-Q', 'SEC_URL': 'http://www.sec.gov/Archives/edgar/data/734543/000113705011000190/0001137050-11-000190-index.htm'}\n",
      "2700 2011 2 {'page_url': 'ftp://ftp.sec.gov/edgar/data/1096298/000121152411000217/qjune2011.htm', 'local_name': None, 'blob_id': '193020_section270', 'accession_id': 2531, 'received_date': '2011-08-31', 'description': 'Asia8, Inc. (CIK0001096298)', 'fiscal_year': 2011, 'entity_id': 1106, 'sec_filing_id': 193020, 'fiscal_period': '2Q', 'fact_id': 0, 'is_detail': False, 'network_id': 0, 'filing_date': '2011-08-31', 'footnote_type_title': 'Additional 10-K and 10-Q Sections', 'ticker': 'CIK0001096298', 'guide_link': None, 'footnote_type': 2700, 'entity_name': 'Asia8, Inc.', 'document_type': '10-Q/A', 'SEC_URL': 'http://www.sec.gov/Archives/edgar/data/1096298/000121152411000217/0001211524-11-000217-index.htm'}\n",
      "2700 2011 2 {'page_url': 'ftp://ftp.sec.gov/edgar/data/715812/000071581211000005/form10q.htm', 'local_name': None, 'blob_id': '200869_section270', 'accession_id': 10381, 'received_date': '2011-09-15', 'description': 'Biosynergy Inc (BSYN)', 'fiscal_year': 2012, 'entity_id': 5277, 'sec_filing_id': 200869, 'fiscal_period': '1Q', 'fact_id': 0, 'is_detail': False, 'network_id': 0, 'filing_date': '2011-09-15', 'footnote_type_title': 'Additional 10-K and 10-Q Sections', 'ticker': 'BSYN', 'guide_link': None, 'footnote_type': 2700, 'entity_name': 'Biosynergy Inc', 'document_type': '10-Q', 'SEC_URL': 'http://www.sec.gov/Archives/edgar/data/715812/000071581211000005/0000715812-11-000005-index.htm'}\n",
      "2700 2011 2 {'page_url': 'ftp://ftp.sec.gov/edgar/data/1385211/000113705011000233/cmi10q30jun11_final3clean2.htm', 'local_name': None, 'blob_id': '196538_section270', 'accession_id': 6049, 'received_date': '2011-08-19', 'description': 'China Multimedia, Inc. (CMMI)', 'fiscal_year': 2011, 'entity_id': 3064, 'sec_filing_id': 196538, 'fiscal_period': '3Q', 'fact_id': 0, 'is_detail': False, 'network_id': 0, 'filing_date': '2011-08-19', 'footnote_type_title': 'Additional 10-K and 10-Q Sections', 'ticker': 'CMMI', 'guide_link': None, 'footnote_type': 2700, 'entity_name': 'China Multimedia, Inc.', 'document_type': '10-Q', 'SEC_URL': 'http://www.sec.gov/Archives/edgar/data/1385211/000113705011000233/0001137050-11-000233-index.htm'}\n",
      "2700 2011 2 {'page_url': 'ftp://ftp.sec.gov/edgar/data/1098881/000109888111000008/caly6301110qadoc.htm', 'local_name': None, 'blob_id': '193084_section270', 'accession_id': 2595, 'received_date': '2011-09-15', 'description': 'U.S. Rare Earths, Inc (UREE)', 'fiscal_year': 2011, 'entity_id': 1141, 'sec_filing_id': 193084, 'fiscal_period': '2Q', 'fact_id': 0, 'is_detail': False, 'network_id': 0, 'filing_date': '2011-09-15', 'footnote_type_title': 'Additional 10-K and 10-Q Sections', 'ticker': 'UREE', 'guide_link': None, 'footnote_type': 2700, 'entity_name': 'U.S. Rare Earths, Inc', 'document_type': '10-Q/A', 'SEC_URL': 'http://www.sec.gov/Archives/edgar/data/1098881/000109888111000008/0001098881-11-000008-index.htm'}\n",
      "2700 2011 2 {'page_url': 'ftp://ftp.sec.gov/edgar/data/1432939/000152745811000005/credexq22011_10qz.htm', 'local_name': None, 'blob_id': '197357_section270', 'accession_id': 6868, 'received_date': '2011-09-09', 'description': 'Credex Corp (CRDXE)', 'fiscal_year': 2011, 'entity_id': 3664, 'sec_filing_id': 197357, 'fiscal_period': '2Q', 'fact_id': 0, 'is_detail': False, 'network_id': 0, 'filing_date': '2011-09-09', 'footnote_type_title': 'Additional 10-K and 10-Q Sections', 'ticker': 'CRDXE', 'guide_link': None, 'footnote_type': 2700, 'entity_name': 'Credex Corp', 'document_type': '10-Q/A', 'SEC_URL': 'http://www.sec.gov/Archives/edgar/data/1432939/000152745811000005/0001527458-11-000005-index.htm'}\n",
      "2700 2011 2 {'page_url': 'ftp://ftp.sec.gov/edgar/data/1201135/000120113511000014/creditone10q06302011.htm', 'local_name': None, 'blob_id': '194518_section270', 'accession_id': 4029, 'received_date': '2011-08-17', 'description': 'Credit One Financial Inc (COFI)', 'fiscal_year': 2011, 'entity_id': 1841, 'sec_filing_id': 194518, 'fiscal_period': '2Q', 'fact_id': 0, 'is_detail': False, 'network_id': 0, 'filing_date': '2011-08-17', 'footnote_type_title': 'Additional 10-K and 10-Q Sections', 'ticker': 'COFI', 'guide_link': None, 'footnote_type': 2700, 'entity_name': 'Credit One Financial Inc', 'document_type': '10-Q/A', 'SEC_URL': 'http://www.sec.gov/Archives/edgar/data/1201135/000120113511000014/0001201135-11-000014-index.htm'}\n",
      "2700 2011 2 {'page_url': 'ftp://ftp.sec.gov/edgar/data/1368568/000136856811000031/dalian10qjun11_10q.htm', 'local_name': None, 'blob_id': '196253_section270', 'accession_id': 5764, 'received_date': '2011-09-14', 'description': 'Dalian Capital Group, Inc. (DALC)', 'fiscal_year': 2011, 'entity_id': 2863, 'sec_filing_id': 196253, 'fiscal_period': '2Q', 'fact_id': 0, 'is_detail': False, 'network_id': 0, 'filing_date': '2011-09-14', 'footnote_type_title': 'Additional 10-K and 10-Q Sections', 'ticker': 'DALC', 'guide_link': None, 'footnote_type': 2700, 'entity_name': 'Dalian Capital Group, Inc.', 'document_type': '10-Q', 'SEC_URL': 'http://www.sec.gov/Archives/edgar/data/1368568/000136856811000031/0001368568-11-000031-index.htm'}\n",
      "2700 2011 2 {'page_url': 'ftp://ftp.sec.gov/edgar/data/1311546/000113705011000199/derby_form10q6302011final.htm', 'local_name': None, 'blob_id': '195384_section270', 'accession_id': 4895, 'received_date': '2011-08-12', 'description': 'Xtraplan, Inc. (DRBY)', 'fiscal_year': 2011, 'entity_id': 2338, 'sec_filing_id': 195384, 'fiscal_period': '2Q', 'fact_id': 0, 'is_detail': False, 'network_id': 0, 'filing_date': '2011-08-12', 'footnote_type_title': 'Additional 10-K and 10-Q Sections', 'ticker': 'DRBY', 'guide_link': None, 'footnote_type': 2700, 'entity_name': 'Xtraplan, Inc.', 'document_type': '10-Q', 'SEC_URL': 'http://www.sec.gov/Archives/edgar/data/1311546/000113705011000199/0001137050-11-000199-index.htm'}\n",
      "2700 2011 2 {'page_url': 'ftp://ftp.sec.gov/edgar/data/1441551/000113705011000265/dnas10q_finalclean.htm', 'local_name': None, 'blob_id': '197482_section270', 'accession_id': 6993, 'received_date': '2011-09-12', 'description': 'Dna Systems, Inc. (DNAS)', 'fiscal_year': 2012, 'entity_id': 3779, 'sec_filing_id': 197482, 'fiscal_period': '1Q', 'fact_id': 0, 'is_detail': False, 'network_id': 0, 'filing_date': '2011-09-12', 'footnote_type_title': 'Additional 10-K and 10-Q Sections', 'ticker': 'DNAS', 'guide_link': None, 'footnote_type': 2700, 'entity_name': 'Dna Systems, Inc.', 'document_type': '10-Q', 'SEC_URL': 'http://www.sec.gov/Archives/edgar/data/1441551/000113705011000265/0001137050-11-000265-index.htm'}\n",
      "2700 2011 2 {'page_url': 'ftp://ftp.sec.gov/edgar/data/318835/000076458611000006/dsi006q211.htm', 'local_name': None, 'blob_id': '199259_section270', 'accession_id': 8770, 'received_date': '2011-08-22', 'description': 'Dsi Realty Income Fund Vi (DSI006)', 'fiscal_year': 2011, 'entity_id': 4782, 'sec_filing_id': 199259, 'fiscal_period': '2Q', 'fact_id': 0, 'is_detail': False, 'network_id': 0, 'filing_date': '2011-08-22', 'footnote_type_title': 'Additional 10-K and 10-Q Sections', 'ticker': 'DSI006', 'guide_link': None, 'footnote_type': 2700, 'entity_name': 'Dsi Realty Income Fund Vi', 'document_type': '10-Q', 'SEC_URL': 'http://www.sec.gov/Archives/edgar/data/318835/000076458611000006/0000764586-11-000006-index.htm'}\n"
     ]
    },
    {
     "name": "stdout",
     "output_type": "stream",
     "text": [
      "2700 2011 2 {'page_url': 'ftp://ftp.sec.gov/edgar/data/1099574/000109957411000006/f10qajune2011xbrl.htm', 'local_name': None, 'blob_id': '193113_section270', 'accession_id': 2624, 'received_date': '2011-09-15', 'description': 'Eastgate Biotech Corp (ETBI)', 'fiscal_year': 2011, 'entity_id': 1153, 'sec_filing_id': 193113, 'fiscal_period': '2Q', 'fact_id': 0, 'is_detail': False, 'network_id': 0, 'filing_date': '2011-09-15', 'footnote_type_title': 'Additional 10-K and 10-Q Sections', 'ticker': 'ETBI', 'guide_link': None, 'footnote_type': 2700, 'entity_name': 'Eastgate Biotech Corp', 'document_type': '10-Q/A', 'SEC_URL': 'http://www.sec.gov/Archives/edgar/data/1099574/000109957411000006/0001099574-11-000006-index.htm'}\n",
      "2700 2011 2 {'page_url': 'ftp://ftp.sec.gov/edgar/data/1095133/000109513311000027/isa3qtr201110qver75.htm', 'local_name': None, 'blob_id': '192993_section270', 'accession_id': 2504, 'received_date': '2011-09-15', 'description': 'Isa Internationale Inc (ISATOB)', 'fiscal_year': 2011, 'entity_id': 1087, 'sec_filing_id': 192993, 'fiscal_period': '3Q', 'fact_id': 0, 'is_detail': False, 'network_id': 0, 'filing_date': '2011-09-15', 'footnote_type_title': 'Additional 10-K and 10-Q Sections', 'ticker': 'ISATOB', 'guide_link': None, 'footnote_type': 2700, 'entity_name': 'Isa Internationale Inc', 'document_type': '10-Q/A', 'SEC_URL': 'http://www.sec.gov/Archives/edgar/data/1095133/000109513311000027/0001095133-11-000027-index.htm'}\n",
      "2700 2011 2 {'page_url': 'ftp://ftp.sec.gov/edgar/data/1104265/000101041211000432/lighttouchform10qjune11.htm', 'local_name': None, 'blob_id': '193232_section270', 'accession_id': 2743, 'received_date': '2011-08-12', 'description': 'Grow Solutions Holdings, Inc. (LTVL)', 'fiscal_year': 2011, 'entity_id': 1218, 'sec_filing_id': 193232, 'fiscal_period': '2Q', 'fact_id': 0, 'is_detail': False, 'network_id': 0, 'filing_date': '2011-08-12', 'footnote_type_title': 'Additional 10-K and 10-Q Sections', 'ticker': 'LTVL', 'guide_link': None, 'footnote_type': 2700, 'entity_name': 'Grow Solutions Holdings, Inc.', 'document_type': '10-Q', 'SEC_URL': 'http://www.sec.gov/Archives/edgar/data/1104265/000101041211000432/0001010412-11-000432-index.htm'}\n",
      "2700 2011 2 {'page_url': 'ftp://ftp.sec.gov/edgar/data/1112551/000113705011000204/merci_form10qa6302011final.htm', 'local_name': None, 'blob_id': '193387_section270', 'accession_id': 2898, 'received_date': '2011-08-12', 'description': 'Merci Inc (MRCI)', 'fiscal_year': 2011, 'entity_id': 1295, 'sec_filing_id': 193387, 'fiscal_period': '2Q', 'fact_id': 0, 'is_detail': False, 'network_id': 0, 'filing_date': '2011-08-12', 'footnote_type_title': 'Additional 10-K and 10-Q Sections', 'ticker': 'MRCI', 'guide_link': None, 'footnote_type': 2700, 'entity_name': 'Merci Inc', 'document_type': '10-Q/A', 'SEC_URL': 'http://www.sec.gov/Archives/edgar/data/1112551/000113705011000204/0001137050-11-000204-index.htm'}\n",
      "2700 2011 2 {'page_url': 'ftp://ftp.sec.gov/edgar/data/1100734/000101041211000401/merilusform10qjune11.htm', 'local_name': None, 'blob_id': '193140_section270', 'accession_id': 2651, 'received_date': '2011-08-09', 'description': 'Kingsmen Capital Group, Ltd (ZNDX)', 'fiscal_year': 2011, 'entity_id': 1168, 'sec_filing_id': 193140, 'fiscal_period': '2Q', 'fact_id': 0, 'is_detail': False, 'network_id': 0, 'filing_date': '2011-08-09', 'footnote_type_title': 'Additional 10-K and 10-Q Sections', 'ticker': 'ZNDX', 'guide_link': None, 'footnote_type': 2700, 'entity_name': 'Kingsmen Capital Group, Ltd', 'document_type': '10-Q', 'SEC_URL': 'http://www.sec.gov/Archives/edgar/data/1100734/000101041211000401/0001010412-11-000401-index.htm'}\n",
      "2700 2011 2 {'page_url': 'ftp://ftp.sec.gov/edgar/data/1104672/000121152411000195/qjune2011final.htm', 'local_name': None, 'blob_id': '193246_section270', 'accession_id': 2757, 'received_date': '2011-08-26', 'description': 'Park Vida Group, Inc. (PRKV)', 'fiscal_year': 2011, 'entity_id': 1225, 'sec_filing_id': 193246, 'fiscal_period': '2Q', 'fact_id': 0, 'is_detail': False, 'network_id': 0, 'filing_date': '2011-08-26', 'footnote_type_title': 'Additional 10-K and 10-Q Sections', 'ticker': 'PRKV', 'guide_link': None, 'footnote_type': 2700, 'entity_name': 'Park Vida Group, Inc.', 'document_type': '10-Q/A', 'SEC_URL': 'http://www.sec.gov/Archives/edgar/data/1104672/000121152411000195/0001211524-11-000195-index.htm'}\n",
      "2700 2011 2 {'page_url': 'ftp://ftp.sec.gov/edgar/data/1302365/000113705011000196/ourglass_form10q6302011final.htm', 'local_name': None, 'blob_id': '195269_section270', 'accession_id': 4780, 'received_date': '2011-08-12', 'description': 'Our Glass, Inc. (CIK0001302365)', 'fiscal_year': 2011, 'entity_id': 2264, 'sec_filing_id': 195269, 'fiscal_period': '2Q', 'fact_id': 0, 'is_detail': False, 'network_id': 0, 'filing_date': '2011-08-12', 'footnote_type_title': 'Additional 10-K and 10-Q Sections', 'ticker': 'CIK0001302365', 'guide_link': None, 'footnote_type': 2700, 'entity_name': 'Our Glass, Inc.', 'document_type': '10-Q', 'SEC_URL': 'http://www.sec.gov/Archives/edgar/data/1302365/000113705011000196/0001137050-11-000196-index.htm'}\n",
      "2700 2011 2 {'page_url': 'ftp://ftp.sec.gov/edgar/data/1027235/000101041211000390/piranhaform10qjune115.htm', 'local_name': None, 'blob_id': '191199_section270', 'accession_id': 710, 'received_date': '2011-08-05', 'description': 'Asia Travel Corp (PNHVD)', 'fiscal_year': 2011, 'entity_id': 304, 'sec_filing_id': 191199, 'fiscal_period': '2Q', 'fact_id': 0, 'is_detail': False, 'network_id': 0, 'filing_date': '2011-08-05', 'footnote_type_title': 'Additional 10-K and 10-Q Sections', 'ticker': 'PNHVD', 'guide_link': None, 'footnote_type': 2700, 'entity_name': 'Asia Travel Corp', 'document_type': '10-Q', 'SEC_URL': 'http://www.sec.gov/Archives/edgar/data/1027235/000101041211000390/0001010412-11-000390-index.htm'}\n",
      "2700 2011 2 {'page_url': 'ftp://ftp.sec.gov/edgar/data/78838/000007883811000036/pw2011q210qv2.htm', 'local_name': None, 'blob_id': '201970_section270', 'accession_id': 11482, 'received_date': '2011-08-12', 'description': 'Pittsburgh & West Virginia Railroad (CIK0000078838)', 'fiscal_year': 2011, 'entity_id': 5710, 'sec_filing_id': 201970, 'fiscal_period': '2Q', 'fact_id': 0, 'is_detail': False, 'network_id': 0, 'filing_date': '2011-08-12', 'footnote_type_title': 'Additional 10-K and 10-Q Sections', 'ticker': 'CIK0000078838', 'guide_link': None, 'footnote_type': 2700, 'entity_name': 'Pittsburgh & West Virginia Railroad', 'document_type': '10-Q', 'SEC_URL': 'http://www.sec.gov/Archives/edgar/data/78838/000007883811000036/0000078838-11-000036-index.htm'}\n",
      "2700 2011 2 {'page_url': 'ftp://ftp.sec.gov/edgar/data/790179/000102317511000433/f10qv2edgar.htm', 'local_name': None, 'blob_id': '202034_section270', 'accession_id': 11546, 'received_date': '2011-08-11', 'description': 'Prestige Capital Corp (PGEC)', 'fiscal_year': 2011, 'entity_id': 5732, 'sec_filing_id': 202034, 'fiscal_period': '2Q', 'fact_id': 0, 'is_detail': False, 'network_id': 0, 'filing_date': '2011-08-11', 'footnote_type_title': 'Additional 10-K and 10-Q Sections', 'ticker': 'PGEC', 'guide_link': None, 'footnote_type': 2700, 'entity_name': 'Prestige Capital Corp', 'document_type': '10-Q/A', 'SEC_URL': 'http://www.sec.gov/Archives/edgar/data/790179/000102317511000433/0001023175-11-000433-index.htm'}\n",
      "2700 2011 2 {'page_url': 'ftp://ftp.sec.gov/edgar/data/1333614/000137216711000039/razor10qajuly31.htm', 'local_name': None, 'blob_id': '195728_section270', 'accession_id': 5239, 'received_date': '2011-10-06', 'description': 'You Han Data Tech Co Ltd. (RZOR)', 'fiscal_year': 2011, 'entity_id': 2532, 'sec_filing_id': 195728, 'fiscal_period': '1Q', 'fact_id': 0, 'is_detail': False, 'network_id': 0, 'filing_date': '2011-10-06', 'footnote_type_title': 'Additional 10-K and 10-Q Sections', 'ticker': 'RZOR', 'guide_link': None, 'footnote_type': 2700, 'entity_name': 'You Han Data Tech Co Ltd.', 'document_type': '10-Q/A', 'SEC_URL': 'http://www.sec.gov/Archives/edgar/data/1333614/000137216711000039/0001372167-11-000039-index.htm'}\n"
     ]
    },
    {
     "name": "stdout",
     "output_type": "stream",
     "text": [
      "2700 2011 2 {'page_url': 'ftp://ftp.sec.gov/edgar/data/1103090/000101041211000453/f10qq211v7.htm', 'local_name': None, 'blob_id': '193202_section270', 'accession_id': 2713, 'received_date': '2011-08-15', 'description': 'Reflect Scientific Inc (RSCF)', 'fiscal_year': 2011, 'entity_id': 1202, 'sec_filing_id': 193202, 'fiscal_period': '2Q', 'fact_id': 0, 'is_detail': False, 'network_id': 0, 'filing_date': '2011-08-15', 'footnote_type_title': 'Additional 10-K and 10-Q Sections', 'ticker': 'RSCF', 'guide_link': None, 'footnote_type': 2700, 'entity_name': 'Reflect Scientific Inc', 'document_type': '10-Q', 'SEC_URL': 'http://www.sec.gov/Archives/edgar/data/1103090/000101041211000453/0001010412-11-000453-index.htm'}\n",
      "2700 2011 2 {'page_url': 'ftp://ftp.sec.gov/edgar/data/1419559/000101041211000443/rtform10qjune11maryschanges.htm', 'local_name': None, 'blob_id': '197144_section270', 'accession_id': 6655, 'received_date': '2011-08-15', 'description': 'CAM Group, Inc. (CAMG)', 'fiscal_year': 2011, 'entity_id': 3503, 'sec_filing_id': 197144, 'fiscal_period': '2Q', 'fact_id': 0, 'is_detail': False, 'network_id': 0, 'filing_date': '2011-08-15', 'footnote_type_title': 'Additional 10-K and 10-Q Sections', 'ticker': 'CAMG', 'guide_link': None, 'footnote_type': 2700, 'entity_name': 'CAM Group, Inc.', 'document_type': '10-Q', 'SEC_URL': 'http://www.sec.gov/Archives/edgar/data/1419559/000101041211000443/0001010412-11-000443-index.htm'}\n",
      "2700 2011 2 {'page_url': 'ftp://ftp.sec.gov/edgar/data/1276531/000127653111000012/scientificenergy10q06302011.htm', 'local_name': None, 'blob_id': '194910_section270', 'accession_id': 4421, 'received_date': '2011-08-11', 'description': 'Scientific Energy Inc (SCGY)', 'fiscal_year': 2011, 'entity_id': 2060, 'sec_filing_id': 194910, 'fiscal_period': '2Q', 'fact_id': 0, 'is_detail': False, 'network_id': 0, 'filing_date': '2011-08-11', 'footnote_type_title': 'Additional 10-K and 10-Q Sections', 'ticker': 'SCGY', 'guide_link': None, 'footnote_type': 2700, 'entity_name': 'Scientific Energy Inc', 'document_type': '10-Q/A', 'SEC_URL': 'http://www.sec.gov/Archives/edgar/data/1276531/000127653111000012/0001276531-11-000012-index.htm'}\n",
      "2700 2011 2 {'page_url': 'ftp://ftp.sec.gov/edgar/data/1310630/000101041211000420/trafalgar10qjune11.htm', 'local_name': None, 'blob_id': '195373_section270', 'accession_id': 4884, 'received_date': '2011-08-11', 'description': 'Trafalgar Resources, Inc. (TFLG)', 'fiscal_year': 2011, 'entity_id': 2331, 'sec_filing_id': 195373, 'fiscal_period': '3Q', 'fact_id': 0, 'is_detail': False, 'network_id': 0, 'filing_date': '2011-08-11', 'footnote_type_title': 'Additional 10-K and 10-Q Sections', 'ticker': 'TFLG', 'guide_link': None, 'footnote_type': 2700, 'entity_name': 'Trafalgar Resources, Inc.', 'document_type': '10-Q', 'SEC_URL': 'http://www.sec.gov/Archives/edgar/data/1310630/000101041211000420/0001010412-11-000420-index.htm'}\n",
      "2700 2011 2 {'page_url': 'ftp://ftp.sec.gov/edgar/data/1111468/000113705011000200/tranquility_form10q6302011fi.htm', 'local_name': None, 'blob_id': '193372_section270', 'accession_id': 2883, 'received_date': '2011-08-12', 'description': 'Tranquility Inc (CIK0001111468)', 'fiscal_year': 2011, 'entity_id': 1284, 'sec_filing_id': 193372, 'fiscal_period': '2Q', 'fact_id': 0, 'is_detail': False, 'network_id': 0, 'filing_date': '2011-08-12', 'footnote_type_title': 'Additional 10-K and 10-Q Sections', 'ticker': 'CIK0001111468', 'guide_link': None, 'footnote_type': 2700, 'entity_name': 'Tranquility Inc', 'document_type': '10-Q', 'SEC_URL': 'http://www.sec.gov/Archives/edgar/data/1111468/000113705011000200/0001137050-11-000200-index.htm'}\n",
      "2700 2011 2 {'page_url': 'ftp://ftp.sec.gov/edgar/data/1442101/000100233411000346/j11q.htm', 'local_name': None, 'blob_id': '197491_section270', 'accession_id': 7002, 'received_date': '2011-08-17', 'description': 'Western Lucrative Enterprises, Inc. (WLUC)', 'fiscal_year': 2011, 'entity_id': 3786, 'sec_filing_id': 197491, 'fiscal_period': '2Q', 'fact_id': 0, 'is_detail': False, 'network_id': 0, 'filing_date': '2011-08-17', 'footnote_type_title': 'Additional 10-K and 10-Q Sections', 'ticker': 'WLUC', 'guide_link': None, 'footnote_type': 2700, 'entity_name': 'Western Lucrative Enterprises, Inc.', 'document_type': '10-Q', 'SEC_URL': 'http://www.sec.gov/Archives/edgar/data/1442101/000100233411000346/0001002334-11-000346-index.htm'}\n",
      "2700 2011 2 {'page_url': 'ftp://ftp.sec.gov/edgar/data/1099568/000109956811000005/f10qajune2011.htm', 'local_name': None, 'blob_id': '193112_section270', 'accession_id': 2623, 'received_date': '2011-09-15', 'description': 'Westgate Acquisitions Corp (WESTG)', 'fiscal_year': 2011, 'entity_id': 1152, 'sec_filing_id': 193112, 'fiscal_period': '2Q', 'fact_id': 0, 'is_detail': False, 'network_id': 0, 'filing_date': '2011-09-15', 'footnote_type_title': 'Additional 10-K and 10-Q Sections', 'ticker': 'WESTG', 'guide_link': None, 'footnote_type': 2700, 'entity_name': 'Westgate Acquisitions Corp', 'document_type': '10-Q/A', 'SEC_URL': 'http://www.sec.gov/Archives/edgar/data/1099568/000109956811000005/0001099568-11-000005-index.htm'}\n"
     ]
    },
    {
     "data": {
      "application/vnd.jupyter.widget-view+json": {
       "model_id": "8aa4b0eac4f84f5589376ae3f70dcac1"
      }
     },
     "metadata": {},
     "output_type": "display_data"
    },
    {
     "name": "stdout",
     "output_type": "stream",
     "text": [
      "2700 2011 3 {'page_url': 'ftp://ftp.sec.gov/edgar/data/1360752/000151116411000086/successexploration10qrevised.htm', 'local_name': None, 'blob_id': '196096_section270', 'accession_id': 5607, 'received_date': '2011-10-14', 'description': 'FileWarden.com (SEAR)', 'fiscal_year': 2012, 'entity_id': 2769, 'sec_filing_id': 196096, 'fiscal_period': '1Q', 'fact_id': 0, 'is_detail': False, 'network_id': 0, 'filing_date': '2011-10-14', 'footnote_type_title': 'Additional 10-K and 10-Q Sections', 'ticker': 'SEAR', 'guide_link': None, 'footnote_type': 2700, 'entity_name': 'FileWarden.com', 'document_type': '10-Q', 'SEC_URL': 'http://www.sec.gov/Archives/edgar/data/1360752/000151116411000086/0001511164-11-000086-index.htm'}\n",
      "2700 2011 3 {'page_url': 'ftp://ftp.sec.gov/edgar/data/1510961/000148725211000074/ucv1septq.htm', 'local_name': None, 'blob_id': '198255_section270', 'accession_id': 7766, 'received_date': '2011-10-07', 'description': 'USChina Venture I Inc (CIK0001510961)', 'fiscal_year': 2011, 'entity_id': 4437, 'sec_filing_id': 198255, 'fiscal_period': '3Q', 'fact_id': 0, 'is_detail': False, 'network_id': 0, 'filing_date': '2011-10-07', 'footnote_type_title': 'Additional 10-K and 10-Q Sections', 'ticker': 'CIK0001510961', 'guide_link': None, 'footnote_type': 2700, 'entity_name': 'USChina Venture I Inc', 'document_type': '10-Q', 'SEC_URL': 'http://www.sec.gov/Archives/edgar/data/1510961/000148725211000074/0001487252-11-000074-index.htm'}\n",
      "2700 2011 3 {'page_url': 'ftp://ftp.sec.gov/edgar/data/1510962/000148725211000078/ucv1septq.htm', 'local_name': None, 'blob_id': '198257_section270', 'accession_id': 7768, 'received_date': '2011-10-07', 'description': 'USChina Venture II Inc (CIK0001510962)', 'fiscal_year': 2011, 'entity_id': 4438, 'sec_filing_id': 198257, 'fiscal_period': '3Q', 'fact_id': 0, 'is_detail': False, 'network_id': 0, 'filing_date': '2011-10-07', 'footnote_type_title': 'Additional 10-K and 10-Q Sections', 'ticker': 'CIK0001510962', 'guide_link': None, 'footnote_type': 2700, 'entity_name': 'USChina Venture II Inc', 'document_type': '10-Q', 'SEC_URL': 'http://www.sec.gov/Archives/edgar/data/1510962/000148725211000078/0001487252-11-000078-index.htm'}\n"
     ]
    },
    {
     "data": {
      "application/vnd.jupyter.widget-view+json": {
       "model_id": "55ffbeba94eb4b28931091df1d35d010"
      }
     },
     "metadata": {},
     "output_type": "display_data"
    },
    {
     "data": {
      "application/vnd.jupyter.widget-view+json": {
       "model_id": "909c39e287244864b854a71cfbbc3ab0"
      }
     },
     "metadata": {},
     "output_type": "display_data"
    },
    {
     "data": {
      "application/vnd.jupyter.widget-view+json": {
       "model_id": "3f8cb547f5294a19a2cba03f2f170903"
      }
     },
     "metadata": {},
     "output_type": "display_data"
    },
    {
     "data": {
      "application/vnd.jupyter.widget-view+json": {
       "model_id": "b1bd7fb12cde4e1b9cae94fa6e6ea407"
      }
     },
     "metadata": {},
     "output_type": "display_data"
    },
    {
     "data": {
      "application/vnd.jupyter.widget-view+json": {
       "model_id": "556e3a124fc94ebfa944134afd3ff5bd"
      }
     },
     "metadata": {},
     "output_type": "display_data"
    },
    {
     "data": {
      "application/vnd.jupyter.widget-view+json": {
       "model_id": "6652f5fdfc4e431c930e1460fe7cc993"
      }
     },
     "metadata": {},
     "output_type": "display_data"
    },
    {
     "data": {
      "application/vnd.jupyter.widget-view+json": {
       "model_id": "ccbc549b246d4321a1c0f32991582c24"
      }
     },
     "metadata": {},
     "output_type": "display_data"
    },
    {
     "data": {
      "application/vnd.jupyter.widget-view+json": {
       "model_id": "d314331b888a46248ec082022b88f542"
      }
     },
     "metadata": {},
     "output_type": "display_data"
    },
    {
     "data": {
      "application/vnd.jupyter.widget-view+json": {
       "model_id": "e5ed9d8cb5914b03b8d9b5be3bdcdcba"
      }
     },
     "metadata": {},
     "output_type": "display_data"
    },
    {
     "name": "stdout",
     "output_type": "stream",
     "text": [
      "2700 2014 0 {'page_url': 'ftp://ftp.sec.gov/edgar/data/718413/000135448815001322/cmtv_10k.htm', 'local_name': None, 'blob_id': '315305_section270', 'accession_id': 125617, 'received_date': '2015-03-24', 'description': 'Community Bancorp /VT (CMTV)', 'fiscal_year': 2014, 'entity_id': 5298, 'sec_filing_id': 315305, 'fiscal_period': 'Y', 'fact_id': 0, 'is_detail': False, 'network_id': 0, 'filing_date': '2015-03-24', 'footnote_type_title': 'Additional 10-K and 10-Q Sections', 'ticker': 'CMTV', 'guide_link': None, 'footnote_type': 2700, 'entity_name': 'Community Bancorp /VT', 'document_type': '10-K', 'SEC_URL': 'http://www.sec.gov/Archives/edgar/data/718413/000135448815001322/0001354488-15-001322-index.htm'}\n",
      "2700 2014 0 {'page_url': 'ftp://ftp.sec.gov/edgar/data/894671/000089467115000009/sec10k123114.htm', 'local_name': None, 'blob_id': '314596_section270', 'accession_id': 124908, 'received_date': '2015-03-16', 'description': 'Ohio Valley Banc Corp (OVBC)', 'fiscal_year': 2014, 'entity_id': 6619, 'sec_filing_id': 314596, 'fiscal_period': 'Y', 'fact_id': 0, 'is_detail': False, 'network_id': 0, 'filing_date': '2015-03-16', 'footnote_type_title': 'Additional 10-K and 10-Q Sections', 'ticker': 'OVBC', 'guide_link': None, 'footnote_type': 2700, 'entity_name': 'Ohio Valley Banc Corp', 'document_type': '10-K', 'SEC_URL': 'http://www.sec.gov/Archives/edgar/data/894671/000089467115000009/0000894671-15-000009-index.htm'}\n",
      "2700 2014 0 {'page_url': 'ftp://ftp.sec.gov/edgar/data/1485001/000148500115000007/onfc-12312014x10k.htm', 'local_name': None, 'blob_id': '315351_section270', 'accession_id': 125663, 'received_date': '2015-03-25', 'description': 'Oneida Financial Corp. (ONFC)', 'fiscal_year': 2014, 'entity_id': 4132, 'sec_filing_id': 315351, 'fiscal_period': 'Y', 'fact_id': 0, 'is_detail': False, 'network_id': 0, 'filing_date': '2015-03-25', 'footnote_type_title': 'Additional 10-K and 10-Q Sections', 'ticker': 'ONFC', 'guide_link': None, 'footnote_type': 2700, 'entity_name': 'Oneida Financial Corp.', 'document_type': '10-K', 'SEC_URL': 'http://www.sec.gov/Archives/edgar/data/1485001/000148500115000007/0001485001-15-000007-index.htm'}\n"
     ]
    },
    {
     "data": {
      "application/vnd.jupyter.widget-view+json": {
       "model_id": "48f7e26704264b148018e2bda8416767"
      }
     },
     "metadata": {},
     "output_type": "display_data"
    },
    {
     "data": {
      "application/vnd.jupyter.widget-view+json": {
       "model_id": "b4a0b8a25777475ca75e0cd9cf9dc12f"
      }
     },
     "metadata": {},
     "output_type": "display_data"
    },
    {
     "data": {
      "application/vnd.jupyter.widget-view+json": {
       "model_id": "228004174c034cbaa10a92b06e33182b"
      }
     },
     "metadata": {},
     "output_type": "display_data"
    },
    {
     "data": {
      "application/vnd.jupyter.widget-view+json": {
       "model_id": "d4fc4c4ce74a4fb29c0074fc80b0bb18"
      }
     },
     "metadata": {},
     "output_type": "display_data"
    },
    {
     "name": "stdout",
     "output_type": "stream",
     "text": [
      "2700 2015 0 {'page_url': 'ftp://ftp.sec.gov/edgar/data/880417/000119312516516446/d110462d10k.htm', 'local_name': None, 'blob_id': '347310_section270', 'accession_id': 155261, 'received_date': '2016-03-24', 'description': 'Csb Bancorp Inc /OH (CSBB)', 'fiscal_year': 2015, 'entity_id': 6420, 'sec_filing_id': 347310, 'fiscal_period': 'Y', 'fact_id': 0, 'is_detail': False, 'network_id': 0, 'filing_date': '2016-03-24', 'footnote_type_title': 'Additional 10-K and 10-Q Sections', 'ticker': 'CSBB', 'guide_link': None, 'footnote_type': 2700, 'entity_name': 'Csb Bancorp Inc /OH', 'document_type': '10-K', 'SEC_URL': 'http://www.sec.gov/Archives/edgar/data/880417/000119312516516446/0001193125-16-516446-index.htm'}\n"
     ]
    },
    {
     "data": {
      "application/vnd.jupyter.widget-view+json": {
       "model_id": "f38965b3a51d4d1987eacd89de464859"
      }
     },
     "metadata": {},
     "output_type": "display_data"
    },
    {
     "data": {
      "application/vnd.jupyter.widget-view+json": {
       "model_id": "d4b27a9a09ce44c791e28deab279a7ab"
      }
     },
     "metadata": {},
     "output_type": "display_data"
    },
    {
     "data": {
      "application/vnd.jupyter.widget-view+json": {
       "model_id": "bcad10c57cf84cb99ec0fcf6820ed500"
      }
     },
     "metadata": {},
     "output_type": "display_data"
    },
    {
     "data": {
      "application/vnd.jupyter.widget-view+json": {
       "model_id": "0209eb038ae0422abeac31cae020346d"
      }
     },
     "metadata": {},
     "output_type": "display_data"
    },
    {
     "data": {
      "application/vnd.jupyter.widget-view+json": {
       "model_id": "7830c3261c37468e991388e972bd1000"
      }
     },
     "metadata": {},
     "output_type": "display_data"
    },
    {
     "data": {
      "application/vnd.jupyter.widget-view+json": {
       "model_id": "a8cc443fac0b4a0faac044164a3ba75b"
      }
     },
     "metadata": {},
     "output_type": "display_data"
    },
    {
     "name": "stdout",
     "output_type": "stream",
     "text": [
      "2700 2016 2 {'page_url': 'ftp://ftp.sec.gov/edgar/data/1472595/000147259516000220/june302016-form10q.htm', 'local_name': None, 'blob_id': '607039_section270', 'accession_id': 165832, 'received_date': '2016-08-04', 'description': 'R1 Rcm Inc. (ACHI)', 'fiscal_year': 2016, 'entity_id': 4024, 'sec_filing_id': 607039, 'fiscal_period': '2Q', 'fact_id': 0, 'is_detail': False, 'network_id': 0, 'filing_date': '2016-08-04', 'footnote_type_title': 'Additional 10-K and 10-Q Sections', 'ticker': 'ACHI', 'guide_link': None, 'footnote_type': 2700, 'entity_name': 'R1 Rcm Inc.', 'document_type': '10-Q', 'SEC_URL': 'http://www.sec.gov/Archives/edgar/data/1472595/000147259516000220/0001472595-16-000220-index.htm'}\n",
      "2700 2016 2 {'page_url': 'ftp://ftp.sec.gov/edgar/data/7789/000000778916000069/asb0630201610q.htm', 'local_name': None, 'blob_id': '603524_section270', 'accession_id': 164658, 'received_date': '2016-07-28', 'description': 'Associated Banc-Corp (ASB)', 'fiscal_year': 2016, 'entity_id': 5663, 'sec_filing_id': 603524, 'fiscal_period': '2Q', 'fact_id': 0, 'is_detail': False, 'network_id': 0, 'filing_date': '2016-07-28', 'footnote_type_title': 'Additional 10-K and 10-Q Sections', 'ticker': 'ASB', 'guide_link': None, 'footnote_type': 2700, 'entity_name': 'Associated Banc-Corp', 'document_type': '10-Q', 'SEC_URL': 'http://www.sec.gov/Archives/edgar/data/7789/000000778916000069/0000007789-16-000069-index.htm'}\n",
      "2700 2016 2 {'page_url': 'ftp://ftp.sec.gov/edgar/data/702513/000143774916036550/boch20160630_10q.htm', 'local_name': None, 'blob_id': '608096_section270', 'accession_id': 166230, 'received_date': '2016-08-05', 'description': 'Bank of Commerce Holdings (BOCH)', 'fiscal_year': 2016, 'entity_id': 5180, 'sec_filing_id': 608096, 'fiscal_period': '2Q', 'fact_id': 0, 'is_detail': False, 'network_id': 0, 'filing_date': '2016-08-05', 'footnote_type_title': 'Additional 10-K and 10-Q Sections', 'ticker': 'BOCH', 'guide_link': None, 'footnote_type': 2700, 'entity_name': 'Bank of Commerce Holdings', 'document_type': '10-Q', 'SEC_URL': 'http://www.sec.gov/Archives/edgar/data/702513/000143774916036550/0001437749-16-036550-index.htm'}\n",
      "2700 2016 2 {'page_url': 'ftp://ftp.sec.gov/edgar/data/902791/000119312516676902/d221905d10q.htm', 'local_name': None, 'blob_id': '610294_section270', 'accession_id': 167588, 'received_date': '2016-08-09', 'description': 'Barrett Business Services Inc (BBSI)', 'fiscal_year': 2016, 'entity_id': 6690, 'sec_filing_id': 610294, 'fiscal_period': '2Q', 'fact_id': 0, 'is_detail': False, 'network_id': 0, 'filing_date': '2016-08-09', 'footnote_type_title': 'Additional 10-K and 10-Q Sections', 'ticker': 'BBSI', 'guide_link': None, 'footnote_type': 2700, 'entity_name': 'Barrett Business Services Inc', 'document_type': '10-Q', 'SEC_URL': 'http://www.sec.gov/Archives/edgar/data/902791/000119312516676902/0001193125-16-676902-index.htm'}\n",
      "2700 2016 2 {'page_url': 'ftp://ftp.sec.gov/edgar/data/1075706/000119312516676113/d215574d10q.htm', 'local_name': None, 'blob_id': '609654_section270', 'accession_id': 167121, 'received_date': '2016-08-09', 'description': 'Citizens Holding Co /MS/ (CIZN)', 'fiscal_year': 2016, 'entity_id': 839, 'sec_filing_id': 609654, 'fiscal_period': '2Q', 'fact_id': 0, 'is_detail': False, 'network_id': 0, 'filing_date': '2016-08-09', 'footnote_type_title': 'Additional 10-K and 10-Q Sections', 'ticker': 'CIZN', 'guide_link': None, 'footnote_type': 2700, 'entity_name': 'Citizens Holding Co /MS/', 'document_type': '10-Q', 'SEC_URL': 'http://www.sec.gov/Archives/edgar/data/1075706/000119312516676113/0001193125-16-676113-index.htm'}\n",
      "2700 2016 2 {'page_url': 'ftp://ftp.sec.gov/edgar/data/718413/000165495416001436/a10qjune2016.htm', 'local_name': None, 'blob_id': '611264_section270', 'accession_id': 168096, 'received_date': '2016-08-11', 'description': 'Community Bancorp /VT (CMTV)', 'fiscal_year': 2016, 'entity_id': 5298, 'sec_filing_id': 611264, 'fiscal_period': '2Q', 'fact_id': 0, 'is_detail': False, 'network_id': 0, 'filing_date': '2016-08-11', 'footnote_type_title': 'Additional 10-K and 10-Q Sections', 'ticker': 'CMTV', 'guide_link': None, 'footnote_type': 2700, 'entity_name': 'Community Bancorp /VT', 'document_type': '10-Q', 'SEC_URL': 'http://www.sec.gov/Archives/edgar/data/718413/000165495416001436/0001654954-16-001436-index.htm'}\n",
      "2700 2016 2 {'page_url': 'ftp://ftp.sec.gov/edgar/data/783412/000143774916036843/djco20160630_10q.htm', 'local_name': None, 'blob_id': '609780_section270', 'accession_id': 167220, 'received_date': '2016-08-09', 'description': 'Daily Journal Corp (DJCO)', 'fiscal_year': 2016, 'entity_id': 5684, 'sec_filing_id': 609780, 'fiscal_period': '3Q', 'fact_id': 0, 'is_detail': False, 'network_id': 0, 'filing_date': '2016-08-09', 'footnote_type_title': 'Additional 10-K and 10-Q Sections', 'ticker': 'DJCO', 'guide_link': None, 'footnote_type': 2700, 'entity_name': 'Daily Journal Corp', 'document_type': '10-Q', 'SEC_URL': 'http://www.sec.gov/Archives/edgar/data/783412/000143774916036843/0001437749-16-036843-index.htm'}\n",
      "2700 2016 2 {'page_url': 'ftp://ftp.sec.gov/edgar/data/1015780/000101578016000165/etfc-2016630x10q.htm', 'local_name': None, 'blob_id': '607238_section270', 'accession_id': 165874, 'received_date': '2016-08-04', 'description': 'E Trade Financial Corp (ETFC)', 'fiscal_year': 2016, 'entity_id': 175, 'sec_filing_id': 607238, 'fiscal_period': '2Q', 'fact_id': 0, 'is_detail': False, 'network_id': 0, 'filing_date': '2016-08-04', 'footnote_type_title': 'Additional 10-K and 10-Q Sections', 'ticker': 'ETFC', 'guide_link': None, 'footnote_type': 2700, 'entity_name': 'E Trade Financial Corp', 'document_type': '10-Q', 'SEC_URL': 'http://www.sec.gov/Archives/edgar/data/1015780/000101578016000165/0001015780-16-000165-index.htm'}\n",
      "2700 2016 2 {'page_url': 'ftp://ftp.sec.gov/edgar/data/1490873/000159406216000609/form10q.htm', 'local_name': None, 'blob_id': '617809_section270', 'accession_id': 170374, 'received_date': '2016-09-19', 'description': 'Eco Science Solutions, Inc. (ESSI)', 'fiscal_year': 2017, 'entity_id': 4216, 'sec_filing_id': 617809, 'fiscal_period': '2Q', 'fact_id': 0, 'is_detail': False, 'network_id': 0, 'filing_date': '2016-09-19', 'footnote_type_title': 'Additional 10-K and 10-Q Sections', 'ticker': 'ESSI', 'guide_link': None, 'footnote_type': 2700, 'entity_name': 'Eco Science Solutions, Inc.', 'document_type': '10-Q', 'SEC_URL': 'http://www.sec.gov/Archives/edgar/data/1490873/000159406216000609/0001594062-16-000609-index.htm'}\n",
      "2700 2016 2 {'page_url': 'ftp://ftp.sec.gov/edgar/data/1331757/000133175716000053/a630201610q.htm', 'local_name': None, 'blob_id': '611687_section270', 'accession_id': 168345, 'received_date': '2016-08-12', 'description': 'Federal Home Loan Bank of Dallas (FHLBD)', 'fiscal_year': 2016, 'entity_id': 2516, 'sec_filing_id': 611687, 'fiscal_period': '2Q', 'fact_id': 0, 'is_detail': False, 'network_id': 0, 'filing_date': '2016-08-12', 'footnote_type_title': 'Additional 10-K and 10-Q Sections', 'ticker': 'FHLBD', 'guide_link': None, 'footnote_type': 2700, 'entity_name': 'Federal Home Loan Bank of Dallas', 'document_type': '10-Q', 'SEC_URL': 'http://www.sec.gov/Archives/edgar/data/1331757/000133175716000053/0001331757-16-000053-index.htm'}\n",
      "2700 2016 2 {'page_url': 'ftp://ftp.sec.gov/edgar/data/1329842/000110465916138987/a16-11511_110q.htm', 'local_name': None, 'blob_id': '611199_section270', 'accession_id': 168044, 'received_date': '2016-08-11', 'description': 'Federal Home Loan Bank of New York (FHLBNY)', 'fiscal_year': 2016, 'entity_id': 2496, 'sec_filing_id': 611199, 'fiscal_period': '2Q', 'fact_id': 0, 'is_detail': False, 'network_id': 0, 'filing_date': '2016-08-11', 'footnote_type_title': 'Additional 10-K and 10-Q Sections', 'ticker': 'FHLBNY', 'guide_link': None, 'footnote_type': 2700, 'entity_name': 'Federal Home Loan Bank of New York', 'document_type': '10-Q', 'SEC_URL': 'http://www.sec.gov/Archives/edgar/data/1329842/000110465916138987/0001104659-16-138987-index.htm'}\n"
     ]
    },
    {
     "name": "stdout",
     "output_type": "stream",
     "text": [
      "2700 2016 2 {'page_url': 'ftp://ftp.sec.gov/edgar/data/36029/000119312516661536/d209433d10q.htm', 'local_name': None, 'blob_id': '603017_section270', 'accession_id': 164499, 'received_date': '2016-07-28', 'description': 'First Financial Bankshares Inc (FFIN)', 'fiscal_year': 2016, 'entity_id': 4912, 'sec_filing_id': 603017, 'fiscal_period': '2Q', 'fact_id': 0, 'is_detail': False, 'network_id': 0, 'filing_date': '2016-07-28', 'footnote_type_title': 'Additional 10-K and 10-Q Sections', 'ticker': 'FFIN', 'guide_link': None, 'footnote_type': 2700, 'entity_name': 'First Financial Bankshares Inc', 'document_type': '10-Q', 'SEC_URL': 'http://www.sec.gov/Archives/edgar/data/36029/000119312516661536/0001193125-16-661536-index.htm'}\n",
      "2700 2016 2 {'page_url': 'ftp://ftp.sec.gov/edgar/data/1114927/000114036116074649/form10q.htm', 'local_name': None, 'blob_id': '606008_section270', 'accession_id': 165555, 'received_date': '2016-08-03', 'description': 'First Northern Community Bancorp (FNRN)', 'fiscal_year': 2016, 'entity_id': 1316, 'sec_filing_id': 606008, 'fiscal_period': '2Q', 'fact_id': 0, 'is_detail': False, 'network_id': 0, 'filing_date': '2016-08-03', 'footnote_type_title': 'Additional 10-K and 10-Q Sections', 'ticker': 'FNRN', 'guide_link': None, 'footnote_type': 2700, 'entity_name': 'First Northern Community Bancorp', 'document_type': '10-Q', 'SEC_URL': 'http://www.sec.gov/Archives/edgar/data/1114927/000114036116074649/0001140361-16-074649-index.htm'}\n",
      "2700 2016 2 {'page_url': 'ftp://ftp.sec.gov/edgar/data/1145255/000119312516670102/d195256d10q.htm', 'local_name': None, 'blob_id': '605811_section270', 'accession_id': 165458, 'received_date': '2016-08-03', 'description': 'Hennessy Advisors Inc (HNNA)', 'fiscal_year': 2016, 'entity_id': 1577, 'sec_filing_id': 605811, 'fiscal_period': '3Q', 'fact_id': 0, 'is_detail': False, 'network_id': 0, 'filing_date': '2016-08-03', 'footnote_type_title': 'Additional 10-K and 10-Q Sections', 'ticker': 'HNNA', 'guide_link': None, 'footnote_type': 2700, 'entity_name': 'Hennessy Advisors Inc', 'document_type': '10-Q', 'SEC_URL': 'http://www.sec.gov/Archives/edgar/data/1145255/000119312516670102/0001193125-16-670102-index.htm'}\n",
      "2700 2016 2 {'page_url': 'ftp://ftp.sec.gov/edgar/data/1128361/000112836116000097/hope-6301610q.htm', 'local_name': None, 'blob_id': '609490_section270', 'accession_id': 167055, 'received_date': '2016-08-08', 'description': 'Hope Bancorp Inc (BBCN)', 'fiscal_year': 2016, 'entity_id': 1425, 'sec_filing_id': 609490, 'fiscal_period': '2Q', 'fact_id': 0, 'is_detail': False, 'network_id': 0, 'filing_date': '2016-08-08', 'footnote_type_title': 'Additional 10-K and 10-Q Sections', 'ticker': 'BBCN', 'guide_link': None, 'footnote_type': 2700, 'entity_name': 'Hope Bancorp Inc', 'document_type': '10-Q', 'SEC_URL': 'http://www.sec.gov/Archives/edgar/data/1128361/000112836116000097/0001128361-16-000097-index.htm'}\n",
      "2700 2016 2 {'page_url': 'ftp://ftp.sec.gov/edgar/data/315374/000114420416122905/v447426_10q.htm', 'local_name': None, 'blob_id': '616164_section270', 'accession_id': 169998, 'received_date': '2016-09-06', 'description': 'Hurco Companies Inc (HURC)', 'fiscal_year': 2016, 'entity_id': 4749, 'sec_filing_id': 616164, 'fiscal_period': '3Q', 'fact_id': 0, 'is_detail': False, 'network_id': 0, 'filing_date': '2016-09-06', 'footnote_type_title': 'Additional 10-K and 10-Q Sections', 'ticker': 'HURC', 'guide_link': None, 'footnote_type': 2700, 'entity_name': 'Hurco Companies Inc', 'document_type': '10-Q', 'SEC_URL': 'http://www.sec.gov/Archives/edgar/data/315374/000114420416122905/0001144204-16-122905-index.htm'}\n",
      "2700 2016 2 {'page_url': 'ftp://ftp.sec.gov/edgar/data/1495231/000149523116000133/izea16063010q.htm', 'local_name': None, 'blob_id': '611149_section270', 'accession_id': 168015, 'received_date': '2016-08-11', 'description': 'IZEA, Inc. (IZEA)', 'fiscal_year': 2016, 'entity_id': 4269, 'sec_filing_id': 611149, 'fiscal_period': '2Q', 'fact_id': 0, 'is_detail': False, 'network_id': 0, 'filing_date': '2016-08-11', 'footnote_type_title': 'Additional 10-K and 10-Q Sections', 'ticker': 'IZEA', 'guide_link': None, 'footnote_type': 2700, 'entity_name': 'IZEA, Inc.', 'document_type': '10-Q', 'SEC_URL': 'http://www.sec.gov/Archives/edgar/data/1495231/000149523116000133/0001495231-16-000133-index.htm'}\n",
      "2700 2016 2 {'page_url': 'ftp://ftp.sec.gov/edgar/data/704051/000070405116000179/lm_10qx6302016.htm', 'local_name': None, 'blob_id': '605177_section270', 'accession_id': 165204, 'received_date': '2016-08-02', 'description': 'Legg Mason, Inc. (LM)', 'fiscal_year': 2017, 'entity_id': 5191, 'sec_filing_id': 605177, 'fiscal_period': '1Q', 'fact_id': 0, 'is_detail': False, 'network_id': 0, 'filing_date': '2016-08-02', 'footnote_type_title': 'Additional 10-K and 10-Q Sections', 'ticker': 'LM', 'guide_link': None, 'footnote_type': 2700, 'entity_name': 'Legg Mason, Inc.', 'document_type': '10-Q', 'SEC_URL': 'http://www.sec.gov/Archives/edgar/data/704051/000070405116000179/0000704051-16-000179-index.htm'}\n",
      "2700 2016 2 {'page_url': 'ftp://ftp.sec.gov/edgar/data/1356564/000144586616002517/leom10q08152016.htm', 'local_name': None, 'blob_id': '612820_section270', 'accession_id': 169161, 'received_date': '2016-08-15', 'description': 'Leo Motors, Inc. (LEOM)', 'fiscal_year': 2016, 'entity_id': 2733, 'sec_filing_id': 612820, 'fiscal_period': '2Q', 'fact_id': 0, 'is_detail': False, 'network_id': 0, 'filing_date': '2016-08-15', 'footnote_type_title': 'Additional 10-K and 10-Q Sections', 'ticker': 'LEOM', 'guide_link': None, 'footnote_type': 2700, 'entity_name': 'Leo Motors, Inc.', 'document_type': '10-Q', 'SEC_URL': 'http://www.sec.gov/Archives/edgar/data/1356564/000144586616002517/0001445866-16-002517-index.htm'}\n",
      "2700 2016 2 {'page_url': 'ftp://ftp.sec.gov/edgar/data/36506/000155837016007997/mfnc-20160630x10q.htm', 'local_name': None, 'blob_id': '612403_section270', 'accession_id': 168819, 'received_date': '2016-08-15', 'description': 'Mackinac Financial Corp /MI/ (MFNC)', 'fiscal_year': 2016, 'entity_id': 4917, 'sec_filing_id': 612403, 'fiscal_period': '2Q', 'fact_id': 0, 'is_detail': False, 'network_id': 0, 'filing_date': '2016-08-15', 'footnote_type_title': 'Additional 10-K and 10-Q Sections', 'ticker': 'MFNC', 'guide_link': None, 'footnote_type': 2700, 'entity_name': 'Mackinac Financial Corp /MI/', 'document_type': '10-Q', 'SEC_URL': 'http://www.sec.gov/Archives/edgar/data/36506/000155837016007997/0001558370-16-007997-index.htm'}\n",
      "2700 2016 2 {'page_url': 'ftp://ftp.sec.gov/edgar/data/1139812/000113981216000088/a06301610q.htm', 'local_name': None, 'blob_id': '608521_section270', 'accession_id': 166532, 'received_date': '2016-08-05', 'description': 'Mb Financial Inc /MD (MBFI)', 'fiscal_year': 2016, 'entity_id': 1523, 'sec_filing_id': 608521, 'fiscal_period': '2Q', 'fact_id': 0, 'is_detail': False, 'network_id': 0, 'filing_date': '2016-08-05', 'footnote_type_title': 'Additional 10-K and 10-Q Sections', 'ticker': 'MBFI', 'guide_link': None, 'footnote_type': 2700, 'entity_name': 'Mb Financial Inc /MD', 'document_type': '10-Q', 'SEC_URL': 'http://www.sec.gov/Archives/edgar/data/1139812/000113981216000088/0001139812-16-000088-index.htm'}\n",
      "2700 2016 2 {'page_url': 'ftp://ftp.sec.gov/edgar/data/1600125/000119312516675086/d213545d10q.htm', 'local_name': None, 'blob_id': '609048_section270', 'accession_id': 166814, 'received_date': '2016-08-08', 'description': 'Meridian Bancorp, Inc. (EBSB)', 'fiscal_year': 2016, 'entity_id': 3405, 'sec_filing_id': 609048, 'fiscal_period': '2Q', 'fact_id': 0, 'is_detail': False, 'network_id': 0, 'filing_date': '2016-08-08', 'footnote_type_title': 'Additional 10-K and 10-Q Sections', 'ticker': 'EBSB', 'guide_link': None, 'footnote_type': 2700, 'entity_name': 'Meridian Bancorp, Inc.', 'document_type': '10-Q', 'SEC_URL': 'http://www.sec.gov/Archives/edgar/data/1600125/000119312516675086/0001193125-16-675086-index.htm'}\n"
     ]
    },
    {
     "name": "stdout",
     "output_type": "stream",
     "text": [
      "2700 2016 2 {'page_url': 'ftp://ftp.sec.gov/edgar/data/1578735/000157873516000141/nghc20162q10-q.htm', 'local_name': None, 'blob_id': '608334_section270', 'accession_id': 166368, 'received_date': '2016-08-05', 'description': 'National General Holdings Corp. (NGHC)', 'fiscal_year': 2016, 'entity_id': 9952, 'sec_filing_id': 608334, 'fiscal_period': '2Q', 'fact_id': 0, 'is_detail': False, 'network_id': 0, 'filing_date': '2016-08-05', 'footnote_type_title': 'Additional 10-K and 10-Q Sections', 'ticker': 'NGHC', 'guide_link': None, 'footnote_type': 2700, 'entity_name': 'National General Holdings Corp.', 'document_type': '10-Q', 'SEC_URL': 'http://www.sec.gov/Archives/edgar/data/1578735/000157873516000141/0001578735-16-000141-index.htm'}\n",
      "2700 2016 2 {'page_url': 'ftp://ftp.sec.gov/edgar/data/1504461/000150446116000034/ngl-6302016x10q.htm', 'local_name': None, 'blob_id': '610259_section270', 'accession_id': 167431, 'received_date': '2016-08-09', 'description': 'NGL Energy Partners LP (NGL)', 'fiscal_year': 2017, 'entity_id': 4385, 'sec_filing_id': 610259, 'fiscal_period': '1Q', 'fact_id': 0, 'is_detail': False, 'network_id': 0, 'filing_date': '2016-08-09', 'footnote_type_title': 'Additional 10-K and 10-Q Sections', 'ticker': 'NGL', 'guide_link': None, 'footnote_type': 2700, 'entity_name': 'NGL Energy Partners LP', 'document_type': '10-Q', 'SEC_URL': 'http://www.sec.gov/Archives/edgar/data/1504461/000150446116000034/0001504461-16-000034-index.htm'}\n",
      "2700 2016 2 {'page_url': 'ftp://ftp.sec.gov/edgar/data/1002517/000100251716000078/nuan0630201610-q.htm', 'local_name': None, 'blob_id': '609977_section270', 'accession_id': 167353, 'received_date': '2016-08-09', 'description': 'Nuance Communications, Inc. (NUAN)', 'fiscal_year': 2016, 'entity_id': 40, 'sec_filing_id': 609977, 'fiscal_period': '3Q', 'fact_id': 0, 'is_detail': False, 'network_id': 0, 'filing_date': '2016-08-09', 'footnote_type_title': 'Additional 10-K and 10-Q Sections', 'ticker': 'NUAN', 'guide_link': None, 'footnote_type': 2700, 'entity_name': 'Nuance Communications, Inc.', 'document_type': '10-Q', 'SEC_URL': 'http://www.sec.gov/Archives/edgar/data/1002517/000100251716000078/0001002517-16-000078-index.htm'}\n",
      "2700 2016 2 {'page_url': 'ftp://ftp.sec.gov/edgar/data/1097792/000121390016016316/f10q0616_omintoinc.htm', 'local_name': None, 'blob_id': '614161_section270', 'accession_id': 169493, 'received_date': '2016-08-22', 'description': 'Ominto, Inc. (OMNT)', 'fiscal_year': 2016, 'entity_id': 1131, 'sec_filing_id': 614161, 'fiscal_period': '3Q', 'fact_id': 0, 'is_detail': False, 'network_id': 0, 'filing_date': '2016-08-22', 'footnote_type_title': 'Additional 10-K and 10-Q Sections', 'ticker': 'OMNT', 'guide_link': None, 'footnote_type': 2700, 'entity_name': 'Ominto, Inc.', 'document_type': '10-Q', 'SEC_URL': 'http://www.sec.gov/Archives/edgar/data/1097792/000121390016016316/0001213900-16-016316-index.htm'}\n",
      "2700 2016 2 {'page_url': 'ftp://ftp.sec.gov/edgar/data/1321070/000143774916037388/ottw20160630_10q.htm', 'local_name': None, 'blob_id': '612167_section270', 'accession_id': 168626, 'received_date': '2016-08-15', 'description': 'Ottawa Bancorp Inc (OTTW)', 'fiscal_year': 2016, 'entity_id': 2404, 'sec_filing_id': 612167, 'fiscal_period': '2Q', 'fact_id': 0, 'is_detail': False, 'network_id': 0, 'filing_date': '2016-08-15', 'footnote_type_title': 'Additional 10-K and 10-Q Sections', 'ticker': 'OTTW', 'guide_link': None, 'footnote_type': 2700, 'entity_name': 'Ottawa Bancorp Inc', 'document_type': '10-Q', 'SEC_URL': 'http://www.sec.gov/Archives/edgar/data/1321070/000143774916037388/0001437749-16-037388-index.htm'}\n",
      "2700 2016 2 {'page_url': 'ftp://ftp.sec.gov/edgar/data/1378946/000119312516676617/d221059d10q.htm', 'local_name': None, 'blob_id': '609839_section270', 'accession_id': 167272, 'received_date': '2016-08-09', 'description': \"People's United Financial, Inc. (PBCT)\", 'fiscal_year': 2016, 'entity_id': 2996, 'sec_filing_id': 609839, 'fiscal_period': '2Q', 'fact_id': 0, 'is_detail': False, 'network_id': 0, 'filing_date': '2016-08-09', 'footnote_type_title': 'Additional 10-K and 10-Q Sections', 'ticker': 'PBCT', 'guide_link': None, 'footnote_type': 2700, 'entity_name': \"People's United Financial, Inc.\", 'document_type': '10-Q', 'SEC_URL': 'http://www.sec.gov/Archives/edgar/data/1378946/000119312516676617/0001193125-16-676617-index.htm'}\n",
      "2700 2016 2 {'page_url': 'ftp://ftp.sec.gov/edgar/data/77776/000007777616000013/phh2016063010-q.htm', 'local_name': None, 'blob_id': '609731_section270', 'accession_id': 167178, 'received_date': '2016-08-09', 'description': 'Phh Corp (PHH)', 'fiscal_year': 2016, 'entity_id': 5657, 'sec_filing_id': 609731, 'fiscal_period': '2Q', 'fact_id': 0, 'is_detail': False, 'network_id': 0, 'filing_date': '2016-08-09', 'footnote_type_title': 'Additional 10-K and 10-Q Sections', 'ticker': 'PHH', 'guide_link': None, 'footnote_type': 2700, 'entity_name': 'Phh Corp', 'document_type': '10-Q', 'SEC_URL': 'http://www.sec.gov/Archives/edgar/data/77776/000007777616000013/0000077776-16-000013-index.htm'}\n",
      "2700 2016 2 {'page_url': 'ftp://ftp.sec.gov/edgar/data/720005/000072000516000144/a2016063010qrjf.htm', 'local_name': None, 'blob_id': '609294_section270', 'accession_id': 166969, 'received_date': '2016-08-08', 'description': 'Raymond James Financial Inc (RJF)', 'fiscal_year': 2016, 'entity_id': 5321, 'sec_filing_id': 609294, 'fiscal_period': '3Q', 'fact_id': 0, 'is_detail': False, 'network_id': 0, 'filing_date': '2016-08-08', 'footnote_type_title': 'Additional 10-K and 10-Q Sections', 'ticker': 'RJF', 'guide_link': None, 'footnote_type': 2700, 'entity_name': 'Raymond James Financial Inc', 'document_type': '10-Q', 'SEC_URL': 'http://www.sec.gov/Archives/edgar/data/720005/000072000516000144/0000720005-16-000144-index.htm'}\n",
      "2700 2016 2 {'page_url': 'ftp://ftp.sec.gov/edgar/data/316709/000031670916000093/schw-20160630x10q.htm', 'local_name': None, 'blob_id': '608451_section270', 'accession_id': 166468, 'received_date': '2016-08-05', 'description': 'Schwab Charles Corp (SCHW)', 'fiscal_year': 2016, 'entity_id': 4760, 'sec_filing_id': 608451, 'fiscal_period': '2Q', 'fact_id': 0, 'is_detail': False, 'network_id': 0, 'filing_date': '2016-08-05', 'footnote_type_title': 'Additional 10-K and 10-Q Sections', 'ticker': 'SCHW', 'guide_link': None, 'footnote_type': 2700, 'entity_name': 'Schwab Charles Corp', 'document_type': '10-Q', 'SEC_URL': 'http://www.sec.gov/Archives/edgar/data/316709/000031670916000093/0000316709-16-000093-index.htm'}\n",
      "2700 2016 2 {'page_url': 'ftp://ftp.sec.gov/edgar/data/818677/000093905716000960/sfdl-20160630x10q.htm', 'local_name': None, 'blob_id': '611553_section270', 'accession_id': 168234, 'received_date': '2016-08-12', 'description': 'Security Federal Corp (SFDL)', 'fiscal_year': 2016, 'entity_id': 5951, 'sec_filing_id': 611553, 'fiscal_period': '2Q', 'fact_id': 0, 'is_detail': False, 'network_id': 0, 'filing_date': '2016-08-12', 'footnote_type_title': 'Additional 10-K and 10-Q Sections', 'ticker': 'SFDL', 'guide_link': None, 'footnote_type': 2700, 'entity_name': 'Security Federal Corp', 'document_type': '10-Q', 'SEC_URL': 'http://www.sec.gov/Archives/edgar/data/818677/000093905716000960/0000939057-16-000960-index.htm'}\n",
      "2700 2016 2 {'page_url': 'ftp://ftp.sec.gov/edgar/data/1500213/000150021316000072/sifi0630201610-q2.htm', 'local_name': None, 'blob_id': '608979_section270', 'accession_id': 166790, 'received_date': '2016-08-08', 'description': 'SI Financial Group, Inc. (SIFI)', 'fiscal_year': 2016, 'entity_id': 4343, 'sec_filing_id': 608979, 'fiscal_period': '2Q', 'fact_id': 0, 'is_detail': False, 'network_id': 0, 'filing_date': '2016-08-08', 'footnote_type_title': 'Additional 10-K and 10-Q Sections', 'ticker': 'SIFI', 'guide_link': None, 'footnote_type': 2700, 'entity_name': 'SI Financial Group, Inc.', 'document_type': '10-Q', 'SEC_URL': 'http://www.sec.gov/Archives/edgar/data/1500213/000150021316000072/0001500213-16-000072-index.htm'}\n"
     ]
    },
    {
     "name": "stdout",
     "output_type": "stream",
     "text": [
      "2700 2016 2 {'page_url': 'ftp://ftp.sec.gov/edgar/data/880116/000157104916017331/t1600511_10qa.htm', 'local_name': None, 'blob_id': '610730_section270', 'accession_id': 167772, 'received_date': '2016-08-10', 'description': 'Southeastern Bank Financial CORP (SBFC)', 'fiscal_year': 2016, 'entity_id': 6416, 'sec_filing_id': 610730, 'fiscal_period': '2Q', 'fact_id': 0, 'is_detail': False, 'network_id': 0, 'filing_date': '2016-08-10', 'footnote_type_title': 'Additional 10-K and 10-Q Sections', 'ticker': 'SBFC', 'guide_link': None, 'footnote_type': 2700, 'entity_name': 'Southeastern Bank Financial CORP', 'document_type': '10-Q/A', 'SEC_URL': 'http://www.sec.gov/Archives/edgar/data/880116/000157104916017331/0001571049-16-017331-index.htm'}\n",
      "2700 2016 2 {'page_url': 'ftp://ftp.sec.gov/edgar/data/880116/000157104916016939/t1600454_10q.htm', 'local_name': None, 'blob_id': '604232_section270', 'accession_id': 164906, 'received_date': '2016-07-29', 'description': 'Southeastern Bank Financial CORP (SBFC)', 'fiscal_year': 2016, 'entity_id': 6416, 'sec_filing_id': 604232, 'fiscal_period': '2Q', 'fact_id': 0, 'is_detail': False, 'network_id': 0, 'filing_date': '2016-07-29', 'footnote_type_title': 'Additional 10-K and 10-Q Sections', 'ticker': 'SBFC', 'guide_link': None, 'footnote_type': 2700, 'entity_name': 'Southeastern Bank Financial CORP', 'document_type': '10-Q', 'SEC_URL': 'http://www.sec.gov/Archives/edgar/data/880116/000157104916016939/0001571049-16-016939-index.htm'}\n",
      "2700 2016 2 {'page_url': 'ftp://ftp.sec.gov/edgar/data/1325670/000157104916017203/t1600497_10q.htm', 'local_name': None, 'blob_id': '608829_section270', 'accession_id': 166671, 'received_date': '2016-08-08', 'description': 'Southern National Bancorp of Virginia Inc (SONA)', 'fiscal_year': 2016, 'entity_id': 2446, 'sec_filing_id': 608829, 'fiscal_period': '2Q', 'fact_id': 0, 'is_detail': False, 'network_id': 0, 'filing_date': '2016-08-08', 'footnote_type_title': 'Additional 10-K and 10-Q Sections', 'ticker': 'SONA', 'guide_link': None, 'footnote_type': 2700, 'entity_name': 'Southern National Bancorp of Virginia Inc', 'document_type': '10-Q', 'SEC_URL': 'http://www.sec.gov/Archives/edgar/data/1325670/000157104916017203/0001571049-16-017203-index.htm'}\n",
      "2700 2016 2 {'page_url': 'ftp://ftp.sec.gov/edgar/data/706863/000070686316000112/a63016unb10-q.htm', 'local_name': None, 'blob_id': '609825_section270', 'accession_id': 167260, 'received_date': '2016-08-09', 'description': 'Union Bankshares Inc (UNB)', 'fiscal_year': 2016, 'entity_id': 5209, 'sec_filing_id': 609825, 'fiscal_period': '2Q', 'fact_id': 0, 'is_detail': False, 'network_id': 0, 'filing_date': '2016-08-09', 'footnote_type_title': 'Additional 10-K and 10-Q Sections', 'ticker': 'UNB', 'guide_link': None, 'footnote_type': 2700, 'entity_name': 'Union Bankshares Inc', 'document_type': '10-Q', 'SEC_URL': 'http://www.sec.gov/Archives/edgar/data/706863/000070686316000112/0000706863-16-000112-index.htm'}\n",
      "2700 2016 2 {'page_url': 'ftp://ftp.sec.gov/edgar/data/1137547/000162828016018498/ubfo-20160630xq2.htm', 'local_name': None, 'blob_id': '607016_section270', 'accession_id': 165809, 'received_date': '2016-08-04', 'description': 'United Security Bancshares (UBFO)', 'fiscal_year': 2016, 'entity_id': 1503, 'sec_filing_id': 607016, 'fiscal_period': '2Q', 'fact_id': 0, 'is_detail': False, 'network_id': 0, 'filing_date': '2016-08-04', 'footnote_type_title': 'Additional 10-K and 10-Q Sections', 'ticker': 'UBFO', 'guide_link': None, 'footnote_type': 2700, 'entity_name': 'United Security Bancshares', 'document_type': '10-Q', 'SEC_URL': 'http://www.sec.gov/Archives/edgar/data/1137547/000162828016018498/0001628280-16-018498-index.htm'}\n",
      "2700 2016 2 {'page_url': 'ftp://ftp.sec.gov/edgar/data/1052100/000155837016006946/wdr-20160630x10q.htm', 'local_name': None, 'blob_id': '603911_section270', 'accession_id': 164753, 'received_date': '2016-07-29', 'description': 'Waddell & Reed Financial Inc (WDR)', 'fiscal_year': 2016, 'entity_id': 585, 'sec_filing_id': 603911, 'fiscal_period': '2Q', 'fact_id': 0, 'is_detail': False, 'network_id': 0, 'filing_date': '2016-07-29', 'footnote_type_title': 'Additional 10-K and 10-Q Sections', 'ticker': 'WDR', 'guide_link': None, 'footnote_type': 2700, 'entity_name': 'Waddell & Reed Financial Inc', 'document_type': '10-Q', 'SEC_URL': 'http://www.sec.gov/Archives/edgar/data/1052100/000155837016006946/0001558370-16-006946-index.htm'}\n",
      "2700 2016 2 {'page_url': 'ftp://ftp.sec.gov/edgar/data/801337/000080133716000223/wbs-06302016x10q.htm', 'local_name': None, 'blob_id': '609849_section270', 'accession_id': 167282, 'received_date': '2016-08-09', 'description': 'Webster Financial Corp (WBS)', 'fiscal_year': 2016, 'entity_id': 5820, 'sec_filing_id': 609849, 'fiscal_period': '2Q', 'fact_id': 0, 'is_detail': False, 'network_id': 0, 'filing_date': '2016-08-09', 'footnote_type_title': 'Additional 10-K and 10-Q Sections', 'ticker': 'WBS', 'guide_link': None, 'footnote_type': 2700, 'entity_name': 'Webster Financial Corp', 'document_type': '10-Q', 'SEC_URL': 'http://www.sec.gov/Archives/edgar/data/801337/000080133716000223/0000801337-16-000223-index.htm'}\n",
      "2700 2016 2 {'page_url': 'ftp://ftp.sec.gov/edgar/data/1309108/000130910816000254/wex6_30x201610-q.htm', 'local_name': None, 'blob_id': '609847_section270', 'accession_id': 167280, 'received_date': '2016-08-09', 'description': 'WEX Inc. (WEX)', 'fiscal_year': 2016, 'entity_id': 2311, 'sec_filing_id': 609847, 'fiscal_period': '2Q', 'fact_id': 0, 'is_detail': False, 'network_id': 0, 'filing_date': '2016-08-09', 'footnote_type_title': 'Additional 10-K and 10-Q Sections', 'ticker': 'WEX', 'guide_link': None, 'footnote_type': 2700, 'entity_name': 'WEX Inc.', 'document_type': '10-Q', 'SEC_URL': 'http://www.sec.gov/Archives/edgar/data/1309108/000130910816000254/0001309108-16-000254-index.htm'}\n"
     ]
    },
    {
     "data": {
      "application/vnd.jupyter.widget-view+json": {
       "model_id": "9c7a7e7421eb4a9d97a705eac536c52b"
      }
     },
     "metadata": {},
     "output_type": "display_data"
    },
    {
     "data": {
      "application/vnd.jupyter.widget-view+json": {
       "model_id": "73c2cfe8923140798c0495a20ae04b7e"
      }
     },
     "metadata": {},
     "output_type": "display_data"
    },
    {
     "data": {
      "application/vnd.jupyter.widget-view+json": {
       "model_id": "11650fee91d844efb3d58bcf1084cdcc"
      }
     },
     "metadata": {},
     "output_type": "display_data"
    },
    {
     "data": {
      "application/vnd.jupyter.widget-view+json": {
       "model_id": "7a525b7a99bf410f9e88e0884186cc51"
      }
     },
     "metadata": {},
     "output_type": "display_data"
    },
    {
     "data": {
      "application/vnd.jupyter.widget-view+json": {
       "model_id": "8f91e46b082e4294b2698cd169acace5"
      }
     },
     "metadata": {},
     "output_type": "display_data"
    },
    {
     "data": {
      "application/vnd.jupyter.widget-view+json": {
       "model_id": "0cfbc451005846c2aa346d71cf63054b"
      }
     },
     "metadata": {},
     "output_type": "display_data"
    },
    {
     "data": {
      "application/vnd.jupyter.widget-view+json": {
       "model_id": "6934d06da7004857bddf56a80ca49fd6"
      }
     },
     "metadata": {},
     "output_type": "display_data"
    },
    {
     "data": {
      "application/vnd.jupyter.widget-view+json": {
       "model_id": "be8fefa3174a4cfa8bee2d098913b4dc"
      }
     },
     "metadata": {},
     "output_type": "display_data"
    },
    {
     "data": {
      "application/vnd.jupyter.widget-view+json": {
       "model_id": "7ed992617b1741449c5170f9fbd8b217"
      }
     },
     "metadata": {},
     "output_type": "display_data"
    },
    {
     "data": {
      "application/vnd.jupyter.widget-view+json": {
       "model_id": "d10890a1ac1c4c099b03f93e4780f8d1"
      }
     },
     "metadata": {},
     "output_type": "display_data"
    },
    {
     "data": {
      "application/vnd.jupyter.widget-view+json": {
       "model_id": "cb6f983a646342c09bf0269aa3b9a369"
      }
     },
     "metadata": {},
     "output_type": "display_data"
    },
    {
     "name": "stdout",
     "output_type": "stream",
     "text": [
      "2710 2011 1 {'page_url': 'ftp://ftp.sec.gov/edgar/data/779152/000092623611000032/jkhy2011q3.htm', 'local_name': None, 'blob_id': '201855_section271', 'accession_id': 11367, 'received_date': '2011-05-06', 'description': 'Henry Jack & Associates Inc (JKHY)', 'fiscal_year': 2011, 'entity_id': 5667, 'sec_filing_id': 201855, 'fiscal_period': '3Q', 'fact_id': 0, 'is_detail': False, 'network_id': 0, 'filing_date': '2011-05-06', 'footnote_type_title': 'Additional 10-K and 10-Q Sections', 'ticker': 'JKHY', 'guide_link': None, 'footnote_type': 2710, 'entity_name': 'Henry Jack & Associates Inc', 'document_type': '10-Q', 'SEC_URL': 'http://www.sec.gov/Archives/edgar/data/779152/000092623611000032/0000926236-11-000032-index.htm'}\n"
     ]
    },
    {
     "data": {
      "application/vnd.jupyter.widget-view+json": {
       "model_id": "1c2d7236f734460f9506237c72ad4ece"
      }
     },
     "metadata": {},
     "output_type": "display_data"
    },
    {
     "name": "stdout",
     "output_type": "stream",
     "text": [
      "2710 2011 2 {'page_url': 'ftp://ftp.sec.gov/edgar/data/1096298/000121152411000217/qjune2011.htm', 'local_name': None, 'blob_id': '193020_section271', 'accession_id': 2531, 'received_date': '2011-08-31', 'description': 'Asia8, Inc. (CIK0001096298)', 'fiscal_year': 2011, 'entity_id': 1106, 'sec_filing_id': 193020, 'fiscal_period': '2Q', 'fact_id': 0, 'is_detail': False, 'network_id': 0, 'filing_date': '2011-08-31', 'footnote_type_title': 'Additional 10-K and 10-Q Sections', 'ticker': 'CIK0001096298', 'guide_link': None, 'footnote_type': 2710, 'entity_name': 'Asia8, Inc.', 'document_type': '10-Q/A', 'SEC_URL': 'http://www.sec.gov/Archives/edgar/data/1096298/000121152411000217/0001211524-11-000217-index.htm'}\n",
      "2710 2011 2 {'page_url': 'ftp://ftp.sec.gov/edgar/data/715812/000071581211000005/form10q.htm', 'local_name': None, 'blob_id': '200869_section271', 'accession_id': 10381, 'received_date': '2011-09-15', 'description': 'Biosynergy Inc (BSYN)', 'fiscal_year': 2012, 'entity_id': 5277, 'sec_filing_id': 200869, 'fiscal_period': '1Q', 'fact_id': 0, 'is_detail': False, 'network_id': 0, 'filing_date': '2011-09-15', 'footnote_type_title': 'Additional 10-K and 10-Q Sections', 'ticker': 'BSYN', 'guide_link': None, 'footnote_type': 2710, 'entity_name': 'Biosynergy Inc', 'document_type': '10-Q', 'SEC_URL': 'http://www.sec.gov/Archives/edgar/data/715812/000071581211000005/0000715812-11-000005-index.htm'}\n",
      "2710 2011 2 {'page_url': 'ftp://ftp.sec.gov/edgar/data/1385211/000113705011000233/cmi10q30jun11_final3clean2.htm', 'local_name': None, 'blob_id': '196538_section271', 'accession_id': 6049, 'received_date': '2011-08-19', 'description': 'China Multimedia, Inc. (CMMI)', 'fiscal_year': 2011, 'entity_id': 3064, 'sec_filing_id': 196538, 'fiscal_period': '3Q', 'fact_id': 0, 'is_detail': False, 'network_id': 0, 'filing_date': '2011-08-19', 'footnote_type_title': 'Additional 10-K and 10-Q Sections', 'ticker': 'CMMI', 'guide_link': None, 'footnote_type': 2710, 'entity_name': 'China Multimedia, Inc.', 'document_type': '10-Q', 'SEC_URL': 'http://www.sec.gov/Archives/edgar/data/1385211/000113705011000233/0001137050-11-000233-index.htm'}\n",
      "2710 2011 2 {'page_url': 'ftp://ftp.sec.gov/edgar/data/1098881/000109888111000008/caly6301110qadoc.htm', 'local_name': None, 'blob_id': '193084_section271', 'accession_id': 2595, 'received_date': '2011-09-15', 'description': 'U.S. Rare Earths, Inc (UREE)', 'fiscal_year': 2011, 'entity_id': 1141, 'sec_filing_id': 193084, 'fiscal_period': '2Q', 'fact_id': 0, 'is_detail': False, 'network_id': 0, 'filing_date': '2011-09-15', 'footnote_type_title': 'Additional 10-K and 10-Q Sections', 'ticker': 'UREE', 'guide_link': None, 'footnote_type': 2710, 'entity_name': 'U.S. Rare Earths, Inc', 'document_type': '10-Q/A', 'SEC_URL': 'http://www.sec.gov/Archives/edgar/data/1098881/000109888111000008/0001098881-11-000008-index.htm'}\n",
      "2710 2011 2 {'page_url': 'ftp://ftp.sec.gov/edgar/data/1432939/000152745811000005/credexq22011_10qz.htm', 'local_name': None, 'blob_id': '197357_section271', 'accession_id': 6868, 'received_date': '2011-09-09', 'description': 'Credex Corp (CRDXE)', 'fiscal_year': 2011, 'entity_id': 3664, 'sec_filing_id': 197357, 'fiscal_period': '2Q', 'fact_id': 0, 'is_detail': False, 'network_id': 0, 'filing_date': '2011-09-09', 'footnote_type_title': 'Additional 10-K and 10-Q Sections', 'ticker': 'CRDXE', 'guide_link': None, 'footnote_type': 2710, 'entity_name': 'Credex Corp', 'document_type': '10-Q/A', 'SEC_URL': 'http://www.sec.gov/Archives/edgar/data/1432939/000152745811000005/0001527458-11-000005-index.htm'}\n",
      "2710 2011 2 {'page_url': 'ftp://ftp.sec.gov/edgar/data/1201135/000120113511000014/creditone10q06302011.htm', 'local_name': None, 'blob_id': '194518_section271', 'accession_id': 4029, 'received_date': '2011-08-17', 'description': 'Credit One Financial Inc (COFI)', 'fiscal_year': 2011, 'entity_id': 1841, 'sec_filing_id': 194518, 'fiscal_period': '2Q', 'fact_id': 0, 'is_detail': False, 'network_id': 0, 'filing_date': '2011-08-17', 'footnote_type_title': 'Additional 10-K and 10-Q Sections', 'ticker': 'COFI', 'guide_link': None, 'footnote_type': 2710, 'entity_name': 'Credit One Financial Inc', 'document_type': '10-Q/A', 'SEC_URL': 'http://www.sec.gov/Archives/edgar/data/1201135/000120113511000014/0001201135-11-000014-index.htm'}\n",
      "2710 2011 2 {'page_url': 'ftp://ftp.sec.gov/edgar/data/1368568/000136856811000031/dalian10qjun11_10q.htm', 'local_name': None, 'blob_id': '196253_section271', 'accession_id': 5764, 'received_date': '2011-09-14', 'description': 'Dalian Capital Group, Inc. (DALC)', 'fiscal_year': 2011, 'entity_id': 2863, 'sec_filing_id': 196253, 'fiscal_period': '2Q', 'fact_id': 0, 'is_detail': False, 'network_id': 0, 'filing_date': '2011-09-14', 'footnote_type_title': 'Additional 10-K and 10-Q Sections', 'ticker': 'DALC', 'guide_link': None, 'footnote_type': 2710, 'entity_name': 'Dalian Capital Group, Inc.', 'document_type': '10-Q', 'SEC_URL': 'http://www.sec.gov/Archives/edgar/data/1368568/000136856811000031/0001368568-11-000031-index.htm'}\n",
      "2710 2011 2 {'page_url': 'ftp://ftp.sec.gov/edgar/data/1441551/000113705011000265/dnas10q_finalclean.htm', 'local_name': None, 'blob_id': '197482_section271', 'accession_id': 6993, 'received_date': '2011-09-12', 'description': 'Dna Systems, Inc. (DNAS)', 'fiscal_year': 2012, 'entity_id': 3779, 'sec_filing_id': 197482, 'fiscal_period': '1Q', 'fact_id': 0, 'is_detail': False, 'network_id': 0, 'filing_date': '2011-09-12', 'footnote_type_title': 'Additional 10-K and 10-Q Sections', 'ticker': 'DNAS', 'guide_link': None, 'footnote_type': 2710, 'entity_name': 'Dna Systems, Inc.', 'document_type': '10-Q', 'SEC_URL': 'http://www.sec.gov/Archives/edgar/data/1441551/000113705011000265/0001137050-11-000265-index.htm'}\n",
      "2710 2011 2 {'page_url': 'ftp://ftp.sec.gov/edgar/data/318835/000076458611000006/dsi006q211.htm', 'local_name': None, 'blob_id': '199259_section271', 'accession_id': 8770, 'received_date': '2011-08-22', 'description': 'Dsi Realty Income Fund Vi (DSI006)', 'fiscal_year': 2011, 'entity_id': 4782, 'sec_filing_id': 199259, 'fiscal_period': '2Q', 'fact_id': 0, 'is_detail': False, 'network_id': 0, 'filing_date': '2011-08-22', 'footnote_type_title': 'Additional 10-K and 10-Q Sections', 'ticker': 'DSI006', 'guide_link': None, 'footnote_type': 2710, 'entity_name': 'Dsi Realty Income Fund Vi', 'document_type': '10-Q', 'SEC_URL': 'http://www.sec.gov/Archives/edgar/data/318835/000076458611000006/0000764586-11-000006-index.htm'}\n",
      "2710 2011 2 {'page_url': 'ftp://ftp.sec.gov/edgar/data/1099574/000109957411000006/f10qajune2011xbrl.htm', 'local_name': None, 'blob_id': '193113_section271', 'accession_id': 2624, 'received_date': '2011-09-15', 'description': 'Eastgate Biotech Corp (ETBI)', 'fiscal_year': 2011, 'entity_id': 1153, 'sec_filing_id': 193113, 'fiscal_period': '2Q', 'fact_id': 0, 'is_detail': False, 'network_id': 0, 'filing_date': '2011-09-15', 'footnote_type_title': 'Additional 10-K and 10-Q Sections', 'ticker': 'ETBI', 'guide_link': None, 'footnote_type': 2710, 'entity_name': 'Eastgate Biotech Corp', 'document_type': '10-Q/A', 'SEC_URL': 'http://www.sec.gov/Archives/edgar/data/1099574/000109957411000006/0001099574-11-000006-index.htm'}\n",
      "2710 2011 2 {'page_url': 'ftp://ftp.sec.gov/edgar/data/1327195/000136086511000143/hpgs10q2q2011.htm', 'local_name': None, 'blob_id': '195620_section271', 'accession_id': 5131, 'received_date': '2011-08-22', 'description': 'High Plains Gas, Inc. (HPGS)', 'fiscal_year': 2011, 'entity_id': 2472, 'sec_filing_id': 195620, 'fiscal_period': '2Q', 'fact_id': 0, 'is_detail': False, 'network_id': 0, 'filing_date': '2011-08-22', 'footnote_type_title': 'Additional 10-K and 10-Q Sections', 'ticker': 'HPGS', 'guide_link': None, 'footnote_type': 2710, 'entity_name': 'High Plains Gas, Inc.', 'document_type': '10-Q', 'SEC_URL': 'http://www.sec.gov/Archives/edgar/data/1327195/000136086511000143/0001360865-11-000143-index.htm'}\n"
     ]
    },
    {
     "name": "stdout",
     "output_type": "stream",
     "text": [
      "2710 2011 2 {'page_url': 'ftp://ftp.sec.gov/edgar/data/1377318/000143209311000544/huntglobal10q063011.htm', 'local_name': None, 'blob_id': '196402_section271', 'accession_id': 5913, 'received_date': '2011-08-15', 'description': 'Hunt Global Resources, Inc. (HGCO)', 'fiscal_year': 2011, 'entity_id': 2976, 'sec_filing_id': 196402, 'fiscal_period': '2Q', 'fact_id': 0, 'is_detail': False, 'network_id': 0, 'filing_date': '2011-08-15', 'footnote_type_title': 'Additional 10-K and 10-Q Sections', 'ticker': 'HGCO', 'guide_link': None, 'footnote_type': 2710, 'entity_name': 'Hunt Global Resources, Inc.', 'document_type': '10-Q', 'SEC_URL': 'http://www.sec.gov/Archives/edgar/data/1377318/000143209311000544/0001432093-11-000544-index.htm'}\n",
      "2710 2011 2 {'page_url': 'ftp://ftp.sec.gov/edgar/data/825315/000119312511205665/d10q.htm', 'local_name': None, 'blob_id': '202790_section271', 'accession_id': 12302, 'received_date': '2011-08-02', 'description': 'Inland Land Appreciation Fund Lp (CIK0000825315)', 'fiscal_year': 2011, 'entity_id': 6002, 'sec_filing_id': 202790, 'fiscal_period': '2Q', 'fact_id': 0, 'is_detail': False, 'network_id': 0, 'filing_date': '2011-08-02', 'footnote_type_title': 'Additional 10-K and 10-Q Sections', 'ticker': 'CIK0000825315', 'guide_link': None, 'footnote_type': 2710, 'entity_name': 'Inland Land Appreciation Fund Lp', 'document_type': '10-Q', 'SEC_URL': 'http://www.sec.gov/Archives/edgar/data/825315/000119312511205665/0001193125-11-205665-index.htm'}\n",
      "2710 2011 2 {'page_url': 'ftp://ftp.sec.gov/edgar/data/1095133/000109513311000027/isa3qtr201110qver75.htm', 'local_name': None, 'blob_id': '192993_section271', 'accession_id': 2504, 'received_date': '2011-09-15', 'description': 'Isa Internationale Inc (ISATOB)', 'fiscal_year': 2011, 'entity_id': 1087, 'sec_filing_id': 192993, 'fiscal_period': '3Q', 'fact_id': 0, 'is_detail': False, 'network_id': 0, 'filing_date': '2011-09-15', 'footnote_type_title': 'Additional 10-K and 10-Q Sections', 'ticker': 'ISATOB', 'guide_link': None, 'footnote_type': 2710, 'entity_name': 'Isa Internationale Inc', 'document_type': '10-Q/A', 'SEC_URL': 'http://www.sec.gov/Archives/edgar/data/1095133/000109513311000027/0001095133-11-000027-index.htm'}\n",
      "2710 2011 2 {'page_url': 'ftp://ftp.sec.gov/edgar/data/1104265/000101041211000432/lighttouchform10qjune11.htm', 'local_name': None, 'blob_id': '193232_section271', 'accession_id': 2743, 'received_date': '2011-08-12', 'description': 'Grow Solutions Holdings, Inc. (LTVL)', 'fiscal_year': 2011, 'entity_id': 1218, 'sec_filing_id': 193232, 'fiscal_period': '2Q', 'fact_id': 0, 'is_detail': False, 'network_id': 0, 'filing_date': '2011-08-12', 'footnote_type_title': 'Additional 10-K and 10-Q Sections', 'ticker': 'LTVL', 'guide_link': None, 'footnote_type': 2710, 'entity_name': 'Grow Solutions Holdings, Inc.', 'document_type': '10-Q', 'SEC_URL': 'http://www.sec.gov/Archives/edgar/data/1104265/000101041211000432/0001010412-11-000432-index.htm'}\n",
      "2710 2011 2 {'page_url': 'ftp://ftp.sec.gov/edgar/data/1011452/000101145211000020/tenq2a.htm', 'local_name': None, 'blob_id': '190793_section271', 'accession_id': 304, 'received_date': '2011-09-06', 'description': 'Medical Information Technology, Inc. (CIK0001011452)', 'fiscal_year': 2011, 'entity_id': 129, 'sec_filing_id': 190793, 'fiscal_period': '2Q', 'fact_id': 0, 'is_detail': False, 'network_id': 0, 'filing_date': '2011-09-06', 'footnote_type_title': 'Additional 10-K and 10-Q Sections', 'ticker': 'CIK0001011452', 'guide_link': None, 'footnote_type': 2710, 'entity_name': 'Medical Information Technology, Inc.', 'document_type': '10-Q/A', 'SEC_URL': 'http://www.sec.gov/Archives/edgar/data/1011452/000101145211000020/0001011452-11-000020-index.htm'}\n",
      "2710 2011 2 {'page_url': 'ftp://ftp.sec.gov/edgar/data/1100734/000101041211000401/merilusform10qjune11.htm', 'local_name': None, 'blob_id': '193140_section271', 'accession_id': 2651, 'received_date': '2011-08-09', 'description': 'Kingsmen Capital Group, Ltd (ZNDX)', 'fiscal_year': 2011, 'entity_id': 1168, 'sec_filing_id': 193140, 'fiscal_period': '2Q', 'fact_id': 0, 'is_detail': False, 'network_id': 0, 'filing_date': '2011-08-09', 'footnote_type_title': 'Additional 10-K and 10-Q Sections', 'ticker': 'ZNDX', 'guide_link': None, 'footnote_type': 2710, 'entity_name': 'Kingsmen Capital Group, Ltd', 'document_type': '10-Q', 'SEC_URL': 'http://www.sec.gov/Archives/edgar/data/1100734/000101041211000401/0001010412-11-000401-index.htm'}\n",
      "2710 2011 2 {'page_url': 'ftp://ftp.sec.gov/edgar/data/1104672/000121152411000195/qjune2011final.htm', 'local_name': None, 'blob_id': '193246_section271', 'accession_id': 2757, 'received_date': '2011-08-26', 'description': 'Park Vida Group, Inc. (PRKV)', 'fiscal_year': 2011, 'entity_id': 1225, 'sec_filing_id': 193246, 'fiscal_period': '2Q', 'fact_id': 0, 'is_detail': False, 'network_id': 0, 'filing_date': '2011-08-26', 'footnote_type_title': 'Additional 10-K and 10-Q Sections', 'ticker': 'PRKV', 'guide_link': None, 'footnote_type': 2710, 'entity_name': 'Park Vida Group, Inc.', 'document_type': '10-Q/A', 'SEC_URL': 'http://www.sec.gov/Archives/edgar/data/1104672/000121152411000195/0001211524-11-000195-index.htm'}\n",
      "2710 2011 2 {'page_url': 'ftp://ftp.sec.gov/edgar/data/1169567/000116956711000009/oxford10q06302011a.htm', 'local_name': None, 'blob_id': '194297_section271', 'accession_id': 3808, 'received_date': '2011-08-18', 'description': 'Oxford Technologies Inc (OXFO)', 'fiscal_year': 2011, 'entity_id': 1716, 'sec_filing_id': 194297, 'fiscal_period': '2Q', 'fact_id': 0, 'is_detail': False, 'network_id': 0, 'filing_date': '2011-08-18', 'footnote_type_title': 'Additional 10-K and 10-Q Sections', 'ticker': 'OXFO', 'guide_link': None, 'footnote_type': 2710, 'entity_name': 'Oxford Technologies Inc', 'document_type': '10-Q/A', 'SEC_URL': 'http://www.sec.gov/Archives/edgar/data/1169567/000116956711000009/0001169567-11-000009-index.htm'}\n",
      "2710 2011 2 {'page_url': 'ftp://ftp.sec.gov/edgar/data/1027235/000101041211000390/piranhaform10qjune115.htm', 'local_name': None, 'blob_id': '191199_section271', 'accession_id': 710, 'received_date': '2011-08-05', 'description': 'Asia Travel Corp (PNHVD)', 'fiscal_year': 2011, 'entity_id': 304, 'sec_filing_id': 191199, 'fiscal_period': '2Q', 'fact_id': 0, 'is_detail': False, 'network_id': 0, 'filing_date': '2011-08-05', 'footnote_type_title': 'Additional 10-K and 10-Q Sections', 'ticker': 'PNHVD', 'guide_link': None, 'footnote_type': 2710, 'entity_name': 'Asia Travel Corp', 'document_type': '10-Q', 'SEC_URL': 'http://www.sec.gov/Archives/edgar/data/1027235/000101041211000390/0001010412-11-000390-index.htm'}\n",
      "2710 2011 2 {'page_url': 'ftp://ftp.sec.gov/edgar/data/78838/000007883811000036/pw2011q210qv2.htm', 'local_name': None, 'blob_id': '201970_section271', 'accession_id': 11482, 'received_date': '2011-08-12', 'description': 'Pittsburgh & West Virginia Railroad (CIK0000078838)', 'fiscal_year': 2011, 'entity_id': 5710, 'sec_filing_id': 201970, 'fiscal_period': '2Q', 'fact_id': 0, 'is_detail': False, 'network_id': 0, 'filing_date': '2011-08-12', 'footnote_type_title': 'Additional 10-K and 10-Q Sections', 'ticker': 'CIK0000078838', 'guide_link': None, 'footnote_type': 2710, 'entity_name': 'Pittsburgh & West Virginia Railroad', 'document_type': '10-Q', 'SEC_URL': 'http://www.sec.gov/Archives/edgar/data/78838/000007883811000036/0000078838-11-000036-index.htm'}\n",
      "2710 2011 2 {'page_url': 'ftp://ftp.sec.gov/edgar/data/790179/000102317511000433/f10qv2edgar.htm', 'local_name': None, 'blob_id': '202034_section271', 'accession_id': 11546, 'received_date': '2011-08-11', 'description': 'Prestige Capital Corp (PGEC)', 'fiscal_year': 2011, 'entity_id': 5732, 'sec_filing_id': 202034, 'fiscal_period': '2Q', 'fact_id': 0, 'is_detail': False, 'network_id': 0, 'filing_date': '2011-08-11', 'footnote_type_title': 'Additional 10-K and 10-Q Sections', 'ticker': 'PGEC', 'guide_link': None, 'footnote_type': 2710, 'entity_name': 'Prestige Capital Corp', 'document_type': '10-Q/A', 'SEC_URL': 'http://www.sec.gov/Archives/edgar/data/790179/000102317511000433/0001023175-11-000433-index.htm'}\n"
     ]
    },
    {
     "name": "stdout",
     "output_type": "stream",
     "text": [
      "2710 2011 2 {'page_url': 'ftp://ftp.sec.gov/edgar/data/1329606/000150441211000059/probeq22011.htm', 'local_name': None, 'blob_id': '195657_section271', 'accession_id': 5168, 'received_date': '2011-08-15', 'description': 'Probe Manufacturing Inc (CETY)', 'fiscal_year': 2011, 'entity_id': 2494, 'sec_filing_id': 195657, 'fiscal_period': '2Q', 'fact_id': 0, 'is_detail': False, 'network_id': 0, 'filing_date': '2011-08-15', 'footnote_type_title': 'Additional 10-K and 10-Q Sections', 'ticker': 'CETY', 'guide_link': None, 'footnote_type': 2710, 'entity_name': 'Probe Manufacturing Inc', 'document_type': '10-Q', 'SEC_URL': 'http://www.sec.gov/Archives/edgar/data/1329606/000150441211000059/0001504412-11-000059-index.htm'}\n",
      "2710 2011 2 {'page_url': 'ftp://ftp.sec.gov/edgar/data/1333614/000137216711000039/razor10qajuly31.htm', 'local_name': None, 'blob_id': '195728_section271', 'accession_id': 5239, 'received_date': '2011-10-06', 'description': 'You Han Data Tech Co Ltd. (RZOR)', 'fiscal_year': 2011, 'entity_id': 2532, 'sec_filing_id': 195728, 'fiscal_period': '1Q', 'fact_id': 0, 'is_detail': False, 'network_id': 0, 'filing_date': '2011-10-06', 'footnote_type_title': 'Additional 10-K and 10-Q Sections', 'ticker': 'RZOR', 'guide_link': None, 'footnote_type': 2710, 'entity_name': 'You Han Data Tech Co Ltd.', 'document_type': '10-Q/A', 'SEC_URL': 'http://www.sec.gov/Archives/edgar/data/1333614/000137216711000039/0001372167-11-000039-index.htm'}\n",
      "2710 2011 2 {'page_url': 'ftp://ftp.sec.gov/edgar/data/1103090/000101041211000453/f10qq211v7.htm', 'local_name': None, 'blob_id': '193202_section271', 'accession_id': 2713, 'received_date': '2011-08-15', 'description': 'Reflect Scientific Inc (RSCF)', 'fiscal_year': 2011, 'entity_id': 1202, 'sec_filing_id': 193202, 'fiscal_period': '2Q', 'fact_id': 0, 'is_detail': False, 'network_id': 0, 'filing_date': '2011-08-15', 'footnote_type_title': 'Additional 10-K and 10-Q Sections', 'ticker': 'RSCF', 'guide_link': None, 'footnote_type': 2710, 'entity_name': 'Reflect Scientific Inc', 'document_type': '10-Q', 'SEC_URL': 'http://www.sec.gov/Archives/edgar/data/1103090/000101041211000453/0001010412-11-000453-index.htm'}\n",
      "2710 2011 2 {'page_url': 'ftp://ftp.sec.gov/edgar/data/1419559/000101041211000443/rtform10qjune11maryschanges.htm', 'local_name': None, 'blob_id': '197144_section271', 'accession_id': 6655, 'received_date': '2011-08-15', 'description': 'CAM Group, Inc. (CAMG)', 'fiscal_year': 2011, 'entity_id': 3503, 'sec_filing_id': 197144, 'fiscal_period': '2Q', 'fact_id': 0, 'is_detail': False, 'network_id': 0, 'filing_date': '2011-08-15', 'footnote_type_title': 'Additional 10-K and 10-Q Sections', 'ticker': 'CAMG', 'guide_link': None, 'footnote_type': 2710, 'entity_name': 'CAM Group, Inc.', 'document_type': '10-Q', 'SEC_URL': 'http://www.sec.gov/Archives/edgar/data/1419559/000101041211000443/0001010412-11-000443-index.htm'}\n",
      "2710 2011 2 {'page_url': 'ftp://ftp.sec.gov/edgar/data/1276531/000127653111000012/scientificenergy10q06302011.htm', 'local_name': None, 'blob_id': '194910_section271', 'accession_id': 4421, 'received_date': '2011-08-11', 'description': 'Scientific Energy Inc (SCGY)', 'fiscal_year': 2011, 'entity_id': 2060, 'sec_filing_id': 194910, 'fiscal_period': '2Q', 'fact_id': 0, 'is_detail': False, 'network_id': 0, 'filing_date': '2011-08-11', 'footnote_type_title': 'Additional 10-K and 10-Q Sections', 'ticker': 'SCGY', 'guide_link': None, 'footnote_type': 2710, 'entity_name': 'Scientific Energy Inc', 'document_type': '10-Q/A', 'SEC_URL': 'http://www.sec.gov/Archives/edgar/data/1276531/000127653111000012/0001276531-11-000012-index.htm'}\n",
      "2710 2011 2 {'page_url': 'ftp://ftp.sec.gov/edgar/data/1432290/000093173111000172/securewindow-10q063011.htm', 'local_name': None, 'blob_id': '197355_section271', 'accession_id': 6866, 'received_date': '2011-08-18', 'description': 'A1 Group, Inc. (FBTN)', 'fiscal_year': 2011, 'entity_id': 3662, 'sec_filing_id': 197355, 'fiscal_period': '2Q', 'fact_id': 0, 'is_detail': False, 'network_id': 0, 'filing_date': '2011-08-18', 'footnote_type_title': 'Additional 10-K and 10-Q Sections', 'ticker': 'FBTN', 'guide_link': None, 'footnote_type': 2710, 'entity_name': 'A1 Group, Inc.', 'document_type': '10-Q/A', 'SEC_URL': 'http://www.sec.gov/Archives/edgar/data/1432290/000093173111000172/0000931731-11-000172-index.htm'}\n",
      "2710 2011 2 {'page_url': 'ftp://ftp.sec.gov/edgar/data/1310630/000101041211000420/trafalgar10qjune11.htm', 'local_name': None, 'blob_id': '195373_section271', 'accession_id': 4884, 'received_date': '2011-08-11', 'description': 'Trafalgar Resources, Inc. (TFLG)', 'fiscal_year': 2011, 'entity_id': 2331, 'sec_filing_id': 195373, 'fiscal_period': '3Q', 'fact_id': 0, 'is_detail': False, 'network_id': 0, 'filing_date': '2011-08-11', 'footnote_type_title': 'Additional 10-K and 10-Q Sections', 'ticker': 'TFLG', 'guide_link': None, 'footnote_type': 2710, 'entity_name': 'Trafalgar Resources, Inc.', 'document_type': '10-Q', 'SEC_URL': 'http://www.sec.gov/Archives/edgar/data/1310630/000101041211000420/0001010412-11-000420-index.htm'}\n",
      "2710 2011 2 {'page_url': 'ftp://ftp.sec.gov/edgar/data/1028394/000102317511000447/veii6301110q2.htm', 'local_name': None, 'blob_id': '191221_section271', 'accession_id': 732, 'received_date': '2011-08-12', 'description': 'Voyager Entertainment International Inc (VEII)', 'fiscal_year': 2011, 'entity_id': 313, 'sec_filing_id': 191221, 'fiscal_period': '2Q', 'fact_id': 0, 'is_detail': False, 'network_id': 0, 'filing_date': '2011-08-12', 'footnote_type_title': 'Additional 10-K and 10-Q Sections', 'ticker': 'VEII', 'guide_link': None, 'footnote_type': 2710, 'entity_name': 'Voyager Entertainment International Inc', 'document_type': '10-Q', 'SEC_URL': 'http://www.sec.gov/Archives/edgar/data/1028394/000102317511000447/0001023175-11-000447-index.htm'}\n",
      "2710 2011 2 {'page_url': 'ftp://ftp.sec.gov/edgar/data/1442101/000100233411000346/j11q.htm', 'local_name': None, 'blob_id': '197491_section271', 'accession_id': 7002, 'received_date': '2011-08-17', 'description': 'Western Lucrative Enterprises, Inc. (WLUC)', 'fiscal_year': 2011, 'entity_id': 3786, 'sec_filing_id': 197491, 'fiscal_period': '2Q', 'fact_id': 0, 'is_detail': False, 'network_id': 0, 'filing_date': '2011-08-17', 'footnote_type_title': 'Additional 10-K and 10-Q Sections', 'ticker': 'WLUC', 'guide_link': None, 'footnote_type': 2710, 'entity_name': 'Western Lucrative Enterprises, Inc.', 'document_type': '10-Q', 'SEC_URL': 'http://www.sec.gov/Archives/edgar/data/1442101/000100233411000346/0001002334-11-000346-index.htm'}\n",
      "2710 2011 2 {'page_url': 'ftp://ftp.sec.gov/edgar/data/1099568/000109956811000005/f10qajune2011.htm', 'local_name': None, 'blob_id': '193112_section271', 'accession_id': 2623, 'received_date': '2011-09-15', 'description': 'Westgate Acquisitions Corp (WESTG)', 'fiscal_year': 2011, 'entity_id': 1152, 'sec_filing_id': 193112, 'fiscal_period': '2Q', 'fact_id': 0, 'is_detail': False, 'network_id': 0, 'filing_date': '2011-09-15', 'footnote_type_title': 'Additional 10-K and 10-Q Sections', 'ticker': 'WESTG', 'guide_link': None, 'footnote_type': 2710, 'entity_name': 'Westgate Acquisitions Corp', 'document_type': '10-Q/A', 'SEC_URL': 'http://www.sec.gov/Archives/edgar/data/1099568/000109956811000005/0001099568-11-000005-index.htm'}\n"
     ]
    },
    {
     "data": {
      "application/vnd.jupyter.widget-view+json": {
       "model_id": "e016c327566d425fbaa77193f920c1bb"
      }
     },
     "metadata": {},
     "output_type": "display_data"
    },
    {
     "name": "stdout",
     "output_type": "stream",
     "text": [
      "2710 2011 3 {'page_url': 'ftp://ftp.sec.gov/edgar/data/1510961/000148725211000074/ucv1septq.htm', 'local_name': None, 'blob_id': '198255_section271', 'accession_id': 7766, 'received_date': '2011-10-07', 'description': 'USChina Venture I Inc (CIK0001510961)', 'fiscal_year': 2011, 'entity_id': 4437, 'sec_filing_id': 198255, 'fiscal_period': '3Q', 'fact_id': 0, 'is_detail': False, 'network_id': 0, 'filing_date': '2011-10-07', 'footnote_type_title': 'Additional 10-K and 10-Q Sections', 'ticker': 'CIK0001510961', 'guide_link': None, 'footnote_type': 2710, 'entity_name': 'USChina Venture I Inc', 'document_type': '10-Q', 'SEC_URL': 'http://www.sec.gov/Archives/edgar/data/1510961/000148725211000074/0001487252-11-000074-index.htm'}\n",
      "2710 2011 3 {'page_url': 'ftp://ftp.sec.gov/edgar/data/1510962/000148725211000078/ucv1septq.htm', 'local_name': None, 'blob_id': '198257_section271', 'accession_id': 7768, 'received_date': '2011-10-07', 'description': 'USChina Venture II Inc (CIK0001510962)', 'fiscal_year': 2011, 'entity_id': 4438, 'sec_filing_id': 198257, 'fiscal_period': '3Q', 'fact_id': 0, 'is_detail': False, 'network_id': 0, 'filing_date': '2011-10-07', 'footnote_type_title': 'Additional 10-K and 10-Q Sections', 'ticker': 'CIK0001510962', 'guide_link': None, 'footnote_type': 2710, 'entity_name': 'USChina Venture II Inc', 'document_type': '10-Q', 'SEC_URL': 'http://www.sec.gov/Archives/edgar/data/1510962/000148725211000078/0001487252-11-000078-index.htm'}\n"
     ]
    },
    {
     "data": {
      "application/vnd.jupyter.widget-view+json": {
       "model_id": "28e50091840a4bc0ae4ab1f78be79146"
      }
     },
     "metadata": {},
     "output_type": "display_data"
    },
    {
     "data": {
      "application/vnd.jupyter.widget-view+json": {
       "model_id": "490071e184ee4848a68df3df32cfcd32"
      }
     },
     "metadata": {},
     "output_type": "display_data"
    },
    {
     "data": {
      "application/vnd.jupyter.widget-view+json": {
       "model_id": "757053d909004074b4caee305d7a701a"
      }
     },
     "metadata": {},
     "output_type": "display_data"
    },
    {
     "data": {
      "application/vnd.jupyter.widget-view+json": {
       "model_id": "360865a55a7b4d03b8d93d6713bdf69c"
      }
     },
     "metadata": {},
     "output_type": "display_data"
    },
    {
     "data": {
      "application/vnd.jupyter.widget-view+json": {
       "model_id": "89282a95e22047f68b3576713d5c4f95"
      }
     },
     "metadata": {},
     "output_type": "display_data"
    },
    {
     "data": {
      "application/vnd.jupyter.widget-view+json": {
       "model_id": "d181c3c3ebf641a6a64835b4b68eee51"
      }
     },
     "metadata": {},
     "output_type": "display_data"
    },
    {
     "data": {
      "application/vnd.jupyter.widget-view+json": {
       "model_id": "20bed114fb72448ca4b8961f4d16df5c"
      }
     },
     "metadata": {},
     "output_type": "display_data"
    },
    {
     "data": {
      "application/vnd.jupyter.widget-view+json": {
       "model_id": "c8b62253232a4569b7394221658e2575"
      }
     },
     "metadata": {},
     "output_type": "display_data"
    },
    {
     "data": {
      "application/vnd.jupyter.widget-view+json": {
       "model_id": "625e3acf191947eeb0f4c20e3d3f6d45"
      }
     },
     "metadata": {},
     "output_type": "display_data"
    },
    {
     "data": {
      "application/vnd.jupyter.widget-view+json": {
       "model_id": "4b913ec231b3407bb6439d886083510e"
      }
     },
     "metadata": {},
     "output_type": "display_data"
    },
    {
     "data": {
      "application/vnd.jupyter.widget-view+json": {
       "model_id": "507d034e83de4bb2a6291ec7486b706b"
      }
     },
     "metadata": {},
     "output_type": "display_data"
    },
    {
     "data": {
      "application/vnd.jupyter.widget-view+json": {
       "model_id": "588c9496a4fb4ac49c8a8d5df91575b5"
      }
     },
     "metadata": {},
     "output_type": "display_data"
    },
    {
     "data": {
      "application/vnd.jupyter.widget-view+json": {
       "model_id": "a6af19aaf85840dcaeba0cc50c5b4e08"
      }
     },
     "metadata": {},
     "output_type": "display_data"
    },
    {
     "data": {
      "application/vnd.jupyter.widget-view+json": {
       "model_id": "d39376fa51b744e8b1112d56f2d65404"
      }
     },
     "metadata": {},
     "output_type": "display_data"
    },
    {
     "data": {
      "application/vnd.jupyter.widget-view+json": {
       "model_id": "186804be4c5f4852851e9b795156c811"
      }
     },
     "metadata": {},
     "output_type": "display_data"
    },
    {
     "data": {
      "application/vnd.jupyter.widget-view+json": {
       "model_id": "3a8846a924724dbf8d9c97ad628c476a"
      }
     },
     "metadata": {},
     "output_type": "display_data"
    },
    {
     "data": {
      "application/vnd.jupyter.widget-view+json": {
       "model_id": "c83ed20498934e659e6f869000f83665"
      }
     },
     "metadata": {},
     "output_type": "display_data"
    },
    {
     "data": {
      "application/vnd.jupyter.widget-view+json": {
       "model_id": "550f0faa5a9e4828a7dfad1d2514728c"
      }
     },
     "metadata": {},
     "output_type": "display_data"
    },
    {
     "data": {
      "application/vnd.jupyter.widget-view+json": {
       "model_id": "2e3d7a71afa84d729c7492ab3d68b1cf"
      }
     },
     "metadata": {},
     "output_type": "display_data"
    },
    {
     "name": "stdout",
     "output_type": "stream",
     "text": [
      "2710 2016 2 {'page_url': 'ftp://ftp.sec.gov/edgar/data/1472595/000147259516000220/june302016-form10q.htm', 'local_name': None, 'blob_id': '607039_section271', 'accession_id': 165832, 'received_date': '2016-08-04', 'description': 'R1 Rcm Inc. (ACHI)', 'fiscal_year': 2016, 'entity_id': 4024, 'sec_filing_id': 607039, 'fiscal_period': '2Q', 'fact_id': 0, 'is_detail': False, 'network_id': 0, 'filing_date': '2016-08-04', 'footnote_type_title': 'Additional 10-K and 10-Q Sections', 'ticker': 'ACHI', 'guide_link': None, 'footnote_type': 2710, 'entity_name': 'R1 Rcm Inc.', 'document_type': '10-Q', 'SEC_URL': 'http://www.sec.gov/Archives/edgar/data/1472595/000147259516000220/0001472595-16-000220-index.htm'}\n",
      "2710 2016 2 {'page_url': 'ftp://ftp.sec.gov/edgar/data/7789/000000778916000069/asb0630201610q.htm', 'local_name': None, 'blob_id': '603524_section271', 'accession_id': 164658, 'received_date': '2016-07-28', 'description': 'Associated Banc-Corp (ASB)', 'fiscal_year': 2016, 'entity_id': 5663, 'sec_filing_id': 603524, 'fiscal_period': '2Q', 'fact_id': 0, 'is_detail': False, 'network_id': 0, 'filing_date': '2016-07-28', 'footnote_type_title': 'Additional 10-K and 10-Q Sections', 'ticker': 'ASB', 'guide_link': None, 'footnote_type': 2710, 'entity_name': 'Associated Banc-Corp', 'document_type': '10-Q', 'SEC_URL': 'http://www.sec.gov/Archives/edgar/data/7789/000000778916000069/0000007789-16-000069-index.htm'}\n",
      "2710 2016 2 {'page_url': 'ftp://ftp.sec.gov/edgar/data/702513/000143774916036550/boch20160630_10q.htm', 'local_name': None, 'blob_id': '608096_section271', 'accession_id': 166230, 'received_date': '2016-08-05', 'description': 'Bank of Commerce Holdings (BOCH)', 'fiscal_year': 2016, 'entity_id': 5180, 'sec_filing_id': 608096, 'fiscal_period': '2Q', 'fact_id': 0, 'is_detail': False, 'network_id': 0, 'filing_date': '2016-08-05', 'footnote_type_title': 'Additional 10-K and 10-Q Sections', 'ticker': 'BOCH', 'guide_link': None, 'footnote_type': 2710, 'entity_name': 'Bank of Commerce Holdings', 'document_type': '10-Q', 'SEC_URL': 'http://www.sec.gov/Archives/edgar/data/702513/000143774916036550/0001437749-16-036550-index.htm'}\n",
      "2710 2016 2 {'page_url': 'ftp://ftp.sec.gov/edgar/data/902791/000119312516676902/d221905d10q.htm', 'local_name': None, 'blob_id': '610294_section271', 'accession_id': 167588, 'received_date': '2016-08-09', 'description': 'Barrett Business Services Inc (BBSI)', 'fiscal_year': 2016, 'entity_id': 6690, 'sec_filing_id': 610294, 'fiscal_period': '2Q', 'fact_id': 0, 'is_detail': False, 'network_id': 0, 'filing_date': '2016-08-09', 'footnote_type_title': 'Additional 10-K and 10-Q Sections', 'ticker': 'BBSI', 'guide_link': None, 'footnote_type': 2710, 'entity_name': 'Barrett Business Services Inc', 'document_type': '10-Q', 'SEC_URL': 'http://www.sec.gov/Archives/edgar/data/902791/000119312516676902/0001193125-16-676902-index.htm'}\n",
      "2710 2016 2 {'page_url': 'ftp://ftp.sec.gov/edgar/data/1075706/000119312516676113/d215574d10q.htm', 'local_name': None, 'blob_id': '609654_section271', 'accession_id': 167121, 'received_date': '2016-08-09', 'description': 'Citizens Holding Co /MS/ (CIZN)', 'fiscal_year': 2016, 'entity_id': 839, 'sec_filing_id': 609654, 'fiscal_period': '2Q', 'fact_id': 0, 'is_detail': False, 'network_id': 0, 'filing_date': '2016-08-09', 'footnote_type_title': 'Additional 10-K and 10-Q Sections', 'ticker': 'CIZN', 'guide_link': None, 'footnote_type': 2710, 'entity_name': 'Citizens Holding Co /MS/', 'document_type': '10-Q', 'SEC_URL': 'http://www.sec.gov/Archives/edgar/data/1075706/000119312516676113/0001193125-16-676113-index.htm'}\n",
      "2710 2016 2 {'page_url': 'ftp://ftp.sec.gov/edgar/data/1015780/000101578016000165/etfc-2016630x10q.htm', 'local_name': None, 'blob_id': '607238_section271', 'accession_id': 165874, 'received_date': '2016-08-04', 'description': 'E Trade Financial Corp (ETFC)', 'fiscal_year': 2016, 'entity_id': 175, 'sec_filing_id': 607238, 'fiscal_period': '2Q', 'fact_id': 0, 'is_detail': False, 'network_id': 0, 'filing_date': '2016-08-04', 'footnote_type_title': 'Additional 10-K and 10-Q Sections', 'ticker': 'ETFC', 'guide_link': None, 'footnote_type': 2710, 'entity_name': 'E Trade Financial Corp', 'document_type': '10-Q', 'SEC_URL': 'http://www.sec.gov/Archives/edgar/data/1015780/000101578016000165/0001015780-16-000165-index.htm'}\n",
      "2710 2016 2 {'page_url': 'ftp://ftp.sec.gov/edgar/data/1490873/000159406216000609/form10q.htm', 'local_name': None, 'blob_id': '617809_section271', 'accession_id': 170374, 'received_date': '2016-09-19', 'description': 'Eco Science Solutions, Inc. (ESSI)', 'fiscal_year': 2017, 'entity_id': 4216, 'sec_filing_id': 617809, 'fiscal_period': '2Q', 'fact_id': 0, 'is_detail': False, 'network_id': 0, 'filing_date': '2016-09-19', 'footnote_type_title': 'Additional 10-K and 10-Q Sections', 'ticker': 'ESSI', 'guide_link': None, 'footnote_type': 2710, 'entity_name': 'Eco Science Solutions, Inc.', 'document_type': '10-Q', 'SEC_URL': 'http://www.sec.gov/Archives/edgar/data/1490873/000159406216000609/0001594062-16-000609-index.htm'}\n",
      "2710 2016 2 {'page_url': 'ftp://ftp.sec.gov/edgar/data/1331757/000133175716000053/a630201610q.htm', 'local_name': None, 'blob_id': '611687_section271', 'accession_id': 168345, 'received_date': '2016-08-12', 'description': 'Federal Home Loan Bank of Dallas (FHLBD)', 'fiscal_year': 2016, 'entity_id': 2516, 'sec_filing_id': 611687, 'fiscal_period': '2Q', 'fact_id': 0, 'is_detail': False, 'network_id': 0, 'filing_date': '2016-08-12', 'footnote_type_title': 'Additional 10-K and 10-Q Sections', 'ticker': 'FHLBD', 'guide_link': None, 'footnote_type': 2710, 'entity_name': 'Federal Home Loan Bank of Dallas', 'document_type': '10-Q', 'SEC_URL': 'http://www.sec.gov/Archives/edgar/data/1331757/000133175716000053/0001331757-16-000053-index.htm'}\n",
      "2710 2016 2 {'page_url': 'ftp://ftp.sec.gov/edgar/data/1329842/000110465916138987/a16-11511_110q.htm', 'local_name': None, 'blob_id': '611199_section271', 'accession_id': 168044, 'received_date': '2016-08-11', 'description': 'Federal Home Loan Bank of New York (FHLBNY)', 'fiscal_year': 2016, 'entity_id': 2496, 'sec_filing_id': 611199, 'fiscal_period': '2Q', 'fact_id': 0, 'is_detail': False, 'network_id': 0, 'filing_date': '2016-08-11', 'footnote_type_title': 'Additional 10-K and 10-Q Sections', 'ticker': 'FHLBNY', 'guide_link': None, 'footnote_type': 2710, 'entity_name': 'Federal Home Loan Bank of New York', 'document_type': '10-Q', 'SEC_URL': 'http://www.sec.gov/Archives/edgar/data/1329842/000110465916138987/0001104659-16-138987-index.htm'}\n",
      "2710 2016 2 {'page_url': 'ftp://ftp.sec.gov/edgar/data/36029/000119312516661536/d209433d10q.htm', 'local_name': None, 'blob_id': '603017_section271', 'accession_id': 164499, 'received_date': '2016-07-28', 'description': 'First Financial Bankshares Inc (FFIN)', 'fiscal_year': 2016, 'entity_id': 4912, 'sec_filing_id': 603017, 'fiscal_period': '2Q', 'fact_id': 0, 'is_detail': False, 'network_id': 0, 'filing_date': '2016-07-28', 'footnote_type_title': 'Additional 10-K and 10-Q Sections', 'ticker': 'FFIN', 'guide_link': None, 'footnote_type': 2710, 'entity_name': 'First Financial Bankshares Inc', 'document_type': '10-Q', 'SEC_URL': 'http://www.sec.gov/Archives/edgar/data/36029/000119312516661536/0001193125-16-661536-index.htm'}\n",
      "2710 2016 2 {'page_url': 'ftp://ftp.sec.gov/edgar/data/1128361/000112836116000097/hope-6301610q.htm', 'local_name': None, 'blob_id': '609490_section271', 'accession_id': 167055, 'received_date': '2016-08-08', 'description': 'Hope Bancorp Inc (BBCN)', 'fiscal_year': 2016, 'entity_id': 1425, 'sec_filing_id': 609490, 'fiscal_period': '2Q', 'fact_id': 0, 'is_detail': False, 'network_id': 0, 'filing_date': '2016-08-08', 'footnote_type_title': 'Additional 10-K and 10-Q Sections', 'ticker': 'BBCN', 'guide_link': None, 'footnote_type': 2710, 'entity_name': 'Hope Bancorp Inc', 'document_type': '10-Q', 'SEC_URL': 'http://www.sec.gov/Archives/edgar/data/1128361/000112836116000097/0001128361-16-000097-index.htm'}\n"
     ]
    },
    {
     "name": "stdout",
     "output_type": "stream",
     "text": [
      "2710 2016 2 {'page_url': 'ftp://ftp.sec.gov/edgar/data/315374/000114420416122905/v447426_10q.htm', 'local_name': None, 'blob_id': '616164_section271', 'accession_id': 169998, 'received_date': '2016-09-06', 'description': 'Hurco Companies Inc (HURC)', 'fiscal_year': 2016, 'entity_id': 4749, 'sec_filing_id': 616164, 'fiscal_period': '3Q', 'fact_id': 0, 'is_detail': False, 'network_id': 0, 'filing_date': '2016-09-06', 'footnote_type_title': 'Additional 10-K and 10-Q Sections', 'ticker': 'HURC', 'guide_link': None, 'footnote_type': 2710, 'entity_name': 'Hurco Companies Inc', 'document_type': '10-Q', 'SEC_URL': 'http://www.sec.gov/Archives/edgar/data/315374/000114420416122905/0001144204-16-122905-index.htm'}\n",
      "2710 2016 2 {'page_url': 'ftp://ftp.sec.gov/edgar/data/1495231/000149523116000133/izea16063010q.htm', 'local_name': None, 'blob_id': '611149_section271', 'accession_id': 168015, 'received_date': '2016-08-11', 'description': 'IZEA, Inc. (IZEA)', 'fiscal_year': 2016, 'entity_id': 4269, 'sec_filing_id': 611149, 'fiscal_period': '2Q', 'fact_id': 0, 'is_detail': False, 'network_id': 0, 'filing_date': '2016-08-11', 'footnote_type_title': 'Additional 10-K and 10-Q Sections', 'ticker': 'IZEA', 'guide_link': None, 'footnote_type': 2710, 'entity_name': 'IZEA, Inc.', 'document_type': '10-Q', 'SEC_URL': 'http://www.sec.gov/Archives/edgar/data/1495231/000149523116000133/0001495231-16-000133-index.htm'}\n",
      "2710 2016 2 {'page_url': 'ftp://ftp.sec.gov/edgar/data/19617/000001961716001056/corpq22016.htm', 'local_name': None, 'blob_id': '605838_section271', 'accession_id': 165459, 'received_date': '2016-08-03', 'description': 'Jpmorgan Chase & Co (JPM)', 'fiscal_year': 2016, 'entity_id': 4560, 'sec_filing_id': 605838, 'fiscal_period': '2Q', 'fact_id': 0, 'is_detail': False, 'network_id': 0, 'filing_date': '2016-08-03', 'footnote_type_title': 'Additional 10-K and 10-Q Sections', 'ticker': 'JPM', 'guide_link': None, 'footnote_type': 2710, 'entity_name': 'Jpmorgan Chase & Co', 'document_type': '10-Q', 'SEC_URL': 'http://www.sec.gov/Archives/edgar/data/19617/000001961716001056/0000019617-16-001056-index.htm'}\n",
      "2710 2016 2 {'page_url': 'ftp://ftp.sec.gov/edgar/data/704051/000070405116000179/lm_10qx6302016.htm', 'local_name': None, 'blob_id': '605177_section271', 'accession_id': 165204, 'received_date': '2016-08-02', 'description': 'Legg Mason, Inc. (LM)', 'fiscal_year': 2017, 'entity_id': 5191, 'sec_filing_id': 605177, 'fiscal_period': '1Q', 'fact_id': 0, 'is_detail': False, 'network_id': 0, 'filing_date': '2016-08-02', 'footnote_type_title': 'Additional 10-K and 10-Q Sections', 'ticker': 'LM', 'guide_link': None, 'footnote_type': 2710, 'entity_name': 'Legg Mason, Inc.', 'document_type': '10-Q', 'SEC_URL': 'http://www.sec.gov/Archives/edgar/data/704051/000070405116000179/0000704051-16-000179-index.htm'}\n",
      "2710 2016 2 {'page_url': 'ftp://ftp.sec.gov/edgar/data/1356564/000144586616002517/leom10q08152016.htm', 'local_name': None, 'blob_id': '612820_section271', 'accession_id': 169161, 'received_date': '2016-08-15', 'description': 'Leo Motors, Inc. (LEOM)', 'fiscal_year': 2016, 'entity_id': 2733, 'sec_filing_id': 612820, 'fiscal_period': '2Q', 'fact_id': 0, 'is_detail': False, 'network_id': 0, 'filing_date': '2016-08-15', 'footnote_type_title': 'Additional 10-K and 10-Q Sections', 'ticker': 'LEOM', 'guide_link': None, 'footnote_type': 2710, 'entity_name': 'Leo Motors, Inc.', 'document_type': '10-Q', 'SEC_URL': 'http://www.sec.gov/Archives/edgar/data/1356564/000144586616002517/0001445866-16-002517-index.htm'}\n",
      "2710 2016 2 {'page_url': 'ftp://ftp.sec.gov/edgar/data/36506/000155837016007997/mfnc-20160630x10q.htm', 'local_name': None, 'blob_id': '612403_section271', 'accession_id': 168819, 'received_date': '2016-08-15', 'description': 'Mackinac Financial Corp /MI/ (MFNC)', 'fiscal_year': 2016, 'entity_id': 4917, 'sec_filing_id': 612403, 'fiscal_period': '2Q', 'fact_id': 0, 'is_detail': False, 'network_id': 0, 'filing_date': '2016-08-15', 'footnote_type_title': 'Additional 10-K and 10-Q Sections', 'ticker': 'MFNC', 'guide_link': None, 'footnote_type': 2710, 'entity_name': 'Mackinac Financial Corp /MI/', 'document_type': '10-Q', 'SEC_URL': 'http://www.sec.gov/Archives/edgar/data/36506/000155837016007997/0001558370-16-007997-index.htm'}\n",
      "2710 2016 2 {'page_url': 'ftp://ftp.sec.gov/edgar/data/1139812/000113981216000088/a06301610q.htm', 'local_name': None, 'blob_id': '608521_section271', 'accession_id': 166532, 'received_date': '2016-08-05', 'description': 'Mb Financial Inc /MD (MBFI)', 'fiscal_year': 2016, 'entity_id': 1523, 'sec_filing_id': 608521, 'fiscal_period': '2Q', 'fact_id': 0, 'is_detail': False, 'network_id': 0, 'filing_date': '2016-08-05', 'footnote_type_title': 'Additional 10-K and 10-Q Sections', 'ticker': 'MBFI', 'guide_link': None, 'footnote_type': 2710, 'entity_name': 'Mb Financial Inc /MD', 'document_type': '10-Q', 'SEC_URL': 'http://www.sec.gov/Archives/edgar/data/1139812/000113981216000088/0001139812-16-000088-index.htm'}\n",
      "2710 2016 2 {'page_url': 'ftp://ftp.sec.gov/edgar/data/1600125/000119312516675086/d213545d10q.htm', 'local_name': None, 'blob_id': '609048_section271', 'accession_id': 166814, 'received_date': '2016-08-08', 'description': 'Meridian Bancorp, Inc. (EBSB)', 'fiscal_year': 2016, 'entity_id': 3405, 'sec_filing_id': 609048, 'fiscal_period': '2Q', 'fact_id': 0, 'is_detail': False, 'network_id': 0, 'filing_date': '2016-08-08', 'footnote_type_title': 'Additional 10-K and 10-Q Sections', 'ticker': 'EBSB', 'guide_link': None, 'footnote_type': 2710, 'entity_name': 'Meridian Bancorp, Inc.', 'document_type': '10-Q', 'SEC_URL': 'http://www.sec.gov/Archives/edgar/data/1600125/000119312516675086/0001193125-16-675086-index.htm'}\n",
      "2710 2016 2 {'page_url': 'ftp://ftp.sec.gov/edgar/data/1578735/000157873516000141/nghc20162q10-q.htm', 'local_name': None, 'blob_id': '608334_section271', 'accession_id': 166368, 'received_date': '2016-08-05', 'description': 'National General Holdings Corp. (NGHC)', 'fiscal_year': 2016, 'entity_id': 9952, 'sec_filing_id': 608334, 'fiscal_period': '2Q', 'fact_id': 0, 'is_detail': False, 'network_id': 0, 'filing_date': '2016-08-05', 'footnote_type_title': 'Additional 10-K and 10-Q Sections', 'ticker': 'NGHC', 'guide_link': None, 'footnote_type': 2710, 'entity_name': 'National General Holdings Corp.', 'document_type': '10-Q', 'SEC_URL': 'http://www.sec.gov/Archives/edgar/data/1578735/000157873516000141/0001578735-16-000141-index.htm'}\n",
      "2710 2016 2 {'page_url': 'ftp://ftp.sec.gov/edgar/data/1504461/000150446116000034/ngl-6302016x10q.htm', 'local_name': None, 'blob_id': '610259_section271', 'accession_id': 167431, 'received_date': '2016-08-09', 'description': 'NGL Energy Partners LP (NGL)', 'fiscal_year': 2017, 'entity_id': 4385, 'sec_filing_id': 610259, 'fiscal_period': '1Q', 'fact_id': 0, 'is_detail': False, 'network_id': 0, 'filing_date': '2016-08-09', 'footnote_type_title': 'Additional 10-K and 10-Q Sections', 'ticker': 'NGL', 'guide_link': None, 'footnote_type': 2710, 'entity_name': 'NGL Energy Partners LP', 'document_type': '10-Q', 'SEC_URL': 'http://www.sec.gov/Archives/edgar/data/1504461/000150446116000034/0001504461-16-000034-index.htm'}\n",
      "2710 2016 2 {'page_url': 'ftp://ftp.sec.gov/edgar/data/1002517/000100251716000078/nuan0630201610-q.htm', 'local_name': None, 'blob_id': '609977_section271', 'accession_id': 167353, 'received_date': '2016-08-09', 'description': 'Nuance Communications, Inc. (NUAN)', 'fiscal_year': 2016, 'entity_id': 40, 'sec_filing_id': 609977, 'fiscal_period': '3Q', 'fact_id': 0, 'is_detail': False, 'network_id': 0, 'filing_date': '2016-08-09', 'footnote_type_title': 'Additional 10-K and 10-Q Sections', 'ticker': 'NUAN', 'guide_link': None, 'footnote_type': 2710, 'entity_name': 'Nuance Communications, Inc.', 'document_type': '10-Q', 'SEC_URL': 'http://www.sec.gov/Archives/edgar/data/1002517/000100251716000078/0001002517-16-000078-index.htm'}\n"
     ]
    },
    {
     "name": "stdout",
     "output_type": "stream",
     "text": [
      "2710 2016 2 {'page_url': 'ftp://ftp.sec.gov/edgar/data/1097792/000121390016016316/f10q0616_omintoinc.htm', 'local_name': None, 'blob_id': '614161_section271', 'accession_id': 169493, 'received_date': '2016-08-22', 'description': 'Ominto, Inc. (OMNT)', 'fiscal_year': 2016, 'entity_id': 1131, 'sec_filing_id': 614161, 'fiscal_period': '3Q', 'fact_id': 0, 'is_detail': False, 'network_id': 0, 'filing_date': '2016-08-22', 'footnote_type_title': 'Additional 10-K and 10-Q Sections', 'ticker': 'OMNT', 'guide_link': None, 'footnote_type': 2710, 'entity_name': 'Ominto, Inc.', 'document_type': '10-Q', 'SEC_URL': 'http://www.sec.gov/Archives/edgar/data/1097792/000121390016016316/0001213900-16-016316-index.htm'}\n",
      "2710 2016 2 {'page_url': 'ftp://ftp.sec.gov/edgar/data/1321070/000143774916037388/ottw20160630_10q.htm', 'local_name': None, 'blob_id': '612167_section271', 'accession_id': 168626, 'received_date': '2016-08-15', 'description': 'Ottawa Bancorp Inc (OTTW)', 'fiscal_year': 2016, 'entity_id': 2404, 'sec_filing_id': 612167, 'fiscal_period': '2Q', 'fact_id': 0, 'is_detail': False, 'network_id': 0, 'filing_date': '2016-08-15', 'footnote_type_title': 'Additional 10-K and 10-Q Sections', 'ticker': 'OTTW', 'guide_link': None, 'footnote_type': 2710, 'entity_name': 'Ottawa Bancorp Inc', 'document_type': '10-Q', 'SEC_URL': 'http://www.sec.gov/Archives/edgar/data/1321070/000143774916037388/0001437749-16-037388-index.htm'}\n",
      "2710 2016 2 {'page_url': 'ftp://ftp.sec.gov/edgar/data/1378946/000119312516676617/d221059d10q.htm', 'local_name': None, 'blob_id': '609839_section271', 'accession_id': 167272, 'received_date': '2016-08-09', 'description': \"People's United Financial, Inc. (PBCT)\", 'fiscal_year': 2016, 'entity_id': 2996, 'sec_filing_id': 609839, 'fiscal_period': '2Q', 'fact_id': 0, 'is_detail': False, 'network_id': 0, 'filing_date': '2016-08-09', 'footnote_type_title': 'Additional 10-K and 10-Q Sections', 'ticker': 'PBCT', 'guide_link': None, 'footnote_type': 2710, 'entity_name': \"People's United Financial, Inc.\", 'document_type': '10-Q', 'SEC_URL': 'http://www.sec.gov/Archives/edgar/data/1378946/000119312516676617/0001193125-16-676617-index.htm'}\n",
      "2710 2016 2 {'page_url': 'ftp://ftp.sec.gov/edgar/data/77776/000007777616000013/phh2016063010-q.htm', 'local_name': None, 'blob_id': '609731_section271', 'accession_id': 167178, 'received_date': '2016-08-09', 'description': 'Phh Corp (PHH)', 'fiscal_year': 2016, 'entity_id': 5657, 'sec_filing_id': 609731, 'fiscal_period': '2Q', 'fact_id': 0, 'is_detail': False, 'network_id': 0, 'filing_date': '2016-08-09', 'footnote_type_title': 'Additional 10-K and 10-Q Sections', 'ticker': 'PHH', 'guide_link': None, 'footnote_type': 2710, 'entity_name': 'Phh Corp', 'document_type': '10-Q', 'SEC_URL': 'http://www.sec.gov/Archives/edgar/data/77776/000007777616000013/0000077776-16-000013-index.htm'}\n",
      "2710 2016 2 {'page_url': 'ftp://ftp.sec.gov/edgar/data/720005/000072000516000144/a2016063010qrjf.htm', 'local_name': None, 'blob_id': '609294_section271', 'accession_id': 166969, 'received_date': '2016-08-08', 'description': 'Raymond James Financial Inc (RJF)', 'fiscal_year': 2016, 'entity_id': 5321, 'sec_filing_id': 609294, 'fiscal_period': '3Q', 'fact_id': 0, 'is_detail': False, 'network_id': 0, 'filing_date': '2016-08-08', 'footnote_type_title': 'Additional 10-K and 10-Q Sections', 'ticker': 'RJF', 'guide_link': None, 'footnote_type': 2710, 'entity_name': 'Raymond James Financial Inc', 'document_type': '10-Q', 'SEC_URL': 'http://www.sec.gov/Archives/edgar/data/720005/000072000516000144/0000720005-16-000144-index.htm'}\n",
      "2710 2016 2 {'page_url': 'ftp://ftp.sec.gov/edgar/data/316709/000031670916000093/schw-20160630x10q.htm', 'local_name': None, 'blob_id': '608451_section271', 'accession_id': 166468, 'received_date': '2016-08-05', 'description': 'Schwab Charles Corp (SCHW)', 'fiscal_year': 2016, 'entity_id': 4760, 'sec_filing_id': 608451, 'fiscal_period': '2Q', 'fact_id': 0, 'is_detail': False, 'network_id': 0, 'filing_date': '2016-08-05', 'footnote_type_title': 'Additional 10-K and 10-Q Sections', 'ticker': 'SCHW', 'guide_link': None, 'footnote_type': 2710, 'entity_name': 'Schwab Charles Corp', 'document_type': '10-Q', 'SEC_URL': 'http://www.sec.gov/Archives/edgar/data/316709/000031670916000093/0000316709-16-000093-index.htm'}\n",
      "2710 2016 2 {'page_url': 'ftp://ftp.sec.gov/edgar/data/818677/000093905716000960/sfdl-20160630x10q.htm', 'local_name': None, 'blob_id': '611553_section271', 'accession_id': 168234, 'received_date': '2016-08-12', 'description': 'Security Federal Corp (SFDL)', 'fiscal_year': 2016, 'entity_id': 5951, 'sec_filing_id': 611553, 'fiscal_period': '2Q', 'fact_id': 0, 'is_detail': False, 'network_id': 0, 'filing_date': '2016-08-12', 'footnote_type_title': 'Additional 10-K and 10-Q Sections', 'ticker': 'SFDL', 'guide_link': None, 'footnote_type': 2710, 'entity_name': 'Security Federal Corp', 'document_type': '10-Q', 'SEC_URL': 'http://www.sec.gov/Archives/edgar/data/818677/000093905716000960/0000939057-16-000960-index.htm'}\n",
      "2710 2016 2 {'page_url': 'ftp://ftp.sec.gov/edgar/data/1500213/000150021316000072/sifi0630201610-q2.htm', 'local_name': None, 'blob_id': '608979_section271', 'accession_id': 166790, 'received_date': '2016-08-08', 'description': 'SI Financial Group, Inc. (SIFI)', 'fiscal_year': 2016, 'entity_id': 4343, 'sec_filing_id': 608979, 'fiscal_period': '2Q', 'fact_id': 0, 'is_detail': False, 'network_id': 0, 'filing_date': '2016-08-08', 'footnote_type_title': 'Additional 10-K and 10-Q Sections', 'ticker': 'SIFI', 'guide_link': None, 'footnote_type': 2710, 'entity_name': 'SI Financial Group, Inc.', 'document_type': '10-Q', 'SEC_URL': 'http://www.sec.gov/Archives/edgar/data/1500213/000150021316000072/0001500213-16-000072-index.htm'}\n",
      "2710 2016 2 {'page_url': 'ftp://ftp.sec.gov/edgar/data/880116/000157104916017331/t1600511_10qa.htm', 'local_name': None, 'blob_id': '610730_section271', 'accession_id': 167772, 'received_date': '2016-08-10', 'description': 'Southeastern Bank Financial CORP (SBFC)', 'fiscal_year': 2016, 'entity_id': 6416, 'sec_filing_id': 610730, 'fiscal_period': '2Q', 'fact_id': 0, 'is_detail': False, 'network_id': 0, 'filing_date': '2016-08-10', 'footnote_type_title': 'Additional 10-K and 10-Q Sections', 'ticker': 'SBFC', 'guide_link': None, 'footnote_type': 2710, 'entity_name': 'Southeastern Bank Financial CORP', 'document_type': '10-Q/A', 'SEC_URL': 'http://www.sec.gov/Archives/edgar/data/880116/000157104916017331/0001571049-16-017331-index.htm'}\n",
      "2710 2016 2 {'page_url': 'ftp://ftp.sec.gov/edgar/data/880116/000157104916016939/t1600454_10q.htm', 'local_name': None, 'blob_id': '604232_section271', 'accession_id': 164906, 'received_date': '2016-07-29', 'description': 'Southeastern Bank Financial CORP (SBFC)', 'fiscal_year': 2016, 'entity_id': 6416, 'sec_filing_id': 604232, 'fiscal_period': '2Q', 'fact_id': 0, 'is_detail': False, 'network_id': 0, 'filing_date': '2016-07-29', 'footnote_type_title': 'Additional 10-K and 10-Q Sections', 'ticker': 'SBFC', 'guide_link': None, 'footnote_type': 2710, 'entity_name': 'Southeastern Bank Financial CORP', 'document_type': '10-Q', 'SEC_URL': 'http://www.sec.gov/Archives/edgar/data/880116/000157104916016939/0001571049-16-016939-index.htm'}\n",
      "2710 2016 2 {'page_url': 'ftp://ftp.sec.gov/edgar/data/1325670/000157104916017203/t1600497_10q.htm', 'local_name': None, 'blob_id': '608829_section271', 'accession_id': 166671, 'received_date': '2016-08-08', 'description': 'Southern National Bancorp of Virginia Inc (SONA)', 'fiscal_year': 2016, 'entity_id': 2446, 'sec_filing_id': 608829, 'fiscal_period': '2Q', 'fact_id': 0, 'is_detail': False, 'network_id': 0, 'filing_date': '2016-08-08', 'footnote_type_title': 'Additional 10-K and 10-Q Sections', 'ticker': 'SONA', 'guide_link': None, 'footnote_type': 2710, 'entity_name': 'Southern National Bancorp of Virginia Inc', 'document_type': '10-Q', 'SEC_URL': 'http://www.sec.gov/Archives/edgar/data/1325670/000157104916017203/0001571049-16-017203-index.htm'}\n"
     ]
    },
    {
     "name": "stdout",
     "output_type": "stream",
     "text": [
      "2710 2016 2 {'page_url': 'ftp://ftp.sec.gov/edgar/data/1052100/000155837016006946/wdr-20160630x10q.htm', 'local_name': None, 'blob_id': '603911_section271', 'accession_id': 164753, 'received_date': '2016-07-29', 'description': 'Waddell & Reed Financial Inc (WDR)', 'fiscal_year': 2016, 'entity_id': 585, 'sec_filing_id': 603911, 'fiscal_period': '2Q', 'fact_id': 0, 'is_detail': False, 'network_id': 0, 'filing_date': '2016-07-29', 'footnote_type_title': 'Additional 10-K and 10-Q Sections', 'ticker': 'WDR', 'guide_link': None, 'footnote_type': 2710, 'entity_name': 'Waddell & Reed Financial Inc', 'document_type': '10-Q', 'SEC_URL': 'http://www.sec.gov/Archives/edgar/data/1052100/000155837016006946/0001558370-16-006946-index.htm'}\n",
      "2710 2016 2 {'page_url': 'ftp://ftp.sec.gov/edgar/data/801337/000080133716000223/wbs-06302016x10q.htm', 'local_name': None, 'blob_id': '609849_section271', 'accession_id': 167282, 'received_date': '2016-08-09', 'description': 'Webster Financial Corp (WBS)', 'fiscal_year': 2016, 'entity_id': 5820, 'sec_filing_id': 609849, 'fiscal_period': '2Q', 'fact_id': 0, 'is_detail': False, 'network_id': 0, 'filing_date': '2016-08-09', 'footnote_type_title': 'Additional 10-K and 10-Q Sections', 'ticker': 'WBS', 'guide_link': None, 'footnote_type': 2710, 'entity_name': 'Webster Financial Corp', 'document_type': '10-Q', 'SEC_URL': 'http://www.sec.gov/Archives/edgar/data/801337/000080133716000223/0000801337-16-000223-index.htm'}\n",
      "2710 2016 2 {'page_url': 'ftp://ftp.sec.gov/edgar/data/1309108/000130910816000254/wex6_30x201610-q.htm', 'local_name': None, 'blob_id': '609847_section271', 'accession_id': 167280, 'received_date': '2016-08-09', 'description': 'WEX Inc. (WEX)', 'fiscal_year': 2016, 'entity_id': 2311, 'sec_filing_id': 609847, 'fiscal_period': '2Q', 'fact_id': 0, 'is_detail': False, 'network_id': 0, 'filing_date': '2016-08-09', 'footnote_type_title': 'Additional 10-K and 10-Q Sections', 'ticker': 'WEX', 'guide_link': None, 'footnote_type': 2710, 'entity_name': 'WEX Inc.', 'document_type': '10-Q', 'SEC_URL': 'http://www.sec.gov/Archives/edgar/data/1309108/000130910816000254/0001309108-16-000254-index.htm'}\n"
     ]
    },
    {
     "data": {
      "application/vnd.jupyter.widget-view+json": {
       "model_id": "66c454e0be1b448ea558464dce737526"
      }
     },
     "metadata": {},
     "output_type": "display_data"
    },
    {
     "name": "stdout",
     "output_type": "stream",
     "text": [
      "\n"
     ]
    },
    {
     "ename": "ConnectionError",
     "evalue": "('Connection aborted.', TimeoutError(10060, 'A connection attempt failed because the connected party did not properly respond after a period of time, or established connection failed because connected host has failed to respond', None, 10060, None))",
     "output_type": "error",
     "traceback": [
      "\u001b[1;31m---------------------------------------------------------------------------\u001b[0m",
      "\u001b[1;31mTimeoutError\u001b[0m                              Traceback (most recent call last)",
      "\u001b[1;32mc:\\users\\andrew kittredge\\appdata\\local\\programs\\python\\python35\\lib\\site-packages\\requests\\packages\\urllib3\\connectionpool.py\u001b[0m in \u001b[0;36murlopen\u001b[1;34m(self, method, url, body, headers, retries, redirect, assert_same_host, timeout, pool_timeout, release_conn, chunked, **response_kw)\u001b[0m\n\u001b[0;32m    594\u001b[0m                                                   \u001b[0mbody\u001b[0m\u001b[1;33m=\u001b[0m\u001b[0mbody\u001b[0m\u001b[1;33m,\u001b[0m \u001b[0mheaders\u001b[0m\u001b[1;33m=\u001b[0m\u001b[0mheaders\u001b[0m\u001b[1;33m,\u001b[0m\u001b[1;33m\u001b[0m\u001b[0m\n\u001b[1;32m--> 595\u001b[1;33m                                                   chunked=chunked)\n\u001b[0m\u001b[0;32m    596\u001b[0m \u001b[1;33m\u001b[0m\u001b[0m\n",
      "\u001b[1;32mc:\\users\\andrew kittredge\\appdata\\local\\programs\\python\\python35\\lib\\site-packages\\requests\\packages\\urllib3\\connectionpool.py\u001b[0m in \u001b[0;36m_make_request\u001b[1;34m(self, conn, method, url, timeout, chunked, **httplib_request_kw)\u001b[0m\n\u001b[0;32m    392\u001b[0m                     \u001b[1;31m# otherwise it looks like a programming error was the cause.\u001b[0m\u001b[1;33m\u001b[0m\u001b[1;33m\u001b[0m\u001b[0m\n\u001b[1;32m--> 393\u001b[1;33m                     \u001b[0msix\u001b[0m\u001b[1;33m.\u001b[0m\u001b[0mraise_from\u001b[0m\u001b[1;33m(\u001b[0m\u001b[0me\u001b[0m\u001b[1;33m,\u001b[0m \u001b[1;32mNone\u001b[0m\u001b[1;33m)\u001b[0m\u001b[1;33m\u001b[0m\u001b[0m\n\u001b[0m\u001b[0;32m    394\u001b[0m         \u001b[1;32mexcept\u001b[0m \u001b[1;33m(\u001b[0m\u001b[0mSocketTimeout\u001b[0m\u001b[1;33m,\u001b[0m \u001b[0mBaseSSLError\u001b[0m\u001b[1;33m,\u001b[0m \u001b[0mSocketError\u001b[0m\u001b[1;33m)\u001b[0m \u001b[1;32mas\u001b[0m \u001b[0me\u001b[0m\u001b[1;33m:\u001b[0m\u001b[1;33m\u001b[0m\u001b[0m\n",
      "\u001b[1;32mc:\\users\\andrew kittredge\\appdata\\local\\programs\\python\\python35\\lib\\site-packages\\requests\\packages\\urllib3\\packages\\six.py\u001b[0m in \u001b[0;36mraise_from\u001b[1;34m(value, from_value)\u001b[0m\n",
      "\u001b[1;32mc:\\users\\andrew kittredge\\appdata\\local\\programs\\python\\python35\\lib\\site-packages\\requests\\packages\\urllib3\\connectionpool.py\u001b[0m in \u001b[0;36m_make_request\u001b[1;34m(self, conn, method, url, timeout, chunked, **httplib_request_kw)\u001b[0m\n\u001b[0;32m    388\u001b[0m                 \u001b[1;32mtry\u001b[0m\u001b[1;33m:\u001b[0m\u001b[1;33m\u001b[0m\u001b[0m\n\u001b[1;32m--> 389\u001b[1;33m                     \u001b[0mhttplib_response\u001b[0m \u001b[1;33m=\u001b[0m \u001b[0mconn\u001b[0m\u001b[1;33m.\u001b[0m\u001b[0mgetresponse\u001b[0m\u001b[1;33m(\u001b[0m\u001b[1;33m)\u001b[0m\u001b[1;33m\u001b[0m\u001b[0m\n\u001b[0m\u001b[0;32m    390\u001b[0m                 \u001b[1;32mexcept\u001b[0m \u001b[0mException\u001b[0m \u001b[1;32mas\u001b[0m \u001b[0me\u001b[0m\u001b[1;33m:\u001b[0m\u001b[1;33m\u001b[0m\u001b[0m\n",
      "\u001b[1;32mc:\\users\\andrew kittredge\\appdata\\local\\programs\\python\\python35\\lib\\http\\client.py\u001b[0m in \u001b[0;36mgetresponse\u001b[1;34m(self)\u001b[0m\n\u001b[0;32m   1173\u001b[0m             \u001b[1;32mtry\u001b[0m\u001b[1;33m:\u001b[0m\u001b[1;33m\u001b[0m\u001b[0m\n\u001b[1;32m-> 1174\u001b[1;33m                 \u001b[0mresponse\u001b[0m\u001b[1;33m.\u001b[0m\u001b[0mbegin\u001b[0m\u001b[1;33m(\u001b[0m\u001b[1;33m)\u001b[0m\u001b[1;33m\u001b[0m\u001b[0m\n\u001b[0m\u001b[0;32m   1175\u001b[0m             \u001b[1;32mexcept\u001b[0m \u001b[0mConnectionError\u001b[0m\u001b[1;33m:\u001b[0m\u001b[1;33m\u001b[0m\u001b[0m\n",
      "\u001b[1;32mc:\\users\\andrew kittredge\\appdata\\local\\programs\\python\\python35\\lib\\http\\client.py\u001b[0m in \u001b[0;36mbegin\u001b[1;34m(self)\u001b[0m\n\u001b[0;32m    281\u001b[0m         \u001b[1;32mwhile\u001b[0m \u001b[1;32mTrue\u001b[0m\u001b[1;33m:\u001b[0m\u001b[1;33m\u001b[0m\u001b[0m\n\u001b[1;32m--> 282\u001b[1;33m             \u001b[0mversion\u001b[0m\u001b[1;33m,\u001b[0m \u001b[0mstatus\u001b[0m\u001b[1;33m,\u001b[0m \u001b[0mreason\u001b[0m \u001b[1;33m=\u001b[0m \u001b[0mself\u001b[0m\u001b[1;33m.\u001b[0m\u001b[0m_read_status\u001b[0m\u001b[1;33m(\u001b[0m\u001b[1;33m)\u001b[0m\u001b[1;33m\u001b[0m\u001b[0m\n\u001b[0m\u001b[0;32m    283\u001b[0m             \u001b[1;32mif\u001b[0m \u001b[0mstatus\u001b[0m \u001b[1;33m!=\u001b[0m \u001b[0mCONTINUE\u001b[0m\u001b[1;33m:\u001b[0m\u001b[1;33m\u001b[0m\u001b[0m\n",
      "\u001b[1;32mc:\\users\\andrew kittredge\\appdata\\local\\programs\\python\\python35\\lib\\http\\client.py\u001b[0m in \u001b[0;36m_read_status\u001b[1;34m(self)\u001b[0m\n\u001b[0;32m    242\u001b[0m     \u001b[1;32mdef\u001b[0m \u001b[0m_read_status\u001b[0m\u001b[1;33m(\u001b[0m\u001b[0mself\u001b[0m\u001b[1;33m)\u001b[0m\u001b[1;33m:\u001b[0m\u001b[1;33m\u001b[0m\u001b[0m\n\u001b[1;32m--> 243\u001b[1;33m         \u001b[0mline\u001b[0m \u001b[1;33m=\u001b[0m \u001b[0mstr\u001b[0m\u001b[1;33m(\u001b[0m\u001b[0mself\u001b[0m\u001b[1;33m.\u001b[0m\u001b[0mfp\u001b[0m\u001b[1;33m.\u001b[0m\u001b[0mreadline\u001b[0m\u001b[1;33m(\u001b[0m\u001b[0m_MAXLINE\u001b[0m \u001b[1;33m+\u001b[0m \u001b[1;36m1\u001b[0m\u001b[1;33m)\u001b[0m\u001b[1;33m,\u001b[0m \u001b[1;34m\"iso-8859-1\"\u001b[0m\u001b[1;33m)\u001b[0m\u001b[1;33m\u001b[0m\u001b[0m\n\u001b[0m\u001b[0;32m    244\u001b[0m         \u001b[1;32mif\u001b[0m \u001b[0mlen\u001b[0m\u001b[1;33m(\u001b[0m\u001b[0mline\u001b[0m\u001b[1;33m)\u001b[0m \u001b[1;33m>\u001b[0m \u001b[0m_MAXLINE\u001b[0m\u001b[1;33m:\u001b[0m\u001b[1;33m\u001b[0m\u001b[0m\n",
      "\u001b[1;32mc:\\users\\andrew kittredge\\appdata\\local\\programs\\python\\python35\\lib\\socket.py\u001b[0m in \u001b[0;36mreadinto\u001b[1;34m(self, b)\u001b[0m\n\u001b[0;32m    574\u001b[0m             \u001b[1;32mtry\u001b[0m\u001b[1;33m:\u001b[0m\u001b[1;33m\u001b[0m\u001b[0m\n\u001b[1;32m--> 575\u001b[1;33m                 \u001b[1;32mreturn\u001b[0m \u001b[0mself\u001b[0m\u001b[1;33m.\u001b[0m\u001b[0m_sock\u001b[0m\u001b[1;33m.\u001b[0m\u001b[0mrecv_into\u001b[0m\u001b[1;33m(\u001b[0m\u001b[0mb\u001b[0m\u001b[1;33m)\u001b[0m\u001b[1;33m\u001b[0m\u001b[0m\n\u001b[0m\u001b[0;32m    576\u001b[0m             \u001b[1;32mexcept\u001b[0m \u001b[0mtimeout\u001b[0m\u001b[1;33m:\u001b[0m\u001b[1;33m\u001b[0m\u001b[0m\n",
      "\u001b[1;32mc:\\users\\andrew kittredge\\appdata\\local\\programs\\python\\python35\\lib\\ssl.py\u001b[0m in \u001b[0;36mrecv_into\u001b[1;34m(self, buffer, nbytes, flags)\u001b[0m\n\u001b[0;32m    923\u001b[0m                   self.__class__)\n\u001b[1;32m--> 924\u001b[1;33m             \u001b[1;32mreturn\u001b[0m \u001b[0mself\u001b[0m\u001b[1;33m.\u001b[0m\u001b[0mread\u001b[0m\u001b[1;33m(\u001b[0m\u001b[0mnbytes\u001b[0m\u001b[1;33m,\u001b[0m \u001b[0mbuffer\u001b[0m\u001b[1;33m)\u001b[0m\u001b[1;33m\u001b[0m\u001b[0m\n\u001b[0m\u001b[0;32m    925\u001b[0m         \u001b[1;32melse\u001b[0m\u001b[1;33m:\u001b[0m\u001b[1;33m\u001b[0m\u001b[0m\n",
      "\u001b[1;32mc:\\users\\andrew kittredge\\appdata\\local\\programs\\python\\python35\\lib\\ssl.py\u001b[0m in \u001b[0;36mread\u001b[1;34m(self, len, buffer)\u001b[0m\n\u001b[0;32m    785\u001b[0m         \u001b[1;32mtry\u001b[0m\u001b[1;33m:\u001b[0m\u001b[1;33m\u001b[0m\u001b[0m\n\u001b[1;32m--> 786\u001b[1;33m             \u001b[1;32mreturn\u001b[0m \u001b[0mself\u001b[0m\u001b[1;33m.\u001b[0m\u001b[0m_sslobj\u001b[0m\u001b[1;33m.\u001b[0m\u001b[0mread\u001b[0m\u001b[1;33m(\u001b[0m\u001b[0mlen\u001b[0m\u001b[1;33m,\u001b[0m \u001b[0mbuffer\u001b[0m\u001b[1;33m)\u001b[0m\u001b[1;33m\u001b[0m\u001b[0m\n\u001b[0m\u001b[0;32m    787\u001b[0m         \u001b[1;32mexcept\u001b[0m \u001b[0mSSLError\u001b[0m \u001b[1;32mas\u001b[0m \u001b[0mx\u001b[0m\u001b[1;33m:\u001b[0m\u001b[1;33m\u001b[0m\u001b[0m\n",
      "\u001b[1;32mc:\\users\\andrew kittredge\\appdata\\local\\programs\\python\\python35\\lib\\ssl.py\u001b[0m in \u001b[0;36mread\u001b[1;34m(self, len, buffer)\u001b[0m\n\u001b[0;32m    569\u001b[0m         \u001b[1;32mif\u001b[0m \u001b[0mbuffer\u001b[0m \u001b[1;32mis\u001b[0m \u001b[1;32mnot\u001b[0m \u001b[1;32mNone\u001b[0m\u001b[1;33m:\u001b[0m\u001b[1;33m\u001b[0m\u001b[0m\n\u001b[1;32m--> 570\u001b[1;33m             \u001b[0mv\u001b[0m \u001b[1;33m=\u001b[0m \u001b[0mself\u001b[0m\u001b[1;33m.\u001b[0m\u001b[0m_sslobj\u001b[0m\u001b[1;33m.\u001b[0m\u001b[0mread\u001b[0m\u001b[1;33m(\u001b[0m\u001b[0mlen\u001b[0m\u001b[1;33m,\u001b[0m \u001b[0mbuffer\u001b[0m\u001b[1;33m)\u001b[0m\u001b[1;33m\u001b[0m\u001b[0m\n\u001b[0m\u001b[0;32m    571\u001b[0m         \u001b[1;32melse\u001b[0m\u001b[1;33m:\u001b[0m\u001b[1;33m\u001b[0m\u001b[0m\n",
      "\u001b[1;31mTimeoutError\u001b[0m: [WinError 10060] A connection attempt failed because the connected party did not properly respond after a period of time, or established connection failed because connected host has failed to respond",
      "\nDuring handling of the above exception, another exception occurred:\n",
      "\u001b[1;31mProtocolError\u001b[0m                             Traceback (most recent call last)",
      "\u001b[1;32mc:\\users\\andrew kittredge\\appdata\\local\\programs\\python\\python35\\lib\\site-packages\\requests\\adapters.py\u001b[0m in \u001b[0;36msend\u001b[1;34m(self, request, stream, timeout, verify, cert, proxies)\u001b[0m\n\u001b[0;32m    422\u001b[0m                     \u001b[0mretries\u001b[0m\u001b[1;33m=\u001b[0m\u001b[0mself\u001b[0m\u001b[1;33m.\u001b[0m\u001b[0mmax_retries\u001b[0m\u001b[1;33m,\u001b[0m\u001b[1;33m\u001b[0m\u001b[0m\n\u001b[1;32m--> 423\u001b[1;33m                     \u001b[0mtimeout\u001b[0m\u001b[1;33m=\u001b[0m\u001b[0mtimeout\u001b[0m\u001b[1;33m\u001b[0m\u001b[0m\n\u001b[0m\u001b[0;32m    424\u001b[0m                 )\n",
      "\u001b[1;32mc:\\users\\andrew kittredge\\appdata\\local\\programs\\python\\python35\\lib\\site-packages\\requests\\packages\\urllib3\\connectionpool.py\u001b[0m in \u001b[0;36murlopen\u001b[1;34m(self, method, url, body, headers, retries, redirect, assert_same_host, timeout, pool_timeout, release_conn, chunked, **response_kw)\u001b[0m\n\u001b[0;32m    639\u001b[0m             retries = retries.increment(method, url, error=e, _pool=self,\n\u001b[1;32m--> 640\u001b[1;33m                                         _stacktrace=sys.exc_info()[2])\n\u001b[0m\u001b[0;32m    641\u001b[0m             \u001b[0mretries\u001b[0m\u001b[1;33m.\u001b[0m\u001b[0msleep\u001b[0m\u001b[1;33m(\u001b[0m\u001b[1;33m)\u001b[0m\u001b[1;33m\u001b[0m\u001b[0m\n",
      "\u001b[1;32mc:\\users\\andrew kittredge\\appdata\\local\\programs\\python\\python35\\lib\\site-packages\\requests\\packages\\urllib3\\util\\retry.py\u001b[0m in \u001b[0;36mincrement\u001b[1;34m(self, method, url, response, error, _pool, _stacktrace)\u001b[0m\n\u001b[0;32m    260\u001b[0m             \u001b[1;32mif\u001b[0m \u001b[0mread\u001b[0m \u001b[1;32mis\u001b[0m \u001b[1;32mFalse\u001b[0m\u001b[1;33m:\u001b[0m\u001b[1;33m\u001b[0m\u001b[0m\n\u001b[1;32m--> 261\u001b[1;33m                 \u001b[1;32mraise\u001b[0m \u001b[0msix\u001b[0m\u001b[1;33m.\u001b[0m\u001b[0mreraise\u001b[0m\u001b[1;33m(\u001b[0m\u001b[0mtype\u001b[0m\u001b[1;33m(\u001b[0m\u001b[0merror\u001b[0m\u001b[1;33m)\u001b[0m\u001b[1;33m,\u001b[0m \u001b[0merror\u001b[0m\u001b[1;33m,\u001b[0m \u001b[0m_stacktrace\u001b[0m\u001b[1;33m)\u001b[0m\u001b[1;33m\u001b[0m\u001b[0m\n\u001b[0m\u001b[0;32m    262\u001b[0m             \u001b[1;32melif\u001b[0m \u001b[0mread\u001b[0m \u001b[1;32mis\u001b[0m \u001b[1;32mnot\u001b[0m \u001b[1;32mNone\u001b[0m\u001b[1;33m:\u001b[0m\u001b[1;33m\u001b[0m\u001b[0m\n",
      "\u001b[1;32mc:\\users\\andrew kittredge\\appdata\\local\\programs\\python\\python35\\lib\\site-packages\\requests\\packages\\urllib3\\packages\\six.py\u001b[0m in \u001b[0;36mreraise\u001b[1;34m(tp, value, tb)\u001b[0m\n\u001b[0;32m    684\u001b[0m         \u001b[1;32mif\u001b[0m \u001b[0mvalue\u001b[0m\u001b[1;33m.\u001b[0m\u001b[0m__traceback__\u001b[0m \u001b[1;32mis\u001b[0m \u001b[1;32mnot\u001b[0m \u001b[0mtb\u001b[0m\u001b[1;33m:\u001b[0m\u001b[1;33m\u001b[0m\u001b[0m\n\u001b[1;32m--> 685\u001b[1;33m             \u001b[1;32mraise\u001b[0m \u001b[0mvalue\u001b[0m\u001b[1;33m.\u001b[0m\u001b[0mwith_traceback\u001b[0m\u001b[1;33m(\u001b[0m\u001b[0mtb\u001b[0m\u001b[1;33m)\u001b[0m\u001b[1;33m\u001b[0m\u001b[0m\n\u001b[0m\u001b[0;32m    686\u001b[0m         \u001b[1;32mraise\u001b[0m \u001b[0mvalue\u001b[0m\u001b[1;33m\u001b[0m\u001b[0m\n",
      "\u001b[1;32mc:\\users\\andrew kittredge\\appdata\\local\\programs\\python\\python35\\lib\\site-packages\\requests\\packages\\urllib3\\connectionpool.py\u001b[0m in \u001b[0;36murlopen\u001b[1;34m(self, method, url, body, headers, retries, redirect, assert_same_host, timeout, pool_timeout, release_conn, chunked, **response_kw)\u001b[0m\n\u001b[0;32m    594\u001b[0m                                                   \u001b[0mbody\u001b[0m\u001b[1;33m=\u001b[0m\u001b[0mbody\u001b[0m\u001b[1;33m,\u001b[0m \u001b[0mheaders\u001b[0m\u001b[1;33m=\u001b[0m\u001b[0mheaders\u001b[0m\u001b[1;33m,\u001b[0m\u001b[1;33m\u001b[0m\u001b[0m\n\u001b[1;32m--> 595\u001b[1;33m                                                   chunked=chunked)\n\u001b[0m\u001b[0;32m    596\u001b[0m \u001b[1;33m\u001b[0m\u001b[0m\n",
      "\u001b[1;32mc:\\users\\andrew kittredge\\appdata\\local\\programs\\python\\python35\\lib\\site-packages\\requests\\packages\\urllib3\\connectionpool.py\u001b[0m in \u001b[0;36m_make_request\u001b[1;34m(self, conn, method, url, timeout, chunked, **httplib_request_kw)\u001b[0m\n\u001b[0;32m    392\u001b[0m                     \u001b[1;31m# otherwise it looks like a programming error was the cause.\u001b[0m\u001b[1;33m\u001b[0m\u001b[1;33m\u001b[0m\u001b[0m\n\u001b[1;32m--> 393\u001b[1;33m                     \u001b[0msix\u001b[0m\u001b[1;33m.\u001b[0m\u001b[0mraise_from\u001b[0m\u001b[1;33m(\u001b[0m\u001b[0me\u001b[0m\u001b[1;33m,\u001b[0m \u001b[1;32mNone\u001b[0m\u001b[1;33m)\u001b[0m\u001b[1;33m\u001b[0m\u001b[0m\n\u001b[0m\u001b[0;32m    394\u001b[0m         \u001b[1;32mexcept\u001b[0m \u001b[1;33m(\u001b[0m\u001b[0mSocketTimeout\u001b[0m\u001b[1;33m,\u001b[0m \u001b[0mBaseSSLError\u001b[0m\u001b[1;33m,\u001b[0m \u001b[0mSocketError\u001b[0m\u001b[1;33m)\u001b[0m \u001b[1;32mas\u001b[0m \u001b[0me\u001b[0m\u001b[1;33m:\u001b[0m\u001b[1;33m\u001b[0m\u001b[0m\n",
      "\u001b[1;32mc:\\users\\andrew kittredge\\appdata\\local\\programs\\python\\python35\\lib\\site-packages\\requests\\packages\\urllib3\\packages\\six.py\u001b[0m in \u001b[0;36mraise_from\u001b[1;34m(value, from_value)\u001b[0m\n",
      "\u001b[1;32mc:\\users\\andrew kittredge\\appdata\\local\\programs\\python\\python35\\lib\\site-packages\\requests\\packages\\urllib3\\connectionpool.py\u001b[0m in \u001b[0;36m_make_request\u001b[1;34m(self, conn, method, url, timeout, chunked, **httplib_request_kw)\u001b[0m\n\u001b[0;32m    388\u001b[0m                 \u001b[1;32mtry\u001b[0m\u001b[1;33m:\u001b[0m\u001b[1;33m\u001b[0m\u001b[0m\n\u001b[1;32m--> 389\u001b[1;33m                     \u001b[0mhttplib_response\u001b[0m \u001b[1;33m=\u001b[0m \u001b[0mconn\u001b[0m\u001b[1;33m.\u001b[0m\u001b[0mgetresponse\u001b[0m\u001b[1;33m(\u001b[0m\u001b[1;33m)\u001b[0m\u001b[1;33m\u001b[0m\u001b[0m\n\u001b[0m\u001b[0;32m    390\u001b[0m                 \u001b[1;32mexcept\u001b[0m \u001b[0mException\u001b[0m \u001b[1;32mas\u001b[0m \u001b[0me\u001b[0m\u001b[1;33m:\u001b[0m\u001b[1;33m\u001b[0m\u001b[0m\n",
      "\u001b[1;32mc:\\users\\andrew kittredge\\appdata\\local\\programs\\python\\python35\\lib\\http\\client.py\u001b[0m in \u001b[0;36mgetresponse\u001b[1;34m(self)\u001b[0m\n\u001b[0;32m   1173\u001b[0m             \u001b[1;32mtry\u001b[0m\u001b[1;33m:\u001b[0m\u001b[1;33m\u001b[0m\u001b[0m\n\u001b[1;32m-> 1174\u001b[1;33m                 \u001b[0mresponse\u001b[0m\u001b[1;33m.\u001b[0m\u001b[0mbegin\u001b[0m\u001b[1;33m(\u001b[0m\u001b[1;33m)\u001b[0m\u001b[1;33m\u001b[0m\u001b[0m\n\u001b[0m\u001b[0;32m   1175\u001b[0m             \u001b[1;32mexcept\u001b[0m \u001b[0mConnectionError\u001b[0m\u001b[1;33m:\u001b[0m\u001b[1;33m\u001b[0m\u001b[0m\n",
      "\u001b[1;32mc:\\users\\andrew kittredge\\appdata\\local\\programs\\python\\python35\\lib\\http\\client.py\u001b[0m in \u001b[0;36mbegin\u001b[1;34m(self)\u001b[0m\n\u001b[0;32m    281\u001b[0m         \u001b[1;32mwhile\u001b[0m \u001b[1;32mTrue\u001b[0m\u001b[1;33m:\u001b[0m\u001b[1;33m\u001b[0m\u001b[0m\n\u001b[1;32m--> 282\u001b[1;33m             \u001b[0mversion\u001b[0m\u001b[1;33m,\u001b[0m \u001b[0mstatus\u001b[0m\u001b[1;33m,\u001b[0m \u001b[0mreason\u001b[0m \u001b[1;33m=\u001b[0m \u001b[0mself\u001b[0m\u001b[1;33m.\u001b[0m\u001b[0m_read_status\u001b[0m\u001b[1;33m(\u001b[0m\u001b[1;33m)\u001b[0m\u001b[1;33m\u001b[0m\u001b[0m\n\u001b[0m\u001b[0;32m    283\u001b[0m             \u001b[1;32mif\u001b[0m \u001b[0mstatus\u001b[0m \u001b[1;33m!=\u001b[0m \u001b[0mCONTINUE\u001b[0m\u001b[1;33m:\u001b[0m\u001b[1;33m\u001b[0m\u001b[0m\n",
      "\u001b[1;32mc:\\users\\andrew kittredge\\appdata\\local\\programs\\python\\python35\\lib\\http\\client.py\u001b[0m in \u001b[0;36m_read_status\u001b[1;34m(self)\u001b[0m\n\u001b[0;32m    242\u001b[0m     \u001b[1;32mdef\u001b[0m \u001b[0m_read_status\u001b[0m\u001b[1;33m(\u001b[0m\u001b[0mself\u001b[0m\u001b[1;33m)\u001b[0m\u001b[1;33m:\u001b[0m\u001b[1;33m\u001b[0m\u001b[0m\n\u001b[1;32m--> 243\u001b[1;33m         \u001b[0mline\u001b[0m \u001b[1;33m=\u001b[0m \u001b[0mstr\u001b[0m\u001b[1;33m(\u001b[0m\u001b[0mself\u001b[0m\u001b[1;33m.\u001b[0m\u001b[0mfp\u001b[0m\u001b[1;33m.\u001b[0m\u001b[0mreadline\u001b[0m\u001b[1;33m(\u001b[0m\u001b[0m_MAXLINE\u001b[0m \u001b[1;33m+\u001b[0m \u001b[1;36m1\u001b[0m\u001b[1;33m)\u001b[0m\u001b[1;33m,\u001b[0m \u001b[1;34m\"iso-8859-1\"\u001b[0m\u001b[1;33m)\u001b[0m\u001b[1;33m\u001b[0m\u001b[0m\n\u001b[0m\u001b[0;32m    244\u001b[0m         \u001b[1;32mif\u001b[0m \u001b[0mlen\u001b[0m\u001b[1;33m(\u001b[0m\u001b[0mline\u001b[0m\u001b[1;33m)\u001b[0m \u001b[1;33m>\u001b[0m \u001b[0m_MAXLINE\u001b[0m\u001b[1;33m:\u001b[0m\u001b[1;33m\u001b[0m\u001b[0m\n",
      "\u001b[1;32mc:\\users\\andrew kittredge\\appdata\\local\\programs\\python\\python35\\lib\\socket.py\u001b[0m in \u001b[0;36mreadinto\u001b[1;34m(self, b)\u001b[0m\n\u001b[0;32m    574\u001b[0m             \u001b[1;32mtry\u001b[0m\u001b[1;33m:\u001b[0m\u001b[1;33m\u001b[0m\u001b[0m\n\u001b[1;32m--> 575\u001b[1;33m                 \u001b[1;32mreturn\u001b[0m \u001b[0mself\u001b[0m\u001b[1;33m.\u001b[0m\u001b[0m_sock\u001b[0m\u001b[1;33m.\u001b[0m\u001b[0mrecv_into\u001b[0m\u001b[1;33m(\u001b[0m\u001b[0mb\u001b[0m\u001b[1;33m)\u001b[0m\u001b[1;33m\u001b[0m\u001b[0m\n\u001b[0m\u001b[0;32m    576\u001b[0m             \u001b[1;32mexcept\u001b[0m \u001b[0mtimeout\u001b[0m\u001b[1;33m:\u001b[0m\u001b[1;33m\u001b[0m\u001b[0m\n",
      "\u001b[1;32mc:\\users\\andrew kittredge\\appdata\\local\\programs\\python\\python35\\lib\\ssl.py\u001b[0m in \u001b[0;36mrecv_into\u001b[1;34m(self, buffer, nbytes, flags)\u001b[0m\n\u001b[0;32m    923\u001b[0m                   self.__class__)\n\u001b[1;32m--> 924\u001b[1;33m             \u001b[1;32mreturn\u001b[0m \u001b[0mself\u001b[0m\u001b[1;33m.\u001b[0m\u001b[0mread\u001b[0m\u001b[1;33m(\u001b[0m\u001b[0mnbytes\u001b[0m\u001b[1;33m,\u001b[0m \u001b[0mbuffer\u001b[0m\u001b[1;33m)\u001b[0m\u001b[1;33m\u001b[0m\u001b[0m\n\u001b[0m\u001b[0;32m    925\u001b[0m         \u001b[1;32melse\u001b[0m\u001b[1;33m:\u001b[0m\u001b[1;33m\u001b[0m\u001b[0m\n",
      "\u001b[1;32mc:\\users\\andrew kittredge\\appdata\\local\\programs\\python\\python35\\lib\\ssl.py\u001b[0m in \u001b[0;36mread\u001b[1;34m(self, len, buffer)\u001b[0m\n\u001b[0;32m    785\u001b[0m         \u001b[1;32mtry\u001b[0m\u001b[1;33m:\u001b[0m\u001b[1;33m\u001b[0m\u001b[0m\n\u001b[1;32m--> 786\u001b[1;33m             \u001b[1;32mreturn\u001b[0m \u001b[0mself\u001b[0m\u001b[1;33m.\u001b[0m\u001b[0m_sslobj\u001b[0m\u001b[1;33m.\u001b[0m\u001b[0mread\u001b[0m\u001b[1;33m(\u001b[0m\u001b[0mlen\u001b[0m\u001b[1;33m,\u001b[0m \u001b[0mbuffer\u001b[0m\u001b[1;33m)\u001b[0m\u001b[1;33m\u001b[0m\u001b[0m\n\u001b[0m\u001b[0;32m    787\u001b[0m         \u001b[1;32mexcept\u001b[0m \u001b[0mSSLError\u001b[0m \u001b[1;32mas\u001b[0m \u001b[0mx\u001b[0m\u001b[1;33m:\u001b[0m\u001b[1;33m\u001b[0m\u001b[0m\n",
      "\u001b[1;32mc:\\users\\andrew kittredge\\appdata\\local\\programs\\python\\python35\\lib\\ssl.py\u001b[0m in \u001b[0;36mread\u001b[1;34m(self, len, buffer)\u001b[0m\n\u001b[0;32m    569\u001b[0m         \u001b[1;32mif\u001b[0m \u001b[0mbuffer\u001b[0m \u001b[1;32mis\u001b[0m \u001b[1;32mnot\u001b[0m \u001b[1;32mNone\u001b[0m\u001b[1;33m:\u001b[0m\u001b[1;33m\u001b[0m\u001b[0m\n\u001b[1;32m--> 570\u001b[1;33m             \u001b[0mv\u001b[0m \u001b[1;33m=\u001b[0m \u001b[0mself\u001b[0m\u001b[1;33m.\u001b[0m\u001b[0m_sslobj\u001b[0m\u001b[1;33m.\u001b[0m\u001b[0mread\u001b[0m\u001b[1;33m(\u001b[0m\u001b[0mlen\u001b[0m\u001b[1;33m,\u001b[0m \u001b[0mbuffer\u001b[0m\u001b[1;33m)\u001b[0m\u001b[1;33m\u001b[0m\u001b[0m\n\u001b[0m\u001b[0;32m    571\u001b[0m         \u001b[1;32melse\u001b[0m\u001b[1;33m:\u001b[0m\u001b[1;33m\u001b[0m\u001b[0m\n",
      "\u001b[1;31mProtocolError\u001b[0m: ('Connection aborted.', TimeoutError(10060, 'A connection attempt failed because the connected party did not properly respond after a period of time, or established connection failed because connected host has failed to respond', None, 10060, None))",
      "\nDuring handling of the above exception, another exception occurred:\n",
      "\u001b[1;31mConnectionError\u001b[0m                           Traceback (most recent call last)",
      "\u001b[1;32m<ipython-input-18-dc4ae851d353>\u001b[0m in \u001b[0;36m<module>\u001b[1;34m()\u001b[0m\n\u001b[0;32m      1\u001b[0m \u001b[1;32mfor\u001b[0m \u001b[0mtest_doc\u001b[0m\u001b[1;33m,\u001b[0m \u001b[0mperiod\u001b[0m \u001b[1;32min\u001b[0m \u001b[0mtqdm_notebook\u001b[0m\u001b[1;33m(\u001b[0m\u001b[0mtest_doc_periods\u001b[0m\u001b[1;33m[\u001b[0m\u001b[1;36m44\u001b[0m\u001b[1;33m:\u001b[0m\u001b[1;33m]\u001b[0m\u001b[1;33m,\u001b[0m \u001b[0mdesc\u001b[0m\u001b[1;33m=\u001b[0m\u001b[1;34m\"period loop\"\u001b[0m\u001b[1;33m)\u001b[0m\u001b[1;33m:\u001b[0m\u001b[1;33m\u001b[0m\u001b[0m\n\u001b[1;32m----> 2\u001b[1;33m     \u001b[0mget_documents_all_companies\u001b[0m\u001b[1;33m(\u001b[0m\u001b[0mtest_doc\u001b[0m\u001b[1;33m[\u001b[0m\u001b[1;34m'arcrole'\u001b[0m\u001b[1;33m]\u001b[0m\u001b[1;33m,\u001b[0m \u001b[0myear\u001b[0m\u001b[1;33m=\u001b[0m\u001b[0mperiod\u001b[0m\u001b[1;33m[\u001b[0m\u001b[1;36m0\u001b[0m\u001b[1;33m]\u001b[0m\u001b[1;33m,\u001b[0m \u001b[0mperiod\u001b[0m\u001b[1;33m=\u001b[0m\u001b[0mperiod\u001b[0m\u001b[1;33m[\u001b[0m\u001b[1;36m1\u001b[0m\u001b[1;33m]\u001b[0m\u001b[1;33m)\u001b[0m\u001b[1;33m\u001b[0m\u001b[0m\n\u001b[0m",
      "\u001b[1;32m<ipython-input-3-2c4ccb87a8b5>\u001b[0m in \u001b[0;36mget_documents_all_companies\u001b[1;34m(disclosure_type, year, period)\u001b[0m\n\u001b[0;32m      4\u001b[0m     \u001b[1;32mfor\u001b[0m  \u001b[0mdoc\u001b[0m \u001b[1;32min\u001b[0m \u001b[0mtqdm_notebook\u001b[0m\u001b[1;33m(\u001b[0m\u001b[0mfound_documents\u001b[0m\u001b[1;33m,\u001b[0m \u001b[0mdesc\u001b[0m\u001b[1;33m=\u001b[0m\u001b[1;34m\"{0} {1}-{2}\"\u001b[0m\u001b[1;33m.\u001b[0m\u001b[0mformat\u001b[0m\u001b[1;33m(\u001b[0m\u001b[0mdisclosure_type\u001b[0m\u001b[1;33m,\u001b[0m \u001b[0myear\u001b[0m\u001b[1;33m,\u001b[0m \u001b[0mperiod\u001b[0m\u001b[1;33m)\u001b[0m\u001b[1;33m,\u001b[0m \u001b[0mleave\u001b[0m\u001b[1;33m=\u001b[0m\u001b[1;32mFalse\u001b[0m\u001b[1;33m)\u001b[0m\u001b[1;33m:\u001b[0m\u001b[1;33m\u001b[0m\u001b[0m\n\u001b[0;32m      5\u001b[0m         \u001b[1;32mtry\u001b[0m\u001b[1;33m:\u001b[0m\u001b[1;33m\u001b[0m\u001b[0m\n\u001b[1;32m----> 6\u001b[1;33m             \u001b[0mdocs\u001b[0m\u001b[1;33m.\u001b[0m\u001b[0mappend\u001b[0m\u001b[1;33m(\u001b[0m\u001b[0mget_doc_contents\u001b[0m\u001b[1;33m(\u001b[0m\u001b[0mdoc\u001b[0m\u001b[1;33m)\u001b[0m\u001b[1;33m)\u001b[0m\u001b[1;33m\u001b[0m\u001b[0m\n\u001b[0m\u001b[0;32m      7\u001b[0m         \u001b[1;32mexcept\u001b[0m \u001b[0mrequests\u001b[0m\u001b[1;33m.\u001b[0m\u001b[0mHTTPError\u001b[0m\u001b[1;33m:\u001b[0m\u001b[1;33m\u001b[0m\u001b[0m\n\u001b[0;32m      8\u001b[0m             \u001b[0mprint\u001b[0m\u001b[1;33m(\u001b[0m\u001b[0mdisclosure_type\u001b[0m\u001b[1;33m,\u001b[0m \u001b[0myear\u001b[0m\u001b[1;33m,\u001b[0m \u001b[0mperiod\u001b[0m\u001b[1;33m,\u001b[0m \u001b[0mdoc\u001b[0m\u001b[1;33m)\u001b[0m\u001b[1;33m\u001b[0m\u001b[0m\n",
      "\u001b[1;32m<ipython-input-7-17d2769ae888>\u001b[0m in \u001b[0;36m<lambda>\u001b[1;34m(doc)\u001b[0m\n\u001b[1;32m----> 1\u001b[1;33m \u001b[0mget_doc_contents\u001b[0m \u001b[1;33m=\u001b[0m \u001b[1;32mlambda\u001b[0m \u001b[0mdoc\u001b[0m \u001b[1;33m:\u001b[0m \u001b[0mcb\u001b[0m\u001b[1;33m.\u001b[0m\u001b[0mdocument_contents\u001b[0m\u001b[1;33m(\u001b[0m\u001b[0mblob_id\u001b[0m\u001b[1;33m=\u001b[0m\u001b[0mdoc\u001b[0m\u001b[1;33m[\u001b[0m\u001b[1;34m'blob_id'\u001b[0m\u001b[1;33m]\u001b[0m\u001b[1;33m,\u001b[0m \u001b[0mSEC_ID\u001b[0m\u001b[1;33m=\u001b[0m\u001b[0mdoc\u001b[0m\u001b[1;33m[\u001b[0m\u001b[1;34m'sec_filing_id'\u001b[0m\u001b[1;33m]\u001b[0m\u001b[1;33m)\u001b[0m\u001b[1;33m\u001b[0m\u001b[0m\n\u001b[0m",
      "\u001b[1;32mC:\\Users\\Andrew Kittredge\\git\\python_api_client\\calcbench\\api_client.py\u001b[0m in \u001b[0;36mdocument_contents\u001b[1;34m(blob_id, SEC_ID, SEC_URL)\u001b[0m\n\u001b[0;32m    444\u001b[0m                                         \u001b[0mheaders\u001b[0m\u001b[1;33m=\u001b[0m\u001b[1;33m{\u001b[0m\u001b[1;34m'content-type'\u001b[0m\u001b[1;33m:\u001b[0m \u001b[1;34m'application/json'\u001b[0m\u001b[1;33m}\u001b[0m\u001b[1;33m,\u001b[0m\u001b[1;33m\u001b[0m\u001b[0m\n\u001b[0;32m    445\u001b[0m                                         verify=_SESSION_STUFF['ssl_verify'])\n\u001b[1;32m--> 446\u001b[1;33m     \u001b[0mresponse\u001b[0m\u001b[1;33m.\u001b[0m\u001b[0mraise_for_status\u001b[0m\u001b[1;33m(\u001b[0m\u001b[1;33m)\u001b[0m\u001b[1;33m\u001b[0m\u001b[0m\n\u001b[0m\u001b[0;32m    447\u001b[0m     \u001b[1;32mreturn\u001b[0m \u001b[0mresponse\u001b[0m\u001b[1;33m.\u001b[0m\u001b[0mjson\u001b[0m\u001b[1;33m(\u001b[0m\u001b[1;33m)\u001b[0m\u001b[1;33m[\u001b[0m\u001b[1;34m'blobs'\u001b[0m\u001b[1;33m]\u001b[0m\u001b[1;33m[\u001b[0m\u001b[1;36m0\u001b[0m\u001b[1;33m]\u001b[0m\u001b[1;33m\u001b[0m\u001b[0m\n\u001b[0;32m    448\u001b[0m \u001b[1;33m\u001b[0m\u001b[0m\n",
      "\u001b[1;32mc:\\users\\andrew kittredge\\appdata\\local\\programs\\python\\python35\\lib\\site-packages\\requests\\sessions.py\u001b[0m in \u001b[0;36mget\u001b[1;34m(self, url, **kwargs)\u001b[0m\n\u001b[0;32m    486\u001b[0m \u001b[1;33m\u001b[0m\u001b[0m\n\u001b[0;32m    487\u001b[0m         \u001b[0mkwargs\u001b[0m\u001b[1;33m.\u001b[0m\u001b[0msetdefault\u001b[0m\u001b[1;33m(\u001b[0m\u001b[1;34m'allow_redirects'\u001b[0m\u001b[1;33m,\u001b[0m \u001b[1;32mTrue\u001b[0m\u001b[1;33m)\u001b[0m\u001b[1;33m\u001b[0m\u001b[0m\n\u001b[1;32m--> 488\u001b[1;33m         \u001b[1;32mreturn\u001b[0m \u001b[0mself\u001b[0m\u001b[1;33m.\u001b[0m\u001b[0mrequest\u001b[0m\u001b[1;33m(\u001b[0m\u001b[1;34m'GET'\u001b[0m\u001b[1;33m,\u001b[0m \u001b[0murl\u001b[0m\u001b[1;33m,\u001b[0m \u001b[1;33m**\u001b[0m\u001b[0mkwargs\u001b[0m\u001b[1;33m)\u001b[0m\u001b[1;33m\u001b[0m\u001b[0m\n\u001b[0m\u001b[0;32m    489\u001b[0m \u001b[1;33m\u001b[0m\u001b[0m\n\u001b[0;32m    490\u001b[0m     \u001b[1;32mdef\u001b[0m \u001b[0moptions\u001b[0m\u001b[1;33m(\u001b[0m\u001b[0mself\u001b[0m\u001b[1;33m,\u001b[0m \u001b[0murl\u001b[0m\u001b[1;33m,\u001b[0m \u001b[1;33m**\u001b[0m\u001b[0mkwargs\u001b[0m\u001b[1;33m)\u001b[0m\u001b[1;33m:\u001b[0m\u001b[1;33m\u001b[0m\u001b[0m\n",
      "\u001b[1;32mc:\\users\\andrew kittredge\\appdata\\local\\programs\\python\\python35\\lib\\site-packages\\requests\\sessions.py\u001b[0m in \u001b[0;36mrequest\u001b[1;34m(self, method, url, params, data, headers, cookies, files, auth, timeout, allow_redirects, proxies, hooks, stream, verify, cert, json)\u001b[0m\n\u001b[0;32m    473\u001b[0m         }\n\u001b[0;32m    474\u001b[0m         \u001b[0msend_kwargs\u001b[0m\u001b[1;33m.\u001b[0m\u001b[0mupdate\u001b[0m\u001b[1;33m(\u001b[0m\u001b[0msettings\u001b[0m\u001b[1;33m)\u001b[0m\u001b[1;33m\u001b[0m\u001b[0m\n\u001b[1;32m--> 475\u001b[1;33m         \u001b[0mresp\u001b[0m \u001b[1;33m=\u001b[0m \u001b[0mself\u001b[0m\u001b[1;33m.\u001b[0m\u001b[0msend\u001b[0m\u001b[1;33m(\u001b[0m\u001b[0mprep\u001b[0m\u001b[1;33m,\u001b[0m \u001b[1;33m**\u001b[0m\u001b[0msend_kwargs\u001b[0m\u001b[1;33m)\u001b[0m\u001b[1;33m\u001b[0m\u001b[0m\n\u001b[0m\u001b[0;32m    476\u001b[0m \u001b[1;33m\u001b[0m\u001b[0m\n\u001b[0;32m    477\u001b[0m         \u001b[1;32mreturn\u001b[0m \u001b[0mresp\u001b[0m\u001b[1;33m\u001b[0m\u001b[0m\n",
      "\u001b[1;32mc:\\users\\andrew kittredge\\appdata\\local\\programs\\python\\python35\\lib\\site-packages\\requests\\sessions.py\u001b[0m in \u001b[0;36msend\u001b[1;34m(self, request, **kwargs)\u001b[0m\n\u001b[0;32m    594\u001b[0m \u001b[1;33m\u001b[0m\u001b[0m\n\u001b[0;32m    595\u001b[0m         \u001b[1;31m# Send the request\u001b[0m\u001b[1;33m\u001b[0m\u001b[1;33m\u001b[0m\u001b[0m\n\u001b[1;32m--> 596\u001b[1;33m         \u001b[0mr\u001b[0m \u001b[1;33m=\u001b[0m \u001b[0madapter\u001b[0m\u001b[1;33m.\u001b[0m\u001b[0msend\u001b[0m\u001b[1;33m(\u001b[0m\u001b[0mrequest\u001b[0m\u001b[1;33m,\u001b[0m \u001b[1;33m**\u001b[0m\u001b[0mkwargs\u001b[0m\u001b[1;33m)\u001b[0m\u001b[1;33m\u001b[0m\u001b[0m\n\u001b[0m\u001b[0;32m    597\u001b[0m \u001b[1;33m\u001b[0m\u001b[0m\n\u001b[0;32m    598\u001b[0m         \u001b[1;31m# Total elapsed time of the request (approximately)\u001b[0m\u001b[1;33m\u001b[0m\u001b[1;33m\u001b[0m\u001b[0m\n",
      "\u001b[1;32mc:\\users\\andrew kittredge\\appdata\\local\\programs\\python\\python35\\lib\\site-packages\\requests\\adapters.py\u001b[0m in \u001b[0;36msend\u001b[1;34m(self, request, stream, timeout, verify, cert, proxies)\u001b[0m\n\u001b[0;32m    471\u001b[0m \u001b[1;33m\u001b[0m\u001b[0m\n\u001b[0;32m    472\u001b[0m         \u001b[1;32mexcept\u001b[0m \u001b[1;33m(\u001b[0m\u001b[0mProtocolError\u001b[0m\u001b[1;33m,\u001b[0m \u001b[0msocket\u001b[0m\u001b[1;33m.\u001b[0m\u001b[0merror\u001b[0m\u001b[1;33m)\u001b[0m \u001b[1;32mas\u001b[0m \u001b[0merr\u001b[0m\u001b[1;33m:\u001b[0m\u001b[1;33m\u001b[0m\u001b[0m\n\u001b[1;32m--> 473\u001b[1;33m             \u001b[1;32mraise\u001b[0m \u001b[0mConnectionError\u001b[0m\u001b[1;33m(\u001b[0m\u001b[0merr\u001b[0m\u001b[1;33m,\u001b[0m \u001b[0mrequest\u001b[0m\u001b[1;33m=\u001b[0m\u001b[0mrequest\u001b[0m\u001b[1;33m)\u001b[0m\u001b[1;33m\u001b[0m\u001b[0m\n\u001b[0m\u001b[0;32m    474\u001b[0m \u001b[1;33m\u001b[0m\u001b[0m\n\u001b[0;32m    475\u001b[0m         \u001b[1;32mexcept\u001b[0m \u001b[0mMaxRetryError\u001b[0m \u001b[1;32mas\u001b[0m \u001b[0me\u001b[0m\u001b[1;33m:\u001b[0m\u001b[1;33m\u001b[0m\u001b[0m\n",
      "\u001b[1;31mConnectionError\u001b[0m: ('Connection aborted.', TimeoutError(10060, 'A connection attempt failed because the connected party did not properly respond after a period of time, or established connection failed because connected host has failed to respond', None, 10060, None))"
     ]
    }
   ],
   "source": [
    "for test_doc, period in tqdm_notebook(test_doc_periods[44:], desc=\"period loop\"):\n",
    "    get_documents_all_companies(test_doc['arcrole'], year=period[0], period=period[1])"
   ]
  },
  {
   "cell_type": "code",
   "execution_count": null,
   "metadata": {},
   "outputs": [
    {
     "data": {
      "application/vnd.jupyter.widget-view+json": {
       "model_id": "c17d0b42bb264b0588fae70715128066"
      }
     },
     "metadata": {},
     "output_type": "display_data"
    },
    {
     "name": "stdout",
     "output_type": "stream",
     "text": [
      "\r"
     ]
    },
    {
     "data": {
      "application/vnd.jupyter.widget-view+json": {
       "model_id": "b2188625b1244f79b62ee67bf1c144cd"
      }
     },
     "metadata": {},
     "output_type": "display_data"
    },
    {
     "data": {
      "application/vnd.jupyter.widget-view+json": {
       "model_id": "687c466a2be745a6a51ccf1ed1511802"
      }
     },
     "metadata": {},
     "output_type": "display_data"
    },
    {
     "data": {
      "application/vnd.jupyter.widget-view+json": {
       "model_id": "a24bea932f334d4faf3fa19710d6b3b1"
      }
     },
     "metadata": {},
     "output_type": "display_data"
    },
    {
     "data": {
      "application/vnd.jupyter.widget-view+json": {
       "model_id": "b430a2e650f34fce88bfb3d033be09c0"
      }
     },
     "metadata": {},
     "output_type": "display_data"
    },
    {
     "data": {
      "application/vnd.jupyter.widget-view+json": {
       "model_id": "4c547c0f6f684ee1acfa48c99cb96546"
      }
     },
     "metadata": {},
     "output_type": "display_data"
    },
    {
     "data": {
      "application/vnd.jupyter.widget-view+json": {
       "model_id": "87d4a71106684bf1abb10538b35205ea"
      }
     },
     "metadata": {},
     "output_type": "display_data"
    },
    {
     "name": "stdout",
     "output_type": "stream",
     "text": [
      "2810 2010 0 {'page_url': 'ftp://ftp.sec.gov/edgar/data/1195933/000119312511047183/d10k.htm', 'local_name': None, 'blob_id': '194506_section281', 'accession_id': 4017, 'received_date': '2011-02-25', 'description': 'Infinity Property & Casualty Corp (IPCC)', 'fiscal_year': 2010, 'entity_id': 1836, 'sec_filing_id': 194506, 'fiscal_period': 'Y', 'fact_id': 0, 'is_detail': False, 'network_id': 0, 'filing_date': '2011-02-25', 'footnote_type_title': 'Additional 10-K and 10-Q Sections', 'ticker': 'IPCC', 'guide_link': None, 'footnote_type': 2810, 'entity_name': 'Infinity Property & Casualty Corp', 'document_type': '10-K', 'SEC_URL': 'http://www.sec.gov/Archives/edgar/data/1195933/000119312511047183/0001193125-11-047183-index.htm'}\n"
     ]
    },
    {
     "data": {
      "application/vnd.jupyter.widget-view+json": {
       "model_id": "8acde8efc2344112954d686ea1cc164e"
      }
     },
     "metadata": {},
     "output_type": "display_data"
    },
    {
     "data": {
      "application/vnd.jupyter.widget-view+json": {
       "model_id": "85fdfd1bf7f84ab8b2f7bf98a391c6cc"
      }
     },
     "metadata": {},
     "output_type": "display_data"
    },
    {
     "data": {
      "application/vnd.jupyter.widget-view+json": {
       "model_id": "49265da1065f45f2a6f4a7a688a5250c"
      }
     },
     "metadata": {},
     "output_type": "display_data"
    },
    {
     "data": {
      "application/vnd.jupyter.widget-view+json": {
       "model_id": "7706ecb606814adaabc97ff6cbd3ee01"
      }
     },
     "metadata": {},
     "output_type": "display_data"
    },
    {
     "name": "stdout",
     "output_type": "stream",
     "text": [
      "2810 2011 0 {'page_url': 'ftp://ftp.sec.gov/edgar/data/1420488/000118811211003510/t72163_10k.htm', 'local_name': None, 'blob_id': '213422_section281', 'accession_id': 23026, 'received_date': '2011-12-20', 'description': 'Malvern Federal Bancorp Inc (CIK0001420488)', 'fiscal_year': 2011, 'entity_id': 3526, 'sec_filing_id': 213422, 'fiscal_period': 'Y', 'fact_id': 0, 'is_detail': False, 'network_id': 0, 'filing_date': '2011-12-20', 'footnote_type_title': 'Additional 10-K and 10-Q Sections', 'ticker': 'CIK0001420488', 'guide_link': None, 'footnote_type': 2810, 'entity_name': 'Malvern Federal Bancorp Inc', 'document_type': '10-K', 'SEC_URL': 'http://www.sec.gov/Archives/edgar/data/1420488/000118811211003510/0001188112-11-003510-index.htm'}\n",
      "2810 2011 0 {'page_url': 'ftp://ftp.sec.gov/edgar/data/1122976/000119312512067181/d263168d10k.htm', 'local_name': None, 'blob_id': '215741_section281', 'accession_id': 25345, 'received_date': '2012-02-17', 'description': 'Polyone Corp (POL)', 'fiscal_year': 2011, 'entity_id': 1370, 'sec_filing_id': 215741, 'fiscal_period': 'Y', 'fact_id': 0, 'is_detail': False, 'network_id': 0, 'filing_date': '2012-02-17', 'footnote_type_title': 'Additional 10-K and 10-Q Sections', 'ticker': 'POL', 'guide_link': None, 'footnote_type': 2810, 'entity_name': 'Polyone Corp', 'document_type': '10-K', 'SEC_URL': 'http://www.sec.gov/Archives/edgar/data/1122976/000119312512067181/0001193125-12-067181-index.htm'}\n"
     ]
    },
    {
     "data": {
      "application/vnd.jupyter.widget-view+json": {
       "model_id": "69820b2cd6074e4ba30016ab39aa3abc"
      }
     },
     "metadata": {},
     "output_type": "display_data"
    },
    {
     "data": {
      "application/vnd.jupyter.widget-view+json": {
       "model_id": "465c576e4b4849439be9326a51791d6b"
      }
     },
     "metadata": {},
     "output_type": "display_data"
    },
    {
     "data": {
      "application/vnd.jupyter.widget-view+json": {
       "model_id": "3a07f9c930644254a6a7d1bdbb99053f"
      }
     },
     "metadata": {},
     "output_type": "display_data"
    },
    {
     "name": "stdout",
     "output_type": "stream",
     "text": [
      "2810 2011 3 {'page_url': 'ftp://ftp.sec.gov/edgar/data/1420488/000118811211003510/t72163_10k.htm', 'local_name': None, 'blob_id': '213422_section281', 'accession_id': 23026, 'received_date': '2011-12-20', 'description': 'Malvern Federal Bancorp Inc (CIK0001420488)', 'fiscal_year': 2011, 'entity_id': 3526, 'sec_filing_id': 213422, 'fiscal_period': 'Y', 'fact_id': 0, 'is_detail': False, 'network_id': 0, 'filing_date': '2011-12-20', 'footnote_type_title': 'Additional 10-K and 10-Q Sections', 'ticker': 'CIK0001420488', 'guide_link': None, 'footnote_type': 2810, 'entity_name': 'Malvern Federal Bancorp Inc', 'document_type': '10-K', 'SEC_URL': 'http://www.sec.gov/Archives/edgar/data/1420488/000118811211003510/0001188112-11-003510-index.htm'}\n"
     ]
    },
    {
     "data": {
      "application/vnd.jupyter.widget-view+json": {
       "model_id": "778d38f35f1c424489922873302ff5ba"
      }
     },
     "metadata": {},
     "output_type": "display_data"
    },
    {
     "name": "stdout",
     "output_type": "stream",
     "text": [
      "2810 2012 0 {'page_url': 'ftp://ftp.sec.gov/edgar/data/906448/000109690613000398/vu110k.htm', 'local_name': None, 'blob_id': '252968_section281', 'accession_id': 63254, 'received_date': '2013-03-28', 'description': 'Vu1 CORP (VUOC)', 'fiscal_year': 2012, 'entity_id': 6708, 'sec_filing_id': 252968, 'fiscal_period': 'Y', 'fact_id': 0, 'is_detail': False, 'network_id': 0, 'filing_date': '2013-03-28', 'footnote_type_title': 'Additional 10-K and 10-Q Sections', 'ticker': 'VUOC', 'guide_link': None, 'footnote_type': 2810, 'entity_name': 'Vu1 CORP', 'document_type': '10-K', 'SEC_URL': 'http://www.sec.gov/Archives/edgar/data/906448/000109690613000398/0001096906-13-000398-index.htm'}\n"
     ]
    },
    {
     "data": {
      "application/vnd.jupyter.widget-view+json": {
       "model_id": "49e283da46e547dda25234bb322580cf"
      }
     },
     "metadata": {},
     "output_type": "display_data"
    },
    {
     "data": {
      "application/vnd.jupyter.widget-view+json": {
       "model_id": "58d709a08f8d415c8d14b06d06b35bfa"
      }
     },
     "metadata": {},
     "output_type": "display_data"
    },
    {
     "name": "stdout",
     "output_type": "stream",
     "text": [
      "294/|/ 68%|| 294/435 [00:41<00:19,  7.09it/s]                                                                          2810 2012 2 {'page_url': 'ftp://ftp.sec.gov/edgar/data/723531/000119312512309041/d336374d10k.htm', 'local_name': None, 'blob_id': '230836_section281', 'accession_id': 41122, 'received_date': '2012-07-20', 'description': 'Paychex Inc (PAYX)', 'fiscal_year': 2012, 'entity_id': 5352, 'sec_filing_id': 230836, 'fiscal_period': 'Y', 'fact_id': 0, 'is_detail': False, 'network_id': 0, 'filing_date': '2012-07-20', 'footnote_type_title': 'Additional 10-K and 10-Q Sections', 'ticker': 'PAYX', 'guide_link': None, 'footnote_type': 2810, 'entity_name': 'Paychex Inc', 'document_type': '10-K', 'SEC_URL': 'http://www.sec.gov/Archives/edgar/data/723531/000119312512309041/0001193125-12-309041-index.htm'}\n"
     ]
    },
    {
     "data": {
      "application/vnd.jupyter.widget-view+json": {
       "model_id": "1d3c511ba71f4205b1e773af333b4a0c"
      }
     },
     "metadata": {},
     "output_type": "display_data"
    },
    {
     "data": {
      "application/vnd.jupyter.widget-view+json": {
       "model_id": "9562e748eccc41c18816dcf76838463b"
      }
     },
     "metadata": {},
     "output_type": "display_data"
    },
    {
     "data": {
      "application/vnd.jupyter.widget-view+json": {
       "model_id": "d50be20392144ad7a9c014b333463e07"
      }
     },
     "metadata": {},
     "output_type": "display_data"
    },
    {
     "data": {
      "application/vnd.jupyter.widget-view+json": {
       "model_id": "3b8bb72921034206ad6ddae1839eefce"
      }
     },
     "metadata": {},
     "output_type": "display_data"
    },
    {
     "data": {
      "application/vnd.jupyter.widget-view+json": {
       "model_id": "80ae193ab9d747c1aca7b3831311029a"
      }
     },
     "metadata": {},
     "output_type": "display_data"
    },
    {
     "data": {
      "application/vnd.jupyter.widget-view+json": {
       "model_id": "923ce74bb32b478ab28c16cc5857fe54"
      }
     },
     "metadata": {},
     "output_type": "display_data"
    },
    {
     "data": {
      "application/vnd.jupyter.widget-view+json": {
       "model_id": "65dd0a2f5e3540a3acd170b89db49f48"
      }
     },
     "metadata": {},
     "output_type": "display_data"
    },
    {
     "data": {
      "application/vnd.jupyter.widget-view+json": {
       "model_id": "37b93c9da6874ad49859f501bce4bd1e"
      }
     },
     "metadata": {},
     "output_type": "display_data"
    },
    {
     "data": {
      "application/vnd.jupyter.widget-view+json": {
       "model_id": "8043bbff773f451a940ed461ab5cceda"
      }
     },
     "metadata": {},
     "output_type": "display_data"
    },
    {
     "data": {
      "application/vnd.jupyter.widget-view+json": {
       "model_id": "f3520d64cb6146febb77a319349c0cbc"
      }
     },
     "metadata": {},
     "output_type": "display_data"
    },
    {
     "data": {
      "application/vnd.jupyter.widget-view+json": {
       "model_id": "e86f4910fc2243c4af59b0227b1b7eef"
      }
     },
     "metadata": {},
     "output_type": "display_data"
    },
    {
     "data": {
      "application/vnd.jupyter.widget-view+json": {
       "model_id": "62f5f03a8ee54450836bf712a2d7987e"
      }
     },
     "metadata": {},
     "output_type": "display_data"
    },
    {
     "data": {
      "application/vnd.jupyter.widget-view+json": {
       "model_id": "e928e4a827124c8781472df157131cf5"
      }
     },
     "metadata": {},
     "output_type": "display_data"
    },
    {
     "data": {
      "application/vnd.jupyter.widget-view+json": {
       "model_id": "9e990f5d49c9470482aa5f34d9801964"
      }
     },
     "metadata": {},
     "output_type": "display_data"
    },
    {
     "data": {
      "application/vnd.jupyter.widget-view+json": {
       "model_id": "1a77a8907fb2485bbee17f5d3a75ce2b"
      }
     },
     "metadata": {},
     "output_type": "display_data"
    },
    {
     "data": {
      "application/vnd.jupyter.widget-view+json": {
       "model_id": "e55b8a8da673489681eca695a5782131"
      }
     },
     "metadata": {},
     "output_type": "display_data"
    },
    {
     "data": {
      "application/vnd.jupyter.widget-view+json": {
       "model_id": "6877e60e2a914d7ebdce5d915b2b90b1"
      }
     },
     "metadata": {},
     "output_type": "display_data"
    },
    {
     "data": {
      "application/vnd.jupyter.widget-view+json": {
       "model_id": "d3047647efe145bda2133e9c71a26b93"
      }
     },
     "metadata": {},
     "output_type": "display_data"
    },
    {
     "data": {
      "application/vnd.jupyter.widget-view+json": {
       "model_id": "33690f7c8c564cbeb280aecae0a8a315"
      }
     },
     "metadata": {},
     "output_type": "display_data"
    },
    {
     "data": {
      "application/vnd.jupyter.widget-view+json": {
       "model_id": "d07cc0ecaac442c091de912e9841cd87"
      }
     },
     "metadata": {},
     "output_type": "display_data"
    },
    {
     "data": {
      "application/vnd.jupyter.widget-view+json": {
       "model_id": "39fcb86d5d5e42469b7e72d1ef46f050"
      }
     },
     "metadata": {},
     "output_type": "display_data"
    },
    {
     "data": {
      "application/vnd.jupyter.widget-view+json": {
       "model_id": "9307d614d0614078a7471619f596d382"
      }
     },
     "metadata": {},
     "output_type": "display_data"
    },
    {
     "data": {
      "application/vnd.jupyter.widget-view+json": {
       "model_id": "38f0b85e3efe4513a8f43ca6a1238758"
      }
     },
     "metadata": {},
     "output_type": "display_data"
    },
    {
     "data": {
      "application/vnd.jupyter.widget-view+json": {
       "model_id": "25e05f54921f4cffa36f464af58d462a"
      }
     },
     "metadata": {},
     "output_type": "display_data"
    },
    {
     "data": {
      "application/vnd.jupyter.widget-view+json": {
       "model_id": "6ba561a120ac48ebba52e24e297c062f"
      }
     },
     "metadata": {},
     "output_type": "display_data"
    },
    {
     "data": {
      "application/vnd.jupyter.widget-view+json": {
       "model_id": "46731035a6a04881bb3afb1c870db0b0"
      }
     },
     "metadata": {},
     "output_type": "display_data"
    },
    {
     "data": {
      "application/vnd.jupyter.widget-view+json": {
       "model_id": "75dc6cfa0d524ab8baff7459045a88e3"
      }
     },
     "metadata": {},
     "output_type": "display_data"
    },
    {
     "data": {
      "application/vnd.jupyter.widget-view+json": {
       "model_id": "bc0d1a7812c64df4b436692d06936a63"
      }
     },
     "metadata": {},
     "output_type": "display_data"
    },
    {
     "data": {
      "application/vnd.jupyter.widget-view+json": {
       "model_id": "0ef94354c61c4b7c98ff7ff47f2eb7d1"
      }
     },
     "metadata": {},
     "output_type": "display_data"
    },
    {
     "data": {
      "application/vnd.jupyter.widget-view+json": {
       "model_id": "29d98e770f4845d2bbc02157b46e390e"
      }
     },
     "metadata": {},
     "output_type": "display_data"
    },
    {
     "data": {
      "application/vnd.jupyter.widget-view+json": {
       "model_id": "5344147fa0bf44b19794676de801f0b2"
      }
     },
     "metadata": {},
     "output_type": "display_data"
    },
    {
     "data": {
      "application/vnd.jupyter.widget-view+json": {
       "model_id": "8cd2f320d6b44013a39a5812b16356cd"
      }
     },
     "metadata": {},
     "output_type": "display_data"
    },
    {
     "data": {
      "application/vnd.jupyter.widget-view+json": {
       "model_id": "cc91e647372e4034942b27be5500153e"
      }
     },
     "metadata": {},
     "output_type": "display_data"
    },
    {
     "data": {
      "application/vnd.jupyter.widget-view+json": {
       "model_id": "08eb48143a4348769567c667826396d3"
      }
     },
     "metadata": {},
     "output_type": "display_data"
    },
    {
     "data": {
      "application/vnd.jupyter.widget-view+json": {
       "model_id": "3d4650e2c1d645d0bc5c8f80cb764973"
      }
     },
     "metadata": {},
     "output_type": "display_data"
    },
    {
     "data": {
      "application/vnd.jupyter.widget-view+json": {
       "model_id": "dfa788fb14484d6ca30a42291a547762"
      }
     },
     "metadata": {},
     "output_type": "display_data"
    },
    {
     "data": {
      "application/vnd.jupyter.widget-view+json": {
       "model_id": "9c7120cf2f0d4b29bb2606105da5f7b0"
      }
     },
     "metadata": {},
     "output_type": "display_data"
    },
    {
     "data": {
      "application/vnd.jupyter.widget-view+json": {
       "model_id": "bc7dcccdeac64f81924065fa5c4a6c5c"
      }
     },
     "metadata": {},
     "output_type": "display_data"
    },
    {
     "data": {
      "application/vnd.jupyter.widget-view+json": {
       "model_id": "dc9381045dde4ad38b6cb4e516f7ef86"
      }
     },
     "metadata": {},
     "output_type": "display_data"
    },
    {
     "data": {
      "application/vnd.jupyter.widget-view+json": {
       "model_id": "1dd3aec5dcc84e688e3da9e9eb74135f"
      }
     },
     "metadata": {},
     "output_type": "display_data"
    },
    {
     "data": {
      "application/vnd.jupyter.widget-view+json": {
       "model_id": "159373d524374e4eb6e0893421622edb"
      }
     },
     "metadata": {},
     "output_type": "display_data"
    },
    {
     "data": {
      "application/vnd.jupyter.widget-view+json": {
       "model_id": "781f7a7053e744e1962dc353cd12776c"
      }
     },
     "metadata": {},
     "output_type": "display_data"
    },
    {
     "data": {
      "application/vnd.jupyter.widget-view+json": {
       "model_id": "3aa7a420cca64008bfa366080aa5bed6"
      }
     },
     "metadata": {},
     "output_type": "display_data"
    },
    {
     "data": {
      "application/vnd.jupyter.widget-view+json": {
       "model_id": "065134fd394f44d7827505f6c4cfdba0"
      }
     },
     "metadata": {},
     "output_type": "display_data"
    },
    {
     "data": {
      "application/vnd.jupyter.widget-view+json": {
       "model_id": "006f9f3f9cd14c0995c0845fc6b5da82"
      }
     },
     "metadata": {},
     "output_type": "display_data"
    },
    {
     "data": {
      "application/vnd.jupyter.widget-view+json": {
       "model_id": "638285bff50245cd8e9f1a42ed678de3"
      }
     },
     "metadata": {},
     "output_type": "display_data"
    },
    {
     "data": {
      "application/vnd.jupyter.widget-view+json": {
       "model_id": "de83dd517b5b43fe927a09c6472e2295"
      }
     },
     "metadata": {},
     "output_type": "display_data"
    },
    {
     "data": {
      "application/vnd.jupyter.widget-view+json": {
       "model_id": "cfafa1ee0e314596b4e078c544af8567"
      }
     },
     "metadata": {},
     "output_type": "display_data"
    },
    {
     "data": {
      "application/vnd.jupyter.widget-view+json": {
       "model_id": "975dc7ca6f4c44fa8cf59a6afec12f68"
      }
     },
     "metadata": {},
     "output_type": "display_data"
    },
    {
     "data": {
      "application/vnd.jupyter.widget-view+json": {
       "model_id": "f0ac21c8382e4e2e965da8fb4d4ad3a9"
      }
     },
     "metadata": {},
     "output_type": "display_data"
    },
    {
     "data": {
      "application/vnd.jupyter.widget-view+json": {
       "model_id": "c40e574ce3954df985780b21d59efc61"
      }
     },
     "metadata": {},
     "output_type": "display_data"
    },
    {
     "data": {
      "application/vnd.jupyter.widget-view+json": {
       "model_id": "cd2ca7b74ee748788d0ad85435ed5bb4"
      }
     },
     "metadata": {},
     "output_type": "display_data"
    },
    {
     "data": {
      "application/vnd.jupyter.widget-view+json": {
       "model_id": "0c3f417dc58f46dba5a6aede67b3dc3b"
      }
     },
     "metadata": {},
     "output_type": "display_data"
    },
    {
     "data": {
      "application/vnd.jupyter.widget-view+json": {
       "model_id": "033944edd9824c41af7e917a6f3a0cbd"
      }
     },
     "metadata": {},
     "output_type": "display_data"
    },
    {
     "data": {
      "application/vnd.jupyter.widget-view+json": {
       "model_id": "a97cf735e672498aba83f28936143826"
      }
     },
     "metadata": {},
     "output_type": "display_data"
    },
    {
     "data": {
      "application/vnd.jupyter.widget-view+json": {
       "model_id": "923d4fa537624cd2bef20c62782e57ea"
      }
     },
     "metadata": {},
     "output_type": "display_data"
    },
    {
     "data": {
      "application/vnd.jupyter.widget-view+json": {
       "model_id": "788b2e3a78584869bd47d9efc801ebc7"
      }
     },
     "metadata": {},
     "output_type": "display_data"
    },
    {
     "data": {
      "application/vnd.jupyter.widget-view+json": {
       "model_id": "0e93ede3cd0942edbaf6834c7dac5212"
      }
     },
     "metadata": {},
     "output_type": "display_data"
    },
    {
     "data": {
      "application/vnd.jupyter.widget-view+json": {
       "model_id": "62cc4eca40db49f4b49b72fe0780fbed"
      }
     },
     "metadata": {},
     "output_type": "display_data"
    },
    {
     "name": "stdout",
     "output_type": "stream",
     "text": [
      "2910 2011 1 {'page_url': 'ftp://ftp.sec.gov/edgar/data/779152/000092623611000032/jkhy2011q3.htm', 'local_name': None, 'blob_id': '201855_section291', 'accession_id': 11367, 'received_date': '2011-05-06', 'description': 'Henry Jack & Associates Inc (JKHY)', 'fiscal_year': 2011, 'entity_id': 5667, 'sec_filing_id': 201855, 'fiscal_period': '3Q', 'fact_id': 0, 'is_detail': False, 'network_id': 0, 'filing_date': '2011-05-06', 'footnote_type_title': 'Additional 10-K and 10-Q Sections', 'ticker': 'JKHY', 'guide_link': None, 'footnote_type': 2910, 'entity_name': 'Henry Jack & Associates Inc', 'document_type': '10-Q', 'SEC_URL': 'http://www.sec.gov/Archives/edgar/data/779152/000092623611000032/0000926236-11-000032-index.htm'}\n"
     ]
    },
    {
     "data": {
      "application/vnd.jupyter.widget-view+json": {
       "model_id": "c6e194535f16474198bf6b58c6ffbb95"
      }
     },
     "metadata": {},
     "output_type": "display_data"
    },
    {
     "name": "stdout",
     "output_type": "stream",
     "text": [
      "2910 2011 2 {'page_url': 'ftp://ftp.sec.gov/edgar/data/1096298/000121152411000217/qjune2011.htm', 'local_name': None, 'blob_id': '193020_section291', 'accession_id': 2531, 'received_date': '2011-08-31', 'description': 'Asia8, Inc. (CIK0001096298)', 'fiscal_year': 2011, 'entity_id': 1106, 'sec_filing_id': 193020, 'fiscal_period': '2Q', 'fact_id': 0, 'is_detail': False, 'network_id': 0, 'filing_date': '2011-08-31', 'footnote_type_title': 'Additional 10-K and 10-Q Sections', 'ticker': 'CIK0001096298', 'guide_link': None, 'footnote_type': 2910, 'entity_name': 'Asia8, Inc.', 'document_type': '10-Q/A', 'SEC_URL': 'http://www.sec.gov/Archives/edgar/data/1096298/000121152411000217/0001211524-11-000217-index.htm'}\n",
      "2910 2011 2 {'page_url': 'ftp://ftp.sec.gov/edgar/data/715812/000071581211000005/form10q.htm', 'local_name': None, 'blob_id': '200869_section291', 'accession_id': 10381, 'received_date': '2011-09-15', 'description': 'Biosynergy Inc (BSYN)', 'fiscal_year': 2012, 'entity_id': 5277, 'sec_filing_id': 200869, 'fiscal_period': '1Q', 'fact_id': 0, 'is_detail': False, 'network_id': 0, 'filing_date': '2011-09-15', 'footnote_type_title': 'Additional 10-K and 10-Q Sections', 'ticker': 'BSYN', 'guide_link': None, 'footnote_type': 2910, 'entity_name': 'Biosynergy Inc', 'document_type': '10-Q', 'SEC_URL': 'http://www.sec.gov/Archives/edgar/data/715812/000071581211000005/0000715812-11-000005-index.htm'}\n",
      "2910 2011 2 {'page_url': 'ftp://ftp.sec.gov/edgar/data/12400/000001240011000016/bhp10qq22011.htm', 'local_name': None, 'blob_id': '194675_section291', 'accession_id': 4186, 'received_date': '2011-08-11', 'description': 'Black Hills Power Inc (BHP)', 'fiscal_year': 2011, 'entity_id': 1935, 'sec_filing_id': 194675, 'fiscal_period': '2Q', 'fact_id': 0, 'is_detail': False, 'network_id': 0, 'filing_date': '2011-08-11', 'footnote_type_title': 'Additional 10-K and 10-Q Sections', 'ticker': 'BHP', 'guide_link': None, 'footnote_type': 2910, 'entity_name': 'Black Hills Power Inc', 'document_type': '10-Q', 'SEC_URL': 'http://www.sec.gov/Archives/edgar/data/12400/000001240011000016/0000012400-11-000016-index.htm'}\n",
      "2910 2011 2 {'page_url': 'ftp://ftp.sec.gov/edgar/data/1385211/000113705011000233/cmi10q30jun11_final3clean2.htm', 'local_name': None, 'blob_id': '196538_section291', 'accession_id': 6049, 'received_date': '2011-08-19', 'description': 'China Multimedia, Inc. (CMMI)', 'fiscal_year': 2011, 'entity_id': 3064, 'sec_filing_id': 196538, 'fiscal_period': '3Q', 'fact_id': 0, 'is_detail': False, 'network_id': 0, 'filing_date': '2011-08-19', 'footnote_type_title': 'Additional 10-K and 10-Q Sections', 'ticker': 'CMMI', 'guide_link': None, 'footnote_type': 2910, 'entity_name': 'China Multimedia, Inc.', 'document_type': '10-Q', 'SEC_URL': 'http://www.sec.gov/Archives/edgar/data/1385211/000113705011000233/0001137050-11-000233-index.htm'}\n",
      "2910 2011 2 {'page_url': 'ftp://ftp.sec.gov/edgar/data/1391426/000113705011000273/cvph_10qa06302011final.htm', 'local_name': None, 'blob_id': '196638_section291', 'accession_id': 6149, 'received_date': '2011-09-13', 'description': 'China Vitup Health Care Holdings, Inc. (CVPH)', 'fiscal_year': 2011, 'entity_id': 3142, 'sec_filing_id': 196638, 'fiscal_period': '2Q', 'fact_id': 0, 'is_detail': False, 'network_id': 0, 'filing_date': '2011-09-13', 'footnote_type_title': 'Additional 10-K and 10-Q Sections', 'ticker': 'CVPH', 'guide_link': None, 'footnote_type': 2910, 'entity_name': 'China Vitup Health Care Holdings, Inc.', 'document_type': '10-Q/A', 'SEC_URL': 'http://www.sec.gov/Archives/edgar/data/1391426/000113705011000273/0001137050-11-000273-index.htm'}\n",
      "2910 2011 2 {'page_url': 'ftp://ftp.sec.gov/edgar/data/1432939/000152745811000005/credexq22011_10qz.htm', 'local_name': None, 'blob_id': '197357_section291', 'accession_id': 6868, 'received_date': '2011-09-09', 'description': 'Credex Corp (CRDXE)', 'fiscal_year': 2011, 'entity_id': 3664, 'sec_filing_id': 197357, 'fiscal_period': '2Q', 'fact_id': 0, 'is_detail': False, 'network_id': 0, 'filing_date': '2011-09-09', 'footnote_type_title': 'Additional 10-K and 10-Q Sections', 'ticker': 'CRDXE', 'guide_link': None, 'footnote_type': 2910, 'entity_name': 'Credex Corp', 'document_type': '10-Q/A', 'SEC_URL': 'http://www.sec.gov/Archives/edgar/data/1432939/000152745811000005/0001527458-11-000005-index.htm'}\n",
      "2910 2011 2 {'page_url': 'ftp://ftp.sec.gov/edgar/data/1201135/000120113511000014/creditone10q06302011.htm', 'local_name': None, 'blob_id': '194518_section291', 'accession_id': 4029, 'received_date': '2011-08-17', 'description': 'Credit One Financial Inc (COFI)', 'fiscal_year': 2011, 'entity_id': 1841, 'sec_filing_id': 194518, 'fiscal_period': '2Q', 'fact_id': 0, 'is_detail': False, 'network_id': 0, 'filing_date': '2011-08-17', 'footnote_type_title': 'Additional 10-K and 10-Q Sections', 'ticker': 'COFI', 'guide_link': None, 'footnote_type': 2910, 'entity_name': 'Credit One Financial Inc', 'document_type': '10-Q/A', 'SEC_URL': 'http://www.sec.gov/Archives/edgar/data/1201135/000120113511000014/0001201135-11-000014-index.htm'}\n",
      "2910 2011 2 {'page_url': 'ftp://ftp.sec.gov/edgar/data/1368568/000136856811000031/dalian10qjun11_10q.htm', 'local_name': None, 'blob_id': '196253_section291', 'accession_id': 5764, 'received_date': '2011-09-14', 'description': 'Dalian Capital Group, Inc. (DALC)', 'fiscal_year': 2011, 'entity_id': 2863, 'sec_filing_id': 196253, 'fiscal_period': '2Q', 'fact_id': 0, 'is_detail': False, 'network_id': 0, 'filing_date': '2011-09-14', 'footnote_type_title': 'Additional 10-K and 10-Q Sections', 'ticker': 'DALC', 'guide_link': None, 'footnote_type': 2910, 'entity_name': 'Dalian Capital Group, Inc.', 'document_type': '10-Q', 'SEC_URL': 'http://www.sec.gov/Archives/edgar/data/1368568/000136856811000031/0001368568-11-000031-index.htm'}\n",
      "2910 2011 2 {'page_url': 'ftp://ftp.sec.gov/edgar/data/1311546/000113705011000199/derby_form10q6302011final.htm', 'local_name': None, 'blob_id': '195384_section291', 'accession_id': 4895, 'received_date': '2011-08-12', 'description': 'Xtraplan, Inc. (DRBY)', 'fiscal_year': 2011, 'entity_id': 2338, 'sec_filing_id': 195384, 'fiscal_period': '2Q', 'fact_id': 0, 'is_detail': False, 'network_id': 0, 'filing_date': '2011-08-12', 'footnote_type_title': 'Additional 10-K and 10-Q Sections', 'ticker': 'DRBY', 'guide_link': None, 'footnote_type': 2910, 'entity_name': 'Xtraplan, Inc.', 'document_type': '10-Q', 'SEC_URL': 'http://www.sec.gov/Archives/edgar/data/1311546/000113705011000199/0001137050-11-000199-index.htm'}\n",
      "2910 2011 2 {'page_url': 'ftp://ftp.sec.gov/edgar/data/1441551/000113705011000265/dnas10q_finalclean.htm', 'local_name': None, 'blob_id': '197482_section291', 'accession_id': 6993, 'received_date': '2011-09-12', 'description': 'Dna Systems, Inc. (DNAS)', 'fiscal_year': 2012, 'entity_id': 3779, 'sec_filing_id': 197482, 'fiscal_period': '1Q', 'fact_id': 0, 'is_detail': False, 'network_id': 0, 'filing_date': '2011-09-12', 'footnote_type_title': 'Additional 10-K and 10-Q Sections', 'ticker': 'DNAS', 'guide_link': None, 'footnote_type': 2910, 'entity_name': 'Dna Systems, Inc.', 'document_type': '10-Q', 'SEC_URL': 'http://www.sec.gov/Archives/edgar/data/1441551/000113705011000265/0001137050-11-000265-index.htm'}\n",
      "2910 2011 2 {'page_url': 'ftp://ftp.sec.gov/edgar/data/318835/000076458611000006/dsi006q211.htm', 'local_name': None, 'blob_id': '199259_section291', 'accession_id': 8770, 'received_date': '2011-08-22', 'description': 'Dsi Realty Income Fund Vi (DSI006)', 'fiscal_year': 2011, 'entity_id': 4782, 'sec_filing_id': 199259, 'fiscal_period': '2Q', 'fact_id': 0, 'is_detail': False, 'network_id': 0, 'filing_date': '2011-08-22', 'footnote_type_title': 'Additional 10-K and 10-Q Sections', 'ticker': 'DSI006', 'guide_link': None, 'footnote_type': 2910, 'entity_name': 'Dsi Realty Income Fund Vi', 'document_type': '10-Q', 'SEC_URL': 'http://www.sec.gov/Archives/edgar/data/318835/000076458611000006/0000764586-11-000006-index.htm'}\n"
     ]
    },
    {
     "name": "stdout",
     "output_type": "stream",
     "text": [
      "2910 2011 2 {'page_url': 'ftp://ftp.sec.gov/edgar/data/1377318/000143209311000544/huntglobal10q063011.htm', 'local_name': None, 'blob_id': '196402_section291', 'accession_id': 5913, 'received_date': '2011-08-15', 'description': 'Hunt Global Resources, Inc. (HGCO)', 'fiscal_year': 2011, 'entity_id': 2976, 'sec_filing_id': 196402, 'fiscal_period': '2Q', 'fact_id': 0, 'is_detail': False, 'network_id': 0, 'filing_date': '2011-08-15', 'footnote_type_title': 'Additional 10-K and 10-Q Sections', 'ticker': 'HGCO', 'guide_link': None, 'footnote_type': 2910, 'entity_name': 'Hunt Global Resources, Inc.', 'document_type': '10-Q', 'SEC_URL': 'http://www.sec.gov/Archives/edgar/data/1377318/000143209311000544/0001432093-11-000544-index.htm'}\n",
      "2910 2011 2 {'page_url': 'ftp://ftp.sec.gov/edgar/data/1095133/000109513311000027/isa3qtr201110qver75.htm', 'local_name': None, 'blob_id': '192993_section291', 'accession_id': 2504, 'received_date': '2011-09-15', 'description': 'Isa Internationale Inc (ISATOB)', 'fiscal_year': 2011, 'entity_id': 1087, 'sec_filing_id': 192993, 'fiscal_period': '3Q', 'fact_id': 0, 'is_detail': False, 'network_id': 0, 'filing_date': '2011-09-15', 'footnote_type_title': 'Additional 10-K and 10-Q Sections', 'ticker': 'ISATOB', 'guide_link': None, 'footnote_type': 2910, 'entity_name': 'Isa Internationale Inc', 'document_type': '10-Q/A', 'SEC_URL': 'http://www.sec.gov/Archives/edgar/data/1095133/000109513311000027/0001095133-11-000027-index.htm'}\n",
      "2910 2011 2 {'page_url': 'ftp://ftp.sec.gov/edgar/data/1104265/000101041211000432/lighttouchform10qjune11.htm', 'local_name': None, 'blob_id': '193232_section291', 'accession_id': 2743, 'received_date': '2011-08-12', 'description': 'Grow Solutions Holdings, Inc. (LTVL)', 'fiscal_year': 2011, 'entity_id': 1218, 'sec_filing_id': 193232, 'fiscal_period': '2Q', 'fact_id': 0, 'is_detail': False, 'network_id': 0, 'filing_date': '2011-08-12', 'footnote_type_title': 'Additional 10-K and 10-Q Sections', 'ticker': 'LTVL', 'guide_link': None, 'footnote_type': 2910, 'entity_name': 'Grow Solutions Holdings, Inc.', 'document_type': '10-Q', 'SEC_URL': 'http://www.sec.gov/Archives/edgar/data/1104265/000101041211000432/0001010412-11-000432-index.htm'}\n",
      "2910 2011 2 {'page_url': 'ftp://ftp.sec.gov/edgar/data/1011452/000101145211000020/tenq2a.htm', 'local_name': None, 'blob_id': '190793_section291', 'accession_id': 304, 'received_date': '2011-09-06', 'description': 'Medical Information Technology, Inc. (CIK0001011452)', 'fiscal_year': 2011, 'entity_id': 129, 'sec_filing_id': 190793, 'fiscal_period': '2Q', 'fact_id': 0, 'is_detail': False, 'network_id': 0, 'filing_date': '2011-09-06', 'footnote_type_title': 'Additional 10-K and 10-Q Sections', 'ticker': 'CIK0001011452', 'guide_link': None, 'footnote_type': 2910, 'entity_name': 'Medical Information Technology, Inc.', 'document_type': '10-Q/A', 'SEC_URL': 'http://www.sec.gov/Archives/edgar/data/1011452/000101145211000020/0001011452-11-000020-index.htm'}\n",
      "2910 2011 2 {'page_url': 'ftp://ftp.sec.gov/edgar/data/1112551/000113705011000204/merci_form10qa6302011final.htm', 'local_name': None, 'blob_id': '193387_section291', 'accession_id': 2898, 'received_date': '2011-08-12', 'description': 'Merci Inc (MRCI)', 'fiscal_year': 2011, 'entity_id': 1295, 'sec_filing_id': 193387, 'fiscal_period': '2Q', 'fact_id': 0, 'is_detail': False, 'network_id': 0, 'filing_date': '2011-08-12', 'footnote_type_title': 'Additional 10-K and 10-Q Sections', 'ticker': 'MRCI', 'guide_link': None, 'footnote_type': 2910, 'entity_name': 'Merci Inc', 'document_type': '10-Q/A', 'SEC_URL': 'http://www.sec.gov/Archives/edgar/data/1112551/000113705011000204/0001137050-11-000204-index.htm'}\n",
      "2910 2011 2 {'page_url': 'ftp://ftp.sec.gov/edgar/data/1100734/000101041211000401/merilusform10qjune11.htm', 'local_name': None, 'blob_id': '193140_section291', 'accession_id': 2651, 'received_date': '2011-08-09', 'description': 'Kingsmen Capital Group, Ltd (ZNDX)', 'fiscal_year': 2011, 'entity_id': 1168, 'sec_filing_id': 193140, 'fiscal_period': '2Q', 'fact_id': 0, 'is_detail': False, 'network_id': 0, 'filing_date': '2011-08-09', 'footnote_type_title': 'Additional 10-K and 10-Q Sections', 'ticker': 'ZNDX', 'guide_link': None, 'footnote_type': 2910, 'entity_name': 'Kingsmen Capital Group, Ltd', 'document_type': '10-Q', 'SEC_URL': 'http://www.sec.gov/Archives/edgar/data/1100734/000101041211000401/0001010412-11-000401-index.htm'}\n",
      "2910 2011 2 {'page_url': 'ftp://ftp.sec.gov/edgar/data/1104672/000121152411000195/qjune2011final.htm', 'local_name': None, 'blob_id': '193246_section291', 'accession_id': 2757, 'received_date': '2011-08-26', 'description': 'Park Vida Group, Inc. (PRKV)', 'fiscal_year': 2011, 'entity_id': 1225, 'sec_filing_id': 193246, 'fiscal_period': '2Q', 'fact_id': 0, 'is_detail': False, 'network_id': 0, 'filing_date': '2011-08-26', 'footnote_type_title': 'Additional 10-K and 10-Q Sections', 'ticker': 'PRKV', 'guide_link': None, 'footnote_type': 2910, 'entity_name': 'Park Vida Group, Inc.', 'document_type': '10-Q/A', 'SEC_URL': 'http://www.sec.gov/Archives/edgar/data/1104672/000121152411000195/0001211524-11-000195-index.htm'}\n",
      "2910 2011 2 {'page_url': 'ftp://ftp.sec.gov/edgar/data/1372167/000137216711000028/nevaeh10qjuly312011.htm', 'local_name': None, 'blob_id': '196305_section291', 'accession_id': 5816, 'received_date': '2011-09-19', 'description': 'Pan Ocean Container Supplies, Ltd. (NVEH)', 'fiscal_year': 2011, 'entity_id': 2907, 'sec_filing_id': 196305, 'fiscal_period': '1Q', 'fact_id': 0, 'is_detail': False, 'network_id': 0, 'filing_date': '2011-09-19', 'footnote_type_title': 'Additional 10-K and 10-Q Sections', 'ticker': 'NVEH', 'guide_link': None, 'footnote_type': 2910, 'entity_name': 'Pan Ocean Container Supplies, Ltd.', 'document_type': '10-Q/A', 'SEC_URL': 'http://www.sec.gov/Archives/edgar/data/1372167/000137216711000028/0001372167-11-000028-index.htm'}\n",
      "2910 2011 2 {'page_url': 'ftp://ftp.sec.gov/edgar/data/1302365/000113705011000196/ourglass_form10q6302011final.htm', 'local_name': None, 'blob_id': '195269_section291', 'accession_id': 4780, 'received_date': '2011-08-12', 'description': 'Our Glass, Inc. (CIK0001302365)', 'fiscal_year': 2011, 'entity_id': 2264, 'sec_filing_id': 195269, 'fiscal_period': '2Q', 'fact_id': 0, 'is_detail': False, 'network_id': 0, 'filing_date': '2011-08-12', 'footnote_type_title': 'Additional 10-K and 10-Q Sections', 'ticker': 'CIK0001302365', 'guide_link': None, 'footnote_type': 2910, 'entity_name': 'Our Glass, Inc.', 'document_type': '10-Q', 'SEC_URL': 'http://www.sec.gov/Archives/edgar/data/1302365/000113705011000196/0001137050-11-000196-index.htm'}\n",
      "2910 2011 2 {'page_url': 'ftp://ftp.sec.gov/edgar/data/1027235/000101041211000390/piranhaform10qjune115.htm', 'local_name': None, 'blob_id': '191199_section291', 'accession_id': 710, 'received_date': '2011-08-05', 'description': 'Asia Travel Corp (PNHVD)', 'fiscal_year': 2011, 'entity_id': 304, 'sec_filing_id': 191199, 'fiscal_period': '2Q', 'fact_id': 0, 'is_detail': False, 'network_id': 0, 'filing_date': '2011-08-05', 'footnote_type_title': 'Additional 10-K and 10-Q Sections', 'ticker': 'PNHVD', 'guide_link': None, 'footnote_type': 2910, 'entity_name': 'Asia Travel Corp', 'document_type': '10-Q', 'SEC_URL': 'http://www.sec.gov/Archives/edgar/data/1027235/000101041211000390/0001010412-11-000390-index.htm'}\n",
      "2910 2011 2 {'page_url': 'ftp://ftp.sec.gov/edgar/data/78838/000007883811000036/pw2011q210qv2.htm', 'local_name': None, 'blob_id': '201970_section291', 'accession_id': 11482, 'received_date': '2011-08-12', 'description': 'Pittsburgh & West Virginia Railroad (CIK0000078838)', 'fiscal_year': 2011, 'entity_id': 5710, 'sec_filing_id': 201970, 'fiscal_period': '2Q', 'fact_id': 0, 'is_detail': False, 'network_id': 0, 'filing_date': '2011-08-12', 'footnote_type_title': 'Additional 10-K and 10-Q Sections', 'ticker': 'CIK0000078838', 'guide_link': None, 'footnote_type': 2910, 'entity_name': 'Pittsburgh & West Virginia Railroad', 'document_type': '10-Q', 'SEC_URL': 'http://www.sec.gov/Archives/edgar/data/78838/000007883811000036/0000078838-11-000036-index.htm'}\n"
     ]
    },
    {
     "name": "stdout",
     "output_type": "stream",
     "text": [
      "2910 2011 2 {'page_url': 'ftp://ftp.sec.gov/edgar/data/790179/000102317511000433/f10qv2edgar.htm', 'local_name': None, 'blob_id': '202034_section291', 'accession_id': 11546, 'received_date': '2011-08-11', 'description': 'Prestige Capital Corp (PGEC)', 'fiscal_year': 2011, 'entity_id': 5732, 'sec_filing_id': 202034, 'fiscal_period': '2Q', 'fact_id': 0, 'is_detail': False, 'network_id': 0, 'filing_date': '2011-08-11', 'footnote_type_title': 'Additional 10-K and 10-Q Sections', 'ticker': 'PGEC', 'guide_link': None, 'footnote_type': 2910, 'entity_name': 'Prestige Capital Corp', 'document_type': '10-Q/A', 'SEC_URL': 'http://www.sec.gov/Archives/edgar/data/790179/000102317511000433/0001023175-11-000433-index.htm'}\n",
      "2910 2011 2 {'page_url': 'ftp://ftp.sec.gov/edgar/data/1329606/000150441211000059/probeq22011.htm', 'local_name': None, 'blob_id': '195657_section291', 'accession_id': 5168, 'received_date': '2011-08-15', 'description': 'Probe Manufacturing Inc (CETY)', 'fiscal_year': 2011, 'entity_id': 2494, 'sec_filing_id': 195657, 'fiscal_period': '2Q', 'fact_id': 0, 'is_detail': False, 'network_id': 0, 'filing_date': '2011-08-15', 'footnote_type_title': 'Additional 10-K and 10-Q Sections', 'ticker': 'CETY', 'guide_link': None, 'footnote_type': 2910, 'entity_name': 'Probe Manufacturing Inc', 'document_type': '10-Q', 'SEC_URL': 'http://www.sec.gov/Archives/edgar/data/1329606/000150441211000059/0001504412-11-000059-index.htm'}\n",
      "2910 2011 2 {'page_url': 'ftp://ftp.sec.gov/edgar/data/1333614/000137216711000039/razor10qajuly31.htm', 'local_name': None, 'blob_id': '195728_section291', 'accession_id': 5239, 'received_date': '2011-10-06', 'description': 'You Han Data Tech Co Ltd. (RZOR)', 'fiscal_year': 2011, 'entity_id': 2532, 'sec_filing_id': 195728, 'fiscal_period': '1Q', 'fact_id': 0, 'is_detail': False, 'network_id': 0, 'filing_date': '2011-10-06', 'footnote_type_title': 'Additional 10-K and 10-Q Sections', 'ticker': 'RZOR', 'guide_link': None, 'footnote_type': 2910, 'entity_name': 'You Han Data Tech Co Ltd.', 'document_type': '10-Q/A', 'SEC_URL': 'http://www.sec.gov/Archives/edgar/data/1333614/000137216711000039/0001372167-11-000039-index.htm'}\n",
      "2910 2011 2 {'page_url': 'ftp://ftp.sec.gov/edgar/data/1103090/000101041211000453/f10qq211v7.htm', 'local_name': None, 'blob_id': '193202_section291', 'accession_id': 2713, 'received_date': '2011-08-15', 'description': 'Reflect Scientific Inc (RSCF)', 'fiscal_year': 2011, 'entity_id': 1202, 'sec_filing_id': 193202, 'fiscal_period': '2Q', 'fact_id': 0, 'is_detail': False, 'network_id': 0, 'filing_date': '2011-08-15', 'footnote_type_title': 'Additional 10-K and 10-Q Sections', 'ticker': 'RSCF', 'guide_link': None, 'footnote_type': 2910, 'entity_name': 'Reflect Scientific Inc', 'document_type': '10-Q', 'SEC_URL': 'http://www.sec.gov/Archives/edgar/data/1103090/000101041211000453/0001010412-11-000453-index.htm'}\n",
      "2910 2011 2 {'page_url': 'ftp://ftp.sec.gov/edgar/data/1419559/000101041211000443/rtform10qjune11maryschanges.htm', 'local_name': None, 'blob_id': '197144_section291', 'accession_id': 6655, 'received_date': '2011-08-15', 'description': 'CAM Group, Inc. (CAMG)', 'fiscal_year': 2011, 'entity_id': 3503, 'sec_filing_id': 197144, 'fiscal_period': '2Q', 'fact_id': 0, 'is_detail': False, 'network_id': 0, 'filing_date': '2011-08-15', 'footnote_type_title': 'Additional 10-K and 10-Q Sections', 'ticker': 'CAMG', 'guide_link': None, 'footnote_type': 2910, 'entity_name': 'CAM Group, Inc.', 'document_type': '10-Q', 'SEC_URL': 'http://www.sec.gov/Archives/edgar/data/1419559/000101041211000443/0001010412-11-000443-index.htm'}\n",
      "2910 2011 2 {'page_url': 'ftp://ftp.sec.gov/edgar/data/1276531/000127653111000012/scientificenergy10q06302011.htm', 'local_name': None, 'blob_id': '194910_section291', 'accession_id': 4421, 'received_date': '2011-08-11', 'description': 'Scientific Energy Inc (SCGY)', 'fiscal_year': 2011, 'entity_id': 2060, 'sec_filing_id': 194910, 'fiscal_period': '2Q', 'fact_id': 0, 'is_detail': False, 'network_id': 0, 'filing_date': '2011-08-11', 'footnote_type_title': 'Additional 10-K and 10-Q Sections', 'ticker': 'SCGY', 'guide_link': None, 'footnote_type': 2910, 'entity_name': 'Scientific Energy Inc', 'document_type': '10-Q/A', 'SEC_URL': 'http://www.sec.gov/Archives/edgar/data/1276531/000127653111000012/0001276531-11-000012-index.htm'}\n",
      "2910 2011 2 {'page_url': 'ftp://ftp.sec.gov/edgar/data/1432290/000093173111000172/securewindow-10q063011.htm', 'local_name': None, 'blob_id': '197355_section291', 'accession_id': 6866, 'received_date': '2011-08-18', 'description': 'A1 Group, Inc. (FBTN)', 'fiscal_year': 2011, 'entity_id': 3662, 'sec_filing_id': 197355, 'fiscal_period': '2Q', 'fact_id': 0, 'is_detail': False, 'network_id': 0, 'filing_date': '2011-08-18', 'footnote_type_title': 'Additional 10-K and 10-Q Sections', 'ticker': 'FBTN', 'guide_link': None, 'footnote_type': 2910, 'entity_name': 'A1 Group, Inc.', 'document_type': '10-Q/A', 'SEC_URL': 'http://www.sec.gov/Archives/edgar/data/1432290/000093173111000172/0000931731-11-000172-index.htm'}\n",
      "2910 2011 2 {'page_url': 'ftp://ftp.sec.gov/edgar/data/1310630/000101041211000420/trafalgar10qjune11.htm', 'local_name': None, 'blob_id': '195373_section291', 'accession_id': 4884, 'received_date': '2011-08-11', 'description': 'Trafalgar Resources, Inc. (TFLG)', 'fiscal_year': 2011, 'entity_id': 2331, 'sec_filing_id': 195373, 'fiscal_period': '3Q', 'fact_id': 0, 'is_detail': False, 'network_id': 0, 'filing_date': '2011-08-11', 'footnote_type_title': 'Additional 10-K and 10-Q Sections', 'ticker': 'TFLG', 'guide_link': None, 'footnote_type': 2910, 'entity_name': 'Trafalgar Resources, Inc.', 'document_type': '10-Q', 'SEC_URL': 'http://www.sec.gov/Archives/edgar/data/1310630/000101041211000420/0001010412-11-000420-index.htm'}\n",
      "2910 2011 2 {'page_url': 'ftp://ftp.sec.gov/edgar/data/1111468/000113705011000200/tranquility_form10q6302011fi.htm', 'local_name': None, 'blob_id': '193372_section291', 'accession_id': 2883, 'received_date': '2011-08-12', 'description': 'Tranquility Inc (CIK0001111468)', 'fiscal_year': 2011, 'entity_id': 1284, 'sec_filing_id': 193372, 'fiscal_period': '2Q', 'fact_id': 0, 'is_detail': False, 'network_id': 0, 'filing_date': '2011-08-12', 'footnote_type_title': 'Additional 10-K and 10-Q Sections', 'ticker': 'CIK0001111468', 'guide_link': None, 'footnote_type': 2910, 'entity_name': 'Tranquility Inc', 'document_type': '10-Q', 'SEC_URL': 'http://www.sec.gov/Archives/edgar/data/1111468/000113705011000200/0001137050-11-000200-index.htm'}\n",
      "2910 2011 2 {'page_url': 'ftp://ftp.sec.gov/edgar/data/1028394/000102317511000447/veii6301110q2.htm', 'local_name': None, 'blob_id': '191221_section291', 'accession_id': 732, 'received_date': '2011-08-12', 'description': 'Voyager Entertainment International Inc (VEII)', 'fiscal_year': 2011, 'entity_id': 313, 'sec_filing_id': 191221, 'fiscal_period': '2Q', 'fact_id': 0, 'is_detail': False, 'network_id': 0, 'filing_date': '2011-08-12', 'footnote_type_title': 'Additional 10-K and 10-Q Sections', 'ticker': 'VEII', 'guide_link': None, 'footnote_type': 2910, 'entity_name': 'Voyager Entertainment International Inc', 'document_type': '10-Q', 'SEC_URL': 'http://www.sec.gov/Archives/edgar/data/1028394/000102317511000447/0001023175-11-000447-index.htm'}\n",
      "2910 2011 2 {'page_url': 'ftp://ftp.sec.gov/edgar/data/1442101/000100233411000346/j11q.htm', 'local_name': None, 'blob_id': '197491_section291', 'accession_id': 7002, 'received_date': '2011-08-17', 'description': 'Western Lucrative Enterprises, Inc. (WLUC)', 'fiscal_year': 2011, 'entity_id': 3786, 'sec_filing_id': 197491, 'fiscal_period': '2Q', 'fact_id': 0, 'is_detail': False, 'network_id': 0, 'filing_date': '2011-08-17', 'footnote_type_title': 'Additional 10-K and 10-Q Sections', 'ticker': 'WLUC', 'guide_link': None, 'footnote_type': 2910, 'entity_name': 'Western Lucrative Enterprises, Inc.', 'document_type': '10-Q', 'SEC_URL': 'http://www.sec.gov/Archives/edgar/data/1442101/000100233411000346/0001002334-11-000346-index.htm'}\n"
     ]
    },
    {
     "data": {
      "application/vnd.jupyter.widget-view+json": {
       "model_id": "983c243ac5f248ca8554bad41048bcff"
      }
     },
     "metadata": {},
     "output_type": "display_data"
    },
    {
     "name": "stdout",
     "output_type": "stream",
     "text": [
      "2910 2011 3 {'page_url': 'ftp://ftp.sec.gov/edgar/data/1510961/000148725211000074/ucv1septq.htm', 'local_name': None, 'blob_id': '198255_section291', 'accession_id': 7766, 'received_date': '2011-10-07', 'description': 'USChina Venture I Inc (CIK0001510961)', 'fiscal_year': 2011, 'entity_id': 4437, 'sec_filing_id': 198255, 'fiscal_period': '3Q', 'fact_id': 0, 'is_detail': False, 'network_id': 0, 'filing_date': '2011-10-07', 'footnote_type_title': 'Additional 10-K and 10-Q Sections', 'ticker': 'CIK0001510961', 'guide_link': None, 'footnote_type': 2910, 'entity_name': 'USChina Venture I Inc', 'document_type': '10-Q', 'SEC_URL': 'http://www.sec.gov/Archives/edgar/data/1510961/000148725211000074/0001487252-11-000074-index.htm'}\n",
      "2910 2011 3 {'page_url': 'ftp://ftp.sec.gov/edgar/data/1510962/000148725211000078/ucv1septq.htm', 'local_name': None, 'blob_id': '198257_section291', 'accession_id': 7768, 'received_date': '2011-10-07', 'description': 'USChina Venture II Inc (CIK0001510962)', 'fiscal_year': 2011, 'entity_id': 4438, 'sec_filing_id': 198257, 'fiscal_period': '3Q', 'fact_id': 0, 'is_detail': False, 'network_id': 0, 'filing_date': '2011-10-07', 'footnote_type_title': 'Additional 10-K and 10-Q Sections', 'ticker': 'CIK0001510962', 'guide_link': None, 'footnote_type': 2910, 'entity_name': 'USChina Venture II Inc', 'document_type': '10-Q', 'SEC_URL': 'http://www.sec.gov/Archives/edgar/data/1510962/000148725211000078/0001487252-11-000078-index.htm'}\n"
     ]
    },
    {
     "data": {
      "application/vnd.jupyter.widget-view+json": {
       "model_id": "a40929f4633d4bc49267cc8b7641d55f"
      }
     },
     "metadata": {},
     "output_type": "display_data"
    }
   ],
   "source": [
    "for test_doc, period in tqdm_notebook(test_doc_periods[347:], desc=\"period loop\"):\n",
    "    get_documents_all_companies(test_doc['arcrole'], year=period[0], period=period[1])"
   ]
  },
  {
   "cell_type": "code",
   "execution_count": null,
   "metadata": {
    "collapsed": true
   },
   "outputs": [],
   "source": []
  }
 ],
 "metadata": {
  "kernelspec": {
   "display_name": "Python 3",
   "language": "python",
   "name": "python3"
  },
  "language_info": {
   "codemirror_mode": {
    "name": "ipython",
    "version": 3
   },
   "file_extension": ".py",
   "mimetype": "text/x-python",
   "name": "python",
   "nbconvert_exporter": "python",
   "pygments_lexer": "ipython3",
   "version": "3.5.1"
  }
 },
 "nbformat": 4,
 "nbformat_minor": 1
}
