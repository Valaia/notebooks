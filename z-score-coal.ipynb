{
 "cells": [
  {
   "cell_type": "markdown",
   "metadata": {},
   "source": [
    "\n",
    "# Predicting Bankruptcy in the mining industry with Altman's Z-score and the Calcbench API\n",
    "\n",
    "Edward Altman's Z-score is a formula for predicting corporate bankruptcy.  Below we plot the change in industry aggregate Z-scores for mining companies.  A Z-score above 2.99 is considered \"safe\", between 1.81 and 2.99 is a \"gray\" zone, below 1.81 is the \"distress\" zone.  The troubles in the coal and metal mining industry are clearly illustrated.\n",
    "\n",
    "[Altman's Z-score @ Wikipedia](https://en.wikipedia.org/wiki/Altman_Z-score)\n",
    "\n",
    "To replicate the below [sign up for a Calcbench account](https://www.calcbench.com/join), install the Calcbench Python API client from [here](https://github.com/calcbench/python_api_client) and download this note book from [github](https://github.com/calcbench/notebooks/blob/master/z-score.ipynb)."
   ]
  },
  {
   "cell_type": "code",
   "execution_count": 1,
   "metadata": {
    "collapsed": false
   },
   "outputs": [
    {
     "name": "stdout",
     "output_type": "stream",
     "text": [
      "Populating the interactive namespace from numpy and matplotlib\n"
     ]
    }
   ],
   "source": [
    "import calcbench as cb\n",
    "import pandas as pd\n",
    "pd.options.display.max_rows = 1000\n",
    "%pylab inline"
   ]
  },
  {
   "cell_type": "code",
   "execution_count": 11,
   "metadata": {
    "collapsed": true
   },
   "outputs": [],
   "source": [
    "z_score_metrics = ['CurrentAssets',\n",
    "                   'CurrentLiabilities', \n",
    "                   'Assets', \n",
    "                   'RetainedEarnings', \n",
    "                   'EBIT', \n",
    "                   'MarketCapAtEndOfPeriod',\n",
    "                   'Liabilities',\n",
    "                   'Revenue']"
   ]
  },
  {
   "cell_type": "code",
   "execution_count": 3,
   "metadata": {
    "collapsed": false
   },
   "outputs": [],
   "source": [
    "SIC_codes = {\n",
    "    \"Oil And Gas Extraction\" : 1300,\n",
    "    \"Metal Mining\" : 1000,\n",
    "    \"Coal Mining\" : 1200,\n",
    "    \"Mining Nonmetallic Minerals\" : 1400,\n",
    "}"
   ]
  },
  {
   "cell_type": "code",
   "execution_count": 15,
   "metadata": {
    "collapsed": true
   },
   "outputs": [],
   "source": [
    "def get_z_score_inputs(tickers):\n",
    "    z_score_data = cb.normalized_dataframe(company_identifiers=list(tickers), \n",
    "                                           metrics=z_score_metrics, \n",
    "                                           start_year=2008, start_period=0, \n",
    "                                           end_year=2015, end_period=0)\n",
    "    return z_score_data"
   ]
  },
  {
   "cell_type": "code",
   "execution_count": 7,
   "metadata": {
    "collapsed": false
   },
   "outputs": [],
   "source": [
    "def peer_group_z_score(peer_group):\n",
    "    peer_group = peer_group[(peer_group.ticker != 'GMC') & (peer_group.ticker != 'PPI')] #GMC's marketvalue is off\n",
    "    z_score_data = get_z_score_inputs(peer_group.ticker)\n",
    "    aggregate_data = z_score_data.sum(level=[0], axis=1)\n",
    "    return compute_z_score(aggregate_data), z_score_data"
   ]
  },
  {
   "cell_type": "code",
   "execution_count": 18,
   "metadata": {
    "collapsed": true
   },
   "outputs": [],
   "source": [
    "def compute_z_score(inputs):\n",
    "    #from https://github.com/calcbench/notebooks/blob/master/z-score.ipynb\n",
    "    working_capital = inputs['CurrentAssets'] - inputs['CurrentLiabilities']\n",
    "    \n",
    "\n",
    "    z_score = (1.2 * (working_capital / inputs['Assets']) + \n",
    "              1.4 * (inputs['RetainedEarnings'] / inputs['Assets']) +\n",
    "              3.3 * (inputs['EBIT'] / inputs['Assets']) +\n",
    "              0.6 * (inputs['MarketCapAtEndOfPeriod'] / inputs['Liabilities']) +\n",
    "              .99 * (inputs['Revenue'] / inputs['Assets']))\n",
    "    \n",
    "    return z_score"
   ]
  },
  {
   "cell_type": "code",
   "execution_count": 61,
   "metadata": {
    "collapsed": false
   },
   "outputs": [],
   "source": [
    "peer_groups = [(industry, cb.companies(SIC_codes=[SIC_code])) for industry, SIC_code in SIC_codes.items()]\n",
    "sp500 = cb.companies(index=\"SP500\")\n",
    "sp500_no_financials = sp500[sp500.sic_code & ((sp500.sic_code < 6000) | (sp500.sic_code >= 7000))] # There is a different z-score formulas for financials.\n",
    "peer_groups.append((\"SP500 (no financials)\", sp500_no_financials))\n",
    "industry_z_scores = [(industry, peer_group_z_score(peer_group)[0]) for industry, peer_group in peer_groups]\n",
    "z_scores = pd.DataFrame.from_items(industry_z_scores)"
   ]
  },
  {
   "cell_type": "code",
   "execution_count": 3,
   "metadata": {
    "collapsed": true
   },
   "outputs": [
    {
     "name": "stderr",
     "output_type": "stream",
     "text": [
      "/Library/Frameworks/Python.framework/Versions/2.7/lib/python2.7/site-packages/requests/packages/urllib3/util/ssl_.py:315: SNIMissingWarning: An HTTPS request has been made, but the SNI (Subject Name Indication) extension to TLS is not available on this platform. This may cause the server to present an incorrect TLS certificate, which can cause validation failures. For more information, see https://urllib3.readthedocs.org/en/latest/security.html#snimissingwarning.\n",
      "  SNIMissingWarning\n",
      "/Library/Frameworks/Python.framework/Versions/2.7/lib/python2.7/site-packages/requests/packages/urllib3/util/ssl_.py:120: InsecurePlatformWarning: A true SSLContext object is not available. This prevents urllib3 from configuring SSL appropriately and may cause certain SSL connections to fail. For more information, see https://urllib3.readthedocs.org/en/latest/security.html#insecureplatformwarning.\n",
      "  InsecurePlatformWarning\n"
     ]
    }
   ],
   "source": [
    "coal_peer_group = cb.companies(SIC_codes=[1200])"
   ]
  },
  {
   "cell_type": "code",
   "execution_count": 16,
   "metadata": {
    "collapsed": false
   },
   "outputs": [],
   "source": [
    "z_score_inputs = get_z_score_inputs(coal_peer_group.ticker)"
   ]
  },
  {
   "cell_type": "code",
   "execution_count": 19,
   "metadata": {
    "collapsed": false
   },
   "outputs": [
    {
     "data": {
      "text/html": [
       "<div style=\"max-height:1000px;max-width:1500px;overflow:auto;\">\n",
       "<table border=\"1\" class=\"dataframe\">\n",
       "  <thead>\n",
       "    <tr style=\"text-align: right;\">\n",
       "      <th>ticker</th>\n",
       "      <th>ACI</th>\n",
       "      <th>AHGP</th>\n",
       "      <th>ANR</th>\n",
       "      <th>ARLP</th>\n",
       "      <th>AWSR</th>\n",
       "      <th>BRNE</th>\n",
       "      <th>BTU</th>\n",
       "      <th>CERX</th>\n",
       "      <th>CHGY</th>\n",
       "      <th>CIK0001255895</th>\n",
       "      <th>...</th>\n",
       "      <th>LLEN</th>\n",
       "      <th>MEE</th>\n",
       "      <th>NRP</th>\n",
       "      <th>PCX</th>\n",
       "      <th>ROYE</th>\n",
       "      <th>SGBHF</th>\n",
       "      <th>SGZH</th>\n",
       "      <th>WLB</th>\n",
       "      <th>WLT</th>\n",
       "      <th>WMLP</th>\n",
       "    </tr>\n",
       "    <tr>\n",
       "      <th>period</th>\n",
       "      <th></th>\n",
       "      <th></th>\n",
       "      <th></th>\n",
       "      <th></th>\n",
       "      <th></th>\n",
       "      <th></th>\n",
       "      <th></th>\n",
       "      <th></th>\n",
       "      <th></th>\n",
       "      <th></th>\n",
       "      <th></th>\n",
       "      <th></th>\n",
       "      <th></th>\n",
       "      <th></th>\n",
       "      <th></th>\n",
       "      <th></th>\n",
       "      <th></th>\n",
       "      <th></th>\n",
       "      <th></th>\n",
       "      <th></th>\n",
       "      <th></th>\n",
       "    </tr>\n",
       "  </thead>\n",
       "  <tbody>\n",
       "    <tr>\n",
       "      <th>2008</th>\n",
       "      <td>NaN</td>\n",
       "      <td>NaN</td>\n",
       "      <td>3.516771</td>\n",
       "      <td>NaN</td>\n",
       "      <td>NaN</td>\n",
       "      <td>NaN</td>\n",
       "      <td>1.973063</td>\n",
       "      <td>NaN</td>\n",
       "      <td>NaN</td>\n",
       "      <td>NaN</td>\n",
       "      <td>...</td>\n",
       "      <td>NaN</td>\n",
       "      <td>NaN</td>\n",
       "      <td>NaN</td>\n",
       "      <td>NaN</td>\n",
       "      <td>NaN</td>\n",
       "      <td>NaN</td>\n",
       "      <td>NaN</td>\n",
       "      <td>NaN</td>\n",
       "      <td>NaN</td>\n",
       "      <td>NaN</td>\n",
       "    </tr>\n",
       "    <tr>\n",
       "      <th>2009</th>\n",
       "      <td>1.496238</td>\n",
       "      <td>NaN</td>\n",
       "      <td>2.044533</td>\n",
       "      <td>NaN</td>\n",
       "      <td>NaN</td>\n",
       "      <td>NaN</td>\n",
       "      <td>2.440364</td>\n",
       "      <td>NaN</td>\n",
       "      <td>NaN</td>\n",
       "      <td>NaN</td>\n",
       "      <td>...</td>\n",
       "      <td>NaN</td>\n",
       "      <td>1.445947</td>\n",
       "      <td>NaN</td>\n",
       "      <td>1.136516</td>\n",
       "      <td>NaN</td>\n",
       "      <td>NaN</td>\n",
       "      <td>NaN</td>\n",
       "      <td>NaN</td>\n",
       "      <td>4.080467</td>\n",
       "      <td>NaN</td>\n",
       "    </tr>\n",
       "    <tr>\n",
       "      <th>2010</th>\n",
       "      <td>2.372645</td>\n",
       "      <td>NaN</td>\n",
       "      <td>2.926864</td>\n",
       "      <td>NaN</td>\n",
       "      <td>NaN</td>\n",
       "      <td>NaN</td>\n",
       "      <td>3.034724</td>\n",
       "      <td>NaN</td>\n",
       "      <td>2.767974</td>\n",
       "      <td>NaN</td>\n",
       "      <td>...</td>\n",
       "      <td>NaN</td>\n",
       "      <td>0.840861</td>\n",
       "      <td>NaN</td>\n",
       "      <td>0.918735</td>\n",
       "      <td>NaN</td>\n",
       "      <td>NaN</td>\n",
       "      <td>NaN</td>\n",
       "      <td>0.353887</td>\n",
       "      <td>6.633498</td>\n",
       "      <td>NaN</td>\n",
       "    </tr>\n",
       "    <tr>\n",
       "      <th>2011</th>\n",
       "      <td>0.872310</td>\n",
       "      <td>NaN</td>\n",
       "      <td>0.617583</td>\n",
       "      <td>NaN</td>\n",
       "      <td>NaN</td>\n",
       "      <td>NaN</td>\n",
       "      <td>1.211939</td>\n",
       "      <td>NaN</td>\n",
       "      <td>2.253454</td>\n",
       "      <td>NaN</td>\n",
       "      <td>...</td>\n",
       "      <td>NaN</td>\n",
       "      <td>NaN</td>\n",
       "      <td>NaN</td>\n",
       "      <td>0.945068</td>\n",
       "      <td>NaN</td>\n",
       "      <td>NaN</td>\n",
       "      <td>NaN</td>\n",
       "      <td>0.167247</td>\n",
       "      <td>1.349729</td>\n",
       "      <td>NaN</td>\n",
       "    </tr>\n",
       "    <tr>\n",
       "      <th>2012</th>\n",
       "      <td>0.393262</td>\n",
       "      <td>NaN</td>\n",
       "      <td>-0.201825</td>\n",
       "      <td>NaN</td>\n",
       "      <td>NaN</td>\n",
       "      <td>NaN</td>\n",
       "      <td>0.365003</td>\n",
       "      <td>NaN</td>\n",
       "      <td>2.026840</td>\n",
       "      <td>NaN</td>\n",
       "      <td>...</td>\n",
       "      <td>NaN</td>\n",
       "      <td>NaN</td>\n",
       "      <td>NaN</td>\n",
       "      <td>-0.170363</td>\n",
       "      <td>-21.210232</td>\n",
       "      <td>NaN</td>\n",
       "      <td>NaN</td>\n",
       "      <td>0.349266</td>\n",
       "      <td>0.074153</td>\n",
       "      <td>NaN</td>\n",
       "    </tr>\n",
       "    <tr>\n",
       "      <th>2013</th>\n",
       "      <td>0.211907</td>\n",
       "      <td>NaN</td>\n",
       "      <td>-0.139347</td>\n",
       "      <td>NaN</td>\n",
       "      <td>NaN</td>\n",
       "      <td>2.313948</td>\n",
       "      <td>0.209699</td>\n",
       "      <td>NaN</td>\n",
       "      <td>NaN</td>\n",
       "      <td>NaN</td>\n",
       "      <td>...</td>\n",
       "      <td>NaN</td>\n",
       "      <td>NaN</td>\n",
       "      <td>NaN</td>\n",
       "      <td>NaN</td>\n",
       "      <td>NaN</td>\n",
       "      <td>NaN</td>\n",
       "      <td>NaN</td>\n",
       "      <td>0.496324</td>\n",
       "      <td>0.277818</td>\n",
       "      <td>NaN</td>\n",
       "    </tr>\n",
       "    <tr>\n",
       "      <th>2014</th>\n",
       "      <td>0.247459</td>\n",
       "      <td>NaN</td>\n",
       "      <td>-0.287496</td>\n",
       "      <td>NaN</td>\n",
       "      <td>NaN</td>\n",
       "      <td>-146.832843</td>\n",
       "      <td>0.636837</td>\n",
       "      <td>NaN</td>\n",
       "      <td>NaN</td>\n",
       "      <td>NaN</td>\n",
       "      <td>...</td>\n",
       "      <td>NaN</td>\n",
       "      <td>NaN</td>\n",
       "      <td>NaN</td>\n",
       "      <td>NaN</td>\n",
       "      <td>NaN</td>\n",
       "      <td>NaN</td>\n",
       "      <td>NaN</td>\n",
       "      <td>0.221297</td>\n",
       "      <td>-0.081414</td>\n",
       "      <td>NaN</td>\n",
       "    </tr>\n",
       "    <tr>\n",
       "      <th>2015</th>\n",
       "      <td>-3.553939</td>\n",
       "      <td>NaN</td>\n",
       "      <td>NaN</td>\n",
       "      <td>NaN</td>\n",
       "      <td>NaN</td>\n",
       "      <td>NaN</td>\n",
       "      <td>-0.535779</td>\n",
       "      <td>NaN</td>\n",
       "      <td>NaN</td>\n",
       "      <td>NaN</td>\n",
       "      <td>...</td>\n",
       "      <td>NaN</td>\n",
       "      <td>NaN</td>\n",
       "      <td>NaN</td>\n",
       "      <td>NaN</td>\n",
       "      <td>146.242391</td>\n",
       "      <td>NaN</td>\n",
       "      <td>NaN</td>\n",
       "      <td>0.043883</td>\n",
       "      <td>NaN</td>\n",
       "      <td>NaN</td>\n",
       "    </tr>\n",
       "  </tbody>\n",
       "</table>\n",
       "<p>8 rows × 28 columns</p>\n",
       "</div>"
      ],
      "text/plain": [
       "ticker       ACI  AHGP       ANR  ARLP  AWSR        BRNE       BTU  CERX  \\\n",
       "period                                                                     \n",
       "2008         NaN   NaN  3.516771   NaN   NaN         NaN  1.973063   NaN   \n",
       "2009    1.496238   NaN  2.044533   NaN   NaN         NaN  2.440364   NaN   \n",
       "2010    2.372645   NaN  2.926864   NaN   NaN         NaN  3.034724   NaN   \n",
       "2011    0.872310   NaN  0.617583   NaN   NaN         NaN  1.211939   NaN   \n",
       "2012    0.393262   NaN -0.201825   NaN   NaN         NaN  0.365003   NaN   \n",
       "2013    0.211907   NaN -0.139347   NaN   NaN    2.313948  0.209699   NaN   \n",
       "2014    0.247459   NaN -0.287496   NaN   NaN -146.832843  0.636837   NaN   \n",
       "2015   -3.553939   NaN       NaN   NaN   NaN         NaN -0.535779   NaN   \n",
       "\n",
       "ticker      CHGY  CIK0001255895  ...   LLEN       MEE  NRP       PCX  \\\n",
       "period                           ...                                   \n",
       "2008         NaN            NaN  ...    NaN       NaN  NaN       NaN   \n",
       "2009         NaN            NaN  ...    NaN  1.445947  NaN  1.136516   \n",
       "2010    2.767974            NaN  ...    NaN  0.840861  NaN  0.918735   \n",
       "2011    2.253454            NaN  ...    NaN       NaN  NaN  0.945068   \n",
       "2012    2.026840            NaN  ...    NaN       NaN  NaN -0.170363   \n",
       "2013         NaN            NaN  ...    NaN       NaN  NaN       NaN   \n",
       "2014         NaN            NaN  ...    NaN       NaN  NaN       NaN   \n",
       "2015         NaN            NaN  ...    NaN       NaN  NaN       NaN   \n",
       "\n",
       "ticker        ROYE  SGBHF  SGZH       WLB       WLT  WMLP  \n",
       "period                                                     \n",
       "2008           NaN    NaN   NaN       NaN       NaN   NaN  \n",
       "2009           NaN    NaN   NaN       NaN  4.080467   NaN  \n",
       "2010           NaN    NaN   NaN  0.353887  6.633498   NaN  \n",
       "2011           NaN    NaN   NaN  0.167247  1.349729   NaN  \n",
       "2012    -21.210232    NaN   NaN  0.349266  0.074153   NaN  \n",
       "2013           NaN    NaN   NaN  0.496324  0.277818   NaN  \n",
       "2014           NaN    NaN   NaN  0.221297 -0.081414   NaN  \n",
       "2015    146.242391    NaN   NaN  0.043883       NaN   NaN  \n",
       "\n",
       "[8 rows x 28 columns]"
      ]
     },
     "execution_count": 19,
     "metadata": {},
     "output_type": "execute_result"
    }
   ],
   "source": [
    "compute_z_score(z_score_inputs)"
   ]
  },
  {
   "cell_type": "code",
   "execution_count": 62,
   "metadata": {
    "collapsed": false
   },
   "outputs": [
    {
     "data": {
      "text/plain": [
       "<matplotlib.axes._subplots.AxesSubplot at 0x16a0ee1a9b0>"
      ]
     },
     "execution_count": 62,
     "metadata": {},
     "output_type": "execute_result"
    },
    {
     "data": {
      "image/png": "[encoded data removed]",
      "text/plain": [
       "<matplotlib.figure.Figure at 0x16a1105bc18>"
      ]
     },
     "metadata": {},
     "output_type": "display_data"
    }
   ],
   "source": [
    "z_scores.plot(figsize=(18, 10))"
   ]
  },
  {
   "cell_type": "code",
   "execution_count": 69,
   "metadata": {
    "collapsed": false
   },
   "outputs": [],
   "source": [
    "z_score, data = peer_group_z_score(peer_groups[0][1])"
   ]
  },
  {
   "cell_type": "code",
   "execution_count": 78,
   "metadata": {
    "collapsed": false
   },
   "outputs": [
    {
     "data": {
      "text/plain": [
       "period\n",
       "2008         NaN\n",
       "2009    1.496238\n",
       "2010    2.372645\n",
       "2011    0.872310\n",
       "2012    0.393262\n",
       "2013    0.211907\n",
       "2014    0.247459\n",
       "2015         NaN\n",
       "Freq: A-DEC, dtype: float64"
      ]
     },
     "execution_count": 78,
     "metadata": {},
     "output_type": "execute_result"
    }
   ],
   "source": [
    "compute_z_score(data.swaplevel(0, 1, 1).ACI)"
   ]
  },
  {
   "cell_type": "code",
   "execution_count": null,
   "metadata": {
    "collapsed": true
   },
   "outputs": [],
   "source": []
  }
 ],
 "metadata": {
  "kernelspec": {
   "display_name": "Python 2",
   "language": "python",
   "name": "python2"
  },
  "language_info": {
   "codemirror_mode": {
    "name": "ipython",
    "version": 2
   },
   "file_extension": ".py",
   "mimetype": "text/x-python",
   "name": "python",
   "nbconvert_exporter": "python",
   "pygments_lexer": "ipython2",
   "version": "2.7.2"
  }
 },
 "nbformat": 4,
 "nbformat_minor": 0
}
