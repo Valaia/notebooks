{
 "cells": [
  {
   "cell_type": "code",
   "execution_count": 34,
   "metadata": {
    "collapsed": false
   },
   "outputs": [],
   "source": [
    "import calcbench as cb\n",
    "import itertools\n",
    "from operator import itemgetter"
   ]
  },
  {
   "cell_type": "code",
   "execution_count": 38,
   "metadata": {
    "collapsed": true
   },
   "outputs": [],
   "source": [
    "coal_companies = cb.tickers(SIC_codes=[1200])"
   ]
  },
  {
   "cell_type": "code",
   "execution_count": 39,
   "metadata": {
    "collapsed": false
   },
   "outputs": [
    {
     "name": "stdout",
     "output_type": "stream",
     "text": [
      "2008\n",
      "2009\n",
      "2010\n",
      "2011\n",
      "America West Resources, Inc.\n",
      "Colombia Energy Resources, Inc.\n",
      "Eden Energy Corp\n",
      "Grand China Energy Group Ltd\n",
      "2012\n",
      "Borneo Resource Investments Ltd.\n",
      "Grand China Energy Group Ltd\n",
      "Patriot Coal CORP\n",
      "Royal Energy Resources, Inc.\n",
      "Westmoreland Resource Partners, LP\n",
      "2013\n",
      "Borneo Resource Investments Ltd.\n",
      "Grand China Energy Group Ltd\n",
      "Royal Energy Resources, Inc.\n",
      "Westmoreland Resource Partners, LP\n",
      "2014\n",
      "Alliance Holdings GP, L.P.\n",
      "Alliance Resource Partners Lp\n",
      "Arch Coal Inc\n",
      "Armstrong Energy, Inc.\n",
      "Borneo Resource Investments Ltd.\n",
      "Foresight Energy LP\n",
      "Grand China Energy Group Ltd\n",
      "Peabody Energy Corp\n",
      "Royal Energy Resources, Inc.\n",
      "WESTMORELAND COAL Co\n",
      "Westmoreland Resource Partners, LP\n",
      "2015\n",
      "Alliance Holdings GP, L.P.\n",
      "Alliance Resource Partners Lp\n",
      "Arch Coal Inc\n",
      "Armstrong Energy, Inc.\n",
      "Foresight Energy LP\n",
      "Natural Resource Partners Lp\n",
      "Peabody Energy Corp\n",
      "Rhino Resource Partners LP\n",
      "Royal Energy Resources, Inc.\n",
      "WESTMORELAND COAL Co\n",
      "Westmoreland Resource Partners, LP\n"
     ]
    }
   ],
   "source": [
    "for year in range(2008, 2016):\n",
    "    print(year)\n",
    "    going_concern_footnotes = cb.text_search(company_identifiers=coal_companies, \n",
    "                                             full_text_search_term='\"going concern\"', \n",
    "                                             year=year, period=0)\n",
    "    going_concern_footnotes = sorted(going_concern_footnotes, key=itemgetter('entity_name'))\n",
    "    for company_name, _ in itertools.groupby(going_concern_footnotes, itemgetter('entity_name')):\n",
    "        print(company_name)"
   ]
  },
  {
   "cell_type": "code",
   "execution_count": null,
   "metadata": {
    "collapsed": true
   },
   "outputs": [],
   "source": []
  }
 ],
 "metadata": {
  "kernelspec": {
   "display_name": "Python 3",
   "language": "python",
   "name": "python3"
  },
  "language_info": {
   "codemirror_mode": {
    "name": "ipython",
    "version": 3
   },
   "file_extension": ".py",
   "mimetype": "text/x-python",
   "name": "python",
   "nbconvert_exporter": "python",
   "pygments_lexer": "ipython3",
   "version": "3.5.1"
  }
 },
 "nbformat": 4,
 "nbformat_minor": 0
}
