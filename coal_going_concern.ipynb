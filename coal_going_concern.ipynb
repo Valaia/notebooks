{
 "cells": [
  {
   "cell_type": "markdown",
   "metadata": {},
   "source": [
    "# Search for Text in 10-K Footnotes with the Calcbench Text Search API.\n",
    "## or: The Coal Crisis in Seven Lines of Python."
   ]
  },
  {
   "cell_type": "markdown",
   "metadata": {},
   "source": [
    "Use the Calcbench text search API to search for terms in 10-K filings."
   ]
  },
  {
   "cell_type": "code",
   "execution_count": 34,
   "metadata": {
    "collapsed": false
   },
   "outputs": [],
   "source": [
    "import calcbench as cb\n",
    "import itertools\n",
    "from operator import itemgetter"
   ]
  },
  {
   "cell_type": "code",
   "execution_count": 38,
   "metadata": {
    "collapsed": true
   },
   "outputs": [],
   "source": [
    "coal_companies = cb.tickers(SIC_codes=[1200])"
   ]
  },
  {
   "cell_type": "code",
   "execution_count": 43,
   "metadata": {
    "collapsed": true
   },
   "outputs": [],
   "source": [
    "search_term = '\"going concern\"'"
   ]
  },
  {
   "cell_type": "code",
   "execution_count": 44,
   "metadata": {
    "collapsed": false
   },
   "outputs": [
    {
     "name": "stdout",
     "output_type": "stream",
     "text": [
      "YEAR  2010\n",
      "YEAR  2011\n",
      "America West Resources, Inc.\n",
      "Colombia Energy Resources, Inc.\n",
      "Eden Energy Corp\n",
      "Grand China Energy Group Ltd\n",
      "YEAR  2012\n",
      "Borneo Resource Investments Ltd.\n",
      "Grand China Energy Group Ltd\n",
      "Patriot Coal CORP\n",
      "Royal Energy Resources, Inc.\n",
      "Westmoreland Resource Partners, LP\n",
      "YEAR  2013\n",
      "Borneo Resource Investments Ltd.\n",
      "Grand China Energy Group Ltd\n",
      "Royal Energy Resources, Inc.\n",
      "Westmoreland Resource Partners, LP\n",
      "YEAR  2014\n",
      "Alliance Holdings GP, L.P.\n",
      "Alliance Resource Partners Lp\n",
      "Arch Coal Inc\n",
      "Armstrong Energy, Inc.\n",
      "Borneo Resource Investments Ltd.\n",
      "Foresight Energy LP\n",
      "Grand China Energy Group Ltd\n",
      "Peabody Energy Corp\n",
      "Royal Energy Resources, Inc.\n",
      "WESTMORELAND COAL Co\n",
      "Westmoreland Resource Partners, LP\n",
      "YEAR  2015\n",
      "Alliance Holdings GP, L.P.\n",
      "Alliance Resource Partners Lp\n",
      "Arch Coal Inc\n",
      "Armstrong Energy, Inc.\n",
      "Foresight Energy LP\n",
      "Natural Resource Partners Lp\n",
      "Peabody Energy Corp\n",
      "Rhino Resource Partners LP\n",
      "Royal Energy Resources, Inc.\n",
      "WESTMORELAND COAL Co\n",
      "Westmoreland Resource Partners, LP\n"
     ]
    }
   ],
   "source": [
    "for year in range(2010, 2016):\n",
    "    print(\"YEAR \", year)\n",
    "    going_concern_footnotes = cb.text_search(company_identifiers=coal_companies, \n",
    "                                             full_text_search_term=search_term, \n",
    "                                             year=year, period=0)\n",
    "    going_concern_footnotes = sorted(going_concern_footnotes, key=itemgetter('entity_name'))\n",
    "    for company_name, _ in itertools.groupby(going_concern_footnotes, itemgetter('entity_name')):\n",
    "        print(company_name)"
   ]
  }
 ],
 "metadata": {
  "kernelspec": {
   "display_name": "Python 3",
   "language": "python",
   "name": "python3"
  },
  "language_info": {
   "codemirror_mode": {
    "name": "ipython",
    "version": 3
   },
   "file_extension": ".py",
   "mimetype": "text/x-python",
   "name": "python",
   "nbconvert_exporter": "python",
   "pygments_lexer": "ipython3",
   "version": "3.5.1"
  }
 },
 "nbformat": 4,
 "nbformat_minor": 0
}
