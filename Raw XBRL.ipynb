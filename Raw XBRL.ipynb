{
 "cells": [
  {
   "cell_type": "code",
   "execution_count": null,
   "metadata": {},
   "outputs": [],
   "source": [
    "import calcbench as cb"
   ]
  },
  {
   "cell_type": "code",
   "execution_count": null,
   "metadata": {},
   "outputs": [],
   "source": [
    "import json"
   ]
  },
  {
   "cell_type": "code",
   "execution_count": null,
   "metadata": {},
   "outputs": [],
   "source": [
    "clauses = [{\"value\": \"DerivativeNotionalAmount\", \"parameter\": \"XBRLtag\", \"operator\": 10}\n",
    ",{\"value\": \"2018\", \"parameter\": \"fiscalYear\", \"operator\": 1}\n",
    ",{\"value\": \"Y\", \"parameter\": \"fiscalPeriod\", \"operator\": 1},\n",
    "          {\"value\" : \"True\", \"parameter\" : \"specifiesDimensions\", \"operator\" : 1},\n",
    "          {\"value\" : \"Most Recent Only\", \"parameter\": \"factversion\", \"operator\": 1}]\n",
    "\n",
    " "
   ]
  },
  {
   "cell_type": "code",
   "execution_count": null,
   "metadata": {},
   "outputs": [],
   "source": [
    "facts = cb.raw_xbrl_raw(company_identifiers=['mmm', 'gs'], clauses=clauses)"
   ]
  },
  {
   "cell_type": "code",
   "execution_count": 8,
   "metadata": {},
   "outputs": [
    {
     "name": "stdout",
     "output_type": "stream",
     "text": [
      "MMM 2277000000.0 DerivativeNotionalAmount {'BalanceSheetLocationAxis': 'CurrentBalanceSheetLocationMember', 'DerivativeInstrumentRiskAxis': 'ForeignExchangeContractMember', 'HedgingDesignationAxis': 'DesignatedAsHedgingInstrumentMember'}\n",
      "MMM 2484000000.0 DerivativeNotionalAmount {'BalanceSheetLocationAxis': 'CurrentBalanceSheetLocationMember', 'DerivativeInstrumentRiskAxis': 'ForeignExchangeContractMember', 'HedgingDesignationAxis': 'NondesignatedMember'}\n",
      "MMM 1000000000.0 DerivativeNotionalAmount {'BalanceSheetLocationAxis': 'CurrentBalanceSheetLocationMember', 'DerivativeInstrumentRiskAxis': 'InterestRateSwapMember', 'HedgingDesignationAxis': 'DesignatedAsHedgingInstrumentMember'}\n",
      "MMM 1099000000.0 DerivativeNotionalAmount {'BalanceSheetLocationAxis': 'NoncurrentBalanceSheetLocationMember', 'DerivativeInstrumentRiskAxis': 'ForeignExchangeContractMember', 'HedgingDesignationAxis': 'DesignatedAsHedgingInstrumentMember'}\n",
      "MMM 1403000000.0 DerivativeNotionalAmount {'BalanceSheetLocationAxis': 'NoncurrentBalanceSheetLocationMember', 'DerivativeInstrumentRiskAxis': 'InterestRateSwapMember', 'HedgingDesignationAxis': 'DesignatedAsHedgingInstrumentMember'}\n",
      "MMM 150000000.0 DerivativeNotionalAmount {'DerivativeInstrumentRiskAxis': 'ForeignExchangeForwardMember', 'DerivativeInstrumentsGainLossByHedgingRelationshipAxis': 'NetInvestmentHedgingMember'}\n",
      "MMM 248000000000.0 DerivativeNotionalAmount {'DerivativeInstrumentRiskAxis': 'ForeignExchangeForwardMember', 'DerivativeInstrumentsGainLossByHedgingRelationshipAxis': 'NetInvestmentHedgingMember'}\n",
      "MMM 700000000.0 DerivativeNotionalAmount {'DerivativeInstrumentRiskAxis': 'InterestRateSwapMember', 'DerivativeInstrumentsGainLossByHedgingRelationshipAxis': 'CashFlowHedgingMember'}\n",
      "GS 42481244000000.0 DerivativeNotionalAmount []\n",
      "GS 505761000000.0 DerivativeNotionalAmount {'DerivativeInstrumentRiskAxis': 'CommodityContractMember', 'HedgingDesignationAxis': 'NondesignatedMember'}\n",
      "GS 244958000000.0 DerivativeNotionalAmount {'DerivativeInstrumentRiskAxis': 'CommodityContractMember', 'HedgingDesignationAxis': 'NondesignatedMember', 'TransactionTypeAxis': 'BilateralOtcMember'}\n",
      "GS 1516000000.0 DerivativeNotionalAmount {'DerivativeInstrumentRiskAxis': 'CommodityContractMember', 'HedgingDesignationAxis': 'NondesignatedMember', 'TransactionTypeAxis': 'ExchangeClearedMember'}\n",
      "GS 259287000000.0 DerivativeNotionalAmount {'DerivativeInstrumentRiskAxis': 'CommodityContractMember', 'HedgingDesignationAxis': 'NondesignatedMember', 'TransactionTypeAxis': 'ExchangeTradedMember'}\n",
      "GS 1157147000000.0 DerivativeNotionalAmount {'DerivativeInstrumentRiskAxis': 'CreditRiskContractMember', 'HedgingDesignationAxis': 'NondesignatedMember'}\n",
      "GS 762653000000.0 DerivativeNotionalAmount {'DerivativeInstrumentRiskAxis': 'CreditRiskContractMember', 'HedgingDesignationAxis': 'NondesignatedMember', 'TransactionTypeAxis': 'BilateralOtcMember'}\n",
      "GS 394494000000.0 DerivativeNotionalAmount {'DerivativeInstrumentRiskAxis': 'CreditRiskContractMember', 'HedgingDesignationAxis': 'NondesignatedMember', 'TransactionTypeAxis': 'ExchangeClearedMember'}\n",
      "GS 10229000000.0 DerivativeNotionalAmount {'DerivativeInstrumentRiskAxis': 'EmbeddedDerivativeFinancialInstrumentsMember'}\n",
      "GS 1706199000000.0 DerivativeNotionalAmount {'DerivativeInstrumentRiskAxis': 'EquityContractMember', 'HedgingDesignationAxis': 'NondesignatedMember'}\n",
      "GS 1070211000000.0 DerivativeNotionalAmount {'DerivativeInstrumentRiskAxis': 'EquityContractMember', 'HedgingDesignationAxis': 'NondesignatedMember', 'TransactionTypeAxis': 'BilateralOtcMember'}\n",
      "GS 635988000000.0 DerivativeNotionalAmount {'DerivativeInstrumentRiskAxis': 'EquityContractMember', 'HedgingDesignationAxis': 'NondesignatedMember', 'TransactionTypeAxis': 'ExchangeTradedMember'}\n",
      "GS 11000000000.0 DerivativeNotionalAmount {'DerivativeInstrumentRiskAxis': 'ForeignExchangeContractMember', 'HedgingDesignationAxis': 'DesignatedAsHedgingInstrumentMember'}\n",
      "GS 8089000000.0 DerivativeNotionalAmount {'DerivativeInstrumentRiskAxis': 'ForeignExchangeContractMember', 'HedgingDesignationAxis': 'DesignatedAsHedgingInstrumentMember', 'TransactionTypeAxis': 'BilateralOtcMember'}\n",
      "GS 2911000000.0 DerivativeNotionalAmount {'DerivativeInstrumentRiskAxis': 'ForeignExchangeContractMember', 'HedgingDesignationAxis': 'DesignatedAsHedgingInstrumentMember', 'TransactionTypeAxis': 'ExchangeClearedMember'}\n",
      "GS 6715700000000.0 DerivativeNotionalAmount {'DerivativeInstrumentRiskAxis': 'ForeignExchangeContractMember', 'HedgingDesignationAxis': 'NondesignatedMember'}\n",
      "GS 6596741000000.0 DerivativeNotionalAmount {'DerivativeInstrumentRiskAxis': 'ForeignExchangeContractMember', 'HedgingDesignationAxis': 'NondesignatedMember', 'TransactionTypeAxis': 'BilateralOtcMember'}\n",
      "GS 113360000000.0 DerivativeNotionalAmount {'DerivativeInstrumentRiskAxis': 'ForeignExchangeContractMember', 'HedgingDesignationAxis': 'NondesignatedMember', 'TransactionTypeAxis': 'ExchangeClearedMember'}\n",
      "GS 5599000000.0 DerivativeNotionalAmount {'DerivativeInstrumentRiskAxis': 'ForeignExchangeContractMember', 'HedgingDesignationAxis': 'NondesignatedMember', 'TransactionTypeAxis': 'ExchangeTradedMember'}\n",
      "GS 97703000000.0 DerivativeNotionalAmount {'DerivativeInstrumentRiskAxis': 'InterestRateContractMember', 'HedgingDesignationAxis': 'DesignatedAsHedgingInstrumentMember'}\n",
      "GS 12022000000.0 DerivativeNotionalAmount {'DerivativeInstrumentRiskAxis': 'InterestRateContractMember', 'HedgingDesignationAxis': 'DesignatedAsHedgingInstrumentMember', 'TransactionTypeAxis': 'BilateralOtcMember'}\n",
      "GS 85681000000.0 DerivativeNotionalAmount {'DerivativeInstrumentRiskAxis': 'InterestRateContractMember', 'HedgingDesignationAxis': 'DesignatedAsHedgingInstrumentMember', 'TransactionTypeAxis': 'ExchangeClearedMember'}\n",
      "GS 32287734000000.0 DerivativeNotionalAmount {'DerivativeInstrumentRiskAxis': 'InterestRateContractMember', 'HedgingDesignationAxis': 'NondesignatedMember'}\n",
      "GS 12858248000000.0 DerivativeNotionalAmount {'DerivativeInstrumentRiskAxis': 'InterestRateContractMember', 'HedgingDesignationAxis': 'NondesignatedMember', 'TransactionTypeAxis': 'BilateralOtcMember'}\n",
      "GS 14290327000000.0 DerivativeNotionalAmount {'DerivativeInstrumentRiskAxis': 'InterestRateContractMember', 'HedgingDesignationAxis': 'NondesignatedMember', 'TransactionTypeAxis': 'ExchangeClearedMember'}\n",
      "GS 5139159000000.0 DerivativeNotionalAmount {'DerivativeInstrumentRiskAxis': 'InterestRateContractMember', 'HedgingDesignationAxis': 'NondesignatedMember', 'TransactionTypeAxis': 'ExchangeTradedMember'}\n",
      "GS 108703000000.0 DerivativeNotionalAmount {'HedgingDesignationAxis': 'DesignatedAsHedgingInstrumentMember'}\n",
      "GS 42372541000000.0 DerivativeNotionalAmount {'HedgingDesignationAxis': 'NondesignatedMember'}\n"
     ]
    }
   ],
   "source": [
    "for fact in facts:\n",
    "    print('{ticker} {Value} {XBRLtag} {dimensions}'.format(**fact))"
   ]
  },
  {
   "cell_type": "code",
   "execution_count": null,
   "metadata": {},
   "outputs": [],
   "source": []
  }
 ],
 "metadata": {
  "kernelspec": {
   "display_name": "Python 3",
   "language": "python",
   "name": "python3"
  },
  "language_info": {
   "codemirror_mode": {
    "name": "ipython",
    "version": 3
   },
   "file_extension": ".py",
   "mimetype": "text/x-python",
   "name": "python",
   "nbconvert_exporter": "python",
   "pygments_lexer": "ipython3",
   "version": "3.7.3"
  }
 },
 "nbformat": 4,
 "nbformat_minor": 2
}
