{
 "cells": [
  {
   "cell_type": "code",
   "execution_count": null,
   "metadata": {},
   "outputs": [],
   "source": [
    "import calcbench as cb\n",
    "import pandas as pd\n",
    "import datetime\n",
    "pit_columns = ['CIK', 'calendar_period', 'calendar_year', 'date_reported', \n",
    "               'fiscal_period', 'fiscal_year', 'metric', 'revision_number','ticker', 'value']"
   ]
  },
  {
   "cell_type": "code",
   "execution_count": null,
   "metadata": {},
   "outputs": [],
   "source": [
    "tickers = cb.companies(index='SP500').ticker"
   ]
  },
  {
   "cell_type": "code",
   "execution_count": null,
   "metadata": {},
   "outputs": [],
   "source": [
    "metrics = cb.available_metrics()\n",
    "face_metrics = [m['metric'] for m in metrics['face']]"
   ]
  },
  {
   "cell_type": "code",
   "execution_count": null,
   "metadata": {},
   "outputs": [],
   "source": [
    "ticker_groups = [list(tickers[i:i + 100]) for i in range(0, len(tickers), 100)]"
   ]
  },
  {
   "cell_type": "code",
   "execution_count": null,
   "metadata": {},
   "outputs": [],
   "source": [
    "face_metrics = ['Assets']"
   ]
  },
  {
   "cell_type": "code",
   "execution_count": null,
   "metadata": {},
   "outputs": [],
   "source": [
    "data = pd.DataFrame()\n",
    "elapsed_start = datetime.datetime.now()\n",
    "for company_number, ticker_group in enumerate(ticker_groups):\n",
    "    start = datetime.datetime.now()\n",
    "    try:\n",
    "        pit_data = cb.point_in_time(metrics=face_metrics, company_identifiers=list(ticker_group), all_history=True)\n",
    "    except Exception as e:\n",
    "        print(\"Exception getting {0}\".format(ticker_group))\n",
    "        raise e\n",
    "    else:\n",
    "        if not pit_data.empty:\n",
    "            data = data.append(pit_data[pit_columns])\n",
    "        continue\n",
    "        print(\"done getting {0}, it took {1}, elapsed {2}, company_number {3}, average time {4}\"\\\n",
    "              .format(ticker_group, \n",
    "                      datetime.datetime.now() - start,\n",
    "                      datetime.datetime.now() - elapsed_start,\n",
    "                      company_number,\n",
    "                        (datetime.datetime.now() - elapsed_start) / (company_number + 1)))"
   ]
  },
  {
   "cell_type": "code",
   "execution_count": null,
   "metadata": {},
   "outputs": [],
   "source": [
    "missing_periods = []\n",
    "tickers = data.ticker.unique()\n",
    "#tickers = ['ALLE']\n",
    "for ticker in tickers:\n",
    "    test_data = data[(data.ticker == ticker) & (data.revision_number == 0)][['calendar_year', 'calendar_period', 'ticker']]\n",
    "    test_dicts = [test_data.loc[i].to_dict() for i in test_data.index]\n",
    "    last_row = test_dicts[0]\n",
    "    for row in test_dicts[1:]:\n",
    "        if last_row['calendar_period'] == 0:\n",
    "            if row['calendar_period'] != 1:\n",
    "                missing_periods.append(last_row)\n",
    "        elif last_row['calendar_period'] == 4:\n",
    "            if row['calendar_period'] != 0:\n",
    "                missing_periods.append(last_row)\n",
    "        elif last_row['calendar_period'] + 1 != row['calendar_period']:\n",
    "            missing_periods.append(last_row)\n",
    "        last_row = row"
   ]
  },
  {
   "cell_type": "code",
   "execution_count": null,
   "metadata": {},
   "outputs": [],
   "source": [
    "sorted(missing_periods, key=lambda row : row['calendar_year'], reverse=True)"
   ]
  },
  {
   "cell_type": "code",
   "execution_count": null,
   "metadata": {},
   "outputs": [],
   "source": [
    "data.calendar_period.value_counts()"
   ]
  },
  {
   "cell_type": "code",
   "execution_count": null,
   "metadata": {},
   "outputs": [],
   "source": [
    "dir(data.calendar_period)"
   ]
  },
  {
   "cell_type": "code",
   "execution_count": null,
   "metadata": {},
   "outputs": [],
   "source": []
  }
 ],
 "metadata": {
  "kernelspec": {
   "display_name": "Python 3",
   "language": "python",
   "name": "python3"
  },
  "language_info": {
   "codemirror_mode": {
    "name": "ipython",
    "version": 3
   },
   "file_extension": ".py",
   "mimetype": "text/x-python",
   "name": "python",
   "nbconvert_exporter": "python",
   "pygments_lexer": "ipython3",
   "version": "3.5.1"
  }
 },
 "nbformat": 4,
 "nbformat_minor": 1
}
