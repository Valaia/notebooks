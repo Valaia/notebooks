{
 "cells": [
  {
   "cell_type": "code",
   "execution_count": 31,
   "metadata": {
    "collapsed": true
   },
   "outputs": [],
   "source": [
    "import calcbench as cb\n",
    "import pandas as pd\n",
    "import requests"
   ]
  },
  {
   "cell_type": "code",
   "execution_count": 34,
   "metadata": {
    "collapsed": true
   },
   "outputs": [],
   "source": [
    "spy_holdings_url = 'https://us.spdrs.com/site-content/xls/SPY_All_Holdings.xls?fund=SPY&docname=All+Holdings&onyx_code1=&onyx_code2='"
   ]
  },
  {
   "cell_type": "code",
   "execution_count": 104,
   "metadata": {
    "collapsed": true
   },
   "outputs": [],
   "source": [
    "spy_market_cap = 244e9 # From google finance"
   ]
  },
  {
   "cell_type": "code",
   "execution_count": 66,
   "metadata": {
    "collapsed": true
   },
   "outputs": [],
   "source": [
    "spy_holdings = pd.read_excel(spy_holdings_url, header=3, skip_footer=11, index_col=1)\n",
    "spy_holdings.index = spy_holdings.index.map(lambda ticker : ticker.split('.')[0]) # Change BRK.B to BRK"
   ]
  },
  {
   "cell_type": "code",
   "execution_count": 94,
   "metadata": {},
   "outputs": [],
   "source": [
    "value_of_fund_holdings = spy_holdings.Weight * spy_market_cap * .01"
   ]
  },
  {
   "cell_type": "code",
   "execution_count": 105,
   "metadata": {
    "collapsed": true
   },
   "outputs": [],
   "source": [
    "income_statement_metrics = ['Revenue', \n",
    "                            'CostOfRevenue', \n",
    "                            'GrossProfit', \n",
    "                            'SGAExpense', \n",
    "                            'OperatingExpenses', \n",
    "                            'OperatingIncome',\n",
    "                            'EBIT', \n",
    "                            'InterestExpense', \n",
    "                            'IncomeTaxes',\n",
    "                            'NetIncome',\n",
    "                           ]"
   ]
  },
  {
   "cell_type": "code",
   "execution_count": 73,
   "metadata": {},
   "outputs": [],
   "source": [
    "d = cb.standardized_data(company_identifiers=spy_holdings.index, metrics=income_statement_metrics + ['MarketCapAtEndOfPeriod'], year=2016, period='Y')"
   ]
  },
  {
   "cell_type": "code",
   "execution_count": 96,
   "metadata": {},
   "outputs": [],
   "source": [
    "percent_of_company_fund_owns = value_of_fund_holdings / d['MarketCapAtEndOfPeriod'].loc['2016']"
   ]
  },
  {
   "cell_type": "code",
   "execution_count": 103,
   "metadata": {},
   "outputs": [
    {
     "data": {
      "text/plain": [
       "105579751333.05557"
      ]
     },
     "execution_count": 103,
     "metadata": {},
     "output_type": "execute_result"
    }
   ],
   "source": [
    "(d.loc['2016']['Revenue'] * percent_of_company_fund_owns).sum()"
   ]
  },
  {
   "cell_type": "code",
   "execution_count": 107,
   "metadata": {},
   "outputs": [
    {
     "name": "stdout",
     "output_type": "stream",
     "text": [
      "Revenue 105579751333.0\n",
      "CostOfRevenue 60773384595.3\n",
      "GrossProfit 44806366737.8\n",
      "SGAExpense 17716586301.1\n",
      "OperatingExpenses 31059519391.7\n",
      "OperatingIncome 13062070652.7\n",
      "EBIT 9555153235.0\n",
      "InterestExpense 2336620541.62\n",
      "IncomeTaxes 3264954557.48\n",
      "NetIncome 9379914278.05\n"
     ]
    }
   ],
   "source": [
    "for metric in income_statement_metrics:\n",
    "    print(metric, (d.loc['2016'][metric] * percent_of_company_fund_owns).sum())"
   ]
  },
  {
   "cell_type": "code",
   "execution_count": null,
   "metadata": {
    "collapsed": true
   },
   "outputs": [],
   "source": []
  }
 ],
 "metadata": {
  "kernelspec": {
   "display_name": "Python 3",
   "language": "python",
   "name": "python3"
  },
  "language_info": {
   "codemirror_mode": {
    "name": "ipython",
    "version": 3
   },
   "file_extension": ".py",
   "mimetype": "text/x-python",
   "name": "python",
   "nbconvert_exporter": "python",
   "pygments_lexer": "ipython3",
   "version": "3.5.1"
  }
 },
 "nbformat": 4,
 "nbformat_minor": 2
}
