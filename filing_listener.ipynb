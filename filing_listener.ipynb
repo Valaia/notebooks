{
 "cells": [
  {
   "cell_type": "markdown",
   "metadata": {},
   "source": [
    "# Handle Push Notification of New Filings\n",
    "## Calcbench pushes a message after each new SEC filing is processed and ready for retrieval.\n",
    "### Requires a queue subscription from Calcbench\n",
    "### Need to `pip install azure.servicebus`"
   ]
  },
  {
   "cell_type": "code",
   "execution_count": 4,
   "metadata": {
    "scrolled": true
   },
   "outputs": [],
   "source": [
    "import calcbench as cb"
   ]
  },
  {
   "cell_type": "code",
   "execution_count": null,
   "metadata": {},
   "outputs": [],
   "source": [
    "def handle_filing(filing):\n",
    "    ticker = filing['ticker']\n",
    "    filing_year = filing['fiscal_year']\n",
    "    filing_period = filing['fiscal_period']\n",
    "    filing_data = cb.point_in_time(company_identifiers=[ticker], \n",
    "                                   start_year=filing_year,\n",
    "                                   start_period=filing_period,\n",
    "                                   end_year=filing_year,\n",
    "                                   end_period=filing_period,\n",
    "                                   use_fiscal_period=True,\n",
    "                                   all_face=True,\n",
    "                                   all_footnotes=True)\n",
    "    print(filing_data)"
   ]
  },
  {
   "cell_type": "code",
   "execution_count": null,
   "metadata": {},
   "outputs": [],
   "source": [
    "queue_subscription = '{your queue subscription here}'\n",
    "cb.handle_filings(handle_filing, queue_subscription)"
   ]
  },
  {
   "cell_type": "code",
   "execution_count": null,
   "metadata": {},
   "outputs": [],
   "source": []
  }
 ],
 "metadata": {
  "kernelspec": {
   "display_name": "Python 3",
   "language": "python",
   "name": "python3"
  },
  "language_info": {
   "codemirror_mode": {
    "name": "ipython",
    "version": 3
   },
   "file_extension": ".py",
   "mimetype": "text/x-python",
   "name": "python",
   "nbconvert_exporter": "python",
   "pygments_lexer": "ipython3",
   "version": "3.7.1"
  }
 },
 "nbformat": 4,
 "nbformat_minor": 2
}
