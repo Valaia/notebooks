{
 "cells": [
  {
   "cell_type": "markdown",
   "metadata": {},
   "source": [
    "# Handle Push Notification of New Filings\n",
    "## Calcbench pushes a message after each new SEC filing is processed and ready for retrieval.\n",
    "### Requires a queue subscription from Calcbench\n",
    "### Need to `pip install azure.servicebus`"
   ]
  },
  {
   "cell_type": "code",
   "execution_count": null,
   "metadata": {
    "scrolled": true
   },
   "outputs": [],
   "source": [
    "import calcbench as cb\n",
    "from datetime import date"
   ]
  },
  {
   "cell_type": "code",
   "execution_count": null,
   "metadata": {},
   "outputs": [],
   "source": [
    "connection_string = \"Endpoint=sb://calcbench.servicebus.windows.net/;SharedAccessKeyName=public;SharedAccessKey=Cb7VhLR6eJxsurCSPtXQHOJvlkU84CCCx2oB+T/so6Q=\"\n",
    "subscription_name = \"{your subscription name}\""
   ]
  },
  {
   "cell_type": "code",
   "execution_count": null,
   "metadata": {},
   "outputs": [],
   "source": [
    "def handle_filing(filing):\n",
    "    print(filing)\n",
    "    ticker = filing['ticker']\n",
    "    filing_year = filing['fiscal_year']\n",
    "    filing_period = filing['fiscal_period']\n",
    "    filing_data = cb.point_in_time(company_identifiers=[ticker], \n",
    "                                   start_year=filing_year,\n",
    "                                   start_period=filing_period,\n",
    "                                   end_year=filing_year,\n",
    "                                   end_period=filing_period,\n",
    "                                   use_fiscal_period=True,\n",
    "                                   all_face=True,\n",
    "                                   all_footnotes=True)\n",
    "    print(filing_data)"
   ]
  },
  {
   "cell_type": "code",
   "execution_count": null,
   "metadata": {},
   "outputs": [],
   "source": [
    "cb.handle_filings(handler=handle_filing, \n",
    "                  connection_string=connection_string,\n",
    "                  subscription_name=subscription_name,\n",
    "                  filter_expression=\"FilingType = 'annualQuarterlyReport'\")"
   ]
  },
  {
   "cell_type": "code",
   "execution_count": null,
   "metadata": {},
   "outputs": [],
   "source": []
  }
 ],
 "metadata": {
  "kernelspec": {
   "display_name": "Python 3",
   "language": "python",
   "name": "python3"
  },
  "language_info": {
   "codemirror_mode": {
    "name": "ipython",
    "version": 3
   },
   "file_extension": ".py",
   "mimetype": "text/x-python",
   "name": "python",
   "nbconvert_exporter": "python",
   "pygments_lexer": "ipython3",
   "version": "3.7.3"
  }
 },
 "nbformat": 4,
 "nbformat_minor": 2
}
