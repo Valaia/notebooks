{
 "cells": [
  {
   "cell_type": "code",
   "execution_count": null,
   "metadata": {},
   "outputs": [],
   "source": [
    "import calcbench as cb\n",
    "import pandas as pd\n",
    "import datetime\n",
    "from tqdm import tqdm, tqdm_notebook\n",
    "pit_columns = ['CIK', 'calendar_period', 'calendar_year', 'date_reported', \n",
    "               'fiscal_period', 'fiscal_year', 'metric', 'revision_number','ticker', 'value']"
   ]
  },
  {
   "cell_type": "code",
   "execution_count": null,
   "metadata": {},
   "outputs": [],
   "source": [
    "tickers = cb.companies(entire_universe=True).ticker"
   ]
  },
  {
   "cell_type": "code",
   "execution_count": null,
   "metadata": {},
   "outputs": [],
   "source": [
    "metrics = cb.available_metrics()\n",
    "face_metrics = [m['metric'] for m in metrics['face'] if m['section'] and m['section'] != 'docEntityInfo']"
   ]
  },
  {
   "cell_type": "code",
   "execution_count": null,
   "metadata": {},
   "outputs": [],
   "source": [
    "first_row = True\n",
    "for ticker in tqdm_notebook(tickers):\n",
    "    start = datetime.datetime.now()\n",
    "    try:\n",
    "        pit_data = cb.point_in_time(metrics=face_metrics, company_identifiers=[ticker], all_history=True)\n",
    "    except KeyboardInterrupt:\n",
    "        raise\n",
    "    except Exception as e:\n",
    "        tqdm.write(\"Exception getting {0}\".format(ticker))\n",
    "    else:\n",
    "        if not pit_data.empty:\n",
    "            if first_row:\n",
    "                mode = 'w'\n",
    "                header = True\n",
    "            else:\n",
    "                mode = 'a'\n",
    "                header = False\n",
    "            \n",
    "            pit_data[pit_columns].to_csv(\"C://Users/Andrew Kittredge/documents/face.csv\", mode=mode, header=header)\n",
    "            first_row = False\n"
   ]
  },
  {
   "cell_type": "code",
   "execution_count": null,
   "metadata": {},
   "outputs": [],
   "source": [
    "yesterday = datetime.datetime.now() - datetime.timedelta(days=1)\n",
    "yesterday_data = cb.point_in_time(metrics=face_metrics, update_date=yesterday, entire_universe=True, all_history=True)[pit_columns]"
   ]
  },
  {
   "cell_type": "code",
   "execution_count": null,
   "metadata": {},
   "outputs": [],
   "source": [
    "data.to_excel(\"c://Users/Andrew Kittredge/Documents/pit_face.xlsx\")"
   ]
  }
 ],
 "metadata": {
  "kernelspec": {
   "display_name": "Python 3",
   "language": "python",
   "name": "python3"
  },
  "language_info": {
   "codemirror_mode": {
    "name": "ipython",
    "version": 3
   },
   "file_extension": ".py",
   "mimetype": "text/x-python",
   "name": "python",
   "nbconvert_exporter": "python",
   "pygments_lexer": "ipython3",
   "version": "3.5.1"
  }
 },
 "nbformat": 4,
 "nbformat_minor": 1
}
