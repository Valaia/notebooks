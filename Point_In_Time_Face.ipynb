{
 "cells": [
  {
   "cell_type": "code",
   "execution_count": null,
   "metadata": {},
   "outputs": [],
   "source": [
    "import calcbench as cb\n",
    "import pandas as pd\n",
    "import datetime\n",
    "import os\n",
    "from tqdm import tqdm, tqdm_notebook\n",
    "pit_columns = ['CIK', 'calendar_period', 'calendar_year', 'date_reported', 'period_start', 'period_end',\n",
    "               'fiscal_period', 'fiscal_year', 'metric', 'revision_number','ticker', 'value']"
   ]
  },
  {
   "cell_type": "code",
   "execution_count": null,
   "metadata": {},
   "outputs": [],
   "source": [
    "tickers = cb.companies(entire_universe=True).ticker"
   ]
  },
  {
   "cell_type": "code",
   "execution_count": null,
   "metadata": {},
   "outputs": [],
   "source": [
    "output_file_name = r\"C:/Users/Andrew Kittredge/documents/face.csv\"\n",
    "try:\n",
    "    os.remove(output_file_name)\n",
    "except OSError:\n",
    "    pass\n",
    "for ticker in tqdm_notebook(tickers):\n",
    "    try:\n",
    "        pit_data = cb.point_in_time(all_face=True, company_identifiers=[ticker], all_history=True)\n",
    "    except KeyboardInterrupt:\n",
    "        raise\n",
    "    except Exception as e:\n",
    "        tqdm.write(\"Exception getting {0}\".format(ticker))\n",
    "    else:\n",
    "        if not pit_data.empty:\n",
    "            with open(output_file_name, 'a') as f:\n",
    "                pit_data[pit_columns].to_csv(f, header=not f.tell())\n"
   ]
  },
  {
   "cell_type": "code",
   "execution_count": null,
   "metadata": {},
   "outputs": [],
   "source": [
    "yesterday = datetime.datetime.now() - datetime.timedelta(days=1)\n",
    "yesterday_data = cb.point_in_time(all_face=True, update_date=yesterday, entire_universe=True)[pit_columns]"
   ]
  },
  {
   "cell_type": "code",
   "execution_count": null,
   "metadata": {},
   "outputs": [],
   "source": [
    "yesterday_data.to_excel(\"c://Users/Andrew Kittredge/Documents/pit_face.xlsx\")"
   ]
  },
  {
   "cell_type": "code",
   "execution_count": null,
   "metadata": {},
   "outputs": [],
   "source": []
  }
 ],
 "metadata": {
  "kernelspec": {
   "display_name": "Python 3",
   "language": "python",
   "name": "python3"
  },
  "language_info": {
   "codemirror_mode": {
    "name": "ipython",
    "version": 3
   },
   "file_extension": ".py",
   "mimetype": "text/x-python",
   "name": "python",
   "nbconvert_exporter": "python",
   "pygments_lexer": "ipython3",
   "version": "3.7.3"
  }
 },
 "nbformat": 4,
 "nbformat_minor": 1
}
