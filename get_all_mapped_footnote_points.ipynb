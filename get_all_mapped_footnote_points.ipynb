{
 "cells": [
  {
   "cell_type": "code",
   "execution_count": 1,
   "metadata": {
    "collapsed": true
   },
   "outputs": [],
   "source": [
    "import calcbench as cb\n",
    "import pandas as pd"
   ]
  },
  {
   "cell_type": "code",
   "execution_count": 4,
   "metadata": {
    "collapsed": true
   },
   "outputs": [],
   "source": [
    "metrics = cb.available_metrics()\n",
    "footnote_metrics = [metric['metric'] for metric in metrics['footnote']]\n",
    "footnote_metrics.append('filing_date')"
   ]
  },
  {
   "cell_type": "code",
   "execution_count": 5,
   "metadata": {
    "collapsed": true
   },
   "outputs": [],
   "source": [
    "footnote_metric_groups = [footnote_metrics[x:x+100] for x in range(0, len(footnote_metrics), 100)]"
   ]
  },
  {
   "cell_type": "code",
   "execution_count": 16,
   "metadata": {
    "collapsed": true
   },
   "outputs": [
    {
     "name": "stdout",
     "output_type": "stream",
     "text": [
      "0\n",
      "1\n"
     ]
    },
    {
     "name": "stderr",
     "output_type": "stream",
     "text": [
      "C:\\Users\\Andrew Kittredge\\git\\python_api_client\\calcbench\\api_client.py:135: UserWarning: Did not find metrics {'LineOfCreditCommitmentFeeAnnualPercentageRate'}\n",
      "  warnings.warn(\"Did not find metrics {0}\".format(missing_metrics))\n"
     ]
    },
    {
     "name": "stdout",
     "output_type": "stream",
     "text": [
      "2\n"
     ]
    },
    {
     "name": "stderr",
     "output_type": "stream",
     "text": [
      "C:\\Users\\Andrew Kittredge\\git\\python_api_client\\calcbench\\api_client.py:135: UserWarning: Did not find metrics {'DefinedBenefitPlanOtherCosts', 'DefinedBenefitPlanDBOOtherChanges', 'FloatingRateDebt', 'DefinedBenefitPlanAssetsOtherChanges'}\n",
      "  warnings.warn(\"Did not find metrics {0}\".format(missing_metrics))\n"
     ]
    },
    {
     "name": "stdout",
     "output_type": "stream",
     "text": [
      "3\n"
     ]
    },
    {
     "name": "stderr",
     "output_type": "stream",
     "text": [
      "C:\\Users\\Andrew Kittredge\\git\\python_api_client\\calcbench\\api_client.py:135: UserWarning: Did not find metrics {'StockIssuedDuringPeriodValueStockDividend'}\n",
      "  warnings.warn(\"Did not find metrics {0}\".format(missing_metrics))\n"
     ]
    },
    {
     "name": "stdout",
     "output_type": "stream",
     "text": [
      "4\n"
     ]
    },
    {
     "name": "stderr",
     "output_type": "stream",
     "text": [
      "C:\\Users\\Andrew Kittredge\\git\\python_api_client\\calcbench\\api_client.py:135: UserWarning: Did not find metrics {'FairValueAssetsLevel2ToLevel1TransfersAmount', 'FairValueEquityLevel1ToLevel2TransfersAmount', 'ImpairedFinancingReceivableWithRelatedAllowanceAverageRecordedInvestment', 'ShareBasedCompensationArrangementByShareBasedPaymentAwardFairValueAssumptionsRiskFreeInterestRate', 'ImpairedFinancingReceivableWithNoRelatedAllowanceAverageRecordedInvestment', 'FairValueLiabilitiesLevel2ToLevel1TransfersAmount', 'FairValueLiabilitiesLevel1ToLevel2TransfersAmount', 'FairValueEquityLevel2ToLevel1TransfersAmount', 'FairValueAssetsLevel1ToLevel2TransfersAmount'}\n",
      "  warnings.warn(\"Did not find metrics {0}\".format(missing_metrics))\n"
     ]
    },
    {
     "name": "stdout",
     "output_type": "stream",
     "text": [
      "5\n",
      "6\n"
     ]
    },
    {
     "name": "stderr",
     "output_type": "stream",
     "text": [
      "C:\\Users\\Andrew Kittredge\\git\\python_api_client\\calcbench\\api_client.py:135: UserWarning: Did not find metrics {'EquityMethodInvestmentDividendsOrDistributions', 'IncomeLossFromEquityMethodInvestments', 'AvailableForSaleSecuritiesDebtMaturitiesAmortizedCost', 'AvailableForSaleSecuritiesDebtSecuritiesUnamortizedDiscount', 'AvailableForSaleSecuritiesDebtSecuritiesOutstandingPrincipalBalance', 'FundsFromOperations_NonGAAP', 'EquityMethodInvestmentRealizedGainLossOnDisposal', 'AvailableForSaleSecuritiesDebtSecuritiesUnamortizedPremium'}\n",
      "  warnings.warn(\"Did not find metrics {0}\".format(missing_metrics))\n"
     ]
    },
    {
     "name": "stdout",
     "output_type": "stream",
     "text": [
      "7\n"
     ]
    },
    {
     "name": "stderr",
     "output_type": "stream",
     "text": [
      "C:\\Users\\Andrew Kittredge\\git\\python_api_client\\calcbench\\api_client.py:135: UserWarning: Did not find metrics {'executive_compensation_salary', 'ProvedUndevelopedReserves', 'executive_compensation_option_awards', 'executive_compensation_bonus', 'executive_compensation_other', 'executive_compensation_non_equity_incentive', 'executive_compensation_total', 'executive_compensation_pension_value_change', 'WeightedAverageWellheadPriceUsedInComputingCompanysReserves', 'executive_compensation_stock_awards'}\n",
      "  warnings.warn(\"Did not find metrics {0}\".format(missing_metrics))\n"
     ]
    },
    {
     "name": "stdout",
     "output_type": "stream",
     "text": [
      "8\n"
     ]
    },
    {
     "name": "stderr",
     "output_type": "stream",
     "text": [
      "C:\\Users\\Andrew Kittredge\\git\\python_api_client\\calcbench\\api_client.py:135: UserWarning: Did not find metrics {'DisposalGroupIncludingDiscontinuedOperationAssetsOfDisposalGroup', 'DisposalGroupIncludingDiscontinuedOperationGoodwill', 'DisposalGroupIncludingDiscontinuedOperationLiabilitiesOfDisposalGroup', 'DisposalGroupIncludingDiscontinuedOperationInventory', 'DisposalGroupIncludingDiscontinuedOperationCashFlowsOfDisposalGroup', 'IncomeLossFromDiscontinuedOperationsExcludingGainLossOnDisposalOfDiscontinuedOperationNetOfTax'}\n",
      "  warnings.warn(\"Did not find metrics {0}\".format(missing_metrics))\n"
     ]
    },
    {
     "name": "stdout",
     "output_type": "stream",
     "text": [
      "9\n",
      "10\n"
     ]
    },
    {
     "name": "stderr",
     "output_type": "stream",
     "text": [
      "C:\\Users\\Andrew Kittredge\\git\\python_api_client\\calcbench\\api_client.py:135: UserWarning: Did not find metrics {'UnrecognizedTaxBenefitsResultingInNetOperatingLossCarryforward', 'RegulatoryLiabilities'}\n",
      "  warnings.warn(\"Did not find metrics {0}\".format(missing_metrics))\n"
     ]
    }
   ],
   "source": [
    "output_data = pd.DataFrame()\n",
    "for index, metric_group in enumerate(footnote_metric_groups):\n",
    "    print(index)\n",
    "    company_data = cb.normalized_dataframe(metrics=metric_group, \n",
    "                                           start_period=0, start_year=2015, \n",
    "                                           end_period=0, end_year=2015, \n",
    "                                           entire_universe=True)\n",
    "    output_data = output_data.append(company_data.T)"
   ]
  },
  {
   "cell_type": "code",
   "execution_count": 17,
   "metadata": {
    "collapsed": false
   },
   "outputs": [],
   "source": [
    "stacked_rows = output_data.T.stack()"
   ]
  },
  {
   "cell_type": "code",
   "execution_count": 18,
   "metadata": {
    "collapsed": false
   },
   "outputs": [],
   "source": [
    "stacked_rows.to_csv('C:\\\\Users\\\\Andrew Kittredge\\\\Documents\\\\annual_footnote_data_august_2015.csv', columns=footnote_metrics)"
   ]
  },
  {
   "cell_type": "code",
   "execution_count": null,
   "metadata": {
    "collapsed": true
   },
   "outputs": [],
   "source": []
  }
 ],
 "metadata": {
  "kernelspec": {
   "display_name": "Python 3",
   "language": "python",
   "name": "python3"
  },
  "language_info": {
   "codemirror_mode": {
    "name": "ipython",
    "version": 3
   },
   "file_extension": ".py",
   "mimetype": "text/x-python",
   "name": "python",
   "nbconvert_exporter": "python",
   "pygments_lexer": "ipython3",
   "version": "3.5.1"
  }
 },
 "nbformat": 4,
 "nbformat_minor": 0
}
