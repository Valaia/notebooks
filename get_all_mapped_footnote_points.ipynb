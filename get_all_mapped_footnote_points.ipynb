{
 "cells": [
  {
   "cell_type": "code",
   "execution_count": 1,
   "metadata": {
    "collapsed": true
   },
   "outputs": [],
   "source": [
    "import calcbench as cb\n",
    "import pandas as pd"
   ]
  },
  {
   "cell_type": "code",
   "execution_count": 2,
   "metadata": {
    "collapsed": true
   },
   "outputs": [],
   "source": [
    "metrics = cb.available_metrics()\n",
    "footnote_metrics = [metric['metric'] for metric in metrics['footnote']]\n",
    "footnote_metrics.append('filing_date')"
   ]
  },
  {
   "cell_type": "code",
   "execution_count": 3,
   "metadata": {
    "collapsed": true
   },
   "outputs": [],
   "source": [
    "footnote_metric_groups = [footnote_metrics[x:x+100] for x in range(0, len(footnote_metrics), 100)]"
   ]
  },
  {
   "cell_type": "code",
   "execution_count": 7,
   "metadata": {
    "collapsed": true
   },
   "outputs": [
    {
     "name": "stdout",
     "output_type": "stream",
     "text": [
      "0\n",
      "1\n",
      "2\n",
      "3"
     ]
    },
    {
     "name": "stderr",
     "output_type": "stream",
     "text": [
      "C:\\Users\\Andrew Kittredge\\git\\python_api_client\\calcbench\\api_client.py:133: UserWarning: Did not find metrics {'DefinedBenefitPlanDBOOtherChanges', 'DefinedBenefitPlanAssetsOtherChanges', 'DefinedBenefitPlanOtherCosts'}\n",
      "  warnings.warn(\"Did not find metrics {0}\".format(missing_metrics))\n",
      "C:\\Users\\Andrew Kittredge\\git\\python_api_client\\calcbench\\api_client.py:133: UserWarning: Did not find metrics {'StockIssuedDuringPeriodValueStockDividend'}\n",
      "  warnings.warn(\"Did not find metrics {0}\".format(missing_metrics))\n"
     ]
    },
    {
     "name": "stdout",
     "output_type": "stream",
     "text": [
      "\n",
      "4\n",
      "5\n",
      "6"
     ]
    },
    {
     "name": "stderr",
     "output_type": "stream",
     "text": [
      "C:\\Users\\Andrew Kittredge\\git\\python_api_client\\calcbench\\api_client.py:133: UserWarning: Did not find metrics {'FairValueEquityLevel1ToLevel2TransfersAmount', 'FairValueAssetsLevel1ToLevel2TransfersAmount', 'FairValueLiabilitiesLevel1ToLevel2TransfersAmount', 'ShareBasedCompensationArrangementByShareBasedPaymentAwardFairValueAssumptionsRiskFreeInterestRate', 'FairValueLiabilitiesLevel2ToLevel1TransfersAmount', 'FairValueEquityLevel2ToLevel1TransfersAmount', 'FairValueAssetsLevel2ToLevel1TransfersAmount'}\n",
      "  warnings.warn(\"Did not find metrics {0}\".format(missing_metrics))\n",
      "C:\\Users\\Andrew Kittredge\\git\\python_api_client\\calcbench\\api_client.py:133: UserWarning: Did not find metrics {'EquityMethodInvestmentDividendsOrDistributions', 'EquityMethodInvestmentRealizedGainLossOnDisposal', 'IncomeLossFromEquityMethodInvestments'}\n",
      "  warnings.warn(\"Did not find metrics {0}\".format(missing_metrics))\n"
     ]
    },
    {
     "name": "stdout",
     "output_type": "stream",
     "text": [
      "\n",
      "7\n",
      "8"
     ]
    },
    {
     "name": "stderr",
     "output_type": "stream",
     "text": [
      "C:\\Users\\Andrew Kittredge\\git\\python_api_client\\calcbench\\api_client.py:133: UserWarning: Did not find metrics {'audit_fees_other', 'executive_compensation_salary', 'executive_compensation_total', 'executive_compensation_non_equity_incentive', 'executive_compensation_other', 'executive_compensation_bonus', 'executive_compensation_stock_awards', 'WeightedAverageWellheadPriceUsedInComputingCompanysReserves', 'executive_compensation_pension_value_change', 'ProvedUndevelopedReserves', 'executive_compensation_option_awards'}\n",
      "  warnings.warn(\"Did not find metrics {0}\".format(missing_metrics))\n",
      "C:\\Users\\Andrew Kittredge\\git\\python_api_client\\calcbench\\api_client.py:133: UserWarning: Did not find metrics {'DisposalGroupIncludingDiscontinuedOperationAssetsOfDisposalGroup', 'DisposalGroupIncludingDiscontinuedOperationCashFlowsOfDisposalGroup', 'DisposalGroupIncludingDiscontinuedOperationLiabilitiesOfDisposalGroup'}\n",
      "  warnings.warn(\"Did not find metrics {0}\".format(missing_metrics))\n"
     ]
    },
    {
     "name": "stdout",
     "output_type": "stream",
     "text": [
      "\n",
      "9\n",
      "10\n"
     ]
    }
   ],
   "source": [
    "output_data = pd.DataFrame()\n",
    "for index, metric_group in enumerate(footnote_metric_groups):\n",
    "    print(index)\n",
    "    company_data = cb.normalized_dataframe(metrics=metric_group, \n",
    "                                           start_period=0, start_year=2007, \n",
    "                                           end_period=0, end_year=2020, \n",
    "                                           entire_universe=True)\n",
    "    output_data = output_data.append(company_data.T)"
   ]
  },
  {
   "cell_type": "code",
   "execution_count": 8,
   "metadata": {
    "collapsed": false
   },
   "outputs": [],
   "source": [
    "rows_with_data = output_data.dropna(axis=0, how='all')"
   ]
  },
  {
   "cell_type": "code",
   "execution_count": 11,
   "metadata": {
    "collapsed": false
   },
   "outputs": [],
   "source": [
    "rows_with_data_T = rows_with_data.T"
   ]
  },
  {
   "cell_type": "code",
   "execution_count": 12,
   "metadata": {
    "collapsed": false
   },
   "outputs": [],
   "source": [
    "stacked_rows = rows_with_data_T.stack()"
   ]
  },
  {
   "cell_type": "code",
   "execution_count": 13,
   "metadata": {
    "collapsed": false
   },
   "outputs": [],
   "source": [
    "stacked_rows.to_csv('C:\\\\Users\\\\Andrew Kittredge\\\\Documents\\\\annual_footnote_data_july.csv')"
   ]
  }
 ],
 "metadata": {
  "kernelspec": {
   "display_name": "Python 3",
   "language": "python",
   "name": "python3"
  },
  "language_info": {
   "codemirror_mode": {
    "name": "ipython",
    "version": 3
   },
   "file_extension": ".py",
   "mimetype": "text/x-python",
   "name": "python",
   "nbconvert_exporter": "python",
   "pygments_lexer": "ipython3",
   "version": "3.5.1"
  }
 },
 "nbformat": 4,
 "nbformat_minor": 0
}
