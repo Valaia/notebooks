{
 "cells": [
  {
   "cell_type": "markdown",
   "metadata": {},
   "source": [
    "# Getting revenue recognition text blocks"
   ]
  },
  {
   "cell_type": "markdown",
   "metadata": {},
   "source": [
    "Use the Calcbench text search API to search for terms in 10-K filings.  More about the API @ https://www.calcbench.com/home/api, get the Calcbench Python API client @ https://github.com/calcbench/python_api_client."
   ]
  },
  {
   "cell_type": "code",
   "execution_count": 7,
   "metadata": {
    "collapsed": false
   },
   "outputs": [],
   "source": [
    "import calcbench as cb\n",
    "import itertools\n",
    "from operator import itemgetter\n",
    "from IPython.core.display import display, HTML"
   ]
  },
  {
   "cell_type": "code",
   "execution_count": 2,
   "metadata": {
    "collapsed": false
   },
   "outputs": [],
   "source": [
    "motion_picture_companies = cb.tickers(SIC_codes=[7800])"
   ]
  },
  {
   "cell_type": "code",
   "execution_count": 16,
   "metadata": {
    "collapsed": false
   },
   "outputs": [],
   "source": [
    "revenue_recognition_results = cb.document_search(company_identifiers=motion_picture_companies,\n",
    "                                             block_tag_name=\"RevenueRecognitionPolicyTextBlock\",                                              \n",
    "                                             year=2015, \n",
    "                                             period=0)"
   ]
  },
  {
   "cell_type": "code",
   "execution_count": 18,
   "metadata": {
    "collapsed": false
   },
   "outputs": [
    {
     "data": {
      "text/html": [
       "<h1>Amc Entertainment Inc</h2><div> <div style=\"margin-left:0%;margin-right:0%;\"></div><div style=\"margin-left:0%;margin-right:0%;\">\n",
       "\t\t<p style=\"margin:5pt 0pt;font-family:Times New Roman,Times,serif;font-size: 10pt;\">\n",
       "\t\t\t<font style=\"display:inline;font-family:Times;font-weight:bold;font-style:italic;font-size:10pt;\">&nbsp;&nbsp;&nbsp;&nbsp;&nbsp;&nbsp;&nbsp;&nbsp;Revenues:</font><font style=\"display:inline;font-family:Times;font-size:10pt;\">&nbsp;&nbsp;&nbsp;&nbsp;Revenues are recognized when admissions and food and beverage sales are received at the theatres and are reported net of sales tax. The Company defers <span data-cbfactid=\"-1\" data-cbnumtext=\"100%\" data-cbnetworkid=\"28742290\">100%</span> of the revenue associated with the sales of gift cards and packaged tickets until such time as the items are redeemed or income from non-redemption is recorded. The Company recognizes income from non-redeemed or partially redeemed gift cards using the Proportional Method where it applies a non-redemption rate for its five gift card sales channels, which ranges from <span data-cbfactid=\"115897964\" data-cbnetworkid=\"28742290\">13%</span> to <span data-cbfactid=\"115897963\" data-cbnetworkid=\"28742290\">21%</span> of the current month sales, and the Company recognizes the total amount of income for that current month's sales as income over the next 24&nbsp;months in proportion to the pattern of actual redemptions. The Company has determined its non-redeemed rates and redemption patterns using data accumulated over ten years on a company-wide basis. Income for non-redeemed packaged tickets continues to be recognized as the redemption of these items is determined to be remote, that is if a ticket has not been used within 18&nbsp;months after being purchased. During the twelve months ended December&nbsp;31, 2015, December&nbsp;31, 2014, and December&nbsp;31, 2013, the Company recognized <span data-cbfactid=\"115899592\" data-cbnetworkid=\"28742290\">$22,879,000</span>, <span data-cbfactid=\"115899591\" data-cbnetworkid=\"28742290\">$21,347,000</span>, and <span data-cbfactid=\"115899590\" data-cbnetworkid=\"28742290\">$19,510,000</span> of income, respectively, related to the derecognition of gift card liabilities, which was recorded in other theatre revenues in the Consolidated Statements of Operations. During the twelve months ended December&nbsp;31, 2015, December&nbsp;31, 2014, and December&nbsp;31, 2013, the Company recognized <span data-cbfactid=\"115897834\" data-cbnetworkid=\"28742290\">$12,079,000</span>, <span data-cbfactid=\"115897833\" data-cbnetworkid=\"28742290\">$11,710,000</span>, and $0 of income, respectively, related to the derecognition of package ticket liabilities, which was recorded in other theatre revenues in the Consolidated Statements of Operations.</font>\n",
       "\t\t</p></div><div style=\"margin-left:0%;margin-right:0%;\">\n",
       "\t\t<p><font size=\"1\"> </font></p></div><div style=\"margin-left:0%;margin-right:0%;\"></div> </div>"
      ],
      "text/plain": [
       "<IPython.core.display.HTML object>"
      ]
     },
     "metadata": {},
     "output_type": "display_data"
    },
    {
     "data": {
      "text/html": [
       "<h1>Carmike Cinemas Inc</h2><div style=\"font-family:Times New Roman;font-size:10pt;\"><div style=\"line-height:120%;padding-top:18px;font-size:10pt;\"><font style=\"font-family:inherit;font-size:10pt;font-weight:bold;\">Revenue Recognition</font></div><div style=\"line-height:120%;padding-top:6px;text-indent:32px;font-size:10pt;\"><font style=\"font-family:inherit;font-size:10pt;\">Admissions and concessions revenue is recognized at the point of sale for tickets and concessions. Sales taxes collected from customers are excluded from revenue and are recorded in accrued expenses in the accompanying consolidated balance sheets. Other revenues primarily consist of on-screen advertising. Screen advertising revenues are recognized over the period that the related advertising is delivered on-screen or in-theatre.</font></div><div style=\"line-height:120%;padding-top:12px;text-indent:32px;font-size:10pt;\"><font style=\"font-family:inherit;font-size:10pt;\">We record proceeds from the sale of gift cards and other advanced sale-type certificates in current liabilities and recognize admission and concession revenue when a holder redeems a gift card or other advanced sale-type certificate. We recognize revenue from unredeemed gift cards and other advanced sale-type certificates upon the later of expiration or when redemption becomes unlikely. Our conclusion that redemption is unlikely is based on an analysis of historical trends. Because we started our gift card program in 2012, we have not had a sufficient level of historical redemption rates to allow us to reasonably estimate the amount of gift cards sold that would be unredeemed (\"breakage rate\").  We were able to reasonably estimate the breakage rate for other advanced sale-type certificates based on historical redemption rates, as these programs have been in effect for a significant period of time. At the end of the fourth quarter of 2015, we concluded that a sufficient level of historical redemption rates had been established to allow us to reasonably estimate the breakage rate on unredeemed gift cards. During the three months ended December 31, 2015, we recognized breakage income from gift cards of approximately </font><font style=\"font-family:inherit;font-size:10pt;\" data-cbfactid=\"-1\" data-cbnumtext=\"$3055\">$3,055</font><font style=\"font-family:inherit;font-size:10pt;\">. The breakage income relates to gift cards sold, but unredeemed, since inception of our gift card program. Estimated breakage revenue is recognized over time in proportion to actual gift card redemption rates and is allocated proportionally to admissions and concessions and other revenues. </font></div></div>"
      ],
      "text/plain": [
       "<IPython.core.display.HTML object>"
      ]
     },
     "metadata": {},
     "output_type": "display_data"
    },
    {
     "data": {
      "text/html": [
       "<h1>Carolco Pictures, Inc.</h2><p style=\"margin: 0pt\">\r",
       "\r",
       "<p style=\"font: 10pt/normal Times New Roman, Times, Serif; margin: 0\"><i><u>Revenue Recognition</u></i></p>\r",
       "\r",
       "<p style=\"font: 10pt/normal Times New Roman, Times, Serif; margin: 0; text-indent: 0.5in\">&#160;</p>\r",
       "\r",
       "<p style=\"font: 10pt/normal Times New Roman, Times, Serif; margin: 0; text-align: justify\">The Company specializes in the development\r",
       "and presentation of quality television programming including series, specials, pilots, live events and award shows. The Company\r",
       "recognizes revenue from its live events and award show productions when all of the following criteria are met: (i) persuasive evidence\r",
       "of an arrangement exists, (ii) the show or live event has been completed and occurred and there are no future production obligations,\r",
       "(iii) the sales price is fixed or determinable, and (iv) collectability is reasonably assured.</p>\r",
       "\r",
       "<p style=\"font: 10pt/normal Times New Roman, Times, Serif; margin: 0; text-indent: 0.5in\">&#160;</p>\r",
       "\r",
       "<p style=\"font: 10pt/normal Times New Roman, Times, Serif; margin: 0; text-align: justify\">Revenues from the sale of programming\r",
       "for television and other media will be recognized when the following criteria are met: (i) persuasive evidence of an arrangement\r",
       "exists; (ii) the show/episode is complete, and in accordance with the terms of the arrangement, has been delivered or is available\r",
       "for immediate and unconditional delivery; (iii) the price to the customer is fixed and determinable; and (iv) collectability is\r",
       "reasonably assured.</p>"
      ],
      "text/plain": [
       "<IPython.core.display.HTML object>"
      ]
     },
     "metadata": {},
     "output_type": "display_data"
    },
    {
     "data": {
      "text/html": [
       "<h1>China Media Inc.</h2><p style=\"margin: 0; text-align: justify\"><b><i>Revenue Recognition</i></b></p>\r",
       "\r",
       "<p style=\"margin: 0; text-align: justify\">&#160;</p>\r",
       "\r",
       "<p style=\"margin: 0; text-align: justify\">The Company&#146;s revenue primarily\r",
       "comes from the distribution of film and TV series&#146; broadcasting rights and investment return from the collectively produced\r",
       "film and TV series.</p>\r",
       "\r",
       "<p style=\"margin: 0; text-align: justify\">&#160;</p>\r",
       "\r",
       "<p style=\"margin: 0; text-align: justify\">In accordance with ASC 926, Entertainment - Films, revenue from sale or licensing arrangements\r",
       "of a film shall be recognized when the following five revenue criteria are met: persuasive evidence of an arrangement exists,\r",
       "the film is completed and delivery has occurred, the license period of the arrangement has begun, the selling price is fixed or\r",
       "determinable, and collectability is reasonably assured.</p>"
      ],
      "text/plain": [
       "<IPython.core.display.HTML object>"
      ]
     },
     "metadata": {},
     "output_type": "display_data"
    },
    {
     "data": {
      "text/html": [
       "<h1>Cinedigm Corp.</h2><div style=\"font-family:Times New Roman;font-size:10pt;\"><div style=\"line-height:120%;text-align:justify;font-size:10pt;\"><font style=\"font-family:inherit;font-size:10pt;font-weight:bold;\">REVENUE RECOGNITION</font></div><div style=\"line-height:120%;text-align:justify;font-size:10pt;\"><font style=\"font-family:inherit;font-size:10pt;\"><br clear=\"none\"></font></div><div style=\"line-height:120%;text-align:justify;font-size:10pt;\"><font style=\"font-family:inherit;font-size:10pt;font-style:italic;font-weight:bold;\">Phase I Deployment and Phase II Deployment</font></div><div style=\"line-height:120%;text-align:justify;font-size:10pt;\"><font style=\"font-family:inherit;font-size:10pt;\"><br clear=\"none\"></font></div><div style=\"line-height:120%;text-align:justify;font-size:10pt;\"><font style=\"font-family:inherit;font-size:10pt;\">Virtual print fees (&#8220;VPFs&#8221;) are earned, net of administrative fees, pursuant to contracts with movie studios and distributors, whereby amounts are payable by a studio to Phase 1 DC, CDF I and to Phase 2 DC when movies distributed by the studio are displayed on screens utilizing our Systems installed in movie theatres. VPFs are earned and payable to Phase 1 DC and CDF I based on a defined fee schedule with a reduced VPF rate year over year until the </font><font style=\"font-family:inherit;font-size:10pt;\">sixth</font><font style=\"font-family:inherit;font-size:10pt;\"> year (calendar year 2011) at which point the VPF rate remains unchanged through the </font><font style=\"font-family:inherit;font-size:10pt;\">tenth</font><font style=\"font-family:inherit;font-size:10pt;\"> year until the VPFs phase out.  </font><font style=\"font-family:inherit;font-size:10pt;\">One</font><font style=\"font-family:inherit;font-size:10pt;\"> VPF is payable for every digital title displayed per System. The amount of VPF revenue is dependent on the number of movie titles released and displayed using the Systems in any given accounting period. VPF revenue is recognized in the period in which the digital title first plays on a System for general audience viewing in a digitally equipped movie theatre, as Phase 1 DC&#8217;s, CDF I's and Phase 2 DC&#8217;s performance obligations have been substantially met at that time. </font></div><div style=\"line-height:120%;text-align:justify;font-size:10pt;\"><font style=\"font-family:inherit;font-size:10pt;\"><br clear=\"none\"></font></div><div style=\"line-height:120%;text-align:justify;font-size:10pt;\"><font style=\"font-family:inherit;font-size:10pt;\">Beginning in December 2015, certain Phase 1 DC Systems began to reach the conclusion of their deployment payment period with certain distributors and, therefore, VPF revenues ceased to be recognized on such Systems. Furthermore, because the Phase I deployment installation period ended in November 2007, a majority of the VPF revenue associated with the Phase I systems will end by November 2017. While the absence of such revenue was not material to our consolidated financial statements during the fiscal year ending March 31, 2016, it is expected to have a material impact in subsequent periods.  As of March 31, 2016, </font><font style=\"font-family:inherit;font-size:10pt;\" data-cbfactid=\"123195163\" data-cbnetworkid=\"30933612\">101</font><font style=\"font-family:inherit;font-size:10pt;\"> of the systems in our Phase I deployment had ceased to earn VPF revenue from certain major studios.  By December 2016, we expect that more than </font><font style=\"font-family:inherit;font-size:10pt;\" data-cbfactid=\"123195164\" data-cbnetworkid=\"30933612\">50%</font><font style=\"font-family:inherit;font-size:10pt;\"> of our Phase I deployment systems will cease to earn VPF revenue from certain major studios and by December 2017, we expect that nearly all of our Phase I deployment systems will no longer earn VPF revenue from certain major studios.  We expect to continue to earn ancillary revenue streams from the Phase I deployment Systems through December of 2020; however, such amounts are expected to be significantly less material to our consolidated financial statements.  The expected reduction in VPF revenue on our Phase I systems is scheduled to approximately coincide with the conclusion of certain of our non-recourse debt obligations and, therefore, we expect that reduced cash outflows related to such non-recourse debt obligations will partially offset reduced VPF revenue after November 2017.</font></div><div style=\"line-height:120%;text-align:justify;font-size:10pt;\"><font style=\"font-family:inherit;font-size:10pt;\"><br clear=\"none\"></font></div><div style=\"line-height:120%;text-align:justify;font-size:10pt;\"><font style=\"font-family:inherit;font-size:10pt;\">Phase 2 DC&#8217;s agreements with distributors require the payment of VPFs, according to a defined fee schedule, for </font><font style=\"font-family:inherit;font-size:10pt;\">ten</font><font style=\"font-family:inherit;font-size:10pt;\"> years from the date each system is installed; however, Phase 2 DC may no longer collect VPFs once &#8220;cost recoupment,&#8221; as defined in the contracts with movie studios and distributors, is achieved. Cost recoupment will occur once the cumulative VPFs and other cash receipts collected by Phase 2 DC have equaled the total of all cash outflows, including the purchase price of all Systems, all financing costs, all &#8220;overhead and ongoing costs&#8221;, as defined, and including service fees, subject to maximum agreed upon amounts during the three-year rollout period and thereafter. Further, if cost recoupment occurs before the end of the </font><font style=\"font-family:inherit;font-size:10pt;\">eighth</font><font style=\"font-family:inherit;font-size:10pt;\"> contract year, the studios will pay us a one-time &#8220;cost recoupment bonus.&#8221;&#160; Any other cash flows, net of expenses, received by Phase 2 DC following the achievement of cost recoupment are required to be returned to the distributors on a pro-rata basis. At this time, we cannot estimate the timing or probability of the achievement of cost recoupment. Beginning in December 2018, certain Phase 2 DC Systems will have reached the conclusion of their deployment payment period, subject to earlier achievement of cost recoupment. In accordance with existing agreements with distributors, VPF revenues will cease to be recognized on such Systems. Because the Phase II deployment installation period ended in December 2012, a majority of the VPF revenue associated with the Phase II systems will end by December 2022 or earlier if cost recoupment is achieved.</font></div><div style=\"line-height:120%;text-align:justify;font-size:10pt;\"><font style=\"font-family:inherit;font-size:10pt;\"><br clear=\"none\"></font></div><div style=\"line-height:120%;text-align:justify;font-size:10pt;\"><font style=\"font-family:inherit;font-size:10pt;\">Alternative content fees (&#8220;ACFs&#8221;) are earned pursuant to contracts with movie exhibitors, whereby amounts are payable to Phase 1 DC, CDF I and to Phase 2 DC, generally either a fixed amount or as a percentage of the applicable box office revenue derived from the exhibitor&#8217;s showing of content other than feature movies, such as concerts and sporting events (typically referred to as &#8220;alternative content&#8221;). ACF revenue is recognized in the period in which the alternative content first opens for audience viewing.</font></div><div style=\"line-height:120%;text-align:justify;font-size:10pt;\"><font style=\"font-family:inherit;font-size:10pt;\"><br clear=\"none\"></font></div><div style=\"line-height:120%;text-align:justify;font-size:10pt;\"><font style=\"font-family:inherit;font-size:10pt;\">Revenues earned in connection with up front exhibitor contributions are deferred and recognized over the expected cost recoupment period.</font></div><div style=\"line-height:120%;text-align:left;font-size:10pt;\"><font style=\"font-family:inherit;font-size:10pt;\"><br clear=\"none\"></font></div><div style=\"line-height:120%;text-align:justify;font-size:10pt;\"><font style=\"font-family:inherit;font-size:10pt;font-style:italic;font-weight:bold;\">Services</font></div><div style=\"line-height:120%;text-align:justify;font-size:10pt;\"><font style=\"font-family:inherit;font-size:10pt;\"><br clear=\"none\"></font></div><div style=\"line-height:120%;text-align:justify;font-size:10pt;\"><font style=\"font-family:inherit;font-size:10pt;\">Exhibitors who purchased and own Systems using their own financing in the Phase II Deployment paid us an upfront activation fee of approximately </font><font style=\"font-family:inherit;font-size:10pt;\"><span data-cbfactid=\"-1\" data-cbnumtext=\"$2000.0\" data-cbnetworkid=\"30933612\">$2.0</span> thousand</font><font style=\"font-family:inherit;font-size:10pt;\"> per screen (the &#8220;Exhibitor-Buyer Structure&#8221;). Upfront activation fees were recognized in the period in which these Systems were delivered and ready for content, as we had no further obligations to the customer after that time and collection was reasonably assured. In addition, we recognize activation fee revenue of between </font><font style=\"font-family:inherit;font-size:10pt;\"><span data-cbfactid=\"123195128\" data-cbnetworkid=\"30933612\">$1.0</span> thousand</font><font style=\"font-family:inherit;font-size:10pt;\"> and </font><font style=\"font-family:inherit;font-size:10pt;\"><span data-cbfactid=\"-1\" data-cbnumtext=\"$2000.0\" data-cbnetworkid=\"30933612\">$2.0</span> thousand</font><font style=\"font-family:inherit;font-size:10pt;\"> on Phase 2 DC Systems and for Systems installed by CDF2 Holdings, a related party, (See Note 5 - </font><font style=\"font-family:inherit;font-size:10pt;font-style:italic;\">Other Interests</font><font style=\"font-family:inherit;font-size:10pt;\">) upon installation and such fees are generally collected upfront upon installation. Our services segment manages and collects VPFs on behalf of exhibitors, for which it earns an administrative fee equal to </font><font style=\"font-family:inherit;font-size:10pt;\" data-cbfactid=\"-1\" data-cbnumtext=\"10%\" data-cbnetworkid=\"30933612\">10%</font><font style=\"font-family:inherit;font-size:10pt;\"> of the VPFs collected.</font></div><div style=\"line-height:120%;text-align:justify;font-size:10pt;\"><font style=\"font-family:inherit;font-size:10pt;\"><br clear=\"none\"></font></div><div style=\"line-height:120%;text-align:justify;font-size:10pt;\"><font style=\"font-family:inherit;font-size:10pt;\">Our Services segment earns an administrative fee of approximately </font><font style=\"font-family:inherit;font-size:10pt;\" data-cbfactid=\"123195134\" data-cbnetworkid=\"30933612\">5%</font><font style=\"font-family:inherit;font-size:10pt;\"> of VPFs collected and, in addition, earns an incentive service fee equal to </font><font style=\"font-family:inherit;font-size:10pt;\" data-cbfactid=\"-1\" data-cbnumtext=\"2.5%\" data-cbnetworkid=\"30933612\">2.5%</font><font style=\"font-family:inherit;font-size:10pt;\"> of the VPFs earned by Phase 1 DC. This administrative fee is recognized in the period in which the billing of VPFs occurs, as performance obligations have been substantially met at that time.</font></div><div style=\"line-height:120%;text-align:justify;font-size:10pt;\"><font style=\"font-family:inherit;font-size:10pt;\"><br clear=\"none\"></font></div><div style=\"line-height:120%;text-align:justify;font-size:10pt;\"><font style=\"font-family:inherit;font-size:10pt;font-style:italic;font-weight:bold;\">Content &amp; Entertainment</font></div><div style=\"line-height:120%;text-align:justify;font-size:10pt;\"><font style=\"font-family:inherit;font-size:10pt;\"><br clear=\"none\"></font></div><div style=\"line-height:120%;text-align:justify;font-size:10pt;\"><font style=\"font-family:inherit;font-size:10pt;\">CEG earns fees for the distribution of content in the home entertainment markets via several distribution channels, including digital, VOD, and physical goods (e.g. DVD and Blu-ray Discs). Fees earned are typically based on the gross amounts billed to our customers less the amounts owed to the media studios or content producers under distribution agreements, and gross media sales of owned or licensed content. Depending upon the nature of the agreements with the platform and content providers, the fee rate that we earn varies. Generally, revenues are recognized when content is available for subscription on the digital platform, at the time of shipment for physical goods, or point-of-sale for transactional and VOD services. Reserves for sales returns and other allowances are recorded based upon historical experience. If actual future returns and allowances differ from past experience, adjustments to our allowances may be required. Sales returns and allowances are reported as a reduction of revenues.  </font></div><div style=\"line-height:120%;text-align:justify;font-size:10pt;\"><font style=\"font-family:inherit;font-size:10pt;\"><br clear=\"none\"></font></div><div style=\"line-height:120%;text-align:justify;font-size:10pt;\"><font style=\"font-family:inherit;font-size:10pt;\">CEG also has contracts for the theatrical distribution of third party feature movies and alternative content. CEG&#8217;s distribution fee revenue and CEG's participation in box office receipts is recognized at the time a feature movie and alternative content are viewed. CEG has the right to receive or bill a portion of the theatrical distribution fee in advance of the exhibition date, and therefore such amount is recorded as a receivable at the time of execution, and all related distribution revenue is deferred until the third party feature movies&#8217; or alternative content&#8217;s theatrical release date. </font></div><div style=\"line-height:120%;text-align:justify;font-size:10pt;\"><font style=\"font-family:inherit;font-size:10pt;\"><br clear=\"none\"></font></div><div style=\"line-height:120%;text-align:justify;font-size:10pt;\"><font style=\"font-family:inherit;font-size:10pt;\">Revenue is deferred in cases where a portion or the entire contract amount cannot be recognized as revenue due to non-delivery of services. Such amounts are classified as deferred revenue and are recognized as earned revenue in accordance with our revenue recognition policies described above.</font></div><div style=\"line-height:120%;text-align:justify;font-size:10pt;\"><font style=\"font-family:inherit;font-size:10pt;\"><br clear=\"none\"></font></div></div>"
      ],
      "text/plain": [
       "<IPython.core.display.HTML object>"
      ]
     },
     "metadata": {},
     "output_type": "display_data"
    },
    {
     "data": {
      "text/html": [
       "<h1>DreamWorks Animation SKG, Inc.</h2><div style=\"font-family:Times New Roman;font-size:10pt;\"><div style=\"line-height:120%;font-size:10pt;\"><font style=\"font-family:inherit;font-size:10pt;font-style:italic;font-weight:bold;\">Revenue Recognition</font></div><div style=\"line-height:120%;font-size:8pt;\"><font style=\"font-family:inherit;font-size:8pt;font-style:italic;font-weight:bold;\">&#160;</font></div><div style=\"line-height:120%;text-indent:36px;font-size:10pt;\"><font style=\"font-family:inherit;font-size:10pt;\">The Company recognizes revenue from the distribution of its animated feature films when earned and reported to it by its distributors. Pursuant to the Company's distribution arrangements with Fox, Paramount and ODW, the Company recognizes revenues derived from its feature films net of reserves for returns, rebates and other incentives after the particular distributor has retained its respective distribution fees (without deduction for any distribution and marketing costs or third-party distribution and fulfillment services fees) and recovered all of its permissible distribution and marketing costs with respect to the Company's films on a title-by-title basis. Fox retains a fee of </font><font style=\"font-family:Times New Roman;font-size:10pt;color:#000000;font-style:normal;font-weight:normal;text-decoration:none;\" data-cbfactid=\"-1\" data-cbnumtext=\"8.0%\" data-cbnetworkid=\"28115257\">8.0%</font><font style=\"font-family:inherit;font-size:10pt;\"> of all theatrical gross receipts and home video gross receipts, except in connection with certain pay television and video-on-demand rights and other digital distribution rights, for which the fee is </font><font style=\"font-family:Times New Roman;font-size:10pt;color:#000000;font-style:normal;font-weight:normal;text-decoration:none;\" data-cbfactid=\"113241415\" data-cbnetworkid=\"28115257\">6.0%</font><font style=\"font-family:inherit;font-size:10pt;\">. Paramount retains a distribution fee of </font><font style=\"font-family:inherit;font-size:10pt;\" data-cbfactid=\"-1\" data-cbnumtext=\"8.0%\" data-cbnetworkid=\"28115257\">8.0%</font><font style=\"font-family:inherit;font-size:10pt;\"> of revenues across all markets. ODW retains a fee of </font><font style=\"font-family:Times New Roman;font-size:10pt;color:#000000;font-style:normal;font-weight:normal;text-decoration:none;\" data-cbfactid=\"-1\" data-cbnumtext=\"8.0%\" data-cbnetworkid=\"28115257\">8.0%</font><font style=\"font-family:inherit;font-size:10pt;\"> of all gross receipts for the markets in which it distributes. For further discussion of the Company's primary distribution arrangements, refer to Note 4.</font></div><div style=\"line-height:120%;text-indent:36px;font-size:10pt;\"><font style=\"font-family:inherit;font-size:10pt;\"><br clear=\"none\"></font></div><div style=\"line-height:120%;text-indent:36px;font-size:10pt;\"><font style=\"font-family:inherit;font-size:10pt;\">Additionally, because third parties are the principal distributors of the Company's films, the amount of revenue that is recognized from films in any given period is dependent on the timing, accuracy and sufficiency of the information received from its distributors. As is typical in the film industry, the Company's distributors may make adjustments in future periods to information previously provided to the Company that could have a material impact on the Company's operating results in later periods. Furthermore, management may, in its judgment, make material adjustments to the information reported by its distributors in future periods to ensure that revenues are accurately reflected in the Company's financial statements. To date, the distributors have not made, nor has the Company made, subsequent material adjustments to information</font><font style=\"font-family:inherit;font-size:10pt;font-weight:bold;\"> </font><font style=\"font-family:inherit;font-size:10pt;\">provided by the distributors and used in the preparation of the Company's historical financial statements.</font></div><div style=\"line-height:120%;text-indent:36px;font-size:10pt;\"><font style=\"font-family:inherit;font-size:10pt;\"><br clear=\"none\"></font></div><div style=\"line-height:120%;text-indent:36px;font-size:10pt;\"><font style=\"font-family:inherit;font-size:10pt;\">Revenue from the theatrical exhibition of films is recognized at the later of when a film is exhibited in theaters or when revenue is reported by the Company's distributors.</font></div><div style=\"line-height:120%;text-indent:36px;font-size:10pt;\"><font style=\"font-family:inherit;font-size:10pt;\"><br clear=\"none\"></font></div><div style=\"line-height:120%;text-indent:36px;font-size:10pt;\"><font style=\"font-family:inherit;font-size:10pt;\">Revenue from both free and pay television licensing agreements for the Company's films is recognized at the later of the time the production is made available for exhibition in those markets or it is reported by its distributors.</font></div><div style=\"line-height:120%;text-indent:36px;font-size:10pt;\"><font style=\"font-family:inherit;font-size:10pt;\"><br clear=\"none\"></font></div><div style=\"line-height:120%;text-indent:36px;font-size:10pt;\"><font style=\"font-family:inherit;font-size:10pt;\">The Company has also entered into licensing arrangements directly with third parties to digitally distribute its feature film and television series/specials content. Such revenues are recorded on a gross basis as they are not typically subject to the distribution arrangements with the Company's primary distributors and, accordingly, the Company receives payment and records revenues directly from third parties. Revenues generated under these licensing arrangements is recognized at the later of the time when the content has been delivered to and accepted by the licensee or the commencement of the license term. </font></div><div style=\"line-height:120%;text-indent:36px;font-size:10pt;\"><font style=\"font-family:inherit;font-size:10pt;\"><br clear=\"none\"></font></div><div style=\"line-height:120%;text-indent:36px;font-size:10pt;\"><font style=\"font-family:inherit;font-size:10pt;\">Revenue from the sale of feature film home video units is recognized at the later of when product is made available for retail sale and&#160;when sales to customers are reported by third parties, such as fulfillment service providers or distributors. Revenue from the sale of home video units for other content (such as television series/specials) is recorded on a gross basis (because the Company is considered the principal in the transactions) and is recognized when the criteria for revenue recognition have been met. Certain of the Company's home video distribution arrangements for its non-feature film content include non-refundable, but recoupable, minimum guarantees. Minimum guarantees that are not fully recouped are recognized as revenue once the minimum guarantee period has expired and the Company is able to determine the amount of remaining revenues to be recognized. The criteria the Company evaluates to determine whether it is able to recognize revenue include persuasive evidence of an arrangement exists, the price is fixed and determinable, delivery has occurred or services have been rendered, risk of inventory loss has transferred and collectibility is reasonably assured. </font></div><div style=\"line-height:120%;text-indent:36px;font-size:10pt;\"><font style=\"font-family:inherit;font-size:10pt;\"><br clear=\"none\"></font></div><div style=\"line-height:120%;text-indent:36px;font-size:10pt;\"><font style=\"font-family:inherit;font-size:10pt;\">In addition, the Company and its distributors provide for future returns of home video product and for customer programs and sales incentives. The Company and its distributors calculates these estimates by analyzing a combination of historical returns, current economic trends, projections of consumer demand for the Company's product and point-of-sale data available from certain retailers. Based on this information, a percentage of each sale is reserved. Customers are typically given varying rights of return, which may include <span data-cbfactid=\"113242721\" data-cbnetworkid=\"28115257\">100%</span> return rights. Although the Company and its distributors allow various rights of return for customers, management does not believe that these rights are critical in establishing return estimates, because other factors, such as historical experience with similar types of sales, information received from retailers and management's assessment of the product's appeal based on domestic box office success and other research, are more important to the estimation process.</font><font style=\"font-family:inherit;font-size:10pt;font-weight:bold;\"> </font></div><div style=\"line-height:120%;text-indent:36px;font-size:10pt;\"><font style=\"font-family:inherit;font-size:10pt;\"><br clear=\"none\"></font></div><div style=\"line-height:120%;text-indent:36px;font-size:10pt;\"><font style=\"font-family:inherit;font-size:10pt;\">Revenue from merchandising and other licensing arrangements is recognized when the associated feature film or television series/special has been released and the criteria for revenue recognition have been met. The criteria that the Company uses to evaluate whether it is able to recognize revenue include the following: persuasive evidence of an arrangement exists, the price is fixed and determinable, delivery has occurred or services have been rendered (including whether the license term has commenced) and collectibility is reasonably assured. Licensing and merchandising related minimum guarantees are generally recognized as revenue upon the theatrical release of a film and royalty-based revenues (revenues based upon a percentage of net sales of the products) are generally recognized as revenue in periods when royalties are reported by licensees or cash is received.</font></div><div style=\"line-height:120%;text-indent:36px;font-size:10pt;\"><font style=\"font-family:inherit;font-size:10pt;\"><br clear=\"none\"></font></div><div style=\"line-height:120%;text-indent:36px;font-size:10pt;\"><font style=\"font-family:inherit;font-size:10pt;\">Certain of the Company's arrangements may qualify as multiple deliverable arrangements if the licensee is granted the right to exploit more than one of the Company's titles or properties. The license period for each property under a multiple deliverable arrangement may vary by title or property. Revenue associated with multiple deliverable arrangements is allocated to each title or property based on relative selling price. In determining the relative selling price of each title or property, the Company considers a variety of factors including (but not limited to) the period of time a title or property has already been exploited in the marketplace, whether the title is a sequel, the duration of the license period being granted, the territories for which the license is being granted, similar arrangements and type of content or property being licensed. Revenue for each title or property will be recognized when it is available to the licensee for exploitation.</font></div><div style=\"line-height:120%;text-indent:36px;font-size:10pt;\"><font style=\"font-family:inherit;font-size:10pt;\"><br clear=\"none\"></font></div><div style=\"line-height:120%;text-indent:36px;font-size:10pt;\"><font style=\"font-family:inherit;font-size:10pt;\">As a result of one of the Company's agreements with Netflix, it is currently developing and producing original episodic content in order to fulfill its obligations under the agreement. In cases where a television series is based on characters from one of the Company's feature films, a portion of the third-party revenues generated by the new series is allocated to the feature film title from which the series originated. This revenue allocation represents a license fee charged to the television series for use of intellectual property derived from the related feature film.  </font></div><div style=\"line-height:120%;text-indent:36px;font-size:10pt;\"><font style=\"font-family:inherit;font-size:10pt;\"><br clear=\"none\"></font></div><div style=\"line-height:120%;text-indent:36px;font-size:10pt;\"><font style=\"font-family:inherit;font-size:10pt;\">Long-term, non-interest-bearing receivables arising from licensing agreements are discounted to present value. Accordingly, revenues are recorded net of such discount. Interest income is recognized from the imputation of interest in accordance with the effective interest rate method and classified as \"Interest income, net\" in the Company's consolidated statements of operations.</font></div><div style=\"line-height:120%;text-indent:36px;font-size:10pt;\"><font style=\"font-family:inherit;font-size:10pt;\"><br clear=\"none\"></font></div></div>"
      ],
      "text/plain": [
       "<IPython.core.display.HTML object>"
      ]
     },
     "metadata": {},
     "output_type": "display_data"
    },
    {
     "data": {
      "text/html": [
       "<h1>Gaia, Inc</h2><div>\n",
       " <p style=\"MARGIN-BOTTOM: 0pt; FONT-SIZE: 10pt; FONT-FAMILY: Times New Roman; MARGIN-TOP: 18pt\">\n",
       " <i>Revenue</i></p>\n",
       " <p style=\"MARGIN-BOTTOM: 0pt; FONT-SIZE: 10pt; FONT-FAMILY: Times New Roman; MARGIN-TOP: 6pt\">\n",
       " We recognize revenue in our Gaiam Brand segment when the goods are\n",
       " shipped to the customer and collection is either probable or has\n",
       " occurred. The amount of revenue recognized is net of estimated\n",
       " returns and other chargebacks (or channel credits), which are\n",
       " estimated using historical return and credit rates. If the actual\n",
       " amount of returns and chargebacks were to vary significantly from\n",
       " our estimates, it could materially impact our results of operations\n",
       " in subsequent periods. We recognize amounts billed to customers for\n",
       " postage and handling as revenue at the same time we recognize the\n",
       " revenue arising from the product sale. Travel revenues are\n",
       " recognized in the period which the trip begins. We recognize\n",
       " revenue in our Gaia segment ratably over the subscription period\n",
       " after collection has occurred. We present revenue net of taxes\n",
       " collected from customers.</p>\n",
       " </div>"
      ],
      "text/plain": [
       "<IPython.core.display.HTML object>"
      ]
     },
     "metadata": {},
     "output_type": "display_data"
    },
    {
     "data": {
      "text/html": [
       "<h1>Genius Brands International, Inc.</h2><p style=\"font: 10pt Times New Roman, Times, Serif; margin: 0pt 0; text-align: justify\"><font style=\"font-size: 8pt\"></font></p>\r",
       "\r",
       "<p style=\"font: 10pt Times New Roman, Times, Serif; margin: 0pt 0; text-align: justify\"><font style=\"font-size: 8pt\"><i>Revenue\r",
       "Recognition</i></font></p>\r",
       "\r",
       "<p style=\"font: 10pt Times New Roman, Times, Serif; margin: 0pt 0; text-align: justify\"><font style=\"font-size: 8pt\">&#160;</font></p>\r",
       "\r",
       "<p style=\"font: 10pt Times New Roman, Times, Serif; margin: 0pt 0; text-align: justify\"><font style=\"font-size: 8pt\">The Company\r",
       "recognized revenue related to product sales when (i) the seller&#146;s price is substantially fixed, (ii) shipment has occurred\r",
       "causing the buyer to be obligated to pay for product, (iii) the buyer has economic substance apart from the seller, and (iv) there\r",
       "is no significant obligation for future performance to directly bring about the resale of the product by the buyer as required\r",
       "by ASC 605 Revenue Recognition.</font></p>\r",
       "\r",
       "<p style=\"font: 10pt Times New Roman, Times, Serif; margin: 0pt 0; text-align: justify\"><font style=\"font-size: 8pt\">&#160;</font></p>\r",
       "\r",
       "<p style=\"font: 10pt Times New Roman, Times, Serif; margin: 0pt 0; text-align: justify\"><font style=\"font-size: 8pt\">Revenues\r",
       "associated with the sale of products are recorded when shipped to customers pursuant to approved customer purchase orders resulting\r",
       "in the transfer of title and risk of loss.&#160;Cost of sales, rebates and discounts are recorded at the time of revenue recognition\r",
       "or at each financial reporting date.</font></p>\r",
       "\r",
       "<p style=\"font: 10pt Times New Roman, Times, Serif; margin: 0pt 0; text-align: justify\"><font style=\"font-size: 8pt\">&#160;</font></p>\r",
       "\r",
       "<p style=\"font: 10pt Times New Roman, Times, Serif; margin: 0pt 0; text-align: justify\"><font style=\"font-size: 8pt\">The Company\r",
       "recognizes revenue in accordance with ASC 926-605 Entertainment-Films - Revenue Recognition. Accordingly, the Company recognizes\r",
       "revenue when (i) persuasive evidence of a sale with customer exists, (ii) the film is complete and has been delivered or is available\r",
       "for delivery, (iii) the license period of the arrangement has begun and the customer can begin its exploitation, exhibition, or\r",
       "sale, (iv) the arrangement fee is fixed or determinable, and (v) collection of the arrangement fee is reasonably assured.</font></p>\r",
       "\r",
       "<p style=\"font: 10pt Times New Roman, Times, Serif; margin: 0pt 0; text-align: justify\"><font style=\"font-size: 8pt\">&#160;</font></p>\r",
       "\r",
       "<p style=\"font: 10pt Times New Roman, Times, Serif; margin: 0pt 0; text-align: justify\"><font style=\"font-size: 8pt\">For its distribution,\r",
       "TV, and home entertainment income the Company generally enters in to flat fee arrangements to deliver multiple films or episodes.\r",
       "The Company allocates revenue to each film or episode based on their relative fair market values and recognizes revenue as each\r",
       "film or episode is complete and available for delivery.</font></p>\r",
       "\r",
       "<p style=\"font: 10pt Times New Roman, Times, Serif; margin: 0pt 0; text-align: justify\"><font style=\"font-size: 8pt\">&#160;</font></p>\r",
       "\r",
       "<p style=\"font: 10pt Times New Roman, Times, Serif; margin: 0pt 0; text-align: justify\"><font style=\"font-size: 8pt\">The Company&#146;s\r",
       "licensing and royalty revenue represents both (a) variable payments based on net sales from brand licensees for content distribution\r",
       "rights. These license agreements are held in conjunction with third parties that are responsible for collecting fees due and remitting\r",
       "to the Company its share after expenses. Revenue from licensed products is recognized when realized or realizable based on royalty\r",
       "reporting received from licensees and (b) licensing income the Company recognizes revenue as an agent in accordance with ASC 605-45\r",
       "Revenue Recognition - Principal Agent. Accordingly, the Company&#146;s revenue is its gross billings to its customers less the\r",
       "amounts it pays to suppliers for their products and services.</font></p>"
      ],
      "text/plain": [
       "<IPython.core.display.HTML object>"
      ]
     },
     "metadata": {},
     "output_type": "display_data"
    },
    {
     "data": {
      "text/html": [
       "<h1>Goliath Film & Media Holdings</h2><p style=\"font: 10pt/normal Times New Roman, Times, Serif; margin: 0; text-align: justify\"><u>Revenue Recognition</u></p>\r",
       "\r",
       "<p style=\"font: 10pt/normal Times New Roman, Times, Serif; margin: 0; text-align: justify\">&#160;</p>\r",
       "\r",
       "<p style=\"font: 10pt/normal Times New Roman, Times, Serif; margin: 0; text-align: justify\">We will recognize revenues in accordance\r",
       "with ASC 926-605, &#8220;Entertainment Films, Revenue Recognition&#8221;.</p>\r",
       "\r",
       "<p style=\"font: 10pt/normal Times New Roman, Times, Serif; margin: 0; text-align: justify\">&#160;</p>\r",
       "\r",
       "<p style=\"font: 10pt/normal Times New Roman, Times, Serif; margin: 0; text-align: justify\">Under ASC 926-605, five conditions must\r",
       "be met before revenue can be recognized: (i) there is persuasive evidence that an arrangement exists, (ii) the film is complete\r",
       "and has been delivered, (iii) the license period has begun, (iv) the price is fixed or determinable, and (v) collection is reasonably\r",
       "assured. The Company provides for an allowance for doubtful account based history and experience considering economic and industry\r",
       "trends. The Company does not have any off-Balance Sheet exposure related to its customers.</p>\r",
       "\r",
       "<p style=\"font: 10pt/normal Times New Roman, Times, Serif; margin: 0; text-align: justify\">&#160;</p>\r",
       "\r",
       "<p style=\"font: 10pt/normal Times New Roman, Times, Serif; margin: 0; text-align: justify\">The Company recognizes revenue when\r",
       "the distributor confirms to the Company that the film has been delivered to the distributor with all technical and document deliveries\r",
       "received, waived or deferred and the film has been entered into the distributor&#8217;s rights system.</p>"
      ],
      "text/plain": [
       "<IPython.core.display.HTML object>"
      ]
     },
     "metadata": {},
     "output_type": "display_data"
    },
    {
     "data": {
      "text/html": [
       "<h1>InCapta, Inc.</h2><div><p style=\"font: bold 10pt/normal 'times new roman', times, serif; margin: 0px; text-align: justify; color: #000000; text-transform: none; text-indent: 0px; letter-spacing: normal; word-spacing: 0px; white-space: normal; widows: 1; font-stretch: normal; -webkit-text-stroke-width: 0px;\"><font style=\"background-color: white;\">Revenue Recognition.</font></p><p style=\"font: 10pt/normal 'times new roman', times, serif; margin: 0px; text-align: justify; color: #000000; text-transform: none; text-indent: 0.5in; letter-spacing: normal; word-spacing: 0px; white-space: normal; widows: 1; font-stretch: normal; background-color: white; -webkit-text-stroke-width: 0px;\">&#160;</p><p style=\"font: 10pt/normal 'times new roman', times, serif; margin: 0px; text-align: justify; color: #000000; text-transform: none; text-indent: 0px; letter-spacing: normal; word-spacing: 0px; white-space: normal; widows: 1; font-stretch: normal; -webkit-text-stroke-width: 0px;\">The Company generates revenue from three sources: sale of game applications, sale of advertising provided with games, internet marketing sales with games on per click basis (<span data-cbfactid=\"-1\" data-cbnumtext=\"$0.01\">$0.01</span> or <span data-cbfactid=\"128458783\">$0.02</span> per click) by users. The Company recognizes revenue using four basic criteria that must be met before revenue can be recognized: (1) persuasive evidence of an arrangement exists; (2) delivery has occurred; (3) the selling price is fixed and determinable; and (4) collectability is reasonably assured, which is typically after receipt of payment and delivery. The Company has service agreements with Apple and Google, and the Company receives revenue on net basis, which is 70% and 60% of the revenue from sale of game applications and sale of advertising provided with games.</p></div>"
      ],
      "text/plain": [
       "<IPython.core.display.HTML object>"
      ]
     },
     "metadata": {},
     "output_type": "display_data"
    },
    {
     "data": {
      "text/html": [
       "<h1>Lions Gate Entertainment Corp /CN/</h2><div style=\"font-family:Times New Roman;font-size:10pt;\"><div style=\"line-height:120%;padding-top:8px;text-align:left;text-indent:8px;font-size:10pt;\"><font style=\"font-family:inherit;font-size:10pt;font-style:italic;font-weight:bold;\">Revenue Recognition</font></div><div style=\"line-height:120%;padding-top:8px;text-align:left;text-indent:20px;font-size:10pt;\"><font style=\"font-family:inherit;font-size:10pt;\">Revenue from the theatrical release of feature films is recognized at the time of exhibition based on the Company's participation in box office receipts. Revenue from the sale of DVDs and Blu-ray discs in the retail market, net of an allowance for estimated returns and other allowances, is recognized on the later of receipt by the customer or &#8220;street date&#8221; (when it is available for sale by the customer). Under revenue sharing arrangements, including digital and electronic-sell-through (\"EST\") arrangements, such as download-to-own, download-to-rent, video-on-demand and subscription video-on-demand, revenue is recognized when the Company is entitled to receipts and such receipts are determinable. Revenues from television or digital licensing for fixed fees are recognized when the feature film or television program is available to the licensee for telecast. For television licenses that include separate availability &#8220;windows&#8221; during the license period, revenue is allocated over the &#8220;windows.&#8221; Revenue from sales to international territories are recognized when access to the feature film or television program has been granted or delivery has occurred, as required under the sales contract, and the right to exploit the feature film or television program has commenced. For multiple media rights contracts with a fee for a single film or television program where the contract provides for media holdbacks (defined as contractual media release restrictions), the fee is allocated to the various media based on the Company's assessment of the relative fair value of the rights to exploit each media and is recognized as each holdback is released. For multiple-title contracts with a fee, the fee is allocated on a title-by-title basis, based on the Company's assessment of the relative fair value of each title.</font></div><div style=\"line-height:120%;padding-top:8px;text-align:left;text-indent:20px;font-size:10pt;\"><font style=\"font-family:inherit;font-size:10pt;\">Cash payments received are recorded as deferred revenue until all the conditions of revenue recognition have been met. Long-term, non-interest bearing receivables are discounted to present value.</font></div></div>"
      ],
      "text/plain": [
       "<IPython.core.display.HTML object>"
      ]
     },
     "metadata": {},
     "output_type": "display_data"
    },
    {
     "data": {
      "text/html": [
       "<h1>Litera Group Inc</h2><p style=\"margin: 0pt; text-align: justify\">\r",
       "\r",
       "<p style=\"font: 10pt Times New Roman, Times, Serif; margin: 0; text-align: justify\"><font style=\"font: 10pt Times New Roman, Times, Serif\">The\r",
       "Company will generate revenues from the sale of movie scripts. Revenues are recognized when the following conditions are met:</font></p>\r",
       "\r",
       "<p style=\"font: 10pt Times New Roman, Times, Serif; margin: 0; text-align: justify; text-indent: 0.5in\"><font style=\"font: 10pt Times New Roman, Times, Serif\">&#160;</font></p>\r",
       "\r",
       "<table cellspacing=\"0\" cellpadding=\"0\" style=\"font: 10pt Times New Roman, Times, Serif; width: 100%\">\r",
       "<tr style=\"vertical-align: top\">\r",
       "    <td style=\"width: 45px; text-align: justify\"><font style=\"font: 10pt Times New Roman, Times, Serif\">1.\r",
       "    </font></td>\r",
       "    <td style=\"text-align: justify\"><font style=\"font: 10pt Times New Roman, Times, Serif\">Persuasive evidence\r",
       "    of a sale or license agreement exists with a customer</font></td></tr>\r",
       "<tr style=\"vertical-align: top\">\r",
       "    <td style=\"text-align: justify\"><font style=\"font: 10pt Times New Roman, Times, Serif\">&#160;</font></td>\r",
       "    <td style=\"text-align: justify\"><font style=\"font: 10pt Times New Roman, Times, Serif\">&#160;</font></td></tr>\r",
       "<tr style=\"vertical-align: top\">\r",
       "    <td style=\"text-align: justify\"><font style=\"font: 10pt Times New Roman, Times, Serif\">2. </font></td>\r",
       "    <td style=\"text-align: justify\"><font style=\"font: 10pt Times New Roman, Times, Serif\">The script is complete\r",
       "    and has been delivered or is immediately available to be delivered in accordance with the terms of the agreement.</font></td></tr>\r",
       "<tr style=\"vertical-align: top\">\r",
       "    <td style=\"text-align: justify\"><font style=\"font: 10pt Times New Roman, Times, Serif\">&#160;</font></td>\r",
       "    <td style=\"text-align: justify\"><font style=\"font: 10pt Times New Roman, Times, Serif\">&#160;</font></td></tr>\r",
       "<tr style=\"vertical-align: top\">\r",
       "    <td style=\"text-align: justify\"><font style=\"font: 10pt Times New Roman, Times, Serif\">3. </font></td>\r",
       "    <td style=\"text-align: justify\"><font style=\"font: 10pt Times New Roman, Times, Serif\">The license period\r",
       "    for the arrangement has started and the customer can begin exploitation, exhibition or sale.</font></td></tr>\r",
       "<tr style=\"vertical-align: top\">\r",
       "    <td style=\"text-align: justify\"><font style=\"font: 10pt Times New Roman, Times, Serif\">&#160;</font></td>\r",
       "    <td style=\"text-align: justify\"><font style=\"font: 10pt Times New Roman, Times, Serif\">&#160;</font></td></tr>\r",
       "<tr style=\"vertical-align: top\">\r",
       "    <td style=\"text-align: justify\"><font style=\"font: 10pt Times New Roman, Times, Serif\">4. </font></td>\r",
       "    <td style=\"text-align: justify\"><font style=\"font: 10pt Times New Roman, Times, Serif\">The arrangement\r",
       "    fee is fixed or determinable</font></td></tr>\r",
       "<tr style=\"vertical-align: top\">\r",
       "    <td style=\"text-align: justify\"><font style=\"font: 10pt Times New Roman, Times, Serif\">&#160;</font></td>\r",
       "    <td style=\"text-align: justify\"><font style=\"font: 10pt Times New Roman, Times, Serif\">&#160;</font></td></tr>\r",
       "<tr style=\"vertical-align: top\">\r",
       "    <td style=\"text-align: justify\" data-cbfactid=\"117504968\"><font style=\"font: 10pt Times New Roman, Times, Serif\">5. </font></td>\r",
       "    <td style=\"text-align: justify\"><font style=\"font: 10pt Times New Roman, Times, Serif\">Collection of the\r",
       "    arrangement fee is reasonably assured.</font></td></tr>\r",
       "</table>\r",
       "<p style=\"font: 10pt Times New Roman, Times, Serif; margin: 0; text-align: justify; text-indent: 0.5in\"><font style=\"font: 10pt Times New Roman, Times, Serif\">&#160;</font></p>\r",
       "\r",
       "<p style=\"font: 10pt Times New Roman, Times, Serif; margin: 0; text-align: justify\"><font style=\"font: 10pt Times New Roman, Times, Serif\">If\r",
       "any of the above conditions are not met, the Company will defer revenue until all conditions are met.</font></p>"
      ],
      "text/plain": [
       "<IPython.core.display.HTML object>"
      ]
     },
     "metadata": {},
     "output_type": "display_data"
    },
    {
     "data": {
      "text/html": [
       "<h1>Marcus Corp</h2><div style=\"MARGIN: 0pt 0px; FONT: 10pt Times New Roman, Times, Serif \"> <div style=\"CLEAR:both; FONT-FAMILY:Times New Roman;FONT-SIZE: 10pt;TEXT-INDENT: 29.7pt; MARGIN: 0in 0in 0pt\" align=\"justify\"></div> <div style=\"CLEAR:both; FONT-FAMILY:Times New Roman;FONT-SIZE: 10pt;MARGIN: 0in 0in 0pt\" align=\"justify\"><strong><font style=\"FONT-SIZE: 10pt\">Revenue Recognition -</font></strong> <font style=\"FONT-SIZE: 10pt\">The Company recognizes revenue from its rooms as earned on the close of business each day. Revenues from theatre admissions, concessions and food and beverage sales are recognized at the time of sale. Revenues from advanced ticket and gift certificate sales are recorded as deferred revenue and are recognized when tickets or gift certificates are redeemed. The Company had deferred revenue of $<font style=\"FONT-FAMILY: 'Times New Roman','serif'; FONT-SIZE: 10pt\" data-cbfactid=\"116689397\">25,770,000</font>, $<font style=\"FONT-FAMILY: 'Times New Roman','serif'; FONT-SIZE: 10pt\" data-cbfactid=\"116689398\">18,502,000</font> and $<font style=\"FONT-FAMILY: 'Times New Roman','serif'; FONT-SIZE: 10pt\" data-cbfactid=\"116689399\">16,028,000</font>, which is included in other accrued liabilities, as of December 31, 2015, May 28, 2015 and May 29, 2014, respectively. Gift card breakage income is recognized based upon historical redemption patterns and represents the balance of gift cards for which the Company believes the likelihood of redemption by the customer is remote. Gift card breakage income is recorded in other revenues in the consolidated statements of earnings.</font></div> <font style=\"FONT-FAMILY: 'Times New Roman','serif'; FONT-SIZE: 10pt\"></font> <div style=\"CLEAR:both; FONT-FAMILY:Times New Roman;FONT-SIZE: 10pt;TEXT-INDENT: 29.7pt; MARGIN: 0in 0in 0pt\" align=\"justify\"><font style=\"FONT-SIZE: 10pt\">&#160;</font></div> <div style=\"CLEAR:both; FONT-FAMILY:Times New Roman;FONT-SIZE: 10pt;MARGIN: 0in 0in 0pt\" align=\"justify\"><font style=\"FONT-SIZE: 10pt\">Other revenues include management fees for theatres and hotels under management agreements. The management fees are recognized as earned based on the terms of the agreements and include both base fees and incentive fees. Revenues do not include sales tax as the Company considers itself a pass-through conduit for collecting and remitting sales tax.</font></div> </div><table border=\"0\" style=\"width:100%; table-layout:fixed;\" cellspacing=\"0\" cellpadding=\"0\"><tr><td></td></tr></table>"
      ],
      "text/plain": [
       "<IPython.core.display.HTML object>"
      ]
     },
     "metadata": {},
     "output_type": "display_data"
    },
    {
     "data": {
      "text/html": [
       "<h1>Momentous Entertainment Group Inc</h2><!--egx--><p style='text-align:justify;margin:0in 0in 0pt'><i>Revenue Recognition</i></p> <p style='text-align:justify;margin:0in 0in 0pt'>&nbsp;</p> <p style='text-align:justify;margin:0in 0in 0pt'>&nbsp;&nbsp;&nbsp;&nbsp;&nbsp;&nbsp;&nbsp;&nbsp;&nbsp;&nbsp;&nbsp;&nbsp;&nbsp;&nbsp;&nbsp; The Company follows ASC 605-10-S99-1 for revenue recognition. The Company recognizes revenue when it is realized or realizable and earned less estimated future doubtful accounts. The Company considers revenue realized or realizable and earned when all of the following criteria are met: (i) persuasive evidence of an arrangement exists, (ii) the services have been rendered to the customer, (iii) the sales price is fixed or determinable, and (iv) collectability is reasonably assured.</p>"
      ],
      "text/plain": [
       "<IPython.core.display.HTML object>"
      ]
     },
     "metadata": {},
     "output_type": "display_data"
    },
    {
     "data": {
      "text/html": [
       "<h1>Netflix Inc</h2><div style=\"font-family:Times New Roman;font-size:10pt;\"><div style=\"line-height:120%;padding-top:6px;text-indent:32px;font-size:10pt;\"><font style=\"font-family:inherit;font-size:10pt;\">Revenues are recognized ratably over each monthly membership period.  Revenues are presented net of the taxes that are collected from members and remitted to governmental authorities.  Deferred revenue consists of membership fees billed that have not been recognized and gift and other prepaid memberships that have not been redeemed.   </font></div></div>"
      ],
      "text/plain": [
       "<IPython.core.display.HTML object>"
      ]
     },
     "metadata": {},
     "output_type": "display_data"
    },
    {
     "data": {
      "text/html": [
       "<h1>Pow! Entertainment, Inc.</h2><div style=\"MARGIN: 0pt 0px; FONT: 10pt Times New Roman, Times, Serif \"> <div style=\"CLEAR:both; FONT-FAMILY:Times New Roman;FONT-SIZE: 10pt;TEXT-INDENT: 0.5in; MARGIN: 0in 0in 0pt 0.25in\"> </div> <div style=\"CLEAR:both; FONT-FAMILY:Times New Roman;FONT-SIZE: 10pt;MARGIN: 0in 0in 0pt 0.25in\"> <strong><font style=\"FONT-SIZE: 10pt\"><font style=\"FONT-FAMILY: 'Times New Roman','serif'; FONT-SIZE: 10pt\"></font>Revenue Recognition&#151;</font></strong> <font style=\"FONT-SIZE: 10pt\">As a creator of intellectual property, the majority of the Company&#8217;s business is derived from contracts with third parties providing for the development and use of intellectual property developed by the Company.</font></div> <div style=\"CLEAR:both; FONT-FAMILY:Times New Roman;FONT-SIZE: 10pt;TEXT-INDENT: 0.5in; MARGIN: 0in 0in 0pt 0.25in\"> <font style=\"FONT-SIZE: 10pt\">&#160;</font></div> <div style=\"CLEAR:both; FONT-FAMILY:Times New Roman;FONT-SIZE: 10pt;MARGIN: 0in 0in 0pt 0.25in\"> <font style=\"FONT-SIZE: 10pt\">The Company records revenue from these sources: artist consulting, film rights, animated television and comic-book royalties. In accounting for these contracts, the Company recognizes revenue when services have been rendered or when contractual parameters have been satisfied and are measureable.</font></div> <div style=\"CLEAR:both; FONT-FAMILY:Times New Roman;FONT-SIZE: 10pt;MARGIN: 0in 0in 0pt 0.25in\"> <font style=\"FONT-SIZE: 10pt\"></font>&#160;</div> <div style=\"CLEAR:both; FONT-FAMILY:Times New Roman;FONT-SIZE: 10pt;MARGIN: 0in 0in 0pt 0.25in\" align=\"left\"><font style=\"FONT-SIZE: 10pt\"></font><font style=\"FONT-SIZE: 10pt\"><font style=\"FONT-SIZE: 10pt\">Our contract with Silver Creek Pictures (&#8220;Silver Creek&#8221;), an affiliate of The Walt Disney Company, called for per annum payments of nonrecoupable overhead allowance of $<font style=\"FONT-FAMILY: 'Times New Roman','serif'; FONT-SIZE: 10pt\" data-cbfactid=\"117754546\">700,000</font> and nonrecoupable consulting services for Stan lee of $<font style=\"FONT-FAMILY: 'Times New Roman','serif'; FONT-SIZE: 10pt\" data-cbfactid=\"117754547\">1,250,000</font>. The contract expired in December 2014. Revenue from Silver Creek is recorded based on the guidance from ASC 605: revenues are considered to have been earned when the entity has substantially accomplished what it must do to be entitled to the benefits represented by the revenues.<font style=\"FONT-FAMILY: 'Times New Roman','serif'; FONT-SIZE: 10pt\"></font></font></font></div> </div><table border=\"0\" style=\"width:100%; table-layout:fixed;\" cellspacing=\"0\" cellpadding=\"0\"><tr><td></td></tr></table>"
      ],
      "text/plain": [
       "<IPython.core.display.HTML object>"
      ]
     },
     "metadata": {},
     "output_type": "display_data"
    },
    {
     "data": {
      "text/html": [
       "<h1>Reading International Inc</h2><div> <div style=\"margin-left:0pt;margin-right:0pt;\">\n",
       "\t\t<p style=\"margin:0pt;text-align:left;font-family:Times New Roman;text-justify:inter-ideograph;font-size: 10pt\">\n",
       "\t\t\t<font style=\"display: inline;font-weight:bold;font-style:italic;\">Revenue Recognition</font>\n",
       "\t\t</p>\n",
       "\t\t<p style=\"margin:0pt 0pt 10pt;text-align:left;font-family:Times New Roman;text-justify:inter-ideograph;font-size: 10pt\">\n",
       "\t\t\t<font style=\"display: inline;\">Revenue from cinema ticket sales and concession sales are recognized when sold. Revenue from gift certificate sales is deferred and recognized when the certificates are redeemed. Rental revenue is recognized on a straight-line basis.&nbsp; </font>\n",
       "\t\t</p>\n",
       "\t\t<p><font size=\"1\"> </font></p>\n",
       "\t</div> </div>"
      ],
      "text/plain": [
       "<IPython.core.display.HTML object>"
      ]
     },
     "metadata": {},
     "output_type": "display_data"
    },
    {
     "data": {
      "text/html": [
       "<h1>Regal Entertainment Group</h2><div style=\"font-family:Times New Roman;font-size:10pt;\"><div style=\"line-height:120%;text-indent:26px;font-size:10pt;\"><font style=\"font-family:inherit;font-size:10pt;font-style:italic;font-weight:bold;\">Revenue Recognition</font></div><div style=\"line-height:120%;text-indent:32px;font-size:10pt;\"><font style=\"font-family:inherit;font-size:10pt;\"><br clear=\"none\"></font></div><div style=\"line-height:120%;text-indent:32px;font-size:10pt;\"><font style=\"font-family:inherit;font-size:10pt;\">Revenues are generated principally through admissions and concessions sales with proceeds received in cash or via credit card at the point of sale. Other operating revenues consist primarily of product advertising (including vendor marketing programs) and other ancillary revenues that are recognized as income in the period earned. The Company generally recognizes payments received attributable to the marketing and advertising services provided by the Company under certain vendor programs as revenue in the periods in which the advertising is displayed or when the related impressions are delivered. Such impressions are measured by the concession product sales volume, which is a mutually agreed upon proxy of attendance and reflects the Company's marketing and advertising services delivered to its vendors. In instances where the consideration received is in excess of fair value of the advertising services provided, the excess is recorded as a reduction of concession costs. </font></div><div style=\"line-height:120%;text-indent:32px;font-size:10pt;\"><font style=\"font-family:inherit;font-size:10pt;\"><br clear=\"none\"></font></div><div style=\"line-height:120%;text-indent:32px;font-size:10pt;\"><font style=\"font-family:inherit;font-size:10pt;\">The Company maintains a deferred revenue balance pertaining to amounts received for agreeing to the existing National CineMedia exhibitor services agreement (\"ESA\") modification, amounts recorded in connection with the receipt of newly issued common units of National CineMedia pursuant to the provisions of the Common Unit Adjustment Agreement described in Note&#160;4&#8212;\"Investments,\" and amounts received from the sale of discount tickets and gift cards that have not been redeemed. Amortization of deferred revenue related to the amount we received for agreeing to the existing National CineMedia exhibitor services agreement modification and amounts recorded in connection with the receipt of newly issued common units of National CineMedia pursuant to the provisions of the Common Unit Adjustment Agreement are described below in this Note&#160;2 under \"Deferred Revenue\" and in Note&#160;4&#8212;\"Investments.\" The Company recognizes revenue associated with discount tickets and gift cards when redeemed, or when the likelihood of redemption becomes remote. The determination of the likelihood of redemption is based on an analysis of actual historical redemption trends.  </font></div></div>"
      ],
      "text/plain": [
       "<IPython.core.display.HTML object>"
      ]
     },
     "metadata": {},
     "output_type": "display_data"
    },
    {
     "data": {
      "text/html": [
       "<h1>Watermark Group, Inc.</h2><p style=\"margin: 0; text-align: justify\"><font style=\"font: 10pt Times New Roman, Times, Serif\">For revenue\r",
       "from product sales, the Company will recognize revenue in accordance with Staff Accounting Bulletin No. 104, &#34;Revenue Recognition&#34;\r",
       "(SAB No. 104), which superseded Staff Accounting Bulletin No. 101, &#34;Revenue Recognition in Financial Statements&#34; (SAB\r",
       "No. 101). SAB No. 104 requires that four basic criteria must be met before revenue can be recognized: (1) persuasive evidence\r",
       "of an arrangement exists; (2) delivery has occurred; (3) the selling price is fixed and determinable; and (4) collectibility is\r",
       "reasonably assured. Determination of criteria (3) and (4) are based on management's judgment regarding the fixed nature of the\r",
       "selling prices of the products delivered and the collectibility of those amounts. Provisions for discounts and rebates to customers,\r",
       "estimated returns and allowances, and other adjustments will be provided for in the same period the related sales are recorded.</font></p>"
      ],
      "text/plain": [
       "<IPython.core.display.HTML object>"
      ]
     },
     "metadata": {},
     "output_type": "display_data"
    },
    {
     "data": {
      "text/html": [
       "<h1>World Wrestling Entertainmentinc</h2><div> <div style=\"margin-left:0pt;margin-right:0pt;\">\n",
       "\t\t<p style=\"margin:10pt 0pt 0pt;text-indent:27pt;text-align:justify;text-justify:inter-ideograph;font-family:Times New Roman;font-size: 10pt\">\n",
       "\t\t\t<font style=\"display: inline;font-style:italic;\">Revenue Recognition</font><font style=\"display: inline;\"> &#x2014; Revenues are generally recognized when products are shipped or as services are performed. However, due to the nature of several of our business lines, there are additional steps in the revenue recognition process, as described below.</font>\n",
       "\t\t</p>\n",
       "\t\t<div style=\"width:100%\"><table style=\"width:100%;\" cellpadding=\"0\" cellspacing=\"0\"><tr><td style=\"width:24pt;\"><p style=\"width:24pt;font-size:0pt;\"></td><td valign=\"top\" align=\"left\" style=\"width: 20.00pt; display: inline;\">\n",
       "\t\t\t<p style=\"font-family:Times New Roman;font-size: 10pt;margin:6pt 0pt 0pt;\">\n",
       "\t\t\t\t<font style=\"margin:6pt 0pt 0pt;font-family:Symbol;font-size:8pt;;\"> &#xB7;</font>\n",
       "\t\t\t</p>\n",
       "\t\t</td><td style=\"width:4pt;\"><p style=\"width:4pt;width:4pt;font-size:0pt;\"></td><td align=\"left\" valign=\"top\">\n",
       "\t\t\t<p style=\"font-family:Times New Roman;font-size: 10pt;margin:6pt 0pt 0pt;\">\n",
       "\t\t\t<font style=\"display: inline;color:#000000;\">WWE Network Subscriptions:</font></p></td></tr></table></div>\n",
       "\t\t<p style=\"margin:10pt 0pt 0pt;text-indent:24.5pt;text-align:justify;text-justify:inter-ideograph;font-family:Times New Roman;font-size: 10pt\">\n",
       "\t\t\t<font style=\"display: inline;color:#000000;\">Revenues are recognized ratably over each </font><font style=\"display: inline;color:#000000;\">paid </font><font style=\"display: inline;color:#000000;\">monthly membership period. Deferred revenue consists of </font><font style=\"display: inline;color:#000000;\">subscription</font><font style=\"display: inline;color:#000000;\"> fees billed to members that have not been recognized and gift memberships that have not been redeemed.</font>\n",
       "\t\t</p>\n",
       "\t\t<div style=\"width:100%\"><table style=\"width:100%;\" cellpadding=\"0\" cellspacing=\"0\"><tr><td style=\"width:24pt;\"><p style=\"width:24pt;font-size:0pt;\"></td><td valign=\"top\" align=\"left\" style=\"width: 20.00pt; display: inline;\">\n",
       "\t\t\t<p style=\"font-family:Times New Roman;font-size: 10pt;margin:6pt 0pt 0pt;\">\n",
       "\t\t\t\t<font style=\"margin:6pt 0pt 0pt;font-family:Symbol;font-size:8pt;;\"> &#xB7;</font>\n",
       "\t\t\t</p>\n",
       "\t\t</td><td style=\"width:4pt;\"><p style=\"width:4pt;width:4pt;font-size:0pt;\"></td><td align=\"left\" valign=\"top\">\n",
       "\t\t\t<p style=\"font-family:Times New Roman;font-size: 10pt;margin:6pt 0pt 0pt;\">\n",
       "\t\t\t<font style=\"display: inline;color:#000000;\">Pay-per-view programming:</font></p></td></tr></table></div>\n",
       "\t\t<p style=\"margin:10pt 0pt 0pt;text-indent:27pt;text-align:justify;text-justify:inter-ideograph;font-family:Times New Roman;font-size: 10pt\">\n",
       "\t\t\t<font style=\"display: inline;color:#000000;\">Revenues from our pay-per-view programming are recorded when the event is aired and are based upon our initial estimate of the number of buys achieved. This initial estimate is based on preliminary buy information received from our pay-per-view distributors. Final reconciliation of the pay-per-view buys generally occurs within </font><font style=\"display: inline;color:#000000;\">one</font><font style=\"display: inline;color:#000000;\"> year and any subsequent adjustments to the buys are recognized in the period new information is received.</font>\n",
       "\t\t</p>\n",
       "\t\t<div style=\"width:100%\"><table style=\"width:100%;\" cellpadding=\"0\" cellspacing=\"0\"><tr><td style=\"width:24pt;\"><p style=\"width:24pt;font-size:0pt;\"></td><td valign=\"top\" align=\"left\" style=\"width: 20.00pt; display: inline;\">\n",
       "\t\t\t<p style=\"font-family:Times New Roman;font-size: 10pt;margin:6pt 0pt 0pt;\">\n",
       "\t\t\t\t<font style=\"margin:6pt 0pt 0pt;font-family:Symbol;font-size:8pt;;\"> &#xB7;</font>\n",
       "\t\t\t</p>\n",
       "\t\t</td><td style=\"width:4pt;\"><p style=\"width:4pt;width:4pt;font-size:0pt;\"></td><td align=\"left\" valign=\"top\">\n",
       "\t\t\t<p style=\"font-family:Times New Roman;font-size: 10pt;margin:6pt 0pt 0pt;\">\n",
       "\t\t\t<font style=\"display: inline;color:#000000;\">Sponsorships:</font></p></td></tr></table></div>\n",
       "\t\t<p style=\"margin:10pt 0pt 0pt;text-indent:27pt;text-align:justify;text-justify:inter-ideograph;font-family:Times New Roman;font-size: 10pt\">\n",
       "\t\t\t<font style=\"display: inline;color:#000000;\">Through our sponsorship packages, we offer advertisers a full range of our promotional vehicles, including online and print advertising, on-air announcements and special appearances by our Superstars</font><font style=\"display: inline;color:#000000;\"> and Divas</font><font style=\"display: inline;color:#000000;\">. We allocate revenue to all deliverables contained within a sponsorship arrangement based upon their relative selling price. In most instances, we determine relative selling price used for allocating revenue to a specific deliverable using vendor specific objective evidence (\"VSOE\"). VSOE is the selling price that a vendor charges when it sells similar products or services on a stand-alone basis.&nbsp;&nbsp;After allocating revenue to each deliverable, we recognize revenue from our sponsorship arrangements when each element is delivered.</font>\n",
       "\t\t</p>\n",
       "\t\t<div style=\"width:100%\"><table style=\"width:100%;\" cellpadding=\"0\" cellspacing=\"0\"><tr><td style=\"width:24pt;\"><p style=\"width:24pt;font-size:0pt;\"></td><td valign=\"top\" align=\"left\" style=\"width: 20.00pt; display: inline;\">\n",
       "\t\t\t<p style=\"font-family:Times New Roman;font-size: 10pt;margin:6pt 0pt 0pt;\">\n",
       "\t\t\t\t<font style=\"margin:6pt 0pt 0pt;font-family:Symbol;font-size:8pt;;\"> &#xB7;</font>\n",
       "\t\t\t</p>\n",
       "\t\t</td><td style=\"width:4pt;\"><p style=\"width:4pt;width:4pt;font-size:0pt;\"></td><td align=\"left\" valign=\"top\">\n",
       "\t\t\t<p style=\"font-family:Times New Roman;font-size: 10pt;margin:6pt 0pt 0pt;\">\n",
       "\t\t\t<font style=\"display: inline;color:#000000;\">Licensing:</font></p></td></tr></table></div>\n",
       "\t\t<p style=\"margin:10pt 0pt 0pt;text-indent:27pt;text-align:justify;text-justify:inter-ideograph;font-family:Times New Roman;font-size: 10pt\">\n",
       "\t\t\t<font style=\"display: inline;color:#000000;\">Revenues from our licensed products are recognized upon receipt of reports from the individual licensees that detail the royalties generated by related product sales. If we receive licensing advances, such payments are recorded as deferred revenue and are recognized as income when earned.</font>\n",
       "\t\t</p>\n",
       "\t\t<div style=\"width:100%\"><table style=\"width:100%;\" cellpadding=\"0\" cellspacing=\"0\"><tr><td style=\"width:24pt;\"><p style=\"width:24pt;font-size:0pt;\"></td><td valign=\"top\" align=\"left\" style=\"width: 20.00pt; display: inline;\">\n",
       "\t\t\t<p style=\"font-family:Times New Roman;font-size: 10pt;margin:6pt 0pt 0pt;\">\n",
       "\t\t\t\t<font style=\"margin:6pt 0pt 0pt;font-family:Symbol;font-size:8pt;;\"> &#xB7;</font>\n",
       "\t\t\t</p>\n",
       "\t\t</td><td style=\"width:4pt;\"><p style=\"width:4pt;width:4pt;font-size:0pt;\"></td><td align=\"left\" valign=\"top\">\n",
       "\t\t\t<p style=\"font-family:Times New Roman;font-size: 10pt;margin:6pt 0pt 0pt;\">\n",
       "\t\t\t<font style=\"display: inline;color:#000000;\">Home entertainment:</font></p></td></tr></table></div>\n",
       "\t\t<p style=\"margin:10pt 0pt 0pt;text-indent:27pt;text-align:justify;text-justify:inter-ideograph;font-family:Times New Roman;font-size: 10pt\">\n",
       "\t\t\t<font style=\"display: inline;color:#000000;\">Revenues from the sales of home video titles are recorded net of an allowance for estimated returns, at the later of delivery by our distributor to retailers, or the date that these products are made widely available for sale by retailers. The allowance for estimated returns is based on historical information, current industry trends and demand for our titles.</font>\n",
       "\t\t</p>\n",
       "\t\t<div style=\"width:100%\"><table style=\"width:100%;\" cellpadding=\"0\" cellspacing=\"0\"><tr><td style=\"width:24pt;\"><p style=\"width:24pt;font-size:0pt;\"></td><td valign=\"top\" align=\"left\" style=\"width: 20.00pt; display: inline;\">\n",
       "\t\t\t<p style=\"font-family:Times New Roman;font-size: 10pt;margin:6pt 0pt 0pt;\">\n",
       "\t\t\t\t<font style=\"margin:6pt 0pt 0pt;font-family:Symbol;font-size:8pt;;\"> &#xB7;</font>\n",
       "\t\t\t</p>\n",
       "\t\t</td><td style=\"width:4pt;\"><p style=\"width:4pt;width:4pt;font-size:0pt;\"></td><td align=\"left\" valign=\"top\">\n",
       "\t\t\t<p style=\"font-family:Times New Roman;font-size: 10pt;margin:6pt 0pt 0pt;\">\n",
       "\t\t\t<font style=\"display: inline;color:#000000;\">TV rights:</font></p></td></tr></table></div>\n",
       "\t\t<p style=\"margin:10pt 0pt 0pt;text-indent:27pt;text-align:justify;text-justify:inter-ideograph;font-family:Times New Roman;font-size: 10pt\">\n",
       "\t\t\t<font style=\"display: inline;color:#000000;\">Rights fees received from distributors of our television programming, both domestically and internationally, are recorded when the program has been delivered to the distributor and is available for exhibition. Our typical distribution agreement is between </font><font style=\"display: inline;color:#000000;\">one</font><font style=\"display: inline;color:#000000;\"> and </font><font style=\"display: inline;color:#000000;\">five</font><font style=\"display: inline;color:#000000;\"> years in length and frequently provides for contractual increases over its term. Expenses incurred in the production of our weekly television programming are expensed when the programming is first available for exhibition.</font>\n",
       "\t\t</p>\n",
       "\t\t<p style=\"margin:10pt 0pt 0pt;text-indent:27pt;text-align:justify;text-justify:inter-ideograph;font-family:Times New Roman;font-size: 10pt\">\n",
       "\t\t\t<font style=\"display: inline;color:#000000;\">Included in deferred income </font><font style=\"display: inline;color:#000000;\">as of December 31, 2015 and </font><font style=\"display: inline;color:#000000;\">2014 is </font><font style=\"display: inline;color:#000000;\" data-cbfactid=\"111383469\">$46.2</font><font style=\"display: inline;color:#000000;\"> million</font><font style=\"display: inline;color:#000000;\"> and</font><font style=\"display: inline;color:#000000;\">&nbsp;</font><font style=\"display: inline;color:#000000;\" data-cbfactid=\"111383467\">$50.0</font><font style=\"display: inline;color:#000000;\"> million</font><font style=\"display: inline;color:#000000;\">, respectively,</font><font style=\"display: inline;color:#000000;\"> related to an advance payment associated with our domestic television rights deal.</font>\n",
       "\t\t</p>\n",
       "\t\t<div style=\"width:100%\"><table style=\"width:100%;\" cellpadding=\"0\" cellspacing=\"0\"><tr><td style=\"width:24pt;\"><p style=\"width:24pt;font-size:0pt;\"></td><td valign=\"top\" align=\"left\" style=\"width: 20.00pt; display: inline;\">\n",
       "\t\t\t<p style=\"font-family:Times New Roman;font-size: 10pt;margin:6pt 0pt 0pt;\">\n",
       "\t\t\t\t<font style=\"margin:6pt 0pt 0pt;font-family:Symbol;font-size:8pt;;\"> &#xB7;</font>\n",
       "\t\t\t</p>\n",
       "\t\t</td><td style=\"width:4pt;\"><p style=\"width:4pt;width:4pt;font-size:0pt;\"></td><td align=\"left\" valign=\"top\">\n",
       "\t\t\t<p style=\"font-family:Times New Roman;font-size: 10pt;margin:6pt 0pt 0pt;\">\n",
       "\t\t\t<font style=\"display: inline;color:#000000;\">Films:</font></p></td></tr></table></div>\n",
       "\t\t<p style=\"margin:0pt;font-family:Times New Roman;font-size: 10pt\">\n",
       "\t\t\t<font style=\"display: inline;color:#000000;\">Revenue recognition for our feature films varies depending on the method of distribution and the extent of control the Company exercises over the distribution and related expenses. We exercise significant control over our self-distributed films and as a result, we record distribution revenue and related expenses on a gross basis in our financial statements. Third-party distribution partners control the distribution and marketing of our </font><font style=\"display: inline;color:#000000;\">co-distributed</font><font style=\"display: inline;color:#000000;\"> films, and as a result, we recognize revenue on a net basis after the third-party distributor recoups distribution fees and expenses and results </font><font style=\"display: inline;color:#000000;\">are</font><font style=\"display: inline;color:#000000;\"> reported to us. This typically occurs in periods subsequent to the initial release of the film. Revenues generated from our films through the various distribution channels, including home video, video-on-demand and television are recognized consistent with the policies described above.</font>\n",
       "\t\t</p>\n",
       "\t\t<p><font size=\"1\"> </font></p>\n",
       "\t</div> </div>"
      ],
      "text/plain": [
       "<IPython.core.display.HTML object>"
      ]
     },
     "metadata": {},
     "output_type": "display_data"
    },
    {
     "data": {
      "text/html": [
       "<h1>Writ Media Group, Inc.</h2><p style=\"font: 10pt Times New Roman, Times, Serif; margin: 0; text-align: justify\"><font style=\"font: 10pt Times New Roman, Times, Serif\">The\r",
       "Company follows revenue recognition in two industries, technology and film.</font></p>\r",
       "\r",
       "<p style=\"font: 10pt Times New Roman, Times, Serif; margin: 0; text-align: justify; text-indent: 0.5in\"><font style=\"font: 10pt Times New Roman, Times, Serif\">&#160;</font></p>\r",
       "\r",
       "<p style=\"font: 10pt Times New Roman, Times, Serif; margin: 0; text-align: justify\"><font style=\"font: 10pt Times New Roman, Times, Serif\">Revenue\r",
       "is measured at the fair value of the consideration received or receivable net of sales tax, trade discounts and customer returns.</font></p>"
      ],
      "text/plain": [
       "<IPython.core.display.HTML object>"
      ]
     },
     "metadata": {},
     "output_type": "display_data"
    }
   ],
   "source": [
    "for result in revenue_recognition_results:\n",
    "    display(HTML('<h1>{0}</h2>'.format(result['entity_name']) + cb.tag_contents(accession_id=result['accession_id'], block_tag_name=\"RevenueRecognitionPolicyTextBlock\")))"
   ]
  },
  {
   "cell_type": "code",
   "execution_count": null,
   "metadata": {
    "collapsed": true
   },
   "outputs": [],
   "source": []
  }
 ],
 "metadata": {
  "kernelspec": {
   "display_name": "Python 3",
   "language": "python",
   "name": "python3"
  },
  "language_info": {
   "codemirror_mode": {
    "name": "ipython",
    "version": 3
   },
   "file_extension": ".py",
   "mimetype": "text/x-python",
   "name": "python",
   "nbconvert_exporter": "python",
   "pygments_lexer": "ipython3",
   "version": "3.5.1"
  }
 },
 "nbformat": 4,
 "nbformat_minor": 0
}
