{
 "cells": [
  {
   "cell_type": "markdown",
   "metadata": {},
   "source": [
    "# Getting revenue recognition text blocks"
   ]
  },
  {
   "cell_type": "markdown",
   "metadata": {},
   "source": [
    "Use the Calcbench API to get movie company's revenue recognition policies.  More about the API @ https://www.calcbench.com/home/api, get the Calcbench Python API client @ https://github.com/calcbench/python_api_client."
   ]
  },
  {
   "cell_type": "code",
   "execution_count": 26,
   "metadata": {
    "collapsed": false
   },
   "outputs": [],
   "source": [
    "import calcbench as cb\n",
    "import itertools\n",
    "from operator import itemgetter\n",
    "from IPython.core.display import display, HTML\n",
    "import csv"
   ]
  },
  {
   "cell_type": "code",
   "execution_count": 2,
   "metadata": {
    "collapsed": false
   },
   "outputs": [],
   "source": [
    "motion_picture_companies = cb.tickers(SIC_codes=[7800])"
   ]
  },
  {
   "cell_type": "code",
   "execution_count": 21,
   "metadata": {
    "collapsed": false
   },
   "outputs": [],
   "source": [
    "revenue_recognition_results = []\n",
    "for year in range(2009, 2016):\n",
    "    revenue_recognition_results.extend(cb.document_search(company_identifiers=motion_picture_companies,\n",
    "                                             block_tag_name=\"RevenueRecognitionPolicyTextBlock\",                                              \n",
    "                                             year=year, \n",
    "                                             period=0))"
   ]
  },
  {
   "cell_type": "code",
   "execution_count": 25,
   "metadata": {
    "collapsed": true
   },
   "outputs": [
    {
     "data": {
      "text/html": [
       "<h1>China Media Inc. - Fiscal Year 2012</h1><!--egx--><p style='margin-top:0in;margin-right:0in;margin-bottom:10.0pt;margin-left:0in;line-height:115%;margin-bottom:0in;margin-bottom:.0001pt;line-height:normal'><b><i>Revenue Recognition</i></b></p> <p style='margin-top:0in;margin-right:0in;margin-bottom:10.0pt;margin-left:0in;line-height:115%;margin-bottom:0in;margin-bottom:.0001pt;line-height:normal'>&nbsp;</p> <p style='margin-top:0in;margin-right:0in;margin-bottom:10.0pt;margin-left:0in;line-height:115%;margin-bottom:0in;margin-bottom:.0001pt;text-align:justify;text-justify:inter-ideograph;line-height:normal'>The Company&#146;s revenue primarily comes from the distribution of film and TV series&#146; broadcasting rights and investment return from the collectively produced film and TV series.</p> <p style='margin-top:0in;margin-right:0in;margin-bottom:10.0pt;margin-left:0in;line-height:115%;margin-bottom:0in;margin-bottom:.0001pt;text-align:justify;text-justify:inter-ideograph;line-height:normal'>&nbsp;</p> <p style='margin-top:0in;margin-right:0in;margin-bottom:10.0pt;margin-left:0in;line-height:115%;margin-bottom:0in;margin-bottom:.0001pt;text-align:justify;text-justify:inter-ideograph;line-height:normal'>In accordance with ASC 926, Entertainment - Films, revenue from sale or licensing arrangements of a film shall be recognized when the following five revenue criteria are met: persuasive evidence of an arrangement exists, the film is completed and delivery has occurred, the license period of the arrangement has begun, the selling price is fixed or determinable, and collectability is reasonably assured. </p> <p style='margin-top:0in;margin-right:0in;margin-bottom:10.0pt;margin-left:0in;line-height:115%;margin-bottom:0in;margin-bottom:.0001pt;text-align:justify;text-justify:inter-ideograph;line-height:normal'>&nbsp;</p> <p style='margin-top:0in;margin-right:0in;margin-bottom:10.0pt;margin-left:0in;line-height:115%;margin-bottom:0in;margin-bottom:.0001pt;text-align:justify;text-justify:inter-ideograph;line-height:normal'>The Company also generates advertising revenues from the sale of advertising services. In the majority of advertising arrangements, the Company acts as an agent in the transaction and records advertising revenues on a net basis. Customer payments received in advance of the performance of services are recorded as deferred revenue in the consolidated balance sheet, and are recognized as revenue when the advertising services are rendered.</p>"
      ],
      "text/plain": [
       "<IPython.core.display.HTML object>"
      ]
     },
     "metadata": {},
     "output_type": "display_data"
    },
    {
     "data": {
      "text/html": [
       "<h1>Crown City Pictures, INC. - Fiscal Year 2011</h1><!--egx--><p style=\"MARGIN:0in 0in 0pt\"><b><font style=\"FONT-SIZE:10pt\">Revenue Recognition</font></b></p> <p style=\"MARGIN:0in 0in 0pt\"><b><font style=\"FONT-SIZE:10pt\">&nbsp;</font></b></p> <p style=\"MARGIN:0in 0in 0pt\"><font style=\"FONT-SIZE:10pt\">The Company recognizes revenue in accordance with FASB ASC 926-605 on revenue recognition for entertainment films. Revenue from the sale of film and television programming rights and license arrangements will be recognized only when persuasive evidence of a sale or arrangement with a customer exists, the project is complete, the contractual delivery arrangements have been satisfied, the license period has commenced if applicable, the arrangement fee is fixed or determinable, collection of the arrangement fee is reasonably assured, and other conditions as specified in the respective agreements have been met.</font></p> <p style=\"MARGIN:0in 0in 0pt\"><font style=\"FONT-SIZE:10pt\">&nbsp;</font></p> <p style=\"MARGIN:0in 0in 0pt\"><font style=\"FONT-SIZE:10pt\">Revenue from production services for third parties is recognized when the production is completed and delivered. All associated production costs are deferred and charged against income when the film is delivered and the related revenue is recognized.</font></p> <p style=\"MARGIN:0in 0in 0pt\"><font style=\"FONT-SIZE:10pt\">&nbsp;</font></p> <p style=\"MARGIN:0in 0in 0pt\"><font style=\"FONT-SIZE:10pt\">Fees for other services provided to third parties are recognized as revenues when the services are performed and there is reasonable assurance over the collection of the fees.</font></p> <p style=\"MARGIN:0in 0in 0pt\"><font style=\"FONT-SIZE:10pt\">&nbsp;</font></p> <p style=\"MARGIN:0in 0in 0pt\"><font style=\"FONT-SIZE:10pt\">Cash received in advance of meeting the revenue recognition criteria described above is recorded as deferred revenue.</font></p> <p style=\"MARGIN:0in 0in 0pt\"><font style=\"FONT-SIZE:10pt\">&nbsp;</font></p>"
      ],
      "text/plain": [
       "<IPython.core.display.HTML object>"
      ]
     },
     "metadata": {},
     "output_type": "display_data"
    },
    {
     "data": {
      "text/html": [
       "<h1>Digital Cinema Destinations Corp. - Fiscal Year 2012</h1><p style=\"margin: 0pt\">\r",
       "\r",
       "<p style=\"font: 8pt/normal Times New Roman, Times, Serif; margin: 0\"><b><i>Revenue Recognition</i></b></p>\r",
       "\r",
       "<p style=\"font: 8pt/normal Times New Roman, Times, Serif; margin: 0\">&#160;</p>\r",
       "\r",
       "<p style=\"font: 8pt/normal Times New Roman, Times, Serif; margin: 0; text-indent: 0.5in\">Revenues are generated principally through\r",
       "admissions and concessions sales on feature film displays, with proceeds received in cash or credit card at the Companies&#146;\r",
       "point of sale terminal at the Theatres.&#160;&#160;Revenue is recognized at the point of sale. Credit card sales are normally settled\r",
       "in cash within approximately three business days from the point of sale, and any credit card chargebacks have been insignificant.\r",
       "Other revenue consists of theatre rentals for parties, camps, civic groups and other activities, advertising revenue under our\r",
       "advertising contract and our portion of game income, ATM fees and internet ticketing fees. Rental revenue is recognized at the\r",
       "time of the rental.&#160;&#160;Advertising revenue is recorded based on an expected per-patron amount and the number of patrons\r",
       "over the contract period as the advertising is being delivered on screen. Other revenue items are recognized as earned in the period.&#160;&#160;In\r",
       "addition to traditional feature films, the Successor also displays concerts, sporting events, children&#146;s programming and\r",
       "other non-traditional content on their screens (such content referred to herein as &#147;alternative content&#148;).&#160;&#160;Revenue\r",
       "from alternative content programming also consists of admissions and concession sales. The Companies also sell theatre admissions\r",
       "in advance of the applicable event, and sells gift cards for patrons&#146; future use. The Companies defer the revenue from such\r",
       "sales until considered redeemed.</p>\r",
       "\r",
       "\r",
       "\r",
       "<p style=\"margin: 0pt\">&#160;</p>"
      ],
      "text/plain": [
       "<IPython.core.display.HTML object>"
      ]
     },
     "metadata": {},
     "output_type": "display_data"
    },
    {
     "data": {
      "text/html": [
       "<h1>DreamWorks Animation SKG, Inc. - Fiscal Year 2011</h1><div style=\"font-family:Times New Roman;font-size:10pt;\"><div style=\"line-height:120%;font-size:10pt;\"><font style=\"font-family:inherit;font-size:10pt;font-style:italic;font-weight:bold;\">Revenue Recognition</font></div><div style=\"line-height:120%;font-size:8pt;\"><font style=\"font-family:inherit;font-size:8pt;\">&#160;</font></div><div style=\"line-height:120%;text-indent:36px;font-size:10pt;\"><font style=\"font-family:inherit;font-size:10pt;\">The Company recognizes revenue from the distribution of its animated feature films when earned and reported to it by its distributor and fulfillment services provider. Pursuant to the Paramount Agreements, the Company recognizes revenues derived from its feature films net of reserves for returns, rebates and other incentives after Paramount has (i)&#160;retained a distribution fee of </font><font style=\"font-family:inherit;font-size:10pt;color:#000000;text-decoration:none;\" data-cbfactid=\"14955091\">8.0%</font><font style=\"font-family:inherit;font-size:10pt;\"> of revenue (without deduction of any distribution and marketing costs or third-party distribution and fulfillment services fees) and (ii)&#160;recovered all of its distribution and marketing costs with respect to the Company&#8217;s films on a title by title basis. Prior to April&#160;1, 2010, Paramount reported the Company&#8217;s international home entertainment results on a 30-day lag. The Company eliminated this 30-day lag effective April&#160;1, 2010, and as such, the results from the Company&#8217;s December 2010 international home entertainment releases, which previously would have been recorded in January 2011 were included in the Company&#8217;s results for the year ended December&#160;31, 2010. This change in reporting resulted in </font><font style=\"font-family:inherit;font-size:10pt;color:#000000;text-decoration:none;\"><span data-cbfactid=\"14955064\">$27.1</span> million</font><font style=\"font-family:inherit;font-size:10pt;\"> of additional revenue, or </font><font style=\"font-family:inherit;font-size:10pt;color:#000000;text-decoration:none;\" data-cbfactid=\"14955062\">$0.10</font><font style=\"font-family:inherit;font-size:10pt;\"> of diluted net income per share, during the three months ended December&#160;31, 2010. For the 12 months ended December&#160;31, 2010, this change resulted in </font><font style=\"font-family:inherit;font-size:10pt;color:#000000;text-decoration:none;\"><span data-cbfactid=\"14955065\">$28.6</span> million</font><font style=\"font-family:inherit;font-size:10pt;\"> of additional revenue, or </font><font style=\"font-family:inherit;font-size:10pt;color:#000000;text-decoration:none;\" data-cbfactid=\"14955063\">$0.11</font><font style=\"font-family:inherit;font-size:10pt;\"> of diluted net income per share.</font></div><div style=\"line-height:120%;text-indent:48px;font-size:10pt;\"><font style=\"font-family:inherit;font-size:10pt;\">&#160;&#160;&#160;&#160;</font></div><div style=\"line-height:120%;text-indent:36px;font-size:10pt;\"><font style=\"font-family:inherit;font-size:10pt;\">Additionally, because a third party, Paramount, is the principal distributor of the Company&#8217;s films, the amount of revenue that is recognized from films in any given period is dependent on the timing, accuracy and sufficiency of the information received from Paramount. As is typical in the film industry, Paramount may make adjustments in future periods to information previously provided to the Company that could have a material impact on the Company&#8217;s operating results in later periods. Furthermore, management may, in its judgment, make material adjustments to the information reported by Paramount to ensure that revenues are accurately reflected in the Company&#8217;s financial statements. To date, Paramount has not made, nor has the Company made, material adjustments to information provided by Paramount and used in the preparation of the Company&#8217;s historical financial statements.</font></div><div style=\"line-height:120%;text-indent:36px;font-size:8pt;\"><font style=\"font-family:inherit;font-size:8pt;\">&#160;</font></div><div style=\"line-height:120%;text-indent:36px;font-size:10pt;\"><font style=\"font-family:inherit;font-size:10pt;\">Revenue from the theatrical exhibition of films is recognized at the later of when a film is exhibited in theaters or when revenue is reported by Paramount.</font></div><div style=\"line-height:120%;text-indent:36px;font-size:8pt;\"><font style=\"font-family:inherit;font-size:8pt;\">&#160;</font></div><div style=\"line-height:120%;text-indent:36px;font-size:10pt;\"><font style=\"font-family:inherit;font-size:10pt;\">Revenue from the sale of feature film home video units is recognized at the later of when product is made available for retail sale and&#160;when sales to customers are reported by third parties, such as fulfillment service providers or sub-distributors. The Company and its fulfillment services provider provide for future returns of home entertainment product and for customer programs and sales incentives. Management calculates these estimates by analyzing a combination of historical returns, current economic trends, projections of consumer demand for the Company&#8217;s product and point-of-sale data available from certain retailers. Based on this information, a percentage of each sale is reserved. Customers are typically given varying rights of return, which may include <span data-cbfactid=\"-1\" data-cbnumtext=\"100%\">100%</span> return rights. Although the Company and its fulfillment services provider allow various rights of return for customers, management does not believe that these rights are critical in establishing return estimates, because other factors, such as historical experience with similar types of sales, information received from retailers and management&#8217;s assessment of the product&#8217;s appeal based on domestic box office success and other research, are more important to the estimation process.</font><font style=\"font-family:inherit;font-size:10pt;background-color:#ffffff;font-weight:bold;\"> </font></div><div style=\"line-height:120%;text-indent:36px;font-size:8pt;\"><font style=\"font-family:inherit;font-size:8pt;\">&#160;</font></div><div style=\"line-height:120%;text-indent:36px;font-size:10pt;\"><font style=\"font-family:inherit;font-size:10pt;\">Revenue from both free and pay television licensing agreements for the Company&#8217;s films is recognized at the later of the time the production is made available for exhibition in those markets or it is reported by Paramount. Additionally, the Company's television specials/series are also distributed in the television markets through license arrangements. Such revenues are recorded on a gross basis as they are not typically subject to the distribution arrangement with Paramount. Television market revenue generated from television specials/series is recognized at the later of the time when the content has been delivered to the licensee or the commencement of the license term.</font></div><div style=\"line-height:120%;font-size:8pt;\"><font style=\"font-family:inherit;font-size:8pt;\">&#160;</font></div><div style=\"line-height:120%;text-indent:36px;font-size:10pt;\"><font style=\"font-family:inherit;font-size:10pt;\">The Company also entered into licensing arrangements directly with third parties to digitally distribute its feature film and television specials/series content. Certain content licensed under these arrangements is subject to the Paramount Agreements, and accordingly, such revenues are recorded net of any distribution fees owed to Paramount (as previously described). However, content not subject to the distribution arrangement with Paramount is recorded on a gross basis. Certain of the Company's arrangements may qualify as multiple deliverable arrangements if the licensee is granted the right to exploit more than one of the Company's titles. The license period for each title under a multiple deliverable arrangement may vary by title. Revenue associated with multiple deliverable arrangements is allocated to each title based on relative selling price. In determining the relative selling price of each title, the Company considers a variety of factors including (but not limited to) the following: the period of time a title has already been exploited in the marketplace, whether the title is a sequel, the duration of the license period being granted, similar arrangements and type of content being licensed. Revenue for each title will be recognized when it is available to the licensee for exploitation.</font></div><div style=\"line-height:120%;text-indent:36px;font-size:8pt;\"><font style=\"font-family:inherit;font-size:8pt;\">&#160;</font></div><div style=\"line-height:120%;text-indent:36px;font-size:10pt;\"><font style=\"font-family:inherit;font-size:10pt;\">Revenue from licensing and merchandising arrangements is recognized when the associated feature film or television special/series has been released and the criteria for revenue recognition have been met. The criteria that the Company uses to evaluate whether it is able to recognize revenue includes the following: persuasive evidence of an arrangement exists, the price is fixed and determinable, delivery has occurred or services have been rendered (including whether the license term has commenced) and collectibility is reasonably assured. Licensing and merchandising related minimum guarantees are generally recognized as revenue upon the theatrical release of a film and royalty-based revenues (revenues based upon a percentage of net sales of the products) are generally recognized as revenue in periods when royalties are reported by licensees or cash is received.</font></div><div style=\"line-height:120%;text-indent:36px;font-size:10pt;\"><font style=\"font-family:inherit;font-size:10pt;\"><br clear=\"none\"></font></div><div style=\"line-height:120%;text-indent:36px;font-size:10pt;\"><font style=\"font-family:inherit;font-size:10pt;\">Long-term, non-interest-bearing receivables arising from licensing agreements are discounted to present value. Accordingly, revenues are recorded net of such discount. Interest income is recognized from the imputation of interest in accordance with the effective interest rate method and and classified as \"Interest income, net\" in the Company's consolidated statements of income.</font></div><div style=\"line-height:120%;text-indent:36px;font-size:10pt;\"><font style=\"font-family:inherit;font-size:10pt;\"><br clear=\"none\"></font></div></div>"
      ],
      "text/plain": [
       "<IPython.core.display.HTML object>"
      ]
     },
     "metadata": {},
     "output_type": "display_data"
    },
    {
     "data": {
      "text/html": [
       "<h1>Lions Gate Entertainment Corp /CN/ - Fiscal Year 2012</h1><div style=\"font-family:Times New Roman;font-size:10pt;\"><div style=\"line-height:120%;padding-top:8px;text-align:left;text-indent:8px;font-size:10pt;\"><font style=\"font-family:inherit;font-size:10pt;font-style:italic;font-weight:bold;\">Revenue Recognition</font></div><div style=\"line-height:120%;padding-top:8px;text-align:left;text-indent:20px;font-size:10pt;\"><font style=\"font-family:inherit;font-size:10pt;\">Revenue from the theatrical release of feature films is recognized at the time of exhibition based on our participation in box office receipts. Revenue from the sale of DVDs/Blu-ray discs in the retail market, net of an allowance for estimated returns and other allowances, is recognized on the later of receipt by the customer or &#8220;street date&#8221; (when it is available for sale by the customer). Under revenue sharing arrangements, rental revenue is recognized when we are entitled to receipts and such receipts are determinable. Revenues from television licensing are recognized when the feature film or television program is available to the licensee for telecast. For television licenses that include separate availability &#8220;windows&#8221; during the license period, revenue is allocated over the &#8220;windows.&#8221; Revenue from sales to international territories are recognized when access to the feature film or television program has been granted or delivery has occurred, as required under the sales contract, and the right to exploit the feature film or television program has commenced. For multiple media rights contracts with a fee for a single film or television program where the contract provides for media holdbacks (defined as contractual media release restrictions), the fee is allocated to the various media based on our assessment of the relative fair value of the rights to exploit each media and is recognized as each holdback is released. For multiple-title contracts with a fee, the fee is allocated on a title-by-title basis, based on our assessment of the relative fair value of each title.</font></div><div style=\"line-height:120%;padding-top:8px;text-align:left;text-indent:20px;font-size:10pt;\"><font style=\"font-family:inherit;font-size:10pt;\">Cash payments received are recorded as deferred revenue until all the conditions of revenue recognition have been met. Long-term, non-interest bearing receivables are discounted to present value.</font></div></div>"
      ],
      "text/plain": [
       "<IPython.core.display.HTML object>"
      ]
     },
     "metadata": {},
     "output_type": "display_data"
    },
    {
     "data": {
      "text/html": [
       "<h1>Netflix Inc - Fiscal Year 2011</h1><div> <div>\n",
       "\n",
       "<p style=\"margin-top: 18px; margin-bottom: 0px;\"><font style=\"font-family: Times New Roman;\" class=\"_mt\" size=\"2\"><b><i>Revenue Recognition </i></b></font></p>\n",
       "\n",
       "<p style=\"margin-top: 6px; text-indent: 32px; margin-bottom: 0px;\"><font style=\"font-family: Times New Roman;\" class=\"_mt\" size=\"2\">Subscription revenues are recognized ratably over each subscriber's monthly subscription period. Revenues are presented net of the taxes that are collected from customers and remitted to governmental authorities. Deferred revenue consists of subscriptions revenues billed to subscribers that have not been recognized and gift subscriptions that have not been redeemed.</font></p></div> </div>"
      ],
      "text/plain": [
       "<IPython.core.display.HTML object>"
      ]
     },
     "metadata": {},
     "output_type": "display_data"
    },
    {
     "data": {
      "text/html": [
       "<h1>Regal Entertainment Group - Fiscal Year 2011</h1><table style=\"font-size:10pt; font-family:'Times New Roman',times,serif;\">\n",
       "<tr>\n",
       "<td><font size=\"2\">&#160;&#160;&#160;&#160;&#160;&#160;&#160;&#160;Revenues are generated principally through admissions and concessions sales with proceeds received in cash or via credit card at the point of sale. Other operating revenues consist primarily of product advertising (including vendor marketing programs) and other ancillary revenues that are recognized as income in the period earned. The Company generally recognizes payments received attributable to the marketing and advertising services provided by the Company under certain vendor programs as revenue in the period in which the related impressions are delivered. Such impressions are measured by the concession product sales volume, which is a mutually agreed upon proxy of attendance and reflects the Company's marketing and advertising services delivered to its vendors. In instances where the consideration received is in excess of fair value of the advertising services provided, the excess is recorded as a reduction of concession costs. Proceeds received from advance ticket sales and gift cards are recorded as deferred revenue. The Company recognizes revenue associated with gift cards and advanced ticket sales at such time as the items are redeemed, or when redemption becomes unlikely. The determination of the likelihood of redemption is based on an analysis of the Company's historical redemption trends.</font></td></tr></table>\n"
      ],
      "text/plain": [
       "<IPython.core.display.HTML object>"
      ]
     },
     "metadata": {},
     "output_type": "display_data"
    },
    {
     "data": {
      "text/html": [
       "<h1>Seven Arts Entertainment Inc. - Fiscal Year 2012</h1><p style=\"margin: 0pt; font: 8pt Times New Roman, Times, Serif\"><font style=\"font: 8pt Times New Roman, Times, Serif\">&#160;</font></p>\r",
       "\r",
       "<p style=\"font: 8pt Times New Roman, Times, Serif; margin: 0; text-align: justify\"><font style=\"font: 8pt Times New Roman, Times, Serif\"><u>FILMS</u></font></p>\r",
       "\r",
       "<p style=\"font: 8pt Times New Roman, Times, Serif; margin: 0; text-align: justify\"><font style=\"font: 8pt Times New Roman, Times, Serif\">&#160;</font></p>\r",
       "\r",
       "<p style=\"font: 8pt Times New Roman, Times, Serif; margin: 0; text-align: justify\"><font style=\"font: 8pt Times New Roman, Times, Serif\">The\r",
       "Company recognizes revenue from the sale (minimum guarantee or non-refundable advances) or licensing arrangement (royalty agreements)\r",
       "of a film in accordance with ASC 605-15 &#147;<i>Revenue Recognition</i>&#148;. Revenue will be recognized only when all of\r",
       "the following criteria have been met:</font></p>\r",
       "\r",
       "<p style=\"font: 8pt Times New Roman, Times, Serif; margin: 0\"><font style=\"font: 8pt Times New Roman, Times, Serif\">&#160;</font></p>\r",
       "\r",
       "<table cellspacing=\"0\" cellpadding=\"0\" style=\"width: 100%; font: 8pt Times New Roman, Times, Serif\">\r",
       "<tr style=\"vertical-align: top; font: 8pt Times New Roman, Times, Serif\">\r",
       "    <td style=\"width: 7%; font: 8pt Times New Roman, Times, Serif; text-align: center\"><font style=\"font: 8pt Times New Roman, Times, Serif\">a)</font></td>\r",
       "    <td style=\"width: 93%; font: 8pt Times New Roman, Times, Serif\"><font style=\"font: 8pt Times New Roman, Times, Serif\">Persuasive\r",
       "    evidence of a sale or licensing arrangement with a customer exists.</font></td></tr>\r",
       "<tr style=\"vertical-align: top; font: 8pt Times New Roman, Times, Serif\">\r",
       "    <td style=\"font: 8pt Times New Roman, Times, Serif; text-align: center\"><font style=\"font: 8pt Times New Roman, Times, Serif\">b)</font></td>\r",
       "    <td style=\"font: 8pt Times New Roman, Times, Serif\"><font style=\"font: 8pt Times New Roman, Times, Serif\">The film is complete\r",
       "    and, in accordance with the terms of the arrangement, has been delivered or is available for immediate and unconditional delivery.\r",
       "    (i.e. the &#147;notice of delivery&#148; (&#147;NOD&#148;) has been sent and there is a master negative available for\r",
       "    the customer).</font></td></tr>\r",
       "</table>\r",
       "<p style=\"font: 8pt Times New Roman, Times, Serif; margin: 0\"><font style=\"font: 8pt Times New Roman, Times, Serif\">&#160;</font></p>\r",
       "\r",
       "<table cellspacing=\"0\" cellpadding=\"0\" style=\"font: 8pt Times New Roman, Times, Serif; width: 100%\">\r",
       "<tr style=\"vertical-align: top; font: 8pt Times New Roman, Times, Serif\">\r",
       "    <td style=\"width: 7%; text-align: center; font: 8pt Times New Roman, Times, Serif\"><font style=\"font: 8pt Times New Roman, Times, Serif\">c)</font></td>\r",
       "    <td style=\"width: 93%; font: 8pt Times New Roman, Times, Serif\"><font style=\"font: 8pt Times New Roman, Times, Serif\">The\r",
       "    license period of the arrangement has begun and the customer can begin its exploitation, exhibition, or sale.</font></td></tr>\r",
       "<tr style=\"vertical-align: top; font: 8pt Times New Roman, Times, Serif\">\r",
       "    <td style=\"text-align: center; font: 8pt Times New Roman, Times, Serif\"><font style=\"font: 8pt Times New Roman, Times, Serif\">d)</font></td>\r",
       "    <td style=\"font: 8pt Times New Roman, Times, Serif\"><font style=\"font: 8pt Times New Roman, Times, Serif\">The arrangement\r",
       "    fee is fixed or determinable.</font></td></tr>\r",
       "</table>\r",
       "<p style=\"font: 8pt Times New Roman, Times, Serif; margin: 0\"><font style=\"font: 8pt Times New Roman, Times, Serif\">&#160;</font></p>\r",
       "\r",
       "<table cellspacing=\"0\" cellpadding=\"0\" style=\"font: 8pt Times New Roman, Times, Serif; width: 100%\">\r",
       "<tr style=\"vertical-align: top; font: 8pt Times New Roman, Times, Serif\">\r",
       "    <td style=\"width: 7%; text-align: center; font: 8pt Times New Roman, Times, Serif\"><font style=\"font: 8pt Times New Roman, Times, Serif\">e)</font></td>\r",
       "    <td style=\"width: 93%; font: 8pt Times New Roman, Times, Serif\"><font style=\"font: 8pt Times New Roman, Times, Serif\">Collection\r",
       "    of the arrangement fee is reasonably assured.</font></td></tr>\r",
       "</table>\r",
       "<p style=\"font: 8pt Times New Roman, Times, Serif; margin: 0\"><font style=\"font: 8pt Times New Roman, Times, Serif\">&#160;</font></p>\r",
       "\r",
       "<p style=\"font: 8pt Times New Roman, Times, Serif; margin: 0; text-align: justify\"><font style=\"font: 8pt Times New Roman, Times, Serif\">A\r",
       "written agreement with clients (purchase order, letter, contract, etc.), indicating the film name, territory and period is required\r",
       "for the recognition of revenue. Revenue is recognized when the performance criteria in the contracts have been met. The customer\r",
       "generally confirms agreement by their signature on the contract.</font></p>\r",
       "\r",
       "<p style=\"font: 8pt Times New Roman, Times, Serif; margin: 0; text-align: justify\"><font style=\"font: 8pt Times New Roman, Times, Serif\">&#160;</font></p>\r",
       "\r",
       "<p style=\"font: 8pt Times New Roman, Times, Serif; margin: 0; text-align: justify\"><font style=\"font: 8pt Times New Roman, Times, Serif\">Minimum\r",
       "guarantee revenue (i.e., non-refundable advances) is recognized as and when the film is available for delivery to the respective\r",
       "territories. Cash deposits received on the signing of the contracts are recorded as deferred revenue until the film is available\r",
       "for delivery (as described above) at which point the deferred revenue is recognized as revenue. The Company does not recognize\r",
       "any revenues relating to minimum guarantee on any motion picture or related amortization expense on that picture until United\r",
       "States theatrical release if it has agreed with the licensees that delivery or payment of minimum guarantee will be delayed for\r",
       "any material period of time to permit such a theatrical release.</font></p>\r",
       "\r",
       "<p style=\"font: 8pt Times New Roman, Times, Serif; margin: 0; text-align: justify\"><font style=\"font: 8pt Times New Roman, Times, Serif\">&#160;</font></p>\r",
       "\r",
       "<p style=\"font: 8pt Times New Roman, Times, Serif; margin: 0; text-align: justify\"><font style=\"font: 8pt Times New Roman, Times, Serif\">Royalty\r",
       "revenue, which equates to an agreed share of gross receipts of films, is recognized as income as and when the Company is notified\r",
       "of the amounts by the customers through their royalty reports. Revenue is recorded net of any sales or value added taxes charged\r",
       "to customers.</font></p>\r",
       "\r",
       "<p style=\"font: 8pt Times New Roman, Times, Serif; margin: 0\"><font style=\"font: 8pt Times New Roman, Times, Serif\">&#160;&#160;</font></p>\r",
       "\r",
       "<p style=\"font: 8pt Times New Roman, Times, Serif; margin: 0; text-align: justify\"><font style=\"font: 8pt Times New Roman, Times, Serif\"><u>MUSIC</u></font></p>\r",
       "\r",
       "<p style=\"font: 8pt Times New Roman, Times, Serif; margin: 0; text-align: justify\"><font style=\"font: 8pt Times New Roman, Times, Serif\">&#160;</font></p>\r",
       "\r",
       "<p style=\"font: 8pt Times New Roman, Times, Serif; margin: 0; text-align: justify\"><font style=\"font: 8pt Times New Roman, Times, Serif\">Revenue,\r",
       "which equates to an agreed share of gross receipts, is recognized as income when the Company is notified of the amounts by the\r",
       "distribution agent through their distribution reports.</font></p>\r",
       "\r",
       "<p style=\"font: 8pt Times New Roman, Times, Serif; margin: 0; text-align: justify\"><font style=\"font: 8pt Times New Roman, Times, Serif\">&#160;</font></p>\r",
       "\r",
       "<p style=\"font: 8pt Times New Roman, Times, Serif; margin: 0; text-align: justify\"><font style=\"font: 8pt Times New Roman, Times, Serif\">Revenue\r",
       "is recorded:</font></p>\r",
       "\r",
       "<p style=\"font: 8pt Times New Roman, Times, Serif; margin: 0\"><font style=\"font: 8pt Times New Roman, Times, Serif\">&#160;</font></p>\r",
       "\r",
       "<table cellspacing=\"0\" cellpadding=\"0\" style=\"font: 8pt Times New Roman, Times, Serif; width: 100%\">\r",
       "<tr style=\"vertical-align: top; font: 8pt Times New Roman, Times, Serif\">\r",
       "    <td style=\"width: 6%; text-align: center; font: 8pt Times New Roman, Times, Serif\"><font style=\"font: 8pt Times New Roman, Times, Serif\">a)</font></td>\r",
       "    <td style=\"width: 94%; font: 8pt Times New Roman, Times, Serif\"><font style=\"font: 8pt Times New Roman, Times, Serif\">net\r",
       "    of any&#160;&#160;sales or value added taxes charged to customers</font></td></tr>\r",
       "</table>\r",
       "<p style=\"font: 8pt Times New Roman, Times, Serif; margin: 0\"><font style=\"font: 8pt Times New Roman, Times, Serif\">&#160;</font></p>\r",
       "\r",
       "<table cellspacing=\"0\" cellpadding=\"0\" style=\"font: 8pt Times New Roman, Times, Serif; width: 100%\">\r",
       "<tr style=\"vertical-align: top; font: 8pt Times New Roman, Times, Serif\">\r",
       "    <td style=\"width: 6%; text-align: center; font: 8pt Times New Roman, Times, Serif\"><font style=\"font: 8pt Times New Roman, Times, Serif\">b)</font></td>\r",
       "    <td style=\"width: 94%; font: 8pt Times New Roman, Times, Serif\"><font style=\"font: 8pt Times New Roman, Times, Serif\">net\r",
       "    of discounts agreed with customers</font></td></tr>\r",
       "</table>\r",
       "<p style=\"font: 8pt Times New Roman, Times, Serif; margin: 0\"><font style=\"font: 8pt Times New Roman, Times, Serif\">&#160;</font></p>\r",
       "\r",
       "<table cellspacing=\"0\" cellpadding=\"0\" style=\"font: 8pt Times New Roman, Times, Serif; width: 100%\">\r",
       "<tr style=\"vertical-align: top; font: 8pt Times New Roman, Times, Serif\">\r",
       "    <td style=\"width: 6%; text-align: center; font: 8pt Times New Roman, Times, Serif\"><font style=\"font: 8pt Times New Roman, Times, Serif\">c)</font></td>\r",
       "    <td style=\"width: 94%; font: 8pt Times New Roman, Times, Serif\"><font style=\"font: 8pt Times New Roman, Times, Serif\">net&#160;&#160;of&#160;&#160;returns\r",
       "    provision agreed with the distributor and</font></td></tr>\r",
       "</table>\r",
       "<p style=\"font: 8pt Times New Roman, Times, Serif; margin: 0\"><font style=\"font: 8pt Times New Roman, Times, Serif\">&#160;</font></p>\r",
       "\r",
       "<table cellspacing=\"0\" cellpadding=\"0\" style=\"font: 8pt Times New Roman, Times, Serif; width: 100%\">\r",
       "<tr style=\"vertical-align: top; font: 8pt Times New Roman, Times, Serif\">\r",
       "    <td style=\"width: 6%; text-align: center; font: 8pt Times New Roman, Times, Serif\"><font style=\"font: 8pt Times New Roman, Times, Serif\">d)</font></td>\r",
       "    <td style=\"width: 94%; font: 8pt Times New Roman, Times, Serif\"><font style=\"font: 8pt Times New Roman, Times, Serif\">grossed\r",
       "    up for the distribution fee charged by the distribution agent.</font></td></tr>\r",
       "</table>\r",
       "<p style=\"font: 8pt Times New Roman, Times, Serif; margin: 0\"><font style=\"font: 8pt Times New Roman, Times, Serif\">&#160;</font></p>\r",
       "\r",
       "<p style=\"font: 8pt Times New Roman, Times, Serif; margin: 0; text-align: justify\"><font style=\"font: 8pt Times New Roman, Times, Serif\">Revenue\r",
       "from digital distribution will be reported by the various digital platforms such as&#160;&#160;iTunes in their periodic reports\r",
       "and posted as received.</font></p>\r",
       "\r",
       "<p style=\"font: 8pt Times New Roman, Times, Serif; margin: 0; text-align: justify\"><font style=\"font: 8pt Times New Roman, Times, Serif\">&#160;</font></p>\r",
       "\r",
       "<p style=\"font: 8pt Times New Roman, Times, Serif; margin: 0; text-align: justify\"><font style=\"font: 8pt Times New Roman, Times, Serif\"><u>FEE\r",
       "RELATED REVENUES</u></font></p>\r",
       "\r",
       "<p style=\"font: 8pt Times New Roman, Times, Serif; margin: 0; text-align: justify\"><font style=\"font: 8pt Times New Roman, Times, Serif\">&#160;</font></p>\r",
       "\r",
       "<p style=\"font: 8pt Times New Roman, Times, Serif; margin: 0; text-align: justify\"><font style=\"font: 8pt Times New Roman, Times, Serif\">Many\r",
       "countries make tax credits available to encourage film production in the territory. Seven Arts benefits from tax credits in:</font></p>\r",
       "\r",
       "<p style=\"font: 8pt Times New Roman, Times, Serif; margin: 0\"><font style=\"font: 8pt Times New Roman, Times, Serif\">&#160;</font></p>\r",
       "\r",
       "<table cellspacing=\"0\" cellpadding=\"0\" style=\"font: 8pt Times New Roman, Times, Serif; width: 100%\">\r",
       "<tr style=\"vertical-align: top; font: 8pt Times New Roman, Times, Serif\">\r",
       "    <td style=\"width: 6%; text-align: center; font: 8pt Times New Roman, Times, Serif\"><font style=\"font: 8pt Times New Roman, Times, Serif\">a)</font></td>\r",
       "    <td style=\"width: 94%; font: 8pt Times New Roman, Times, Serif\"><font style=\"font: 8pt Times New Roman, Times, Serif\">The\r",
       "    UK and several other European territories for their European productions</font></td></tr>\r",
       "<tr style=\"vertical-align: top; font: 8pt Times New Roman, Times, Serif\">\r",
       "    <td style=\"text-align: center; font: 8pt Times New Roman, Times, Serif\"><font style=\"font: 8pt Times New Roman, Times, Serif\">b)</font></td>\r",
       "    <td style=\"font: 8pt Times New Roman, Times, Serif\"><font style=\"font: 8pt Times New Roman, Times, Serif\">Canada for their\r",
       "    Canadian productions</font></td></tr>\r",
       "</table>\r",
       "<p style=\"font: 8pt Times New Roman, Times, Serif; margin: 0\"><font style=\"font: 8pt Times New Roman, Times, Serif\">&#160;</font></p>\r",
       "\r",
       "<table cellspacing=\"0\" cellpadding=\"0\" style=\"font: 8pt Times New Roman, Times, Serif; width: 100%\">\r",
       "<tr style=\"vertical-align: top; font: 8pt Times New Roman, Times, Serif\">\r",
       "    <td style=\"width: 6%; text-align: center; font: 8pt Times New Roman, Times, Serif\"><font style=\"font: 8pt Times New Roman, Times, Serif\">c)</font></td>\r",
       "    <td style=\"width: 94%; font: 8pt Times New Roman, Times, Serif\"><font style=\"font: 8pt Times New Roman, Times, Serif\">Louisiana\r",
       "    for their US productions</font></td></tr>\r",
       "<tr style=\"vertical-align: top; font: 8pt Times New Roman, Times, Serif\">\r",
       "    <td style=\"text-align: center; font: 8pt Times New Roman, Times, Serif\"><font style=\"font: 8pt Times New Roman, Times, Serif\">d)</font></td>\r",
       "    <td style=\"font: 8pt Times New Roman, Times, Serif\"><font style=\"font: 8pt Times New Roman, Times, Serif\">Tax preferred financing\r",
       "    deals</font></td></tr>\r",
       "</table>\r",
       "<p style=\"font: 8pt Times New Roman, Times, Serif; margin: 0\"><font style=\"font: 8pt Times New Roman, Times, Serif\">&#160;</font></p>\r",
       "\r",
       "<p style=\"font: 8pt Times New Roman, Times, Serif; margin: 0; text-align: justify\"><font style=\"font: 8pt Times New Roman, Times, Serif\">These\r",
       "tax credits may be treated as a reduction in the capitalized costs of the film assets they are financing or as producer fees to\r",
       "us if the tax credits are earned and owned by a company in the Group and paid to us as overhead or producer fees.</font></p>\r",
       "\r",
       "<p style=\"font: 8pt Times New Roman, Times, Serif; margin: 0; text-align: justify\"><font style=\"font: 8pt Times New Roman, Times, Serif\">&#160;</font></p>\r",
       "\r",
       "<p style=\"font: 8pt Times New Roman, Times, Serif; margin: 0; text-align: justify\"><font style=\"font: 8pt Times New Roman, Times, Serif\"><u>SAPLA\r",
       "REVENUE SHARING FEES</u></font></p>\r",
       "\r",
       "<p style=\"font: 8pt Times New Roman, Times, Serif; margin: 0; text-align: justify\"><font style=\"font: 8pt Times New Roman, Times, Serif\">&#160;</font></p>\r",
       "\r",
       "<p style=\"font: 8pt Times New Roman, Times, Serif; margin: 0; text-align: justify\"><font style=\"font: 8pt Times New Roman, Times, Serif\">Revenue\r",
       "in the form of fee income is due to the Company from related party, SAPLA (owned by the wife of Peter Hoffman, the Company&#146;s\r",
       "CEO) in the amount of the net proceeds from the disposition of the tax credits by SAPLA. In accordance with an intercompany agreement\r",
       "between SAE and SAPLA,&#160;&#160;all revenues earned by SAPLA are due to SAE.</font></p>\r",
       "\r",
       "\r",
       "\r",
       "<p style=\"margin: 0pt; font: 8pt Times New Roman, Times, Serif\">"
      ],
      "text/plain": [
       "<IPython.core.display.HTML object>"
      ]
     },
     "metadata": {},
     "output_type": "display_data"
    },
    {
     "data": {
      "text/html": [
       "<h1>alpha-En Corp - Fiscal Year 2012</h1><div style=\"MARGIN: 0pt 0px; FONT: 10pt Times New Roman, Times, Serif \"> <div style=\"CLEAR:both; FONT-FAMILY:Times New Roman;FONT-SIZE: 10pt;MARGIN: 0pt 0px; FONT: italic 10pt Times New Roman, Times, Serif\"> </div> <div style=\"CLEAR:both; FONT-FAMILY:Times New Roman;FONT-SIZE: 10pt;MARGIN: 0pt 0px; FONT: italic 10pt Times New Roman, Times, Serif\"> <u>Revenue Recognition</u></div> <div style=\"CLEAR:both; FONT-FAMILY:Times New Roman;FONT-SIZE: 10pt;MARGIN: 0pt 0px; FONT: 10pt Times New Roman, Times, Serif\"> &#160;</div> <div style=\"CLEAR:both; FONT-FAMILY:Times New Roman;FONT-SIZE: 10pt;MARGIN: 0pt 0px; FONT: 10pt Times New Roman, Times, Serif\"> The Company follows paragraph 605-10-S99-1 of the FASB Accounting Standards Codification for revenue recognition. The Company will recognize revenue when it is realized or realizable and earned. The Company considers revenue realized or realizable and earned when all of the following criteria are met: (i) persuasive evidence of an arrangement exists, (ii) the product has been shipped or the services have been rendered to the customer, (iii) the sales price is fixed or determinable, and (iv) collectability is reasonably assured.</div> </div><table border=\"0\" style=\"width:100%; table-layout:fixed;\" cellspacing=\"0\" cellpadding=\"0\"><tr><td></td></tr></table>"
      ],
      "text/plain": [
       "<IPython.core.display.HTML object>"
      ]
     },
     "metadata": {},
     "output_type": "display_data"
    },
    {
     "data": {
      "text/html": [
       "<h1>Amc Entertainment Inc - Fiscal Year 2012</h1><div style=\"font-size:10.0pt;font-family:Times New Roman;\">\n",
       "<p style=\"FONT-FAMILY: times;\"><font size=\"2\"><b><i>&#160;Revenues:</i></b></font><font size=\"2\">&#160;&#160;&#160;&#160;Revenues are recognized when admissions and concessions sales are received at the theatres. The Company defers <span data-cbfactid=\"-1\" data-cbnumtext=\"100%\" data-cbnetworkid=\"13796896\">100%</span> of the revenue associated with the sales of gift cards and packaged tickets until such time as the items are redeemed or breakage income is recorded. In the fourth quarter of fiscal 2012, the Company changed its accounting method for recognizing gift card breakage income. Prior to the fourth quarter of fiscal 2012, the Company recognized breakage income when gift card redemptions were deemed remote and the Company determined that there was no legal obligation to remit the unredeemed gift cards to the relevant tax jurisdiction (\"Remote Method\"), which based on historical information was 18&#160;months after the gift card was issued. In the fourth quarter of fiscal 2012, the Company accumulated a sufficient level of historical data from a large pool of homogeneous transactions to allow management to reasonably and objectively determine an estimated gift card breakage rate and the pattern of actual gift card redemptions. Accordingly during fiscal 2012, the Company changed its method for recording gift card breakage income to recognize breakage income and derecognize the gift card liability for unredeemed gift cards in proportion to actual redemptions of gift cards (\"Proportional Method\"). Breakage for packaged tickets continues to be recognized as the redemption of these items is determined to be remote, that is if a ticket has not been used within 18&#160;months after being purchased. During fiscal 2012, the Company recognized <span data-cbfactid=\"58947419\" data-cbnetworkid=\"13796896\">$32,633,000</span> of net gift card breakage income, of which <span data-cbfactid=\"58947420\" data-cbnetworkid=\"13796896\">$14,969,000</span> represented the adjustment related to the change from the Remote Method to the Proportional Method. Additionally, concurrent with the accounting change discussed above, the Company changed the presentation of gift card breakage income from other income to other theatre revenues during fiscal 2012, with conforming changes made for all prior periods presented. During the Successor period August&#160;31, 2012 through December&#160;31, 2012, the Predecessor period March&#160;30, 2012 through August&#160;30, 2012, and the fiscal years ended March&#160;29, 2012 and March&#160;31, 2011, the Company recognized <span data-cbfactid=\"58947421\" data-cbnetworkid=\"13796896\">$3,483,000</span>, <span data-cbfactid=\"58946690\" data-cbnetworkid=\"13796896\">$7,776,000</span>, <span data-cbfactid=\"58947419\" data-cbnetworkid=\"13796896\">$32,633,000</span> and <span data-cbfactid=\"58947422\" data-cbnetworkid=\"13796896\">$14,131,000</span> of income, respectively, related to the derecognition of gift card liabilities which was recorded in other theatre revenues in the Consolidated Statements of Operations. Refer to Note&#160;1&#8212;The Company and Significant Accounting Policies to the consolidated financial statements for further information.</font></p>\n",
       "<p style=\"FONT-FAMILY: times;\"><font size=\"2\"><b><i>&#160;&#160;&#160;&#160;&#160;&#160;&#160;&#160;</i></b></font></p>\n",
       "</div>"
      ],
      "text/plain": [
       "<IPython.core.display.HTML object>"
      ]
     },
     "metadata": {},
     "output_type": "display_data"
    },
    {
     "data": {
      "text/html": [
       "<h1>Bona Film Group Ltd - Fiscal Year 2012</h1><div style=\"font-size:10.0pt;font-family:Times New Roman;\">\n",
       "<p style=\"FONT-FAMILY: times;\">&#160;</p>\n",
       "<dl compact=\"compact\">\n",
       "<dt style=\"MARGIN-BOTTOM: -11pt; FONT-FAMILY: times;\"><font size=\"2\">s.</font></dt>\n",
       "<dd style=\"FONT-FAMILY: times;\"><font size=\"2\">Revenue recognition</font></dd></dl>\n",
       "<p style=\"FONT-FAMILY: times;\"><font size=\"2\">&#160;&#160;&#160;&#160;&#160;&#160;&#160;&#160;The Group recognizes film-related revenues from the arrangements described as&#160;follows:</font></p>\n",
       "<p style=\"FONT-FAMILY: times;\"><font size=\"2\"><i>Film Distribution revenues</i></font></p>\n",
       "<p style=\"FONT-FAMILY: times;\"><font size=\"2\">&#160;&#160;&#160;&#160;&#160;&#160;&#160;&#160;The Group acquires film distribution rights as the principal or a participating distributor in mainland China and overseas from film&#160;producers.</font></p>\n",
       "<p style=\"FONT-FAMILY: times;\"><font size=\"2\">&#160;&#160;&#160;&#160;&#160;&#160;&#160;&#160;As the principal distributor, the Group recognizes distribution revenues when the films are exhibited in movie theaters. After the payments by the movie theaters of taxes and other governmental charges and deductions by movie theaters and theater circuits of their respective shares of the box office sales, the remaining amount (the&#160;\"Distributable Amount\") is remitted to the Group which the Group accounts for as its distribution revenues.</font></p>\n",
       "<p style=\"FONT-FAMILY: times;\"><font size=\"2\">&#160;&#160;&#160;&#160;&#160;&#160;&#160;&#160;The Group then shares the Distributable Amount with the film producer pursuant to the terms of the distribution agreement under which the Group is typically entitled to a fixed percentage of the Distributable Amount as its fees (the&#160;\"Distribution Fees\"). The Distributable Amount, after further deductions of the Distribution Fees and print and marketing expenses, except in rare cases where not reimbursable by the producer, is paid or payable to the producer and is accounted for as a cost of distribution revenues.</font></p>\n",
       "<p style=\"FONT-FAMILY: times;\"><font size=\"2\">&#160;&#160;&#160;&#160;&#160;&#160;&#160;&#160;The Group also generates revenues from advertising services such as \"in-film\" advertising, pre-screening advertising, selling poster space and promotions of films. Revenues from advertising services are recognized as advertisement is shown or upon services provided. Cost of advertising services primarily consists of the cost of acquiring advertising airtime.</font></p>\n",
       "<p style=\"FONT-FAMILY: times;\"><font size=\"2\">&#160;&#160;&#160;&#160;&#160;&#160;&#160;&#160;The Group also cooperates with other distributors to distribute films as a participating distributor but is not the primary obligor under the distribution arrangement and shares a fixed percentage of the distribution fees received by the principal distributor as the Group's commissions pursuant to its arrangement with the principal distributor. The Group records these commissions as its distribution revenues.</font></p>\n",
       "<p style=\"FONT-FAMILY: times;\"><font size=\"2\">&#160;&#160;&#160;&#160;&#160;&#160;&#160;&#160;For certain films the distribution rights of which are acquired by the Group, the Group sub-licenses such rights to international third party distributors and domestic and international non-theatrical channels including television and Internet companies for a particular term. Revenues from such sub-licensing arrangements are recognized when the following criteria are met: (i)&#160;an arrangement has been signed with a customer, (ii)&#160;the customer's right to use or otherwise exploit the intellectual property has commenced and there is no requirement for significant continued performance by the Group, (iii)&#160;licensing fees are either fixed or determinable and (iv)&#160;collectability of the fee is reasonably assured.</font></p>\n",
       "<p style=\"FONT-FAMILY: times;\"><font size=\"2\"><i>Copyright and participation revenues</i></font></p>\n",
       "<p style=\"FONT-FAMILY: times;\"><font size=\"2\">&#160;&#160;&#160;&#160;&#160;&#160;&#160;&#160;When the Group is not the principal distributor, but participates in the financing of film production in which the Group may also acquire all, a portion or none of the legal copyright in relation to the film, and bears a portion of the costs of financing, production, prints, promotion and advertising pursuant to the terms of the agreement for the production of the film, it generates revenues from such film production participation as&#160;follows:</font></p>\n",
       "<ul>\n",
       "<li style=\"list-style: none;\">\n",
       "<dl compact=\"compact\">\n",
       "<dt style=\"MARGIN-BOTTOM: -11pt; FONT-FAMILY: times;\"><font size=\"2\">(a)</font></dt>\n",
       "<dd style=\"FONT-FAMILY: times;\"><font size=\"2\">Where the Group is entitled to receive a certain percentage of the net profit of the film, it periodically receives a report from the film producer about the net profit or loss of the film. The Group records its share of the net profit of the film into revenue according to the&#160;report.<br>\n",
       "<br></font></dd>\n",
       "<dt style=\"MARGIN-BOTTOM: -11pt; FONT-FAMILY: times;\"><font size=\"2\">(b)</font></dt>\n",
       "<dd style=\"FONT-FAMILY: times;\"><font size=\"2\">In the case of licensing the Group's copyrights to international third party distributors and to other domestic and international non-theatrical channels, including television and Internet companies, for a particular term, the Group recognizes copyright revenues when the following criteria are met: (i)&#160;an arrangement has been signed with a customer, (ii)&#160;the customer's right to use or otherwise exploit the intellectual property has commenced and there is no requirement for significant continued performance by the Group, (iii)&#160;licensing fees are either fixed or determinable and (iv)&#160;collectability of the fee is reasonably assured.</font></dd></dl></li></ul>\n",
       "<p style=\"FONT-FAMILY: times;\"><font size=\"2\"><i>Talent agency revenues</i></font></p>\n",
       "<p style=\"FONT-FAMILY: times;\"><font size=\"2\">&#160;&#160;&#160;&#160;&#160;&#160;&#160;&#160;The Group also acts as a talent agent for certain artists, where in certain cases the Group signs the service contract with the third party and in other cases, the Group and the artist together sign the service contract with the third&#160;party.</font></p>\n",
       "<p style=\"FONT-FAMILY: times;\"><font size=\"2\">&#160;&#160;&#160;&#160;&#160;&#160;&#160;&#160;Where the Group signs the service contract with third parties and is the primary obligor, the Group reports the gross amount of the service as revenue. Where the Group and the artist together sign the contract with a third party, the Group reports revenue at the total service amount net of the payment to the artist. For arrangements where the Group records the gross amount as its revenue, cost of talent agency service primarily consists of compensation paid to&#160;artists.</font></p>\n",
       "<p style=\"FONT-FAMILY: times;\"><font size=\"2\"><i>Movie theater revenues</i></font></p>\n",
       "<p style=\"FONT-FAMILY: times;\"><font size=\"2\">&#160;&#160;&#160;&#160;&#160;&#160;&#160;&#160;Revenues are recognized when admissions and concession sales are received at the box office. Other revenues primarily consist of screen advertising. Screen advertising revenues are recognized over the period that the related advertising is delivered on-screen or in-theatre. The Group records proceeds from the sale of prepaid membership cards and other prepaid certificates in deferred revenues and recognizes admissions revenue and concession revenue when the card or certificate is consumed. The Group recognizes unredeemed prepaid certificates as revenue upon expiration of the membership cards or certificates.</font></p>\n",
       "</div>"
      ],
      "text/plain": [
       "<IPython.core.display.HTML object>"
      ]
     },
     "metadata": {},
     "output_type": "display_data"
    },
    {
     "data": {
      "text/html": [
       "<h1>Carmike Cinemas Inc - Fiscal Year 2012</h1><!--DOCTYPE html PUBLIC \"-//W3C//DTD XHTML 1.0 Transitional//EN\" \"http://www.w3.org/TR/xhtml1/DTD/xhtml1-transitional.dtd\" -->\n",
       "   <!-- Begin Block Tagged Accounting Policy: note2_accounting_policy_table3 - us-gaap:RevenueRecognitionPolicyTextBlock-->\n",
       "   <p style=\"margin-top:18px;margin-bottom:0px\"><font style=\"font-family:times new roman\" size=\"2\"><b>Revenue Recognition </b></font></p>\n",
       "   <p style=\"margin-top:6px;margin-bottom:0px; text-indent:4%\"><font style=\"font-family:times new roman\" size=\"2\">\n",
       "   Admissions and concessions revenue is recognized at the point of sale for tickets and concessions. Sales taxes collected from customers are excluded from revenue and are recorded in accrued expenses in\n",
       "   the accompanying consolidated balance sheets. Other revenues primarily consist of on-screen advertising. Screen advertising revenues are recognized over the period that the related advertising is delivered\n",
       "   on-screen or in-theatre. </font></p>\n",
       "   <p style=\"margin-top:12px;margin-bottom:0px; text-indent:4%\"><font style=\"font-family:times new roman\" size=\"2\">The Company records proceeds from the sale of gift cards and other advanced sale certificates in\n",
       "   current liabilities and recognizes admission and concessions revenue when a holder redeems a gift card or other advanced sale certificate. The Company recognized revenue from unredeemed gift cards and other advanced sale certificates upon the later\n",
       "   of expiration of the cards or when redemption becomes unlikely. The Company&#8217;s conclusion that redemption is unlikely is based on an analysis of historical trends. Revenue recognized related to unredeemed gift cards and other advanced sale\n",
       "   certificates totaled <span data-cbfactid=\"38878808\">$1,319</span>, <span data-cbfactid=\"38878807\">$1,718</span> and <span data-cbfactid=\"38878806\">$2,199</span> in 2012, 2011 and 2010, respectively. </font></p>\n"
      ],
      "text/plain": [
       "<IPython.core.display.HTML object>"
      ]
     },
     "metadata": {},
     "output_type": "display_data"
    },
    {
     "data": {
      "text/html": [
       "<h1>Carolco Pictures, Inc. - Fiscal Year 2012</h1><div style=\"LINE-HEIGHT: 1.25; TEXT-INDENT: 0pt; DISPLAY: block; MARGIN-LEFT: 0pt; MARGIN-RIGHT: 0pt\" align=\"justify\"><font style=\"FONT-STYLE: italic; DISPLAY: inline; FONT-FAMILY: Times New Roman; FONT-SIZE: 10pt\"><font style=\"DISPLAY: inline; TEXT-DECORATION: underline\">Revenue\r",
       "    \n",
       "      Recognition</font></font>\r",
       "    \n",
       "    </div><br><div style=\"LINE-HEIGHT: 1.25; TEXT-INDENT: 0pt; DISPLAY: block; MARGIN-LEFT: 0pt; MARGIN-RIGHT: 0pt\" align=\"justify\">\r",
       "  \n",
       "      <font style=\"DISPLAY: inline; FONT-FAMILY: Times New Roman; FONT-SIZE: 10pt\">The\r",
       "   \n",
       "      Company follows paragraph 605-10-S<span data-cbfactid=\"-1\" data-cbnumtext=\"99\">99</span>-1 of the FASB Accounting\r",
       "   \n",
       "      Standards Codification for revenue recognition. The Company\r",
       " \n",
       "      will recognize revenue when it is realized or realizable and\r",
       "  \n",
       "      earned. The Company considers revenue realized or realizable\r",
       "  \n",
       "      and earned when it has persuasive evidence of an arrangement\r",
       "  \n",
       "      that the services have been rendered to the customer, the\r",
       "    \n",
       "      sales price is fixed or determinable, and collectability is\r",
       " \n",
       "      reasonably assured.</font></div>"
      ],
      "text/plain": [
       "<IPython.core.display.HTML object>"
      ]
     },
     "metadata": {},
     "output_type": "display_data"
    },
    {
     "data": {
      "text/html": [
       "<h1>China Media Inc. - Fiscal Year 2013</h1><p style=\"font: 10pt/normal Arial, Helvetica, Sans-Serif; margin: 0; text-align: justify\"><b><i>Revenue Recognition</i></b></p>\r",
       "\r",
       "<p style=\"font: 10pt/normal Arial, Helvetica, Sans-Serif; margin: 0; text-align: justify\">&#160;</p>\r",
       "\r",
       "<p style=\"font: 10pt/normal Arial, Helvetica, Sans-Serif; margin: 0; text-align: justify\">The Company&#146;s revenue primarily\r",
       "comes from the distribution of film and TV series&#146; broadcasting rights and investment return from the collectively produced\r",
       "film and TV series.</p>\r",
       "\r",
       "<p style=\"font: 10pt/normal Arial, Helvetica, Sans-Serif; margin: 0; text-align: justify\">&#160;</p>\r",
       "\r",
       "<p style=\"font: 10pt/normal Arial, Helvetica, Sans-Serif; margin: 0; text-align: justify\">In accordance with ASC 926, Entertainment\r",
       "- Films, revenue from sale or licensing arrangements of a film shall be recognized when the following five revenue criteria are\r",
       "met: persuasive evidence of an arrangement exists, the film is completed and delivery has occurred, the license period of the arrangement\r",
       "has begun, the selling price is fixed or determinable, and collectability is reasonably assured.</p>\r",
       "\r",
       "<p style=\"font: 10pt/normal Arial, Helvetica, Sans-Serif; margin: 0; text-align: justify\">&#160;</p>\r",
       "\r",
       "<p style=\"font: 10pt/normal Arial, Helvetica, Sans-Serif; margin: 0; text-align: justify\">The Company also generates advertising\r",
       "revenues from the sale of advertising services. In the majority of advertising arrangements, the Company acts as an agent in the\r",
       "transaction and records advertising revenues on a net basis. Customer payments received in advance of the performance of services\r",
       "are recorded as customer deposits in the consolidated balance sheet, and are recognized as revenue when the advertising services\r",
       "are rendered.</p>"
      ],
      "text/plain": [
       "<IPython.core.display.HTML object>"
      ]
     },
     "metadata": {},
     "output_type": "display_data"
    },
    {
     "data": {
      "text/html": [
       "<h1>Cinedigm Corp. - Fiscal Year 2013</h1><div style=\"font-family:Times New Roman;font-size:10pt;\"><div style=\"line-height:120%;text-align:justify;font-size:10pt;\"><font style=\"font-family:inherit;font-size:10pt;font-weight:bold;\">REVENUE RECOGNITION</font></div><div style=\"line-height:120%;text-align:justify;font-size:10pt;\"><font style=\"font-family:inherit;font-size:10pt;\"><br clear=\"none\"></font></div><div style=\"line-height:120%;text-align:justify;font-size:10pt;\"><font style=\"font-family:inherit;font-size:10pt;font-style:italic;font-weight:bold;\">Phase I Deployment and Phase II Deployment</font></div><div style=\"line-height:120%;text-align:justify;font-size:10pt;\"><font style=\"font-family:inherit;font-size:10pt;\"><br clear=\"none\"></font></div><div style=\"line-height:120%;text-align:justify;font-size:10pt;\"><font style=\"font-family:inherit;font-size:10pt;\">Virtual print fees (&#8220;VPFs&#8221;) are earned pursuant to contracts with movie studios and distributors, whereby amounts are payable by a studio to Phase 1 DC, CDF I and to Phase 2 DC when movies distributed by the studio are displayed on screens utilizing the Company&#8217;s Systems installed in movie theatres.&#160;&#160;VPFs are earned and payable to Phase 1 DC and CDF I based on a defined fee schedule with a reduced VPF rate year over year until the </font><font style=\"font-family:inherit;font-size:10pt;color:#000000;text-decoration:none;\">sixth</font><font style=\"font-family:inherit;font-size:10pt;\"> year at which point the VPF rate remains unchanged through the </font><font style=\"font-family:inherit;font-size:10pt;color:#000000;text-decoration:none;\">tenth</font><font style=\"font-family:inherit;font-size:10pt;\"> year.&#160;&#160;</font><font style=\"font-family:inherit;font-size:10pt;color:#000000;text-decoration:none;\">One</font><font style=\"font-family:inherit;font-size:10pt;\"> VPF is payable for every digital title displayed per System. The amount of VPF revenue is dependent on the number of movie titles released and displayed using the Systems in any given accounting period. VPF revenue is recognized in the period in which the digital title first plays on a System for general audience viewing in a digitally-equipped movie theatre, as Phase 1 DC&#8217;s, CDF I&#8217;s and Phase 2 DC&#8217;s performance obligations have been substantially met at that time.</font></div><div style=\"line-height:120%;text-align:justify;font-size:10pt;\"><font style=\"font-family:inherit;font-size:10pt;\"><br clear=\"none\"></font></div><div style=\"line-height:120%;text-align:justify;font-size:10pt;\"><font style=\"font-family:inherit;font-size:10pt;\">Phase 2 DC&#8217;s agreements with distributors require the payment of VPFs, according to a defined fee schedule, for </font><font style=\"font-family:inherit;font-size:10pt;color:#000000;text-decoration:none;\">ten</font><font style=\"font-family:inherit;font-size:10pt;\"> years from the date each system is installed; however, Phase 2 DC may no longer collect VPFs once &#8220;cost recoupment,&#8221; as defined in the agreements, is achieved.&#160; Cost recoupment will occur once the cumulative VPFs and other cash receipts collected by Phase 2 DC have equaled the total of all cash outflows, including the purchase price of all Systems, all financing costs, all &#8220;overhead and ongoing costs&#8221;, as defined, and including the Company&#8217;s service fees, subject to maximum agreed upon amounts during the three-year rollout period and thereafter, plus a compounded return on any billed but unpaid overhead and ongoing costs, of </font><font style=\"font-family:inherit;font-size:10pt;color:#000000;text-decoration:none;\" data-cbfactid=\"-1\" data-cbnumtext=\"15%\" data-cbnetworkid=\"10505910\">15%</font><font style=\"font-family:inherit;font-size:10pt;\"> per year.&#160; Further, if cost recoupment occurs before the end of the </font><font style=\"font-family:inherit;font-size:10pt;color:#000000;text-decoration:none;\">eighth</font><font style=\"font-family:inherit;font-size:10pt;\"> contract year, a one-time &#8220;cost recoupment bonus&#8221; is payable by the studios to the Company.&#160; Any other cash flows, net of expenses, received by Phase 2 DC following the achievement of cost recoupment are required to be returned to the distributors on a pro-rata basis. At this time, the Company cannot estimate the timing or probability of the achievement of cost recoupment.</font></div><div style=\"line-height:120%;text-align:justify;font-size:10pt;\"><font style=\"font-family:inherit;font-size:10pt;\"><br clear=\"none\"></font></div><div style=\"line-height:120%;text-align:justify;font-size:10pt;\"><font style=\"font-family:inherit;font-size:10pt;\">Alternative content fees (&#8220;ACFs&#8221;) are earned pursuant to contracts with movie exhibitors, whereby amounts are payable to Phase 1 DC, CDF I and to Phase 2 DC, generally either a fixed amount or as a percentage of the applicable box office revenue derived from the exhibitor&#8217;s showing of content other than feature movies, such as concerts and sporting events (typically referred to as &#8220;alternative content&#8221;). ACF revenue is recognized in the period in which the alternative content first opens for audience viewing.</font></div><div style=\"line-height:120%;text-align:justify;font-size:10pt;\"><font style=\"font-family:inherit;font-size:10pt;\"><br clear=\"none\"></font></div><div style=\"line-height:120%;text-align:justify;font-size:10pt;\"><font style=\"font-family:inherit;font-size:10pt;\">Revenues are deferred for up front exhibitor contributions and are recognized over the cost recoupment period, which is expected to be </font><font style=\"font-family:inherit;font-size:10pt;color:#000000;text-decoration:none;\">ten</font><font style=\"font-family:inherit;font-size:10pt;\"> years.</font></div><div style=\"line-height:120%;text-align:left;font-size:10pt;\"><font style=\"font-family:inherit;font-size:10pt;\"><br clear=\"none\"></font></div><div style=\"line-height:120%;text-align:justify;font-size:10pt;\"><font style=\"font-family:inherit;font-size:10pt;font-style:italic;font-weight:bold;\">Services</font></div><div style=\"line-height:120%;text-align:justify;font-size:10pt;\"><font style=\"font-family:inherit;font-size:10pt;\"><br clear=\"none\"></font></div><div style=\"line-height:120%;text-align:justify;font-size:10pt;\"><font style=\"font-family:inherit;font-size:10pt;\">For software multi-element licensing arrangements that do not require significant production, modification or customization of the licensed software, revenue is recognized for the various elements as follows: revenue for the licensed software element is recognized upon delivery and acceptance of the licensed software product, as that represents the culmination of the earnings process and the Company has no further obligations to the customer, relative to the software license. Revenue earned from consulting services is recognized upon the performance and completion of these services. Revenue earned from annual software maintenance is recognized ratably over the maintenance term (typically </font><font style=\"font-family:inherit;font-size:10pt;color:#000000;text-decoration:none;\">one</font><font style=\"font-family:inherit;font-size:10pt;\"> year).</font></div><div style=\"line-height:120%;text-align:justify;font-size:10pt;\"><font style=\"font-family:inherit;font-size:10pt;\"><br clear=\"none\"></font></div><div style=\"line-height:120%;text-align:justify;font-size:10pt;\"><font style=\"font-family:inherit;font-size:10pt;\">Revenue is deferred in cases where:&#160;&#160;(1) a portion or the entire contract amount cannot be recognized as revenue, due to non-delivery or pre-acceptance of licensed software or custom programming, (2) uncompleted implementation of application service provider arrangements (&#8220;ASP Service&#8221;), or (3) unexpired pro-rata periods of maintenance, minimum ASP Service fees or website subscription fees. As license fees, maintenance fees, minimum ASP Service fees and website subscription fees are often paid in advance, a portion of this revenue is deferred until the contract ends. Such amounts are classified as deferred revenue and are recognized as earned revenue in accordance with the Company&#8217;s revenue recognition policies described above.</font></div><div style=\"line-height:120%;text-align:justify;font-size:10pt;\"><font style=\"font-family:inherit;font-size:10pt;\"><br clear=\"none\"></font></div><div style=\"line-height:120%;text-align:justify;font-size:10pt;\"><font style=\"font-family:inherit;font-size:10pt;\">Exhibitors who purchased and own Systems using their own financing in the Phase II Deployment, paid an upfront activation fee that is generally </font><font style=\"font-family:inherit;font-size:10pt;color:#000000;text-decoration:none;\"><span data-cbfactid=\"-1\" data-cbnumtext=\"$2000\" data-cbnetworkid=\"10505910\">$2</span> thousand</font><font style=\"font-family:inherit;font-size:10pt;\"> per screen to the Company (the &#8220;Exhibitor-Buyer Structure&#8221;).&#160;&#160;These upfront activation fees are recognized in the period in which these exhibitor owned Systems are ready for content, as the Company has no further obligations to the customer, and are generally paid quarterly from VPF revenues over approximately one year.&#160;&#160;Additionally, the Company recognizes activation fee revenue of between </font><font style=\"font-family:inherit;font-size:10pt;color:#000000;text-decoration:none;\"><span data-cbfactid=\"-1\" data-cbnumtext=\"$1000\" data-cbnetworkid=\"10505910\">$1</span> thousand</font><font style=\"font-family:inherit;font-size:10pt;\"> and </font><font style=\"font-family:inherit;font-size:10pt;color:#000000;text-decoration:none;\"><span data-cbfactid=\"-1\" data-cbnumtext=\"$2000\" data-cbnetworkid=\"10505910\">$2</span> thousand</font><font style=\"font-family:inherit;font-size:10pt;\"> on Phase 2 DC Systems and for Systems installed by Holdings upon installation and such fees are generally collected upfront upon installation.  The Company will then manage the billing and collection of VPFs and will remit all VPFs collected to the exhibitors, less an administrative fee that will approximate up to </font><font style=\"font-family:inherit;font-size:10pt;color:#000000;text-decoration:none;\" data-cbfactid=\"-1\" data-cbnumtext=\"10%\" data-cbnetworkid=\"10505910\">10%</font><font style=\"font-family:inherit;font-size:10pt;\"> of the VPFs collected.</font></div><div style=\"line-height:120%;text-align:justify;font-size:10pt;\"><font style=\"font-family:inherit;font-size:10pt;\"><br clear=\"none\"></font></div><div style=\"line-height:120%;text-align:justify;font-size:10pt;\"><font style=\"font-family:inherit;font-size:10pt;\">The administrative fee related to the Phase I Deployment approximates </font><font style=\"font-family:inherit;font-size:10pt;color:#000000;text-decoration:none;\" data-cbfactid=\"-1\" data-cbnumtext=\"5%\" data-cbnetworkid=\"10505910\">5%</font><font style=\"font-family:inherit;font-size:10pt;\"> of the VPFs collected and an incentive service fee equal to </font><font style=\"font-family:inherit;font-size:10pt;color:#000000;text-decoration:none;\" data-cbfactid=\"46490912\" data-cbnetworkid=\"10505910\">2.5%</font><font style=\"font-family:inherit;font-size:10pt;\"> of the VPFs earned by Phase 1 DC.  This administrative fee is recognized in the period in which the billing of VPFs occurs, as performance obligations have been substantially met at that time.</font></div><div style=\"line-height:120%;text-align:justify;font-size:10pt;\"><font style=\"font-family:inherit;font-size:10pt;\"><br clear=\"none\"></font></div><div style=\"line-height:120%;text-align:justify;font-size:10pt;\"><font style=\"font-family:inherit;font-size:10pt;font-style:italic;font-weight:bold;\">Content &amp; Entertainment</font></div><div style=\"line-height:120%;text-align:justify;font-size:10pt;\"><font style=\"font-family:inherit;font-size:10pt;\"><br clear=\"none\"></font></div><div style=\"line-height:120%;text-align:justify;font-size:10pt;\"><font style=\"font-family:inherit;font-size:10pt;\">CEG earns fees for the distribution of content in the home entertainment markets via several distribution channels, including digital, video-on-demand, and physical goods (e.g. DVD and Blu-ray Disc). The fee rate earned by the Company varies depending upon the nature of the agreements with the platform and content providers. Generally, revenues are recognized at the availability date of the content for a subscription digital platform, at the time of shipment for physical goods, or point-of-sale for transactional and video-on-demand services.</font></div><div style=\"line-height:120%;text-align:justify;font-size:10pt;\"><font style=\"font-family:inherit;font-size:10pt;\"><br clear=\"none\"></font></div><div style=\"line-height:120%;text-align:justify;font-size:10pt;\"><font style=\"font-family:inherit;font-size:10pt;\">CEG also has contracts for the theatrical distribution of third party feature movies and alternative content. CEG&#8217;s distribution fee revenue and CEG's participation in box office receipts is recognized at the time a feature movie and alternative content is viewed. CEG has the right to receive or bill a portion of the theatrical distribution fee in advance of the exhibition date, and therefore such amount is recorded as a receivable at the time of execution, and all related distribution revenue is deferred until the third party feature movies&#8217; or alternative content&#8217;s theatrical release date. </font></div><div style=\"line-height:120%;text-align:justify;font-size:10pt;\"><font style=\"font-family:inherit;font-size:10pt;\"><br clear=\"none\"></font></div></div>"
      ],
      "text/plain": [
       "<IPython.core.display.HTML object>"
      ]
     },
     "metadata": {},
     "output_type": "display_data"
    },
    {
     "data": {
      "text/html": [
       "<h1>Computer Graphics International Inc. - Fiscal Year 2012</h1><p style=\"margin: 0pt 0px; font: 10pt times new roman, times, serif;\"><u>Revenue Recognition</u></p>\n",
       "<p style=\"margin: 0pt 0px; font: 10pt times new roman, times, serif;\">&#160;</p>\n",
       "<p style=\"text-align: justify; margin: 0pt 0px; font: 10pt times new roman, times, serif;\">The Company&#8217;s revenue recognition policies are in compliance with SEC Staff Accounting bulletin (&#8220;SAB&#8221;) 104 (codified in FASB ASC Topic 605). Sales revenue is recognized at the completion of delivery to customers when a formal arrangement exists, the price is fixed or determinable, no other significant obligations of the Company exist and collectability is reasonably assured at the date of completion of delivery. Payments received before all of the relevant criteria for revenue recognition are satisfied are recorded as unearned revenue.</p>"
      ],
      "text/plain": [
       "<IPython.core.display.HTML object>"
      ]
     },
     "metadata": {},
     "output_type": "display_data"
    },
    {
     "data": {
      "text/html": [
       "<h1>Crimson Forest Entertainment Group Inc. - Fiscal Year 2012</h1><div style=\"TEXT-ALIGN: justify; LINE-HEIGHT: 1.25; TEXT-INDENT: 0pt; DISPLAY: block; MARGIN-LEFT: 0pt; MARGIN-RIGHT: 0pt\"><font style=\"DISPLAY: inline; FONT-FAMILY: Times New Roman; FONT-SIZE: 10pt; FONT-WEIGHT: bold\">Revenue\r",
       "    \n",
       "        Recognition</font>\r",
       "   \n",
       "      </div><br/><div style=\"TEXT-ALIGN: justify; LINE-HEIGHT: 1.25; TEXT-INDENT: 0pt; DISPLAY: block; MARGIN-LEFT: 0pt; MARGIN-RIGHT: 0pt\">\r",
       "    \n",
       "        <font style=\"DISPLAY: inline; FONT-FAMILY: Times New Roman; FONT-SIZE: 10pt\">The\r",
       "     \n",
       "        Company records revenue when all of the following have\r",
       "   \n",
       "        occurred: (1) persuasive evidence of an arrangement exists;\r",
       "   \n",
       "        (2) product delivery has occurred; (3) the sales price to\r",
       " \n",
       "        the customer is fixed or determinable; and (4)\r",
       "     \n",
       "        collectability is reasonably assured.&#160;&#160;Depending\r",
       "     \n",
       "        on the relationship with the customer, the Company\r",
       "    \n",
       "        recognizes revenue upon shipment or arrival at\r",
       "     \n",
       "        destination.&#160;&#160;There is no stated right to return\r",
       "     \n",
       "        and there have been no returns.</font>\r",
       "   \n",
       "      </div><br/><div style=\"LINE-HEIGHT: 1.25; TEXT-INDENT: 0pt; DISPLAY: block; MARGIN-LEFT: 0pt; MARGIN-RIGHT: 0pt\" align=\"justify\">\r",
       "    \n",
       "        <font style=\"DISPLAY: inline; FONT-FAMILY: Times New Roman; FONT-SIZE: 10pt\">The\r",
       "     \n",
       "        Company reported revenues from the following\r",
       "   \n",
       "        countries:</font>\r",
       "  \n",
       "      </div><br/><table cellpadding=\"0\" cellspacing=\"0\" width=\"100%\" style=\"FONT-FAMILY: times new roman; FONT-SIZE: 10pt; FONT-SIZE: 10pt; FONT-FAMILY: times new roman\">\r",
       "    \n",
       "          <tr>\r",
       " \n",
       "            <td valign=\"bottom\">\r",
       "    \n",
       "              <font style=\"DISPLAY: inline; FONT-FAMILY: times new roman; FONT-SIZE: 10pt\">&#160;</font>\r",
       " \n",
       "            </td>\r",
       "    \n",
       "            <td valign=\"bottom\">\r",
       "    \n",
       "              <font style=\"DISPLAY: inline; FONT-FAMILY: times new roman; FONT-SIZE: 10pt\">&#160;</font>\r",
       " \n",
       "            </td>\r",
       "    \n",
       "            <td colspan=\"2\" valign=\"bottom\">\r",
       " \n",
       "              <div style=\"LINE-HEIGHT: 1.25; TEXT-INDENT: 0pt; DISPLAY: block; MARGIN-LEFT: 0pt; MARGIN-RIGHT: 0pt\" align=\"center\">\r",
       "   \n",
       "                <font style=\"DISPLAY: inline; FONT-FAMILY: times new roman; FONT-SIZE: 10pt\">Year\r",
       "    \n",
       "                Ended</font>\r",
       "     \n",
       "              </div>\r",
       "  \n",
       "            </td>\r",
       "    \n",
       "            <td nowrap=\"nowrap\" valign=\"bottom\" style=\"TEXT-ALIGN: left\">\r",
       "     \n",
       "              <font style=\"DISPLAY: inline; FONT-FAMILY: times new roman; FONT-SIZE: 10pt\">&#160;</font>\r",
       " \n",
       "            </td>\r",
       "    \n",
       "            <td valign=\"bottom\">\r",
       "    \n",
       "              <font style=\"DISPLAY: inline; FONT-FAMILY: times new roman; FONT-SIZE: 10pt\">&#160;</font>\r",
       " \n",
       "            </td>\r",
       "    \n",
       "            <td colspan=\"2\" valign=\"bottom\">\r",
       " \n",
       "              <font style=\"DISPLAY: inline; FONT-FAMILY: times new roman; FONT-SIZE: 10pt\">&#160;</font>\r",
       " \n",
       "            </td>\r",
       "    \n",
       "            <td nowrap=\"nowrap\" valign=\"bottom\" style=\"TEXT-ALIGN: left\">\r",
       "     \n",
       "              <font style=\"DISPLAY: inline; FONT-FAMILY: times new roman; FONT-SIZE: 10pt\">&#160;</font>\r",
       " \n",
       "            </td>\r",
       "    \n",
       "            <td valign=\"bottom\">\r",
       "    \n",
       "              <font style=\"DISPLAY: inline; FONT-FAMILY: times new roman; FONT-SIZE: 10pt\">&#160;</font>\r",
       " \n",
       "            </td>\r",
       "    \n",
       "            <td colspan=\"2\" valign=\"bottom\">\r",
       " \n",
       "              <div style=\"LINE-HEIGHT: 1.25; TEXT-INDENT: 0pt; DISPLAY: block; MARGIN-LEFT: 0pt; MARGIN-RIGHT: 0pt\" align=\"center\">\r",
       "   \n",
       "                <font style=\"DISPLAY: inline; FONT-FAMILY: times new roman; FONT-SIZE: 10pt\">Year\r",
       "    \n",
       "                Ended</font>\r",
       "     \n",
       "              </div>\r",
       "  \n",
       "            </td>\r",
       "    \n",
       "            <td nowrap=\"nowrap\" valign=\"bottom\" style=\"TEXT-ALIGN: left\">\r",
       "     \n",
       "              <font style=\"DISPLAY: inline; FONT-FAMILY: times new roman; FONT-SIZE: 10pt\">&#160;</font>\r",
       " \n",
       "            </td>\r",
       "    \n",
       "            <td valign=\"bottom\">\r",
       "    \n",
       "              <font style=\"DISPLAY: inline; FONT-FAMILY: times new roman; FONT-SIZE: 10pt\">&#160;</font>\r",
       " \n",
       "            </td>\r",
       "    \n",
       "            <td colspan=\"2\" valign=\"bottom\">\r",
       " \n",
       "              <font style=\"DISPLAY: inline; FONT-FAMILY: times new roman; FONT-SIZE: 10pt\">&#160;</font>\r",
       " \n",
       "            </td>\r",
       "    \n",
       "            <td nowrap=\"nowrap\" valign=\"bottom\" style=\"TEXT-ALIGN: left\">\r",
       "     \n",
       "              <font style=\"DISPLAY: inline; FONT-FAMILY: times new roman; FONT-SIZE: 10pt\">&#160;</font>\r",
       " \n",
       "            </td>\r",
       "    \n",
       "            <td valign=\"bottom\">\r",
       "    \n",
       "              <font style=\"DISPLAY: inline; FONT-FAMILY: times new roman; FONT-SIZE: 10pt\">&#160;</font>\r",
       " \n",
       "            </td>\r",
       "    \n",
       "            <td colspan=\"2\" valign=\"bottom\">\r",
       " \n",
       "              <div style=\"LINE-HEIGHT: 1.25; TEXT-INDENT: 0pt; DISPLAY: block; MARGIN-LEFT: 0pt; MARGIN-RIGHT: 0pt\" align=\"center\">\r",
       "   \n",
       "                <font style=\"DISPLAY: inline; FONT-FAMILY: times new roman; FONT-SIZE: 10pt\">June\r",
       "    \n",
       "                11, 2010 (inception) to</font>\r",
       "   \n",
       "              </div>\r",
       "  \n",
       "            </td>\r",
       "    \n",
       "            <td nowrap=\"nowrap\" valign=\"bottom\" style=\"TEXT-ALIGN: left\">\r",
       "     \n",
       "              <font style=\"DISPLAY: inline; FONT-FAMILY: times new roman; FONT-SIZE: 10pt\">&#160;</font>\r",
       " \n",
       "            </td>\r",
       "    \n",
       "            <td valign=\"bottom\">\r",
       "    \n",
       "              <font style=\"DISPLAY: inline; FONT-FAMILY: times new roman; FONT-SIZE: 10pt\">&#160;</font>\r",
       " \n",
       "            </td>\r",
       "    \n",
       "            <td colspan=\"2\" valign=\"bottom\">\r",
       " \n",
       "              <font style=\"DISPLAY: inline; FONT-FAMILY: times new roman; FONT-SIZE: 10pt\">&#160;</font>\r",
       " \n",
       "            </td>\r",
       "    \n",
       "            <td nowrap=\"nowrap\" valign=\"bottom\" style=\"TEXT-ALIGN: left\">\r",
       "     \n",
       "              <font style=\"DISPLAY: inline; FONT-FAMILY: times new roman; FONT-SIZE: 10pt\">&#160;</font>\r",
       " \n",
       "            </td>\r",
       "    \n",
       "          </tr>\r",
       "  \n",
       "          <tr>\r",
       " \n",
       "            <td valign=\"bottom\" style=\"PADDING-BOTTOM: 2px\">\r",
       "  \n",
       "              <font style=\"DISPLAY: inline; FONT-FAMILY: times new roman; FONT-SIZE: 10pt\">&#160;</font>\r",
       " \n",
       "            </td>\r",
       "    \n",
       "            <td valign=\"bottom\" style=\"PADDING-BOTTOM: 2px\">\r",
       "  \n",
       "              <font style=\"DISPLAY: inline; FONT-FAMILY: times new roman; FONT-SIZE: 10pt\">&#160;</font>\r",
       " \n",
       "            </td>\r",
       "    \n",
       "            <td colspan=\"2\" valign=\"bottom\" style=\"BORDER-BOTTOM: black 2px solid\">\r",
       "     \n",
       "              <div style=\"LINE-HEIGHT: 1.25; TEXT-INDENT: 0pt; DISPLAY: block; MARGIN-LEFT: 0pt; MARGIN-RIGHT: 0pt\" align=\"center\">\r",
       "   \n",
       "                <font style=\"DISPLAY: inline; FONT-FAMILY: times new roman; FONT-SIZE: 10pt\">February\r",
       "   \n",
       "                28, 2013</font>\r",
       "   \n",
       "              </div>\r",
       "  \n",
       "            </td>\r",
       "    \n",
       "            <td nowrap=\"nowrap\" valign=\"bottom\" style=\"TEXT-ALIGN: left; PADDING-BOTTOM: 2px\">\r",
       " \n",
       "              <font style=\"DISPLAY: inline; FONT-FAMILY: times new roman; FONT-SIZE: 10pt\">&#160;</font>\r",
       " \n",
       "            </td>\r",
       "    \n",
       "            <td valign=\"bottom\" style=\"PADDING-BOTTOM: 2px\">\r",
       "  \n",
       "              <font style=\"DISPLAY: inline; FONT-FAMILY: times new roman; FONT-SIZE: 10pt\">&#160;</font>\r",
       " \n",
       "            </td>\r",
       "    \n",
       "            <td colspan=\"2\" valign=\"bottom\" style=\"BORDER-BOTTOM: black 2px solid\">\r",
       "     \n",
       "              <div style=\"LINE-HEIGHT: 1.25; TEXT-INDENT: 0pt; DISPLAY: block; MARGIN-LEFT: 0pt; MARGIN-RIGHT: 0pt\" align=\"center\">\r",
       "   \n",
       "                <font style=\"DISPLAY: inline; FONT-FAMILY: times new roman; FONT-SIZE: 10pt\">%</font>\r",
       "    \n",
       "              </div>\r",
       "  \n",
       "            </td>\r",
       "    \n",
       "            <td nowrap=\"nowrap\" valign=\"bottom\" style=\"TEXT-ALIGN: left; PADDING-BOTTOM: 2px\">\r",
       " \n",
       "              <font style=\"DISPLAY: inline; FONT-FAMILY: times new roman; FONT-SIZE: 10pt\">&#160;</font>\r",
       " \n",
       "            </td>\r",
       "    \n",
       "            <td valign=\"bottom\" style=\"PADDING-BOTTOM: 2px\">\r",
       "  \n",
       "              <font style=\"DISPLAY: inline; FONT-FAMILY: times new roman; FONT-SIZE: 10pt\">&#160;</font>\r",
       " \n",
       "            </td>\r",
       "    \n",
       "            <td colspan=\"2\" valign=\"bottom\" style=\"BORDER-BOTTOM: black 2px solid\">\r",
       "     \n",
       "              <div style=\"LINE-HEIGHT: 1.25; TEXT-INDENT: 0pt; DISPLAY: block; MARGIN-LEFT: 0pt; MARGIN-RIGHT: 0pt\" align=\"center\">\r",
       "   \n",
       "                <font style=\"DISPLAY: inline; FONT-FAMILY: times new roman; FONT-SIZE: 10pt\">February\r",
       "   \n",
       "                29, 2012</font>\r",
       "   \n",
       "              </div>\r",
       "  \n",
       "            </td>\r",
       "    \n",
       "            <td nowrap=\"nowrap\" valign=\"bottom\" style=\"TEXT-ALIGN: left; PADDING-BOTTOM: 2px\">\r",
       " \n",
       "              <font style=\"DISPLAY: inline; FONT-FAMILY: times new roman; FONT-SIZE: 10pt\">&#160;</font>\r",
       " \n",
       "            </td>\r",
       "    \n",
       "            <td valign=\"bottom\" style=\"PADDING-BOTTOM: 2px\">\r",
       "  \n",
       "              <font style=\"DISPLAY: inline; FONT-FAMILY: times new roman; FONT-SIZE: 10pt\">&#160;</font>\r",
       " \n",
       "            </td>\r",
       "    \n",
       "            <td colspan=\"2\" valign=\"bottom\" style=\"BORDER-BOTTOM: black 2px solid\">\r",
       "     \n",
       "              <div style=\"LINE-HEIGHT: 1.25; TEXT-INDENT: 0pt; DISPLAY: block; MARGIN-LEFT: 0pt; MARGIN-RIGHT: 0pt\" align=\"center\">\r",
       "   \n",
       "                <font style=\"DISPLAY: inline; FONT-FAMILY: times new roman; FONT-SIZE: 10pt\">%</font>\r",
       "    \n",
       "              </div>\r",
       "  \n",
       "            </td>\r",
       "    \n",
       "            <td nowrap=\"nowrap\" valign=\"bottom\" style=\"TEXT-ALIGN: left; PADDING-BOTTOM: 2px\">\r",
       " \n",
       "              <font style=\"DISPLAY: inline; FONT-FAMILY: times new roman; FONT-SIZE: 10pt\">&#160;</font>\r",
       " \n",
       "            </td>\r",
       "    \n",
       "            <td valign=\"bottom\" style=\"PADDING-BOTTOM: 2px\">\r",
       "  \n",
       "              <font style=\"DISPLAY: inline; FONT-FAMILY: times new roman; FONT-SIZE: 10pt\">&#160;</font>\r",
       " \n",
       "            </td>\r",
       "    \n",
       "            <td colspan=\"2\" valign=\"bottom\" style=\"BORDER-BOTTOM: black 2px solid\">\r",
       "     \n",
       "              <div style=\"LINE-HEIGHT: 1.25; TEXT-INDENT: 0pt; DISPLAY: block; MARGIN-LEFT: 0pt; MARGIN-RIGHT: 0pt\" align=\"center\">\r",
       "   \n",
       "                <font style=\"DISPLAY: inline; FONT-FAMILY: times new roman; FONT-SIZE: 10pt\">February\r",
       "   \n",
       "                28, 2013</font>\r",
       "   \n",
       "              </div>\r",
       "  \n",
       "            </td>\r",
       "    \n",
       "            <td nowrap=\"nowrap\" valign=\"bottom\" style=\"TEXT-ALIGN: left; PADDING-BOTTOM: 2px\">\r",
       " \n",
       "              <font style=\"DISPLAY: inline; FONT-FAMILY: times new roman; FONT-SIZE: 10pt\">&#160;</font>\r",
       " \n",
       "            </td>\r",
       "    \n",
       "            <td valign=\"bottom\" style=\"PADDING-BOTTOM: 2px\">\r",
       "  \n",
       "              <font style=\"DISPLAY: inline; FONT-FAMILY: times new roman; FONT-SIZE: 10pt\">&#160;</font>\r",
       " \n",
       "            </td>\r",
       "    \n",
       "            <td colspan=\"2\" valign=\"bottom\" style=\"BORDER-BOTTOM: black 2px solid\">\r",
       "     \n",
       "              <div style=\"LINE-HEIGHT: 1.25; TEXT-INDENT: 0pt; DISPLAY: block; MARGIN-LEFT: 0pt; MARGIN-RIGHT: 0pt\" align=\"center\">\r",
       "   \n",
       "                <font style=\"DISPLAY: inline; FONT-FAMILY: times new roman; FONT-SIZE: 10pt\">%</font>\r",
       "    \n",
       "              </div>\r",
       "  \n",
       "            </td>\r",
       "    \n",
       "            <td nowrap=\"nowrap\" valign=\"bottom\" style=\"TEXT-ALIGN: left; PADDING-BOTTOM: 2px\">\r",
       " \n",
       "              <font style=\"DISPLAY: inline; FONT-FAMILY: times new roman; FONT-SIZE: 10pt\">&#160;</font>\r",
       " \n",
       "            </td>\r",
       "    \n",
       "          </tr>\r",
       "  \n",
       "          <tr style=\"background-color: #C0FFFF;\">\r",
       " \n",
       "            <td align=\"left\" valign=\"bottom\" width=\"10%\">\r",
       "    \n",
       "              <div style=\"LINE-HEIGHT: 1.25; TEXT-INDENT: 0pt; DISPLAY: block; MARGIN-LEFT: 0pt; MARGIN-RIGHT: 0pt\" align=\"left\">\r",
       " \n",
       "                <font style=\"DISPLAY: inline; FONT-FAMILY: times new roman; FONT-SIZE: 10pt\">&#160;&#160;United\r",
       " \n",
       "                States</font>\r",
       " \n",
       "              </div>\r",
       "  \n",
       "            </td>\r",
       "    \n",
       "            <td align=\"left\" valign=\"bottom\" width=\"1%\">\r",
       "   \n",
       "              <font style=\"DISPLAY: inline; FONT-FAMILY: times new roman; FONT-SIZE: 10pt\">&#160;</font>\r",
       " \n",
       "            </td>\r",
       "    \n",
       "            <td valign=\"bottom\" width=\"1%\" style=\"TEXT-ALIGN: left\">\r",
       "     \n",
       "              <font style=\"DISPLAY: inline; FONT-FAMILY: times new roman; FONT-SIZE: 10pt\">$</font>\r",
       "  \n",
       "            </td>\r",
       "    \n",
       "            <td valign=\"bottom\" width=\"12%\" style=\"TEXT-ALIGN: right\">\r",
       "  \n",
       "              <font style=\"DISPLAY: inline; FONT-FAMILY: times new roman; FONT-SIZE: 10pt\">151,380</font>\r",
       "   \n",
       "            </td>\r",
       "    \n",
       "            <td nowrap=\"nowrap\" valign=\"bottom\" width=\"1%\" style=\"TEXT-ALIGN: left\">\r",
       " \n",
       "              <font style=\"DISPLAY: inline; FONT-FAMILY: times new roman; FONT-SIZE: 10pt\">&#160;</font>\r",
       " \n",
       "            </td>\r",
       "    \n",
       "            <td valign=\"bottom\" width=\"1%\">\r",
       "     \n",
       "              <font style=\"DISPLAY: inline; FONT-FAMILY: times new roman; FONT-SIZE: 10pt\">&#160;</font>\r",
       " \n",
       "            </td>\r",
       "    \n",
       "            <td valign=\"bottom\" width=\"1%\" style=\"TEXT-ALIGN: left\">\r",
       "     \n",
       "              <font style=\"DISPLAY: inline; FONT-FAMILY: times new roman; FONT-SIZE: 10pt\">&#160;</font>\r",
       " \n",
       "            </td>\r",
       "    \n",
       "            <td valign=\"bottom\" width=\"12%\" style=\"TEXT-ALIGN: right\">\r",
       "  \n",
       "              <font style=\"DISPLAY: inline; FONT-FAMILY: times new roman; FONT-SIZE: 10pt\">100</font>\r",
       "    \n",
       "            </td>\r",
       "    \n",
       "            <td nowrap=\"nowrap\" valign=\"bottom\" width=\"1%\" style=\"TEXT-ALIGN: left\">\r",
       " \n",
       "              <font style=\"DISPLAY: inline; FONT-FAMILY: times new roman; FONT-SIZE: 10pt\">%</font>\r",
       "  \n",
       "            </td>\r",
       "    \n",
       "            <td align=\"left\" valign=\"bottom\" width=\"1%\">\r",
       "   \n",
       "              <font style=\"DISPLAY: inline; FONT-FAMILY: times new roman; FONT-SIZE: 10pt\">&#160;</font>\r",
       " \n",
       "            </td>\r",
       "    \n",
       "            <td valign=\"bottom\" width=\"1%\" style=\"TEXT-ALIGN: left\">\r",
       "     \n",
       "              <font style=\"DISPLAY: inline; FONT-FAMILY: times new roman; FONT-SIZE: 10pt\">$</font>\r",
       "  \n",
       "            </td>\r",
       "    \n",
       "            <td valign=\"bottom\" width=\"12%\" style=\"TEXT-ALIGN: right\">\r",
       "  \n",
       "              <font style=\"DISPLAY: inline; FONT-FAMILY: times new roman; FONT-SIZE: 10pt\">47,280</font>\r",
       "  \n",
       "            </td>\r",
       "    \n",
       "            <td nowrap=\"nowrap\" valign=\"bottom\" width=\"1%\" style=\"TEXT-ALIGN: left\">\r",
       " \n",
       "              <font style=\"DISPLAY: inline; FONT-FAMILY: times new roman; FONT-SIZE: 10pt\">&#160;</font>\r",
       " \n",
       "            </td>\r",
       "    \n",
       "            <td valign=\"bottom\" width=\"1%\">\r",
       "     \n",
       "              <font style=\"DISPLAY: inline; FONT-FAMILY: times new roman; FONT-SIZE: 10pt\">&#160;</font>\r",
       " \n",
       "            </td>\r",
       "    \n",
       "            <td valign=\"bottom\" width=\"1%\" style=\"TEXT-ALIGN: left\">\r",
       "     \n",
       "              <font style=\"DISPLAY: inline; FONT-FAMILY: times new roman; FONT-SIZE: 10pt\">&#160;</font>\r",
       " \n",
       "            </td>\r",
       "    \n",
       "            <td valign=\"bottom\" width=\"12%\" style=\"TEXT-ALIGN: right\">\r",
       "  \n",
       "              <font style=\"DISPLAY: inline; FONT-FAMILY: times new roman; FONT-SIZE: 10pt\">100</font>\r",
       "    \n",
       "            </td>\r",
       "    \n",
       "            <td nowrap=\"nowrap\" valign=\"bottom\" width=\"1%\" style=\"TEXT-ALIGN: left\">\r",
       " \n",
       "              <font style=\"DISPLAY: inline; FONT-FAMILY: times new roman; FONT-SIZE: 10pt\">%</font>\r",
       "  \n",
       "            </td>\r",
       "    \n",
       "            <td align=\"left\" valign=\"bottom\" width=\"1%\">\r",
       "   \n",
       "              <font style=\"DISPLAY: inline; FONT-FAMILY: times new roman; FONT-SIZE: 10pt\">&#160;</font>\r",
       " \n",
       "            </td>\r",
       "    \n",
       "            <td valign=\"bottom\" width=\"1%\" style=\"TEXT-ALIGN: left\">\r",
       "     \n",
       "              <font style=\"DISPLAY: inline; FONT-FAMILY: times new roman; FONT-SIZE: 10pt\">$</font>\r",
       "  \n",
       "            </td>\r",
       "    \n",
       "            <td valign=\"bottom\" width=\"12%\" style=\"TEXT-ALIGN: right\">\r",
       "  \n",
       "              <font style=\"DISPLAY: inline; FONT-FAMILY: times new roman; FONT-SIZE: 10pt\">198,660</font>\r",
       "   \n",
       "            </td>\r",
       "    \n",
       "            <td nowrap=\"nowrap\" valign=\"bottom\" width=\"1%\" style=\"TEXT-ALIGN: left\">\r",
       " \n",
       "              <font style=\"DISPLAY: inline; FONT-FAMILY: times new roman; FONT-SIZE: 10pt\">&#160;</font>\r",
       " \n",
       "            </td>\r",
       "    \n",
       "            <td align=\"left\" valign=\"bottom\" width=\"1%\">\r",
       "   \n",
       "              <font style=\"DISPLAY: inline; FONT-FAMILY: times new roman; FONT-SIZE: 10pt\">&#160;</font>\r",
       " \n",
       "            </td>\r",
       "    \n",
       "            <td valign=\"bottom\" width=\"1%\" style=\"TEXT-ALIGN: left\">\r",
       "     \n",
       "              <font style=\"DISPLAY: inline; FONT-FAMILY: times new roman; FONT-SIZE: 10pt\">&#160;</font>\r",
       " \n",
       "            </td>\r",
       "    \n",
       "            <td valign=\"bottom\" width=\"12%\" style=\"TEXT-ALIGN: right\">\r",
       "  \n",
       "              <font style=\"DISPLAY: inline; FONT-FAMILY: times new roman; FONT-SIZE: 10pt\">90</font>\r",
       "   \n",
       "            </td>\r",
       "    \n",
       "            <td nowrap=\"nowrap\" valign=\"bottom\" width=\"1%\" style=\"TEXT-ALIGN: left\">\r",
       " \n",
       "              <font style=\"DISPLAY: inline; FONT-FAMILY: times new roman; FONT-SIZE: 10pt\">%</font>\r",
       "  \n",
       "            </td>\r",
       "    \n",
       "          </tr>\r",
       "  \n",
       "          <tr>\r",
       " \n",
       "            <td align=\"left\" valign=\"bottom\" width=\"10%\" style=\"PADDING-BOTTOM: 2px\">\r",
       "  \n",
       "              <div style=\"LINE-HEIGHT: 1.25; TEXT-INDENT: 0pt; DISPLAY: block; MARGIN-LEFT: 0pt; MARGIN-RIGHT: 0pt\" align=\"left\">\r",
       " \n",
       "                <font style=\"DISPLAY: inline; FONT-FAMILY: times new roman; FONT-SIZE: 10pt\">&#160;&#160;Brazil</font>\r",
       "    \n",
       "              </div>\r",
       "  \n",
       "            </td>\r",
       "    \n",
       "            <td align=\"left\" valign=\"bottom\" width=\"1%\" style=\"PADDING-BOTTOM: 2px\">\r",
       " \n",
       "              <font style=\"DISPLAY: inline; FONT-FAMILY: times new roman; FONT-SIZE: 10pt\">&#160;</font>\r",
       " \n",
       "            </td>\r",
       "    \n",
       "            <td valign=\"bottom\" width=\"1%\" style=\"BORDER-BOTTOM: black 2px solid; TEXT-ALIGN: left\">\r",
       "  \n",
       "              <font style=\"DISPLAY: inline; FONT-FAMILY: times new roman; FONT-SIZE: 10pt\">&#160;</font>\r",
       " \n",
       "            </td>\r",
       "    \n",
       "            <td valign=\"bottom\" width=\"12%\" style=\"BORDER-BOTTOM: black 2px solid; TEXT-ALIGN: right\">\r",
       "    \n",
       "              <font style=\"DISPLAY: inline; FONT-FAMILY: times new roman; FONT-SIZE: 10pt\"><font style=\"DISPLAY: inline\">-</font></font>\r",
       " \n",
       "            </td>\r",
       "    \n",
       "            <td nowrap=\"nowrap\" valign=\"bottom\" width=\"1%\" style=\"TEXT-ALIGN: left; PADDING-BOTTOM: 2px\">\r",
       "  \n",
       "              <font style=\"DISPLAY: inline; FONT-FAMILY: times new roman; FONT-SIZE: 10pt\">&#160;</font>\r",
       " \n",
       "            </td>\r",
       "    \n",
       "            <td valign=\"bottom\" width=\"1%\" style=\"PADDING-BOTTOM: 2px\">\r",
       "   \n",
       "              <font style=\"DISPLAY: inline; FONT-FAMILY: times new roman; FONT-SIZE: 10pt\">&#160;</font>\r",
       " \n",
       "            </td>\r",
       "    \n",
       "            <td valign=\"bottom\" width=\"1%\" style=\"TEXT-ALIGN: left\">\r",
       "     \n",
       "              <font style=\"DISPLAY: inline; FONT-FAMILY: times new roman; FONT-SIZE: 10pt\">&#160;</font>\r",
       " \n",
       "            </td>\r",
       "    \n",
       "            <td valign=\"bottom\" width=\"12%\" style=\"TEXT-ALIGN: right; PADDING-BOTTOM: 2px\">\r",
       "   \n",
       "              <font style=\"DISPLAY: inline; FONT-FAMILY: times new roman; FONT-SIZE: 10pt\">-</font>\r",
       "  \n",
       "            </td>\r",
       "    \n",
       "            <td nowrap=\"nowrap\" valign=\"bottom\" width=\"1%\" style=\"TEXT-ALIGN: left; PADDING-BOTTOM: 2px\">\r",
       "  \n",
       "              <font style=\"DISPLAY: inline; FONT-FAMILY: times new roman; FONT-SIZE: 10pt\">&#160;</font>\r",
       " \n",
       "            </td>\r",
       "    \n",
       "            <td align=\"left\" valign=\"bottom\" width=\"1%\" style=\"PADDING-BOTTOM: 2px\">\r",
       " \n",
       "              <font style=\"DISPLAY: inline; FONT-FAMILY: times new roman; FONT-SIZE: 10pt\">&#160;</font>\r",
       " \n",
       "            </td>\r",
       "    \n",
       "            <td valign=\"bottom\" width=\"1%\" style=\"BORDER-BOTTOM: black 2px solid; TEXT-ALIGN: left\">\r",
       "  \n",
       "              <font style=\"DISPLAY: inline; FONT-FAMILY: times new roman; FONT-SIZE: 10pt\">&#160;</font>\r",
       " \n",
       "            </td>\r",
       "    \n",
       "            <td valign=\"bottom\" width=\"12%\" style=\"BORDER-BOTTOM: black 2px solid; TEXT-ALIGN: right\">\r",
       "    \n",
       "              <font style=\"DISPLAY: inline; FONT-FAMILY: times new roman; FONT-SIZE: 10pt\"><font style=\"DISPLAY: inline\">-</font></font>\r",
       " \n",
       "            </td>\r",
       "    \n",
       "            <td nowrap=\"nowrap\" valign=\"bottom\" width=\"1%\" style=\"TEXT-ALIGN: left; PADDING-BOTTOM: 2px\">\r",
       "  \n",
       "              <font style=\"DISPLAY: inline; FONT-FAMILY: times new roman; FONT-SIZE: 10pt\">&#160;</font>\r",
       " \n",
       "            </td>\r",
       "    \n",
       "            <td valign=\"bottom\" width=\"1%\" style=\"PADDING-BOTTOM: 2px\">\r",
       "   \n",
       "              <font style=\"DISPLAY: inline; FONT-FAMILY: times new roman; FONT-SIZE: 10pt\">&#160;</font>\r",
       " \n",
       "            </td>\r",
       "    \n",
       "            <td valign=\"bottom\" width=\"1%\" style=\"TEXT-ALIGN: left\">\r",
       "     \n",
       "              <font style=\"DISPLAY: inline; FONT-FAMILY: times new roman; FONT-SIZE: 10pt\">&#160;</font>\r",
       " \n",
       "            </td>\r",
       "    \n",
       "            <td valign=\"bottom\" width=\"12%\" style=\"TEXT-ALIGN: right; PADDING-BOTTOM: 2px\">\r",
       "   \n",
       "              <font style=\"DISPLAY: inline; FONT-FAMILY: times new roman; FONT-SIZE: 10pt\">-</font>\r",
       "  \n",
       "            </td>\r",
       "    \n",
       "            <td nowrap=\"nowrap\" valign=\"bottom\" width=\"1%\" style=\"TEXT-ALIGN: left; PADDING-BOTTOM: 2px\">\r",
       "  \n",
       "              <font style=\"DISPLAY: inline; FONT-FAMILY: times new roman; FONT-SIZE: 10pt\">&#160;</font>\r",
       " \n",
       "            </td>\r",
       "    \n",
       "            <td align=\"left\" valign=\"bottom\" width=\"1%\" style=\"PADDING-BOTTOM: 2px\">\r",
       " \n",
       "              <font style=\"DISPLAY: inline; FONT-FAMILY: times new roman; FONT-SIZE: 10pt\">&#160;</font>\r",
       " \n",
       "            </td>\r",
       "    \n",
       "            <td valign=\"bottom\" width=\"1%\" style=\"BORDER-BOTTOM: black 2px solid; TEXT-ALIGN: left\">\r",
       "  \n",
       "              <font style=\"DISPLAY: inline; FONT-FAMILY: times new roman; FONT-SIZE: 10pt\">&#160;</font>\r",
       " \n",
       "            </td>\r",
       "    \n",
       "            <td valign=\"bottom\" width=\"12%\" style=\"BORDER-BOTTOM: black 2px solid; TEXT-ALIGN: right\">\r",
       "    \n",
       "              <font style=\"DISPLAY: inline; FONT-FAMILY: times new roman; FONT-SIZE: 10pt\"><font style=\"DISPLAY: inline\">21,000</font></font>\r",
       " \n",
       "            </td>\r",
       "    \n",
       "            <td nowrap=\"nowrap\" valign=\"bottom\" width=\"1%\" style=\"TEXT-ALIGN: left; PADDING-BOTTOM: 2px\">\r",
       "  \n",
       "              <font style=\"DISPLAY: inline; FONT-FAMILY: times new roman; FONT-SIZE: 10pt\">&#160;</font>\r",
       " \n",
       "            </td>\r",
       "    \n",
       "            <td valign=\"bottom\" width=\"1%\" style=\"PADDING-BOTTOM: 2px\">\r",
       "   \n",
       "              <font style=\"DISPLAY: inline; FONT-FAMILY: times new roman; FONT-SIZE: 10pt\">&#160;</font>\r",
       " \n",
       "            </td>\r",
       "    \n",
       "            <td valign=\"bottom\" width=\"1%\" style=\"TEXT-ALIGN: left\">\r",
       "     \n",
       "              <font style=\"DISPLAY: inline; FONT-FAMILY: times new roman; FONT-SIZE: 10pt\">&#160;</font>\r",
       " \n",
       "            </td>\r",
       "    \n",
       "            <td valign=\"bottom\" width=\"12%\" style=\"TEXT-ALIGN: right; PADDING-BOTTOM: 2px\">\r",
       "   \n",
       "              <font style=\"DISPLAY: inline; FONT-FAMILY: times new roman; FONT-SIZE: 10pt\">10</font>\r",
       "   \n",
       "            </td>\r",
       "    \n",
       "            <td nowrap=\"nowrap\" valign=\"bottom\" width=\"1%\" style=\"TEXT-ALIGN: left; PADDING-BOTTOM: 2px\">\r",
       "  \n",
       "              <font style=\"DISPLAY: inline; FONT-FAMILY: times new roman; FONT-SIZE: 10pt\">%</font>\r",
       "  \n",
       "            </td>\r",
       "    \n",
       "          </tr>\r",
       "  \n",
       "          <tr style=\"background-color: #C0FFFF;\">\r",
       " \n",
       "            <td align=\"left\" valign=\"bottom\" width=\"10%\" style=\"PADDING-BOTTOM: 4px\">\r",
       "  \n",
       "              <div style=\"LINE-HEIGHT: 1.25; TEXT-INDENT: 0pt; DISPLAY: block; MARGIN-LEFT: 0pt; MARGIN-RIGHT: 0pt\" align=\"left\">\r",
       " \n",
       "                <font style=\"DISPLAY: inline; FONT-FAMILY: times new roman; FONT-SIZE: 10pt\">Total</font>\r",
       "   \n",
       "              </div>\r",
       "  \n",
       "            </td>\r",
       "    \n",
       "            <td align=\"left\" valign=\"bottom\" width=\"1%\" style=\"PADDING-BOTTOM: 4px\">\r",
       " \n",
       "              <font style=\"DISPLAY: inline; FONT-FAMILY: times new roman; FONT-SIZE: 10pt\">&#160;</font>\r",
       " \n",
       "            </td>\r",
       "    \n",
       "            <td valign=\"bottom\" width=\"1%\" style=\"BORDER-BOTTOM: black 4px double; TEXT-ALIGN: left\">\r",
       "   \n",
       "              <font style=\"DISPLAY: inline; FONT-FAMILY: times new roman; FONT-SIZE: 10pt\">$</font>\r",
       "  \n",
       "            </td>\r",
       "    \n",
       "            <td valign=\"bottom\" width=\"12%\" style=\"BORDER-BOTTOM: black 4px double; TEXT-ALIGN: right\">\r",
       "     \n",
       "              <font style=\"DISPLAY: inline; FONT-FAMILY: times new roman; FONT-SIZE: 10pt\"><font style=\"DISPLAY: inline\">151,380</font></font>\r",
       "  \n",
       "            </td>\r",
       "    \n",
       "            <td nowrap=\"nowrap\" valign=\"bottom\" width=\"1%\" style=\"TEXT-ALIGN: left; PADDING-BOTTOM: 4px\">\r",
       "  \n",
       "              <font style=\"DISPLAY: inline; FONT-FAMILY: times new roman; FONT-SIZE: 10pt\">&#160;</font>\r",
       " \n",
       "            </td>\r",
       "    \n",
       "            <td valign=\"bottom\" width=\"1%\" style=\"PADDING-BOTTOM: 4px\">\r",
       "   \n",
       "              <font style=\"DISPLAY: inline; FONT-FAMILY: times new roman; FONT-SIZE: 10pt\">&#160;</font>\r",
       " \n",
       "            </td>\r",
       "    \n",
       "            <td valign=\"bottom\" width=\"1%\" style=\"TEXT-ALIGN: left\">\r",
       "     \n",
       "              <font style=\"DISPLAY: inline; FONT-FAMILY: times new roman; FONT-SIZE: 10pt\">&#160;</font>\r",
       " \n",
       "            </td>\r",
       "    \n",
       "            <td valign=\"bottom\" width=\"12%\" style=\"TEXT-ALIGN: right; PADDING-BOTTOM: 4px\">\r",
       "   \n",
       "              <font style=\"DISPLAY: inline; FONT-FAMILY: times new roman; FONT-SIZE: 10pt\">100</font>\r",
       "    \n",
       "            </td>\r",
       "    \n",
       "            <td nowrap=\"nowrap\" valign=\"bottom\" width=\"1%\" style=\"TEXT-ALIGN: left; PADDING-BOTTOM: 4px\">\r",
       "  \n",
       "              <font style=\"DISPLAY: inline; FONT-FAMILY: times new roman; FONT-SIZE: 10pt\">%</font>\r",
       "  \n",
       "            </td>\r",
       "    \n",
       "            <td align=\"left\" valign=\"bottom\" width=\"1%\" style=\"PADDING-BOTTOM: 4px\">\r",
       " \n",
       "              <font style=\"DISPLAY: inline; FONT-FAMILY: times new roman; FONT-SIZE: 10pt\">&#160;</font>\r",
       " \n",
       "            </td>\r",
       "    \n",
       "            <td valign=\"bottom\" width=\"1%\" style=\"BORDER-BOTTOM: black 4px double; TEXT-ALIGN: left\">\r",
       "   \n",
       "              <font style=\"DISPLAY: inline; FONT-FAMILY: times new roman; FONT-SIZE: 10pt\">$</font>\r",
       "  \n",
       "            </td>\r",
       "    \n",
       "            <td valign=\"bottom\" width=\"12%\" style=\"BORDER-BOTTOM: black 4px double; TEXT-ALIGN: right\">\r",
       "     \n",
       "              <font style=\"DISPLAY: inline; FONT-FAMILY: times new roman; FONT-SIZE: 10pt\"><font style=\"DISPLAY: inline\">47,280</font></font>\r",
       " \n",
       "            </td>\r",
       "    \n",
       "            <td nowrap=\"nowrap\" valign=\"bottom\" width=\"1%\" style=\"TEXT-ALIGN: left; PADDING-BOTTOM: 4px\">\r",
       "  \n",
       "              <font style=\"DISPLAY: inline; FONT-FAMILY: times new roman; FONT-SIZE: 10pt\">&#160;</font>\r",
       " \n",
       "            </td>\r",
       "    \n",
       "            <td valign=\"bottom\" width=\"1%\" style=\"PADDING-BOTTOM: 4px\">\r",
       "   \n",
       "              <font style=\"DISPLAY: inline; FONT-FAMILY: times new roman; FONT-SIZE: 10pt\">&#160;</font>\r",
       " \n",
       "            </td>\r",
       "    \n",
       "            <td valign=\"bottom\" width=\"1%\" style=\"TEXT-ALIGN: left\">\r",
       "     \n",
       "              <font style=\"DISPLAY: inline; FONT-FAMILY: times new roman; FONT-SIZE: 10pt\">&#160;</font>\r",
       " \n",
       "            </td>\r",
       "    \n",
       "            <td valign=\"bottom\" width=\"12%\" style=\"TEXT-ALIGN: right; PADDING-BOTTOM: 4px\">\r",
       "   \n",
       "              <font style=\"DISPLAY: inline; FONT-FAMILY: times new roman; FONT-SIZE: 10pt\">100</font>\r",
       "    \n",
       "            </td>\r",
       "    \n",
       "            <td nowrap=\"nowrap\" valign=\"bottom\" width=\"1%\" style=\"TEXT-ALIGN: left; PADDING-BOTTOM: 4px\">\r",
       "  \n",
       "              <font style=\"DISPLAY: inline; FONT-FAMILY: times new roman; FONT-SIZE: 10pt\">%</font>\r",
       "  \n",
       "            </td>\r",
       "    \n",
       "            <td align=\"left\" valign=\"bottom\" width=\"1%\" style=\"PADDING-BOTTOM: 4px\">\r",
       " \n",
       "              <font style=\"DISPLAY: inline; FONT-FAMILY: times new roman; FONT-SIZE: 10pt\">&#160;</font>\r",
       " \n",
       "            </td>\r",
       "    \n",
       "            <td valign=\"bottom\" width=\"1%\" style=\"BORDER-BOTTOM: black 4px double; TEXT-ALIGN: left\">\r",
       "   \n",
       "              <font style=\"DISPLAY: inline; FONT-FAMILY: times new roman; FONT-SIZE: 10pt\">$</font>\r",
       "  \n",
       "            </td>\r",
       "    \n",
       "            <td valign=\"bottom\" width=\"12%\" style=\"BORDER-BOTTOM: black 4px double; TEXT-ALIGN: right\">\r",
       "     \n",
       "              <font style=\"DISPLAY: inline; FONT-FAMILY: times new roman; FONT-SIZE: 10pt\"><font style=\"DISPLAY: inline\">219,660</font></font>\r",
       "  \n",
       "            </td>\r",
       "    \n",
       "            <td nowrap=\"nowrap\" valign=\"bottom\" width=\"1%\" style=\"TEXT-ALIGN: left; PADDING-BOTTOM: 4px\">\r",
       "  \n",
       "              <font style=\"DISPLAY: inline; FONT-FAMILY: times new roman; FONT-SIZE: 10pt\">&#160;</font>\r",
       " \n",
       "            </td>\r",
       "    \n",
       "            <td valign=\"bottom\" width=\"1%\" style=\"PADDING-BOTTOM: 4px\">\r",
       "   \n",
       "              <font style=\"DISPLAY: inline; FONT-FAMILY: times new roman; FONT-SIZE: 10pt\">&#160;</font>\r",
       " \n",
       "            </td>\r",
       "    \n",
       "            <td valign=\"bottom\" width=\"1%\" style=\"TEXT-ALIGN: left\">\r",
       "     \n",
       "              <font style=\"DISPLAY: inline; FONT-FAMILY: times new roman; FONT-SIZE: 10pt\">&#160;</font>\r",
       " \n",
       "            </td>\r",
       "    \n",
       "            <td valign=\"bottom\" width=\"12%\" style=\"TEXT-ALIGN: right; PADDING-BOTTOM: 4px\">\r",
       "   \n",
       "              <font style=\"DISPLAY: inline; FONT-FAMILY: times new roman; FONT-SIZE: 10pt\">100</font>\r",
       "    \n",
       "            </td>\r",
       "    \n",
       "            <td nowrap=\"nowrap\" valign=\"bottom\" width=\"1%\" style=\"TEXT-ALIGN: left; PADDING-BOTTOM: 4px\">\r",
       "  \n",
       "              <font style=\"DISPLAY: inline; FONT-FAMILY: times new roman; FONT-SIZE: 10pt\">%</font>\r",
       "  \n",
       "            </td>\r",
       "    \n",
       "          </tr>\r",
       "  \n",
       "        </table><br/><div style=\"LINE-HEIGHT: 1.25; TEXT-INDENT: 0pt; DISPLAY: block; MARGIN-LEFT: 0pt; MARGIN-RIGHT: 0pt\" align=\"justify\">\r",
       "   \n",
       "        <font style=\"DISPLAY: inline; FONT-FAMILY: Times New Roman; FONT-SIZE: 10pt\">The\r",
       "     \n",
       "        Company&#8217;s sales concentrations for the years ended\r",
       "    \n",
       "        February 28, 2013 and February 29, 2012, respectively, is\r",
       " \n",
       "        as follows:</font>\r",
       "   \n",
       "      </div><br/><table cellpadding=\"0\" cellspacing=\"0\" width=\"100%\" style=\"FONT-FAMILY: times new roman; FONT-SIZE: 10pt; FONT-SIZE: 10pt; FONT-FAMILY: times new roman\">\r",
       "    \n",
       "          <tr>\r",
       " \n",
       "            <td valign=\"bottom\" style=\"BORDER-BOTTOM: black 2px solid\">\r",
       "   \n",
       "              <div style=\"LINE-HEIGHT: 1.25; TEXT-INDENT: 0pt; DISPLAY: block; MARGIN-LEFT: 0pt; MARGIN-RIGHT: 0pt\" align=\"center\">\r",
       "   \n",
       "                <font style=\"DISPLAY: inline; FONT-FAMILY: times new roman; FONT-SIZE: 10pt; FONT-WEIGHT: bold\">Customer</font>\r",
       "     \n",
       "              </div>\r",
       "  \n",
       "            </td>\r",
       "    \n",
       "            <td nowrap=\"nowrap\" valign=\"bottom\" style=\"TEXT-ALIGN: left; PADDING-BOTTOM: 2px\">\r",
       " \n",
       "              <font style=\"DISPLAY: inline; FONT-FAMILY: times new roman; FONT-SIZE: 10pt; FONT-WEIGHT: bold\">&#160;</font>\r",
       "     \n",
       "            </td>\r",
       "    \n",
       "            <td valign=\"bottom\" style=\"PADDING-BOTTOM: 2px\">\r",
       "  \n",
       "              <font style=\"DISPLAY: inline; FONT-FAMILY: times new roman; FONT-SIZE: 10pt; FONT-WEIGHT: bold\">&#160;</font>\r",
       "     \n",
       "            </td>\r",
       "    \n",
       "            <td colspan=\"2\" valign=\"bottom\" style=\"BORDER-BOTTOM: black 2px solid\">\r",
       "     \n",
       "              <div style=\"LINE-HEIGHT: 1.25; TEXT-INDENT: 0pt; DISPLAY: block; MARGIN-LEFT: 0pt; MARGIN-RIGHT: 0pt\" align=\"center\">\r",
       "   \n",
       "                <font style=\"DISPLAY: inline; FONT-FAMILY: times new roman; FONT-SIZE: 10pt; FONT-WEIGHT: bold\">2013</font>\r",
       " \n",
       "              </div>\r",
       "  \n",
       "            </td>\r",
       "    \n",
       "            <td nowrap=\"nowrap\" valign=\"bottom\" style=\"TEXT-ALIGN: left; PADDING-BOTTOM: 2px\">\r",
       " \n",
       "              <font style=\"DISPLAY: inline; FONT-FAMILY: times new roman; FONT-SIZE: 10pt; FONT-WEIGHT: bold\">&#160;</font>\r",
       "     \n",
       "            </td>\r",
       "    \n",
       "            <td valign=\"bottom\" style=\"PADDING-BOTTOM: 2px\">\r",
       "  \n",
       "              <font style=\"DISPLAY: inline; FONT-FAMILY: times new roman; FONT-SIZE: 10pt; FONT-WEIGHT: bold\">&#160;</font>\r",
       "     \n",
       "            </td>\r",
       "    \n",
       "            <td colspan=\"2\" valign=\"bottom\" style=\"BORDER-BOTTOM: black 2px solid\">\r",
       "     \n",
       "              <div style=\"LINE-HEIGHT: 1.25; TEXT-INDENT: 0pt; DISPLAY: block; MARGIN-LEFT: 0pt; MARGIN-RIGHT: 0pt\" align=\"center\">\r",
       "   \n",
       "                <font style=\"DISPLAY: inline; FONT-FAMILY: times new roman; FONT-SIZE: 10pt; FONT-WEIGHT: bold\">2012</font>\r",
       " \n",
       "              </div>\r",
       "  \n",
       "            </td>\r",
       "    \n",
       "            <td nowrap=\"nowrap\" valign=\"bottom\" style=\"TEXT-ALIGN: left; PADDING-BOTTOM: 2px\">\r",
       " \n",
       "              <font style=\"DISPLAY: inline; FONT-FAMILY: times new roman; FONT-SIZE: 10pt; FONT-WEIGHT: bold\">&#160;</font>\r",
       "     \n",
       "            </td>\r",
       "    \n",
       "          </tr>\r",
       "  \n",
       "          <tr style=\"background-color: #C0FFFF;\">\r",
       " \n",
       "            <td valign=\"bottom\" width=\"12%\" style=\"TEXT-ALIGN: center\">\r",
       "   \n",
       "              <font style=\"DISPLAY: inline; FONT-FAMILY: times new roman; FONT-SIZE: 10pt\">A</font>\r",
       "  \n",
       "            </td>\r",
       "    \n",
       "            <td nowrap=\"nowrap\" valign=\"bottom\" width=\"1%\" style=\"TEXT-ALIGN: left\">\r",
       " \n",
       "              <font style=\"DISPLAY: inline; FONT-FAMILY: times new roman; FONT-SIZE: 10pt\">&#160;</font>\r",
       " \n",
       "            </td>\r",
       "    \n",
       "            <td valign=\"bottom\" width=\"1%\">\r",
       "     \n",
       "              <font style=\"DISPLAY: inline; FONT-FAMILY: times new roman; FONT-SIZE: 10pt\">&#160;</font>\r",
       " \n",
       "            </td>\r",
       "    \n",
       "            <td valign=\"bottom\" width=\"1%\" style=\"TEXT-ALIGN: left\">\r",
       "     \n",
       "              <font style=\"DISPLAY: inline; FONT-FAMILY: times new roman; FONT-SIZE: 10pt\">&#160;</font>\r",
       " \n",
       "            </td>\r",
       "    \n",
       "            <td valign=\"bottom\" width=\"12%\" style=\"TEXT-ALIGN: right\">\r",
       "  \n",
       "              <font style=\"DISPLAY: inline; FONT-FAMILY: times new roman; FONT-SIZE: 10pt\">86</font>\r",
       "   \n",
       "            </td>\r",
       "    \n",
       "            <td nowrap=\"nowrap\" valign=\"bottom\" width=\"1%\" style=\"TEXT-ALIGN: left\">\r",
       " \n",
       "              <font style=\"DISPLAY: inline; FONT-FAMILY: times new roman; FONT-SIZE: 10pt\">%</font>\r",
       "  \n",
       "            </td>\r",
       "    \n",
       "            <td valign=\"bottom\" width=\"1%\">\r",
       "     \n",
       "              <font style=\"DISPLAY: inline; FONT-FAMILY: times new roman; FONT-SIZE: 10pt\">&#160;</font>\r",
       " \n",
       "            </td>\r",
       "    \n",
       "            <td valign=\"bottom\" width=\"1%\" style=\"TEXT-ALIGN: left\">\r",
       "     \n",
       "              <font style=\"DISPLAY: inline; FONT-FAMILY: times new roman; FONT-SIZE: 10pt\">&#160;</font>\r",
       " \n",
       "            </td>\r",
       "    \n",
       "            <td valign=\"bottom\" width=\"12%\" style=\"TEXT-ALIGN: right\">\r",
       "  \n",
       "              <font style=\"DISPLAY: inline; FONT-FAMILY: times new roman; FONT-SIZE: 10pt\">-</font>\r",
       "  \n",
       "            </td>\r",
       "    \n",
       "            <td nowrap=\"nowrap\" valign=\"bottom\" width=\"1%\" style=\"TEXT-ALIGN: left\">\r",
       " \n",
       "              <font style=\"DISPLAY: inline; FONT-FAMILY: times new roman; FONT-SIZE: 10pt\">%</font>\r",
       "  \n",
       "            </td>\r",
       "    \n",
       "          </tr>\r",
       "  \n",
       "          <tr>\r",
       " \n",
       "            <td valign=\"bottom\" width=\"12%\" style=\"TEXT-ALIGN: center\">\r",
       "   \n",
       "              <font style=\"DISPLAY: inline; FONT-FAMILY: times new roman; FONT-SIZE: 10pt\">B</font>\r",
       "  \n",
       "            </td>\r",
       "    \n",
       "            <td nowrap=\"nowrap\" valign=\"bottom\" width=\"1%\" style=\"TEXT-ALIGN: left\">\r",
       " \n",
       "              <font style=\"DISPLAY: inline; FONT-FAMILY: times new roman; FONT-SIZE: 10pt\">&#160;</font>\r",
       " \n",
       "            </td>\r",
       "    \n",
       "            <td valign=\"bottom\" width=\"1%\">\r",
       "     \n",
       "              <font style=\"DISPLAY: inline; FONT-FAMILY: times new roman; FONT-SIZE: 10pt\">&#160;</font>\r",
       " \n",
       "            </td>\r",
       "    \n",
       "            <td valign=\"bottom\" width=\"1%\" style=\"TEXT-ALIGN: left\">\r",
       "     \n",
       "              <font style=\"DISPLAY: inline; FONT-FAMILY: times new roman; FONT-SIZE: 10pt\">&#160;</font>\r",
       " \n",
       "            </td>\r",
       "    \n",
       "            <td valign=\"bottom\" width=\"12%\" style=\"TEXT-ALIGN: right\">\r",
       "  \n",
       "              <font style=\"DISPLAY: inline; FONT-FAMILY: times new roman; FONT-SIZE: 10pt\">14</font>\r",
       "   \n",
       "            </td>\r",
       "    \n",
       "            <td nowrap=\"nowrap\" valign=\"bottom\" width=\"1%\" style=\"TEXT-ALIGN: left\">\r",
       " \n",
       "              <font style=\"DISPLAY: inline; FONT-FAMILY: times new roman; FONT-SIZE: 10pt\">%</font>\r",
       "  \n",
       "            </td>\r",
       "    \n",
       "            <td valign=\"bottom\" width=\"1%\">\r",
       "     \n",
       "              <font style=\"DISPLAY: inline; FONT-FAMILY: times new roman; FONT-SIZE: 10pt\">&#160;</font>\r",
       " \n",
       "            </td>\r",
       "    \n",
       "            <td valign=\"bottom\" width=\"1%\" style=\"TEXT-ALIGN: left\">\r",
       "     \n",
       "              <font style=\"DISPLAY: inline; FONT-FAMILY: times new roman; FONT-SIZE: 10pt\">&#160;</font>\r",
       " \n",
       "            </td>\r",
       "    \n",
       "            <td valign=\"bottom\" width=\"12%\" style=\"TEXT-ALIGN: right\">\r",
       "  \n",
       "              <font style=\"DISPLAY: inline; FONT-FAMILY: times new roman; FONT-SIZE: 10pt\">100</font>\r",
       "    \n",
       "            </td>\r",
       "    \n",
       "            <td nowrap=\"nowrap\" valign=\"bottom\" width=\"1%\" style=\"TEXT-ALIGN: left\">\r",
       " \n",
       "              <font style=\"DISPLAY: inline; FONT-FAMILY: times new roman; FONT-SIZE: 10pt\">%</font></td></tr></table>"
      ],
      "text/plain": [
       "<IPython.core.display.HTML object>"
      ]
     },
     "metadata": {},
     "output_type": "display_data"
    },
    {
     "data": {
      "text/html": [
       "<h1>Digital Cinema Destinations Corp. - Fiscal Year 2013</h1><p style=\"font: 8pt Times New Roman, Times, Serif; margin: 0\">Revenues are generated principally through admissions on feature\r",
       "film displays and concessions sales, with proceeds received in cash or credit card at the Company&#146;s point of sale terminals\r",
       "at the Theaters.&#160;&#160;Revenue is recognized at the point of sale. Credit card sales are normally settled in cash within approximately\r",
       "three business days from the point of sale, and any credit card chargebacks have been insignificant. Other revenue consists of\r",
       "theater rentals for parties, camps, civic groups and other activities, advertising revenue under our advertising contract and our\r",
       "portion of game income, ATM fees and internet ticketing fees. Rental revenue is recognized at the time of the rental.&#160;&#160;Advertising\r",
       "revenue is recorded based on an expected per-patron amount and the number of patrons over the contract period as the advertising\r",
       "is being delivered on screen. Other revenue items are recognized as earned in the period.&#160;&#160;In addition to traditional\r",
       "feature films, the Company also displays concerts, sporting events, children&#146;s programming and other non-traditional content\r",
       "on its screens (such content referred to herein as &#147;alternative content&#148;).&#160;&#160;Revenue from alternative content\r",
       "programming also consists of admissions and concession sales. The Company also sells theater admissions in advance of the applicable\r",
       "event, and sells gift cards for patrons&#146; future use. The Company defers the revenue from such sales until considered redeemed.&#160;&#160;The\r",
       "Company estimates the gift card breakage rate based on historical redemption patterns.&#160;&#160;Unredeemed gift cards are recognized\r",
       "as revenue only after such a period of time indicates, based on historical attendance, the likelihood of redemption is remote,\r",
       "and based on applicable laws and regulations, in evaluating the likelihood of redemption, the period outstanding, the level and\r",
       "frequency of activity, and the period of inactivity is evaluated.</p>"
      ],
      "text/plain": [
       "<IPython.core.display.HTML object>"
      ]
     },
     "metadata": {},
     "output_type": "display_data"
    },
    {
     "data": {
      "text/html": [
       "<h1>DreamWorks Animation SKG, Inc. - Fiscal Year 2012</h1><div style=\"font-family:Times New Roman;font-size:10pt;\"><div style=\"line-height:120%;font-size:10pt;\"><font style=\"font-family:inherit;font-size:10pt;font-style:italic;font-weight:bold;\">Revenue Recognition</font></div><div style=\"line-height:120%;font-size:8pt;\"><font style=\"font-family:inherit;font-size:8pt;\">&#160;</font></div><div style=\"line-height:120%;text-indent:36px;font-size:10pt;\"><font style=\"font-family:inherit;font-size:10pt;\">The Company recognizes revenue from the distribution of its animated feature films when earned and reported to it by its current distributor, Paramount. Pursuant to the distribution and servicing arrangements with Paramount, the Company recognizes revenues derived from its feature films net of reserves for returns, rebates and other incentives after Paramount has (i)&#160;retained a distribution fee of </font><font style=\"font-family:inherit;font-size:10pt;color:#000000;text-decoration:none;\" data-cbfactid=\"-1\" data-cbnumtext=\"8.0%\">8.0%</font><font style=\"font-family:inherit;font-size:10pt;\"> of revenue (without deduction for any distribution and marketing costs or third-party distribution and fulfillment services fees) and (ii)&#160;recovered all of its permissible distribution and marketing costs with respect to the Company&#8217;s films on a title-by-title basis. </font></div><div style=\"line-height:120%;text-indent:48px;font-size:10pt;\"><font style=\"font-family:inherit;font-size:10pt;\">&#160;&#160;&#160;&#160;</font></div><div style=\"line-height:120%;text-indent:36px;font-size:10pt;\"><font style=\"font-family:inherit;font-size:10pt;\">Additionally, because a third party is the principal distributor of the Company&#8217;s films, the amount of revenue that is recognized from films in any given period is dependent on the timing, accuracy and sufficiency of the information received from its distributor. As is typical in the film industry, the Company's distributor may make adjustments in future periods to information previously provided to the Company that could have a material impact on the Company&#8217;s operating results in later periods. Furthermore, management may, in its judgment, make material adjustments to the information reported by its distributor in future periods to ensure that revenues are accurately reflected in the Company&#8217;s financial statements. To date, the distributor has not made, nor has the Company made, subsequent material adjustments to information provided by the distributor and used in the preparation of the Company&#8217;s historical financial statements.</font></div><div style=\"line-height:120%;text-indent:36px;font-size:8pt;\"><font style=\"font-family:inherit;font-size:8pt;\">&#160;</font></div><div style=\"line-height:120%;text-indent:36px;font-size:10pt;\"><font style=\"font-family:inherit;font-size:10pt;\">Revenue from the theatrical exhibition of films is recognized at the later of when a film is exhibited in theaters or when revenue is reported by the Company's distributor.</font></div><div style=\"line-height:120%;text-indent:36px;font-size:8pt;\"><font style=\"font-family:inherit;font-size:8pt;\">&#160;</font></div><div style=\"line-height:120%;text-indent:36px;font-size:10pt;\"><font style=\"font-family:inherit;font-size:10pt;\">Revenue from the sale of feature film home video units is recognized at the later of when product is made available for retail sale and&#160;when sales to customers are reported by third parties, such as fulfillment service providers or distributors. Prior to April&#160;1, 2010, Paramount reported the Company&#8217;s international home entertainment results on a 30-day lag. The Company eliminated this 30-day lag effective April&#160;1, 2010, and as such, the results from the Company&#8217;s December 2010 international home entertainment releases, which previously would have been recorded in January 2011 were included in the Company&#8217;s results for the year ended December&#160;31, 2010. For the year ended December&#160;31, 2010, this change resulted in </font><font style=\"font-family:inherit;font-size:10pt;color:#000000;text-decoration:none;\"><span data-cbfactid=\"36241382\">$28.6</span> million</font><font style=\"font-family:inherit;font-size:10pt;\"> of additional revenue, or </font><font style=\"font-family:inherit;font-size:10pt;color:#000000;text-decoration:none;\" data-cbfactid=\"-1\" data-cbnumtext=\"$0.11\">$0.11</font><font style=\"font-family:inherit;font-size:10pt;\"> of diluted net income per share. </font></div><div style=\"line-height:120%;text-indent:36px;font-size:10pt;\"><font style=\"font-family:inherit;font-size:10pt;\">The Company and its distributor provide for future returns of home video product and for customer programs and sales incentives. The Company and its distributor calculates these estimates by analyzing a combination of historical returns, current economic trends, projections of consumer demand for the Company&#8217;s product and point-of-sale data available from certain retailers. Based on this information, a percentage of each sale is reserved. Customers are typically given varying rights of return, which may include <span data-cbfactid=\"-1\" data-cbnumtext=\"100%\">100%</span> return rights. Although the Company and its distributor allow various rights of return for customers, management does not believe that these rights are critical in establishing return estimates, because other factors, such as historical experience with similar types of sales, information received from retailers and management&#8217;s assessment of the product&#8217;s appeal based on domestic box office success and other research, are more important to the estimation process.</font><font style=\"font-family:inherit;font-size:10pt;background-color:#ffffff;font-weight:bold;\"> </font></div><div style=\"line-height:120%;text-indent:36px;font-size:8pt;\"><font style=\"font-family:inherit;font-size:8pt;\">&#160;</font></div><div style=\"line-height:120%;text-indent:36px;font-size:10pt;\"><font style=\"font-family:inherit;font-size:10pt;\">Revenue from both free and pay television licensing agreements for the Company&#8217;s films is recognized at the later of the time the production is made available for exhibition in those markets or it is reported by its distributor. Additionally, the Company's television specials/series are also distributed in the television markets through license arrangements. Such revenues are recorded on a gross basis as they are not typically subject to the distribution arrangement with the Company's distributor. Television market revenue generated from television specials/series is recognized at the later of the time when the content has been delivered to the licensee or the commencement of the license term.</font></div><div style=\"line-height:120%;font-size:8pt;\"><font style=\"font-family:inherit;font-size:8pt;\">&#160;</font></div><div style=\"line-height:120%;text-indent:36px;font-size:10pt;\"><font style=\"font-family:inherit;font-size:10pt;\">The Company has also entered into licensing arrangements directly with third parties to digitally distribute its feature film and television specials/series content. Certain content licensed under these arrangements is subject to pre-existing distributor agreements, and accordingly, such revenues are recorded net of any distribution fees owed to the distributor (as previously described). However, revenues from content not subject to the Company's primary distribution arrangements (as discussed in Note 5) is recorded on a gross basis. Certain of the Company's arrangements may qualify as multiple deliverable arrangements if the licensee is granted the right to exploit more than one of the Company's titles. The license period for each title under a multiple deliverable arrangement may vary by title. Revenue associated with multiple deliverable arrangements is allocated to each title based on relative selling price. In determining the relative selling price of each title, the Company considers a variety of factors including (but not limited to) the period of time a title has already been exploited in the marketplace, whether the title is a sequel, the duration of the license period being granted, similar arrangements and type of content being licensed. Revenue for each title will be recognized when it is available to the licensee for exploitation.</font></div><div style=\"line-height:120%;text-indent:36px;font-size:8pt;\"><font style=\"font-family:inherit;font-size:8pt;\">&#160;</font></div><div style=\"line-height:120%;text-indent:36px;font-size:10pt;\"><font style=\"font-family:inherit;font-size:10pt;\">Revenue from licensing and merchandising arrangements is recognized when the associated feature film or television special/series has been released and the criteria for revenue recognition have been met. The criteria that the Company uses to evaluate whether it is able to recognize revenue includes the following: persuasive evidence of an arrangement exists, the price is fixed and determinable, delivery has occurred or services have been rendered (including whether the license term has commenced) and collectibility is reasonably assured. Licensing and merchandising related minimum guarantees are generally recognized as revenue upon the theatrical release of a film and royalty-based revenues (revenues based upon a percentage of net sales of the products) are generally recognized as revenue in periods when royalties are reported by licensees or cash is received.</font></div><div style=\"line-height:120%;text-indent:36px;font-size:10pt;\"><font style=\"font-family:inherit;font-size:10pt;\"><br clear=\"none\"></font></div><div style=\"line-height:120%;text-indent:36px;font-size:10pt;\"><font style=\"font-family:inherit;font-size:10pt;\">Long-term, non-interest-bearing receivables arising from licensing agreements are discounted to present value. Accordingly, revenues are recorded net of such discount. Interest income is recognized from the imputation of interest in accordance with the effective interest rate method and classified as \"Interest income, net\" in the Company's consolidated statements of operations.</font></div><div style=\"line-height:120%;text-indent:36px;font-size:10pt;\"><font style=\"font-family:inherit;font-size:10pt;\"><br clear=\"none\"></font></div></div>"
      ],
      "text/plain": [
       "<IPython.core.display.HTML object>"
      ]
     },
     "metadata": {},
     "output_type": "display_data"
    },
    {
     "data": {
      "text/html": [
       "<h1>Eastern Resources, Inc. - Fiscal Year 2012</h1><!--DOCTYPE html PUBLIC \"-//W3C//DTD XHTML 1.0 Transitional//EN\" \"http://www.w3.org/TR/xhtml1/DTD/xhtml1-transitional.dtd\" --><div> <div><!--StartFragment--> <p style=\"MARGIN: 0pt 0px; FONT: 10pt Times New Roman, Times, Serif\"> <u>Revenue Recognition</u></p> <p style=\"TEXT-ALIGN: justify; MARGIN: 0pt 0px; FONT: 10pt Times New Roman, Times, Serif\"> &nbsp;</p> <p style=\"TEXT-ALIGN: justify; MARGIN: 0pt 0px; FONT: 10pt Times New Roman, Times, Serif\"> The Company recognizes revenue from the sale of gold and co-products when the following conditions are met: persuasive evidence of an arrangement exists, delivery has occurred in accordance with the terms of the arrangement, the price is fixed or determinable, and collectability is reasonably assured.</p> <p style=\"TEXT-ALIGN: justify; MARGIN: 0pt 0px; FONT: 10pt Times New Roman, Times, Serif\"> &nbsp;</p> <p style=\"TEXT-ALIGN: justify; MARGIN: 0pt 0px; FONT: 10pt Times New Roman, Times, Serif\"> Revenue for gold bullion is recognized at the time of delivery and transfer of title to counterparties.</p> <p style=\"TEXT-ALIGN: justify; MARGIN: 0pt 0px; FONT: 10pt Times New Roman, Times, Serif\"> &nbsp;</p> <p style=\"TEXT-ALIGN: justify; MARGIN: 0pt 0px; FONT: 10pt Times New Roman, Times, Serif\"> During the year ended December 31, 2011, the Company sold trailings, net of related ore processing costs, from past mining operations for <span data-cbfactid=\"-1\" data-cbnumtext=\"$440079\">$440,079</span>. The sale was outside of the ordinary business operations and is not indicative of revenue generated from operations.</p> <p style=\"TEXT-ALIGN: justify; MARGIN: 0pt 0px; FONT: 10pt Times New Roman, Times, Serif\"> &nbsp;</p> <p style=\"TEXT-ALIGN: justify; MARGIN: 0pt 0px; FONT: 10pt Times New Roman, Times, Serif\"> The refundable customer deposits (Note 7) are considered current due to the uncertainty of the commencement of ore production and the price of gold.</p> <!--EndFragment--></div> </div>"
      ],
      "text/plain": [
       "<IPython.core.display.HTML object>"
      ]
     },
     "metadata": {},
     "output_type": "display_data"
    },
    {
     "data": {
      "text/html": [
       "<h1>Gaia, Inc - Fiscal Year 2012</h1><div>\n",
       "<p style=\"MARGIN-TOP: 18px; MARGIN-BOTTOM: 0px\"><font style=\"FONT-FAMILY: Times New Roman\" size=\"2\"><i>Revenue</i></font></p>\n",
       "<p style=\"MARGIN-TOP: 6px; MARGIN-BOTTOM: 0px\"><font style=\"FONT-FAMILY: Times New Roman\" size=\"2\">Presently, revenue\n",
       "primarily consists of sales of products, media licensing, and media\n",
       "distribution. We recognize revenue from the sale of products and\n",
       "the licensing of media when the following four basic criteria are\n",
       "met: (1)&#xA0;persuasive evidence of an arrangement exists;\n",
       "(2)&#xA0;delivery has occurred or services have been rendered;\n",
       "(3)&#xA0;the seller&#x2019;s price to the buyer is fixed or\n",
       "determinable; and (4)&#xA0;collectability is reasonably assured. We\n",
       "recognize distribution fees from our Gaiam Vivendi Entertainment\n",
       "business and certain other media distribution arrangements on a net\n",
       "revenue basis. For these media distribution sales, we do not take\n",
       "title to the related product sold as the inventory is owned by the\n",
       "studio or content producers and sold by us under distribution agent\n",
       "agreements. We recognize amounts billed to customers for postage\n",
       "and handling as revenue at the same time we recognize the revenue\n",
       "arising from the product sale. We present revenue net of taxes\n",
       "collected from customers.</font></p>\n",
       "<p style=\"MARGIN-TOP: 12px; MARGIN-BOTTOM: 0px; FONT-SIZE: 1px\">\n",
       "&#xA0;</p>\n",
       "<p style=\"MARGIN-TOP: 12px; MARGIN-BOTTOM: 0px\"><font style=\"FONT-FAMILY: Times New Roman\" size=\"2\">Prior to 2012, we also\n",
       "recognized revenue from Real Goods Solar&#x2019;s energy integration\n",
       "fixed price contracts. For energy system installations of less than\n",
       "<span data-cbfactid=\"-1\" data-cbnumtext=\"100\">100</span> kilowatts, we recognized revenue when the installation was\n",
       "substantially complete, determined based on departure from the job\n",
       "site following completion of the installation or passing of\n",
       "building inspection, while for energy system installations equal to\n",
       "or greater than <span data-cbfactid=\"-1\" data-cbnumtext=\"100\">100</span> kilowatts, we recognized revenue on a\n",
       "percentage-of-completion basis, with the extent of progress towards\n",
       "completion measured by the cost to cost method.</font></p>\n",
       "</div>"
      ],
      "text/plain": [
       "<IPython.core.display.HTML object>"
      ]
     },
     "metadata": {},
     "output_type": "display_data"
    },
    {
     "data": {
      "text/html": [
       "<h1>Genius Brands International, Inc. - Fiscal Year 2012</h1><p style=\"font: 8pt Times New Roman, Times, Serif; margin: 0pt 0; text-align: justify; text-indent: 0.5in\"><font style=\"font: 8pt Times New Roman, Times, Serif\"><i>Revenue\r",
       "Recognition - </i>The Company recognized revenue related to product sales when (i) the seller&#146;s price is substantially fixed,\r",
       "(ii) shipment has occurred causing the buyer to be obligated to pay for product, (iii) the buyer has economic substance apart\r",
       "from the seller, and (iv) there is no significant obligation for future performance to directly bring about the resale of the\r",
       "product by the buyer as required by FASB Accounting Standards Codification (&#147;ASC&#148;) Topic 605 - Revenue Recognition.</font></p>\r",
       "\r",
       "<p style=\"font: 8pt Times New Roman, Times, Serif; margin: 0pt 0; text-align: justify; text-indent: 0.5in\"><font style=\"font: 8pt Times New Roman, Times, Serif\">&#160;</font></p>\r",
       "\r",
       "<p style=\"font: 8pt Times New Roman, Times, Serif; margin: 0pt 0; text-indent: 0.5in\"><font style=\"font: 8pt Times New Roman, Times, Serif\">&#160;Revenues\r",
       "associated with the sale of products, are recorded when shipped to customers pursuant to approved customer purchase orders resulting\r",
       "in the transfer of title and risk of loss.&#160;&#160;Cost of sales, rebates and discounts are recorded at the time of revenue\r",
       "recognition or at each financial reporting date.</font></p>\r",
       "\r",
       "<p style=\"font: 8pt Times New Roman, Times, Serif; margin: 0pt 0; text-align: justify; text-indent: 0.5in\"><font style=\"font: 8pt Times New Roman, Times, Serif\">&#160;</font></p>\r",
       "\r",
       "<p style=\"font: 8pt Times New Roman, Times, Serif; margin: 0pt 0; text-align: justify; text-indent: 0.5in\"><font style=\"font: 8pt Times New Roman, Times, Serif\">The\r",
       "Company&#146;s licensing and royalty revenue represent variable payments based on net sales from brand licensees for content distribution\r",
       "rights.&#160;&#160;These license agreements are held in conjunction with third parties that are responsible for collecting fees\r",
       "due and remitting to the Company its share after expenses. Revenue from licensed products is recognized when realized or realizable\r",
       "based on royalty reporting received from licensees.</font></p>"
      ],
      "text/plain": [
       "<IPython.core.display.HTML object>"
      ]
     },
     "metadata": {},
     "output_type": "display_data"
    },
    {
     "data": {
      "text/html": [
       "<h1>Global Health Voyager Inc - Fiscal Year 2012</h1><p style=\"font: 10pt/normal Times New Roman, Times, Serif; margin: 0; text-align: justify; background-color: white\">Revenues are\r",
       "recognized on an accrual basis. Generally, revenues will be recognized when persuasive evidence of an arrangement exists, services\r",
       "have been rendered, the price is fixed and determinable, and collectability is reasonably assured.</p>"
      ],
      "text/plain": [
       "<IPython.core.display.HTML object>"
      ]
     },
     "metadata": {},
     "output_type": "display_data"
    },
    {
     "data": {
      "text/html": [
       "<h1>Jerrick Media Holdings, Inc. - Fiscal Year 2012</h1><!--egx--><p style='margin-right:0in;margin-left:0in;margin:0in;margin-bottom:.0001pt'><u>Revenue Recognition</u></p> <p style='margin-right:0in;margin-left:0in;margin:0in;margin-bottom:.0001pt'>&nbsp;</p> <p style='margin-right:0in;margin-left:0in;margin:0in;margin-bottom:.0001pt'>Revenue is recognized upon the completion of the sale and shipment of the training urinal product. The product is sold via the internet and is delivered to customers or to wholesale resellers using a ground courier service.</p>"
      ],
      "text/plain": [
       "<IPython.core.display.HTML object>"
      ]
     },
     "metadata": {},
     "output_type": "display_data"
    },
    {
     "data": {
      "text/html": [
       "<h1>Lions Gate Entertainment Corp /CN/ - Fiscal Year 2013</h1><div style=\"font-family:Times New Roman;font-size:10pt;\"><div style=\"line-height:120%;padding-top:8px;text-align:left;text-indent:8px;font-size:10pt;\"><font style=\"font-family:inherit;font-size:10pt;font-style:italic;font-weight:bold;\">Revenue Recognition</font></div><div style=\"line-height:120%;padding-top:8px;text-align:left;text-indent:20px;font-size:10pt;\"><font style=\"font-family:inherit;font-size:10pt;\">Revenue from the theatrical release of feature films is recognized at the time of exhibition based on our participation in box office receipts. Revenue from the sale of DVDs/Blu-ray discs in the retail market, net of an allowance for estimated returns and other allowances, is recognized on the later of receipt by the customer or &#8220;street date&#8221; (when it is available for sale by the customer). Under revenue sharing arrangements, rental revenue is recognized when we are entitled to receipts and such receipts are determinable. Revenues from television licensing are recognized when the feature film or television program is available to the licensee for telecast. For television licenses that include separate availability &#8220;windows&#8221; during the license period, revenue is allocated over the &#8220;windows.&#8221; Revenue from sales to international territories are recognized when access to the feature film or television program has been granted or delivery has occurred, as required under the sales contract, and the right to exploit the feature film or television program has commenced. For multiple media rights contracts with a fee for a single film or television program where the contract provides for media holdbacks (defined as contractual media release restrictions), the fee is allocated to the various media based on our assessment of the relative fair value of the rights to exploit each media and is recognized as each holdback is released. For multiple-title contracts with a fee, the fee is allocated on a title-by-title basis, based on our assessment of the relative fair value of each title.</font></div><div style=\"line-height:120%;padding-top:8px;text-align:left;text-indent:20px;font-size:10pt;\"><font style=\"font-family:inherit;font-size:10pt;\">Cash payments received are recorded as deferred revenue until all the conditions of revenue recognition have been met. Long-term, non-interest bearing receivables are discounted to present value. Such unamortized discounts were </font><font style=\"font-family:inherit;font-size:10pt;color:#000000;text-decoration:none;\"><span data-cbfactid=\"46041122\" data-cbnetworkid=\"10365381\">$15.1</span> million</font><font style=\"font-family:inherit;font-size:10pt;\"> and </font><font style=\"font-family:inherit;font-size:10pt;color:#000000;text-decoration:none;\"><span data-cbfactid=\"46041123\" data-cbnetworkid=\"10365381\">$10.7</span> million</font><font style=\"font-family:inherit;font-size:10pt;\"> at March 31, 2013 and 2012, respectively. At </font><font style=\"font-family:inherit;font-size:10pt;color:#000000;text-decoration:none;\">March&#160;31, 2013</font><font style=\"font-family:inherit;font-size:10pt;\">, </font><font style=\"font-family:inherit;font-size:10pt;color:#000000;text-decoration:none;\"><span data-cbfactid=\"46038880\" data-cbnetworkid=\"10365381\">$203.6</span> million</font><font style=\"font-family:inherit;font-size:10pt;\"> of accounts receivable are due beyond one year. The accounts receivable are due as follows: </font><font style=\"font-family:inherit;font-size:10pt;color:#000000;text-decoration:none;\"><span data-cbfactid=\"46041681\" data-cbnetworkid=\"10365381\">$98.2</span> million</font><font style=\"font-family:inherit;font-size:10pt;\"> in fiscal </font><font style=\"font-family:inherit;font-size:10pt;color:#000000;text-decoration:none;\">2015</font><font style=\"font-family:inherit;font-size:10pt;\">, </font><font style=\"font-family:inherit;font-size:10pt;color:#000000;text-decoration:none;\"><span data-cbfactid=\"46041680\" data-cbnetworkid=\"10365381\">$48.7</span> million</font><font style=\"font-family:inherit;font-size:10pt;\"> in fiscal </font><font style=\"font-family:inherit;font-size:10pt;color:#000000;text-decoration:none;\">2016</font><font style=\"font-family:inherit;font-size:10pt;\">, </font><font style=\"font-family:inherit;font-size:10pt;color:#000000;text-decoration:none;\"><span data-cbfactid=\"46041678\" data-cbnetworkid=\"10365381\">$30.6</span> million</font><font style=\"font-family:inherit;font-size:10pt;\"> in fiscal </font><font style=\"font-family:inherit;font-size:10pt;color:#000000;text-decoration:none;\">2017</font><font style=\"font-family:inherit;font-size:10pt;\">, </font><font style=\"font-family:inherit;font-size:10pt;color:#000000;text-decoration:none;\"><span data-cbfactid=\"46041677\" data-cbnetworkid=\"10365381\">$13.7</span> million</font><font style=\"font-family:inherit;font-size:10pt;\"> in fiscal </font><font style=\"font-family:inherit;font-size:10pt;color:#000000;text-decoration:none;\">2018</font><font style=\"font-family:inherit;font-size:10pt;\">, </font><font style=\"font-family:inherit;font-size:10pt;color:#000000;text-decoration:none;\"><span data-cbfactid=\"46041679\" data-cbnetworkid=\"10365381\">$11.5</span> million</font><font style=\"font-family:inherit;font-size:10pt;\"> in fiscal </font><font style=\"font-family:inherit;font-size:10pt;color:#000000;text-decoration:none;\">2019</font><font style=\"font-family:inherit;font-size:10pt;\">, and </font><font style=\"font-family:inherit;font-size:10pt;color:#000000;text-decoration:none;\"><span data-cbfactid=\"46041676\" data-cbnetworkid=\"10365381\">$0.9</span> million</font><font style=\"font-family:inherit;font-size:10pt;\"> thereafter.</font></div></div>"
      ],
      "text/plain": [
       "<IPython.core.display.HTML object>"
      ]
     },
     "metadata": {},
     "output_type": "display_data"
    },
    {
     "data": {
      "text/html": [
       "<h1>Marcus Corp - Fiscal Year 2013</h1>              <div style=\"clear:both; FONT-FAMILY:Times New Roman;FONT-SIZE: 10pt;MARGIN: 0pt 0px; FONT: 10pt Times New Roman, Times, Serif \">  <div style=\"clear:both; FONT-FAMILY:Times New Roman;FONT-SIZE: 10pt;TEXT-ALIGN: justify; MARGIN: 0pt 0px; FONT: 10pt Times New Roman, Times, Serif\">  <strong>Revenue Recognition &#150;</strong> The Company recognizes  revenue from its rooms as earned on the close of business each day.  Revenues from theatre admissions, concessions and food and beverage  sales are recognized at the time of sale. Revenues from advanced  ticket and gift certificate sales are recorded as deferred revenue  and are recognized when tickets or gift certificates are redeemed.  The Company had deferred revenue of $<font style=\" FONT-SIZE: 10pt\" data-cbfactid=\"50909302\">13,352,000</font> and $<font style=\" FONT-SIZE: 10pt\" data-cbfactid=\"50909303\">13,028,000</font>, which is included in other  accrued liabilities as of May 30, 2013 and May 31, 2012,  respectively. Gift card breakage income is recognized based upon  historical redemption patterns and represents the balance of gift  cards for which the Company believes the likelihood of redemption  by the customer is remote. Gift card breakage income is recorded in  other revenues in the consolidated statements of earnings.</div>    <div style=\"clear:both; FONT-FAMILY:Times New Roman;FONT-SIZE: 10pt\"><font size=\"2\">&#160;</font></div>    <div style=\"clear:both; FONT-FAMILY:Times New Roman;FONT-SIZE: 10pt;TEXT-ALIGN: justify; MARGIN: 0pt 0px; FONT: 10pt Times New Roman, Times, Serif\">  Other revenues include management fees for theatres and hotels  under management agreements. The management fees are recognized as  earned based on the terms of the agreements and include both base  fees and incentive fees. Revenues do not include sales tax as the  Company considers itself a pass-through conduit for collecting and  remitting sales tax.</div>  </div>        "
      ],
      "text/plain": [
       "<IPython.core.display.HTML object>"
      ]
     },
     "metadata": {},
     "output_type": "display_data"
    },
    {
     "data": {
      "text/html": [
       "<h1>Moon River Studios, Inc. - Fiscal Year 2012</h1><p style=\"font: 11pt Times New Roman, Times, Serif; margin: 0; text-align: justify\"><b><u>Revenue Recognition</u></b></p>\r",
       "\r",
       "<p style=\"font: 11pt Times New Roman, Times, Serif; margin: 0; text-align: justify\">&#160;</p>\r",
       "\r",
       "<p style=\"font: 11pt Times New Roman, Times, Serif; margin: 0; text-align: justify\">The Company recognizes revenue from the sale\r",
       "or licensing arrangement of a film in accordance with ASC 605-15 &#147;<i>Revenue Recognition</i>&#148;. Revenue will be recognized\r",
       "only when all of the following criteria have been met:</p>\r",
       "\r",
       "<p style=\"font: 11pt Times New Roman, Times, Serif; margin: 0; text-align: justify\">&#160;</p>\r",
       "\r",
       "<table cellspacing=\"0\" cellpadding=\"0\" style=\"width: 100%\">\r",
       "<tr style=\"vertical-align: top\">\r",
       "    <td style=\"width: 43px\">&#160;</td>\r",
       "    <td style=\"font: 11pt Times New Roman, Times, Serif; text-align: justify\"><font style=\"font-size: 11pt\">Persuasive evidence of a sale or licensing arrangement with a customer exists.</font></td></tr>\r",
       "<tr style=\"vertical-align: top\">\r",
       "    <td>&#160;</td>\r",
       "    <td style=\"font: 11pt Times New Roman, Times, Serif; text-align: justify\"><font style=\"font-size: 11pt\">The film is complete and, in accordance with the terms of the arrangement, has been delivered or is available for immediate and unconditional delivery. </font></td></tr>\r",
       "</table>\r",
       "<p style=\"font: 10pt Times New Roman, Times, Serif; margin: 0 63pt 0 0; text-align: justify\">&#160;</p>\r",
       "\r",
       "<table cellspacing=\"0\" cellpadding=\"0\" style=\"width: 100%\">\r",
       "<tr style=\"vertical-align: top\">\r",
       "    <td style=\"width: 44px\">&#160;</td>\r",
       "    <td style=\"font: 11pt Times New Roman, Times, Serif; text-align: justify\"><font style=\"font-size: 11pt\">The license period of the arrangement has begun and the customer can begin its exploitation, exhibition, or sale.</font></td></tr>\r",
       "<tr style=\"vertical-align: top\">\r",
       "    <td>&#160;</td>\r",
       "    <td style=\"font: 11pt Times New Roman, Times, Serif; text-align: justify\"><font style=\"font-size: 11pt\">The arrangement fee is fixed or determinable.</font></td></tr>\r",
       "</table>\r",
       "<p style=\"font: 10pt Times New Roman, Times, Serif; margin: 0 63pt 0 0; text-align: justify\">&#160;</p>\r",
       "\r",
       "<table cellspacing=\"0\" cellpadding=\"0\" style=\"width: 100%\">\r",
       "<tr style=\"vertical-align: top\">\r",
       "    <td style=\"width: 39px\">&#160;</td>\r",
       "    <td style=\"padding-right: 63pt; font: 11pt Times New Roman, Times, Serif; text-align: justify\"><font style=\"font-size: 11pt\">Collection of the arrangement fee is reasonably assured.</font></td></tr>\r",
       "</table>\r",
       "<p style=\"font: 11pt Times New Roman, Times, Serif; margin: 0; text-align: justify\">&#160;</p>\r",
       "\r",
       "<p style=\"font: 11pt Times New Roman, Times, Serif; margin: 0; text-align: justify\">A written contract with a distributor indicating\r",
       "the film name, territory and period is required for the recognition of revenue. Revenue is recognized when the performance criteria\r",
       "in the contracts have been met.</p>\r",
       "\r",
       "<p style=\"font: 11pt Times New Roman, Times, Serif; margin: 0; text-align: justify\">&#160;</p>\r",
       "\r",
       "<p style=\"font: 11pt Times New Roman, Times, Serif; margin: 0; background-color: white\"><i><u>Film Tax Relief Revenue</u></i></p>\r",
       "\r",
       "<p style=\"font: 10pt Times New Roman, Times, Serif; margin: 0; background-color: white; text-indent: 0.5in\">&#160;</p>\r",
       "\r",
       "<p style=\"font: 11pt Times New Roman, Times, Serif; margin: 0; text-align: justify; background-color: white\">Many countries make\r",
       "tax credits and the like available to encourage film production in the territory. Medient benefits from United Kingdom Film Tax\r",
       "Relief (&#147;FTR&#148;). The FTR may be treated as a reduction in the capitalized costs of the film assets financed or as revenue\r",
       "to the production company. The FTR has been earned by the production company, assigned to the previous film rights owner, Medient\r",
       "Unstoppable Limited, and then assigned to the Company as revenue.</p>\r",
       "\r",
       "<p style=\"font: 10pt Times New Roman, Times, Serif; margin: 0; text-align: justify; background-color: white; text-indent: 0.5in\">&#160;</p>\r",
       "\r",
       "<p style=\"font: 11pt Times New Roman, Times, Serif; margin: 0; text-align: justify; background-color: white\"><i><u>Medient Unstoppable\r",
       "Limited Revenue</u></i></p>\r",
       "\r",
       "<p style=\"font: 10pt Times New Roman, Times, Serif; margin: 0; text-align: justify; background-color: white; text-indent: 0.5in\">&#160;</p>\r",
       "\r",
       "<p style=\"font: 11pt Times New Roman, Times, Serif; margin: 0; text-align: justify; background-color: white\">Revenue is due to\r",
       "the Company from a related party, Medient Unstoppable Limited, of which the Company&#146;s CEO is a significant shareholder, in\r",
       "the amount of the net proceeds from the FTR as well as income from sales of <i>Storage 24</i>. In accordance with an intercompany\r",
       "agreement between the Company and Medient Unstoppable Limited, all revenues earned by Medient Unstoppable Limited for the movie\r",
       "<i>Storage 24</i> are due to the Company. This includes FTR.</p>"
      ],
      "text/plain": [
       "<IPython.core.display.HTML object>"
      ]
     },
     "metadata": {},
     "output_type": "display_data"
    },
    {
     "data": {
      "text/html": [
       "<h1>Netflix Inc - Fiscal Year 2012</h1><div style=\"font-family:Times New Roman;font-size:10pt;\"><div style=\"line-height:120%;padding-top:18px;font-size:10pt;\"><font style=\"font-family:inherit;font-size:10pt;font-style:italic;font-weight:bold;\">Revenue Recognition</font></div><div style=\"line-height:120%;padding-top:6px;text-indent:32px;font-size:10pt;\"><font style=\"font-family:inherit;font-size:10pt;\">Subscription revenues are recognized ratably over each subscriber&#8217;s monthly subscription period. Revenues are presented net of the taxes that are collected from customers and remitted to governmental authorities. Deferred revenue consists of subscriptions revenues billed to subscribers that have not been recognized and gift subscriptions that have not been redeemed.</font></div></div>"
      ],
      "text/plain": [
       "<IPython.core.display.HTML object>"
      ]
     },
     "metadata": {},
     "output_type": "display_data"
    },
    {
     "data": {
      "text/html": [
       "<h1>Odyssey Pictures Corp - Fiscal Year 2013</h1><p style=\"margin: 0pt\">\r",
       "\r",
       "<p style=\"margin: 0pt\">\r",
       "\r",
       "<p style=\"font: 10pt/normal Times New Roman, Times, Serif; margin: 0\"><b><u>Revenue Recognition</u></b></p>\r",
       "\r",
       "<p style=\"font: 10pt/normal Times New Roman, Times, Serif; margin: 0; text-indent: 0.5in\"><b>&#160;</b></p>\r",
       "\r",
       "<p style=\"font: 10pt/normal Times New Roman, Times, Serif; margin: 0; text-align: justify\">We earn revenue under a three year &#147;Branding\r",
       "&#38; Services&#148; agreement that provides for a monthly licensing fee. Revenue is recognized monthly on a straight line basis\r",
       "over the term of the agreement.</p>\r",
       "\r",
       "<p style=\"font: 10pt/normal Times New Roman, Times, Serif; margin: 0; text-indent: 0.5in\">&#160;</p>\r",
       "\r",
       "<p style=\"font: 10pt/normal Times New Roman, Times, Serif; margin: 0; text-align: justify\">We also earn revenue from Services for\r",
       "production for work performed on each production and by charging a fee and is billed on a contract basis. We may also charge consulting\r",
       "fees for services.</p>\r",
       "\r",
       "<p style=\"font: 10pt/normal Times New Roman, Times, Serif; margin: 0; text-align: justify; text-indent: 0.5in\">&#160;</p>\r",
       "\r",
       "<p style=\"font: 10pt/normal Times New Roman, Times, Serif; margin: 0; text-align: justify\">Additionally, the Company receives\r",
       "commissions from licensing and sales of each project in the market we represent.</p>"
      ],
      "text/plain": [
       "<IPython.core.display.HTML object>"
      ]
     },
     "metadata": {},
     "output_type": "display_data"
    },
    {
     "data": {
      "text/html": [
       "<h1>Pow! Entertainment, Inc. - Fiscal Year 2012</h1><p style=\"margin: 0pt 0px 0pt 0.5in; font: 10pt times new roman, times, serif;\"><b>Revenue Recognition--</b>As a creator of intellectual property, the majority of the Company&#8217;s business is derived from contracts with third parties providing for the development and use of intellectual property developed by the Company.</p>\n",
       "<p style=\"margin: 0pt 0px; font: 10pt times new roman, times, serif;\">&#160;</p>\n",
       "<p style=\"margin: 0pt 0px 0pt 0.5in; font: 10pt times new roman, times, serif;\">The Company records revenue from these sources: artist consulting, film rights, animated television and comic-book royalties. In accounting for these contracts, the Company recognizes revenue when services have been rendered or when contractual parameters have been satisfied and are measureable.</p>\n",
       "<p style=\"margin: 0pt 0px 0pt 0.5in; font: 10pt times new roman, times, serif;\">&#160;</p>\n",
       "<p style=\"margin: 0pt 0px 0pt 0.5in; font: 10pt times new roman, times, serif;\">Our contract with Silver Creek Pictures (&#8220;Silver Creek&#8221;), an affiliate of The Walt Disney Company, calls for per annum payments of nonrecoupable overhead allowance of <span data-cbfactid=\"40541688\" data-cbnetworkid=\"8608104\">$700,000</span> and nonrecoupable consulting services for Stan lee of <span data-cbfactid=\"40541689\" data-cbnetworkid=\"8608104\">$1,250,000</span>. The contract expires in December 2014. The <span data-cbfactid=\"40541689\" data-cbnetworkid=\"8608104\">$1,250,000</span> per annum for Stan Lee&#8217;s consulting services cease in the event of his disability or incapacitation. Revenue from Silver Creek is recorded based on the guidance from ASC 605: revenues are considered to have been earned when the entity has substantially accomplished what it must do to be entitled to the benefits represented by the revenues.</p>\n",
       "<p style=\"margin: 0pt 0px 0pt 0.5in; font: 10pt times new roman, times, serif;\">&#160;</p>\n",
       "<p style=\"margin: 0pt 0px 0pt 0.5in; font: 10pt times new roman, times, serif;\">The Company also recognized revenues for the year ended December 31, 2011 for film rights sold to a third party for <span data-cbfactid=\"40541702\" data-cbnetworkid=\"8608104\">$500,000</span>. The Company established that revenue for the project was earned after the copyright was filed with the US copyright office to be transferred to the third party pursuant to the purchase contract. There was no such revenue in 2012.</p>"
      ],
      "text/plain": [
       "<IPython.core.display.HTML object>"
      ]
     },
     "metadata": {},
     "output_type": "display_data"
    },
    {
     "data": {
      "text/html": [
       "<h1>Reading International Inc - Fiscal Year 2012</h1><div> <div style=\"margin-left:0pt;margin-right:0pt;\">\n",
       "\t\t<p style=\"margin:0pt 0pt 10pt;text-align:justify;text-justify:inter-ideograph;font-size: 10pt\">\n",
       "\t\t\t<font style=\"display: inline;text-decoration:underline;\">Revenue Recognition</font>\n",
       "\t\t</p>\n",
       "\t\t<p style=\"margin:0pt 0pt 10pt;text-indent:36pt;text-align:justify;text-justify:inter-ideograph;font-size: 10pt\">\n",
       "\t\t\t<font style=\"display: inline;\">Revenue from cinema ticket sales and concession sales are recognized when sold.&nbsp;&nbsp;Revenue from gift certificate sales is deferred and recognized when the certificates are redeemed.&nbsp;&nbsp;Rental revenue is recognized on a straight-line basis in accordance with FASB ASC 840-20-25 &#x2013; </font><font style=\"display: inline;font-style:italic;\">Leases Having Both Scheduled Rent Increases and Contingent Rents </font><font style=\"display: inline;\">(&#x201C;ASC 840-20-25&#x201D;).&nbsp; </font>\n",
       "\t\t</p>\n",
       "\t\t<p><font size=\"1\"> </font></p>\n",
       "\t</div> </div>"
      ],
      "text/plain": [
       "<IPython.core.display.HTML object>"
      ]
     },
     "metadata": {},
     "output_type": "display_data"
    },
    {
     "data": {
      "text/html": [
       "<h1>Regal Entertainment Group - Fiscal Year 2012</h1><div style=\"font-family:Times New Roman;font-size:10pt;\"><div style=\"line-height:120%;padding-bottom:8px;padding-top:4px;text-indent:26px;font-size:10pt;\"><font style=\"font-family:inherit;font-size:10pt;font-style:italic;font-weight:bold;\">Revenue Recognition</font></div><div style=\"line-height:120%;padding-bottom:8px;padding-top:4px;text-indent:32px;font-size:10pt;\"><font style=\"font-family:inherit;font-size:10pt;\">Revenues are generated principally through admissions and concessions sales with proceeds received in cash or via credit card at the point of sale. Other operating revenues consist primarily of product advertising (including vendor marketing programs) and other ancillary revenues that are recognized as income in the period earned. The Company generally recognizes payments received attributable to the marketing and advertising services provided by the Company under certain vendor programs as revenue in the periods in which the advertising is displayed or when the related impressions are delivered. Such impressions are measured by the concession product sales volume, which is a mutually agreed upon proxy of attendance and reflects the Company's marketing and advertising services delivered to its vendors. In instances where the consideration received is in excess of fair value of the advertising services provided, the excess is recorded as a reduction of concession costs. Proceeds received from advance ticket sales and gift cards are recorded as deferred revenue. The Company recognizes revenue associated with gift cards and advanced ticket sales at such time as the items are redeemed, or when redemption becomes unlikely. The determination of the likelihood of redemption is based on an analysis of the Company's historical redemption trends.</font></div></div>"
      ],
      "text/plain": [
       "<IPython.core.display.HTML object>"
      ]
     },
     "metadata": {},
     "output_type": "display_data"
    },
    {
     "data": {
      "text/html": [
       "<h1>Rlj Entertainment, Inc. - Fiscal Year 2012</h1><div><div style=\"text-align: left; text-indent: 36pt; display: block; font-family: Times New Roman; margin-left: 0pt; font-size: 10pt; margin-right: 0pt;\"><font style=\"font-style: italic; display: inline; text-decoration: underline;\">Revenue Recognition.</font>&#160;&#160;Revenue is recognized upon meeting the recognition requirements of ASC 926, <font style=\"font-style: italic; display: inline;\">Entertainment&#8212;Films</font> and ASC 605, <font style=\"font-style: italic; display: inline;\">Revenue Recognition</font>.&#160;&#160;Revenues from home video distribution are recognized net of an allowance for estimated returns, as well as related costs, in the period in which the product is available for sale by our customers (at the point that title and risk of loss transfer to the customer, which is generally upon receipt by the customer and in the case of new releases, after \"street date\" restrictions lapse).&#160;&#160;Rental revenues under revenue sharing arrangements are recognized when we are entitled to receipts and such receipts are determinable.&#160;&#160;Revenues from domestic and international broadcast licensing and home video sublicensing, as well as associated costs, are recognized when the programming is available to the licensee and other ASC 605 recognition requirements are met.&#160;&#160;Fees received in advance of availability, usually in the case of advances received from international home video sublicensees and for broadcast programming, are deferred until earned and all revenue recognition requirements have been satisfied.&#160;&#160;Provisions for sales returns and uncollectible accounts receivable are provided at the time of sale.</div></div>"
      ],
      "text/plain": [
       "<IPython.core.display.HTML object>"
      ]
     },
     "metadata": {},
     "output_type": "display_data"
    },
    {
     "data": {
      "text/html": [
       "<h1>Seven Arts Entertainment Inc. - Fiscal Year 2013</h1>              <div style=\"clear:both; FONT-FAMILY:Times New Roman;FONT-SIZE: 10pt;MARGIN: 0pt 0px; FONT: 10pt Times New Roman, Times, Serif \">  <div style=\"clear:both; FONT-FAMILY:Times New Roman;FONT-SIZE: 10pt;FONT: 10pt Times New Roman, Times, Serif; MARGIN: 0pt 0px; font-size-adjust: none; font-stretch: normal\">  <font style=\"COLOR: black\"><u>Revenue Recognition:</u></font></div>    <div style=\"clear:both; FONT-FAMILY:Times New Roman;FONT-SIZE: 10pt;FONT: 10pt Times New Roman, Times, Serif; MARGIN: 0pt 0px; font-size-adjust: none; font-stretch: normal\">  <font style=\"COLOR: black\">&#160;</font></div>    <div style=\"clear:both; FONT-FAMILY:Times New Roman;FONT-SIZE: 10pt;FONT: 10pt Times New Roman, Times, Serif; MARGIN: 0pt 0px; font-size-adjust: none; font-stretch: normal\">  <font style=\"COLOR: black\"><u>FILMS</u></font></div>    <div style=\"clear:both; FONT-FAMILY:Times New Roman;FONT-SIZE: 10pt;FONT: 10pt Times New Roman, Times, Serif; MARGIN: 0pt 0px; font-size-adjust: none; font-stretch: normal\">  <font style=\"COLOR: black\">&#160;</font></div>    <div style=\"clear:both; FONT-FAMILY:Times New Roman;FONT-SIZE: 10pt;FONT: 10pt Times New Roman, Times, Serif; MARGIN: 0pt 0px; font-size-adjust: none; font-stretch: normal\">  <font style=\"COLOR: black\">The Company recognizes revenue from the  sale (minimum guarantee or non-refundable advances) or licensing  arrangement (royalty agreements) of a film in accordance with ASC  605-15 &#8220;<em>Revenue Recognition</em>&#8221;. Revenue will be  recognized only when all of the following criteria have been  met:</font></div>    <div style=\"clear:both; FONT-FAMILY:Times New Roman;FONT-SIZE: 10pt;FONT: 10pt Times New Roman, Times, Serif; MARGIN: 0pt 0px; font-size-adjust: none; font-stretch: normal\">  <font style=\"COLOR: black\">&#160;</font></div>    <div style=\"clear:both; FONT-FAMILY:Times New Roman;FONT-SIZE: 10pt;FONT-SIZE: 10pt; MARGIN: 0in 0in 0pt\">  <table style=\"clear:both;MARGIN-BOTTOM: 0px; FONT: 10pt Times New Roman, Times, Serif; MARGIN-TOP: 0px; font-size-adjust: none; font-stretch: normal\" cellspacing=\"0\" cellpadding=\"0\">  <tr style=\"VERTICAL-ALIGN: top\">  <td style=\"WIDTH: 0.25in\"></td>  <td style=\"WIDTH: 0.25in\" align=\"left\">  <div><font style=\"COLOR: black\">a)</font></div>  </td>  <td>  <div><font style=\"COLOR: black\">Persuasive evidence of a sale or  licensing arrangement with a customer exists.</font></div>  </td>  </tr>  </table>    <table style=\"clear:both;MARGIN-BOTTOM: 0px; FONT: 10pt Times New Roman, Times, Serif; MARGIN-TOP: 0px; font-size-adjust: none; font-stretch: normal\" cellspacing=\"0\" cellpadding=\"0\">  <tr style=\"VERTICAL-ALIGN: top\">  <td style=\"WIDTH: 0.25in\"></td>  <td style=\"WIDTH: 0.25in\" align=\"left\">  <div><font style=\"COLOR: black\">b)</font></div>  </td>  <td>  <div><font style=\"COLOR: black\">The film is complete and, in  accordance with the terms of the arrangement, has been delivered or  is available for immediate and unconditional delivery. (i.e. the  &#8220;notice of delivery&#8221; (&#8220;NOD&#8221;) has been sent  and there is a master negative available for the  customer).</font></div>  </td>  </tr>  </table>    <table style=\"clear:both;MARGIN-BOTTOM: 0px; FONT: 10pt Times New Roman, Times, Serif; MARGIN-TOP: 0px; font-size-adjust: none; font-stretch: normal\" cellspacing=\"0\" cellpadding=\"0\">  <tr style=\"VERTICAL-ALIGN: top\">  <td style=\"WIDTH: 0.25in\"></td>  <td style=\"WIDTH: 0.25in\" align=\"left\">  <div><font style=\"COLOR: black\">c)</font></div>  </td>  <td>  <div><font style=\"COLOR: black\">The license period of the  arrangement has begun and the customer can begin its exploitation,  exhibition, or sale.</font></div>  </td>  </tr>  </table>    <table style=\"clear:both;MARGIN-BOTTOM: 0px; FONT: 10pt Times New Roman, Times, Serif; MARGIN-TOP: 0px; font-size-adjust: none; font-stretch: normal\" cellspacing=\"0\" cellpadding=\"0\">  <tr style=\"VERTICAL-ALIGN: top\">  <td style=\"WIDTH: 0.25in\"></td>  <td style=\"WIDTH: 0.25in\" align=\"left\">  <div><font style=\"COLOR: black\">d)</font></div>  </td>  <td>  <div><font style=\"COLOR: black\">The arrangement fee is fixed or  determinable.</font></div>  </td>  </tr>  </table>    <table style=\"clear:both;MARGIN-BOTTOM: 0px; FONT: 10pt Times New Roman, Times, Serif; MARGIN-TOP: 0px; font-size-adjust: none; font-stretch: normal\" cellspacing=\"0\" cellpadding=\"0\">  <tr style=\"VERTICAL-ALIGN: top\">  <td style=\"WIDTH: 0.25in\"></td>  <td style=\"WIDTH: 0.25in\" align=\"left\">  <div><font style=\"COLOR: black\">e)</font></div>  </td>  <td>  <div><font style=\"COLOR: black\">Collection of the arrangement fee  is reasonably assured.</font></div>  </td>  </tr>  </table>  </div>    <div style=\"clear:both; FONT-FAMILY:Times New Roman;FONT-SIZE: 10pt;FONT: 10pt Times New Roman, Times, Serif; MARGIN: 0pt 0px; font-size-adjust: none; font-stretch: normal\">  <font style=\"COLOR: black\">&#160;</font></div>    <div style=\"clear:both; FONT-FAMILY:Times New Roman;FONT-SIZE: 10pt;FONT: 10pt Times New Roman, Times, Serif; MARGIN: 0pt 0px; font-size-adjust: none; font-stretch: normal\">  <font style=\"COLOR: black\">A written agreement with clients  (purchase order, letter, contract, etc.), indicating the film name,  territory and period is required for the recognition of revenue.  Revenue is recognized when the performance criteria in the  contracts have been met. The customer generally confirms agreement  by their signature on the contract.</font></div>    <div style=\"clear:both; FONT-FAMILY:Times New Roman;FONT-SIZE: 10pt;FONT: 10pt Times New Roman, Times, Serif; MARGIN: 0pt 0px; font-size-adjust: none; font-stretch: normal\">  <font style=\"COLOR: black\">&#160;</font></div>    <div style=\"clear:both; FONT-FAMILY:Times New Roman;FONT-SIZE: 10pt;FONT: 10pt Times New Roman, Times, Serif; MARGIN: 0pt 0px; font-size-adjust: none; font-stretch: normal\">  <font style=\"COLOR: black\">Minimum guarantee revenue (i.e.,  non-refundable advances) is recognized as and when the film is  available for delivery to the respective territories. Cash deposits  received on the signing of the contracts are recorded as deferred  revenue until the film is available for delivery (as described  above) at which point the deferred revenue is recognized as  revenue. The Company does not recognize any revenues relating to  minimum guarantee on any motion picture or related amortization  expense on that picture until United States theatrical release if  it has agreed with the licensees that delivery or payment of  minimum guarantee will be delayed for any material period of time  to permit such a theatrical release.</font></div>    <div style=\"clear:both; FONT-FAMILY:Times New Roman;FONT-SIZE: 10pt;FONT: 10pt Times New Roman, Times, Serif; MARGIN: 0pt 0px; font-size-adjust: none; font-stretch: normal\">  <font style=\"COLOR: black\">&#160;</font></div>    <div style=\"clear:both; FONT-FAMILY:Times New Roman;FONT-SIZE: 10pt;FONT: 10pt Times New Roman, Times, Serif; MARGIN: 0pt 0px; font-size-adjust: none; font-stretch: normal\">  <font style=\"COLOR: black\">Royalty revenue, which equates to an  agreed share of gross receipts of films, is recognized as income as  and when the Company is notified of the amounts by the customers  through their royalty reports. Revenue is recorded net of any sales  or value added taxes charged to customers.</font></div>    <div style=\"clear:both; FONT-FAMILY:Times New Roman;FONT-SIZE: 10pt;FONT: 10pt Times New Roman, Times, Serif; MARGIN: 0pt 0px; font-size-adjust: none; font-stretch: normal\">  <font style=\"COLOR: black\">&#160;</font></div>    <div style=\"clear:both; FONT-FAMILY:Times New Roman;FONT-SIZE: 10pt;FONT: 10pt Times New Roman, Times, Serif; MARGIN: 0pt 0px; font-size-adjust: none; font-stretch: normal\">  <font style=\"COLOR: black\"><u>MUSIC</u></font></div>    <div style=\"clear:both; FONT-FAMILY:Times New Roman;FONT-SIZE: 10pt;FONT: 10pt Times New Roman, Times, Serif; MARGIN: 0pt 0px; font-size-adjust: none; font-stretch: normal\">  <font style=\"COLOR: black\">&#160;</font></div>    <div style=\"clear:both; FONT-FAMILY:Times New Roman;FONT-SIZE: 10pt;FONT: 10pt Times New Roman, Times, Serif; MARGIN: 0pt 0px; font-size-adjust: none; font-stretch: normal\">  <font style=\"COLOR: black\">Revenue, which equates to an agreed  share of gross receipts, is recognized as income when the Company  is notified of the amounts by the distribution agent through their  distribution reports.</font></div>    <div style=\"clear:both; FONT-FAMILY:Times New Roman;FONT-SIZE: 10pt;FONT: 10pt Times New Roman, Times, Serif; MARGIN: 0pt 0px; font-size-adjust: none; font-stretch: normal\">  <font style=\"COLOR: black\">&#160;</font></div>    <div style=\"clear:both; FONT-FAMILY:Times New Roman;FONT-SIZE: 10pt;FONT: 10pt Times New Roman, Times, Serif; MARGIN: 0pt 0px; font-size-adjust: none; font-stretch: normal\">  <font style=\"COLOR: black\">Revenue is recorded:</font></div>    <div style=\"clear:both; FONT-FAMILY:Times New Roman;FONT-SIZE: 10pt;FONT: 10pt Times New Roman, Times, Serif; MARGIN: 0pt 0px; font-size-adjust: none; font-stretch: normal\">  <font style=\"COLOR: black\">&#160;</font></div>    <div style=\"clear:both; FONT-FAMILY:Times New Roman;FONT-SIZE: 10pt;FONT-SIZE: 10pt; MARGIN: 0in 0in 0pt\">  <table style=\"clear:both;MARGIN-BOTTOM: 0px; FONT: 10pt Times New Roman, Times, Serif; MARGIN-TOP: 0px; font-size-adjust: none; font-stretch: normal\" cellspacing=\"0\" cellpadding=\"0\">  <tr style=\"VERTICAL-ALIGN: top\">  <td style=\"WIDTH: 0.25in\"></td>  <td style=\"WIDTH: 0.25in\" align=\"left\">  <div><font style=\"COLOR: black\">a)</font></div>  </td>  <td>  <div><font style=\"COLOR: black\">net of any&#160;&#160;sales or  value added taxes charged to customers</font></div>  </td>  </tr>  </table>  </div>    <div style=\"clear:both; FONT-FAMILY:Times New Roman;FONT-SIZE: 10pt;FONT-SIZE: 10pt; MARGIN: 0in 0in 0pt\">  <table style=\"clear:both;MARGIN-BOTTOM: 0px; FONT: 10pt Times New Roman, Times, Serif; MARGIN-TOP: 0px; font-size-adjust: none; font-stretch: normal\" cellspacing=\"0\" cellpadding=\"0\">  <tr style=\"VERTICAL-ALIGN: top\">  <td style=\"WIDTH: 0.25in\"></td>  <td style=\"WIDTH: 0.25in\" align=\"left\">  <div><font style=\"COLOR: black\">b)</font></div>  </td>  <td>  <div><font style=\"COLOR: black\">net of discounts agreed with  customers</font></div>  </td>  </tr>  </table>  </div>    <div style=\"clear:both; FONT-FAMILY:Times New Roman;FONT-SIZE: 10pt;FONT-SIZE: 10pt; MARGIN: 0in 0in 0pt\">  <table style=\"clear:both;MARGIN-BOTTOM: 0px; FONT: 10pt Times New Roman, Times, Serif; MARGIN-TOP: 0px; font-size-adjust: none; font-stretch: normal\" cellspacing=\"0\" cellpadding=\"0\">  <tr style=\"VERTICAL-ALIGN: top\">  <td style=\"WIDTH: 0.25in\"></td>  <td style=\"WIDTH: 0.25in\" align=\"left\">  <div><font style=\"COLOR: black\">c)</font></div>  </td>  <td>  <div><font style=\"COLOR: black\">  net&#160;&#160;of&#160;&#160;returns provision agreed with the  distributor and</font></div>  </td>  </tr>  </table>  </div>    <div style=\"clear:both; FONT-FAMILY:Times New Roman;FONT-SIZE: 10pt;FONT-SIZE: 10pt; MARGIN: 0in 0in 0pt\">  <table style=\"clear:both;MARGIN-BOTTOM: 0px; FONT: 10pt Times New Roman, Times, Serif; MARGIN-TOP: 0px; font-size-adjust: none; font-stretch: normal\" cellspacing=\"0\" cellpadding=\"0\">  <tr style=\"VERTICAL-ALIGN: top\">  <td style=\"WIDTH: 0.25in\"></td>  <td style=\"WIDTH: 0.25in\" align=\"left\">  <div><font style=\"COLOR: black\">d)</font></div>  </td>  <td>  <div><font style=\"COLOR: black\">grossed up for the distribution fee  charged by the distribution agent.</font></div>  </td>  </tr>  </table>  </div>    <div style=\"clear:both; FONT-FAMILY:Times New Roman;FONT-SIZE: 10pt\"><font size=\"2\">&#160;</font></div>    <div style=\"clear:both; FONT-FAMILY:Times New Roman;FONT-SIZE: 10pt;FONT-SIZE: 10pt; MARGIN: 0in 0in 0pt\">  <font style=\"COLOR: black\">Revenue from digital distribution will  be reported by the various digital platforms such  as&#160;&#160;iTunes in their periodic reports and posted as  received.</font></div>    <div style=\"clear:both; FONT-FAMILY:Times New Roman;FONT-SIZE: 10pt;FONT: 10pt Times New Roman, Times, Serif; MARGIN: 0pt 0px; font-size-adjust: none; font-stretch: normal\">  <font style=\"COLOR: black\">&#160;</font></div>    <div style=\"clear:both; FONT-FAMILY:Times New Roman;FONT-SIZE: 10pt;FONT: 10pt Times New Roman, Times, Serif; MARGIN: 0pt 0px; font-size-adjust: none; font-stretch: normal\">  <font style=\"COLOR: black\"><u>FILM TAX CREDITS</u></font></div>    <div style=\"clear:both; FONT-FAMILY:Times New Roman;FONT-SIZE: 10pt;FONT: 10pt Times New Roman, Times, Serif; MARGIN: 0pt 0px; font-size-adjust: none; font-stretch: normal\">  <font style=\"COLOR: black\">&#160;</font></div>    <div style=\"clear:both; FONT-FAMILY:Times New Roman;FONT-SIZE: 10pt;FONT: 10pt Times New Roman, Times, Serif; MARGIN: 0pt 0px; font-size-adjust: none; font-stretch: normal\">  <font style=\"COLOR: black\">Many countries make tax credits  available to encourage film production in the territory. Seven Arts  benefits from tax credits in:</font></div>    <div style=\"clear:both; FONT-FAMILY:Times New Roman;FONT-SIZE: 10pt;FONT: 10pt Times New Roman, Times, Serif; MARGIN: 0pt 0px; font-size-adjust: none; font-stretch: normal\">  <font style=\"COLOR: black\">&#160;</font></div>    <div style=\"clear:both; FONT-FAMILY:Times New Roman;FONT-SIZE: 10pt;FONT-SIZE: 10pt; MARGIN: 0in 0in 0pt\">  <table style=\"clear:both;FONT: 10pt Times New Roman, Times, Serif; WIDTH: 100%; font-size-adjust: none; font-stretch: normal\" cellspacing=\"0\" cellpadding=\"0\">  <tr style=\"VERTICAL-ALIGN: top\">  <td style=\"WIDTH: 6%\" align=\"center\">  <div><font style=\"COLOR: black; FONT: 10pt Times New Roman, Times, Serif; font-size-adjust: none; font-stretch: normal\">  a)</font></div>  </td>  <td style=\"WIDTH: 94%\">  <div><font style=\"COLOR: black; FONT: 10pt Times New Roman, Times, Serif; font-size-adjust: none; font-stretch: normal\">  The UK and several other European territories for their European  productions</font></div>  </td>  </tr>    <tr style=\"VERTICAL-ALIGN: top\">  <td style=\"TEXT-ALIGN: center\">  <div><font style=\"COLOR: black; FONT: 10pt Times New Roman, Times, Serif; font-size-adjust: none; font-stretch: normal\">  b)</font></div>  </td>  <td>  <div><font style=\"COLOR: black; FONT: 10pt Times New Roman, Times, Serif; font-size-adjust: none; font-stretch: normal\">  Canada for their Canadian productions</font></div>  </td>  </tr>    <tr style=\"VERTICAL-ALIGN: top\">  <td style=\"TEXT-ALIGN: center\">  <div><font style=\"COLOR: black; FONT: 10pt Times New Roman, Times, Serif; font-size-adjust: none; font-stretch: normal\">  c)</font></div>  </td>  <td>  <div><font style=\"COLOR: black; FONT: 10pt Times New Roman, Times, Serif; font-size-adjust: none; font-stretch: normal\">  Louisiana for their US productions</font></div>  </td>  </tr>    <tr style=\"VERTICAL-ALIGN: top\">  <td style=\"TEXT-ALIGN: center\">  <div><font style=\"COLOR: black; FONT: 10pt Times New Roman, Times, Serif; font-size-adjust: none; font-stretch: normal\">  d)</font></div>  </td>  <td>  <div><font style=\"COLOR: black; FONT: 10pt Times New Roman, Times, Serif; font-size-adjust: none; font-stretch: normal\">  Tax preferred financing deals</font></div>  </td>  </tr>  </table>  </div>    <div style=\"clear:both; FONT-FAMILY:Times New Roman;FONT-SIZE: 10pt;FONT: 10pt Times New Roman, Times, Serif; MARGIN: 0pt 0px; font-size-adjust: none; font-stretch: normal\">  <font style=\"COLOR: black\">&#160;</font></div>    <div style=\"clear:both; FONT-FAMILY:Times New Roman;FONT-SIZE: 10pt;FONT: 10pt Times New Roman, Times, Serif; MARGIN: 0pt 0px; font-size-adjust: none; font-stretch: normal\">  <font style=\"COLOR: black\">These tax credits may be treated as a  reduction in the capitalized costs of the film assets they are  financing or as producer fees to us if the tax credits are earned  and owned by a company in the Group and paid to us as overhead or  producer fees.</font></div>    <div style=\"clear:both; FONT-FAMILY:Times New Roman;FONT-SIZE: 10pt;FONT: 10pt Times New Roman, Times, Serif; MARGIN: 0pt 0px; font-size-adjust: none; font-stretch: normal\">  <font style=\"COLOR: black\">&#160;</font></div>    <div style=\"clear:both; FONT-FAMILY:Times New Roman;FONT-SIZE: 10pt;FONT: 10pt Times New Roman, Times, Serif; MARGIN: 0pt 0px; font-size-adjust: none; font-stretch: normal\">  <font style=\"COLOR: black\"></font>     <div style=\"clear:both; FONT-FAMILY:Times New Roman;FONT-SIZE: 10pt;MARGIN: 0in 0in 0pt\">  <font style=\"COLOR: black\"><u><u><font style=\"FONT-SIZE: 10pt\">Fee  Income Receivable from Related Party</font></u><font style=\"FONT-SIZE: 10pt\"></font></u></font></div>  </div>    <div style=\"clear:both; FONT-FAMILY:Times New Roman;FONT-SIZE: 10pt;FONT: 10pt Times New Roman, Times, Serif; MARGIN: 0pt 0px; font-size-adjust: none; font-stretch: normal\">  <font style=\"COLOR: black\">&#160;</font></div>    <div style=\"clear:both; FONT-FAMILY:Times New Roman;FONT-SIZE: 10pt;FONT: 10pt Times New Roman, Times, Serif; MARGIN: 0pt 0px; font-size-adjust: none; font-stretch: normal\">  <font style=\"COLOR: black\">Revenue in the form of fee income is due  to the Company from a related party, SAPLA (owned by the wife of  Peter Hoffman, the Company&#8217;s former CEO) for developer,  advisory and financial services provided by the Company as concerns  infrastructure and historic rehabilitation tax credits earned by  SAPLA. In accordance with an intercompany agreement between SAE and  SAPLA,&#160;the cash proceeds from the disposition of the tax  credits earned by SAPLA are due to SAE. The Company has recognized  the fair value of the services as revenue with any excess received  as a capital contribution by the related party.</font></div>  </div>        <table border=\"0\" style=\"width:100%; table-layout:fixed;\" cellspacing=\"0\" cellpadding=\"0\"><tr><td></td></tr></table>"
      ],
      "text/plain": [
       "<IPython.core.display.HTML object>"
      ]
     },
     "metadata": {},
     "output_type": "display_data"
    },
    {
     "data": {
      "text/html": [
       "<h1>United Artists Theatre Circuit Inc /MD/ - Fiscal Year 2012</h1><div style=\"font-family:Times New Roman;font-size:10pt;\"><div style=\"line-height:120%;text-indent:48px;font-size:10pt;\"><font style=\"font-family:inherit;font-size:10pt;font-style:italic;font-weight:bold;\">Revenue Recognition</font></div><div style=\"line-height:120%;font-size:10pt;\"><font style=\"font-family:inherit;font-size:10pt;\"><br clear=\"none\"></font></div><div style=\"line-height:120%;text-indent:48px;font-size:10pt;\"><font style=\"font-family:inherit;font-size:10pt;\">Revenues are generated principally through admissions and concessions sales with proceeds received in cash or via credit card at the point of sale. Other operating revenues consist primarily of product advertising (including vendor marketing programs) and other ancillary revenues that are recognized as income in the period earned. The Company generally recognizes payments received attributable to the marketing and advertising services provided by the Company under certain vendor programs as revenue in the periods in which the advertising is displayed or when the related impressions are delivered. Such impressions are measured by the concession product sales volume, which is a mutually agreed upon proxy of attendance and reflects the Company&#8217;s marketing and advertising services delivered to its vendors. In instances where the consideration received is in excess of fair value of the advertising services provided, the excess is recorded as a reduction of concession costs. The Company recognizes revenue associated with gift cards and advanced ticket sales at such time as the items are redeemed.</font></div></div>"
      ],
      "text/plain": [
       "<IPython.core.display.HTML object>"
      ]
     },
     "metadata": {},
     "output_type": "display_data"
    },
    {
     "data": {
      "text/html": [
       "<h1>Watermark Group, Inc. - Fiscal Year 2012</h1><p style=\"font: 10pt/normal Times New Roman, Times, Serif; margin-top: 0; margin-bottom: 0; text-align: justify; background-color: white\"><font style=\"font: normal 10pt Times New Roman, Times, Serif\">For\r",
       "revenue from product sales, the Company will recognize revenue in accordance with Staff Accounting Bulletin No. 104, &#147;Revenue\r",
       "Recognition&#148; (SAB No. 104), which superseded Staff Accounting Bulletin No. 101, &#147;Revenue Recognition in Financial\r",
       "Statements&#148; (SAB No. 101). SAB No. 104 requires that four basic criteria must be met before revenue can be recognized: (1)\r",
       "persuasive evidence of an arrangement exists; (2) delivery has occurred; (3) the selling price is fixed and determinable; and\r",
       "(4) collectibility is reasonably assured. Determination of criteria (3) and (4) are based on management&#146;s judgment regarding\r",
       "the fixed nature of the selling prices of the products delivered and the collectibility of those amounts. Provisions for discounts\r",
       "and rebates to customers, estimated returns and allowances, and other adjustments will be provided for in the same period the\r",
       "related sales are recorded.</font></p>"
      ],
      "text/plain": [
       "<IPython.core.display.HTML object>"
      ]
     },
     "metadata": {},
     "output_type": "display_data"
    },
    {
     "data": {
      "text/html": [
       "<h1>alpha-En Corp - Fiscal Year 2013</h1><div style=\"MARGIN: 0pt 0px; FONT: 10pt Times New Roman, Times, Serif \"> <div style=\"CLEAR:both; FONT-FAMILY:Times New Roman;FONT-SIZE: 10pt;MARGIN: 0in 0in 0pt\" align=\"justify\"></div> <div style=\"CLEAR:both; FONT-FAMILY:Times New Roman;FONT-SIZE: 10pt;MARGIN: 0in 0in 0pt\" align=\"justify\"><i><u><font style=\"FONT-SIZE: 10pt\">Revenue Recognition</font></u></i></div> <div style=\"CLEAR:both; FONT-FAMILY:Times New Roman;FONT-SIZE: 10pt;MARGIN: 0in 0in 0pt\" align=\"justify\"><font style=\"FONT-SIZE: 10pt\">&#160;</font></div> <div style=\"CLEAR:both; FONT-FAMILY:Times New Roman;FONT-SIZE: 10pt;MARGIN: 0in 0in 0pt\" align=\"justify\"><font style=\"FONT-SIZE: 10pt\">The Company follows paragraph 605-10-S99-1 of the FASB Accounting Standards Codification for revenue recognition. The Company will recognize revenue when it is realized or realizable and earned. The Company considers revenue realized or realizable and earned when all of the following criteria are met: (i) persuasive evidence of an arrangement exists, (ii) the product has been shipped or the services have been rendered to the customer, (iii) the sales price is fixed or determinable, and (iv) collectability is reasonably assured.</font></div> </div><table border=\"0\" style=\"width:100%; table-layout:fixed;\" cellspacing=\"0\" cellpadding=\"0\"><tr><td></td></tr></table>"
      ],
      "text/plain": [
       "<IPython.core.display.HTML object>"
      ]
     },
     "metadata": {},
     "output_type": "display_data"
    },
    {
     "data": {
      "text/html": [
       "<h1>Amc Entertainment Inc - Fiscal Year 2013</h1><div style=\"font-size:10.0pt;font-family:Times New Roman;\">\n",
       "<font size=\"2\"><b><i>Revenues:</i></b></font><font size=\"2\">&#160;&#160;&#160;&#160;Revenues are recognized when admissions and food and beverage sales are received at the theatres. The Company defers <span data-cbfactid=\"-1\" data-cbnumtext=\"100%\" data-cbnetworkid=\"15858288\">100%</span> of the revenue associated with the sales of gift cards and packaged tickets until such time as the items are redeemed or breakage income is recorded. In the fourth quarter of fiscal 2012, the Company changed its accounting method for recognizing gift card breakage income. Prior to the fourth quarter of fiscal 2012, the Company recognized breakage income when gift card redemptions were deemed remote and the Company determined that there was no legal obligation to remit the unredeemed gift cards to the relevant tax jurisdiction (\"Remote Method\"), which based on historical information was 18&#160;months after the gift card was issued. In the fourth quarter of fiscal 2012, the Company accumulated a sufficient level of historical data from a large pool of homogeneous transactions to allow management to reasonably and objectively determine an estimated gift card breakage rate and the pattern of actual gift card redemptions. Accordingly during fiscal 2012, the Company changed its method for recording gift card breakage income to recognize breakage income and derecognize the gift card liability for unredeemed gift cards in proportion to actual redemptions of gift cards (\"Proportional Method\"). The Company recognizes breakage income for gift cards using the Proportional Method where it applies a breakage rate for its five gift card sales channels which ranges from <span data-cbfactid=\"67106174\" data-cbnetworkid=\"15858288\">14%</span> to <span data-cbfactid=\"67106175\" data-cbnetworkid=\"15858288\">23%</span> of the current month sales and the Company recognizes that total amount of breakage for that current month's sales as income over the next 24&#160;months in proportion to the pattern of actual redemptions. The Company has determined its breakage rates and redemption patterns using data accumulated over ten years on a company-wide basis. Breakage for packaged tickets continues to be recognized as the redemption of these items is determined to be remote, that is if a ticket has not been used within 18&#160;months after being purchased. During fiscal 2012, the Company recognized <span data-cbfactid=\"-1\" data-cbnumtext=\"$32633000\" data-cbnetworkid=\"15858288\">$32,633,000</span> of net gift card breakage income, of which <span data-cbfactid=\"-1\" data-cbnumtext=\"$14969000\" data-cbnetworkid=\"15858288\">$14,969,000</span> represented the adjustment related to the change from the Remote Method to the Proportional Method. Additionally, concurrent with the accounting change discussed above, the Company changed the presentation of gift card breakage income from other income to other theatre revenues during fiscal 2012, with conforming changes made for all prior periods presented. During the twelve months ended December&#160;31, 2013, the period August&#160;31, 2012 through December&#160;31, 2012, the period March&#160;30, 2012 through August&#160;30, 2012, and the fifty-two weeks ended March&#160;29, 2012, the Company recognized <span data-cbfactid=\"67104441\" data-cbnetworkid=\"15858288\">$19,510,000</span>, <span data-cbfactid=\"67104440\" data-cbnetworkid=\"15858288\">$3,483,000</span>, <span data-cbfactid=\"67104439\" data-cbnetworkid=\"15858288\">$7,776,000</span>, and <span data-cbfactid=\"-1\" data-cbnumtext=\"$32633000\" data-cbnetworkid=\"15858288\">$32,633,000</span> of income, respectively, related to the derecognition of gift card liabilities which was recorded in other theatre revenues in the Consolidated Statements of Operations.</font>\n",
       "</div>"
      ],
      "text/plain": [
       "<IPython.core.display.HTML object>"
      ]
     },
     "metadata": {},
     "output_type": "display_data"
    },
    {
     "data": {
      "text/html": [
       "<h1>Bona Film Group Ltd - Fiscal Year 2013</h1><div style=\"font-size:10.0pt;font-family:Times New Roman;FONT-FAMILY: Times New Roman; FONT-SIZE: 10pt;\">\n",
       "<dl compact=\"compact\">\n",
       "<dt style=\"FONT-FAMILY: times; MARGIN-BOTTOM: -11pt;\"><font size=\"2\">s.</font></dt>\n",
       "<dd style=\"FONT-FAMILY: times;\"><font size=\"2\">Revenue recognition</font></dd></dl>\n",
       "<p style=\"FONT-FAMILY: times;\"><font size=\"2\">&#160;&#160;&#160;&#160;&#160;&#160;&#160;&#160;The Group recognizes film-related revenue from the arrangements described as follows:</font></p>\n",
       "<ul>\n",
       "<li style=\"LIST-STYLE-TYPE: none;\">\n",
       "<p style=\"FONT-FAMILY: times;\"><font size=\"2\"><i>Film Distribution revenue</i></font></p></li></ul>\n",
       "<p style=\"FONT-FAMILY: times;\"><font size=\"2\">&#160;&#160;&#160;&#160;&#160;&#160;&#160;&#160;The Group acquires film distribution rights as the principal or a participating distributor in mainland China and overseas from film producers.</font></p>\n",
       "<p style=\"FONT-FAMILY: times;\"><font size=\"2\">&#160;&#160;&#160;&#160;&#160;&#160;&#160;&#160;As the principal distributor, the Group recognizes distribution revenue when the films are exhibited in movie theaters. After the payments by the movie theaters of taxes and other governmental charges and deductions by movie theaters and theater circuits of their respective shares of the box office sales, the remaining amount (the \"Distributable Amount\") is remitted to the Group which the Group accounts for as its distribution revenue.</font></p>\n",
       "<p style=\"FONT-FAMILY: times;\"><font size=\"2\">&#160;&#160;&#160;&#160;&#160;&#160;&#160;&#160;The Group then shares the Distributable Amount with the film producer, other participating distributors or both pursuant to the terms of the distribution agreement under which the Group is typically entitled to a fixed percentage of the Distributable Amount as its fees (the \"Distribution Fees\"). The Distributable Amount, after further deductions of the Distribution Fees and print and marketing expenses, except in rare cases which are not reimbursable by the producer, is paid or payable to the producer and is accounted for as a cost of distribution revenue.</font></p>\n",
       "<p style=\"FONT-FAMILY: times;\"><font size=\"2\">&#160;&#160;&#160;&#160;&#160;&#160;&#160;&#160;The Group also generates revenue from advertising services such as \"in-film\" advertising, pre-screening advertising, selling poster space and promotions of films. Revenue from advertising services is recognized as advertisement is shown or upon services provided. Cost of advertising services primarily consists of the cost of acquiring advertising airtime.</font></p>\n",
       "<p style=\"FONT-FAMILY: times;\"><font size=\"2\">&#160;&#160;&#160;&#160;&#160;&#160;&#160;&#160;The Group also cooperates with other distributors to distribute films as a participating distributor but is not the primary obligor under the distribution arrangement and shares a fixed percentage of the distribution fees received by the principal distributor as the Group's commissions pursuant to its arrangement with the principal distributor. The Group records these commissions as its distribution revenue.</font></p>\n",
       "<p style=\"FONT-FAMILY: times;\"><font size=\"2\">&#160;&#160;&#160;&#160;&#160;&#160;&#160;&#160;For certain films the distribution rights of which are acquired by the Group, the Group sub-licenses such rights to international third party distributors and domestic and international non-theatrical channels including television and Internet companies for a particular term. Revenue from such sub-licensing arrangements are recognized when the following criteria are met: (i)&#160;an arrangement has been signed with a customer, (ii)&#160;the customer's right to use or otherwise exploit the intellectual property has commenced and there is no requirement for significant continued performance by the Group, (iii)&#160;licensing fees are either fixed or determinable and (iv)&#160;collectability of the fee is reasonably assured.</font></p>\n",
       "<ul>\n",
       "<li style=\"LIST-STYLE-TYPE: none;\">\n",
       "<p style=\"FONT-FAMILY: times;\"><font size=\"2\"><i>Copyright and participation revenue</i></font></p></li></ul>\n",
       "<p style=\"FONT-FAMILY: times;\"><font size=\"2\">&#160;&#160;&#160;&#160;&#160;&#160;&#160;&#160;When the Group is not the principal distributor, but participates in the financing of film production in which the Group may also acquire all, a portion or none of the legal copyright in relation to the film, and bears a portion of the costs of financing, production, prints, promotion and advertising pursuant to the terms of the agreement for the production of the film, it generates revenue from such film production participation as follows:</font></p>\n",
       "<ul>\n",
       "<li style=\"LIST-STYLE-TYPE: none;\">\n",
       "<dl compact=\"compact\">\n",
       "<dt style=\"FONT-FAMILY: times; MARGIN-BOTTOM: -11pt;\"><font size=\"2\">(a)</font></dt>\n",
       "<dd style=\"FONT-FAMILY: times;\"><font size=\"2\">Where the Group is entitled to receive a certain percentage of the net profit of the film, it periodically receives a report from the film producer about the net profit or loss of the film. The Group records its share of the net profit of the film into revenue according to the report.<br>\n",
       "<br></font></dd>\n",
       "<dt style=\"FONT-FAMILY: times; MARGIN-BOTTOM: -11pt;\"><font size=\"2\">(b)</font></dt>\n",
       "<dd style=\"FONT-FAMILY: times;\"><font size=\"2\">In the case of licensing the Group's copyrights to international third party distributors and to other domestic and international non-theatrical channels, including television and Internet companies, for a particular term, the Group recognizes copyright revenue when the following criteria are met: (i)&#160;an arrangement has been signed with a customer, (ii)&#160;the customer's right to use or otherwise exploit the intellectual property has commenced and there is no requirement for significant continued performance by the Group, (iii)&#160;licensing fees are either fixed or determinable and (iv)&#160;collectability of the fee is reasonably assured.</font></dd></dl></li></ul>\n",
       "<ul>\n",
       "<li style=\"LIST-STYLE-TYPE: none;\">\n",
       "<p style=\"FONT-FAMILY: times;\"><font size=\"2\"><i>Talent agency revenue</i></font></p></li></ul>\n",
       "<p style=\"FONT-FAMILY: times;\"><font size=\"2\">&#160;&#160;&#160;&#160;&#160;&#160;&#160;&#160;The Group also acts as a talent agent for certain artists, where in certain cases the Group signs the service contract with a third party and in other cases, the Group and the artist together sign the service contract with a third party.</font></p>\n",
       "<p style=\"FONT-FAMILY: times;\"><font size=\"2\">&#160;&#160;&#160;&#160;&#160;&#160;&#160;&#160;Where the Group signs the service contract with a third party and is the primary obligor, the Group reports the gross amount of the service as revenue. Where the Group and the artist together sign the contract with a third party, the Group reports revenue at the total service amount net of the payment to the artist. For arrangements where the Group records the gross amount as its revenue, cost of talent agency service primarily consists of compensation paid to artists.</font></p>\n",
       "<ul>\n",
       "<li style=\"LIST-STYLE-TYPE: none;\">\n",
       "<p style=\"FONT-FAMILY: times;\"><font size=\"2\"><i>Movie theater revenue</i></font></p></li></ul>\n",
       "<p style=\"FONT-FAMILY: times;\"><font size=\"2\">&#160;&#160;&#160;&#160;&#160;&#160;&#160;&#160;Revenue is recognized when admissions and concession sales are received at the box offices. Other revenue primarily consists of screen advertising. Screen advertising revenue is recognized over the period that the related advertising is delivered on-screen or in-theatre. The Group records proceeds from the sale of prepaid membership cards and other prepaid certificates in deferred revenue and recognizes admissions revenue and concession revenue when the card or certificate is consumed. The Group recognizes unredeemed prepaid certificates as revenue upon expiration of the membership cards or certificates.</font></p></div>"
      ],
      "text/plain": [
       "<IPython.core.display.HTML object>"
      ]
     },
     "metadata": {},
     "output_type": "display_data"
    },
    {
     "data": {
      "text/html": [
       "<h1>Carmike Cinemas Inc - Fiscal Year 2013</h1><div>\n",
       " <p style=\"MARGIN-BOTTOM: 0px; MARGIN-TOP: 0px\"><font style=\"FONT-FAMILY: Times New Roman\" size=\"2\"><b>Revenue\n",
       " Recognition</b></font></p>\n",
       " <p style=\"MARGIN-BOTTOM: 0px; MARGIN-TOP: 6px; TEXT-INDENT: 4%\">\n",
       " <font style=\"FONT-FAMILY: Times New Roman\" size=\"2\">Admissions and\n",
       " concessions revenue is recognized at the point of sale for tickets\n",
       " and concessions. Sales taxes collected from customers are excluded\n",
       " from revenue and are recorded in accrued expenses in the\n",
       " accompanying consolidated balance sheets. Other revenues primarily\n",
       " consist of on-screen advertising. Screen advertising revenues are\n",
       " recognized over the period that the related advertising is\n",
       " delivered on-screen or in-theatre.</font></p>\n",
       " <p style=\"MARGIN-BOTTOM: 0px; MARGIN-TOP: 12px; TEXT-INDENT: 4%\">\n",
       " <font style=\"FONT-FAMILY: Times New Roman\" size=\"2\">The Company\n",
       " records proceeds from the sale of gift cards and other advanced\n",
       " sale certificates in current liabilities and recognizes admission\n",
       " and concessions revenue when a holder redeems a gift card or other\n",
       " advanced sale certificate. The Company recognized revenue from\n",
       " unredeemed gift cards and other advanced sale certificates upon the\n",
       " later of expiration of the cards or when redemption becomes\n",
       " unlikely. The Company&#x2019;s conclusion that redemption is\n",
       " unlikely is based on an analysis of historical trends. Revenue\n",
       " recognized related to unredeemed gift cards and other advanced sale\n",
       " certificates totaled <span data-cbfactid=\"63882478\">$500</span>, <span data-cbfactid=\"63882761\">$1,319</span> and <span data-cbfactid=\"63882147\">$1,718</span> in 2013, 2012 and\n",
       " 2011, respectively.</font></p>\n",
       " </div>"
      ],
      "text/plain": [
       "<IPython.core.display.HTML object>"
      ]
     },
     "metadata": {},
     "output_type": "display_data"
    },
    {
     "data": {
      "text/html": [
       "<h1>Carolco Pictures, Inc. - Fiscal Year 2013</h1><!--egx--><p style='margin:0in;margin-bottom:.0001pt;border:none;text-underline:#000000;text-align:justify;border:none'><i><u>Revenue Recognition</u></i></p> <p style='margin:0in;margin-bottom:.0001pt;border:none;text-underline:#000000;text-align:justify;border:none'>&nbsp;</p> <p style='margin:0in;margin-bottom:.0001pt;border:none;text-underline:#000000;text-align:justify;border:none'>The Company applies paragraph 605-10-S99-1 of the FASB Accounting Standards Codification for revenue recognition.&#160; The Company recognizes revenue when it is realized or realizable and earned.&#160; The Company considers revenue realized or realizable and earned when all of the following criteria are met: (i) persuasive evidence of an arrangement exists, (ii) the product has been shipped or the services have been rendered to the customer, (iii) the sales price is fixed or determinable, and (iv) collectability is reasonably assured.&#160; In addition to the aforementioned general policy, the following is the specific revenue recognition policy.</p> <p style='margin:0in;margin-bottom:.0001pt;border:none;text-underline:#000000;text-align:justify;border:none'>&nbsp;</p> <p style='margin:0in;margin-bottom:.0001pt;text-align:justify;border:none;text-underline:#000000'>Revenues from the sale of programming for television and other media are recognized when</p> <p style='margin:0in;margin-bottom:.0001pt;text-align:justify;border:none;text-underline:#000000'>&nbsp;</p> <table border=\"0\" cellspacing=\"0\" cellpadding=\"0\" width=\"1440\" style='width:15.0in'> <tr align=\"left\"> <td width=\"24\" valign=\"top\" style='width:.25in;padding:0'> <p style='margin:0in;margin-bottom:.0001pt;border:none;text-underline:#000000;border:none'>&nbsp;</p> </td> <td width=\"24\" valign=\"top\" style='width:.25in;padding:0'> <p style='margin:0in;margin-bottom:.0001pt;border:none;text-underline:#000000;border:none'><font style='font-family:Symbol'>&#183;</font></p> </td> <td valign=\"top\" style='padding:0'> <p style='margin:0in;margin-bottom:.0001pt;border:none;text-underline:#000000;text-align:justify;border:none'>Persuasive evidence of an arrangement exists;</p> </td> </tr> </table> <p style='margin:0in;margin-bottom:.0001pt;border:none;text-underline:#000000;border:none'>&nbsp;</p> <table border=\"0\" cellspacing=\"0\" cellpadding=\"0\" width=\"1440\" style='width:15.0in'> <tr align=\"left\"> <td width=\"24\" valign=\"top\" style='width:.25in;padding:0'> <p style='margin:0in;margin-bottom:.0001pt;border:none;text-underline:#000000;border:none'>&nbsp;</p> </td> <td width=\"24\" valign=\"top\" style='width:.25in;padding:0'> <p style='margin:0in;margin-bottom:.0001pt;border:none;text-underline:#000000;border:none'><font style='font-family:Symbol'>&#183;</font></p> </td> <td valign=\"top\" style='padding:0'> <p style='margin:0in;margin-bottom:.0001pt;border:none;text-underline:#000000;text-align:justify;border:none'>The show/episode is complete, and in accordance with the terms of the arrangement, has been delivered</p> <p style='margin:0in;margin-bottom:.0001pt;border:none;text-underline:#000000;text-align:justify;border:none'>or is available for immediate and unconditional delivery;</p> </td> </tr> </table> <p style='margin:0in;margin-bottom:.0001pt;border:none;text-underline:#000000;border:none'>&nbsp;</p> <table border=\"0\" cellspacing=\"0\" cellpadding=\"0\" width=\"1440\" style='width:15.0in'> <tr align=\"left\"> <td width=\"24\" valign=\"top\" style='width:.25in;padding:0'> <p style='margin:0in;margin-bottom:.0001pt;border:none;text-underline:#000000;border:none'>&nbsp;</p> </td> <td width=\"24\" valign=\"top\" style='width:.25in;padding:0'> <p style='margin:0in;margin-bottom:.0001pt;border:none;text-underline:#000000;border:none'><font style='font-family:Symbol'>&#183;</font></p> </td> <td valign=\"top\" style='padding:0'> <p style='margin:0in;margin-bottom:.0001pt;border:none;text-underline:#000000;text-align:justify;border:none'>The price to the customer is fixed and determinable; and</p> </td> </tr> </table> <p style='margin:0in;margin-bottom:.0001pt;border:none;text-underline:#000000;border:none'>&nbsp;</p> <table border=\"0\" cellspacing=\"0\" cellpadding=\"0\" width=\"1440\" style='width:15.0in'> <tr align=\"left\"> <td width=\"24\" valign=\"top\" style='width:.25in;padding:0'> <p style='margin:0in;margin-bottom:.0001pt;border:none;text-underline:#000000;border:none'>&nbsp;</p> </td> <td width=\"24\" valign=\"top\" style='width:.25in;padding:0'> <p style='margin:0in;margin-bottom:.0001pt;border:none;text-underline:#000000;border:none'><font style='font-family:Symbol'>&#183;</font></p> </td> <td valign=\"top\" style='padding:0'> <p style='margin:0in;margin-bottom:.0001pt;border:none;text-underline:#000000;text-align:justify;border:none'>Collectability is reasonably assured.</p> </td> </tr> </table>"
      ],
      "text/plain": [
       "<IPython.core.display.HTML object>"
      ]
     },
     "metadata": {},
     "output_type": "display_data"
    },
    {
     "data": {
      "text/html": [
       "<h1>China Media Inc. - Fiscal Year 2014</h1><p style=\"font: 10pt/normal Times New Roman, Times, Serif; margin: 0; text-align: justify\"><b><i>Revenue Recognition</i></b></p>\r",
       "\r",
       "<p style=\"font: 10pt/normal Times New Roman, Times, Serif; margin: 0; text-align: justify; text-indent: 0.5in\">&#160;</p>\r",
       "\r",
       "<p style=\"font: 10pt/normal Times New Roman, Times, Serif; margin: 0; text-align: justify\">The Company&#146;s revenue primarily\r",
       "comes from the distribution of film and TV series&#146; broadcasting rights and investment return from the collectively produced\r",
       "film and TV series.</p>\r",
       "\r",
       "<p style=\"font: 10pt/normal Times New Roman, Times, Serif; margin: 0; text-align: justify; text-indent: 0.5in\">&#160;</p>\r",
       "\r",
       "<p style=\"font: 10pt/normal Times New Roman, Times, Serif; margin: 0; text-align: justify\">In accordance with ASC 926, Entertainment\r",
       "- Films, revenue from sale or licensing arrangements of a film shall be recognized when the following five revenue criteria are\r",
       "met: persuasive evidence of an arrangement exists, the film is completed and delivery has occurred, the license period of the arrangement\r",
       "has begun, the selling price is fixed or determinable, and collectability is reasonably assured.</p>\r",
       "\r",
       "<p style=\"font: 10pt/normal Times New Roman, Times, Serif; margin: 0; text-align: justify; text-indent: 0.5in\">&#160;</p>\r",
       "\r",
       "<p style=\"font: 10pt/normal Times New Roman, Times, Serif; margin: 0; text-align: justify\">The Company also generates advertising\r",
       "revenues from the sale of advertising services. In the majority of advertising arrangements, the Company acts as an agent in the\r",
       "transaction and records advertising revenues on a net basis. Customer payments received in advance of the performance of services\r",
       "are recorded as customer deposits in the consolidated balance sheet, and are recognized as revenue when the advertising services\r",
       "are rendered.</p>"
      ],
      "text/plain": [
       "<IPython.core.display.HTML object>"
      ]
     },
     "metadata": {},
     "output_type": "display_data"
    },
    {
     "data": {
      "text/html": [
       "<h1>Cinedigm Corp. - Fiscal Year 2014</h1><div style=\"font-family:Times New Roman;font-size:10pt;\"><div style=\"line-height:120%;text-align:justify;font-size:10pt;\"><font style=\"font-family:inherit;font-size:10pt;font-weight:bold;\">REVENUE RECOGNITION</font></div><div style=\"line-height:120%;text-align:justify;font-size:10pt;\"><font style=\"font-family:inherit;font-size:10pt;\"><br clear=\"none\"></font></div><div style=\"line-height:120%;text-align:justify;font-size:10pt;\"><font style=\"font-family:inherit;font-size:10pt;font-style:italic;font-weight:bold;\">Phase I Deployment and Phase II Deployment</font></div><div style=\"line-height:120%;text-align:justify;font-size:10pt;\"><font style=\"font-family:inherit;font-size:10pt;\"><br clear=\"none\"></font></div><div style=\"line-height:120%;text-align:justify;font-size:10pt;\"><font style=\"font-family:inherit;font-size:10pt;\">Virtual print fees (&#8220;VPFs&#8221;) are earned, net of administrative fees, pursuant to contracts with movie studios and distributors, whereby amounts are payable by a studio to Phase 1 DC and to Phase 2 DC when movies distributed by the studio are displayed on screens utilizing the Company&#8217;s Systems installed in movie theatres.&#160;&#160;VPFs are earned and payable to Phase 1 DC based on a defined fee schedule with a reduced VPF rate year over year until the </font><font style=\"font-family:inherit;font-size:10pt;\">sixth</font><font style=\"font-family:inherit;font-size:10pt;\"> year at which point the VPF rate remains unchanged through the </font><font style=\"font-family:inherit;font-size:10pt;\">tenth</font><font style=\"font-family:inherit;font-size:10pt;\"> year.&#160;&#160;</font><font style=\"font-family:inherit;font-size:10pt;\">One</font><font style=\"font-family:inherit;font-size:10pt;\"> VPF is payable for every digital title displayed per System. The amount of VPF revenue is dependent on the number of movie titles released and displayed using the Systems in any given accounting period. VPF revenue is recognized in the period in which the digital title first plays on a System for general audience viewing in a digitally-equipped movie theatre, as Phase 1 DC&#8217;s and Phase 2 DC&#8217;s performance obligations have been substantially met at that time.</font></div><div style=\"line-height:120%;text-align:justify;font-size:10pt;\"><font style=\"font-family:inherit;font-size:10pt;\"><br clear=\"none\"></font></div><div style=\"line-height:120%;text-align:justify;font-size:10pt;\"><font style=\"font-family:inherit;font-size:10pt;\">Phase 2 DC&#8217;s agreements with distributors require the payment of VPFs, according to a defined fee schedule, for </font><font style=\"font-family:inherit;font-size:10pt;\">ten</font><font style=\"font-family:inherit;font-size:10pt;\"> years from the date each system is installed; however, Phase 2 DC may no longer collect VPFs once &#8220;cost recoupment,&#8221; as defined in the agreements, is achieved.&#160; Cost recoupment will occur once the cumulative VPFs and other cash receipts collected by Phase 2 DC have equaled the total of all cash outflows, including the purchase price of all Systems, all financing costs, all &#8220;overhead and ongoing costs&#8221;, as defined, and including the Company&#8217;s service fees, subject to maximum agreed upon amounts during the three-year rollout period and thereafter.&#160; Further, if cost recoupment occurs before the end of the </font><font style=\"font-family:inherit;font-size:10pt;\">eighth</font><font style=\"font-family:inherit;font-size:10pt;\"> contract year, a one-time &#8220;cost recoupment bonus&#8221; is payable by the studios to the Company.&#160; Any other cash flows, net of expenses, received by Phase 2 DC following the achievement of cost recoupment are required to be returned to the distributors on a pro-rata basis. At this time, the Company cannot estimate the timing or probability of the achievement of cost recoupment.</font></div><div style=\"line-height:120%;text-align:justify;font-size:10pt;\"><font style=\"font-family:inherit;font-size:10pt;\"><br clear=\"none\"></font></div><div style=\"line-height:120%;text-align:justify;font-size:10pt;\"><font style=\"font-family:inherit;font-size:10pt;\">Alternative content fees (&#8220;ACFs&#8221;) are earned pursuant to contracts with movie exhibitors, whereby amounts are payable to Phase 1 DC and to Phase 2 DC, generally either a fixed amount or as a percentage of the applicable box office revenue derived from the exhibitor&#8217;s showing of content other than feature movies, such as concerts and sporting events (typically referred to as &#8220;alternative content&#8221;). ACF revenue is recognized in the period in which the alternative content first opens for audience viewing.</font></div><div style=\"line-height:120%;text-align:justify;font-size:10pt;\"><font style=\"font-family:inherit;font-size:10pt;\"><br clear=\"none\"></font></div><div style=\"line-height:120%;text-align:justify;font-size:10pt;\"><font style=\"font-family:inherit;font-size:10pt;\">Revenues are deferred for up front exhibitor contributions and are recognized over the cost recoupment period, which is expected to be </font><font style=\"font-family:inherit;font-size:10pt;\">ten</font><font style=\"font-family:inherit;font-size:10pt;\"> years.</font></div><div style=\"line-height:120%;text-align:left;font-size:10pt;\"><font style=\"font-family:inherit;font-size:10pt;\"><br clear=\"none\"></font></div><div style=\"line-height:120%;text-align:justify;font-size:10pt;\"><font style=\"font-family:inherit;font-size:10pt;font-style:italic;font-weight:bold;\">Services</font></div><div style=\"line-height:120%;text-align:justify;font-size:10pt;\"><font style=\"font-family:inherit;font-size:10pt;\"><br clear=\"none\"></font></div><div style=\"line-height:120%;text-align:justify;font-size:10pt;\"><font style=\"font-family:inherit;font-size:10pt;\">Exhibitors who purchased and own Systems using their own financing in the Phase II Deployment, paid an upfront activation fee that is generally </font><font style=\"font-family:inherit;font-size:10pt;\"><span data-cbfactid=\"-1\" data-cbnumtext=\"$2000\" data-cbnetworkid=\"17578328\">$2</span> thousand</font><font style=\"font-family:inherit;font-size:10pt;\"> per screen to the Company (the &#8220;Exhibitor-Buyer Structure&#8221;).&#160;&#160;These upfront activation fees are recognized in the period in which these exhibitor owned Systems are ready for content, as the Company has no further obligations to the customer, and are generally paid quarterly from VPF revenues over approximately one year.&#160;&#160;Additionally, the Company recognizes activation fee revenue of between </font><font style=\"font-family:inherit;font-size:10pt;\"><span data-cbfactid=\"72700523\" data-cbnetworkid=\"17578328\">$1</span> thousand</font><font style=\"font-family:inherit;font-size:10pt;\"> and </font><font style=\"font-family:inherit;font-size:10pt;\"><span data-cbfactid=\"-1\" data-cbnumtext=\"$2000\" data-cbnetworkid=\"17578328\">$2</span> thousand</font><font style=\"font-family:inherit;font-size:10pt;\"> on Phase 2 DC Systems and for Systems installed by Holdings upon installation and such fees are generally collected upfront upon installation.  The Company will then manage the billing and collection of VPFs and will remit all VPFs collected to the exhibitors, less an administrative fee that will approximate up to </font><font style=\"font-family:inherit;font-size:10pt;\" data-cbfactid=\"-1\" data-cbnumtext=\"10%\" data-cbnetworkid=\"17578328\">10%</font><font style=\"font-family:inherit;font-size:10pt;\"> of the VPFs collected.</font></div><div style=\"line-height:120%;text-align:justify;font-size:10pt;\"><font style=\"font-family:inherit;font-size:10pt;\"><br clear=\"none\"></font></div><div style=\"line-height:120%;text-align:justify;font-size:10pt;\"><font style=\"font-family:inherit;font-size:10pt;\">The administrative fee related to the Phase I Deployment approximates </font><font style=\"font-family:inherit;font-size:10pt;\" data-cbfactid=\"-1\" data-cbnumtext=\"5%\" data-cbnetworkid=\"17578328\">5%</font><font style=\"font-family:inherit;font-size:10pt;\"> of the VPFs collected and an incentive service fee equal to </font><font style=\"font-family:inherit;font-size:10pt;\" data-cbfactid=\"72700588\" data-cbnetworkid=\"17578328\">2.5%</font><font style=\"font-family:inherit;font-size:10pt;\"> of the VPFs earned by Phase 1 DC.  This administrative fee is recognized in the period in which the billing of VPFs occurs, as performance obligations have been substantially met at that time.</font></div><div style=\"line-height:120%;text-align:justify;font-size:10pt;\"><font style=\"font-family:inherit;font-size:10pt;\"><br clear=\"none\"></font></div><div style=\"line-height:120%;text-align:justify;font-size:10pt;\"><font style=\"font-family:inherit;font-size:10pt;font-style:italic;font-weight:bold;\">Content &amp; Entertainment</font></div><div style=\"line-height:120%;text-align:justify;font-size:10pt;\"><font style=\"font-family:inherit;font-size:10pt;\"><br clear=\"none\"></font></div><div style=\"line-height:120%;text-align:justify;font-size:10pt;\"><font style=\"font-family:inherit;font-size:10pt;\">CEG earns fees for the distribution of content in the home entertainment markets via several distribution channels, including digital, VOD, and physical goods (e.g. DVD and Blu-ray) is typically based on the gross amounts billed to our customers less the amounts owed to the media studios or content producers under distribution agreements, and gross media sales of owned or licensed content. The fee rate earned by the Company varies depending upon the nature of the agreements with the platform and content providers. Generally, revenues are recognized at the availability date of the content for a subscription digital platform, at the time of shipment for physical goods, or point-of-sale for transactional and VOD services.</font></div><div style=\"line-height:120%;text-align:justify;font-size:10pt;\"><font style=\"font-family:inherit;font-size:10pt;\"><br clear=\"none\"></font></div><div style=\"line-height:120%;text-align:justify;font-size:10pt;\"><font style=\"font-family:inherit;font-size:10pt;\">CEG also has contracts for the theatrical distribution of third party feature movies and alternative content. CEG&#8217;s distribution fee revenue and CEG's participation in box office receipts is recognized at the time a feature movie and alternative content is viewed. CEG has the right to receive or bill a portion of the theatrical distribution fee in advance of the exhibition date, and therefore such amount is recorded as a receivable at the time of execution, and all related distribution revenue is deferred until the third party feature movies&#8217; or alternative content&#8217;s theatrical release date. </font></div><div style=\"line-height:120%;text-align:justify;font-size:10pt;\"><font style=\"font-family:inherit;font-size:10pt;\"><br clear=\"none\"></font></div></div>"
      ],
      "text/plain": [
       "<IPython.core.display.HTML object>"
      ]
     },
     "metadata": {},
     "output_type": "display_data"
    },
    {
     "data": {
      "text/html": [
       "<h1>Computer Graphics International Inc. - Fiscal Year 2013</h1>              <div style=\"CLEAR:both; FONT-FAMILY:Times New Roman;FONT-SIZE: 10pt;MARGIN: 0pt 0px; FONT: 10pt Times New Roman, Times, Serif \">  <div style=\"CLEAR:both; FONT-FAMILY:Times New Roman;FONT-SIZE: 10pt;MARGIN: 0in 0in 0pt\">  <u><font style=\"FONT-FAMILY: 'Times New Roman','serif'; FONT-SIZE: 10pt\">Revenue  Recognition</font></u></div>    <div style=\"CLEAR:both; FONT-FAMILY:Times New Roman;FONT-SIZE: 10pt;MARGIN: 0in 0in 0pt\">  <font style=\"FONT-FAMILY: 'Times New Roman','serif'; FONT-SIZE: 10pt\">  &#160;</font></div>    <div style=\"CLEAR:both; FONT-FAMILY:Times New Roman;FONT-SIZE: 10pt;MARGIN: 0in 0in 0pt\" align=\"justify\"><font style=\"FONT-FAMILY: 'Times New Roman','serif'; FONT-SIZE: 10pt\">The  Company&#8217;s revenue recognition policies are in compliance with  SEC Staff Accounting bulletin (&#8220;SAB&#8221;) 104 (codified in  FASB ASC Topic 605). Sales revenue is recognized at the completion  of delivery to customers when a formal arrangement exists, the  price is fixed or determinable, no other significant obligations of  the Company exist and collectability is reasonably assured at the  date of completion of delivery. Payments received before all of the  relevant criteria for revenue recognition are satisfied are  recorded as unearned revenue.</font></div>  </div>        <table border=\"0\" style=\"width:100%; table-layout:fixed;\" cellspacing=\"0\" cellpadding=\"0\"><tr><td></td></tr></table>"
      ],
      "text/plain": [
       "<IPython.core.display.HTML object>"
      ]
     },
     "metadata": {},
     "output_type": "display_data"
    },
    {
     "data": {
      "text/html": [
       "<h1>Crimson Forest Entertainment Group Inc. - Fiscal Year 2013</h1><p style=\"TEXT-ALIGN: left; LINE-HEIGHT: 1.25; MARGIN: 0pt 0pt 0pt 7.2pt\" id=\"PARA2833\"><b><font style=\"FONT-FAMILY: Times New Roman, Times, serif; FONT-SIZE: 10pt\"><i>Revenue Recognition</i></font></b><font style=\"FONT-FAMILY: Times New Roman, Times, serif; FONT-SIZE: 10pt\"><i></i></font>  \n",
       "    </p><br><p style=\"TEXT-ALIGN: justify; LINE-HEIGHT: 1.25; MARGIN: 0pt 0pt 0pt 7.2pt\" id=\"PARA2835\">   \n",
       "      <b><font style=\"FONT-FAMILY: Times New Roman, Times, serif; FONT-SIZE: 10pt\"></font></b><font style=\"FONT-FAMILY: Times New Roman, Times, serif; FONT-SIZE: 10pt\">Revenue from sales of products to customers is recognized when (1) persuasive evidence of an arrangement exists, (2) delivery of the product has occurred or the services have been performed, (3) the selling price is fixed or determinable, and (4) collectability of the resulting receivable is reasonably assured, net of returns, trade discounts and allowances. Depending on the relationship with the customer, the Company recognizes revenue upon shipment or arrival at destination. There is no stated right to return and there have been no returns.</font>     \n",
       "    </p><br><p style=\"TEXT-ALIGN: justify; LINE-HEIGHT: 1.25; MARGIN: 0pt 0pt 0pt 7.2pt\" id=\"PARA1621-2\">     \n",
       "      <font style=\"FONT-FAMILY: Times New Roman, Times, serif; FONT-SIZE: 10pt\">The Company reported revenues from the following countries:</font>    \n",
       "    </p><br><table style=\"TEXT-INDENT: 0px; WIDTH: 92.1%; FONT-FAMILY: Times New Roman, Times, serif; FONT-SIZE: 10pt\" id=\"TBL1691\" border=\"0\" cellspacing=\"0\" cellpadding=\"0\" align=\"center\" data-cbnetworkid=\"17520638\">     \n",
       "      <tr>  \n",
       "        <td style=\"WIDTH: 30.2%; VERTICAL-ALIGN: bottom\">    \n",
       "          <p style=\"TEXT-ALIGN: left; LINE-HEIGHT: 1.25; MARGIN: 0pt\" id=\"PARA1635-1\">   \n",
       "            <font style=\"FONT-FAMILY: Times New Roman, Times, serif; FONT-SIZE: 10pt\">&#160;&#160;</font> \n",
       "          </p> \n",
       "        </td>     \n",
       "        <td style=\"WIDTH: 1%; VERTICAL-ALIGN: bottom\"> \n",
       "          <p style=\"TEXT-ALIGN: left; LINE-HEIGHT: 1.25; MARGIN: 0pt\" id=\"PARA1636-1\">   \n",
       "            <font style=\"FONT-FAMILY: Times New Roman, Times, serif; FONT-SIZE: 10pt\">&#160;</font> \n",
       "          </p> \n",
       "        </td>     \n",
       "        <td style=\"BORDER-BOTTOM: #000000 1px solid; WIDTH: 10.8%; VERTICAL-ALIGN: bottom\">   \n",
       "          <p style=\"TEXT-ALIGN: center; LINE-HEIGHT: 1.25; MARGIN: 0pt\" id=\"PARA1637-1\">     \n",
       "            <font style=\"FONT-FAMILY: Times New Roman, Times, serif; FONT-SIZE: 10pt\">Year Ended</font> \n",
       "          </p> \n",
       "          <p style=\"TEXT-ALIGN: center; LINE-HEIGHT: 1.25; MARGIN: 0pt\" id=\"PARA1638-1\">     \n",
       "            <font style=\"FONT-FAMILY: Times New Roman, Times, serif; FONT-SIZE: 10pt\">February 28, 2014</font>   \n",
       "          </p> \n",
       "        </td>     \n",
       "        <td style=\"BORDER-BOTTOM: #000000 1px solid; WIDTH: 0.9%; VERTICAL-ALIGN: bottom\">  \n",
       "          <p style=\"TEXT-ALIGN: left; LINE-HEIGHT: 1.25; MARGIN: 0pt\" id=\"PARA1639-1\">   \n",
       "            <font style=\"FONT-FAMILY: Times New Roman, Times, serif; FONT-SIZE: 10pt\">&#160;</font> \n",
       "          </p> \n",
       "        </td>     \n",
       "        <td style=\"BORDER-BOTTOM: #000000 1px solid; WIDTH: 10.6%; VERTICAL-ALIGN: bottom\">   \n",
       "          <p style=\"TEXT-ALIGN: center; LINE-HEIGHT: 1.25; MARGIN: 0pt\" id=\"PARA1640-1\">     \n",
       "            <font style=\"FONT-FAMILY: Times New Roman, Times, serif; FONT-SIZE: 10pt\">%</font>  \n",
       "          </p> \n",
       "        </td>     \n",
       "        <td style=\"WIDTH: 0.9%; VERTICAL-ALIGN: bottom\">   \n",
       "          <p style=\"TEXT-ALIGN: left; LINE-HEIGHT: 1.25; MARGIN: 0pt\" id=\"PARA1641-1\">   \n",
       "            <font style=\"FONT-FAMILY: Times New Roman, Times, serif; FONT-SIZE: 10pt\">&#160;</font> \n",
       "          </p> \n",
       "        </td>     \n",
       "        <td style=\"BORDER-BOTTOM: #000000 1px solid; WIDTH: 10.8%; VERTICAL-ALIGN: bottom\">   \n",
       "          <p style=\"TEXT-ALIGN: center; LINE-HEIGHT: 1.25; MARGIN: 0pt\" id=\"PARA1642-1\">     \n",
       "            <font style=\"FONT-FAMILY: Times New Roman, Times, serif; FONT-SIZE: 10pt\">Year Ended</font> \n",
       "          </p> \n",
       "          <p style=\"TEXT-ALIGN: center; LINE-HEIGHT: 1.25; MARGIN: 0pt\" id=\"PARA1643-2\">     \n",
       "            <font style=\"FONT-FAMILY: Times New Roman, Times, serif; FONT-SIZE: 10pt\">February 28, 2013</font>   \n",
       "          </p> \n",
       "        </td>     \n",
       "        <td style=\"BORDER-BOTTOM: #000000 1px solid; WIDTH: 0.9%; VERTICAL-ALIGN: bottom\">  \n",
       "          <p style=\"TEXT-ALIGN: left; LINE-HEIGHT: 1.25; MARGIN: 0pt\" id=\"PARA1644-1\">   \n",
       "            <font style=\"FONT-FAMILY: Times New Roman, Times, serif; FONT-SIZE: 10pt\">&#160;</font> \n",
       "          </p> \n",
       "        </td>     \n",
       "        <td style=\"BORDER-BOTTOM: #000000 1px solid; WIDTH: 10.6%; VERTICAL-ALIGN: bottom\">   \n",
       "          <p style=\"TEXT-ALIGN: center; LINE-HEIGHT: 1.25; MARGIN: 0pt\" id=\"PARA1645-1\">     \n",
       "            <font style=\"FONT-FAMILY: Times New Roman, Times, serif; FONT-SIZE: 10pt\">%</font>  \n",
       "          </p> \n",
       "        </td>     \n",
       "        <td style=\"WIDTH: 0.9%; VERTICAL-ALIGN: bottom\">   \n",
       "          <p style=\"TEXT-ALIGN: left; LINE-HEIGHT: 1.25; MARGIN: 0pt\" id=\"PARA1646-1\">   \n",
       "            <font style=\"FONT-FAMILY: Times New Roman, Times, serif; FONT-SIZE: 10pt\">&#160;</font> \n",
       "          </p> \n",
       "        </td>     \n",
       "        <td style=\"BORDER-BOTTOM: #000000 1px solid; WIDTH: 10.8%; VERTICAL-ALIGN: bottom\">   \n",
       "          <p style=\"TEXT-ALIGN: center; LINE-HEIGHT: 1.25; MARGIN: 0pt\" id=\"PARA1647-1\">     \n",
       "            <font style=\"FONT-FAMILY: Times New Roman, Times, serif; FONT-SIZE: 10pt\">June 11,</font>    \n",
       "          </p> \n",
       "          <p style=\"TEXT-ALIGN: center; LINE-HEIGHT: 1.25; MARGIN: 0pt\">    \n",
       "            <font style=\"FONT-FAMILY: Times New Roman, Times, serif; FONT-SIZE: 10pt\">2010</font>     \n",
       "          </p> \n",
       "          <p style=\"TEXT-ALIGN: center; LINE-HEIGHT: 1.25; MARGIN: 0pt\" id=\"PARA1648-0\">     \n",
       "            <font style=\"FONT-FAMILY: Times New Roman, Times, serif; FONT-SIZE: 10pt\">(inception)</font>  \n",
       "          </p> \n",
       "          <p style=\"TEXT-ALIGN: center; LINE-HEIGHT: 1.25; MARGIN: 0pt\">    \n",
       "            <font style=\"FONT-FAMILY: Times New Roman, Times, serif; FONT-SIZE: 10pt\">to</font>   \n",
       "          </p> \n",
       "          <p style=\"TEXT-ALIGN: center; LINE-HEIGHT: 1.25; MARGIN: 0pt\" id=\"PARA1649-1\">     \n",
       "            <font style=\"FONT-FAMILY: Times New Roman, Times, serif; FONT-SIZE: 10pt\">February</font>    \n",
       "          </p> \n",
       "          <p style=\"TEXT-ALIGN: center; LINE-HEIGHT: 1.25; MARGIN: 0pt\">    \n",
       "            <font style=\"FONT-FAMILY: Times New Roman, Times, serif; FONT-SIZE: 10pt\">28, 2013</font>    \n",
       "          </p> \n",
       "        </td>     \n",
       "        <td style=\"BORDER-BOTTOM: #000000 1px solid; WIDTH: 1%; VERTICAL-ALIGN: bottom\">     \n",
       "          <p style=\"TEXT-ALIGN: left; LINE-HEIGHT: 1.25; MARGIN: 0pt\" id=\"PARA1650-2\">   \n",
       "            <font style=\"FONT-FAMILY: Times New Roman, Times, serif; FONT-SIZE: 10pt\">&#160;</font> \n",
       "          </p> \n",
       "        </td>     \n",
       "        <td style=\"BORDER-BOTTOM: #000000 1px solid; WIDTH: 10.5%; VERTICAL-ALIGN: bottom\">   \n",
       "          <p style=\"TEXT-ALIGN: center; LINE-HEIGHT: 1.25; MARGIN: 0pt\" id=\"PARA1651-2\">     \n",
       "            <font style=\"FONT-FAMILY: Times New Roman, Times, serif; FONT-SIZE: 10pt\">%</font>  \n",
       "          </p> \n",
       "        </td>     \n",
       "      </tr>   \n",
       "      <tr style=\"BACKGROUND-COLOR: #cceeff\"> \n",
       "        <td style=\"BACKGROUND-COLOR: #cceeff; WIDTH: 30.2%; VERTICAL-ALIGN: bottom\"> \n",
       "          <p style=\"TEXT-ALIGN: left; LINE-HEIGHT: 1.25; MARGIN: 0pt\" id=\"PARA1652-0\">   \n",
       "            <font style=\"FONT-FAMILY: Times New Roman, Times, serif; FONT-SIZE: 10pt\">&#160;&#160;United States</font>    \n",
       "          </p> \n",
       "        </td>     \n",
       "        <td style=\"BACKGROUND-COLOR: #cceeff; WIDTH: 1%; VERTICAL-ALIGN: bottom\">   \n",
       "          <p style=\"TEXT-ALIGN: left; LINE-HEIGHT: 1.25; MARGIN: 0pt\" id=\"PARA1653-0\">   \n",
       "            <font style=\"FONT-FAMILY: Times New Roman, Times, serif; FONT-SIZE: 10pt\">&#160;</font> \n",
       "          </p> \n",
       "        </td>     \n",
       "        <td style=\"BACKGROUND-COLOR: #cceeff; WIDTH: 10.8%; VERTICAL-ALIGN: bottom\"> \n",
       "          <p style=\"TEXT-ALIGN: right; LINE-HEIGHT: 1.25; MARGIN: 0pt\" id=\"PARA1654-1\">    \n",
       "            <font style=\"FONT-FAMILY: Times New Roman, Times, serif; FONT-SIZE: 10pt\">-</font>  \n",
       "          </p> \n",
       "        </td>     \n",
       "        <td style=\"BACKGROUND-COLOR: #cceeff; WIDTH: 0.9%; VERTICAL-ALIGN: bottom\">     \n",
       "          <p style=\"TEXT-ALIGN: left; LINE-HEIGHT: 1.25; MARGIN: 0pt\" id=\"PARA1655-1\">   \n",
       "            <font style=\"FONT-FAMILY: Times New Roman, Times, serif; FONT-SIZE: 10pt\">&#160;</font> \n",
       "          </p> \n",
       "        </td>     \n",
       "        <td style=\"BACKGROUND-COLOR: #cceeff; WIDTH: 10.6%; VERTICAL-ALIGN: bottom\"> \n",
       "          <p style=\"TEXT-ALIGN: right; LINE-HEIGHT: 1.25; MARGIN: 0pt\" id=\"PARA1656-0\">    \n",
       "            <font style=\"FONT-FAMILY: Times New Roman, Times, serif; FONT-SIZE: 10pt\">-</font>  \n",
       "          </p> \n",
       "        </td>     \n",
       "        <td style=\"BACKGROUND-COLOR: #cceeff; WIDTH: 0.9%; VERTICAL-ALIGN: bottom\">     \n",
       "          <p style=\"TEXT-ALIGN: left; LINE-HEIGHT: 1.25; MARGIN: 0pt\" id=\"PARA1657-1\">   \n",
       "            <font style=\"FONT-FAMILY: Times New Roman, Times, serif; FONT-SIZE: 10pt\">&#160;</font> \n",
       "          </p> \n",
       "        </td>     \n",
       "        <td style=\"BACKGROUND-COLOR: #cceeff; WIDTH: 10.8%; VERTICAL-ALIGN: bottom\" data-cbfactid=\"72497475\"> \n",
       "          <p style=\"TEXT-ALIGN: right; LINE-HEIGHT: 1.25; MARGIN: 0pt\" id=\"PARA1658-1\">    \n",
       "            <font style=\"FONT-FAMILY: Times New Roman, Times, serif; FONT-SIZE: 10pt\">$151,380</font>    \n",
       "          </p> \n",
       "        </td>     \n",
       "        <td style=\"BACKGROUND-COLOR: #cceeff; WIDTH: 0.9%; VERTICAL-ALIGN: bottom\">     \n",
       "          <p style=\"TEXT-ALIGN: left; LINE-HEIGHT: 1.25; MARGIN: 0pt\" id=\"PARA1659-1\">   \n",
       "            <font style=\"FONT-FAMILY: Times New Roman, Times, serif; FONT-SIZE: 10pt\">&#160;</font> \n",
       "          </p> \n",
       "        </td>     \n",
       "        <td style=\"BACKGROUND-COLOR: #cceeff; WIDTH: 10.6%; VERTICAL-ALIGN: bottom\" data-cbfactid=\"72497585\"> \n",
       "          <p style=\"TEXT-ALIGN: right; LINE-HEIGHT: 1.25; MARGIN: 0pt\" id=\"PARA1660\">  \n",
       "            <font style=\"FONT-FAMILY: Times New Roman, Times, serif; FONT-SIZE: 10pt\">100 %</font> \n",
       "          </p> \n",
       "        </td>     \n",
       "        <td style=\"BACKGROUND-COLOR: #cceeff; WIDTH: 0.9%; VERTICAL-ALIGN: bottom\">     \n",
       "          <p style=\"TEXT-ALIGN: left; LINE-HEIGHT: 1.25; MARGIN: 0pt\" id=\"PARA1661\"> \n",
       "            <font style=\"FONT-FAMILY: Times New Roman, Times, serif; FONT-SIZE: 10pt\">&#160;</font> \n",
       "          </p> \n",
       "        </td>     \n",
       "        <td style=\"BACKGROUND-COLOR: #cceeff; WIDTH: 10.8%; VERTICAL-ALIGN: bottom\" data-cbfactid=\"72497579\"> \n",
       "          <p style=\"TEXT-ALIGN: right; LINE-HEIGHT: 1.25; MARGIN: 0pt\" id=\"PARA1662\">  \n",
       "            <font style=\"FONT-FAMILY: Times New Roman, Times, serif; FONT-SIZE: 10pt\">$198,660</font>    \n",
       "          </p> \n",
       "        </td>     \n",
       "        <td style=\"BACKGROUND-COLOR: #cceeff; WIDTH: 1%; VERTICAL-ALIGN: bottom\">   \n",
       "          <p style=\"TEXT-ALIGN: left; LINE-HEIGHT: 1.25; MARGIN: 0pt\" id=\"PARA1663-1\">   \n",
       "            <font style=\"FONT-FAMILY: Times New Roman, Times, serif; FONT-SIZE: 10pt\">&#160;</font> \n",
       "          </p> \n",
       "        </td>     \n",
       "        <td style=\"BACKGROUND-COLOR: #cceeff; WIDTH: 10.5%; VERTICAL-ALIGN: bottom\" data-cbfactid=\"72497580\"> \n",
       "          <p style=\"TEXT-ALIGN: right; LINE-HEIGHT: 1.25; MARGIN: 0pt\" id=\"PARA1664-0\">    \n",
       "            <font style=\"FONT-FAMILY: Times New Roman, Times, serif; FONT-SIZE: 10pt\">90 %</font>     \n",
       "          </p> \n",
       "        </td>     \n",
       "      </tr>   \n",
       "      <tr style=\"BACKGROUND-COLOR: #ffffff\"> \n",
       "        <td style=\"BACKGROUND-COLOR: #ffffff; WIDTH: 30.2%; VERTICAL-ALIGN: bottom\"> \n",
       "          <p style=\"TEXT-ALIGN: left; LINE-HEIGHT: 1.25; MARGIN: 0pt\" id=\"PARA1665-0\">   \n",
       "            <font style=\"FONT-FAMILY: Times New Roman, Times, serif; FONT-SIZE: 10pt\">&#160;&#160;Brazil</font>  \n",
       "          </p> \n",
       "        </td>     \n",
       "        <td style=\"BACKGROUND-COLOR: #ffffff; WIDTH: 1%; VERTICAL-ALIGN: bottom\">   \n",
       "          <p style=\"TEXT-ALIGN: left; LINE-HEIGHT: 1.25; MARGIN: 0pt\" id=\"PARA1666-0\">   \n",
       "            <font style=\"FONT-FAMILY: Times New Roman, Times, serif; FONT-SIZE: 10pt\">&#160;</font> \n",
       "          </p> \n",
       "        </td>     \n",
       "        <td style=\"BORDER-BOTTOM: #000000 1px solid; BACKGROUND-COLOR: #ffffff; WIDTH: 10.8%; VERTICAL-ALIGN: bottom\">     \n",
       "          <p style=\"TEXT-ALIGN: right; LINE-HEIGHT: 1.25; MARGIN: 0pt\" id=\"PARA1667-1\">    \n",
       "            <font style=\"FONT-FAMILY: Times New Roman, Times, serif; FONT-SIZE: 10pt\">-</font>  \n",
       "          </p> \n",
       "        </td>     \n",
       "        <td style=\"BACKGROUND-COLOR: #ffffff; WIDTH: 0.9%; VERTICAL-ALIGN: bottom\">     \n",
       "          <p style=\"TEXT-ALIGN: left; LINE-HEIGHT: 1.25; MARGIN: 0pt\" id=\"PARA1668\"> \n",
       "            <font style=\"FONT-FAMILY: Times New Roman, Times, serif; FONT-SIZE: 10pt\">&#160;</font> \n",
       "          </p> \n",
       "        </td>     \n",
       "        <td style=\"BORDER-BOTTOM: #000000 1px solid; BACKGROUND-COLOR: #ffffff; WIDTH: 10.6%; VERTICAL-ALIGN: bottom\">     \n",
       "          <p style=\"TEXT-ALIGN: right; LINE-HEIGHT: 1.25; MARGIN: 0pt\" id=\"PARA1669-0\">    \n",
       "            <font style=\"FONT-FAMILY: Times New Roman, Times, serif; FONT-SIZE: 10pt\">-</font>  \n",
       "          </p> \n",
       "        </td>     \n",
       "        <td style=\"BACKGROUND-COLOR: #ffffff; WIDTH: 0.9%; VERTICAL-ALIGN: bottom\">     \n",
       "          <p style=\"TEXT-ALIGN: left; LINE-HEIGHT: 1.25; MARGIN: 0pt\" id=\"PARA1670-0\">   \n",
       "            <font style=\"FONT-FAMILY: Times New Roman, Times, serif; FONT-SIZE: 10pt\">&#160;</font> \n",
       "          </p> \n",
       "        </td>     \n",
       "        <td style=\"BORDER-BOTTOM: #000000 1px solid; BACKGROUND-COLOR: #ffffff; WIDTH: 10.8%; VERTICAL-ALIGN: bottom\">     \n",
       "          <p style=\"TEXT-ALIGN: right; LINE-HEIGHT: 1.25; MARGIN: 0pt\" id=\"PARA1671-0\">    \n",
       "            <font style=\"FONT-FAMILY: Times New Roman, Times, serif; FONT-SIZE: 10pt\">-</font>  \n",
       "          </p> \n",
       "        </td>     \n",
       "        <td style=\"BACKGROUND-COLOR: #ffffff; WIDTH: 0.9%; VERTICAL-ALIGN: bottom\">     \n",
       "          <p style=\"TEXT-ALIGN: left; LINE-HEIGHT: 1.25; MARGIN: 0pt\" id=\"PARA1672-0\">   \n",
       "            <font style=\"FONT-FAMILY: Times New Roman, Times, serif; FONT-SIZE: 10pt\">&#160;</font> \n",
       "          </p> \n",
       "        </td>     \n",
       "        <td style=\"BORDER-BOTTOM: #000000 1px solid; BACKGROUND-COLOR: #ffffff; WIDTH: 10.6%; VERTICAL-ALIGN: bottom\">     \n",
       "          <p style=\"TEXT-ALIGN: right; LINE-HEIGHT: 1.25; MARGIN: 0pt\" id=\"PARA1673-0\">    \n",
       "            <font style=\"FONT-FAMILY: Times New Roman, Times, serif; FONT-SIZE: 10pt\">-</font>  \n",
       "          </p> \n",
       "        </td>     \n",
       "        <td style=\"BACKGROUND-COLOR: #ffffff; WIDTH: 0.9%; VERTICAL-ALIGN: bottom\">     \n",
       "          <p style=\"TEXT-ALIGN: left; LINE-HEIGHT: 1.25; MARGIN: 0pt\" id=\"PARA1674-1\">   \n",
       "            <font style=\"FONT-FAMILY: Times New Roman, Times, serif; FONT-SIZE: 10pt\">&#160;</font> \n",
       "          </p> \n",
       "        </td>     \n",
       "        <td style=\"BORDER-BOTTOM: #000000 1px solid; BACKGROUND-COLOR: #ffffff; WIDTH: 10.8%; VERTICAL-ALIGN: bottom\" data-cbfactid=\"72497583\">     \n",
       "          <p style=\"TEXT-ALIGN: right; LINE-HEIGHT: 1.25; MARGIN: 0pt\" id=\"PARA1675-0\">    \n",
       "            <font style=\"FONT-FAMILY: Times New Roman, Times, serif; FONT-SIZE: 10pt\">21,000</font>  \n",
       "          </p> \n",
       "        </td>     \n",
       "        <td style=\"BACKGROUND-COLOR: #ffffff; WIDTH: 1%; VERTICAL-ALIGN: bottom\">   \n",
       "          <p style=\"TEXT-ALIGN: left; LINE-HEIGHT: 1.25; MARGIN: 0pt\" id=\"PARA1676-0\">   \n",
       "            <font style=\"FONT-FAMILY: Times New Roman, Times, serif; FONT-SIZE: 10pt\">&#160;</font> \n",
       "          </p> \n",
       "        </td>     \n",
       "        <td style=\"BORDER-BOTTOM: #000000 1px solid; BACKGROUND-COLOR: #ffffff; WIDTH: 10.5%; VERTICAL-ALIGN: bottom\" data-cbfactid=\"72497584\">     \n",
       "          <p style=\"TEXT-ALIGN: right; LINE-HEIGHT: 1.25; MARGIN: 0pt\" id=\"PARA1677-0\">    \n",
       "            <font style=\"FONT-FAMILY: Times New Roman, Times, serif; FONT-SIZE: 10pt\">10 %</font>     \n",
       "          </p> \n",
       "        </td>     \n",
       "      </tr>   \n",
       "      <tr style=\"BACKGROUND-COLOR: #cceeff\"> \n",
       "        <td style=\"BACKGROUND-COLOR: #cceeff; WIDTH: 30.2%; VERTICAL-ALIGN: bottom\"> \n",
       "          <p style=\"TEXT-ALIGN: left; LINE-HEIGHT: 1.25; MARGIN: 0pt\" id=\"PARA1678-1\">   \n",
       "            <font style=\"FONT-FAMILY: Times New Roman, Times, serif; FONT-SIZE: 10pt\">Total</font> \n",
       "          </p> \n",
       "        </td>     \n",
       "        <td style=\"BACKGROUND-COLOR: #cceeff; WIDTH: 1%; VERTICAL-ALIGN: bottom\">   \n",
       "          <p style=\"TEXT-ALIGN: left; LINE-HEIGHT: 1.25; MARGIN: 0pt\" id=\"PARA1679-0\">   \n",
       "            <font style=\"FONT-FAMILY: Times New Roman, Times, serif; FONT-SIZE: 10pt\">&#160;</font> \n",
       "          </p> \n",
       "        </td>     \n",
       "        <td style=\"BORDER-BOTTOM: #000000 3px double; BACKGROUND-COLOR: #cceeff; WIDTH: 10.8%; VERTICAL-ALIGN: bottom\"> \n",
       "          <p style=\"TEXT-ALIGN: right; LINE-HEIGHT: 1.25; MARGIN: 0pt\" id=\"PARA1680-0\">    \n",
       "            <font style=\"FONT-FAMILY: Times New Roman, Times, serif; FONT-SIZE: 10pt\">-</font>  \n",
       "          </p> \n",
       "        </td>     \n",
       "        <td style=\"BACKGROUND-COLOR: #cceeff; WIDTH: 0.9%; VERTICAL-ALIGN: bottom\">     \n",
       "          <p style=\"TEXT-ALIGN: left; LINE-HEIGHT: 1.25; MARGIN: 0pt\" id=\"PARA1681-0\">   \n",
       "            <font style=\"FONT-FAMILY: Times New Roman, Times, serif; FONT-SIZE: 10pt\">&#160;</font> \n",
       "          </p> \n",
       "        </td>     \n",
       "        <td style=\"BORDER-BOTTOM: #000000 3px double; BACKGROUND-COLOR: #cceeff; WIDTH: 10.6%; VERTICAL-ALIGN: bottom\"> \n",
       "          <p style=\"TEXT-ALIGN: right; LINE-HEIGHT: 1.25; MARGIN: 0pt\" id=\"PARA1682-0\">    \n",
       "            <font style=\"FONT-FAMILY: Times New Roman, Times, serif; FONT-SIZE: 10pt\">-</font>  \n",
       "          </p> \n",
       "        </td>     \n",
       "        <td style=\"BACKGROUND-COLOR: #cceeff; WIDTH: 0.9%; VERTICAL-ALIGN: bottom\">     \n",
       "          <p style=\"TEXT-ALIGN: left; LINE-HEIGHT: 1.25; MARGIN: 0pt\" id=\"PARA1683-0\">   \n",
       "            <font style=\"FONT-FAMILY: Times New Roman, Times, serif; FONT-SIZE: 10pt\">&#160;</font> \n",
       "          </p> \n",
       "        </td>     \n",
       "        <td style=\"BORDER-BOTTOM: #000000 3px double; BACKGROUND-COLOR: #cceeff; WIDTH: 10.8%; VERTICAL-ALIGN: bottom\" data-cbfactid=\"72497577\"> \n",
       "          <p style=\"TEXT-ALIGN: right; LINE-HEIGHT: 1.25; MARGIN: 0pt\" id=\"PARA1684-0\">    \n",
       "            <font style=\"FONT-FAMILY: Times New Roman, Times, serif; FONT-SIZE: 10pt\">$151,380</font>    \n",
       "          </p> \n",
       "        </td>     \n",
       "        <td style=\"BACKGROUND-COLOR: #cceeff; WIDTH: 0.9%; VERTICAL-ALIGN: bottom\">     \n",
       "          <p style=\"TEXT-ALIGN: left; LINE-HEIGHT: 1.25; MARGIN: 0pt\" id=\"PARA1685-1\">   \n",
       "            <font style=\"FONT-FAMILY: Times New Roman, Times, serif; FONT-SIZE: 10pt\">&#160;</font> \n",
       "          </p> \n",
       "        </td>     \n",
       "        <td style=\"BORDER-BOTTOM: #000000 3px double; BACKGROUND-COLOR: #cceeff; WIDTH: 10.6%; VERTICAL-ALIGN: bottom\" data-cbfactid=\"72497578\"> \n",
       "          <p style=\"TEXT-ALIGN: right; LINE-HEIGHT: 1.25; MARGIN: 0pt\" id=\"PARA1686-0\">    \n",
       "            <font style=\"FONT-FAMILY: Times New Roman, Times, serif; FONT-SIZE: 10pt\">100 %</font> \n",
       "          </p> \n",
       "        </td>     \n",
       "        <td style=\"BACKGROUND-COLOR: #cceeff; WIDTH: 0.9%; VERTICAL-ALIGN: bottom\">     \n",
       "          <p style=\"TEXT-ALIGN: left; LINE-HEIGHT: 1.25; MARGIN: 0pt\" id=\"PARA1687-0\">   \n",
       "            <font style=\"FONT-FAMILY: Times New Roman, Times, serif; FONT-SIZE: 10pt\">&#160;</font> \n",
       "          </p> \n",
       "        </td>     \n",
       "        <td style=\"BORDER-BOTTOM: #000000 3px double; BACKGROUND-COLOR: #cceeff; WIDTH: 10.8%; VERTICAL-ALIGN: bottom\" data-cbfactid=\"72497476\"> \n",
       "          <p style=\"TEXT-ALIGN: right; LINE-HEIGHT: 1.25; MARGIN: 0pt\" id=\"PARA1688-0\">    \n",
       "            <font style=\"FONT-FAMILY: Times New Roman, Times, serif; FONT-SIZE: 10pt\">$ 219,660</font>     \n",
       "          </p> \n",
       "        </td>     \n",
       "        <td style=\"BACKGROUND-COLOR: #cceeff; WIDTH: 1%; VERTICAL-ALIGN: bottom\">   \n",
       "          <p style=\"TEXT-ALIGN: left; LINE-HEIGHT: 1.25; MARGIN: 0pt\" id=\"PARA1689-0\">   \n",
       "            <font style=\"FONT-FAMILY: Times New Roman, Times, serif; FONT-SIZE: 10pt\">&#160;</font> \n",
       "          </p> \n",
       "        </td>     \n",
       "        <td style=\"BORDER-BOTTOM: #000000 3px double; BACKGROUND-COLOR: #cceeff; WIDTH: 10.5%; VERTICAL-ALIGN: bottom\" data-cbfactid=\"72497586\"> \n",
       "          <p style=\"TEXT-ALIGN: right; LINE-HEIGHT: 1.25; MARGIN: 0pt\" id=\"PARA1690-0\">    \n",
       "            <font style=\"FONT-FAMILY: Times New Roman, Times, serif; FONT-SIZE: 10pt\">100%</font>     \n",
       "          </p> \n",
       "        </td>     \n",
       "      </tr>   \n",
       "    </table><br><p style=\"TEXT-ALIGN: justify; LINE-HEIGHT: 1.25; MARGIN: 0pt 0pt 0pt 7.2pt\" id=\"PARA1693-1\">    \n",
       "      <font style=\"FONT-FAMILY: Times New Roman, Times, serif; FONT-SIZE: 10pt\">The Company&#8217;s sales concentrations for the years ended February 28, 2014 and February 29, 2013, respectively, is as follows:</font>    \n",
       "    </p><br><table style=\"TEXT-INDENT: 0px; WIDTH: 76.3%; FONT-FAMILY: Times New Roman, Times, serif; FONT-SIZE: 10pt\" id=\"TBL1721\" border=\"0\" cellspacing=\"0\" cellpadding=\"0\" align=\"center\" data-cbnetworkid=\"17520639\">     \n",
       "      <tr>  \n",
       "        <td style=\"BORDER-BOTTOM: #000000 1px solid; WIDTH: 29.3%; VERTICAL-ALIGN: bottom\">   \n",
       "          <p style=\"TEXT-ALIGN: center; LINE-HEIGHT: 1.25; MARGIN: 0pt\" id=\"PARA1695-0\">     \n",
       "            <font style=\"FONT-FAMILY: Times New Roman, Times, serif; FONT-SIZE: 10pt\"><b>Customer</b></font>   \n",
       "          </p> \n",
       "        </td>     \n",
       "        <td style=\"WIDTH: 2.5%; VERTICAL-ALIGN: bottom\">   \n",
       "          <p style=\"TEXT-ALIGN: left; LINE-HEIGHT: 1.25; MARGIN: 0pt\" id=\"PARA1696-0\">   \n",
       "            <font style=\"FONT-FAMILY: Times New Roman, Times, serif; FONT-SIZE: 10pt\"><b>&#160;</b></font>     \n",
       "          </p> \n",
       "        </td>     \n",
       "        <td style=\"BORDER-BOTTOM: #000000 1px solid; WIDTH: 31.7%; VERTICAL-ALIGN: bottom\">   \n",
       "          <p style=\"TEXT-ALIGN: center; LINE-HEIGHT: 1.25; MARGIN: 0pt\" id=\"PARA1697-0\">     \n",
       "            <font style=\"FONT-FAMILY: Times New Roman, Times, serif; FONT-SIZE: 10pt\">Year Ended</font> \n",
       "          </p> \n",
       "          <p style=\"TEXT-ALIGN: center; LINE-HEIGHT: 1.25; MARGIN: 0pt\" id=\"PARA1698-0\">     \n",
       "            <font style=\"FONT-FAMILY: Times New Roman, Times, serif; FONT-SIZE: 10pt\">February 28, 2014</font>   \n",
       "          </p> \n",
       "        </td>     \n",
       "        <td style=\"WIDTH: 2.4%; VERTICAL-ALIGN: bottom\">   \n",
       "          <p style=\"TEXT-ALIGN: left; LINE-HEIGHT: 1.25; MARGIN: 0pt\" id=\"PARA1699-0\">   \n",
       "            <font style=\"FONT-FAMILY: Times New Roman, Times, serif; FONT-SIZE: 10pt\"><b>&#160;</b></font>     \n",
       "          </p> \n",
       "        </td>     \n",
       "        <td style=\"BORDER-BOTTOM: #000000 1px solid; WIDTH: 31.7%; VERTICAL-ALIGN: bottom\">   \n",
       "          <p style=\"TEXT-ALIGN: center; LINE-HEIGHT: 1.25; MARGIN: 0pt\" id=\"PARA1700-0\">     \n",
       "            <font style=\"FONT-FAMILY: Times New Roman, Times, serif; FONT-SIZE: 10pt\">Year Ended</font> \n",
       "          </p> \n",
       "          <p style=\"TEXT-ALIGN: center; LINE-HEIGHT: 1.25; MARGIN: 0pt\" id=\"PARA1701-1\">     \n",
       "            <font style=\"FONT-FAMILY: Times New Roman, Times, serif; FONT-SIZE: 10pt\">February 28, 2013</font>   \n",
       "          </p> \n",
       "        </td>     \n",
       "        <td style=\"WIDTH: 2.4%; VERTICAL-ALIGN: bottom\">   \n",
       "          <p style=\"TEXT-ALIGN: left; LINE-HEIGHT: 1.25; MARGIN: 0pt\" id=\"PARA1702-0\">   \n",
       "            <font style=\"FONT-FAMILY: Times New Roman, Times, serif; FONT-SIZE: 10pt\"><b>&#160;</b></font>     \n",
       "          </p> \n",
       "        </td>     \n",
       "      </tr>   \n",
       "      <tr style=\"BACKGROUND-COLOR: #cceeff\"> \n",
       "        <td style=\"BACKGROUND-COLOR: #cceeff; WIDTH: 29.3%; VERTICAL-ALIGN: bottom\"> \n",
       "          <p style=\"TEXT-ALIGN: center; LINE-HEIGHT: 1.25; MARGIN: 0pt\" id=\"PARA1703-0\">     \n",
       "            <font style=\"FONT-FAMILY: Times New Roman, Times, serif; FONT-SIZE: 10pt\">A</font>  \n",
       "          </p> \n",
       "        </td>     \n",
       "        <td style=\"BACKGROUND-COLOR: #cceeff; WIDTH: 2.5%; VERTICAL-ALIGN: bottom\">     \n",
       "          <p style=\"TEXT-ALIGN: left; LINE-HEIGHT: 1.25; MARGIN: 0pt\" id=\"PARA1704-0\">   \n",
       "            <font style=\"FONT-FAMILY: Times New Roman, Times, serif; FONT-SIZE: 10pt\">&#160;</font> \n",
       "          </p> \n",
       "        </td>     \n",
       "        <td style=\"BACKGROUND-COLOR: #cceeff; WIDTH: 31.7%; VERTICAL-ALIGN: bottom\"> \n",
       "          <p style=\"TEXT-ALIGN: center; LINE-HEIGHT: 1.25; MARGIN: 0pt\" id=\"PARA1705-0\">     \n",
       "            <font style=\"FONT-FAMILY: Times New Roman, Times, serif; FONT-SIZE: 10pt\">-</font>  \n",
       "          </p> \n",
       "        </td>     \n",
       "        <td style=\"BACKGROUND-COLOR: #cceeff; WIDTH: 2.4%; VERTICAL-ALIGN: bottom\">     \n",
       "          <p style=\"TEXT-ALIGN: left; LINE-HEIGHT: 1.25; MARGIN: 0pt\" id=\"PARA1706-0\">   \n",
       "            <font style=\"FONT-FAMILY: Times New Roman, Times, serif; FONT-SIZE: 10pt\">&#160;</font> \n",
       "          </p> \n",
       "        </td>     \n",
       "        <td style=\"BACKGROUND-COLOR: #cceeff; WIDTH: 31.7%; VERTICAL-ALIGN: bottom\" data-cbfactid=\"72497588\"> \n",
       "          <p style=\"TEXT-ALIGN: center; LINE-HEIGHT: 1.25; MARGIN: 0pt\" id=\"PARA1707\">   \n",
       "            <font style=\"FONT-FAMILY: Times New Roman, Times, serif; FONT-SIZE: 10pt\">86%</font>    \n",
       "          </p> \n",
       "        </td>     \n",
       "        <td style=\"BACKGROUND-COLOR: #cceeff; WIDTH: 2.4%; VERTICAL-ALIGN: bottom\">     \n",
       "          <p style=\"TEXT-ALIGN: left; LINE-HEIGHT: 1.25; MARGIN: 0pt\" id=\"PARA1708-0\">   \n",
       "            <font style=\"FONT-FAMILY: Times New Roman, Times, serif; FONT-SIZE: 10pt\">&#160;</font> \n",
       "          </p> \n",
       "        </td>     \n",
       "      </tr>   \n",
       "      <tr style=\"BACKGROUND-COLOR: #ffffff\"> \n",
       "        <td style=\"BACKGROUND-COLOR: #ffffff; WIDTH: 29.3%; VERTICAL-ALIGN: bottom\"> \n",
       "          <p style=\"TEXT-ALIGN: center; LINE-HEIGHT: 1.25; MARGIN: 0pt\" id=\"PARA1709-0\">     \n",
       "            <font style=\"FONT-FAMILY: Times New Roman, Times, serif; FONT-SIZE: 10pt\">B</font>  \n",
       "          </p> \n",
       "        </td>     \n",
       "        <td style=\"BACKGROUND-COLOR: #ffffff; WIDTH: 2.5%; VERTICAL-ALIGN: bottom\">     \n",
       "          <p style=\"TEXT-ALIGN: left; LINE-HEIGHT: 1.25; MARGIN: 0pt\" id=\"PARA1710-0\">   \n",
       "            <font style=\"FONT-FAMILY: Times New Roman, Times, serif; FONT-SIZE: 10pt\">&#160;</font> \n",
       "          </p> \n",
       "        </td>     \n",
       "        <td style=\"BACKGROUND-COLOR: #ffffff; WIDTH: 31.7%; VERTICAL-ALIGN: bottom\"> \n",
       "          <p style=\"TEXT-ALIGN: center; LINE-HEIGHT: 1.25; MARGIN: 0pt\" id=\"PARA1711-0\">     \n",
       "            <font style=\"FONT-FAMILY: Times New Roman, Times, serif; FONT-SIZE: 10pt\">-</font>  \n",
       "          </p> \n",
       "        </td>     \n",
       "        <td style=\"BACKGROUND-COLOR: #ffffff; WIDTH: 2.4%; VERTICAL-ALIGN: bottom\">     \n",
       "          <p style=\"TEXT-ALIGN: left; LINE-HEIGHT: 1.25; MARGIN: 0pt\" id=\"PARA1712-0\">   \n",
       "            <font style=\"FONT-FAMILY: Times New Roman, Times, serif; FONT-SIZE: 10pt\">&#160;</font> \n",
       "          </p> \n",
       "        </td>     \n",
       "        <td style=\"BACKGROUND-COLOR: #ffffff; WIDTH: 31.7%; VERTICAL-ALIGN: bottom\" data-cbfactid=\"72497590\"> \n",
       "          <p style=\"TEXT-ALIGN: center; LINE-HEIGHT: 1.25; MARGIN: 0pt\" id=\"PARA1713-0\">     \n",
       "            <font style=\"FONT-FAMILY: Times New Roman, Times, serif; FONT-SIZE: 10pt\">14%</font>    \n",
       "          </p> \n",
       "        </td>     \n",
       "        <td style=\"BACKGROUND-COLOR: #ffffff; WIDTH: 2.4%; VERTICAL-ALIGN: bottom\">     \n",
       "          <p style=\"TEXT-ALIGN: left; LINE-HEIGHT: 1.25; MARGIN: 0pt\" id=\"PARA1714-0\">   \n",
       "            <font style=\"FONT-FAMILY: Times New Roman, Times, serif; FONT-SIZE: 10pt\">&#160;</font> \n",
       "          </p> \n",
       "        </td>     \n",
       "      </tr>   \n",
       "      <tr style=\"BACKGROUND-COLOR: #cceeff\"> \n",
       "        <td style=\"BACKGROUND-COLOR: #cceeff; WIDTH: 29.3%; VERTICAL-ALIGN: bottom\"> \n",
       "          <p style=\"TEXT-ALIGN: center; LINE-HEIGHT: 1.25; MARGIN: 0pt\" id=\"PARA1715-0\">     \n",
       "            <font style=\"FONT-FAMILY: Times New Roman, Times, serif; FONT-SIZE: 10pt\">Total</font> \n",
       "          </p> \n",
       "        </td>     \n",
       "        <td style=\"BACKGROUND-COLOR: #cceeff; WIDTH: 2.5%; VERTICAL-ALIGN: bottom\">     \n",
       "          <p style=\"TEXT-ALIGN: left; LINE-HEIGHT: 1.25; MARGIN: 0pt\" id=\"PARA1716-0\">   \n",
       "            <font style=\"FONT-FAMILY: Times New Roman, Times, serif; FONT-SIZE: 10pt\">&#160;</font> \n",
       "          </p> \n",
       "        </td>     \n",
       "        <td style=\"BACKGROUND-COLOR: #cceeff; WIDTH: 31.7%; VERTICAL-ALIGN: bottom\"> \n",
       "          <p style=\"TEXT-ALIGN: center; LINE-HEIGHT: 1.25; MARGIN: 0pt\" id=\"PARA1717-1\">     \n",
       "            <font style=\"FONT-FAMILY: Times New Roman, Times, serif; FONT-SIZE: 10pt\">-</font>  \n",
       "          </p> \n",
       "        </td>     \n",
       "        <td style=\"BACKGROUND-COLOR: #cceeff; WIDTH: 2.4%; VERTICAL-ALIGN: bottom\">     \n",
       "          <p style=\"TEXT-ALIGN: left; LINE-HEIGHT: 1.25; MARGIN: 0pt\" id=\"PARA1718-0\">   \n",
       "            <font style=\"FONT-FAMILY: Times New Roman, Times, serif; FONT-SIZE: 10pt\">&#160;</font> \n",
       "          </p> \n",
       "        </td>     \n",
       "        <td style=\"BACKGROUND-COLOR: #cceeff; WIDTH: 31.7%; VERTICAL-ALIGN: bottom\" data-cbfactid=\"72497592\"> \n",
       "          <p style=\"TEXT-ALIGN: center; LINE-HEIGHT: 1.25; MARGIN: 0pt\" id=\"PARA1719-1\">     \n",
       "            <font style=\"FONT-FAMILY: Times New Roman, Times, serif; FONT-SIZE: 10pt\">100%</font>     \n",
       "          </p> \n",
       "        </td>     \n",
       "        <td style=\"BACKGROUND-COLOR: #cceeff; WIDTH: 2.4%; VERTICAL-ALIGN: bottom\">     \n",
       "          <p style=\"TEXT-ALIGN: left; LINE-HEIGHT: 1.25; MARGIN: 0pt\" id=\"PARA1720-1\">   \n",
       "            <font style=\"FONT-FAMILY: Times New Roman, Times, serif; FONT-SIZE: 10pt\">&#160;</font> \n",
       "          </p> \n",
       "        </td>     \n",
       "      </tr>   \n",
       "    </table>"
      ],
      "text/plain": [
       "<IPython.core.display.HTML object>"
      ]
     },
     "metadata": {},
     "output_type": "display_data"
    },
    {
     "data": {
      "text/html": [
       "<h1>DreamWorks Animation SKG, Inc. - Fiscal Year 2013</h1><div style=\"font-family:Times New Roman;font-size:10pt;\"><div style=\"line-height:120%;font-size:10pt;\"><font style=\"font-family:inherit;font-size:10pt;font-style:italic;font-weight:bold;\">Revenue Recognition</font></div><div style=\"line-height:120%;font-size:8pt;\"><font style=\"font-family:inherit;font-size:8pt;font-style:italic;font-weight:bold;\">&#160;</font></div><div style=\"line-height:120%;text-indent:36px;font-size:10pt;\"><font style=\"font-family:inherit;font-size:10pt;\">The Company recognizes revenue from the distribution of its animated feature films when earned and reported to it by its distributors. Pursuant to the Company's distribution arrangements with Fox, Paramount and ODW, the Company recognizes revenues derived from its feature films net of reserves for returns, rebates and other incentives after the particular distributor has retained their respective distribution fees (without deduction for any distribution and marketing costs or third-party distribution and fulfillment services fees) and recovered all of their permissible distribution and marketing costs with respect to the Company&#8217;s films on a title-by-title basis. Fox retains a fee of </font><font style=\"font-family:Times New Roman;font-size:10pt;color:#000000;font-style:normal;font-weight:normal;text-decoration:none;\" data-cbfactid=\"-1\" data-cbnumtext=\"8.0%\" data-cbnetworkid=\"14529483\">8.0%</font><font style=\"font-family:inherit;font-size:10pt;\"> of all gross receipts and home video gross receipts, except in connection with certain pay television and video-on-demand rights and other digital distribution rights, for which the fee will be </font><font style=\"font-family:Times New Roman;font-size:10pt;color:#000000;font-style:normal;font-weight:normal;text-decoration:none;\" data-cbfactid=\"61863857\" data-cbnetworkid=\"14529483\">6.0%</font><font style=\"font-family:inherit;font-size:10pt;\">. Paramount retains a distribution fee of </font><font style=\"font-family:inherit;font-size:10pt;\" data-cbfactid=\"-1\" data-cbnumtext=\"8.0%\" data-cbnetworkid=\"14529483\">8.0%</font><font style=\"font-family:inherit;font-size:10pt;\"> of revenues across all markets. ODW retains a fee of </font><font style=\"font-family:Times New Roman;font-size:10pt;color:#000000;font-style:normal;font-weight:normal;text-decoration:none;\" data-cbfactid=\"-1\" data-cbnumtext=\"8.0%\" data-cbnetworkid=\"14529483\">8.0%</font><font style=\"font-family:inherit;font-size:10pt;\"> of all gross receipts for the markets in which it distributes. For further discussion of the Company's primary distribution arrangements, refer to Note 4.</font></div><div style=\"line-height:120%;text-indent:36px;font-size:10pt;\"><font style=\"font-family:inherit;font-size:10pt;\"><br clear=\"none\"></font></div><div style=\"line-height:120%;text-indent:36px;font-size:10pt;\"><font style=\"font-family:inherit;font-size:10pt;\">Additionally, because third parties are the principal distributors of the Company&#8217;s films, the amount of revenue that is recognized from films in any given period is dependent on the timing, accuracy and sufficiency of the information received from its distributors. As is typical in the film industry, the Company's distributors may make adjustments in future periods to information previously provided to the Company that could have a material impact on the Company&#8217;s operating results in later periods. Furthermore, management may, in its judgment, make material adjustments to the information reported by its distributors in future periods to ensure that revenues are accurately reflected in the Company&#8217;s financial statements. To date, the distributors have not made, nor has the Company made, subsequent material adjustments to information provided by the distributors and used in the preparation of the Company&#8217;s historical financial statements.</font></div><div style=\"line-height:120%;text-indent:36px;font-size:10pt;\"><font style=\"font-family:inherit;font-size:10pt;\"><br clear=\"none\"></font></div><div style=\"line-height:120%;text-indent:36px;font-size:10pt;\"><font style=\"font-family:inherit;font-size:10pt;\">Revenue from the theatrical exhibition of films is recognized at the later of when a film is exhibited in theaters or when revenue is reported by the Company's distributors.</font></div><div style=\"line-height:120%;text-indent:36px;font-size:10pt;\"><font style=\"font-family:inherit;font-size:10pt;\"><br clear=\"none\"></font></div><div style=\"line-height:120%;text-indent:36px;font-size:10pt;\"><font style=\"font-family:inherit;font-size:10pt;\">Revenue from both free and pay television licensing agreements for the Company&#8217;s films is recognized at the later of the time the production is made available for exhibition in those markets or it is reported by its distributors.</font></div><div style=\"line-height:120%;text-indent:36px;font-size:10pt;\"><font style=\"font-family:inherit;font-size:10pt;\"><br clear=\"none\"></font></div><div style=\"line-height:120%;text-indent:36px;font-size:10pt;\"><font style=\"font-family:inherit;font-size:10pt;\">The Company has also entered into licensing arrangements directly with third parties to digitally distribute its feature film and television series/specials content. Certain content licensed under these arrangements is subject to our distribution arrangement with Paramount, and accordingly, such revenues are recorded net of any distribution fees owed to Paramount (as previously described). However, revenues from content not subject to the Company's distribution arrangement with Paramount are recorded on a gross basis.</font></div><div style=\"line-height:120%;text-indent:36px;font-size:10pt;\"><font style=\"font-family:inherit;font-size:10pt;\"><br clear=\"none\"></font></div><div style=\"line-height:120%;text-indent:36px;font-size:10pt;\"><font style=\"font-family:inherit;font-size:10pt;\">The Company's television series/specials are also distributed in the television markets through license arrangements. Such revenues are recorded on a gross basis as they are not typically subject to the distribution arrangements with the Company's distributors and, accordingly, the Company receives payment and records revenues directly from third parties. Television market revenue generated from television series/specials is recognized at the later of the time when the content has been delivered to and accepted by the licensee or the commencement of the license term. </font></div><div style=\"line-height:120%;text-indent:36px;font-size:10pt;\"><font style=\"font-family:inherit;font-size:10pt;\"><br clear=\"none\"></font></div><div style=\"line-height:120%;text-indent:36px;font-size:10pt;\"><font style=\"font-family:inherit;font-size:10pt;\">Revenue from the sale of feature film home video units is recognized at the later of when product is made available for retail sale and&#160;when sales to customers are reported by third parties, such as fulfillment service providers or distributors. Revenue from the sale of home video units for other content (such as television series/specials) is recorded on a gross basis (because we are considered the principal in the transactions) and is recognized when the criteria for revenue recognition have been met. Certain of the Company's home video distribution arrangements for its non-feature film content include non-refundable, but recoupable, minimum guarantees. Minimum guarantees that are not fully recouped are recognized as revenue once the minimum guarantee period has expired and the Company is able to determine the amount of remaining revenues to be recognized. The criteria the Company evaluates to determine whether it is able to recognize revenue includes persuasive evidence of an arrangement exists, the price is fixed and determinable, delivery has occurred or services have been rendered and risk of inventory loss has transferred and collectibility is reasonably assured. </font></div><div style=\"line-height:120%;text-indent:36px;font-size:10pt;\"><font style=\"font-family:inherit;font-size:10pt;\"><br clear=\"none\"></font></div><div style=\"line-height:120%;text-indent:36px;font-size:10pt;\"><font style=\"font-family:inherit;font-size:10pt;\">In addition, the Company and its distributors provide for future returns of home video product and for customer programs and sales incentives. The Company and its distributors calculates these estimates by analyzing a combination of historical returns, current economic trends, projections of consumer demand for the Company&#8217;s product and point-of-sale data available from certain retailers. Based on this information, a percentage of each sale is reserved. Customers are typically given varying rights of return, which may include <span data-cbfactid=\"83206150\" data-cbnetworkid=\"14529483\">100%</span> return rights. Although the Company and its distributors allow various rights of return for customers, management does not believe that these rights are critical in establishing return estimates, because other factors, such as historical experience with similar types of sales, information received from retailers and management&#8217;s assessment of the product&#8217;s appeal based on domestic box office success and other research, are more important to the estimation process.</font><font style=\"font-family:inherit;font-size:10pt;font-weight:bold;\"> </font></div><div style=\"line-height:120%;text-indent:36px;font-size:10pt;\"><font style=\"font-family:inherit;font-size:10pt;\"><br clear=\"none\"></font></div><div style=\"line-height:120%;text-indent:36px;font-size:10pt;\"><font style=\"font-family:inherit;font-size:10pt;\">Revenue from merchandising and other licensing arrangements is recognized when the associated feature film or television series/special has been released and the criteria for revenue recognition have been met. The criteria that the Company uses to evaluate whether it is able to recognize revenue includes the following: persuasive evidence of an arrangement exists, the price is fixed and determinable, delivery has occurred or services have been rendered (including whether the license term has commenced) and collectibility is reasonably assured. Licensing and merchandising related minimum guarantees are generally recognized as revenue upon the theatrical release of a film and royalty-based revenues (revenues based upon a percentage of net sales of the products) are generally recognized as revenue in periods when royalties are reported by licensees or cash is received.</font></div><div style=\"line-height:120%;text-indent:36px;font-size:10pt;\"><font style=\"font-family:inherit;font-size:10pt;\"><br clear=\"none\"></font></div><div style=\"line-height:120%;text-indent:36px;font-size:10pt;\"><font style=\"font-family:inherit;font-size:10pt;\">Certain of the Company's arrangements may qualify as multiple deliverable arrangements if the licensee is granted the right to exploit more than one of the Company's titles. The license period for each title under a multiple deliverable arrangement may vary by title. Revenue associated with multiple deliverable arrangements is allocated to each title based on relative selling price. In determining the relative selling price of each title, the Company considers a variety of factors including (but not limited to) the period of time a title has already been exploited in the marketplace, whether the title is a sequel, the duration of the license period being granted, similar arrangements and type of content being licensed. Revenue for each title will be recognized when it is available to the licensee for exploitation.</font></div><div style=\"line-height:120%;text-indent:36px;font-size:10pt;\"><font style=\"font-family:inherit;font-size:10pt;\"><br clear=\"none\"></font></div><div style=\"line-height:120%;text-indent:36px;font-size:10pt;\"><font style=\"font-family:inherit;font-size:10pt;\">As a result of one of the Company's agreements with Netflix, it is currently developing and producing original episodic content in order to fulfill its obligations under the agreement. In cases where a television series is based on characters from one of the Company's feature films, a portion of the third-party revenues generated by the new series is allocated to the feature film title from which the series originated. This revenue allocation represents a license fee charged to the television series for use of intellectual property derived from the related feature film.  </font></div><div style=\"line-height:120%;text-indent:36px;font-size:10pt;\"><font style=\"font-family:inherit;font-size:10pt;\"><br clear=\"none\"></font></div><div style=\"line-height:120%;text-indent:36px;font-size:10pt;\"><font style=\"font-family:inherit;font-size:10pt;\">Long-term, non-interest-bearing receivables arising from licensing agreements are discounted to present value. Accordingly, revenues are recorded net of such discount. Interest income is recognized from the imputation of interest in accordance with the effective interest rate method and classified as \"Interest income, net\" in the Company's consolidated statements of operations.</font></div><div style=\"line-height:120%;text-indent:36px;font-size:10pt;\"><font style=\"font-family:inherit;font-size:10pt;\"><br clear=\"none\"></font></div></div>"
      ],
      "text/plain": [
       "<IPython.core.display.HTML object>"
      ]
     },
     "metadata": {},
     "output_type": "display_data"
    },
    {
     "data": {
      "text/html": [
       "<h1>Gaia, Inc - Fiscal Year 2013</h1><div>\n",
       " <p style=\"MARGIN-BOTTOM: 0px; MARGIN-TOP: 18px\"><font style=\"FONT-FAMILY: Times New Roman\" size=\"2\"><i>Revenue</i></font></p>\n",
       " <p style=\"MARGIN-BOTTOM: 0px; MARGIN-TOP: 6px\"><font style=\"FONT-FAMILY: Times New Roman\" size=\"2\">Revenue primarily consists\n",
       " of sales of products, media licensing, and media distribution. We\n",
       " recognize revenue from the sale of products and the licensing of\n",
       " media when the following four basic criteria are met:\n",
       " (1)&#xA0;persuasive evidence of an arrangement exists;\n",
       " (2)&#xA0;delivery has occurred or services have been rendered;\n",
       " (3)&#xA0;the seller&#x2019;s price to the buyer is fixed or\n",
       " determinable; and (4)&#xA0;collectability is reasonably assured. We\n",
       " recognize distribution fees from our media distribution\n",
       " arrangements on a net revenue basis. For these media distribution\n",
       " sales, we do not take title to the related product sold as the\n",
       " inventory is owned by the studios or content producers and sold by\n",
       " us under distribution agent agreements. We recognize amounts billed\n",
       " to customers for postage and handling as revenue at the same time\n",
       " we recognize the revenue arising from the product sale. We present\n",
       " revenue net of taxes collected from customers.</font></p>\n",
       " <p style=\"MARGIN-BOTTOM: 0px; FONT-SIZE: 1px; MARGIN-TOP: 12px\">\n",
       " &#xA0;</p>\n",
       " <p style=\"MARGIN-BOTTOM: 0px; MARGIN-TOP: 0px\"><font style=\"FONT-FAMILY: Times New Roman\" size=\"2\">Prior to 2012, we also\n",
       " recognized revenue from Real Goods Solar&#x2019;s energy integration\n",
       " fixed price contracts. For energy system installations of less than\n",
       " <span data-cbfactid=\"-1\" data-cbnumtext=\"100\">100</span> kilowatts, we recognized revenue when the installation was\n",
       " substantially complete, determined based on departure from the job\n",
       " site following completion of the installation or passing of\n",
       " building inspection, while for energy system installations equal to\n",
       " or greater than <span data-cbfactid=\"-1\" data-cbnumtext=\"100\">100</span> kilowatts, we recognized revenue on a\n",
       " percentage-of-completion basis, with the extent of progress towards\n",
       " completion measured by the cost to cost method.</font></p>\n",
       " </div>"
      ],
      "text/plain": [
       "<IPython.core.display.HTML object>"
      ]
     },
     "metadata": {},
     "output_type": "display_data"
    },
    {
     "data": {
      "text/html": [
       "<h1>Goliath Film & Media Holdings - Fiscal Year 2013</h1><p style=\"margin: 0pt\">\r",
       "\r",
       "<p style=\"font: 10pt Times New Roman, Times, Serif; margin: 0; text-align: justify\"><u>Revenue Recognition</u></p>\r",
       "\r",
       "<p style=\"font: 10pt Times New Roman, Times, Serif; margin: 0; text-align: justify; text-indent: 0.5in\">&#160;</p>\r",
       "\r",
       "<p style=\"font: 10pt Times New Roman, Times, Serif; margin: 0; text-align: justify\">We will recognize revenues in accordance with\r",
       "the guidelines of the Securities and Exchange Commission (&#147;SEC&#148;) Staff Accounting Bulletin (&#147;SAB&#148;) No.\r",
       "104 &#147;Revenue Recognition&#148;.</p>\r",
       "\r",
       "<p style=\"font: 10pt Times New Roman, Times, Serif; margin: 0; text-align: justify; text-indent: 0.5in\">&#160;</p>\r",
       "\r",
       "<p style=\"font: 10pt Times New Roman, Times, Serif; margin: 0; text-align: justify\">Under SAB 104, four conditions must be met\r",
       "before revenue can be recognized: (i) there is persuasive evidence that an arrangement exists, (ii) delivery has occurred or service\r",
       "has been rendered, (iii) the price is fixed or determinable, and (iv) collection is reasonably assured. The Company provides for\r",
       "an allowance for doubtful account based history and experience considering economic and industry trends. The Company does not have\r",
       "any off-Balance Sheet exposure related to its customers.</p>\r",
       "\r",
       "<p style=\"font: 10pt Times New Roman, Times, Serif; margin: 0; text-align: justify; text-indent: 0.5in\">&#160;</p>\r",
       "\r",
       "<p style=\"font: 10pt Times New Roman, Times, Serif; margin: 0; text-align: justify\">Goliath Film and Media International, intends\r",
       "to develop and license for distribution quality motion picture and television content. Revenue is recognized when the company receives\r",
       "a contract for the license of its content and its content is delivered to the customer.</p>\r",
       "\r",
       "<p style=\"font: 10pt Times New Roman, Times, Serif; margin: 0; text-align: justify; text-indent: 0.5in\">&#160;</p>\r",
       "\r",
       "<p style=\"font: 10pt Times New Roman, Times, Serif; margin: 0; text-align: justify\">The Company currently does not have a means\r",
       "for generating revenue. Revenue and cost recognition procedures will be implemented based on the type of properties required and\r",
       "sale contract specifications.</p>"
      ],
      "text/plain": [
       "<IPython.core.display.HTML object>"
      ]
     },
     "metadata": {},
     "output_type": "display_data"
    },
    {
     "data": {
      "text/html": [
       "<h1>Jerrick Media Holdings, Inc. - Fiscal Year 2013</h1><!--egx--><p style='margin-top:0in;margin-right:0in;margin-bottom:10.0pt;margin-left:0in;line-height:115%;margin-bottom:0in;margin-bottom:.0001pt;text-align:justify;line-height:normal'><b>Revenue Recognition</b></p> <p style='margin-top:0in;margin-right:0in;margin-bottom:10.0pt;margin-left:0in;line-height:115%;margin-bottom:0in;margin-bottom:.0001pt;text-align:justify;line-height:normal'>Revenue is recognized upon the completion of the sales and shipment of the product.&#160; The product is sold via the internet and is delivered to customers or to wholesale resellers using a ground courier service.</p>"
      ],
      "text/plain": [
       "<IPython.core.display.HTML object>"
      ]
     },
     "metadata": {},
     "output_type": "display_data"
    },
    {
     "data": {
      "text/html": [
       "<h1>Lions Gate Entertainment Corp /CN/ - Fiscal Year 2014</h1><div style=\"font-family:Times New Roman;font-size:10pt;\"><div style=\"line-height:120%;padding-top:8px;text-align:left;text-indent:8px;font-size:10pt;\"><font style=\"font-family:inherit;font-size:10pt;font-style:italic;font-weight:bold;\">Revenue Recognition</font></div><div style=\"line-height:120%;padding-top:8px;text-align:left;text-indent:20px;font-size:10pt;\"><font style=\"font-family:inherit;font-size:10pt;\">Revenue from the theatrical release of feature films is recognized at the time of exhibition based on the Company's participation in box office receipts. Revenue from the sale of DVDs/Blu-ray discs in the retail market, net of an allowance for estimated returns and other allowances, is recognized on the later of receipt by the customer or &#8220;street date&#8221; (when it is available for sale by the customer). Under revenue sharing arrangements, including digital and electronic-sell-through (\"EST\") arrangements, such as download-to-own, download-to-rent, video-on-demand and subscription video-on-demand, revenue is recognized when the Company is entitled to receipts and such receipts are determinable. Revenues from television or digital licensing for fixed fees are recognized when the feature film or television program is available to the licensee for telecast. For television licenses that include separate availability &#8220;windows&#8221; during the license period, revenue is allocated over the &#8220;windows.&#8221; Revenue from sales to international territories are recognized when access to the feature film or television program has been granted or delivery has occurred, as required under the contract, and the right to exploit the feature film or television program has commenced. For multiple media rights contracts with a fee for a single film or television program where the contract provides for media holdbacks (defined as contractual media release restrictions), the fee is allocated to the various media based on the Company's assessment of the relative fair value of the rights to exploit each media and is recognized as each holdback is released. For multiple-title contracts with a fee, the fee is allocated on a title-by-title basis, based on the Company's assessment of the relative fair value of each title.</font></div><div style=\"line-height:120%;padding-top:8px;text-align:left;text-indent:20px;font-size:10pt;\"><font style=\"font-family:inherit;font-size:10pt;\">Cash payments received are recorded as deferred revenue until all the conditions of revenue recognition have been met. Long-term, non-interest bearing receivables are discounted to present value. Such unamortized discounts were </font><font style=\"font-family:inherit;font-size:10pt;color:#000000;text-decoration:none;\"><span data-cbfactid=\"72128272\" data-cbnetworkid=\"17406209\">$12.1</span> million</font><font style=\"font-family:inherit;font-size:10pt;\"> and </font><font style=\"font-family:inherit;font-size:10pt;color:#000000;text-decoration:none;\"><span data-cbfactid=\"72128271\" data-cbnetworkid=\"17406209\">$15.1</span> million</font><font style=\"font-family:inherit;font-size:10pt;\"> at March 31, 2014 and 2013, respectively. At </font><font style=\"font-family:inherit;font-size:10pt;color:#000000;text-decoration:none;\">March&#160;31, 2014</font><font style=\"font-family:inherit;font-size:10pt;\">, </font><font style=\"font-family:inherit;font-size:10pt;color:#000000;text-decoration:none;\"><span data-cbfactid=\"72126831\" data-cbnetworkid=\"17406209\">$178.2</span> million</font><font style=\"font-family:inherit;font-size:10pt;\"> of accounts receivable are due beyond one year. The accounts receivable are due as follows: </font><font style=\"font-family:inherit;font-size:10pt;color:#000000;text-decoration:none;\"><span data-cbfactid=\"72128720\" data-cbnetworkid=\"17406209\">$96.4</span> million</font><font style=\"font-family:inherit;font-size:10pt;\"> in fiscal </font><font style=\"font-family:inherit;font-size:10pt;color:#000000;text-decoration:none;\">2016</font><font style=\"font-family:inherit;font-size:10pt;\">, </font><font style=\"font-family:inherit;font-size:10pt;color:#000000;text-decoration:none;\"><span data-cbfactid=\"72128719\" data-cbnetworkid=\"17406209\">$44.8</span> million</font><font style=\"font-family:inherit;font-size:10pt;\"> in fiscal </font><font style=\"font-family:inherit;font-size:10pt;color:#000000;text-decoration:none;\">2017</font><font style=\"font-family:inherit;font-size:10pt;\">, </font><font style=\"font-family:inherit;font-size:10pt;color:#000000;text-decoration:none;\"><span data-cbfactid=\"72128717\" data-cbnetworkid=\"17406209\">$17.9</span> million</font><font style=\"font-family:inherit;font-size:10pt;\"> in fiscal </font><font style=\"font-family:inherit;font-size:10pt;color:#000000;text-decoration:none;\">2018</font><font style=\"font-family:inherit;font-size:10pt;\">, </font><font style=\"font-family:inherit;font-size:10pt;color:#000000;text-decoration:none;\"><span data-cbfactid=\"72128716\" data-cbnetworkid=\"17406209\">$15.2</span> million</font><font style=\"font-family:inherit;font-size:10pt;\"> in fiscal </font><font style=\"font-family:inherit;font-size:10pt;color:#000000;text-decoration:none;\">2019</font><font style=\"font-family:inherit;font-size:10pt;\">, </font><font style=\"font-family:inherit;font-size:10pt;color:#000000;text-decoration:none;\"><span data-cbfactid=\"72128718\" data-cbnetworkid=\"17406209\">$3.6</span> million</font><font style=\"font-family:inherit;font-size:10pt;\"> in fiscal </font><font style=\"font-family:inherit;font-size:10pt;color:#000000;text-decoration:none;\">2020</font><font style=\"font-family:inherit;font-size:10pt;\">, and </font><font style=\"font-family:inherit;font-size:10pt;color:#000000;text-decoration:none;\"><span data-cbfactid=\"72128715\" data-cbnetworkid=\"17406209\">$0.3</span> million</font><font style=\"font-family:inherit;font-size:10pt;\"> thereafter.</font></div></div>"
      ],
      "text/plain": [
       "<IPython.core.display.HTML object>"
      ]
     },
     "metadata": {},
     "output_type": "display_data"
    },
    {
     "data": {
      "text/html": [
       "<h1>Marcus Corp - Fiscal Year 2014</h1><div style=\"MARGIN: 0pt 0px; FONT: 10pt Times New Roman, Times, Serif \"> <div style=\"CLEAR:both; FONT-FAMILY:Times New Roman;FONT-SIZE: 10pt;MARGIN: 0pt 0px; FONT: 10pt Times New Roman, Times, Serif; font-size-adjust: none; font-stretch: normal\" align=\"justify\"></div> <div style=\"CLEAR:both; FONT-FAMILY:Times New Roman;FONT-SIZE: 10pt;MARGIN: 0pt 0px; FONT: 10pt Times New Roman, Times, Serif; font-size-adjust: none; font-stretch: normal\" align=\"justify\"><strong>Revenue Recognition &#150;</strong> The Company recognizes revenue from its rooms as earned on the close of business each day. Revenues from theatre admissions, concessions and food and beverage sales are recognized at the time of sale. Revenues from advanced ticket and gift certificate sales are recorded as deferred revenue and are recognized when tickets or gift certificates are redeemed. The Company had deferred revenue of $<font style=\"FONT-FAMILY: 'Times New Roman','serif'; FONT-SIZE: 10pt\" data-cbfactid=\"76749552\">16,028,000</font> and $<font style=\"FONT-FAMILY: 'Times New Roman','serif'; FONT-SIZE: 10pt\" data-cbfactid=\"76749553\">13,352,000</font>, which is included in other accrued liabilities as of May 29, 2014 and May&#160;30, 2013, respectively. Gift card breakage income is recognized based upon historical redemption patterns and represents the balance of gift cards for which the Company believes the likelihood of redemption by the customer is remote. Gift card breakage income is recorded in other revenues in the consolidated statements of earnings.</div> <div style=\"CLEAR:both; FONT-FAMILY:Times New Roman;FONT-SIZE: 10pt;MARGIN: 0pt 0px; FONT: 10pt Times New Roman, Times, Serif; font-size-adjust: none; font-stretch: normal\" align=\"justify\">&#160;</div> <div style=\"CLEAR:both; FONT-FAMILY:Times New Roman;FONT-SIZE: 10pt;MARGIN: 0pt 0px; FONT: 10pt Times New Roman, Times, Serif; font-size-adjust: none; font-stretch: normal\" align=\"justify\">Other revenues include management fees for theatres and hotels under management agreements. The management fees are recognized as earned based on the terms of the agreements and include both base fees and incentive fees. Revenues do not include sales tax as the Company considers itself a pass-through conduit for collecting and remitting sales tax.</div> </div><table border=\"0\" style=\"width:100%; table-layout:fixed;\" cellspacing=\"0\" cellpadding=\"0\"><tr><td></td></tr></table>"
      ],
      "text/plain": [
       "<IPython.core.display.HTML object>"
      ]
     },
     "metadata": {},
     "output_type": "display_data"
    },
    {
     "data": {
      "text/html": [
       "<h1>Moon River Studios, Inc. - Fiscal Year 2013</h1><!--egx--><p style='margin:0in;margin-bottom:.0001pt;border:none;text-underline:black;text-align:justify;text-justify:inter-ideograph;line-height:115%;border:none'><font lang=\"FR\">Revenue Recognition</font></p> <p style='margin:0in;margin-bottom:.0001pt;border:none;text-underline:black;text-align:justify;text-justify:inter-ideograph;line-height:115%;border:none'>&nbsp;</p> <p style='margin:0in;margin-bottom:.0001pt;border:none;text-underline:black;text-align:justify;text-justify:inter-ideograph;line-height:115%;border:none'>The Company recognizes revenue from the sale or licensing arrangement of a film in accordance with ASC 605-15 &#147;<i><font lang=\"FR\">Revenue Recognition</font></i>&#148;. Revenue will be recognized only when all of the following criteria have been met:</p> <p style='margin:0in;margin-bottom:.0001pt;border:none;text-underline:black;text-align:justify;text-justify:inter-ideograph;line-height:115%;border:none'>&nbsp;</p> <table border=\"1\" cellspacing=\"0\" cellpadding=\"0\" width=\"446\" style='margin-left:41.4pt;border-collapse:collapse;border:none'> <tr style='height:15.25pt'> <td width=\"446\" valign=\"top\" style='width:334.7pt;border:none;padding:4.0pt 4.0pt 4.0pt 4.0pt;height:15.25pt'> <p style='margin:0in;margin-bottom:.0001pt;border:none;text-underline:black;text-align:justify;text-justify:inter-ideograph;line-height:115%;border:none'>Persuasive evidence of a sale or licensing arrangement with a customer exists.</p> </td> </tr> <tr style='height:14.5pt'> <td width=\"446\" valign=\"top\" style='width:334.7pt;border:none;padding:4.0pt 4.0pt 4.0pt 4.0pt;height:14.5pt'> <p style='margin:0in;margin-bottom:.0001pt;border:none;text-underline:black;text-align:justify;text-justify:inter-ideograph;line-height:115%;border:none'>The film is complete and, in accordance with the terms of the arrangement, has been delivered or is available for immediate and unconditional delivery. </p> </td> </tr> </table> <p style='margin:0in;margin-bottom:.0001pt;border:none;text-underline:black;text-align:justify;text-justify:inter-ideograph;line-height:115%;border:none'>&nbsp;</p> <table border=\"1\" cellspacing=\"0\" cellpadding=\"0\" width=\"456\" style='margin-left:41.4pt;border-collapse:collapse;border:none'> <tr style='height:15.5pt'> <td width=\"456\" valign=\"top\" style='width:341.65pt;border:none;padding:4.0pt 4.0pt 4.0pt 4.0pt;height:15.5pt'> <p style='margin:0in;margin-bottom:.0001pt;border:none;text-underline:black;text-align:justify;text-justify:inter-ideograph;line-height:115%;border:none'>The license period of the arrangement has begun and the customer can begin its exploitation, exhibition, or sale.</p> </td> </tr> <tr style='height:5.2pt'> <td width=\"456\" valign=\"top\" style='width:341.65pt;border:none;padding:4.0pt 4.0pt 4.0pt 4.0pt;height:5.2pt'> <p style='margin:0in;margin-bottom:.0001pt;border:none;text-underline:black;text-align:justify;text-justify:inter-ideograph;line-height:115%;border:none'>The arrangement fee is fixed or determinable.</p> </td> </tr> </table> <p style='margin:0in;margin-bottom:.0001pt;border:none;text-underline:black;margin-top:0in;margin-right:63.0pt;margin-bottom:0in;margin-left:.5in;margin-bottom:.0001pt;text-align:justify;text-justify:inter-ideograph;text-indent:-.5in;line-height:115%;border:none'>&nbsp;</p> <table border=\"1\" cellspacing=\"0\" cellpadding=\"0\" width=\"505\" style='margin-left:41.4pt;border-collapse:collapse;border:none'> <tr style='height:13.4pt'> <td width=\"505\" valign=\"top\" style='width:378.95pt;border:none;padding:4.0pt 67.0pt 4.0pt 4.0pt;height:13.4pt'> <p style='margin:0in;margin-bottom:.0001pt;border:none;text-underline:black;margin-right:63.0pt;text-align:justify;text-justify:inter-ideograph;line-height:115%;border:none'>Collection of the arrangement fee is reasonably assured.</p> </td> </tr> </table> <p style='margin:0in;margin-bottom:.0001pt;border:none;text-underline:black;text-align:justify;text-justify:inter-ideograph;line-height:115%;border:none'>&nbsp;</p> <p style='margin:0in;margin-bottom:.0001pt;border:none;text-underline:black;text-align:justify;text-justify:inter-ideograph;line-height:115%;border:none'>A written contract with a distributor indicating the film name, territory and period is required for the recognition of revenue.&#160;&#160; Revenue is recognized when the performance criteria in the contracts have been met. </p> <p style='margin:0in;margin-bottom:.0001pt;border:none;text-underline:black;text-align:justify;text-justify:inter-ideograph;line-height:115%;border:none'>&nbsp;</p> <p style='margin:0in;margin-bottom:.0001pt;border:none;text-underline:black;line-height:115%;background:white;border:none'><i><font lang=\"FR\">Film Tax Relief Revenue</font></i></p> <p style='margin:0in;margin-bottom:.0001pt;border:none;text-underline:black;line-height:115%;background:white;border:none'>&#160;</p> <p style='margin:0in;margin-bottom:.0001pt;border:none;text-underline:black;text-align:justify;text-justify:inter-ideograph;line-height:115%;background:white;border:none'>Many countries make tax credits and the like available to encourage film production in the territory. Medient benefits from United Kingdom Film Tax Relief (&#147;FTR&#148;).&#160;&#160; The FTR may be treated as a reduction in the capitalized costs of the film assets financed or as revenue to the production company. The FTR has been earned by the production company, assigned to the previous film rights owner, Medient Unstoppable Limited, and then assigned to the Company as revenue.</p> <p style='margin:0in;margin-bottom:.0001pt;border:none;text-underline:black;text-align:justify;text-justify:inter-ideograph;line-height:115%;background:white;border:none'>&nbsp;</p> <p style='margin:0in;margin-bottom:.0001pt;border:none;text-underline:black;text-align:justify;text-justify:inter-ideograph;line-height:115%;background:white;border:none'><i>Medient Unstoppable Limited Revenue</i></p> <p style='margin:0in;margin-bottom:.0001pt;border:none;text-underline:black;text-align:justify;text-justify:inter-ideograph;line-height:115%;background:white;border:none'>&#160;</p> <p style='margin:0in;margin-bottom:.0001pt;border:none;text-underline:black;text-align:justify;text-justify:inter-ideograph;line-height:115%;background:white;border:none'>Revenue is due to the Company from a related party, Medient Unstoppable Limited, of which the Company<font lang=\"FR\">&#146;</font>s co-founder is a significant shareholder, in the amount of the net proceeds from the FTR as well as income from sales of <i>Storage 24</i>. In accordance with an intercompany agreement between the Company and Medient Unstoppable Limited, all revenues earned by Medient Unstoppable Limited for the movie <i>Storage 24</i> are due to the Company. This includes FTR.</p>"
      ],
      "text/plain": [
       "<IPython.core.display.HTML object>"
      ]
     },
     "metadata": {},
     "output_type": "display_data"
    },
    {
     "data": {
      "text/html": [
       "<h1>Netflix Inc - Fiscal Year 2013</h1><div style=\"font-family:Times New Roman;font-size:10pt;\"><div style=\"line-height:120%;padding-top:18px;font-size:10pt;\"><font style=\"font-family:inherit;font-size:10pt;font-style:italic;font-weight:bold;\">Revenue Recognition</font></div><div style=\"line-height:120%;padding-top:6px;text-indent:32px;font-size:10pt;\"><font style=\"font-family:inherit;font-size:10pt;\">Revenues are recognized ratably over each monthly membership period.  Revenues are presented net of the taxes that are collected from members and remitted to governmental authorities.  Deferred revenue consists of membership fees billed to members that have not been recognized and gift memberships that have not been redeemed</font></div></div>"
      ],
      "text/plain": [
       "<IPython.core.display.HTML object>"
      ]
     },
     "metadata": {},
     "output_type": "display_data"
    },
    {
     "data": {
      "text/html": [
       "<h1>Pow! Entertainment, Inc. - Fiscal Year 2013</h1><div style=\"MARGIN: 0pt 0px; FONT: 10pt Times New Roman, Times, Serif \"> <div style=\"CLEAR:both; FONT-FAMILY:Times New Roman;FONT-SIZE: 10pt;MARGIN-TOP: 0pt; FONT: 10pt Times New Roman, Times, Serif; MARGIN-BOTTOM: 0pt; MARGIN-LEFT: 0.25in; font-size-adjust: none; font-stretch: normal\" align=\"left\"><strong>Revenue Recognition--</strong> As a creator of intellectual property, the majority of the Company&#8217;s business is derived from contracts with third parties providing for the development and use of intellectual property developed by the Company.</div> <div style=\"CLEAR:both; FONT-FAMILY:Times New Roman;FONT-SIZE: 10pt;MARGIN-TOP: 0pt; FONT: 10pt Times New Roman, Times, Serif; MARGIN-BOTTOM: 0pt; font-size-adjust: none; font-stretch: normal\" align=\"left\">&#160;</div> <div style=\"CLEAR:both; FONT-FAMILY:Times New Roman;FONT-SIZE: 10pt;MARGIN-TOP: 0pt; FONT: 10pt Times New Roman, Times, Serif; MARGIN-BOTTOM: 0pt; MARGIN-LEFT: 0.25in; font-size-adjust: none; font-stretch: normal\" align=\"left\">The Company records revenue from these sources: artist consulting, film rights, animated television and comic-book royalties. In accounting for these contracts, the Company recognizes revenue when services have been rendered or when contractual parameters have been satisfied and are measureable.</div> <div style=\"CLEAR:both; FONT-FAMILY:Times New Roman;FONT-SIZE: 10pt;MARGIN-TOP: 0pt; FONT: 10pt Times New Roman, Times, Serif; MARGIN-BOTTOM: 0pt; MARGIN-LEFT: 0.25in; font-size-adjust: none; font-stretch: normal\" align=\"left\">&#160;</div> <div style=\"CLEAR:both; FONT-FAMILY:Times New Roman;FONT-SIZE: 10pt;MARGIN-TOP: 0pt; FONT: 10pt Times New Roman, Times, Serif; MARGIN-BOTTOM: 0pt; MARGIN-LEFT: 0.25in; font-size-adjust: none; font-stretch: normal\" align=\"left\">Our contract with Silver Creek Pictures (&#8220;Silver Creek&#8221;), an affiliate of The Walt Disney Company, calls for per annum payments of nonrecoupable overhead allowance of $<font style=\"FONT-FAMILY: 'Times New Roman','serif'; FONT-SIZE: 10pt\" data-cbfactid=\"66429115\">700,000</font> and nonrecoupable consulting services for Stan lee of $<font style=\"FONT-FAMILY: 'Times New Roman','serif'; FONT-SIZE: 10pt\" data-cbfactid=\"66429116\">1,250,000</font>. The contract expires in December 2014. The <span data-cbfactid=\"66429116\">$1,250,000</span> per annum for Stan Lee&#8217;s consulting services cease in the event of his disability or incapacitation. Revenue from Silver Creek is recorded based on the guidance from ASC 605: revenues are considered to have been earned when the entity has substantially accomplished what it must do to be entitled to the benefits represented by the revenues.</div> </div><table border=\"0\" style=\"width:100%; table-layout:fixed;\" cellspacing=\"0\" cellpadding=\"0\"><tr><td></td></tr></table>"
      ],
      "text/plain": [
       "<IPython.core.display.HTML object>"
      ]
     },
     "metadata": {},
     "output_type": "display_data"
    },
    {
     "data": {
      "text/html": [
       "<h1>Pulse Evolution Corp - Fiscal Year 2014</h1><p style=\"margin: 0pt\">\r",
       "\r",
       "<p style=\"margin: 0pt\">\r",
       "\r",
       "<p style=\"font: 10pt Times New Roman, Times, Serif; margin: 0\"><b>Revenue Recognition</b></p>\r",
       "\r",
       "<p style=\"font: 10pt Times New Roman, Times, Serif; margin: 0; text-indent: 0.5in\">&#160;</p>\r",
       "\r",
       "<p style=\"font: 10pt Times New Roman, Times, Serif; margin: 0; text-align: justify\">We have entered into a production services\r",
       "agreement with the estate of a deceased celebrity that provide revenues based on certain production services. Revenue is recognized\r",
       "on a straight-line basis over each contract period, as defined in each agreement. As the production services are rendered, revenue\r",
       "is recognized.</p>"
      ],
      "text/plain": [
       "<IPython.core.display.HTML object>"
      ]
     },
     "metadata": {},
     "output_type": "display_data"
    },
    {
     "data": {
      "text/html": [
       "<h1>Reading International Inc - Fiscal Year 2013</h1><div> <div style=\"margin-left:0pt;margin-right:0pt;\">\n",
       "\t\t<p style=\"margin:0pt 0pt 10pt;font-family:Times New Roman;text-align:justify;text-justify:inter-ideograph;font-size: 10pt\">\n",
       "\t\t\t<font style=\"display: inline;text-decoration:underline;\">Revenue Recognition</font>\n",
       "\t\t</p>\n",
       "\t\t<p style=\"margin:0pt 0pt 10pt;text-indent:36pt;font-family:Times New Roman;text-align:justify;text-justify:inter-ideograph;font-size: 10pt\">\n",
       "\t\t\t<font style=\"display: inline;\">Revenue from cinema ticket sales and concession sales are recognized when sold.&nbsp;&nbsp;Revenue from gift certificate sales is deferred and recognized when the certificates are redeemed.&nbsp;&nbsp;Rental revenue is recognized on a straight-line basis in accordance with FASB ASC 840-20-25 &#x2013; </font><font style=\"display: inline;font-style:italic;\">Leases Having Both Scheduled Rent Increases and Contingent Rents </font><font style=\"display: inline;\">(&#x201C;ASC 840-20-25&#x201D;).&nbsp; </font>\n",
       "\t\t</p>\n",
       "\t\t<p><font size=\"1\"> </font></p>\n",
       "\t</div> </div>"
      ],
      "text/plain": [
       "<IPython.core.display.HTML object>"
      ]
     },
     "metadata": {},
     "output_type": "display_data"
    },
    {
     "data": {
      "text/html": [
       "<h1>Regal Entertainment Group - Fiscal Year 2013</h1><div style=\"font-family:Times New Roman;font-size:10pt;\"><div style=\"line-height:120%;text-indent:26px;font-size:10pt;\"><font style=\"font-family:inherit;font-size:10pt;font-style:italic;font-weight:bold;\">Revenue Recognition</font></div><div style=\"line-height:120%;text-indent:32px;font-size:10pt;\"><font style=\"font-family:inherit;font-size:10pt;\"><br clear=\"none\"></font></div><div style=\"line-height:120%;text-indent:32px;font-size:10pt;\"><font style=\"font-family:inherit;font-size:10pt;\">Revenues are generated principally through admissions and concessions sales with proceeds received in cash or via credit card at the point of sale. Other operating revenues consist primarily of product advertising (including vendor marketing programs) and other ancillary revenues that are recognized as income in the period earned. The Company generally recognizes payments received attributable to the marketing and advertising services provided by the Company under certain vendor programs as revenue in the periods in which the advertising is displayed or when the related impressions are delivered. Such impressions are measured by the concession product sales volume, which is a mutually agreed upon proxy of attendance and reflects the Company's marketing and advertising services delivered to its vendors. In instances where the consideration received is in excess of fair value of the advertising services provided, the excess is recorded as a reduction of concession costs. The Company maintains a deferred revenue balance pertaining to cash received from the sale of discount tickets and gift cards that have not been redeemed. The Company recognizes revenue associated with discount tickets and gift cards when redeemed, or when the likelihood of redemption becomes remote. The determination of the likelihood of redemption is based on an analysis of historical redemption trends</font></div></div>"
      ],
      "text/plain": [
       "<IPython.core.display.HTML object>"
      ]
     },
     "metadata": {},
     "output_type": "display_data"
    },
    {
     "data": {
      "text/html": [
       "<h1>United Artists Theatre Circuit Inc /MD/ - Fiscal Year 2013</h1><div style=\"font-family:Times New Roman;font-size:10pt;\"><div style=\"line-height:120%;text-indent:48px;font-size:10pt;\"><font style=\"font-family:inherit;font-size:10pt;font-style:italic;font-weight:bold;\">Revenue Recognition</font></div><div style=\"line-height:120%;font-size:10pt;\"><font style=\"font-family:inherit;font-size:10pt;\"><br clear=\"none\"></font></div><div style=\"line-height:120%;text-indent:48px;font-size:10pt;\"><font style=\"font-family:inherit;font-size:10pt;\">Revenues are generated principally through admissions and concessions sales with proceeds received in cash or via credit card at the point of sale. Other operating revenues consist primarily of product advertising (including vendor marketing programs) and other ancillary revenues that are recognized as income in the period earned. The Company generally recognizes payments received attributable to the marketing and advertising services provided by the Company under certain vendor programs as revenue in the periods in which the advertising is displayed or when the related impressions are delivered. Such impressions are measured by the concession product sales volume, which is a mutually agreed upon proxy of attendance and reflects the Company&#8217;s marketing and advertising services delivered to its vendors. In instances where the consideration received is in excess of fair value of the advertising services provided, the excess is recorded as a reduction of concession costs. The Company recognizes revenue associated with discount tickets and gift cards when redeemed.</font></div></div>"
      ],
      "text/plain": [
       "<IPython.core.display.HTML object>"
      ]
     },
     "metadata": {},
     "output_type": "display_data"
    },
    {
     "data": {
      "text/html": [
       "<h1>Watermark Group, Inc. - Fiscal Year 2014</h1><p style=\"font: 10pt Times New Roman, Times, Serif; margin: 0; text-align: justify; text-indent: 0.75in\"><font style=\"font: 10pt Times New Roman, Times, Serif\">For\r",
       "revenue from product sales, the Company will recognize revenue in accordance with Staff Accounting Bulletin No. 104, &#147;Revenue\r",
       "Recognition&#148; (SAB No. 104), which superseded Staff Accounting Bulletin No. 101, &#147;Revenue Recognition in Financial\r",
       "Statements&#148; (SAB No. 101). SAB No. 104 requires that four basic criteria must be met before revenue can be recognized: (1)\r",
       "persuasive evidence of an arrangement exists; (2) delivery has occurred; (3) the selling price is fixed and determinable; and\r",
       "(4) collectibility is reasonably assured. Determination of criteria (3) and (4) are based on management&#146;s judgment regarding\r",
       "the fixed nature of the selling prices of the products delivered and the collectibility of those amounts. Provisions for discounts\r",
       "and rebates to customers, estimated returns and allowances, and other adjustments will be provided for in the same period the\r",
       "related sales are recorded.</font></p>"
      ],
      "text/plain": [
       "<IPython.core.display.HTML object>"
      ]
     },
     "metadata": {},
     "output_type": "display_data"
    },
    {
     "data": {
      "text/html": [
       "<h1>World Wrestling Entertainmentinc - Fiscal Year 2013</h1><div style=\"font-family:Times New Roman;font-size:10pt;\"><div style=\"line-height:120%;padding-bottom:10px;padding-top:10px;text-align:justify;font-size:10pt;\"><font style=\"font-family:inherit;font-size:10pt;font-style:italic;\">Revenue Recognition</font><font style=\"font-family:inherit;font-size:10pt;\"> &#8212; Revenues are generally recognized when products are shipped or as services are performed. However, due to the nature of several of our business lines, there are additional steps in the revenue recognition process, as described below.</font></div><table cellpadding=\"0\" cellspacing=\"0\" style=\"font-family:Times New Roman; font-size:10pt;\"><tr><td style=\"width:48px;\" rowspan=\"1\" colspan=\"1\"></td><td rowspan=\"1\" colspan=\"1\"></td></tr><tr><td style=\"vertical-align:top\" rowspan=\"1\" colspan=\"1\"><div style=\"line-height:120%;font-size:10pt;padding-left:24px;\"><font style=\"font-family:inherit;font-size:10pt;\">&#8226;</font></div></td><td style=\"vertical-align:top;\" rowspan=\"1\" colspan=\"1\"><div style=\"line-height:120%;text-align:left;font-size:10pt;\"><font style=\"font-family:inherit;font-size:10pt;\">Pay-per-view programming:</font></div></td></tr></table><div style=\"line-height:120%;padding-bottom:10px;padding-top:10px;text-align:justify;font-size:10pt;\"><font style=\"font-family:inherit;font-size:10pt;\">     Revenues from our pay-per-view programming are recorded when the event is aired and are based upon our initial estimate of the number of buys achieved. This initial estimate is based on preliminary buy information received from our pay-per-view distributors. Final reconciliation of the pay-per-view buys generally occurs within one year and any subsequent adjustments to the buys are recognized in the period new information is received.</font></div><table cellpadding=\"0\" cellspacing=\"0\" style=\"font-family:Times New Roman; font-size:10pt;\"><tr><td style=\"width:48px;\" rowspan=\"1\" colspan=\"1\"></td><td rowspan=\"1\" colspan=\"1\"></td></tr><tr><td style=\"vertical-align:top\" rowspan=\"1\" colspan=\"1\"><div style=\"line-height:120%;font-size:10pt;padding-left:24px;\"><font style=\"font-family:inherit;font-size:10pt;\">&#8226;</font></div></td><td style=\"vertical-align:top;\" rowspan=\"1\" colspan=\"1\"><div style=\"line-height:120%;text-align:left;font-size:10pt;\"><font style=\"font-family:inherit;font-size:10pt;\">Sponsorships:</font></div></td></tr></table><div style=\"line-height:120%;padding-bottom:10px;padding-top:10px;text-align:justify;font-size:10pt;\"><font style=\"font-family:inherit;font-size:10pt;\">&#160;&#160;&#160;&#160; Through our sponsorship packages, we offer advertisers a full range of our promotional vehicles, including online and print advertising, on-air announcements and special appearances by our Superstars. We allocate revenue to all deliverables contained within a sponsorship arrangement based upon their relative selling price. In most instances, we determine relative selling price  used for allocating revenue to a specific deliverable using vendor specific objective evidence (\"VSOE\"). VSOE is the selling price that a vendor charges when it sells similar products or services on a stand-alone basis.  After allocating revenue to each deliverable, we recognize revenue from our sponsorship arrangements when each element is delivered.</font></div><table cellpadding=\"0\" cellspacing=\"0\" style=\"font-family:Times New Roman; font-size:10pt;\"><tr><td style=\"width:48px;\" rowspan=\"1\" colspan=\"1\"></td><td rowspan=\"1\" colspan=\"1\"></td></tr><tr><td style=\"vertical-align:top\" rowspan=\"1\" colspan=\"1\"><div style=\"line-height:120%;font-size:10pt;padding-left:24px;\"><font style=\"font-family:inherit;font-size:10pt;\">&#8226;</font></div></td><td style=\"vertical-align:top;\" rowspan=\"1\" colspan=\"1\"><div style=\"line-height:120%;text-align:left;font-size:10pt;\"><font style=\"font-family:inherit;font-size:10pt;\">Licensing:</font></div></td></tr></table><div style=\"line-height:120%;padding-bottom:10px;padding-top:10px;text-align:justify;font-size:10pt;\"><font style=\"font-family:inherit;font-size:10pt;\">     Revenues from our licensed products are recognized upon receipt of reports from the individual licensees that detail the royalties generated by related product sales. If we receive licensing advances, such payments are recorded as deferred revenue and are recognized as income when earned.</font></div><table cellpadding=\"0\" cellspacing=\"0\" style=\"font-family:Times New Roman; font-size:10pt;\"><tr><td style=\"width:48px;\" rowspan=\"1\" colspan=\"1\"></td><td rowspan=\"1\" colspan=\"1\"></td></tr><tr><td style=\"vertical-align:top\" rowspan=\"1\" colspan=\"1\"><div style=\"line-height:120%;font-size:10pt;padding-left:24px;\"><font style=\"font-family:inherit;font-size:10pt;\">&#8226;</font></div></td><td style=\"vertical-align:top;\" rowspan=\"1\" colspan=\"1\"><div style=\"line-height:120%;text-align:left;font-size:10pt;\"><font style=\"font-family:inherit;font-size:10pt;\">Home entertainment:</font></div></td></tr></table><div style=\"line-height:120%;padding-bottom:10px;padding-top:10px;text-align:justify;font-size:10pt;\"><font style=\"font-family:inherit;font-size:10pt;\">     Revenues from the sales of home video titles are recorded net of an allowance for estimated returns, at the later of delivery by our distributor to retailers, or the date that these products are made widely available for sale by retailers. The allowance for estimated returns is based on historical information, current industry trends and demand for our titles.</font></div><table cellpadding=\"0\" cellspacing=\"0\" style=\"font-family:Times New Roman; font-size:10pt;\"><tr><td style=\"width:48px;\" rowspan=\"1\" colspan=\"1\"></td><td rowspan=\"1\" colspan=\"1\"></td></tr><tr><td style=\"vertical-align:top\" rowspan=\"1\" colspan=\"1\"><div style=\"line-height:120%;font-size:10pt;padding-left:24px;\"><font style=\"font-family:inherit;font-size:10pt;\">&#8226;</font></div></td><td style=\"vertical-align:top;\" rowspan=\"1\" colspan=\"1\"><div style=\"line-height:120%;text-align:left;font-size:10pt;\"><font style=\"font-family:inherit;font-size:10pt;\">Magazine publishing:</font></div></td></tr></table><div style=\"line-height:120%;padding-bottom:10px;padding-top:10px;text-align:justify;font-size:10pt;\"><font style=\"font-family:inherit;font-size:10pt;\">&#160;&#160;&#160;&#160; Publishing newsstand revenues are recorded when the magazine is shipped, net of an allowance for estimated returns. We estimate the allowance for newsstand returns based upon our review of historical return rates and the expected performance of our current titles in relation to prior issue return rates.</font></div><table cellpadding=\"0\" cellspacing=\"0\" style=\"font-family:Times New Roman; font-size:10pt;\"><tr><td style=\"width:48px;\" rowspan=\"1\" colspan=\"1\"></td><td rowspan=\"1\" colspan=\"1\"></td></tr><tr><td style=\"vertical-align:top\" rowspan=\"1\" colspan=\"1\"><div style=\"line-height:120%;font-size:10pt;padding-left:24px;\"><font style=\"font-family:inherit;font-size:10pt;\">&#8226;</font></div></td><td style=\"vertical-align:top;\" rowspan=\"1\" colspan=\"1\"><div style=\"line-height:120%;text-align:left;font-size:10pt;\"><font style=\"font-family:inherit;font-size:10pt;\">TV rights:</font></div></td></tr></table><div style=\"line-height:120%;padding-bottom:10px;padding-top:10px;text-align:justify;font-size:10pt;\"><font style=\"font-family:inherit;font-size:10pt;\">&#160;&#160;&#160;&#160; Rights fees received from distributors of our television programming, both domestically and internationally, are recorded when the program has been delivered to the distributor and is available for exhibition. Our typical distribution agreement is between one and five years in length and frequently provides for contractual increases over its term. Expenses incurred in the production of our weekly television programming are expensed when the programming is first available for exhibition.</font></div><div style=\"line-height:120%;padding-bottom:10px;padding-top:10px;text-align:justify;font-size:10pt;\"><font style=\"font-family:inherit;font-size:10pt;font-weight:bold;\">2. Summary of Significant Accounting Policies (continued)</font></div><table cellpadding=\"0\" cellspacing=\"0\" style=\"font-family:Times New Roman; font-size:10pt;\"><tr><td style=\"width:48px;\" rowspan=\"1\" colspan=\"1\"></td><td rowspan=\"1\" colspan=\"1\"></td></tr><tr><td style=\"vertical-align:top\" rowspan=\"1\" colspan=\"1\"><div style=\"line-height:120%;font-size:10pt;padding-left:24px;\"><font style=\"font-family:inherit;font-size:10pt;\">&#8226;</font></div></td><td style=\"vertical-align:top;\" rowspan=\"1\" colspan=\"1\"><div style=\"line-height:120%;text-align:left;font-size:10pt;\"><font style=\"font-family:inherit;font-size:10pt;\">Films:</font></div></td></tr></table><div style=\"line-height:120%;padding-bottom:10px;padding-top:10px;text-align:justify;font-size:10pt;\"><font style=\"font-family:inherit;font-size:10pt;\">&#160;&#160;&#160;&#160; Revenue recognition for our feature films varies depending on the method of distribution and the extent of control the Company exercises over the distribution and related expenses. We exercise significant control over our self-distributed films and as a result, we record distribution revenue and related expenses on a gross basis in our financial statements. Third-party distribution partners control the distribution and marketing of our licensed films, and as a result, we recognize revenue on a net basis after the third-party distributor recoups distribution fees and expenses and results have been reported to us. This typically occurs in periods subsequent to the initial release of the film. Revenues generated from our films through the various distribution channels, including home video, video-on-demand and television are recognized consistent with the policies described above.</font></div></div>"
      ],
      "text/plain": [
       "<IPython.core.display.HTML object>"
      ]
     },
     "metadata": {},
     "output_type": "display_data"
    },
    {
     "data": {
      "text/html": [
       "<h1>Writ Media Group, Inc. - Fiscal Year 2014</h1><p style=\"font: 10pt Times New Roman, Times, Serif; margin: 0; text-align: justify\"><font style=\"font: 10pt Times New Roman, Times, Serif\">The\r",
       "Company follows revenue recognition in two industries, technology and film.</font></p>\r",
       "\r",
       "<p style=\"font: 10pt Times New Roman, Times, Serif; margin: 0; text-align: justify\"><font style=\"font: 10pt Times New Roman, Times, Serif\">&#160;</font></p>\r",
       "\r",
       "<p style=\"font: 10pt Times New Roman, Times, Serif; margin: 0; text-align: justify\"><font style=\"font: 10pt Times New Roman, Times, Serif\">Revenue\r",
       "is measured at the fair value of the consideration received or receivable net of sales tax, trade discounts and customer returns.</font></p>"
      ],
      "text/plain": [
       "<IPython.core.display.HTML object>"
      ]
     },
     "metadata": {},
     "output_type": "display_data"
    },
    {
     "data": {
      "text/html": [
       "<h1>Amc Entertainment Holdings, Inc. - Fiscal Year 2014</h1><div> <div style=\"margin-left:0pt;margin-right:0pt;\">\n",
       "\t\t<p style=\"margin:5pt 0pt;border-bottom:1pt none #D9D9D9 ;font-family:Times New Roman;font-size: 10pt\">\n",
       "\t\t\t<font style=\"display: inline;font-family:Times;font-size:10pt;\">&nbsp;</font>\n",
       "\t\t</p>\n",
       "\t\t<p style=\"margin:5pt 0pt;border-top:1pt none #D9D9D9 ;font-family:Times New Roman;font-size: 10pt\">\n",
       "\t\t\t<font style=\"display: inline;font-family:Times;font-weight:bold;font-style:italic;font-size:10pt;\">&nbsp;&nbsp;&nbsp;&nbsp;&nbsp;&nbsp;&nbsp;&nbsp;Revenues:</font><font style=\"display: inline;font-family:Times;font-size:10pt;\">&nbsp;&nbsp;&nbsp;&nbsp;Revenues are recognized when admissions and food and beverage sales are received at the theatres and are reported net of sales tax. The Company defers <span data-cbfactid=\"-1\" data-cbnumtext=\"100%\" data-cbnetworkid=\"22053743\">100%</span> of the revenue associated with the sales of gift cards and packaged tickets until such time as the items are redeemed or income from non-redemption is recorded. The Company recognizes income from non-redeemed or partially redeemed gift cards using the Proportional Method where it applies a non-redemption rate for its five gift card sales channels which ranges from <span data-cbfactid=\"90875531\" data-cbnetworkid=\"22053743\">14%</span> to <span data-cbfactid=\"90875530\" data-cbnetworkid=\"22053743\">23%</span> of the current month sales and the Company recognizes that total amount of income for that current month's sales as income over the next 24&nbsp;months in proportion to the pattern of actual redemptions. The Company has determined its non-redeemed rates and redemption patterns using data accumulated over ten years on a company-wide basis. Income for non-redeemed packaged tickets continues to be recognized as the redemption of these items is determined to be remote, that is if a ticket has not been used within 18&nbsp;months after being purchased. During the twelve months ended December&nbsp;31, 2014, the twelve months ended December&nbsp;31, 2013, the period August&nbsp;31, 2012 through December&nbsp;31, 2012, and the period March&nbsp;30, 2012 through August&nbsp;30, 2012, the Company recognized <span data-cbfactid=\"90877205\" data-cbnetworkid=\"22053743\">$21,347,000</span>, <span data-cbfactid=\"90877204\" data-cbnetworkid=\"22053743\">$19,510,000</span>, <span data-cbfactid=\"90877203\" data-cbnetworkid=\"22053743\">$3,483,000</span>, and <span data-cbfactid=\"90877202\" data-cbnetworkid=\"22053743\">$7,776,000</span> of income, respectively, related to the derecognition of gift card liabilities, which was recorded in other theatre revenues in the Consolidated Statements of Operations. During the twelve months ended December&nbsp;31, 2014, the twelve months ended December&nbsp;31, 2013, the period August&nbsp;31, 2012 through December&nbsp;31, 2012, and the period March&nbsp;30, 2012 through August&nbsp;30, 2012, the Company recognized <span data-cbfactid=\"90875380\" data-cbnetworkid=\"22053743\">$11,710,000</span>, $0, $0, and <span data-cbfactid=\"90875377\" data-cbnetworkid=\"22053743\">$4,818,000</span> of income, respectively, related to the derecognition of package ticket liabilities, which was recorded in other theatre revenues in the Consolidated Statements of Operations. As a result of fair value accounting due to the Merger, the Company did not recognize any income on packaged tickets until 18&nbsp;months after the date of the Merger. </font>\n",
       "\t\t</p>\n",
       "\t\t<p><font size=\"1\"> </font></p>\n",
       "\t</div> </div>"
      ],
      "text/plain": [
       "<IPython.core.display.HTML object>"
      ]
     },
     "metadata": {},
     "output_type": "display_data"
    },
    {
     "data": {
      "text/html": [
       "<h1>Bona Film Group Ltd - Fiscal Year 2014</h1><div> <div style=\"margin-left:0pt;margin-right:0pt;\">\n",
       "\t\t<p style=\"margin:0pt;font-family:Times New Roman;font-size: 10pt\">\n",
       "\t\t\t<font style=\"display: inline;\">&nbsp;</font>\n",
       "\t\t</p>\n",
       "\t\t<p style=\"margin:5pt 0pt 5pt 46pt;text-indent: -10pt;font-family:Times New Roman;font-size: 10pt\">\n",
       "\t\t\t<font style=\"display: inline;font-family:Times;font-weight:bold;font-style:italic;\">Revenues recognition </font>\n",
       "\t\t</p>\n",
       "\t\t<p style=\"margin:5pt 0pt;font-family:Times New Roman;font-size: 10pt\">\n",
       "\t\t\t<font style=\"display: inline;font-family:Times;\">&nbsp;&nbsp;&nbsp;&nbsp;&nbsp;&nbsp;&nbsp;&nbsp;The Group recognizes film-related revenues from the arrangements described as follows: </font>\n",
       "\t\t</p>\n",
       "\t\t<p style=\"margin:5pt 0pt 5pt 46pt;text-indent: -10pt;font-family:Times New Roman;font-size: 10pt\">\n",
       "\t\t\t<font style=\"display: inline;font-family:Times;font-style:italic;\">Film distribution revenues </font>\n",
       "\t\t</p>\n",
       "\t\t<p style=\"margin:5pt 0pt;font-family:Times New Roman;font-size: 10pt\">\n",
       "\t\t\t<font style=\"display: inline;font-family:Times;\">&nbsp;&nbsp;&nbsp;&nbsp;&nbsp;&nbsp;&nbsp;&nbsp;The Group acquires film distribution rights as the principal or a participating distributor in mainland China and overseas from film producers. </font>\n",
       "\t\t</p>\n",
       "\t\t<p style=\"margin:5pt 0pt;font-family:Times New Roman;font-size: 10pt\">\n",
       "\t\t\t<font style=\"display: inline;font-family:Times;\">&nbsp;&nbsp;&nbsp;&nbsp;&nbsp;&nbsp;&nbsp;&nbsp;As the principal distributor, the Group recognizes distribution revenues when the films are exhibited in movie theaters. After the payments by the movie theaters of taxes and other governmental charges and deductions by movie theaters and theater circuits of their respective shares of the box office sales, the remaining amount (the \"Distributable Amount\") is remitted to the Group which the Group accounts for as its distribution revenues. </font>\n",
       "\t\t</p>\n",
       "\t\t<p style=\"margin:5pt 0pt;font-family:Times New Roman;font-size: 10pt\">\n",
       "\t\t\t<font style=\"display: inline;font-family:Times;\">&nbsp;&nbsp;&nbsp;&nbsp;&nbsp;&nbsp;&nbsp;&nbsp;The Group then shares the Distributable Amount with the film producer, other participating distributors or both pursuant to the terms of the distribution agreement under which the Group is typically entitled to a fixed percentage of the Distributable Amount as its fees (the \"Distribution Fees\"). The Distributable Amount, after further deductions of the Distribution Fees and print and marketing expenses, except in rare cases which are not reimbursable by the producer, is paid or payable to the producer and is accounted for as a cost of distribution revenues. </font>\n",
       "\t\t</p>\n",
       "\t\t<p style=\"margin:5pt 0pt;font-family:Times New Roman;font-size: 10pt\">\n",
       "\t\t\t<font style=\"display: inline;font-family:Times;\">&nbsp;&nbsp;&nbsp;&nbsp;&nbsp;&nbsp;&nbsp;&nbsp;The Group also generates revenues from advertising services such as \"in-film\" advertising, pre-screening advertising, selling poster space and promotions of films. Revenues from advertising services are recognized as advertisement is shown or upon services provided. Cost of advertising services primarily consists of the cost of acquiring advertising airtime. </font>\n",
       "\t\t</p>\n",
       "\t\t<p style=\"margin:5pt 0pt;font-family:Times New Roman;font-size: 10pt\">\n",
       "\t\t\t<font style=\"display: inline;font-family:Times;\">&nbsp;&nbsp;&nbsp;&nbsp;&nbsp;&nbsp;&nbsp;&nbsp;The Group also cooperates with other distributors to distribute films as a participating distributor but is not the primary obligor under the distribution arrangement and shares a fixed percentage of the distribution fees received by the principal distributor as the Group's commissions pursuant to its arrangement with the principal distributor. The Group records these commissions as its distribution revenues. </font>\n",
       "\t\t</p>\n",
       "\t\t<p style=\"margin:5pt 0pt;font-family:Times New Roman;font-size: 10pt\">\n",
       "\t\t\t<font style=\"display: inline;font-family:Times;\">&nbsp;&nbsp;&nbsp;&nbsp;&nbsp;&nbsp;&nbsp;&nbsp;For certain films the distribution rights of which are acquired by the Group, the Group sub-licenses such rights to international third party distributors and domestic and international non-theatrical channels including television and Internet companies for a particular term. Revenues from such sub-licensing arrangements are recognized when the following criteria are met: (i)&nbsp;an arrangement has been signed with a customer, (ii)&nbsp;the customer's right to use or otherwise exploit the intellectual property has commenced and there is no requirement for significant continued performance by the Group, (iii)&nbsp;licensing fees are either fixed or determinable and (iv)&nbsp;collectability of the fee is reasonably assured. </font>\n",
       "\t\t</p>\n",
       "\t\t<p style=\"margin:5pt 0pt 5pt 46pt;text-indent: -10pt;font-family:Times New Roman;font-size: 10pt\">\n",
       "\t\t\t<font style=\"display: inline;font-family:Times;font-style:italic;\">Copyright and participation revenues </font>\n",
       "\t\t</p>\n",
       "\t\t<p style=\"margin:5pt 0pt;font-family:Times New Roman;font-size: 10pt\">\n",
       "\t\t\t<font style=\"display: inline;font-family:Times;\">&nbsp;&nbsp;&nbsp;&nbsp;&nbsp;&nbsp;&nbsp;&nbsp;When the Group is not the principal distributor, but participates in the financing of film production in which the Group may also acquire all, a portion or none of the legal copyright in relation to the film, and bears a portion of the costs of financing, production, prints, promotion and advertising pursuant to the terms of the agreement for the production of the film, it generates revenues from such film production participation as follows: </font>\n",
       "\t\t</p>\n",
       "\t\t<div style=\"width:100%\"><table cellpadding=\"0\" cellspacing=\"0\" align=\"center\" style=\"border-collapse:collapse;width: 100.00%;CellSpacing:15;margin-left:0pt;\">\n",
       "\t\t\t<tr style=\"CellSpacing:15;\">\n",
       "\t\t\t\t<td valign=\"top\" style=\"width:auto;padding:0.9pt 0.9pt 0.9pt 0.9pt;\">\n",
       "\t\t\t\t\t<p style=\"margin:0pt;font-family:Times New Roman;font-size: 10pt\">\n",
       "\t\t\t\t\t\t<font style=\"display: inline;font-family:Times;\">(a)</font></p>\n",
       "\t\t\t\t</td>\n",
       "\t\t\t\t<td valign=\"middle\" style=\"width:auto;padding:0.9pt 0.9pt 0.9pt 0.9pt;\">\n",
       "\t\t\t\t\t<p style=\"margin:0pt 0pt 12pt;font-family:Times New Roman;font-size: 10pt\">\n",
       "\t\t\t\t\t\t<font style=\"display: inline;font-family:Times;\">Where the Group is entitled to receive a certain percentage of the net profit of the film, it periodically receives a report from the film producer about the net profit or loss of the film. The Group records its share of the net profit of the film into revenues according to the report. </font></p>\n",
       "\t\t\t\t</td>\n",
       "\t\t\t</tr>\n",
       "\t\t\t<tr style=\"CellSpacing:15;\">\n",
       "\t\t\t\t<td valign=\"top\" style=\"width:auto;padding:0.9pt 0.9pt 0.9pt 0.9pt;\">\n",
       "\t\t\t\t\t<p style=\"margin:0pt;font-family:Times New Roman;font-size: 10pt\">\n",
       "\t\t\t\t\t\t<font style=\"display: inline;font-family:Times;\">(b)</font></p>\n",
       "\t\t\t\t</td>\n",
       "\t\t\t\t<td valign=\"middle\" style=\"width:auto;padding:0.9pt 0.9pt 0.9pt 0.9pt;\">\n",
       "\t\t\t\t\t<p style=\"margin:0pt;font-family:Times New Roman;font-size: 10pt\">\n",
       "\t\t\t\t\t\t<font style=\"display: inline;font-family:Times;\">In the case of licensing the Group's copyrights to international third party distributors and to other domestic and international non-theatrical channels, including television and Internet companies, for a particular term, the Group recognizes copyright revenues when the following criteria are met: (i)&nbsp;an arrangement has been signed with a customer, (ii)&nbsp;the customer's right to use or otherwise exploit the intellectual property has commenced and there is no requirement for significant continued performance by the Group, (iii)&nbsp;licensing fees are either fixed or determinable and (iv)&nbsp;collectability of the fee is reasonably assured. </font></p>\n",
       "\t\t\t\t</td>\n",
       "\t\t\t</tr>\n",
       "\t\t</table></div>\n",
       "\t\t<p style=\"margin:5pt 0pt 5pt 46pt;text-indent: -10pt;font-family:Times New Roman;font-size: 10pt\">\n",
       "\t\t\t<font style=\"display: inline;font-family:Times;font-style:italic;\">Talent agency revenues </font>\n",
       "\t\t</p>\n",
       "\t\t<p style=\"margin:5pt 0pt;font-family:Times New Roman;font-size: 10pt\">\n",
       "\t\t\t<font style=\"display: inline;font-family:Times;\">&nbsp;&nbsp;&nbsp;&nbsp;&nbsp;&nbsp;&nbsp;&nbsp;The Group also acts as a talent agent for certain artists, where in certain cases the Group signs the service contract with a third party and in other cases, the Group and the artist together sign the service contract with a third party. </font>\n",
       "\t\t</p>\n",
       "\t\t<p style=\"margin:5pt 0pt;font-family:Times New Roman;font-size: 10pt\">\n",
       "\t\t\t<font style=\"display: inline;font-family:Times;\">&nbsp;&nbsp;&nbsp;&nbsp;&nbsp;&nbsp;&nbsp;&nbsp;Where the Group signs the service contract with a third party and is the primary obligor, the Group reports the gross amount of the service as revenues. Where the Group and the artist together sign the contract with a third party, the Group reports revenues at the total service amount net of the payment to the artist. For arrangements where the Group records the gross amount as its revenues, cost of talent agency service primarily consists of compensation paid to artists. </font>\n",
       "\t\t</p>\n",
       "\t\t<p style=\"margin:5pt 0pt 5pt 46pt;text-indent: -10pt;font-family:Times New Roman;font-size: 10pt\">\n",
       "\t\t\t<font style=\"display: inline;font-family:Times;font-style:italic;\">Movie theater revenues </font>\n",
       "\t\t</p>\n",
       "\t\t<p style=\"margin:5pt 0pt;font-family:Times New Roman;font-size: 10pt\">\n",
       "\t\t\t<font style=\"display: inline;font-family:Times;\">&nbsp;&nbsp;&nbsp;&nbsp;&nbsp;&nbsp;&nbsp;&nbsp;Revenues are recognized when admissions and concession sales are received at the box offices. Other revenues primarily consist of screen advertising. Screen advertising revenues are recognized over the period that the related advertising is delivered on-screen or in-theatre. The Group records proceeds from the sale of prepaid membership cards and other prepaid certificates in deferred revenues and recognizes admissions revenues and concession revenues when the card or certificate is consumed. The Group recognizes unredeemed prepaid certificates as revenues upon expiration of the membership cards or certificates. </font>\n",
       "\t\t</p>\n",
       "\t\t<p style=\"margin:0pt;font-family:Times New Roman;font-size: 10pt\">\n",
       "\t\t\t<font style=\"display: inline;\">&nbsp;</font>\n",
       "\t\t</p>\n",
       "\t\t<p><font size=\"1\"> </font></p>\n",
       "\t</div> </div>"
      ],
      "text/plain": [
       "<IPython.core.display.HTML object>"
      ]
     },
     "metadata": {},
     "output_type": "display_data"
    },
    {
     "data": {
      "text/html": [
       "<h1>Carmike Cinemas Inc - Fiscal Year 2014</h1><div>\n",
       " <p style=\"MARGIN-BOTTOM: 0pt; FONT-SIZE: 10pt; FONT-FAMILY: Times New Roman; MARGIN-TOP: 18pt\">\n",
       " <b>Revenue Recognition</b></p>\n",
       " <p style=\"MARGIN-BOTTOM: 0pt; FONT-SIZE: 10pt; FONT-FAMILY: Times New Roman; MARGIN-TOP: 6pt; TEXT-INDENT: 4%\">\n",
       " Admissions and concessions revenue is recognized at the point of\n",
       " sale for tickets and concessions. Sales taxes collected from\n",
       " customers are excluded from revenue and are recorded in accrued\n",
       " expenses in the accompanying consolidated balance sheets. Other\n",
       " revenues primarily consist of on-screen advertising. Screen\n",
       " advertising revenues are recognized over the period that the\n",
       " related advertising is delivered on-screen or in-theatre.</p>\n",
       " <p style=\"MARGIN-BOTTOM: 0pt; FONT-SIZE: 10pt; FONT-FAMILY: Times New Roman; MARGIN-TOP: 12pt; TEXT-INDENT: 4%\">\n",
       " The Company records proceeds from the sale of gift cards and other\n",
       " advanced sale certificates in current liabilities and recognizes\n",
       " admission and concessions revenue when a holder redeems a gift card\n",
       " or other advanced sale certificate. The Company recognized revenue\n",
       " from unredeemed gift cards and other advanced sale certificates\n",
       " upon the later of expiration of the cards or when redemption\n",
       " becomes unlikely. The Company&#x2019;s conclusion that redemption is\n",
       " unlikely is based on an analysis of historical trends. Revenue\n",
       " recognized related to unredeemed gift cards and other advanced sale\n",
       " certificates totaled <span data-cbfactid=\"98400901\">$1,081</span>, <span data-cbfactid=\"98400637\">$500</span> and <span data-cbfactid=\"98401192\">$1,319</span> in 2014, 2013 and\n",
       " 2012, respectively.</p>\n",
       " </div>"
      ],
      "text/plain": [
       "<IPython.core.display.HTML object>"
      ]
     },
     "metadata": {},
     "output_type": "display_data"
    },
    {
     "data": {
      "text/html": [
       "<h1>Carolco Pictures, Inc. - Fiscal Year 2014</h1><p id=\"PARA1575\" style=\"TEXT-ALIGN: left; MARGIN: 0pt; LINE-HEIGHT: 1.25\"><font style=\"FONT-SIZE: 10pt; FONT-FAMILY: Times New Roman, Times, serif\"><i><u>Revenue Recognition</u></i></font> \n",
       "    </p><br><p id=\"PARA1577\" style=\"TEXT-ALIGN: left; MARGIN: 0pt; LINE-HEIGHT: 1.25\"> \n",
       "      <font style=\"FONT-SIZE: 10pt; FONT-FAMILY: Times New Roman, Times, serif\">The Company applies paragraph 605-10-S99-1 of the FASB Accounting Standards Codification for revenue recognition. &#160;The Company recognizes revenue when it is realized or realizable and earned. &#160;The Company considers revenue realized or realizable and earned when all of the following criteria are met: (i) persuasive evidence of an arrangement exists, (ii) the product has been shipped or the services have been rendered to the customer, (iii) the sales price is fixed or determinable, and (iv) collectability is reasonably assured. &#160;In addition to the aforementioned general policy, the following is the specific revenue recognition policy.</font>  \n",
       "    </p><br><p id=\"PARA1579\" style=\"TEXT-ALIGN: left; MARGIN: 0pt; LINE-HEIGHT: 1.25\"> \n",
       "      <font style=\"FONT-SIZE: 10pt; FONT-FAMILY: Times New Roman, Times, serif\">Revenues from the sale of programming for television and other media are recognized when</font>   \n",
       "    </p><br><table id=\"TBL1584\" style=\"FONT-SIZE: 10pt; FONT-FAMILY: Times New Roman, Times, serif; WIDTH: 100%; TEXT-INDENT: 0px\" cellspacing=\"0\" cellpadding=\"0\" border=\"0\">    \n",
       "      <tr>  \n",
       "        <td style=\"WIDTH: 1.8%; VERTICAL-ALIGN: top\">     \n",
       "          <p id=\"PARA1581\" style=\"TEXT-ALIGN: left; MARGIN: 0pt; LINE-HEIGHT: 1.25\"> \n",
       "            <font style=\"FONT-SIZE: 10pt; FONT-FAMILY: Times New Roman, Times, serif\">&#160;</font> \n",
       "          </p> \n",
       "        </td>     \n",
       "        <td style=\"WIDTH: 2.1%; VERTICAL-ALIGN: top\">     \n",
       "          <p id=\"PARA1582\" style=\"TEXT-ALIGN: left; MARGIN: 0pt; LINE-HEIGHT: 1.25\"> \n",
       "            <font style=\"FONT-SIZE: 10pt; FONT-FAMILY: Times New Roman, Times, serif\">&#9679;</font>  \n",
       "          </p> \n",
       "        </td>     \n",
       "        <td style=\"WIDTH: 96%; VERTICAL-ALIGN: top\">    \n",
       "          <p id=\"PARA1583\" style=\"TEXT-ALIGN: left; MARGIN: 0pt; LINE-HEIGHT: 1.25\"> \n",
       "            <font style=\"FONT-SIZE: 10pt; FONT-FAMILY: Times New Roman, Times, serif\">Persuasive evidence of an arrangement exists;</font> \n",
       "          </p> \n",
       "        </td>     \n",
       "      </tr>   \n",
       "    </table><br><table id=\"TBL1593\" style=\"FONT-SIZE: 10pt; FONT-FAMILY: Times New Roman, Times, serif; WIDTH: 100%; TEXT-INDENT: 0px\" cellspacing=\"0\" cellpadding=\"0\" border=\"0\">   \n",
       "      <tr>  \n",
       "        <td style=\"WIDTH: 1.8%; VERTICAL-ALIGN: top\">     \n",
       "          <p id=\"PARA1586\" style=\"TEXT-ALIGN: left; MARGIN: 0pt; LINE-HEIGHT: 1.25\"> \n",
       "            <font style=\"FONT-SIZE: 10pt; FONT-FAMILY: Times New Roman, Times, serif\">&#160;</font> \n",
       "          </p> \n",
       "        </td>     \n",
       "        <td style=\"WIDTH: 2.1%; VERTICAL-ALIGN: top\">     \n",
       "          <p id=\"PARA1587\" style=\"TEXT-ALIGN: left; MARGIN: 0pt; LINE-HEIGHT: 1.25\"> \n",
       "            <font style=\"FONT-SIZE: 10pt; FONT-FAMILY: Times New Roman, Times, serif\">&#9679;</font>  \n",
       "          </p> \n",
       "        </td>     \n",
       "        <td style=\"WIDTH: 96%; VERTICAL-ALIGN: top\">    \n",
       "          <p id=\"PARA1588\" style=\"TEXT-ALIGN: left; MARGIN: 0pt; LINE-HEIGHT: 1.25\"> \n",
       "            <font style=\"FONT-SIZE: 10pt; FONT-FAMILY: Times New Roman, Times, serif\">The show/episode is complete, and in accordance with the terms of the arrangement, has been delivered</font> <font style=\"FONT-SIZE: 10pt; FONT-FAMILY: Times New Roman, Times, serif\">or is available for immediate and unconditional delivery;</font>   \n",
       "          </p> \n",
       "        </td>     \n",
       "      </tr>   \n",
       "      <tr>  \n",
       "        <td style=\"WIDTH: 1.8%; VERTICAL-ALIGN: middle\">   \n",
       "          &#160; \n",
       "        </td>     \n",
       "        <td style=\"WIDTH: 2.1%; VERTICAL-ALIGN: middle\">   \n",
       "          &#160; \n",
       "        </td>     \n",
       "        <td style=\"WIDTH: 96%; VERTICAL-ALIGN: middle\">  \n",
       "          &#160; \n",
       "        </td>     \n",
       "      </tr>   \n",
       "      <tr>  \n",
       "        <td style=\"WIDTH: 1.8%; VERTICAL-ALIGN: top\">     \n",
       "          <p id=\"PARA1590\" style=\"TEXT-ALIGN: left; MARGIN: 0pt; LINE-HEIGHT: 1.25\"> \n",
       "            <font style=\"FONT-SIZE: 10pt; FONT-FAMILY: Times New Roman, Times, serif\">&#160;</font> \n",
       "          </p> \n",
       "        </td>     \n",
       "        <td style=\"WIDTH: 2.1%; VERTICAL-ALIGN: top\">     \n",
       "          <p id=\"PARA1591\" style=\"TEXT-ALIGN: left; MARGIN: 0pt; LINE-HEIGHT: 1.25\"> \n",
       "            <font style=\"FONT-SIZE: 10pt; FONT-FAMILY: Times New Roman, Times, serif\">&#9679;</font>  \n",
       "          </p> \n",
       "        </td>     \n",
       "        <td style=\"WIDTH: 96%; VERTICAL-ALIGN: top\">    \n",
       "          <p id=\"PARA1592\" style=\"TEXT-ALIGN: left; MARGIN: 0pt; LINE-HEIGHT: 1.25\"> \n",
       "            <font style=\"FONT-SIZE: 10pt; FONT-FAMILY: Times New Roman, Times, serif\">The price to the customer is fixed and determinable; and</font>  \n",
       "          </p> \n",
       "        </td>     \n",
       "      </tr>   \n",
       "    </table><br><table id=\"TBL1598\" style=\"FONT-SIZE: 10pt; FONT-FAMILY: Times New Roman, Times, serif; WIDTH: 100%; TEXT-INDENT: 0px\" cellspacing=\"0\" cellpadding=\"0\" border=\"0\">   \n",
       "      <tr>  \n",
       "        <td style=\"WIDTH: 1.8%; VERTICAL-ALIGN: top\">     \n",
       "          <p id=\"PARA1595\" style=\"TEXT-ALIGN: left; MARGIN: 0pt; LINE-HEIGHT: 1.25\"> \n",
       "            <font style=\"FONT-SIZE: 10pt; FONT-FAMILY: Times New Roman, Times, serif\">&#160;</font> \n",
       "          </p> \n",
       "        </td>     \n",
       "        <td style=\"WIDTH: 2.1%; VERTICAL-ALIGN: top\">     \n",
       "          <p id=\"PARA1596\" style=\"TEXT-ALIGN: left; MARGIN: 0pt; LINE-HEIGHT: 1.25\"> \n",
       "            <font style=\"FONT-SIZE: 10pt; FONT-FAMILY: Times New Roman, Times, serif\">&#9679;</font>  \n",
       "          </p> \n",
       "        </td>     \n",
       "        <td style=\"WIDTH: 96%; VERTICAL-ALIGN: top\">    \n",
       "          <p id=\"PARA1597\" style=\"TEXT-ALIGN: left; MARGIN: 0pt; LINE-HEIGHT: 1.25\"> \n",
       "            <font style=\"FONT-SIZE: 10pt; FONT-FAMILY: Times New Roman, Times, serif\">Collectability is reasonably assured.</font></p></td></tr></table>"
      ],
      "text/plain": [
       "<IPython.core.display.HTML object>"
      ]
     },
     "metadata": {},
     "output_type": "display_data"
    },
    {
     "data": {
      "text/html": [
       "<h1>China Media Inc. - Fiscal Year 2015</h1><p style=\"font: 10pt/normal Times New Roman, Times, Serif; margin: 0; text-align: justify\"><b><i>Revenue Recognition</i></b></p>\r",
       "\r",
       "<p style=\"font: 10pt/normal Times New Roman, Times, Serif; margin: 0; text-align: justify\">&#160;</p>\r",
       "\r",
       "<p style=\"font: 10pt/normal Times New Roman, Times, Serif; margin: 0; text-align: justify\">The Company&#146;s revenue primarily\r",
       "comes from the distribution of film and TV series&#146; broadcasting rights and investment return from the collectively produced\r",
       "film and TV series.</p>\r",
       "\r",
       "<p style=\"font: 10pt/normal Times New Roman, Times, Serif; margin: 0; text-align: justify\">&#160;</p>\r",
       "\r",
       "<p style=\"font: 10pt/normal Times New Roman, Times, Serif; margin: 0; text-align: justify\">In accordance with ASC 926, Entertainment\r",
       "- Films, revenue from sale or licensing arrangements of a film shall be recognized when the following five revenue criteria are\r",
       "met: persuasive evidence of an arrangement exists, the film is completed and delivery has occurred, the license period of the arrangement\r",
       "has begun, the selling price is fixed or determinable, and collectability is reasonably assured.</p>\r",
       "\r",
       "<p style=\"font: 10pt/normal Times New Roman, Times, Serif; margin: 0; text-align: justify\">&#160;</p>\r",
       "\r",
       "<p style=\"font: 10pt/normal Times New Roman, Times, Serif; margin: 0; text-align: justify\">The Company also generates advertising\r",
       "revenues from the sale of advertising services. In the majority of advertising arrangements, the Company acts as an agent in the\r",
       "transaction and records advertising revenues on a net basis. Customer payments received in advance of the performance of services\r",
       "are recorded as customer deposits in the consolidated balance sheet, and are recognized as revenue when the advertising services\r",
       "are rendered.</p>"
      ],
      "text/plain": [
       "<IPython.core.display.HTML object>"
      ]
     },
     "metadata": {},
     "output_type": "display_data"
    },
    {
     "data": {
      "text/html": [
       "<h1>Cinedigm Corp. - Fiscal Year 2015</h1><div style=\"font-family:Times New Roman;font-size:10pt;\"><div style=\"line-height:120%;text-align:justify;font-size:10pt;\"><font style=\"font-family:inherit;font-size:10pt;font-weight:bold;\">REVENUE RECOGNITION</font></div><div style=\"line-height:120%;text-align:justify;font-size:10pt;\"><font style=\"font-family:inherit;font-size:10pt;\"><br clear=\"none\"></font></div><div style=\"line-height:120%;text-align:justify;font-size:10pt;\"><font style=\"font-family:inherit;font-size:10pt;font-style:italic;font-weight:bold;\">Phase I Deployment and Phase II Deployment</font></div><div style=\"line-height:120%;text-align:justify;font-size:10pt;\"><font style=\"font-family:inherit;font-size:10pt;\"><br clear=\"none\"></font></div><div style=\"line-height:120%;text-align:justify;font-size:10pt;\"><font style=\"font-family:inherit;font-size:10pt;\">Virtual print fees (&#8220;VPFs&#8221;) are earned, net of administrative fees, pursuant to contracts with movie studios and distributors, whereby amounts are payable by a studio to Phase 1 DC and to Phase 2 DC when movies distributed by the studio are displayed on screens utilizing our Systems installed in movie theatres. VPFs are earned and payable to Phase 1 DC based on a defined fee schedule with a reduced VPF rate year over year until the </font><font style=\"font-family:inherit;font-size:10pt;\">sixth</font><font style=\"font-family:inherit;font-size:10pt;\"> year at which point the VPF rate remains unchanged through the </font><font style=\"font-family:inherit;font-size:10pt;\">tenth</font><font style=\"font-family:inherit;font-size:10pt;\"> year. </font><font style=\"font-family:inherit;font-size:10pt;\">One</font><font style=\"font-family:inherit;font-size:10pt;\"> VPF is payable for every digital title displayed per System. The amount of VPF revenue is dependent on the number of movie titles released and displayed using the Systems in any given accounting period. VPF revenue is recognized in the period in which the digital title first plays on a System for general audience viewing in a digitally equipped movie theatre, as Phase 1 DC&#8217;s and Phase 2 DC&#8217;s performance obligations have been substantially met at that time.</font></div><div style=\"line-height:120%;text-align:justify;font-size:10pt;\"><font style=\"font-family:inherit;font-size:10pt;\"><br clear=\"none\"></font></div><div style=\"line-height:120%;text-align:justify;font-size:10pt;\"><font style=\"font-family:inherit;font-size:10pt;\">Phase 2 DC&#8217;s agreements with distributors require the payment of VPFs, according to a defined fee schedule, for </font><font style=\"font-family:inherit;font-size:10pt;\">ten</font><font style=\"font-family:inherit;font-size:10pt;\"> years from the date each system is installed; however, Phase 2 DC may no longer collect VPFs once &#8220;cost recoupment,&#8221; as defined in the agreements, is achieved. Cost recoupment will occur once the cumulative VPFs and other cash receipts collected by Phase 2 DC have equaled the total of all cash outflows, including the purchase price of all Systems, all financing costs, all &#8220;overhead and ongoing costs&#8221;, as defined, and including service fees, subject to maximum agreed upon amounts during the three-year rollout period and thereafter. Further, if cost recoupment occurs before the end of the </font><font style=\"font-family:inherit;font-size:10pt;\">eighth</font><font style=\"font-family:inherit;font-size:10pt;\"> contract year, the studios will pay us a one-time &#8220;cost recoupment bonus.&#8221;&#160; Any other cash flows, net of expenses, received by Phase 2 DC following the achievement of cost recoupment are required to be returned to the distributors on a pro-rata basis. At this time, we cannot estimate the timing or probability of the achievement of cost recoupment.</font></div><div style=\"line-height:120%;text-align:justify;font-size:10pt;\"><font style=\"font-family:inherit;font-size:10pt;\"><br clear=\"none\"></font></div><div style=\"line-height:120%;text-align:justify;font-size:10pt;\"><font style=\"font-family:inherit;font-size:10pt;\">Alternative content fees (&#8220;ACFs&#8221;) are earned pursuant to contracts with movie exhibitors, whereby amounts are payable to Phase 1 DC and to Phase 2 DC, generally either a fixed amount or as a percentage of the applicable box office revenue derived from the exhibitor&#8217;s showing of content other than feature movies, such as concerts and sporting events (typically referred to as &#8220;alternative content&#8221;). ACF revenue is recognized in the period in which the alternative content first opens for audience viewing.</font></div><div style=\"line-height:120%;text-align:justify;font-size:10pt;\"><font style=\"font-family:inherit;font-size:10pt;\"><br clear=\"none\"></font></div><div style=\"line-height:120%;text-align:justify;font-size:10pt;\"><font style=\"font-family:inherit;font-size:10pt;\">Revenues earned in connection with up front exhibitor contributions are deferred and recognized over the expected cost recoupment period.</font></div><div style=\"line-height:120%;text-align:left;font-size:10pt;\"><font style=\"font-family:inherit;font-size:10pt;\"><br clear=\"none\"></font></div><div style=\"line-height:120%;text-align:justify;font-size:10pt;\"><font style=\"font-family:inherit;font-size:10pt;font-style:italic;font-weight:bold;\">Services</font></div><div style=\"line-height:120%;text-align:justify;font-size:10pt;\"><font style=\"font-family:inherit;font-size:10pt;\"><br clear=\"none\"></font></div><div style=\"line-height:120%;text-align:justify;font-size:10pt;\"><font style=\"font-family:inherit;font-size:10pt;\">Exhibitors who purchased and own Systems using their own financing in the Phase II Deployment paid us an upfront activation fee of approximately </font><font style=\"font-family:inherit;font-size:10pt;\"><span data-cbfactid=\"-1\" data-cbnumtext=\"$2000.0\" data-cbnetworkid=\"24378284\">$2.0</span> thousand</font><font style=\"font-family:inherit;font-size:10pt;\"> per screen (the &#8220;Exhibitor-Buyer Structure&#8221;). Upfront activation fees were recognized in the period in which these Systems were delivered and ready for content, as we had no further obligations to the customer after that time and collection was reasonably assured. In addition, we recognize activation fee revenue of between </font><font style=\"font-family:inherit;font-size:10pt;\"><span data-cbfactid=\"-1\" data-cbnumtext=\"$1000.0\" data-cbnetworkid=\"24378284\">$1.0</span> thousand</font><font style=\"font-family:inherit;font-size:10pt;\"> and </font><font style=\"font-family:inherit;font-size:10pt;\"><span data-cbfactid=\"-1\" data-cbnumtext=\"$2000.0\" data-cbnetworkid=\"24378284\">$2.0</span> thousand</font><font style=\"font-family:inherit;font-size:10pt;\"> on Phase 2 DC Systems and for Systems installed by CDF2 Holdings (See Note 5 - </font><font style=\"font-family:inherit;font-size:10pt;font-style:italic;\">Other Interests</font><font style=\"font-family:inherit;font-size:10pt;\">) upon installation and such fees are generally collected upfront upon installation. Our services segment manages and collects VPFs on behalf of exhibitors, for which it earns an administrative fee equal to </font><font style=\"font-family:inherit;font-size:10pt;\" data-cbfactid=\"-1\" data-cbnumtext=\"10%\" data-cbnetworkid=\"24378284\">10%</font><font style=\"font-family:inherit;font-size:10pt;\"> of the VPFs collected.</font></div><div style=\"line-height:120%;text-align:justify;font-size:10pt;\"><font style=\"font-family:inherit;font-size:10pt;\"><br clear=\"none\"></font></div><div style=\"line-height:120%;text-align:justify;font-size:10pt;\"><font style=\"font-family:inherit;font-size:10pt;\">Our Services segment earns an administrative fee of approximately </font><font style=\"font-family:inherit;font-size:10pt;\" data-cbfactid=\"-1\" data-cbnumtext=\"5%\" data-cbnetworkid=\"24378284\">5%</font><font style=\"font-family:inherit;font-size:10pt;\"> of VPFs collected and, in addition, earns an incentive service fee equal to </font><font style=\"font-family:inherit;font-size:10pt;\" data-cbfactid=\"98819079\" data-cbnetworkid=\"24378284\">2.5%</font><font style=\"font-family:inherit;font-size:10pt;\"> of the VPFs earned by Phase 1 DC. This administrative fee is recognized in the period in which the billing of VPFs occurs, as performance obligations have been substantially met at that time.</font></div><div style=\"line-height:120%;text-align:justify;font-size:10pt;\"><font style=\"font-family:inherit;font-size:10pt;\"><br clear=\"none\"></font></div><div style=\"line-height:120%;text-align:justify;font-size:10pt;\"><font style=\"font-family:inherit;font-size:10pt;font-style:italic;font-weight:bold;\">Content &amp; Entertainment</font></div><div style=\"line-height:120%;text-align:justify;font-size:10pt;\"><font style=\"font-family:inherit;font-size:10pt;\"><br clear=\"none\"></font></div><div style=\"line-height:120%;text-align:justify;font-size:10pt;\"><font style=\"font-family:inherit;font-size:10pt;\">CEG earns fees for the distribution of content in the home entertainment markets via several distribution channels, including digital, VOD, and physical goods (e.g. DVD and Blu-ray Discs). Fees earned are typically based on the gross amounts billed to our customers less the amounts owed to the media studios or content producers under distribution agreements, and gross media sales of owned or licensed content. Depending upon the nature of the agreements with the platform and content providers, the fee rate that we earn varies. Generally, revenues are recognized when content is available for subscription on the digital platform, at the time of shipment for physical goods, or point-of-sale for transactional and VOD services. Reserves for sales returns and other allowances are recorded based upon historical experience. If actual future returns and allowances differ from past experience, adjustments to our allowances may be required. Sales returns and allowances are reported as a reduction of revenues. </font></div><div style=\"line-height:120%;text-align:justify;font-size:10pt;\"><font style=\"font-family:inherit;font-size:10pt;\"><br clear=\"none\"></font></div><div style=\"line-height:120%;text-align:justify;font-size:10pt;\"><font style=\"font-family:inherit;font-size:10pt;\">CEG also has contracts for the theatrical distribution of third party feature movies and alternative content. CEG&#8217;s distribution fee revenue and CEG's participation in box office receipts is recognized at the time a feature movie and alternative content are viewed. CEG has the right to receive or bill a portion of the theatrical distribution fee in advance of the exhibition date, and therefore such amount is recorded as a receivable at the time of execution, and all related distribution revenue is deferred until the third party feature movies&#8217; or alternative content&#8217;s theatrical release date. </font></div></div>"
      ],
      "text/plain": [
       "<IPython.core.display.HTML object>"
      ]
     },
     "metadata": {},
     "output_type": "display_data"
    },
    {
     "data": {
      "text/html": [
       "<h1>Crimson Forest Entertainment Group Inc. - Fiscal Year 2014</h1><p style=\"margin: 0pt\">\r",
       "\r",
       "<p style=\"font: 10pt Times New Roman, Times, Serif; margin: 0; text-align: justify\"><b><i>Revenue Recognition</i></b></p>\r",
       "\r",
       "<p style=\"font: 10pt Times New Roman, Times, Serif; margin: 0; text-align: center; text-indent: 0.5in\">&#160;</p>\r",
       "\r",
       "<p style=\"font: 10pt Times New Roman, Times, Serif; margin: 0; text-align: justify\">The Company recognizes revenue from the sale\r",
       "(minimum guarantee or non-refundable advances) or licensing arrangement (royalty agreements) of a film in accordance with ASC 926\r",
       "&#147;<i>Revenue Recognition, Entertainment &#150; Films</i>&#148;. Revenue will be recognized only when all of the following\r",
       "criteria have been met:</p>\r",
       "\r",
       "<p style=\"font: 10pt Times New Roman, Times, Serif; margin: 0; text-align: justify; text-indent: 0.5in\">&#160;</p>\r",
       "\r",
       "<p style=\"font: 10pt Times New Roman, Times, Serif; margin: 0; text-align: justify\">a) Persuasive evidence of a sale or licensing\r",
       "arrangement with a customer exists.</p>\r",
       "\r",
       "<p style=\"font: 10pt Times New Roman, Times, Serif; margin: 0; text-align: justify; text-indent: 0.5in\">&#160;</p>\r",
       "\r",
       "<p style=\"font: 10pt Times New Roman, Times, Serif; margin: 0; text-align: justify\">b) The film is complete and, in accordance\r",
       "with the terms of the arrangement, has been delivered or is available for immediate and unconditional delivery. (i.e. the &#147;notice\r",
       "of delivery&#148; (&#147;NOD&#148;) has been sent and there is a master negative available for the customer).</p>\r",
       "\r",
       "<p style=\"font: 10pt Times New Roman, Times, Serif; margin: 0; text-align: justify; text-indent: 0.5in\">&#160;</p>\r",
       "\r",
       "<p style=\"font: 10pt Times New Roman, Times, Serif; margin: 0; text-align: justify\">c) The license period of the arrangement has\r",
       "begun and the customer can begin its exploitation, exhibition, or sale.</p>\r",
       "\r",
       "<p style=\"font: 10pt Times New Roman, Times, Serif; margin: 0; text-align: justify; text-indent: 0.5in\">&#160;</p>\r",
       "\r",
       "<p style=\"font: 10pt Times New Roman, Times, Serif; margin: 0; text-align: justify\">d) The arrangement fee is fixed or determinable.</p>\r",
       "\r",
       "<p style=\"font: 10pt Times New Roman, Times, Serif; margin: 0; text-align: justify; text-indent: 0.5in\">&#160;</p>\r",
       "\r",
       "<p style=\"font: 10pt Times New Roman, Times, Serif; margin: 0; text-align: justify\">e) Collection of the arrangement fee is reasonably\r",
       "assured.</p>"
      ],
      "text/plain": [
       "<IPython.core.display.HTML object>"
      ]
     },
     "metadata": {},
     "output_type": "display_data"
    },
    {
     "data": {
      "text/html": [
       "<h1>DreamWorks Animation SKG, Inc. - Fiscal Year 2014</h1><div style=\"font-family:Times New Roman;font-size:10pt;\"><div style=\"line-height:120%;font-size:10pt;\"><font style=\"font-family:inherit;font-size:10pt;font-style:italic;font-weight:bold;\">Revenue Recognition</font></div><div style=\"line-height:120%;font-size:8pt;\"><font style=\"font-family:inherit;font-size:8pt;font-style:italic;font-weight:bold;\">&#160;</font></div><div style=\"line-height:120%;text-indent:36px;font-size:10pt;\"><font style=\"font-family:inherit;font-size:10pt;\">The Company recognizes revenue from the distribution of its animated feature films when earned and reported to it by its distributors. Pursuant to the Company's distribution arrangements with Fox, Paramount and ODW, the Company recognizes revenues derived from its feature films net of reserves for returns, rebates and other incentives after the particular distributor has retained its respective distribution fees (without deduction for any distribution and marketing costs or third-party distribution and fulfillment services fees) and recovered all of its permissible distribution and marketing costs with respect to the Company&#8217;s films on a title-by-title basis. Fox retains a fee of </font><font style=\"font-family:Times New Roman;font-size:10pt;color:#000000;font-style:normal;font-weight:normal;text-decoration:none;\" data-cbfactid=\"-1\" data-cbnumtext=\"8.0%\" data-cbnetworkid=\"21785498\">8.0%</font><font style=\"font-family:inherit;font-size:10pt;\"> of all theatrical gross receipts and home video gross receipts, except in connection with certain pay television and video-on-demand rights and other digital distribution rights, for which the fee is </font><font style=\"font-family:Times New Roman;font-size:10pt;color:#000000;font-style:normal;font-weight:normal;text-decoration:none;\" data-cbfactid=\"89767534\" data-cbnetworkid=\"21785498\">6.0%</font><font style=\"font-family:inherit;font-size:10pt;\">. Paramount retains a distribution fee of </font><font style=\"font-family:inherit;font-size:10pt;\" data-cbfactid=\"-1\" data-cbnumtext=\"8.0%\" data-cbnetworkid=\"21785498\">8.0%</font><font style=\"font-family:inherit;font-size:10pt;\"> of revenues across all markets. ODW retains a fee of </font><font style=\"font-family:Times New Roman;font-size:10pt;color:#000000;font-style:normal;font-weight:normal;text-decoration:none;\" data-cbfactid=\"-1\" data-cbnumtext=\"8.0%\" data-cbnetworkid=\"21785498\">8.0%</font><font style=\"font-family:inherit;font-size:10pt;\"> of all gross receipts for the markets in which it distributes. For further discussion of the Company's primary distribution arrangements, refer to Note 4.</font></div><div style=\"line-height:120%;text-indent:36px;font-size:10pt;\"><font style=\"font-family:inherit;font-size:10pt;\"><br clear=\"none\"></font></div><div style=\"line-height:120%;text-indent:36px;font-size:10pt;\"><font style=\"font-family:inherit;font-size:10pt;\">Additionally, because third parties are the principal distributors of the Company&#8217;s films, the amount of revenue that is recognized from films in any given period is dependent on the timing, accuracy and sufficiency of the information received from its distributors. As is typical in the film industry, the Company's distributors may make adjustments in future periods to information previously provided to the Company that could have a material impact on the Company&#8217;s operating results in later periods. Furthermore, management may, in its judgment, make material adjustments to the information reported by its distributors in future periods to ensure that revenues are accurately reflected in the Company&#8217;s financial statements. To date, the distributors have not made, nor has the Company made, subsequent material adjustments to information provided by the distributors and used in the preparation of the Company&#8217;s historical financial statements.</font></div><div style=\"line-height:120%;text-indent:36px;font-size:10pt;\"><font style=\"font-family:inherit;font-size:10pt;\"><br clear=\"none\"></font></div><div style=\"line-height:120%;text-indent:36px;font-size:10pt;\"><font style=\"font-family:inherit;font-size:10pt;\">Revenue from the theatrical exhibition of films is recognized at the later of when a film is exhibited in theaters or when revenue is reported by the Company's distributors.</font></div><div style=\"line-height:120%;text-indent:36px;font-size:10pt;\"><font style=\"font-family:inherit;font-size:10pt;\"><br clear=\"none\"></font></div><div style=\"line-height:120%;text-indent:36px;font-size:10pt;\"><font style=\"font-family:inherit;font-size:10pt;\">Revenue from both free and pay television licensing agreements for the Company&#8217;s films is recognized at the later of the time the production is made available for exhibition in those markets or it is reported by its distributors.</font></div><div style=\"line-height:120%;text-indent:36px;font-size:10pt;\"><font style=\"font-family:inherit;font-size:10pt;\"><br clear=\"none\"></font></div><div style=\"line-height:120%;text-indent:36px;font-size:10pt;\"><font style=\"font-family:inherit;font-size:10pt;\">The Company has also entered into licensing arrangements directly with third parties to digitally distribute its feature film and television series/specials content. Revenues from content not subject to the Company's distribution arrangements with its primary distributors are recorded on a gross basis.</font></div><div style=\"line-height:120%;text-indent:36px;font-size:10pt;\"><font style=\"font-family:inherit;font-size:10pt;\"><br clear=\"none\"></font></div><div style=\"line-height:120%;text-indent:36px;font-size:10pt;\"><font style=\"font-family:inherit;font-size:10pt;\">The Company's television series/specials are also distributed in the television markets through license arrangements. Such revenues are recorded on a gross basis as they are not typically subject to the distribution arrangements with the Company's primary distributors and, accordingly, the Company receives payment and records revenues directly from third parties. Television market revenue generated from television series/specials is recognized at the later of the time when the content has been delivered to and accepted by the licensee or the commencement of the license term. </font></div><div style=\"line-height:120%;text-indent:36px;font-size:10pt;\"><font style=\"font-family:inherit;font-size:10pt;\"><br clear=\"none\"></font></div><div style=\"line-height:120%;text-indent:36px;font-size:10pt;\"><font style=\"font-family:inherit;font-size:10pt;\">Revenue from the sale of feature film home video units is recognized at the later of when product is made available for retail sale and&#160;when sales to customers are reported by third parties, such as fulfillment service providers or distributors. Revenue from the sale of home video units for other content (such as television series/specials) is recorded on a gross basis (because the Company is considered the principal in the transactions) and is recognized when the criteria for revenue recognition have been met. Certain of the Company's home video distribution arrangements for its non-feature film content include non-refundable, but recoupable, minimum guarantees. Minimum guarantees that are not fully recouped are recognized as revenue once the minimum guarantee period has expired and the Company is able to determine the amount of remaining revenues to be recognized. The criteria the Company evaluates to determine whether it is able to recognize revenue includes persuasive evidence of an arrangement exists, the price is fixed and determinable, delivery has occurred or services have been rendered, risk of inventory loss has transferred and collectibility is reasonably assured. </font></div><div style=\"line-height:120%;text-indent:36px;font-size:10pt;\"><font style=\"font-family:inherit;font-size:10pt;\"><br clear=\"none\"></font></div><div style=\"line-height:120%;text-indent:36px;font-size:10pt;\"><font style=\"font-family:inherit;font-size:10pt;\">In addition, the Company and its distributors provide for future returns of home video product and for customer programs and sales incentives. The Company and its distributors calculates these estimates by analyzing a combination of historical returns, current economic trends, projections of consumer demand for the Company&#8217;s product and point-of-sale data available from certain retailers. Based on this information, a percentage of each sale is reserved. Customers are typically given varying rights of return, which may include <span data-cbfactid=\"89768861\" data-cbnetworkid=\"21785498\">100%</span> return rights. Although the Company and its distributors allow various rights of return for customers, management does not believe that these rights are critical in establishing return estimates, because other factors, such as historical experience with similar types of sales, information received from retailers and management&#8217;s assessment of the product&#8217;s appeal based on domestic box office success and other research, are more important to the estimation process.</font><font style=\"font-family:inherit;font-size:10pt;font-weight:bold;\"> </font></div><div style=\"line-height:120%;text-indent:36px;font-size:10pt;\"><font style=\"font-family:inherit;font-size:10pt;\"><br clear=\"none\"></font></div><div style=\"line-height:120%;text-indent:36px;font-size:10pt;\"><font style=\"font-family:inherit;font-size:10pt;\">Revenue from merchandising and other licensing arrangements is recognized when the associated feature film or television series/special has been released and the criteria for revenue recognition have been met. The criteria that the Company uses to evaluate whether it is able to recognize revenue include the following: persuasive evidence of an arrangement exists, the price is fixed and determinable, delivery has occurred or services have been rendered (including whether the license term has commenced) and collectibility is reasonably assured. Licensing and merchandising related minimum guarantees are generally recognized as revenue upon the theatrical release of a film and royalty-based revenues (revenues based upon a percentage of net sales of the products) are generally recognized as revenue in periods when royalties are reported by licensees or cash is received.</font></div><div style=\"line-height:120%;text-indent:36px;font-size:10pt;\"><font style=\"font-family:inherit;font-size:10pt;\"><br clear=\"none\"></font></div><div style=\"line-height:120%;text-indent:36px;font-size:10pt;\"><font style=\"font-family:inherit;font-size:10pt;\">Certain of the Company's arrangements may qualify as multiple deliverable arrangements if the licensee is granted the right to exploit more than one of the Company's titles or properties. The license period for each property under a multiple deliverable arrangement may vary by title or property. Revenue associated with multiple deliverable arrangements is allocated to each title or property based on relative selling price. In determining the relative selling price of each title or property, the Company considers a variety of factors including (but not limited to) the period of time a title or property has already been exploited in the marketplace, whether the title is a sequel, the duration of the license period being granted, similar arrangements and type of content or property being licensed. Revenue for each title or property will be recognized when it is available to the licensee for exploitation.</font></div><div style=\"line-height:120%;text-indent:36px;font-size:10pt;\"><font style=\"font-family:inherit;font-size:10pt;\"><br clear=\"none\"></font></div><div style=\"line-height:120%;text-indent:36px;font-size:10pt;\"><font style=\"font-family:inherit;font-size:10pt;\">As a result of one of the Company's agreements with Netflix, it is currently developing and producing original episodic content in order to fulfill its obligations under the agreement. In cases where a television series is based on characters from one of the Company's feature films, a portion of the third-party revenues generated by the new series is allocated to the feature film title from which the series originated. This revenue allocation represents a license fee charged to the television series for use of intellectual property derived from the related feature film.  </font></div><div style=\"line-height:120%;text-indent:36px;font-size:10pt;\"><font style=\"font-family:inherit;font-size:10pt;\"><br clear=\"none\"></font></div><div style=\"line-height:120%;text-indent:36px;font-size:10pt;\"><font style=\"font-family:inherit;font-size:10pt;\">Long-term, non-interest-bearing receivables arising from licensing agreements are discounted to present value. Accordingly, revenues are recorded net of such discount. Interest income is recognized from the imputation of interest in accordance with the effective interest rate method and classified as \"Interest income, net\" in the Company's consolidated statements of operations.</font></div><div style=\"line-height:120%;text-indent:36px;font-size:10pt;\"><font style=\"font-family:inherit;font-size:10pt;\"><br clear=\"none\"></font></div></div>"
      ],
      "text/plain": [
       "<IPython.core.display.HTML object>"
      ]
     },
     "metadata": {},
     "output_type": "display_data"
    },
    {
     "data": {
      "text/html": [
       "<h1>Gaia, Inc - Fiscal Year 2014</h1><div>\n",
       " <p style=\"MARGIN-BOTTOM: 0pt; WHITE-SPACE: normal; TEXT-TRANSFORM: none; WORD-SPACING: 0px; COLOR: rgb(0,0,0); FONT: 10pt 'Times New Roman'; WIDOWS: 1; MARGIN-TOP: 0pt; LETTER-SPACING: normal; TEXT-INDENT: 0px; -webkit-text-stroke-width: 0px\">\n",
       " <i>Revenue</i></p>\n",
       " <p style=\"MARGIN-BOTTOM: 0pt; WHITE-SPACE: normal; TEXT-TRANSFORM: none; WORD-SPACING: 0px; COLOR: rgb(0,0,0); FONT: 10pt 'Times New Roman'; WIDOWS: 1; MARGIN-TOP: 6pt; LETTER-SPACING: normal; TEXT-INDENT: 0px; -webkit-text-stroke-width: 0px\">\n",
       " We recognize revenue in our Gaiam Brand segment when the goods are\n",
       " shipped to the customer and collection is either probable or has\n",
       " occurred. The amount of revenue recognized is net of estimated\n",
       " returns and other chargebacks (or channel credits), which are\n",
       " estimated using historical return and credit rates. If the actual\n",
       " amount of returns and chargebacks were to vary significantly from\n",
       " our estimates, it could materially impact our results of operations\n",
       " in subsequent periods. We recognize amounts billed to customers for\n",
       " postage and handling as revenue at the same time we recognize the\n",
       " revenue arising from the product sale. Travel revenues are\n",
       " recognized in the period which the trip begins. We recognize\n",
       " revenue in our Gaiam TV segment ratably over the subscription\n",
       " period after collection has occurred. We present revenue net of\n",
       " taxes collected from customers.</p>\n",
       " <br class=\"Apple-interchange-newline\"></div>"
      ],
      "text/plain": [
       "<IPython.core.display.HTML object>"
      ]
     },
     "metadata": {},
     "output_type": "display_data"
    },
    {
     "data": {
      "text/html": [
       "<h1>Goliath Film & Media Holdings - Fiscal Year 2014</h1><p style=\"margin: 0pt\">\r",
       "\r",
       "<p style=\"font: 10pt Times New Roman, Times, Serif; margin: 0; text-align: justify\"><u>Revenue Recognition</u></p>\r",
       "\r",
       "<p style=\"font: 10pt Times New Roman, Times, Serif; margin: 0; text-align: justify; text-indent: 0.5in\">&#160;</p>\r",
       "\r",
       "<p style=\"font: 10pt Times New Roman, Times, Serif; margin: 0; text-align: justify\">We will recognize revenues in accordance with\r",
       "the guidelines of the Securities and Exchange Commission (&#147;SEC&#148;) Staff Accounting Bulletin (&#147;SAB&#148;) No.\r",
       "104 &#147;Revenue Recognition&#148;.</p>\r",
       "\r",
       "<p style=\"font: 10pt Times New Roman, Times, Serif; margin: 0; text-align: justify; text-indent: 0.5in\">&#160;</p>\r",
       "\r",
       "<p style=\"font: 10pt Times New Roman, Times, Serif; margin: 0; text-align: justify\">Under SAB 104, four conditions must be met\r",
       "before revenue can be recognized: (i) there is persuasive evidence that an arrangement exists, (ii) delivery has occurred or service\r",
       "has been rendered, (iii) the price is fixed or determinable, and (iv) collection is reasonably assured. The Company provides for\r",
       "an allowance for doubtful account based history and experience considering economic and industry trends. The Company does not have\r",
       "any off-Balance Sheet exposure related to its customers.</p>\r",
       "\r",
       "<p style=\"font: 10pt Times New Roman, Times, Serif; margin: 0; text-align: justify; text-indent: 0.5in\">&#160;</p>\r",
       "\r",
       "<p style=\"font: 10pt Times New Roman, Times, Serif; margin: 0; text-align: justify\">Goliath Film and Media International, intends\r",
       "to develop and license for distribution quality motion picture and television content. Revenue is recognized when the company receives\r",
       "a contract for the license of its content and its content is delivered to the customer.</p>\r",
       "\r",
       "<p style=\"font: 10pt Times New Roman, Times, Serif; margin: 0; text-align: justify; text-indent: 0.5in\">&#160;</p>\r",
       "\r",
       "<p style=\"font: 10pt Times New Roman, Times, Serif; margin: 0; text-align: justify\">The Company currently does not have a means\r",
       "for generating revenue. Revenue and cost recognition procedures will be implemented based on the type of properties required and\r",
       "sale contract specifications.</p>"
      ],
      "text/plain": [
       "<IPython.core.display.HTML object>"
      ]
     },
     "metadata": {},
     "output_type": "display_data"
    },
    {
     "data": {
      "text/html": [
       "<h1>Jerrick Media Holdings, Inc. - Fiscal Year 2014</h1><!--egx--><p style='margin:0in;margin-bottom:.0001pt;text-autospace:none;text-align:justify'><b>Recognition of Sales Revenue </b></p> <p style='margin:0in;margin-bottom:.0001pt;text-autospace:none;text-align:justify'>Revenue is recognized upon the completion of the sales and shipment of the product.&#160; The product is sold via the internet and is delivered to customers or to wholesale resellers using a ground courier service.</p>"
      ],
      "text/plain": [
       "<IPython.core.display.HTML object>"
      ]
     },
     "metadata": {},
     "output_type": "display_data"
    },
    {
     "data": {
      "text/html": [
       "<h1>Lions Gate Entertainment Corp /CN/ - Fiscal Year 2015</h1><div style=\"font-family:Times New Roman;font-size:10pt;\"><div style=\"line-height:120%;padding-top:8px;text-align:left;text-indent:8px;font-size:10pt;\"><font style=\"font-family:inherit;font-size:10pt;font-style:italic;font-weight:bold;\">Revenue Recognition</font></div><div style=\"line-height:120%;padding-top:8px;text-align:left;text-indent:20px;font-size:10pt;\"><font style=\"font-family:inherit;font-size:10pt;\">Revenue from the theatrical release of feature films is recognized at the time of exhibition based on the Company's participation in box office receipts. Revenue from the sale of DVDs and Blu-ray discs in the retail market, net of an allowance for estimated returns and other allowances, is recognized on the later of receipt by the customer or &#8220;street date&#8221; (when it is available for sale by the customer). Under revenue sharing arrangements, including digital and electronic-sell-through (\"EST\") arrangements, such as download-to-own, download-to-rent, video-on-demand and subscription video-on-demand, revenue is recognized when the Company is entitled to receipts and such receipts are determinable. Revenues from television or digital licensing for fixed fees are recognized when the feature film or television program is available to the licensee for telecast. For television licenses that include separate availability &#8220;windows&#8221; during the license period, revenue is allocated over the &#8220;windows.&#8221; Revenue from sales to international territories are recognized when access to the feature film or television program has been granted or delivery has occurred, as required under the sales contract, and the right to exploit the feature film or television program has commenced. For multiple media rights contracts with a fee for a single film or television program where the contract provides for media holdbacks (defined as contractual media release restrictions), the fee is allocated to the various media based on the Company's assessment of the relative fair value of the rights to exploit each media and is recognized as each holdback is released. For multiple-title contracts with a fee, the fee is allocated on a title-by-title basis, based on the Company's assessment of the relative fair value of each title.</font></div><div style=\"line-height:120%;padding-top:8px;text-align:left;text-indent:20px;font-size:10pt;\"><font style=\"font-family:inherit;font-size:10pt;\">Cash payments received are recorded as deferred revenue until all the conditions of revenue recognition have been met. Long-term, non-interest bearing receivables are discounted to present value. Such unamortized discounts were </font><font style=\"font-family:inherit;font-size:10pt;\"><span data-cbfactid=\"98088569\" data-cbnetworkid=\"24157541\">$10.2</span> million</font><font style=\"font-family:inherit;font-size:10pt;\"> and </font><font style=\"font-family:inherit;font-size:10pt;color:#000000;text-decoration:none;\"><span data-cbfactid=\"98088568\" data-cbnetworkid=\"24157541\">$12.1</span> million</font><font style=\"font-family:inherit;font-size:10pt;\"> at March 31, 2015 and 2014, respectively. At </font><font style=\"font-family:inherit;font-size:10pt;\">March&#160;31, 2015</font><font style=\"font-family:inherit;font-size:10pt;\">, </font><font style=\"font-family:inherit;font-size:10pt;\"><span data-cbfactid=\"98087146\" data-cbnetworkid=\"24157541\">$164.5</span> million</font><font style=\"font-family:inherit;font-size:10pt;\"> of accounts receivable are due beyond one year. The accounts receivable are due as follows: </font><font style=\"font-family:inherit;font-size:10pt;\"><span data-cbfactid=\"98086468\" data-cbnetworkid=\"24157541\">$105.2</span> million</font><font style=\"font-family:inherit;font-size:10pt;\"> in fiscal </font><font style=\"font-family:inherit;font-size:10pt;\">2017</font><font style=\"font-family:inherit;font-size:10pt;\">, </font><font style=\"font-family:inherit;font-size:10pt;\"><span data-cbfactid=\"98086467\" data-cbnetworkid=\"24157541\">$26.8</span> million</font><font style=\"font-family:inherit;font-size:10pt;\"> in fiscal </font><font style=\"font-family:inherit;font-size:10pt;color:#000000;text-decoration:none;\">2018</font><font style=\"font-family:inherit;font-size:10pt;\">, </font><font style=\"font-family:inherit;font-size:10pt;\"><span data-cbfactid=\"98086465\" data-cbnetworkid=\"24157541\">$25.7</span> million</font><font style=\"font-family:inherit;font-size:10pt;\"> in fiscal </font><font style=\"font-family:inherit;font-size:10pt;\">2019</font><font style=\"font-family:inherit;font-size:10pt;\">, </font><font style=\"font-family:inherit;font-size:10pt;\"><span data-cbfactid=\"98086464\" data-cbnetworkid=\"24157541\">$5.5</span> million</font><font style=\"font-family:inherit;font-size:10pt;\"> in fiscal </font><font style=\"font-family:inherit;font-size:10pt;color:#000000;text-decoration:none;\">2020</font><font style=\"font-family:inherit;font-size:10pt;\">, </font><font style=\"font-family:inherit;font-size:10pt;\"><span data-cbfactid=\"98086466\" data-cbnetworkid=\"24157541\">$0.6</span> million</font><font style=\"font-family:inherit;font-size:10pt;\"> in fiscal </font><font style=\"font-family:inherit;font-size:10pt;color:#000000;text-decoration:none;\">2021</font><font style=\"font-family:inherit;font-size:10pt;\">, and </font><font style=\"font-family:inherit;font-size:10pt;\"><span data-cbfactid=\"98086463\" data-cbnetworkid=\"24157541\">$0.7</span> million</font><font style=\"font-family:inherit;font-size:10pt;\"> thereafter.</font></div></div>"
      ],
      "text/plain": [
       "<IPython.core.display.HTML object>"
      ]
     },
     "metadata": {},
     "output_type": "display_data"
    },
    {
     "data": {
      "text/html": [
       "<h1>Marcus Corp - Fiscal Year 2015</h1><div style=\"MARGIN: 0pt 0px; FONT: 10pt Times New Roman, Times, Serif \"> <div style=\"CLEAR:both; FONT-FAMILY:Times New Roman;FONT-SIZE: 10pt;TEXT-INDENT: 27.5pt; MARGIN: 0in 0in 0pt\" align=\"justify\"></div> <div style=\"CLEAR:both; FONT-FAMILY:Times New Roman;FONT-SIZE: 10pt;MARGIN: 0in 0in 0pt\" align=\"justify\"><b><font style=\"FONT-SIZE: 10pt\">Revenue Recognition -</font></b> <font style=\"FONT-SIZE: 10pt\">The Company recognizes revenue from its rooms as earned on the close of business each day. Revenues from theatre admissions, concessions and food and beverage sales are recognized at the time of sale. Revenues from advanced ticket and gift certificate sales are recorded as deferred revenue and are recognized when tickets or gift certificates are redeemed. The Company had deferred revenue of $<font style=\"FONT-FAMILY: 'Times New Roman','serif'; FONT-SIZE: 10pt\" data-cbfactid=\"102688702\">18,502,000</font> and $<font style=\"FONT-FAMILY: 'Times New Roman','serif'; FONT-SIZE: 10pt\" data-cbfactid=\"102688703\">16,028,000</font>, which is included in other accrued liabilities as of May 28, 2015 and May 29, 2014, respectively. Gift card breakage income is recognized based upon historical redemption patterns and represents the balance of gift cards for which the Company believes the likelihood of redemption by the customer is remote. Gift card breakage income is recorded in other revenues in the consolidated statements of earnings.</font></div> <div style=\"CLEAR:both; FONT-FAMILY:Times New Roman;FONT-SIZE: 10pt;TEXT-INDENT: 27.5pt; MARGIN: 0in 0in 0pt\" align=\"justify\"><font style=\"FONT-SIZE: 10pt\">&#160;</font></div> <div style=\"CLEAR:both; FONT-FAMILY:Times New Roman;FONT-SIZE: 10pt;MARGIN: 0in 0in 0pt\" align=\"justify\"><font style=\"FONT-SIZE: 10pt\">Other revenues include management fees for theatres and hotels under management agreements. The management fees are recognized as earned based on the terms of the agreements and include both base fees and incentive fees. Revenues do not include sales tax as the Company considers itself a pass-through conduit for collecting and remitting sales tax.</font></div> </div><table border=\"0\" style=\"width:100%; table-layout:fixed;\" cellspacing=\"0\" cellpadding=\"0\"><tr><td></td></tr></table>"
      ],
      "text/plain": [
       "<IPython.core.display.HTML object>"
      ]
     },
     "metadata": {},
     "output_type": "display_data"
    },
    {
     "data": {
      "text/html": [
       "<h1>Momentous Entertainment Group Inc - Fiscal Year 2014</h1><!--egx--><p style='text-align:justify;margin:0cm 0cm 0pt'><i><font lang=\"EN-US\">Revenue Recognition</font></i></p> <p style='text-align:justify;margin:0cm 0cm 0pt;text-indent:36pt'>&nbsp;</p> <p style='text-align:justify;margin:0cm 0cm 0pt;text-indent:36pt'><font lang=\"EN-US\">The Company follows ASC 605-10-S99-1 for revenue recognition. The Company recognizes revenue when it is realized or realizable and earned</font><font lang=\"EN-US\"> less estimated future doubtful accounts</font><font lang=\"EN-US\">. The Company considers revenue realized or realizable and earned when all of the following criteria are met: (i) persuasive evidence of an arrangement exists, (ii) the services have been </font><font lang=\"EN-US\">render</font><font lang=\"EN-US\">ed to the customer, (iii) the sales price is fixed or determinable, and (iv) collectability is reasonably assured. </font></p> <p style='text-align:justify;margin:0cm 0cm 0pt;text-indent:36pt'>&nbsp;</p>"
      ],
      "text/plain": [
       "<IPython.core.display.HTML object>"
      ]
     },
     "metadata": {},
     "output_type": "display_data"
    },
    {
     "data": {
      "text/html": [
       "<h1>Netflix Inc - Fiscal Year 2014</h1><div style=\"font-family:Times New Roman;font-size:10pt;\"><div style=\"line-height:120%;padding-top:18px;font-size:10pt;\"><font style=\"font-family:inherit;font-size:10pt;font-style:italic;font-weight:bold;\">Revenue Recognition</font></div><div style=\"line-height:120%;padding-top:6px;text-indent:32px;font-size:10pt;\"><font style=\"font-family:inherit;font-size:10pt;\">Revenues are recognized ratably over each monthly membership period.  Revenues are presented net of the taxes that are collected from members and remitted to governmental authorities.  Deferred revenue consists of membership fees billed to members that have not been recognized and gift and other prepaid memberships that have not been redeemed.   </font></div></div>"
      ],
      "text/plain": [
       "<IPython.core.display.HTML object>"
      ]
     },
     "metadata": {},
     "output_type": "display_data"
    },
    {
     "data": {
      "text/html": [
       "<h1>Pow! Entertainment, Inc. - Fiscal Year 2014</h1><div style=\"MARGIN: 0pt 0px; FONT: 10pt Times New Roman, Times, Serif \"> <div style=\"CLEAR:both; FONT-FAMILY:Times New Roman;FONT-SIZE: 10pt;TEXT-INDENT: 0.5in; MARGIN: 0pt 0px 0pt 0.5in; FONT: 10pt Times New Roman, Times, Serif\"> </div> <div style=\"CLEAR:both; FONT-FAMILY:Times New Roman;FONT-SIZE: 10pt;MARGIN: 0pt 0px 0pt 0.5in; FONT: 10pt Times New Roman, Times, Serif\"> <strong>Revenue Recognition--</strong> As a creator of intellectual property, the majority of the Company&#8217;s business is derived from contracts with third parties providing for the development and use of intellectual property developed by the Company.</div> <div style=\"CLEAR:both; FONT-FAMILY:Times New Roman;FONT-SIZE: 10pt;TEXT-INDENT: 0.5in; MARGIN: 0pt 0px; FONT: 10pt Times New Roman, Times, Serif\"> &#160;</div> <div style=\"CLEAR:both; FONT-FAMILY:Times New Roman;FONT-SIZE: 10pt;MARGIN: 0pt 0px 0pt 0.5in; FONT: 10pt Times New Roman, Times, Serif\"> The Company records revenue from these sources: artist consulting, film rights, animated television and comic-book royalties. In accounting for these contracts, the Company recognizes revenue when services have been rendered or when contractual parameters have been satisfied and are measureable.</div> <div style=\"CLEAR:both; FONT-FAMILY:Times New Roman;FONT-SIZE: 10pt;TEXT-INDENT: 0.5in; MARGIN: 0pt 0px 0pt 0.5in; FONT: 10pt Times New Roman, Times, Serif\"> &#160;</div> <div style=\"CLEAR:both; FONT-FAMILY:Times New Roman;FONT-SIZE: 10pt;MARGIN: 0pt 0px 0pt 0.5in; FONT: 10pt Times New Roman, Times, Serif\"> Our contract with Silver Creek Pictures (&#8220;Silver Creek&#8221;), an affiliate of The Walt Disney Company, called for per annum payments of nonrecoupable overhead allowance of $<font style=\"FONT-FAMILY: 'Times New Roman','serif'; FONT-SIZE: 10pt\" data-cbfactid=\"92807566\">700,000</font> and nonrecoupable consulting services for Stan lee of $<font style=\"FONT-FAMILY: 'Times New Roman','serif'; FONT-SIZE: 10pt\" data-cbfactid=\"92807567\">1,250,000</font>. The contract expired in December 2014. Revenue from Silver Creek is recorded based on the guidance from ASC 605: revenues are considered to have been earned when the entity has substantially accomplished what it must do to be entitled to the benefits represented by the revenues.</div> </div><table border=\"0\" style=\"width:100%; table-layout:fixed;\" cellspacing=\"0\" cellpadding=\"0\"><tr><td></td></tr></table>"
      ],
      "text/plain": [
       "<IPython.core.display.HTML object>"
      ]
     },
     "metadata": {},
     "output_type": "display_data"
    },
    {
     "data": {
      "text/html": [
       "<h1>Pulse Evolution Corp - Fiscal Year 2015</h1><p style=\"margin: 0pt\">\r",
       "\r",
       "<p style=\"margin: 0pt\">\r",
       "\r",
       "<p style=\"font: 10pt/normal Times New Roman, Times, Serif; margin: 0; text-align: justify\"><i>Revenue Recognition</i></p>\r",
       "\r",
       "<p style=\"font: 10pt/normal Times New Roman, Times, Serif; margin: 0; text-align: justify; text-indent: 0.5in\"><i>&#160;</i></p>\r",
       "\r",
       "<p style=\"font: 10pt/normal Times New Roman, Times, Serif; margin: 0; text-align: justify\">For Production Services, revenue is\r",
       "recognized over each contract period based on percentage of work completed. As the production services are rendered, revenue is\r",
       "recognized.</p>"
      ],
      "text/plain": [
       "<IPython.core.display.HTML object>"
      ]
     },
     "metadata": {},
     "output_type": "display_data"
    },
    {
     "data": {
      "text/html": [
       "<h1>Reading International Inc - Fiscal Year 2014</h1><div> <div style=\"margin-left:0pt;margin-right:0pt;\">\n",
       "\t\t<p style=\"margin:0pt 0pt 10pt;font-family:Times New Roman;text-align:justify;text-justify:inter-ideograph;font-size: 10pt\">\n",
       "\t\t\t<font style=\"display: inline;text-decoration:underline;\">Revenue Recognition</font>\n",
       "\t\t</p>\n",
       "\t\t<p style=\"margin:0pt 0pt 10pt;text-indent:36pt;font-family:Times New Roman;text-align:justify;text-justify:inter-ideograph;font-size: 10pt\">\n",
       "\t\t\t<font style=\"display: inline;\">Revenue from cinema ticket sales and concession sales are recognized when sold. Revenue from gift certificate sales is deferred and recognized when the certificates are redeemed. Rental revenue is recognized on a straight-line basis in accordance with FASB ASC 840-20-25 &#x2013; </font><font style=\"display: inline;font-style:italic;\">Leases Having Both Scheduled Rent Increases and Contingent Rents </font><font style=\"display: inline;\">(&#x201C;ASC 840-20-25&#x201D;).&nbsp; </font>\n",
       "\t\t</p>\n",
       "\t\t<p><font size=\"1\"> </font></p>\n",
       "\t</div> </div>"
      ],
      "text/plain": [
       "<IPython.core.display.HTML object>"
      ]
     },
     "metadata": {},
     "output_type": "display_data"
    },
    {
     "data": {
      "text/html": [
       "<h1>Regal Entertainment Group - Fiscal Year 2014</h1><div style=\"font-family:Times New Roman;font-size:10pt;\"><div style=\"line-height:120%;text-indent:26px;font-size:10pt;\"><font style=\"font-family:inherit;font-size:10pt;font-style:italic;font-weight:bold;\">Revenue Recognition</font></div><div style=\"line-height:120%;text-indent:32px;font-size:10pt;\"><font style=\"font-family:inherit;font-size:10pt;\"><br clear=\"none\"></font></div><div style=\"line-height:120%;text-indent:32px;font-size:10pt;\"><font style=\"font-family:inherit;font-size:10pt;\">Revenues are generated principally through admissions and concessions sales with proceeds received in cash or via credit card at the point of sale. Other operating revenues consist primarily of product advertising (including vendor marketing programs) and other ancillary revenues that are recognized as income in the period earned. The Company generally recognizes payments received attributable to the marketing and advertising services provided by the Company under certain vendor programs as revenue in the periods in which the advertising is displayed or when the related impressions are delivered. Such impressions are measured by the concession product sales volume, which is a mutually agreed upon proxy of attendance and reflects the Company's marketing and advertising services delivered to its vendors. In instances where the consideration received is in excess of fair value of the advertising services provided, the excess is recorded as a reduction of concession costs. </font></div><div style=\"line-height:120%;text-indent:32px;font-size:10pt;\"><font style=\"font-family:inherit;font-size:10pt;\"><br clear=\"none\"></font></div><div style=\"line-height:120%;text-indent:32px;font-size:10pt;\"><font style=\"font-family:inherit;font-size:10pt;\">The Company maintains a deferred revenue balance pertaining to cash received from the sale of discount tickets and gift cards that have not been redeemed. The Company recognizes revenue associated with discount tickets and gift cards when redeemed, or when the likelihood of redemption becomes remote. The determination of the likelihood of redemption is based on an analysis of historical redemption trends.  Amortization of deferred revenue related to the amount we received for agreeing to the existing National CineMedia exhibitor services agreement modification and amounts recorded in connection with the receipt of newly issued common units of National CineMedia pursuant to the provisions of the Common Unit Adjustment Agreement are described below in this Note&#160;2 under \"Deferred Revenue\" and in Note&#160;4&#8212;\"Investments.\" </font></div></div>"
      ],
      "text/plain": [
       "<IPython.core.display.HTML object>"
      ]
     },
     "metadata": {},
     "output_type": "display_data"
    },
    {
     "data": {
      "text/html": [
       "<h1>United Artists Theatre Circuit Inc /MD/ - Fiscal Year 2014</h1><div style=\"font-family:Times New Roman;font-size:10pt;\"><div style=\"line-height:120%;text-indent:48px;font-size:10pt;\"><font style=\"font-family:inherit;font-size:10pt;font-style:italic;font-weight:bold;\">Revenue Recognition</font></div><div style=\"line-height:120%;font-size:10pt;\"><font style=\"font-family:inherit;font-size:10pt;\"><br clear=\"none\"></font></div><div style=\"line-height:120%;text-indent:48px;font-size:10pt;\"><font style=\"font-family:inherit;font-size:10pt;\">Revenues are generated principally through admissions and concessions sales with proceeds received in cash or via credit card at the point of sale. Other operating revenues consist primarily of product advertising (including vendor marketing programs) and other ancillary revenues that are recognized as income in the period earned. The Company generally recognizes payments received attributable to the marketing and advertising services provided by the Company under certain vendor programs as revenue in the periods in which the advertising is displayed or when the related impressions are delivered. Such impressions are measured by the concession product sales volume, which is a mutually agreed upon proxy of attendance and reflects the Company&#8217;s marketing and advertising services delivered to its vendors. In instances where the consideration received is in excess of fair value of the advertising services provided, the excess is recorded as a reduction of concession costs. The Company recognizes revenue associated with discount tickets and gift cards when redeemed. Amortization of deferred revenue related to the amount we received for agreeing to the existing exhibitor services agreement (\"ESA\") modification are described below in this Note 3 under \"Deferred Revenue\" and in Note 5&#8212;\"Related Party Transactions.\" </font></div></div>"
      ],
      "text/plain": [
       "<IPython.core.display.HTML object>"
      ]
     },
     "metadata": {},
     "output_type": "display_data"
    },
    {
     "data": {
      "text/html": [
       "<h1>Watermark Group, Inc. - Fiscal Year 2015</h1><p style=\"font: 10pt Times New Roman, Times, Serif; margin: 0; text-indent: 22.5pt; text-align: justify\"><font style=\"font: 10pt Times New Roman, Times, Serif\">For\r",
       "revenue from product sales, the Company will recognize revenue in accordance with Staff Accounting Bulletin No. 104, &#34;Revenue\r",
       "Recognition&#34; (SAB No. 104), which superseded Staff Accounting Bulletin No. 101, &#34;Revenue Recognition in Financial Statements&#34;\r",
       "(SAB No. 101). SAB No. 104 requires that four basic criteria must be met before revenue can be recognized: (1) persuasive evidence\r",
       "of an arrangement exists; (2) delivery has occurred; (3) the selling price is fixed and determinable; and (4) collectibility is\r",
       "reasonably assured. Determination of criteria (3) and (4) are based on management's judgment regarding the fixed nature of the\r",
       "selling prices of the products delivered and the collectibility of those amounts. Provisions for discounts and rebates to customers,\r",
       "estimated returns and allowances, and other adjustments will be provided for in the same period the related sales are recorded.&#160;</font></p>"
      ],
      "text/plain": [
       "<IPython.core.display.HTML object>"
      ]
     },
     "metadata": {},
     "output_type": "display_data"
    },
    {
     "data": {
      "text/html": [
       "<h1>World Wrestling Entertainmentinc - Fiscal Year 2014</h1><div style=\"font-family:Times New Roman;font-size:10pt;\"><div style=\"line-height:120%;padding-bottom:10px;padding-top:10px;text-align:justify;text-indent:24px;font-size:10pt;\"><font style=\"font-family:inherit;font-size:10pt;font-style:italic;\">Revenue Recognition</font><font style=\"font-family:inherit;font-size:10pt;\"> &#8212; Revenues are generally recognized when products are shipped or as services are performed. However, due to the nature of several of our business lines, there are additional steps in the revenue recognition process, as described below.</font></div><table cellpadding=\"0\" cellspacing=\"0\" style=\"padding-top:10px;padding-bottom:10px;font-family:Times New Roman; font-size:10pt;\"><tr><td style=\"width:48px;\" rowspan=\"1\" colspan=\"1\"></td><td rowspan=\"1\" colspan=\"1\"></td></tr><tr><td style=\"vertical-align:top\" rowspan=\"1\" colspan=\"1\"><div style=\"line-height:120%;font-size:10pt;padding-left:24px;\"><font style=\"font-family:inherit;font-size:10pt;\">&#8226;</font></div></td><td style=\"vertical-align:top;\" rowspan=\"1\" colspan=\"1\"><div style=\"line-height:120%;text-align:justify;font-size:10pt;\"><font style=\"font-family:inherit;font-size:10pt;\">WWE Network Subscriptions:</font></div></td></tr></table><div style=\"line-height:120%;padding-bottom:10px;text-align:justify;text-indent:24px;font-size:10pt;\"><font style=\"font-family:inherit;font-size:10pt;\">Revenues are recognized ratably over each monthly membership period. Deferred revenue consists of membership fees billed to members that have not been recognized and gift memberships that have not been redeemed.</font></div><table cellpadding=\"0\" cellspacing=\"0\" style=\"font-family:Times New Roman; font-size:10pt;\"><tr><td style=\"width:48px;\" rowspan=\"1\" colspan=\"1\"></td><td rowspan=\"1\" colspan=\"1\"></td></tr><tr><td style=\"vertical-align:top\" rowspan=\"1\" colspan=\"1\"><div style=\"line-height:120%;font-size:10pt;padding-left:24px;\"><font style=\"font-family:inherit;font-size:10pt;\">&#8226;</font></div></td><td style=\"vertical-align:top;\" rowspan=\"1\" colspan=\"1\"><div style=\"line-height:120%;text-align:left;font-size:10pt;\"><font style=\"font-family:inherit;font-size:10pt;\">Pay-per-view programming:</font></div></td></tr></table><div style=\"line-height:120%;padding-bottom:10px;padding-top:10px;text-align:justify;text-indent:24px;font-size:10pt;\"><font style=\"font-family:inherit;font-size:10pt;\">Revenues from our pay-per-view programming are recorded when the event is aired and are based upon our initial estimate of the number of buys achieved. This initial estimate is based on preliminary buy information received from our pay-per-view distributors. Final reconciliation of the pay-per-view buys generally occurs within one year and any subsequent adjustments to the buys are recognized in the period new information is received.</font></div><table cellpadding=\"0\" cellspacing=\"0\" style=\"font-family:Times New Roman; font-size:10pt;\"><tr><td style=\"width:48px;\" rowspan=\"1\" colspan=\"1\"></td><td rowspan=\"1\" colspan=\"1\"></td></tr><tr><td style=\"vertical-align:top\" rowspan=\"1\" colspan=\"1\"><div style=\"line-height:120%;font-size:10pt;padding-left:24px;\"><font style=\"font-family:inherit;font-size:10pt;\">&#8226;</font></div></td><td style=\"vertical-align:top;\" rowspan=\"1\" colspan=\"1\"><div style=\"line-height:120%;text-align:left;font-size:10pt;\"><font style=\"font-family:inherit;font-size:10pt;\">Sponsorships:</font></div></td></tr></table><div style=\"line-height:120%;padding-bottom:10px;padding-top:10px;text-align:justify;text-indent:24px;font-size:10pt;\"><font style=\"font-family:inherit;font-size:10pt;\">Through our sponsorship packages, we offer advertisers a full range of our promotional vehicles, including online and print advertising, on-air announcements and special appearances by our Superstars. We allocate revenue to all deliverables contained within a sponsorship arrangement based upon their relative selling price. In most instances, we determine relative selling price  used for allocating revenue to a specific deliverable using vendor specific objective evidence (\"VSOE\"). VSOE is the selling price that a vendor charges when it sells similar products or services on a stand-alone basis.  After allocating revenue to each deliverable, we recognize revenue from our sponsorship arrangements when each element is delivered.</font></div><table cellpadding=\"0\" cellspacing=\"0\" style=\"font-family:Times New Roman; font-size:10pt;\"><tr><td style=\"width:48px;\" rowspan=\"1\" colspan=\"1\"></td><td rowspan=\"1\" colspan=\"1\"></td></tr><tr><td style=\"vertical-align:top\" rowspan=\"1\" colspan=\"1\"><div style=\"line-height:120%;font-size:10pt;padding-left:24px;\"><font style=\"font-family:inherit;font-size:10pt;\">&#8226;</font></div></td><td style=\"vertical-align:top;\" rowspan=\"1\" colspan=\"1\"><div style=\"line-height:120%;text-align:left;font-size:10pt;\"><font style=\"font-family:inherit;font-size:10pt;\">Licensing:</font></div></td></tr></table><div style=\"line-height:120%;padding-bottom:10px;padding-top:10px;text-align:justify;text-indent:24px;font-size:10pt;\"><font style=\"font-family:inherit;font-size:10pt;\">Revenues from our licensed products are recognized upon receipt of reports from the individual licensees that detail the royalties generated by related product sales. If we receive licensing advances, such payments are recorded as deferred revenue and are recognized as income when earned.</font></div><table cellpadding=\"0\" cellspacing=\"0\" style=\"font-family:Times New Roman; font-size:10pt;\"><tr><td style=\"width:48px;\" rowspan=\"1\" colspan=\"1\"></td><td rowspan=\"1\" colspan=\"1\"></td></tr><tr><td style=\"vertical-align:top\" rowspan=\"1\" colspan=\"1\"><div style=\"line-height:120%;font-size:10pt;padding-left:24px;\"><font style=\"font-family:inherit;font-size:10pt;\">&#8226;</font></div></td><td style=\"vertical-align:top;\" rowspan=\"1\" colspan=\"1\"><div style=\"line-height:120%;text-align:left;font-size:10pt;\"><font style=\"font-family:inherit;font-size:10pt;\">Home entertainment:</font></div></td></tr></table><div style=\"line-height:120%;padding-bottom:10px;padding-top:10px;text-align:justify;text-indent:24px;font-size:10pt;\"><font style=\"font-family:inherit;font-size:10pt;\">Revenues from the sales of home video titles are recorded net of an allowance for estimated returns, at the later of delivery by our distributor to retailers, or the date that these products are made widely available for sale by retailers. The allowance for estimated returns is based on historical information, current industry trends and demand for our titles.</font></div><table cellpadding=\"0\" cellspacing=\"0\" style=\"font-family:Times New Roman; font-size:10pt;\"><tr><td style=\"width:48px;\" rowspan=\"1\" colspan=\"1\"></td><td rowspan=\"1\" colspan=\"1\"></td></tr><tr><td style=\"vertical-align:top\" rowspan=\"1\" colspan=\"1\"><div style=\"line-height:120%;font-size:10pt;padding-left:24px;\"><font style=\"font-family:inherit;font-size:10pt;\">&#8226;</font></div></td><td style=\"vertical-align:top;\" rowspan=\"1\" colspan=\"1\"><div style=\"line-height:120%;text-align:left;font-size:10pt;\"><font style=\"font-family:inherit;font-size:10pt;\">Magazine publishing:</font></div></td></tr></table><div style=\"line-height:120%;padding-bottom:10px;padding-top:10px;text-align:justify;text-indent:24px;font-size:10pt;\"><font style=\"font-family:inherit;font-size:10pt;\">Publishing newsstand revenues are recorded when the magazine is shipped, net of an allowance for estimated returns. We estimate the allowance for newsstand returns based upon our review of historical return rates and the expected performance of our current titles in relation to prior issue return rates.</font></div><table cellpadding=\"0\" cellspacing=\"0\" style=\"font-family:Times New Roman; font-size:10pt;\"><tr><td style=\"width:48px;\" rowspan=\"1\" colspan=\"1\"></td><td rowspan=\"1\" colspan=\"1\"></td></tr><tr><td style=\"vertical-align:top\" rowspan=\"1\" colspan=\"1\"><div style=\"line-height:120%;font-size:10pt;padding-left:24px;\"><font style=\"font-family:inherit;font-size:10pt;\">&#8226;</font></div></td><td style=\"vertical-align:top;\" rowspan=\"1\" colspan=\"1\"><div style=\"line-height:120%;text-align:left;font-size:10pt;\"><font style=\"font-family:inherit;font-size:10pt;\">TV rights:</font></div></td></tr></table><div style=\"line-height:120%;padding-bottom:10px;padding-top:10px;text-align:justify;text-indent:24px;font-size:10pt;\"><font style=\"font-family:inherit;font-size:10pt;\">Rights fees received from distributors of our television programming, both domestically and internationally, are recorded when the program has been delivered to the distributor and is available for exhibition. Our typical distribution agreement is between one and five years in length and frequently provides for contractual increases over its term. Expenses incurred in the production of our weekly television programming are expensed when the programming is first available for exhibition.</font></div><div style=\"line-height:120%;padding-bottom:10px;padding-top:10px;text-align:justify;text-indent:24px;font-size:10pt;\"><font style=\"font-family:inherit;font-size:10pt;\">Included in Non-current deferred income is $</font><font style=\"font-family:inherit;font-size:10pt;\"><span data-cbfactid=\"86764077\">46.9 </span>million</font><font style=\"font-family:inherit;font-size:10pt;\"> related to an advance payment associated with our recent domestic television rights deal.</font></div><div style=\"line-height:120%;padding-bottom:10px;padding-top:10px;text-align:justify;font-size:10pt;\"><font style=\"font-family:inherit;font-size:10pt;font-weight:bold;\">2. Summary of Significant Accounting Policies (continued)</font><font style=\"font-family:inherit;font-size:10pt;\">&#160;&#160;&#160;&#160;</font></div><table cellpadding=\"0\" cellspacing=\"0\" style=\"font-family:Times New Roman; font-size:10pt;\"><tr><td style=\"width:48px;\" rowspan=\"1\" colspan=\"1\"></td><td rowspan=\"1\" colspan=\"1\"></td></tr><tr><td style=\"vertical-align:top\" rowspan=\"1\" colspan=\"1\"><div style=\"line-height:120%;font-size:10pt;padding-left:24px;\"><font style=\"font-family:inherit;font-size:10pt;\">&#8226;</font></div></td><td style=\"vertical-align:top;\" rowspan=\"1\" colspan=\"1\"><div style=\"line-height:120%;text-align:left;font-size:10pt;\"><font style=\"font-family:inherit;font-size:10pt;\">Films:</font></div></td></tr></table><div style=\"line-height:120%;padding-bottom:10px;padding-top:10px;text-align:justify;text-indent:24px;font-size:10pt;\"><font style=\"font-family:inherit;font-size:10pt;\">Revenue recognition for our feature films varies depending on the method of distribution and the extent of control the Company exercises over the distribution and related expenses. We exercise significant control over our self-distributed films and as a result, we record distribution revenue and related expenses on a gross basis in our financial statements. Third-party distribution partners control the distribution and marketing of our licensed films, and as a result, we recognize revenue on a net basis after the third-party distributor recoups distribution fees and expenses and results have been reported to us. This typically occurs in periods subsequent to the initial release of the film. Revenues generated from our films through the various distribution channels, including home video, video-on-demand and television are recognized consistent with the policies described above.</font></div><div style=\"line-height:120%;text-align:justify;text-indent:24px;font-size:10pt;\"><font style=\"font-family:inherit;font-size:10pt;font-style:italic;\">Cost of Revenues </font><font style=\"font-family:inherit;font-size:10pt;\">&#8212;</font><font style=\"font-family:inherit;font-size:10pt;font-style:italic;\"> </font><font style=\"font-family:inherit;font-size:10pt;\">Included within cost of revenues is the amortization and impairments of feature film and television production assets.  We amortize feature film production assets based on the estimated future cash flows.  Television production assets are amortized when the episode is first broadcast on television.  Unamortized feature film and television production assets are evaluated for impairment each reporting period. Cost of revenues also includes the the amortization of costs related to content delivery and technology utilized for our WWE Network.  These costs are amortized on a straight line basis over the term of the respective service agreement.  We began amortizing these costs following the launch of WWE Network on February 24, 2014.</font></div><div style=\"line-height:120%;text-align:left;font-size:10pt;\"><font style=\"font-family:inherit;font-size:10pt;\"><br clear=\"none\"></font></div><div style=\"line-height:120%;text-align:left;text-indent:24px;font-size:10pt;\"><font style=\"font-family:inherit;font-size:10pt;\">Included within Costs of revenues are the following:</font></div><div style=\"line-height:120%;text-align:center;font-size:10pt;\"><div style=\"padding-left:0px;text-indent:0px;line-height:normal;padding-top:10px;\"><table cellpadding=\"0\" cellspacing=\"0\" style=\"font-family:Times New Roman;font-size:10pt;margin-left:auto;margin-right:auto;width:99.41520467836257%;border-collapse:collapse;text-align:left;\" data-cbnetworkid=\"21141875\"><tr><td colspan=\"13\" rowspan=\"1\"></td></tr><tr><td width=\"67%\" rowspan=\"1\" colspan=\"1\"></td><td width=\"1%\" rowspan=\"1\" colspan=\"1\"></td><td width=\"1%\" rowspan=\"1\" colspan=\"1\"></td><td width=\"8%\" rowspan=\"1\" colspan=\"1\"></td><td width=\"1%\" rowspan=\"1\" colspan=\"1\"></td><td width=\"1%\" rowspan=\"1\" colspan=\"1\"></td><td width=\"1%\" rowspan=\"1\" colspan=\"1\"></td><td width=\"8%\" rowspan=\"1\" colspan=\"1\"></td><td width=\"1%\" rowspan=\"1\" colspan=\"1\"></td><td width=\"1%\" rowspan=\"1\" colspan=\"1\"></td><td width=\"1%\" rowspan=\"1\" colspan=\"1\"></td><td width=\"8%\" rowspan=\"1\" colspan=\"1\"></td><td width=\"1%\" rowspan=\"1\" colspan=\"1\"></td></tr><tr><td style=\"vertical-align:bottom;padding-left:2px;padding-top:2px;padding-bottom:2px;padding-right:2px;\" rowspan=\"1\" colspan=\"1\"><div style=\"overflow:hidden;font-size:10pt;\"><font style=\"font-family:inherit;font-size:10pt;\">&#160;</font></div></td><td style=\"vertical-align:bottom;padding-left:2px;padding-top:2px;padding-bottom:2px;padding-right:2px;\" rowspan=\"1\" colspan=\"1\"><div style=\"overflow:hidden;font-size:10pt;\"><font style=\"font-family:inherit;font-size:10pt;\">&#160;</font></div></td><td colspan=\"11\" style=\"vertical-align:bottom;border-bottom:1px solid #000000;padding-left:2px;padding-top:2px;padding-bottom:2px;\" rowspan=\"1\"><div style=\"text-align:center;font-size:10pt;\"><font style=\"font-family:inherit;font-size:10pt;font-weight:bold;\">Year Ended December 31,</font></div></td></tr><tr><td style=\"vertical-align:bottom;padding-left:2px;padding-top:2px;padding-bottom:2px;padding-right:2px;\" rowspan=\"1\" colspan=\"1\"><div style=\"overflow:hidden;font-size:10pt;\"><font style=\"font-family:inherit;font-size:10pt;\">&#160;</font></div></td><td style=\"vertical-align:bottom;padding-left:2px;padding-top:2px;padding-bottom:2px;padding-right:2px;\" rowspan=\"1\" colspan=\"1\"><div style=\"overflow:hidden;font-size:10pt;\"><font style=\"font-family:inherit;font-size:10pt;\">&#160;</font></div></td><td colspan=\"3\" style=\"vertical-align:bottom;padding-left:2px;padding-top:2px;padding-bottom:2px;padding-right:2px;\" rowspan=\"1\"><div style=\"text-align:center;font-size:10pt;\"><font style=\"font-family:inherit;font-size:10pt;font-weight:bold;\">2014</font></div></td><td style=\"vertical-align:bottom;padding-left:2px;padding-top:2px;padding-bottom:2px;padding-right:2px;\" rowspan=\"1\" colspan=\"1\"><div style=\"overflow:hidden;font-size:10pt;\"><font style=\"font-family:inherit;font-size:10pt;\">&#160;</font></div></td><td colspan=\"3\" style=\"vertical-align:bottom;padding-left:2px;padding-top:2px;padding-bottom:2px;padding-right:2px;\" rowspan=\"1\"><div style=\"text-align:center;font-size:10pt;\"><font style=\"font-family:inherit;font-size:10pt;font-weight:bold;\">2013</font></div></td><td style=\"vertical-align:bottom;padding-left:2px;padding-top:2px;padding-bottom:2px;padding-right:2px;\" rowspan=\"1\" colspan=\"1\"><div style=\"overflow:hidden;font-size:10pt;\"><font style=\"font-family:inherit;font-size:10pt;\">&#160;</font></div></td><td colspan=\"3\" style=\"vertical-align:bottom;padding-left:2px;padding-top:2px;padding-bottom:2px;padding-right:2px;\" rowspan=\"1\"><div style=\"text-align:center;font-size:10pt;\"><font style=\"font-family:inherit;font-size:10pt;font-weight:bold;\">2012</font></div></td></tr><tr><td style=\"vertical-align:bottom;background-color:#95b3d7;padding-left:2px;padding-top:2px;padding-bottom:2px;padding-right:2px;\" rowspan=\"1\" colspan=\"1\"><div style=\"text-align:left;font-size:10pt;\"><font style=\"font-family:inherit;font-size:10pt;\">Amortization and impairment of feature film assets </font></div></td><td style=\"vertical-align:bottom;background-color:#95b3d7;padding-left:2px;padding-top:2px;padding-bottom:2px;padding-right:2px;\" rowspan=\"1\" colspan=\"1\"><div style=\"overflow:hidden;font-size:10pt;\"><font style=\"font-family:inherit;font-size:10pt;\">&#160;</font></div></td><td style=\"vertical-align:bottom;padding-left:2px;padding-top:2px;padding-bottom:2px;background-color:#95b3d7;border-top:1px solid #000000;\" rowspan=\"1\" colspan=\"1\"><div style=\"text-align:left;font-size:10pt;\"><font style=\"font-family:inherit;font-size:10pt;\">$</font></div></td><td style=\"vertical-align:bottom;background-color:#95b3d7;padding-top:2px;padding-bottom:2px;border-top:1px solid #000000;\" rowspan=\"1\" colspan=\"1\" data-cbfactid=\"86764059\"><div style=\"text-align:right;font-size:10pt;\"><font style=\"font-family:inherit;font-size:10pt;\">5,515</font></div></td><td style=\"vertical-align:bottom;background-color:#95b3d7;border-top:1px solid #000000;\" rowspan=\"1\" colspan=\"1\"><div style=\"text-align:left;font-size:10pt;\"><font style=\"font-family:inherit;font-size:10pt;\"><br clear=\"none\"></font></div></td><td style=\"vertical-align:bottom;background-color:#95b3d7;padding-left:2px;padding-top:2px;padding-bottom:2px;padding-right:2px;\" rowspan=\"1\" colspan=\"1\"><div style=\"overflow:hidden;font-size:10pt;\"><font style=\"font-family:inherit;font-size:10pt;\">&#160;</font></div></td><td style=\"vertical-align:bottom;padding-left:2px;padding-top:2px;padding-bottom:2px;background-color:#95b3d7;border-top:1px solid #000000;\" rowspan=\"1\" colspan=\"1\"><div style=\"text-align:left;font-size:10pt;\"><font style=\"font-family:inherit;font-size:10pt;\">$</font></div></td><td style=\"vertical-align:bottom;background-color:#95b3d7;padding-top:2px;padding-bottom:2px;border-top:1px solid #000000;\" rowspan=\"1\" colspan=\"1\" data-cbfactid=\"86764058\"><div style=\"text-align:right;font-size:10pt;\"><font style=\"font-family:inherit;font-size:10pt;\">19,058</font></div></td><td style=\"vertical-align:bottom;background-color:#95b3d7;border-top:1px solid #000000;\" rowspan=\"1\" colspan=\"1\"><div style=\"text-align:left;font-size:10pt;\"><font style=\"font-family:inherit;font-size:10pt;\"><br clear=\"none\"></font></div></td><td style=\"vertical-align:bottom;background-color:#95b3d7;padding-left:2px;padding-top:2px;padding-bottom:2px;padding-right:2px;\" rowspan=\"1\" colspan=\"1\"><div style=\"overflow:hidden;font-size:10pt;\"><font style=\"font-family:inherit;font-size:10pt;\">&#160;</font></div></td><td style=\"vertical-align:bottom;padding-left:2px;padding-top:2px;padding-bottom:2px;background-color:#95b3d7;border-top:1px solid #000000;\" rowspan=\"1\" colspan=\"1\"><div style=\"text-align:left;font-size:10pt;\"><font style=\"font-family:inherit;font-size:10pt;\">$</font></div></td><td style=\"vertical-align:bottom;background-color:#95b3d7;padding-top:2px;padding-bottom:2px;border-top:1px solid #000000;\" rowspan=\"1\" colspan=\"1\" data-cbfactid=\"-1\" data-cbnumtext=\"8799\"><div style=\"text-align:right;font-size:10pt;\"><font style=\"font-family:inherit;font-size:10pt;\">8,799</font></div></td><td style=\"vertical-align:bottom;background-color:#95b3d7;border-top:1px solid #000000;\" rowspan=\"1\" colspan=\"1\"><div style=\"text-align:left;font-size:10pt;\"><font style=\"font-family:inherit;font-size:10pt;\"><br clear=\"none\"></font></div></td></tr><tr><td style=\"vertical-align:bottom;padding-left:2px;padding-top:2px;padding-bottom:2px;padding-right:2px;\" rowspan=\"1\" colspan=\"1\"><div style=\"text-align:left;font-size:10pt;\"><font style=\"font-family:inherit;font-size:10pt;\">Amortization of television productions assets </font></div></td><td style=\"vertical-align:bottom;padding-left:2px;padding-top:2px;padding-bottom:2px;padding-right:2px;\" rowspan=\"1\" colspan=\"1\"><div style=\"overflow:hidden;font-size:10pt;\"><font style=\"font-family:inherit;font-size:10pt;\">&#160;</font></div></td><td colspan=\"2\" style=\"vertical-align:bottom;padding-left:2px;padding-top:2px;padding-bottom:2px;\" rowspan=\"1\" data-cbfactid=\"86764068\"><div style=\"text-align:right;font-size:10pt;\"><font style=\"font-family:inherit;font-size:10pt;\">25,867</font></div></td><td style=\"vertical-align:bottom;\" rowspan=\"1\" colspan=\"1\"><div style=\"text-align:left;font-size:10pt;\"><font style=\"font-family:inherit;font-size:10pt;\"><br clear=\"none\"></font></div></td><td style=\"vertical-align:bottom;padding-left:2px;padding-top:2px;padding-bottom:2px;padding-right:2px;\" rowspan=\"1\" colspan=\"1\"><div style=\"overflow:hidden;font-size:10pt;\"><font style=\"font-family:inherit;font-size:10pt;\">&#160;</font></div></td><td colspan=\"2\" style=\"vertical-align:bottom;padding-left:2px;padding-top:2px;padding-bottom:2px;\" rowspan=\"1\" data-cbfactid=\"86764067\"><div style=\"text-align:right;font-size:10pt;\"><font style=\"font-family:inherit;font-size:10pt;\">7,012</font></div></td><td style=\"vertical-align:bottom;\" rowspan=\"1\" colspan=\"1\"><div style=\"text-align:left;font-size:10pt;\"><font style=\"font-family:inherit;font-size:10pt;\"><br clear=\"none\"></font></div></td><td style=\"vertical-align:bottom;padding-left:2px;padding-top:2px;padding-bottom:2px;padding-right:2px;\" rowspan=\"1\" colspan=\"1\"><div style=\"overflow:hidden;font-size:10pt;\"><font style=\"font-family:inherit;font-size:10pt;\">&#160;</font></div></td><td colspan=\"2\" style=\"vertical-align:bottom;padding-left:2px;padding-top:2px;padding-bottom:2px;\" rowspan=\"1\"><div style=\"text-align:right;font-size:10pt;\"><font style=\"font-family:inherit;font-size:10pt;\">&#8212;</font></div></td><td style=\"vertical-align:bottom;\" rowspan=\"1\" colspan=\"1\"><div style=\"text-align:left;font-size:10pt;\"><font style=\"font-family:inherit;font-size:10pt;\"><br clear=\"none\"></font></div></td></tr><tr><td style=\"vertical-align:bottom;background-color:#95b3d7;padding-left:2px;padding-top:2px;padding-bottom:2px;padding-right:2px;\" rowspan=\"1\" colspan=\"1\"><div style=\"text-align:left;font-size:10pt;\"><font style=\"font-family:inherit;font-size:10pt;\">Amortization of Network content delivery and technology</font></div></td><td style=\"vertical-align:bottom;background-color:#95b3d7;padding-left:2px;padding-top:2px;padding-bottom:2px;padding-right:2px;\" rowspan=\"1\" colspan=\"1\"><div style=\"overflow:hidden;font-size:10pt;\"><font style=\"font-family:inherit;font-size:10pt;\">&#160;</font></div></td><td colspan=\"2\" style=\"vertical-align:bottom;border-bottom:1px solid #000000;background-color:#95b3d7;padding-left:2px;padding-top:2px;padding-bottom:2px;\" rowspan=\"1\" data-cbfactid=\"86764065\"><div style=\"text-align:right;font-size:10pt;\"><font style=\"font-family:inherit;font-size:10pt;\">2,302</font></div></td><td style=\"vertical-align:bottom;border-bottom:1px solid #000000;background-color:#95b3d7;\" rowspan=\"1\" colspan=\"1\"><div style=\"text-align:left;font-size:10pt;\"><font style=\"font-family:inherit;font-size:10pt;\"><br clear=\"none\"></font></div></td><td style=\"vertical-align:bottom;background-color:#95b3d7;padding-left:2px;padding-top:2px;padding-bottom:2px;padding-right:2px;\" rowspan=\"1\" colspan=\"1\"><div style=\"overflow:hidden;font-size:10pt;\"><font style=\"font-family:inherit;font-size:10pt;\">&#160;</font></div></td><td colspan=\"2\" style=\"vertical-align:bottom;border-bottom:1px solid #000000;background-color:#95b3d7;padding-left:2px;padding-top:2px;padding-bottom:2px;\" rowspan=\"1\"><div style=\"text-align:right;font-size:10pt;\"><font style=\"font-family:inherit;font-size:10pt;\">&#8212;</font></div></td><td style=\"vertical-align:bottom;border-bottom:1px solid #000000;background-color:#95b3d7;\" rowspan=\"1\" colspan=\"1\"><div style=\"text-align:left;font-size:10pt;\"><font style=\"font-family:inherit;font-size:10pt;\"><br clear=\"none\"></font></div></td><td style=\"vertical-align:bottom;background-color:#95b3d7;padding-left:2px;padding-top:2px;padding-bottom:2px;padding-right:2px;\" rowspan=\"1\" colspan=\"1\"><div style=\"overflow:hidden;font-size:10pt;\"><font style=\"font-family:inherit;font-size:10pt;\">&#160;</font></div></td><td colspan=\"2\" style=\"vertical-align:bottom;border-bottom:1px solid #000000;background-color:#95b3d7;padding-left:2px;padding-top:2px;padding-bottom:2px;\" rowspan=\"1\"><div style=\"text-align:right;font-size:10pt;\"><font style=\"font-family:inherit;font-size:10pt;\">&#8212;</font></div></td><td style=\"vertical-align:bottom;border-bottom:1px solid #000000;background-color:#95b3d7;\" rowspan=\"1\" colspan=\"1\"><div style=\"text-align:left;font-size:10pt;\"><font style=\"font-family:inherit;font-size:10pt;\"><br clear=\"none\"></font></div></td></tr><tr><td style=\"vertical-align:bottom;padding-left:2px;padding-top:2px;padding-bottom:2px;padding-right:2px;\" rowspan=\"1\" colspan=\"1\"><div style=\"text-align:left;font-size:10pt;\"><font style=\"font-family:inherit;font-size:10pt;\">Total amortization and impairment included in costs of revenues </font></div></td><td style=\"vertical-align:bottom;padding-left:2px;padding-top:2px;padding-bottom:2px;padding-right:2px;\" rowspan=\"1\" colspan=\"1\"><div style=\"overflow:hidden;font-size:10pt;\"><font style=\"font-family:inherit;font-size:10pt;\">&#160;</font></div></td><td style=\"vertical-align:bottom;border-bottom:3px double #000000;padding-left:2px;padding-top:2px;padding-bottom:2px;border-top:1px solid #000000;\" rowspan=\"1\" colspan=\"1\"><div style=\"text-align:left;font-size:10pt;\"><font style=\"font-family:inherit;font-size:10pt;\">$</font></div></td><td style=\"vertical-align:bottom;border-bottom:3px double #000000;padding-top:2px;padding-bottom:2px;border-top:1px solid #000000;\" rowspan=\"1\" colspan=\"1\" data-cbfactid=\"86764062\"><div style=\"text-align:right;font-size:10pt;\"><font style=\"font-family:inherit;font-size:10pt;\">33,684</font></div></td><td style=\"vertical-align:bottom;border-bottom:3px double #000000;border-top:1px solid #000000;\" rowspan=\"1\" colspan=\"1\"><div style=\"text-align:left;font-size:10pt;\"><font style=\"font-family:inherit;font-size:10pt;\"><br clear=\"none\"></font></div></td><td style=\"vertical-align:bottom;padding-left:2px;padding-top:2px;padding-bottom:2px;padding-right:2px;\" rowspan=\"1\" colspan=\"1\"><div style=\"overflow:hidden;font-size:10pt;\"><font style=\"font-family:inherit;font-size:10pt;\">&#160;</font></div></td><td style=\"vertical-align:bottom;border-bottom:3px double #000000;padding-left:2px;padding-top:2px;padding-bottom:2px;border-top:1px solid #000000;\" rowspan=\"1\" colspan=\"1\"><div style=\"text-align:left;font-size:10pt;\"><font style=\"font-family:inherit;font-size:10pt;\">$</font></div></td><td style=\"vertical-align:bottom;border-bottom:3px double #000000;padding-top:2px;padding-bottom:2px;border-top:1px solid #000000;\" rowspan=\"1\" colspan=\"1\" data-cbfactid=\"86764061\"><div style=\"text-align:right;font-size:10pt;\"><font style=\"font-family:inherit;font-size:10pt;\">26,070</font></div></td><td style=\"vertical-align:bottom;border-bottom:3px double #000000;border-top:1px solid #000000;\" rowspan=\"1\" colspan=\"1\"><div style=\"text-align:left;font-size:10pt;\"><font style=\"font-family:inherit;font-size:10pt;\"><br clear=\"none\"></font></div></td><td style=\"vertical-align:bottom;padding-left:2px;padding-top:2px;padding-bottom:2px;padding-right:2px;\" rowspan=\"1\" colspan=\"1\"><div style=\"overflow:hidden;font-size:10pt;\"><font style=\"font-family:inherit;font-size:10pt;\">&#160;</font></div></td><td style=\"vertical-align:bottom;border-bottom:3px double #000000;padding-left:2px;padding-top:2px;padding-bottom:2px;border-top:1px solid #000000;\" rowspan=\"1\" colspan=\"1\"><div style=\"text-align:left;font-size:10pt;\"><font style=\"font-family:inherit;font-size:10pt;\">$</font></div></td><td style=\"vertical-align:bottom;border-bottom:3px double #000000;padding-top:2px;padding-bottom:2px;border-top:1px solid #000000;\" rowspan=\"1\" colspan=\"1\" data-cbfactid=\"-1\" data-cbnumtext=\"8799\"><div style=\"text-align:right;font-size:10pt;\"><font style=\"font-family:inherit;font-size:10pt;\">8,799</font></div></td><td style=\"vertical-align:bottom;border-bottom:3px double #000000;border-top:1px solid #000000;\" rowspan=\"1\" colspan=\"1\"><div style=\"text-align:left;font-size:10pt;\"><font style=\"font-family:inherit;font-size:10pt;\"><br clear=\"none\"></font></div></td></tr></table></div></div></div>"
      ],
      "text/plain": [
       "<IPython.core.display.HTML object>"
      ]
     },
     "metadata": {},
     "output_type": "display_data"
    },
    {
     "data": {
      "text/html": [
       "<h1>Writ Media Group, Inc. - Fiscal Year 2015</h1><p style=\"margin-top: 0; margin-bottom: 0; text-align: justify\"><b><u>Revenue Recognition</u></b></p>\r",
       "\r",
       "<p style=\"margin-top: 0; margin-bottom: 0; text-align: justify\">&#160;</p>\r",
       "\r",
       "<p style=\"margin-top: 0; margin-bottom: 0; text-align: justify\">The Company follows\r",
       "revenue recognition in two industries, technology and film.</p>\r",
       "\r",
       "<p style=\"margin-top: 0; margin-bottom: 0; text-align: justify\">&#160;</p>\r",
       "\r",
       "<p style=\"margin-top: 0; margin-bottom: 0; text-align: justify\">Revenue is measured\r",
       "at the fair value of the consideration received or receivable net of sales tax, trade discounts and customer returns.</p>"
      ],
      "text/plain": [
       "<IPython.core.display.HTML object>"
      ]
     },
     "metadata": {},
     "output_type": "display_data"
    },
    {
     "data": {
      "text/html": [
       "<h1>Amc Entertainment Holdings, Inc. - Fiscal Year 2015</h1><div> <div style=\"margin-left:0%;margin-right:0%;\"></div><div style=\"margin-left:0%;margin-right:0%;\">\n",
       "\t\t<p style=\"margin:5pt 0pt;font-family:Times New Roman,Times,serif;font-size: 10pt;\">\n",
       "\t\t\t<font style=\"display:inline;font-family:Times;font-weight:bold;font-style:italic;font-size:10pt;\">&nbsp;&nbsp;&nbsp;&nbsp;&nbsp;&nbsp;&nbsp;&nbsp;Revenues:</font><font style=\"display:inline;font-family:Times;font-size:10pt;\">&nbsp;&nbsp;&nbsp;&nbsp;Revenues are recognized when admissions and food and beverage sales are received at the theatres and are reported net of sales tax. The Company defers <span data-cbfactid=\"-1\" data-cbnumtext=\"100%\" data-cbnetworkid=\"28658691\">100%</span> of the revenue associated with the sales of gift cards and packaged tickets until such time as the items are redeemed or income from non-redemption is recorded. The Company recognizes income from non-redeemed or partially redeemed gift cards using the Proportional Method where it applies a non-redemption rate for its five gift card sales channels, which ranges from <span data-cbfactid=\"115574357\" data-cbnetworkid=\"28658691\">13%</span> to <span data-cbfactid=\"115574356\" data-cbnetworkid=\"28658691\">21%</span> of the current month sales, and the Company recognizes the total amount of income for that current month's sales as income over the next 24&nbsp;months in proportion to the pattern of actual redemptions. The Company has determined its non-redeemed rates and redemption patterns using data accumulated over ten years on a company-wide basis. Income for non-redeemed packaged tickets continues to be recognized as the redemption of these items is determined to be remote, that is if a ticket has not been used within 18&nbsp;months after being purchased. During the twelve months ended December&nbsp;31, 2015, December&nbsp;31, 2014, and December&nbsp;31, 2013, the Company recognized <span data-cbfactid=\"115575762\" data-cbnetworkid=\"28658691\">$22,879,000</span>, <span data-cbfactid=\"115575761\" data-cbnetworkid=\"28658691\">$21,347,000</span>, and <span data-cbfactid=\"115575760\" data-cbnetworkid=\"28658691\">$19,510,000</span> of income, respectively, related to the derecognition of gift card liabilities, which was recorded in other theatre revenues in the Consolidated Statements of Operations. During the twelve months ended December&nbsp;31, 2015, December&nbsp;31, 2014, and December&nbsp;31, 2013, the Company recognized <span data-cbfactid=\"115574250\" data-cbnetworkid=\"28658691\">$12,079,000</span>, <span data-cbfactid=\"115574249\" data-cbnetworkid=\"28658691\">$11,710,000</span>, and $0 of income, respectively, related to the derecognition of package ticket liabilities, which was recorded in other theatre revenues in the Consolidated Statements of Operations.</font>\n",
       "\t\t</p></div><div style=\"margin-left:0%;margin-right:0%;\">\n",
       "\t\t<p><font size=\"1\"> </font></p></div><div style=\"margin-left:0%;margin-right:0%;\"></div> </div>"
      ],
      "text/plain": [
       "<IPython.core.display.HTML object>"
      ]
     },
     "metadata": {},
     "output_type": "display_data"
    },
    {
     "data": {
      "text/html": [
       "<h1>Amc Entertainment Inc - Fiscal Year 2015</h1><div> <div style=\"margin-left:0%;margin-right:0%;\"></div><div style=\"margin-left:0%;margin-right:0%;\">\n",
       "\t\t<p style=\"margin:5pt 0pt;font-family:Times New Roman,Times,serif;font-size: 10pt;\">\n",
       "\t\t\t<font style=\"display:inline;font-family:Times;font-weight:bold;font-style:italic;font-size:10pt;\">&nbsp;&nbsp;&nbsp;&nbsp;&nbsp;&nbsp;&nbsp;&nbsp;Revenues:</font><font style=\"display:inline;font-family:Times;font-size:10pt;\">&nbsp;&nbsp;&nbsp;&nbsp;Revenues are recognized when admissions and food and beverage sales are received at the theatres and are reported net of sales tax. The Company defers <span data-cbfactid=\"-1\" data-cbnumtext=\"100%\" data-cbnetworkid=\"28742290\">100%</span> of the revenue associated with the sales of gift cards and packaged tickets until such time as the items are redeemed or income from non-redemption is recorded. The Company recognizes income from non-redeemed or partially redeemed gift cards using the Proportional Method where it applies a non-redemption rate for its five gift card sales channels, which ranges from <span data-cbfactid=\"115897964\" data-cbnetworkid=\"28742290\">13%</span> to <span data-cbfactid=\"115897963\" data-cbnetworkid=\"28742290\">21%</span> of the current month sales, and the Company recognizes the total amount of income for that current month's sales as income over the next 24&nbsp;months in proportion to the pattern of actual redemptions. The Company has determined its non-redeemed rates and redemption patterns using data accumulated over ten years on a company-wide basis. Income for non-redeemed packaged tickets continues to be recognized as the redemption of these items is determined to be remote, that is if a ticket has not been used within 18&nbsp;months after being purchased. During the twelve months ended December&nbsp;31, 2015, December&nbsp;31, 2014, and December&nbsp;31, 2013, the Company recognized <span data-cbfactid=\"115899592\" data-cbnetworkid=\"28742290\">$22,879,000</span>, <span data-cbfactid=\"115899591\" data-cbnetworkid=\"28742290\">$21,347,000</span>, and <span data-cbfactid=\"115899590\" data-cbnetworkid=\"28742290\">$19,510,000</span> of income, respectively, related to the derecognition of gift card liabilities, which was recorded in other theatre revenues in the Consolidated Statements of Operations. During the twelve months ended December&nbsp;31, 2015, December&nbsp;31, 2014, and December&nbsp;31, 2013, the Company recognized <span data-cbfactid=\"115897834\" data-cbnetworkid=\"28742290\">$12,079,000</span>, <span data-cbfactid=\"115897833\" data-cbnetworkid=\"28742290\">$11,710,000</span>, and $0 of income, respectively, related to the derecognition of package ticket liabilities, which was recorded in other theatre revenues in the Consolidated Statements of Operations.</font>\n",
       "\t\t</p></div><div style=\"margin-left:0%;margin-right:0%;\">\n",
       "\t\t<p><font size=\"1\"> </font></p></div><div style=\"margin-left:0%;margin-right:0%;\"></div> </div>"
      ],
      "text/plain": [
       "<IPython.core.display.HTML object>"
      ]
     },
     "metadata": {},
     "output_type": "display_data"
    },
    {
     "data": {
      "text/html": [
       "<h1>Carmike Cinemas Inc - Fiscal Year 2015</h1><div style=\"font-family:Times New Roman;font-size:10pt;\"><div style=\"line-height:120%;padding-top:18px;font-size:10pt;\"><font style=\"font-family:inherit;font-size:10pt;font-weight:bold;\">Revenue Recognition</font></div><div style=\"line-height:120%;padding-top:6px;text-indent:32px;font-size:10pt;\"><font style=\"font-family:inherit;font-size:10pt;\">Admissions and concessions revenue is recognized at the point of sale for tickets and concessions. Sales taxes collected from customers are excluded from revenue and are recorded in accrued expenses in the accompanying consolidated balance sheets. Other revenues primarily consist of on-screen advertising. Screen advertising revenues are recognized over the period that the related advertising is delivered on-screen or in-theatre.</font></div><div style=\"line-height:120%;padding-top:12px;text-indent:32px;font-size:10pt;\"><font style=\"font-family:inherit;font-size:10pt;\">We record proceeds from the sale of gift cards and other advanced sale-type certificates in current liabilities and recognize admission and concession revenue when a holder redeems a gift card or other advanced sale-type certificate. We recognize revenue from unredeemed gift cards and other advanced sale-type certificates upon the later of expiration or when redemption becomes unlikely. Our conclusion that redemption is unlikely is based on an analysis of historical trends. Because we started our gift card program in 2012, we have not had a sufficient level of historical redemption rates to allow us to reasonably estimate the amount of gift cards sold that would be unredeemed (\"breakage rate\").  We were able to reasonably estimate the breakage rate for other advanced sale-type certificates based on historical redemption rates, as these programs have been in effect for a significant period of time. At the end of the fourth quarter of 2015, we concluded that a sufficient level of historical redemption rates had been established to allow us to reasonably estimate the breakage rate on unredeemed gift cards. During the three months ended December 31, 2015, we recognized breakage income from gift cards of approximately </font><font style=\"font-family:inherit;font-size:10pt;\" data-cbfactid=\"-1\" data-cbnumtext=\"$3055\">$3,055</font><font style=\"font-family:inherit;font-size:10pt;\">. The breakage income relates to gift cards sold, but unredeemed, since inception of our gift card program. Estimated breakage revenue is recognized over time in proportion to actual gift card redemption rates and is allocated proportionally to admissions and concessions and other revenues. </font></div></div>"
      ],
      "text/plain": [
       "<IPython.core.display.HTML object>"
      ]
     },
     "metadata": {},
     "output_type": "display_data"
    },
    {
     "data": {
      "text/html": [
       "<h1>Carolco Pictures, Inc. - Fiscal Year 2015</h1><p style=\"margin: 0pt\">\r",
       "\r",
       "<p style=\"font: 10pt/normal Times New Roman, Times, Serif; margin: 0\"><i><u>Revenue Recognition</u></i></p>\r",
       "\r",
       "<p style=\"font: 10pt/normal Times New Roman, Times, Serif; margin: 0; text-indent: 0.5in\">&#160;</p>\r",
       "\r",
       "<p style=\"font: 10pt/normal Times New Roman, Times, Serif; margin: 0; text-align: justify\">The Company specializes in the development\r",
       "and presentation of quality television programming including series, specials, pilots, live events and award shows. The Company\r",
       "recognizes revenue from its live events and award show productions when all of the following criteria are met: (i) persuasive evidence\r",
       "of an arrangement exists, (ii) the show or live event has been completed and occurred and there are no future production obligations,\r",
       "(iii) the sales price is fixed or determinable, and (iv) collectability is reasonably assured.</p>\r",
       "\r",
       "<p style=\"font: 10pt/normal Times New Roman, Times, Serif; margin: 0; text-indent: 0.5in\">&#160;</p>\r",
       "\r",
       "<p style=\"font: 10pt/normal Times New Roman, Times, Serif; margin: 0; text-align: justify\">Revenues from the sale of programming\r",
       "for television and other media will be recognized when the following criteria are met: (i) persuasive evidence of an arrangement\r",
       "exists; (ii) the show/episode is complete, and in accordance with the terms of the arrangement, has been delivered or is available\r",
       "for immediate and unconditional delivery; (iii) the price to the customer is fixed and determinable; and (iv) collectability is\r",
       "reasonably assured.</p>"
      ],
      "text/plain": [
       "<IPython.core.display.HTML object>"
      ]
     },
     "metadata": {},
     "output_type": "display_data"
    },
    {
     "data": {
      "text/html": [
       "<h1>China Media Inc. - Fiscal Year 2016</h1><p style=\"margin: 0; text-align: justify\"><b><i>Revenue Recognition</i></b></p>\r",
       "\r",
       "<p style=\"margin: 0; text-align: justify\">&#160;</p>\r",
       "\r",
       "<p style=\"margin: 0; text-align: justify\">The Company&#146;s revenue primarily\r",
       "comes from the distribution of film and TV series&#146; broadcasting rights and investment return from the collectively produced\r",
       "film and TV series.</p>\r",
       "\r",
       "<p style=\"margin: 0; text-align: justify\">&#160;</p>\r",
       "\r",
       "<p style=\"margin: 0; text-align: justify\">In accordance with ASC 926, Entertainment - Films, revenue from sale or licensing arrangements\r",
       "of a film shall be recognized when the following five revenue criteria are met: persuasive evidence of an arrangement exists,\r",
       "the film is completed and delivery has occurred, the license period of the arrangement has begun, the selling price is fixed or\r",
       "determinable, and collectability is reasonably assured.</p>"
      ],
      "text/plain": [
       "<IPython.core.display.HTML object>"
      ]
     },
     "metadata": {},
     "output_type": "display_data"
    },
    {
     "data": {
      "text/html": [
       "<h1>Cinedigm Corp. - Fiscal Year 2016</h1><div style=\"font-family:Times New Roman;font-size:10pt;\"><div style=\"line-height:120%;text-align:justify;font-size:10pt;\"><font style=\"font-family:inherit;font-size:10pt;font-weight:bold;\">REVENUE RECOGNITION</font></div><div style=\"line-height:120%;text-align:justify;font-size:10pt;\"><font style=\"font-family:inherit;font-size:10pt;\"><br clear=\"none\"></font></div><div style=\"line-height:120%;text-align:justify;font-size:10pt;\"><font style=\"font-family:inherit;font-size:10pt;font-style:italic;font-weight:bold;\">Phase I Deployment and Phase II Deployment</font></div><div style=\"line-height:120%;text-align:justify;font-size:10pt;\"><font style=\"font-family:inherit;font-size:10pt;\"><br clear=\"none\"></font></div><div style=\"line-height:120%;text-align:justify;font-size:10pt;\"><font style=\"font-family:inherit;font-size:10pt;\">Virtual print fees (&#8220;VPFs&#8221;) are earned, net of administrative fees, pursuant to contracts with movie studios and distributors, whereby amounts are payable by a studio to Phase 1 DC, CDF I and to Phase 2 DC when movies distributed by the studio are displayed on screens utilizing our Systems installed in movie theatres. VPFs are earned and payable to Phase 1 DC and CDF I based on a defined fee schedule with a reduced VPF rate year over year until the </font><font style=\"font-family:inherit;font-size:10pt;\">sixth</font><font style=\"font-family:inherit;font-size:10pt;\"> year (calendar year 2011) at which point the VPF rate remains unchanged through the </font><font style=\"font-family:inherit;font-size:10pt;\">tenth</font><font style=\"font-family:inherit;font-size:10pt;\"> year until the VPFs phase out.  </font><font style=\"font-family:inherit;font-size:10pt;\">One</font><font style=\"font-family:inherit;font-size:10pt;\"> VPF is payable for every digital title displayed per System. The amount of VPF revenue is dependent on the number of movie titles released and displayed using the Systems in any given accounting period. VPF revenue is recognized in the period in which the digital title first plays on a System for general audience viewing in a digitally equipped movie theatre, as Phase 1 DC&#8217;s, CDF I's and Phase 2 DC&#8217;s performance obligations have been substantially met at that time. </font></div><div style=\"line-height:120%;text-align:justify;font-size:10pt;\"><font style=\"font-family:inherit;font-size:10pt;\"><br clear=\"none\"></font></div><div style=\"line-height:120%;text-align:justify;font-size:10pt;\"><font style=\"font-family:inherit;font-size:10pt;\">Beginning in December 2015, certain Phase 1 DC Systems began to reach the conclusion of their deployment payment period with certain distributors and, therefore, VPF revenues ceased to be recognized on such Systems. Furthermore, because the Phase I deployment installation period ended in November 2007, a majority of the VPF revenue associated with the Phase I systems will end by November 2017. While the absence of such revenue was not material to our consolidated financial statements during the fiscal year ending March 31, 2016, it is expected to have a material impact in subsequent periods.  As of March 31, 2016, </font><font style=\"font-family:inherit;font-size:10pt;\" data-cbfactid=\"123195163\" data-cbnetworkid=\"30933612\">101</font><font style=\"font-family:inherit;font-size:10pt;\"> of the systems in our Phase I deployment had ceased to earn VPF revenue from certain major studios.  By December 2016, we expect that more than </font><font style=\"font-family:inherit;font-size:10pt;\" data-cbfactid=\"123195164\" data-cbnetworkid=\"30933612\">50%</font><font style=\"font-family:inherit;font-size:10pt;\"> of our Phase I deployment systems will cease to earn VPF revenue from certain major studios and by December 2017, we expect that nearly all of our Phase I deployment systems will no longer earn VPF revenue from certain major studios.  We expect to continue to earn ancillary revenue streams from the Phase I deployment Systems through December of 2020; however, such amounts are expected to be significantly less material to our consolidated financial statements.  The expected reduction in VPF revenue on our Phase I systems is scheduled to approximately coincide with the conclusion of certain of our non-recourse debt obligations and, therefore, we expect that reduced cash outflows related to such non-recourse debt obligations will partially offset reduced VPF revenue after November 2017.</font></div><div style=\"line-height:120%;text-align:justify;font-size:10pt;\"><font style=\"font-family:inherit;font-size:10pt;\"><br clear=\"none\"></font></div><div style=\"line-height:120%;text-align:justify;font-size:10pt;\"><font style=\"font-family:inherit;font-size:10pt;\">Phase 2 DC&#8217;s agreements with distributors require the payment of VPFs, according to a defined fee schedule, for </font><font style=\"font-family:inherit;font-size:10pt;\">ten</font><font style=\"font-family:inherit;font-size:10pt;\"> years from the date each system is installed; however, Phase 2 DC may no longer collect VPFs once &#8220;cost recoupment,&#8221; as defined in the contracts with movie studios and distributors, is achieved. Cost recoupment will occur once the cumulative VPFs and other cash receipts collected by Phase 2 DC have equaled the total of all cash outflows, including the purchase price of all Systems, all financing costs, all &#8220;overhead and ongoing costs&#8221;, as defined, and including service fees, subject to maximum agreed upon amounts during the three-year rollout period and thereafter. Further, if cost recoupment occurs before the end of the </font><font style=\"font-family:inherit;font-size:10pt;\">eighth</font><font style=\"font-family:inherit;font-size:10pt;\"> contract year, the studios will pay us a one-time &#8220;cost recoupment bonus.&#8221;&#160; Any other cash flows, net of expenses, received by Phase 2 DC following the achievement of cost recoupment are required to be returned to the distributors on a pro-rata basis. At this time, we cannot estimate the timing or probability of the achievement of cost recoupment. Beginning in December 2018, certain Phase 2 DC Systems will have reached the conclusion of their deployment payment period, subject to earlier achievement of cost recoupment. In accordance with existing agreements with distributors, VPF revenues will cease to be recognized on such Systems. Because the Phase II deployment installation period ended in December 2012, a majority of the VPF revenue associated with the Phase II systems will end by December 2022 or earlier if cost recoupment is achieved.</font></div><div style=\"line-height:120%;text-align:justify;font-size:10pt;\"><font style=\"font-family:inherit;font-size:10pt;\"><br clear=\"none\"></font></div><div style=\"line-height:120%;text-align:justify;font-size:10pt;\"><font style=\"font-family:inherit;font-size:10pt;\">Alternative content fees (&#8220;ACFs&#8221;) are earned pursuant to contracts with movie exhibitors, whereby amounts are payable to Phase 1 DC, CDF I and to Phase 2 DC, generally either a fixed amount or as a percentage of the applicable box office revenue derived from the exhibitor&#8217;s showing of content other than feature movies, such as concerts and sporting events (typically referred to as &#8220;alternative content&#8221;). ACF revenue is recognized in the period in which the alternative content first opens for audience viewing.</font></div><div style=\"line-height:120%;text-align:justify;font-size:10pt;\"><font style=\"font-family:inherit;font-size:10pt;\"><br clear=\"none\"></font></div><div style=\"line-height:120%;text-align:justify;font-size:10pt;\"><font style=\"font-family:inherit;font-size:10pt;\">Revenues earned in connection with up front exhibitor contributions are deferred and recognized over the expected cost recoupment period.</font></div><div style=\"line-height:120%;text-align:left;font-size:10pt;\"><font style=\"font-family:inherit;font-size:10pt;\"><br clear=\"none\"></font></div><div style=\"line-height:120%;text-align:justify;font-size:10pt;\"><font style=\"font-family:inherit;font-size:10pt;font-style:italic;font-weight:bold;\">Services</font></div><div style=\"line-height:120%;text-align:justify;font-size:10pt;\"><font style=\"font-family:inherit;font-size:10pt;\"><br clear=\"none\"></font></div><div style=\"line-height:120%;text-align:justify;font-size:10pt;\"><font style=\"font-family:inherit;font-size:10pt;\">Exhibitors who purchased and own Systems using their own financing in the Phase II Deployment paid us an upfront activation fee of approximately </font><font style=\"font-family:inherit;font-size:10pt;\"><span data-cbfactid=\"-1\" data-cbnumtext=\"$2000.0\" data-cbnetworkid=\"30933612\">$2.0</span> thousand</font><font style=\"font-family:inherit;font-size:10pt;\"> per screen (the &#8220;Exhibitor-Buyer Structure&#8221;). Upfront activation fees were recognized in the period in which these Systems were delivered and ready for content, as we had no further obligations to the customer after that time and collection was reasonably assured. In addition, we recognize activation fee revenue of between </font><font style=\"font-family:inherit;font-size:10pt;\"><span data-cbfactid=\"123195128\" data-cbnetworkid=\"30933612\">$1.0</span> thousand</font><font style=\"font-family:inherit;font-size:10pt;\"> and </font><font style=\"font-family:inherit;font-size:10pt;\"><span data-cbfactid=\"-1\" data-cbnumtext=\"$2000.0\" data-cbnetworkid=\"30933612\">$2.0</span> thousand</font><font style=\"font-family:inherit;font-size:10pt;\"> on Phase 2 DC Systems and for Systems installed by CDF2 Holdings, a related party, (See Note 5 - </font><font style=\"font-family:inherit;font-size:10pt;font-style:italic;\">Other Interests</font><font style=\"font-family:inherit;font-size:10pt;\">) upon installation and such fees are generally collected upfront upon installation. Our services segment manages and collects VPFs on behalf of exhibitors, for which it earns an administrative fee equal to </font><font style=\"font-family:inherit;font-size:10pt;\" data-cbfactid=\"-1\" data-cbnumtext=\"10%\" data-cbnetworkid=\"30933612\">10%</font><font style=\"font-family:inherit;font-size:10pt;\"> of the VPFs collected.</font></div><div style=\"line-height:120%;text-align:justify;font-size:10pt;\"><font style=\"font-family:inherit;font-size:10pt;\"><br clear=\"none\"></font></div><div style=\"line-height:120%;text-align:justify;font-size:10pt;\"><font style=\"font-family:inherit;font-size:10pt;\">Our Services segment earns an administrative fee of approximately </font><font style=\"font-family:inherit;font-size:10pt;\" data-cbfactid=\"123195134\" data-cbnetworkid=\"30933612\">5%</font><font style=\"font-family:inherit;font-size:10pt;\"> of VPFs collected and, in addition, earns an incentive service fee equal to </font><font style=\"font-family:inherit;font-size:10pt;\" data-cbfactid=\"-1\" data-cbnumtext=\"2.5%\" data-cbnetworkid=\"30933612\">2.5%</font><font style=\"font-family:inherit;font-size:10pt;\"> of the VPFs earned by Phase 1 DC. This administrative fee is recognized in the period in which the billing of VPFs occurs, as performance obligations have been substantially met at that time.</font></div><div style=\"line-height:120%;text-align:justify;font-size:10pt;\"><font style=\"font-family:inherit;font-size:10pt;\"><br clear=\"none\"></font></div><div style=\"line-height:120%;text-align:justify;font-size:10pt;\"><font style=\"font-family:inherit;font-size:10pt;font-style:italic;font-weight:bold;\">Content &amp; Entertainment</font></div><div style=\"line-height:120%;text-align:justify;font-size:10pt;\"><font style=\"font-family:inherit;font-size:10pt;\"><br clear=\"none\"></font></div><div style=\"line-height:120%;text-align:justify;font-size:10pt;\"><font style=\"font-family:inherit;font-size:10pt;\">CEG earns fees for the distribution of content in the home entertainment markets via several distribution channels, including digital, VOD, and physical goods (e.g. DVD and Blu-ray Discs). Fees earned are typically based on the gross amounts billed to our customers less the amounts owed to the media studios or content producers under distribution agreements, and gross media sales of owned or licensed content. Depending upon the nature of the agreements with the platform and content providers, the fee rate that we earn varies. Generally, revenues are recognized when content is available for subscription on the digital platform, at the time of shipment for physical goods, or point-of-sale for transactional and VOD services. Reserves for sales returns and other allowances are recorded based upon historical experience. If actual future returns and allowances differ from past experience, adjustments to our allowances may be required. Sales returns and allowances are reported as a reduction of revenues.  </font></div><div style=\"line-height:120%;text-align:justify;font-size:10pt;\"><font style=\"font-family:inherit;font-size:10pt;\"><br clear=\"none\"></font></div><div style=\"line-height:120%;text-align:justify;font-size:10pt;\"><font style=\"font-family:inherit;font-size:10pt;\">CEG also has contracts for the theatrical distribution of third party feature movies and alternative content. CEG&#8217;s distribution fee revenue and CEG's participation in box office receipts is recognized at the time a feature movie and alternative content are viewed. CEG has the right to receive or bill a portion of the theatrical distribution fee in advance of the exhibition date, and therefore such amount is recorded as a receivable at the time of execution, and all related distribution revenue is deferred until the third party feature movies&#8217; or alternative content&#8217;s theatrical release date. </font></div><div style=\"line-height:120%;text-align:justify;font-size:10pt;\"><font style=\"font-family:inherit;font-size:10pt;\"><br clear=\"none\"></font></div><div style=\"line-height:120%;text-align:justify;font-size:10pt;\"><font style=\"font-family:inherit;font-size:10pt;\">Revenue is deferred in cases where a portion or the entire contract amount cannot be recognized as revenue due to non-delivery of services. Such amounts are classified as deferred revenue and are recognized as earned revenue in accordance with our revenue recognition policies described above.</font></div><div style=\"line-height:120%;text-align:justify;font-size:10pt;\"><font style=\"font-family:inherit;font-size:10pt;\"><br clear=\"none\"></font></div></div>"
      ],
      "text/plain": [
       "<IPython.core.display.HTML object>"
      ]
     },
     "metadata": {},
     "output_type": "display_data"
    },
    {
     "data": {
      "text/html": [
       "<h1>DreamWorks Animation SKG, Inc. - Fiscal Year 2015</h1><div style=\"font-family:Times New Roman;font-size:10pt;\"><div style=\"line-height:120%;font-size:10pt;\"><font style=\"font-family:inherit;font-size:10pt;font-style:italic;font-weight:bold;\">Revenue Recognition</font></div><div style=\"line-height:120%;font-size:8pt;\"><font style=\"font-family:inherit;font-size:8pt;font-style:italic;font-weight:bold;\">&#160;</font></div><div style=\"line-height:120%;text-indent:36px;font-size:10pt;\"><font style=\"font-family:inherit;font-size:10pt;\">The Company recognizes revenue from the distribution of its animated feature films when earned and reported to it by its distributors. Pursuant to the Company's distribution arrangements with Fox, Paramount and ODW, the Company recognizes revenues derived from its feature films net of reserves for returns, rebates and other incentives after the particular distributor has retained its respective distribution fees (without deduction for any distribution and marketing costs or third-party distribution and fulfillment services fees) and recovered all of its permissible distribution and marketing costs with respect to the Company's films on a title-by-title basis. Fox retains a fee of </font><font style=\"font-family:Times New Roman;font-size:10pt;color:#000000;font-style:normal;font-weight:normal;text-decoration:none;\" data-cbfactid=\"-1\" data-cbnumtext=\"8.0%\" data-cbnetworkid=\"28115257\">8.0%</font><font style=\"font-family:inherit;font-size:10pt;\"> of all theatrical gross receipts and home video gross receipts, except in connection with certain pay television and video-on-demand rights and other digital distribution rights, for which the fee is </font><font style=\"font-family:Times New Roman;font-size:10pt;color:#000000;font-style:normal;font-weight:normal;text-decoration:none;\" data-cbfactid=\"113241415\" data-cbnetworkid=\"28115257\">6.0%</font><font style=\"font-family:inherit;font-size:10pt;\">. Paramount retains a distribution fee of </font><font style=\"font-family:inherit;font-size:10pt;\" data-cbfactid=\"-1\" data-cbnumtext=\"8.0%\" data-cbnetworkid=\"28115257\">8.0%</font><font style=\"font-family:inherit;font-size:10pt;\"> of revenues across all markets. ODW retains a fee of </font><font style=\"font-family:Times New Roman;font-size:10pt;color:#000000;font-style:normal;font-weight:normal;text-decoration:none;\" data-cbfactid=\"-1\" data-cbnumtext=\"8.0%\" data-cbnetworkid=\"28115257\">8.0%</font><font style=\"font-family:inherit;font-size:10pt;\"> of all gross receipts for the markets in which it distributes. For further discussion of the Company's primary distribution arrangements, refer to Note 4.</font></div><div style=\"line-height:120%;text-indent:36px;font-size:10pt;\"><font style=\"font-family:inherit;font-size:10pt;\"><br clear=\"none\"></font></div><div style=\"line-height:120%;text-indent:36px;font-size:10pt;\"><font style=\"font-family:inherit;font-size:10pt;\">Additionally, because third parties are the principal distributors of the Company's films, the amount of revenue that is recognized from films in any given period is dependent on the timing, accuracy and sufficiency of the information received from its distributors. As is typical in the film industry, the Company's distributors may make adjustments in future periods to information previously provided to the Company that could have a material impact on the Company's operating results in later periods. Furthermore, management may, in its judgment, make material adjustments to the information reported by its distributors in future periods to ensure that revenues are accurately reflected in the Company's financial statements. To date, the distributors have not made, nor has the Company made, subsequent material adjustments to information</font><font style=\"font-family:inherit;font-size:10pt;font-weight:bold;\"> </font><font style=\"font-family:inherit;font-size:10pt;\">provided by the distributors and used in the preparation of the Company's historical financial statements.</font></div><div style=\"line-height:120%;text-indent:36px;font-size:10pt;\"><font style=\"font-family:inherit;font-size:10pt;\"><br clear=\"none\"></font></div><div style=\"line-height:120%;text-indent:36px;font-size:10pt;\"><font style=\"font-family:inherit;font-size:10pt;\">Revenue from the theatrical exhibition of films is recognized at the later of when a film is exhibited in theaters or when revenue is reported by the Company's distributors.</font></div><div style=\"line-height:120%;text-indent:36px;font-size:10pt;\"><font style=\"font-family:inherit;font-size:10pt;\"><br clear=\"none\"></font></div><div style=\"line-height:120%;text-indent:36px;font-size:10pt;\"><font style=\"font-family:inherit;font-size:10pt;\">Revenue from both free and pay television licensing agreements for the Company's films is recognized at the later of the time the production is made available for exhibition in those markets or it is reported by its distributors.</font></div><div style=\"line-height:120%;text-indent:36px;font-size:10pt;\"><font style=\"font-family:inherit;font-size:10pt;\"><br clear=\"none\"></font></div><div style=\"line-height:120%;text-indent:36px;font-size:10pt;\"><font style=\"font-family:inherit;font-size:10pt;\">The Company has also entered into licensing arrangements directly with third parties to digitally distribute its feature film and television series/specials content. Such revenues are recorded on a gross basis as they are not typically subject to the distribution arrangements with the Company's primary distributors and, accordingly, the Company receives payment and records revenues directly from third parties. Revenues generated under these licensing arrangements is recognized at the later of the time when the content has been delivered to and accepted by the licensee or the commencement of the license term. </font></div><div style=\"line-height:120%;text-indent:36px;font-size:10pt;\"><font style=\"font-family:inherit;font-size:10pt;\"><br clear=\"none\"></font></div><div style=\"line-height:120%;text-indent:36px;font-size:10pt;\"><font style=\"font-family:inherit;font-size:10pt;\">Revenue from the sale of feature film home video units is recognized at the later of when product is made available for retail sale and&#160;when sales to customers are reported by third parties, such as fulfillment service providers or distributors. Revenue from the sale of home video units for other content (such as television series/specials) is recorded on a gross basis (because the Company is considered the principal in the transactions) and is recognized when the criteria for revenue recognition have been met. Certain of the Company's home video distribution arrangements for its non-feature film content include non-refundable, but recoupable, minimum guarantees. Minimum guarantees that are not fully recouped are recognized as revenue once the minimum guarantee period has expired and the Company is able to determine the amount of remaining revenues to be recognized. The criteria the Company evaluates to determine whether it is able to recognize revenue include persuasive evidence of an arrangement exists, the price is fixed and determinable, delivery has occurred or services have been rendered, risk of inventory loss has transferred and collectibility is reasonably assured. </font></div><div style=\"line-height:120%;text-indent:36px;font-size:10pt;\"><font style=\"font-family:inherit;font-size:10pt;\"><br clear=\"none\"></font></div><div style=\"line-height:120%;text-indent:36px;font-size:10pt;\"><font style=\"font-family:inherit;font-size:10pt;\">In addition, the Company and its distributors provide for future returns of home video product and for customer programs and sales incentives. The Company and its distributors calculates these estimates by analyzing a combination of historical returns, current economic trends, projections of consumer demand for the Company's product and point-of-sale data available from certain retailers. Based on this information, a percentage of each sale is reserved. Customers are typically given varying rights of return, which may include <span data-cbfactid=\"113242721\" data-cbnetworkid=\"28115257\">100%</span> return rights. Although the Company and its distributors allow various rights of return for customers, management does not believe that these rights are critical in establishing return estimates, because other factors, such as historical experience with similar types of sales, information received from retailers and management's assessment of the product's appeal based on domestic box office success and other research, are more important to the estimation process.</font><font style=\"font-family:inherit;font-size:10pt;font-weight:bold;\"> </font></div><div style=\"line-height:120%;text-indent:36px;font-size:10pt;\"><font style=\"font-family:inherit;font-size:10pt;\"><br clear=\"none\"></font></div><div style=\"line-height:120%;text-indent:36px;font-size:10pt;\"><font style=\"font-family:inherit;font-size:10pt;\">Revenue from merchandising and other licensing arrangements is recognized when the associated feature film or television series/special has been released and the criteria for revenue recognition have been met. The criteria that the Company uses to evaluate whether it is able to recognize revenue include the following: persuasive evidence of an arrangement exists, the price is fixed and determinable, delivery has occurred or services have been rendered (including whether the license term has commenced) and collectibility is reasonably assured. Licensing and merchandising related minimum guarantees are generally recognized as revenue upon the theatrical release of a film and royalty-based revenues (revenues based upon a percentage of net sales of the products) are generally recognized as revenue in periods when royalties are reported by licensees or cash is received.</font></div><div style=\"line-height:120%;text-indent:36px;font-size:10pt;\"><font style=\"font-family:inherit;font-size:10pt;\"><br clear=\"none\"></font></div><div style=\"line-height:120%;text-indent:36px;font-size:10pt;\"><font style=\"font-family:inherit;font-size:10pt;\">Certain of the Company's arrangements may qualify as multiple deliverable arrangements if the licensee is granted the right to exploit more than one of the Company's titles or properties. The license period for each property under a multiple deliverable arrangement may vary by title or property. Revenue associated with multiple deliverable arrangements is allocated to each title or property based on relative selling price. In determining the relative selling price of each title or property, the Company considers a variety of factors including (but not limited to) the period of time a title or property has already been exploited in the marketplace, whether the title is a sequel, the duration of the license period being granted, the territories for which the license is being granted, similar arrangements and type of content or property being licensed. Revenue for each title or property will be recognized when it is available to the licensee for exploitation.</font></div><div style=\"line-height:120%;text-indent:36px;font-size:10pt;\"><font style=\"font-family:inherit;font-size:10pt;\"><br clear=\"none\"></font></div><div style=\"line-height:120%;text-indent:36px;font-size:10pt;\"><font style=\"font-family:inherit;font-size:10pt;\">As a result of one of the Company's agreements with Netflix, it is currently developing and producing original episodic content in order to fulfill its obligations under the agreement. In cases where a television series is based on characters from one of the Company's feature films, a portion of the third-party revenues generated by the new series is allocated to the feature film title from which the series originated. This revenue allocation represents a license fee charged to the television series for use of intellectual property derived from the related feature film.  </font></div><div style=\"line-height:120%;text-indent:36px;font-size:10pt;\"><font style=\"font-family:inherit;font-size:10pt;\"><br clear=\"none\"></font></div><div style=\"line-height:120%;text-indent:36px;font-size:10pt;\"><font style=\"font-family:inherit;font-size:10pt;\">Long-term, non-interest-bearing receivables arising from licensing agreements are discounted to present value. Accordingly, revenues are recorded net of such discount. Interest income is recognized from the imputation of interest in accordance with the effective interest rate method and classified as \"Interest income, net\" in the Company's consolidated statements of operations.</font></div><div style=\"line-height:120%;text-indent:36px;font-size:10pt;\"><font style=\"font-family:inherit;font-size:10pt;\"><br clear=\"none\"></font></div></div>"
      ],
      "text/plain": [
       "<IPython.core.display.HTML object>"
      ]
     },
     "metadata": {},
     "output_type": "display_data"
    },
    {
     "data": {
      "text/html": [
       "<h1>Gaia, Inc - Fiscal Year 2015</h1><div>\n",
       " <p style=\"MARGIN-BOTTOM: 0pt; FONT-SIZE: 10pt; FONT-FAMILY: Times New Roman; MARGIN-TOP: 18pt\">\n",
       " <i>Revenue</i></p>\n",
       " <p style=\"MARGIN-BOTTOM: 0pt; FONT-SIZE: 10pt; FONT-FAMILY: Times New Roman; MARGIN-TOP: 6pt\">\n",
       " We recognize revenue in our Gaiam Brand segment when the goods are\n",
       " shipped to the customer and collection is either probable or has\n",
       " occurred. The amount of revenue recognized is net of estimated\n",
       " returns and other chargebacks (or channel credits), which are\n",
       " estimated using historical return and credit rates. If the actual\n",
       " amount of returns and chargebacks were to vary significantly from\n",
       " our estimates, it could materially impact our results of operations\n",
       " in subsequent periods. We recognize amounts billed to customers for\n",
       " postage and handling as revenue at the same time we recognize the\n",
       " revenue arising from the product sale. Travel revenues are\n",
       " recognized in the period which the trip begins. We recognize\n",
       " revenue in our Gaia segment ratably over the subscription period\n",
       " after collection has occurred. We present revenue net of taxes\n",
       " collected from customers.</p>\n",
       " </div>"
      ],
      "text/plain": [
       "<IPython.core.display.HTML object>"
      ]
     },
     "metadata": {},
     "output_type": "display_data"
    },
    {
     "data": {
      "text/html": [
       "<h1>Genius Brands International, Inc. - Fiscal Year 2015</h1><p style=\"font: 10pt Times New Roman, Times, Serif; margin: 0pt 0; text-align: justify\"><font style=\"font-size: 8pt\"></font></p>\r",
       "\r",
       "<p style=\"font: 10pt Times New Roman, Times, Serif; margin: 0pt 0; text-align: justify\"><font style=\"font-size: 8pt\"><i>Revenue\r",
       "Recognition</i></font></p>\r",
       "\r",
       "<p style=\"font: 10pt Times New Roman, Times, Serif; margin: 0pt 0; text-align: justify\"><font style=\"font-size: 8pt\">&#160;</font></p>\r",
       "\r",
       "<p style=\"font: 10pt Times New Roman, Times, Serif; margin: 0pt 0; text-align: justify\"><font style=\"font-size: 8pt\">The Company\r",
       "recognized revenue related to product sales when (i) the seller&#146;s price is substantially fixed, (ii) shipment has occurred\r",
       "causing the buyer to be obligated to pay for product, (iii) the buyer has economic substance apart from the seller, and (iv) there\r",
       "is no significant obligation for future performance to directly bring about the resale of the product by the buyer as required\r",
       "by ASC 605 Revenue Recognition.</font></p>\r",
       "\r",
       "<p style=\"font: 10pt Times New Roman, Times, Serif; margin: 0pt 0; text-align: justify\"><font style=\"font-size: 8pt\">&#160;</font></p>\r",
       "\r",
       "<p style=\"font: 10pt Times New Roman, Times, Serif; margin: 0pt 0; text-align: justify\"><font style=\"font-size: 8pt\">Revenues\r",
       "associated with the sale of products are recorded when shipped to customers pursuant to approved customer purchase orders resulting\r",
       "in the transfer of title and risk of loss.&#160;Cost of sales, rebates and discounts are recorded at the time of revenue recognition\r",
       "or at each financial reporting date.</font></p>\r",
       "\r",
       "<p style=\"font: 10pt Times New Roman, Times, Serif; margin: 0pt 0; text-align: justify\"><font style=\"font-size: 8pt\">&#160;</font></p>\r",
       "\r",
       "<p style=\"font: 10pt Times New Roman, Times, Serif; margin: 0pt 0; text-align: justify\"><font style=\"font-size: 8pt\">The Company\r",
       "recognizes revenue in accordance with ASC 926-605 Entertainment-Films - Revenue Recognition. Accordingly, the Company recognizes\r",
       "revenue when (i) persuasive evidence of a sale with customer exists, (ii) the film is complete and has been delivered or is available\r",
       "for delivery, (iii) the license period of the arrangement has begun and the customer can begin its exploitation, exhibition, or\r",
       "sale, (iv) the arrangement fee is fixed or determinable, and (v) collection of the arrangement fee is reasonably assured.</font></p>\r",
       "\r",
       "<p style=\"font: 10pt Times New Roman, Times, Serif; margin: 0pt 0; text-align: justify\"><font style=\"font-size: 8pt\">&#160;</font></p>\r",
       "\r",
       "<p style=\"font: 10pt Times New Roman, Times, Serif; margin: 0pt 0; text-align: justify\"><font style=\"font-size: 8pt\">For its distribution,\r",
       "TV, and home entertainment income the Company generally enters in to flat fee arrangements to deliver multiple films or episodes.\r",
       "The Company allocates revenue to each film or episode based on their relative fair market values and recognizes revenue as each\r",
       "film or episode is complete and available for delivery.</font></p>\r",
       "\r",
       "<p style=\"font: 10pt Times New Roman, Times, Serif; margin: 0pt 0; text-align: justify\"><font style=\"font-size: 8pt\">&#160;</font></p>\r",
       "\r",
       "<p style=\"font: 10pt Times New Roman, Times, Serif; margin: 0pt 0; text-align: justify\"><font style=\"font-size: 8pt\">The Company&#146;s\r",
       "licensing and royalty revenue represents both (a) variable payments based on net sales from brand licensees for content distribution\r",
       "rights. These license agreements are held in conjunction with third parties that are responsible for collecting fees due and remitting\r",
       "to the Company its share after expenses. Revenue from licensed products is recognized when realized or realizable based on royalty\r",
       "reporting received from licensees and (b) licensing income the Company recognizes revenue as an agent in accordance with ASC 605-45\r",
       "Revenue Recognition - Principal Agent. Accordingly, the Company&#146;s revenue is its gross billings to its customers less the\r",
       "amounts it pays to suppliers for their products and services.</font></p>"
      ],
      "text/plain": [
       "<IPython.core.display.HTML object>"
      ]
     },
     "metadata": {},
     "output_type": "display_data"
    },
    {
     "data": {
      "text/html": [
       "<h1>Goliath Film & Media Holdings - Fiscal Year 2015</h1><p style=\"font: 10pt/normal Times New Roman, Times, Serif; margin: 0; text-align: justify\"><u>Revenue Recognition</u></p>\r",
       "\r",
       "<p style=\"font: 10pt/normal Times New Roman, Times, Serif; margin: 0; text-align: justify\">&#160;</p>\r",
       "\r",
       "<p style=\"font: 10pt/normal Times New Roman, Times, Serif; margin: 0; text-align: justify\">We will recognize revenues in accordance\r",
       "with ASC 926-605, &#8220;Entertainment Films, Revenue Recognition&#8221;.</p>\r",
       "\r",
       "<p style=\"font: 10pt/normal Times New Roman, Times, Serif; margin: 0; text-align: justify\">&#160;</p>\r",
       "\r",
       "<p style=\"font: 10pt/normal Times New Roman, Times, Serif; margin: 0; text-align: justify\">Under ASC 926-605, five conditions must\r",
       "be met before revenue can be recognized: (i) there is persuasive evidence that an arrangement exists, (ii) the film is complete\r",
       "and has been delivered, (iii) the license period has begun, (iv) the price is fixed or determinable, and (v) collection is reasonably\r",
       "assured. The Company provides for an allowance for doubtful account based history and experience considering economic and industry\r",
       "trends. The Company does not have any off-Balance Sheet exposure related to its customers.</p>\r",
       "\r",
       "<p style=\"font: 10pt/normal Times New Roman, Times, Serif; margin: 0; text-align: justify\">&#160;</p>\r",
       "\r",
       "<p style=\"font: 10pt/normal Times New Roman, Times, Serif; margin: 0; text-align: justify\">The Company recognizes revenue when\r",
       "the distributor confirms to the Company that the film has been delivered to the distributor with all technical and document deliveries\r",
       "received, waived or deferred and the film has been entered into the distributor&#8217;s rights system.</p>"
      ],
      "text/plain": [
       "<IPython.core.display.HTML object>"
      ]
     },
     "metadata": {},
     "output_type": "display_data"
    },
    {
     "data": {
      "text/html": [
       "<h1>InCapta, Inc. - Fiscal Year 2015</h1><div><p style=\"font: bold 10pt/normal 'times new roman', times, serif; margin: 0px; text-align: justify; color: #000000; text-transform: none; text-indent: 0px; letter-spacing: normal; word-spacing: 0px; white-space: normal; widows: 1; font-stretch: normal; -webkit-text-stroke-width: 0px;\"><font style=\"background-color: white;\">Revenue Recognition.</font></p><p style=\"font: 10pt/normal 'times new roman', times, serif; margin: 0px; text-align: justify; color: #000000; text-transform: none; text-indent: 0.5in; letter-spacing: normal; word-spacing: 0px; white-space: normal; widows: 1; font-stretch: normal; background-color: white; -webkit-text-stroke-width: 0px;\">&#160;</p><p style=\"font: 10pt/normal 'times new roman', times, serif; margin: 0px; text-align: justify; color: #000000; text-transform: none; text-indent: 0px; letter-spacing: normal; word-spacing: 0px; white-space: normal; widows: 1; font-stretch: normal; -webkit-text-stroke-width: 0px;\">The Company generates revenue from three sources: sale of game applications, sale of advertising provided with games, internet marketing sales with games on per click basis (<span data-cbfactid=\"-1\" data-cbnumtext=\"$0.01\">$0.01</span> or <span data-cbfactid=\"128458783\">$0.02</span> per click) by users. The Company recognizes revenue using four basic criteria that must be met before revenue can be recognized: (1) persuasive evidence of an arrangement exists; (2) delivery has occurred; (3) the selling price is fixed and determinable; and (4) collectability is reasonably assured, which is typically after receipt of payment and delivery. The Company has service agreements with Apple and Google, and the Company receives revenue on net basis, which is 70% and 60% of the revenue from sale of game applications and sale of advertising provided with games.</p></div>"
      ],
      "text/plain": [
       "<IPython.core.display.HTML object>"
      ]
     },
     "metadata": {},
     "output_type": "display_data"
    },
    {
     "data": {
      "text/html": [
       "<h1>Lions Gate Entertainment Corp /CN/ - Fiscal Year 2016</h1><div style=\"font-family:Times New Roman;font-size:10pt;\"><div style=\"line-height:120%;padding-top:8px;text-align:left;text-indent:8px;font-size:10pt;\"><font style=\"font-family:inherit;font-size:10pt;font-style:italic;font-weight:bold;\">Revenue Recognition</font></div><div style=\"line-height:120%;padding-top:8px;text-align:left;text-indent:20px;font-size:10pt;\"><font style=\"font-family:inherit;font-size:10pt;\">Revenue from the theatrical release of feature films is recognized at the time of exhibition based on the Company's participation in box office receipts. Revenue from the sale of DVDs and Blu-ray discs in the retail market, net of an allowance for estimated returns and other allowances, is recognized on the later of receipt by the customer or &#8220;street date&#8221; (when it is available for sale by the customer). Under revenue sharing arrangements, including digital and electronic-sell-through (\"EST\") arrangements, such as download-to-own, download-to-rent, video-on-demand and subscription video-on-demand, revenue is recognized when the Company is entitled to receipts and such receipts are determinable. Revenues from television or digital licensing for fixed fees are recognized when the feature film or television program is available to the licensee for telecast. For television licenses that include separate availability &#8220;windows&#8221; during the license period, revenue is allocated over the &#8220;windows.&#8221; Revenue from sales to international territories are recognized when access to the feature film or television program has been granted or delivery has occurred, as required under the sales contract, and the right to exploit the feature film or television program has commenced. For multiple media rights contracts with a fee for a single film or television program where the contract provides for media holdbacks (defined as contractual media release restrictions), the fee is allocated to the various media based on the Company's assessment of the relative fair value of the rights to exploit each media and is recognized as each holdback is released. For multiple-title contracts with a fee, the fee is allocated on a title-by-title basis, based on the Company's assessment of the relative fair value of each title.</font></div><div style=\"line-height:120%;padding-top:8px;text-align:left;text-indent:20px;font-size:10pt;\"><font style=\"font-family:inherit;font-size:10pt;\">Cash payments received are recorded as deferred revenue until all the conditions of revenue recognition have been met. Long-term, non-interest bearing receivables are discounted to present value.</font></div></div>"
      ],
      "text/plain": [
       "<IPython.core.display.HTML object>"
      ]
     },
     "metadata": {},
     "output_type": "display_data"
    },
    {
     "data": {
      "text/html": [
       "<h1>Litera Group Inc - Fiscal Year 2015</h1><p style=\"margin: 0pt; text-align: justify\">\r",
       "\r",
       "<p style=\"font: 10pt Times New Roman, Times, Serif; margin: 0; text-align: justify\"><font style=\"font: 10pt Times New Roman, Times, Serif\">The\r",
       "Company will generate revenues from the sale of movie scripts. Revenues are recognized when the following conditions are met:</font></p>\r",
       "\r",
       "<p style=\"font: 10pt Times New Roman, Times, Serif; margin: 0; text-align: justify; text-indent: 0.5in\"><font style=\"font: 10pt Times New Roman, Times, Serif\">&#160;</font></p>\r",
       "\r",
       "<table cellspacing=\"0\" cellpadding=\"0\" style=\"font: 10pt Times New Roman, Times, Serif; width: 100%\">\r",
       "<tr style=\"vertical-align: top\">\r",
       "    <td style=\"width: 45px; text-align: justify\"><font style=\"font: 10pt Times New Roman, Times, Serif\">1.\r",
       "    </font></td>\r",
       "    <td style=\"text-align: justify\"><font style=\"font: 10pt Times New Roman, Times, Serif\">Persuasive evidence\r",
       "    of a sale or license agreement exists with a customer</font></td></tr>\r",
       "<tr style=\"vertical-align: top\">\r",
       "    <td style=\"text-align: justify\"><font style=\"font: 10pt Times New Roman, Times, Serif\">&#160;</font></td>\r",
       "    <td style=\"text-align: justify\"><font style=\"font: 10pt Times New Roman, Times, Serif\">&#160;</font></td></tr>\r",
       "<tr style=\"vertical-align: top\">\r",
       "    <td style=\"text-align: justify\"><font style=\"font: 10pt Times New Roman, Times, Serif\">2. </font></td>\r",
       "    <td style=\"text-align: justify\"><font style=\"font: 10pt Times New Roman, Times, Serif\">The script is complete\r",
       "    and has been delivered or is immediately available to be delivered in accordance with the terms of the agreement.</font></td></tr>\r",
       "<tr style=\"vertical-align: top\">\r",
       "    <td style=\"text-align: justify\"><font style=\"font: 10pt Times New Roman, Times, Serif\">&#160;</font></td>\r",
       "    <td style=\"text-align: justify\"><font style=\"font: 10pt Times New Roman, Times, Serif\">&#160;</font></td></tr>\r",
       "<tr style=\"vertical-align: top\">\r",
       "    <td style=\"text-align: justify\"><font style=\"font: 10pt Times New Roman, Times, Serif\">3. </font></td>\r",
       "    <td style=\"text-align: justify\"><font style=\"font: 10pt Times New Roman, Times, Serif\">The license period\r",
       "    for the arrangement has started and the customer can begin exploitation, exhibition or sale.</font></td></tr>\r",
       "<tr style=\"vertical-align: top\">\r",
       "    <td style=\"text-align: justify\"><font style=\"font: 10pt Times New Roman, Times, Serif\">&#160;</font></td>\r",
       "    <td style=\"text-align: justify\"><font style=\"font: 10pt Times New Roman, Times, Serif\">&#160;</font></td></tr>\r",
       "<tr style=\"vertical-align: top\">\r",
       "    <td style=\"text-align: justify\"><font style=\"font: 10pt Times New Roman, Times, Serif\">4. </font></td>\r",
       "    <td style=\"text-align: justify\"><font style=\"font: 10pt Times New Roman, Times, Serif\">The arrangement\r",
       "    fee is fixed or determinable</font></td></tr>\r",
       "<tr style=\"vertical-align: top\">\r",
       "    <td style=\"text-align: justify\"><font style=\"font: 10pt Times New Roman, Times, Serif\">&#160;</font></td>\r",
       "    <td style=\"text-align: justify\"><font style=\"font: 10pt Times New Roman, Times, Serif\">&#160;</font></td></tr>\r",
       "<tr style=\"vertical-align: top\">\r",
       "    <td style=\"text-align: justify\" data-cbfactid=\"117504968\"><font style=\"font: 10pt Times New Roman, Times, Serif\">5. </font></td>\r",
       "    <td style=\"text-align: justify\"><font style=\"font: 10pt Times New Roman, Times, Serif\">Collection of the\r",
       "    arrangement fee is reasonably assured.</font></td></tr>\r",
       "</table>\r",
       "<p style=\"font: 10pt Times New Roman, Times, Serif; margin: 0; text-align: justify; text-indent: 0.5in\"><font style=\"font: 10pt Times New Roman, Times, Serif\">&#160;</font></p>\r",
       "\r",
       "<p style=\"font: 10pt Times New Roman, Times, Serif; margin: 0; text-align: justify\"><font style=\"font: 10pt Times New Roman, Times, Serif\">If\r",
       "any of the above conditions are not met, the Company will defer revenue until all conditions are met.</font></p>"
      ],
      "text/plain": [
       "<IPython.core.display.HTML object>"
      ]
     },
     "metadata": {},
     "output_type": "display_data"
    },
    {
     "data": {
      "text/html": [
       "<h1>Marcus Corp - Fiscal Year 2015</h1><div style=\"MARGIN: 0pt 0px; FONT: 10pt Times New Roman, Times, Serif \"> <div style=\"CLEAR:both; FONT-FAMILY:Times New Roman;FONT-SIZE: 10pt;TEXT-INDENT: 29.7pt; MARGIN: 0in 0in 0pt\" align=\"justify\"></div> <div style=\"CLEAR:both; FONT-FAMILY:Times New Roman;FONT-SIZE: 10pt;MARGIN: 0in 0in 0pt\" align=\"justify\"><strong><font style=\"FONT-SIZE: 10pt\">Revenue Recognition -</font></strong> <font style=\"FONT-SIZE: 10pt\">The Company recognizes revenue from its rooms as earned on the close of business each day. Revenues from theatre admissions, concessions and food and beverage sales are recognized at the time of sale. Revenues from advanced ticket and gift certificate sales are recorded as deferred revenue and are recognized when tickets or gift certificates are redeemed. The Company had deferred revenue of $<font style=\"FONT-FAMILY: 'Times New Roman','serif'; FONT-SIZE: 10pt\" data-cbfactid=\"116689397\">25,770,000</font>, $<font style=\"FONT-FAMILY: 'Times New Roman','serif'; FONT-SIZE: 10pt\" data-cbfactid=\"116689398\">18,502,000</font> and $<font style=\"FONT-FAMILY: 'Times New Roman','serif'; FONT-SIZE: 10pt\" data-cbfactid=\"116689399\">16,028,000</font>, which is included in other accrued liabilities, as of December 31, 2015, May 28, 2015 and May 29, 2014, respectively. Gift card breakage income is recognized based upon historical redemption patterns and represents the balance of gift cards for which the Company believes the likelihood of redemption by the customer is remote. Gift card breakage income is recorded in other revenues in the consolidated statements of earnings.</font></div> <font style=\"FONT-FAMILY: 'Times New Roman','serif'; FONT-SIZE: 10pt\"></font> <div style=\"CLEAR:both; FONT-FAMILY:Times New Roman;FONT-SIZE: 10pt;TEXT-INDENT: 29.7pt; MARGIN: 0in 0in 0pt\" align=\"justify\"><font style=\"FONT-SIZE: 10pt\">&#160;</font></div> <div style=\"CLEAR:both; FONT-FAMILY:Times New Roman;FONT-SIZE: 10pt;MARGIN: 0in 0in 0pt\" align=\"justify\"><font style=\"FONT-SIZE: 10pt\">Other revenues include management fees for theatres and hotels under management agreements. The management fees are recognized as earned based on the terms of the agreements and include both base fees and incentive fees. Revenues do not include sales tax as the Company considers itself a pass-through conduit for collecting and remitting sales tax.</font></div> </div><table border=\"0\" style=\"width:100%; table-layout:fixed;\" cellspacing=\"0\" cellpadding=\"0\"><tr><td></td></tr></table>"
      ],
      "text/plain": [
       "<IPython.core.display.HTML object>"
      ]
     },
     "metadata": {},
     "output_type": "display_data"
    },
    {
     "data": {
      "text/html": [
       "<h1>Momentous Entertainment Group Inc - Fiscal Year 2015</h1><!--egx--><p style='text-align:justify;margin:0in 0in 0pt'><i>Revenue Recognition</i></p> <p style='text-align:justify;margin:0in 0in 0pt'>&nbsp;</p> <p style='text-align:justify;margin:0in 0in 0pt'>&nbsp;&nbsp;&nbsp;&nbsp;&nbsp;&nbsp;&nbsp;&nbsp;&nbsp;&nbsp;&nbsp;&nbsp;&nbsp;&nbsp;&nbsp; The Company follows ASC 605-10-S99-1 for revenue recognition. The Company recognizes revenue when it is realized or realizable and earned less estimated future doubtful accounts. The Company considers revenue realized or realizable and earned when all of the following criteria are met: (i) persuasive evidence of an arrangement exists, (ii) the services have been rendered to the customer, (iii) the sales price is fixed or determinable, and (iv) collectability is reasonably assured.</p>"
      ],
      "text/plain": [
       "<IPython.core.display.HTML object>"
      ]
     },
     "metadata": {},
     "output_type": "display_data"
    },
    {
     "data": {
      "text/html": [
       "<h1>Netflix Inc - Fiscal Year 2015</h1><div style=\"font-family:Times New Roman;font-size:10pt;\"><div style=\"line-height:120%;padding-top:6px;text-indent:32px;font-size:10pt;\"><font style=\"font-family:inherit;font-size:10pt;\">Revenues are recognized ratably over each monthly membership period.  Revenues are presented net of the taxes that are collected from members and remitted to governmental authorities.  Deferred revenue consists of membership fees billed that have not been recognized and gift and other prepaid memberships that have not been redeemed.   </font></div></div>"
      ],
      "text/plain": [
       "<IPython.core.display.HTML object>"
      ]
     },
     "metadata": {},
     "output_type": "display_data"
    },
    {
     "data": {
      "text/html": [
       "<h1>Pow! Entertainment, Inc. - Fiscal Year 2015</h1><div style=\"MARGIN: 0pt 0px; FONT: 10pt Times New Roman, Times, Serif \"> <div style=\"CLEAR:both; FONT-FAMILY:Times New Roman;FONT-SIZE: 10pt;TEXT-INDENT: 0.5in; MARGIN: 0in 0in 0pt 0.25in\"> </div> <div style=\"CLEAR:both; FONT-FAMILY:Times New Roman;FONT-SIZE: 10pt;MARGIN: 0in 0in 0pt 0.25in\"> <strong><font style=\"FONT-SIZE: 10pt\"><font style=\"FONT-FAMILY: 'Times New Roman','serif'; FONT-SIZE: 10pt\"></font>Revenue Recognition&#151;</font></strong> <font style=\"FONT-SIZE: 10pt\">As a creator of intellectual property, the majority of the Company&#8217;s business is derived from contracts with third parties providing for the development and use of intellectual property developed by the Company.</font></div> <div style=\"CLEAR:both; FONT-FAMILY:Times New Roman;FONT-SIZE: 10pt;TEXT-INDENT: 0.5in; MARGIN: 0in 0in 0pt 0.25in\"> <font style=\"FONT-SIZE: 10pt\">&#160;</font></div> <div style=\"CLEAR:both; FONT-FAMILY:Times New Roman;FONT-SIZE: 10pt;MARGIN: 0in 0in 0pt 0.25in\"> <font style=\"FONT-SIZE: 10pt\">The Company records revenue from these sources: artist consulting, film rights, animated television and comic-book royalties. In accounting for these contracts, the Company recognizes revenue when services have been rendered or when contractual parameters have been satisfied and are measureable.</font></div> <div style=\"CLEAR:both; FONT-FAMILY:Times New Roman;FONT-SIZE: 10pt;MARGIN: 0in 0in 0pt 0.25in\"> <font style=\"FONT-SIZE: 10pt\"></font>&#160;</div> <div style=\"CLEAR:both; FONT-FAMILY:Times New Roman;FONT-SIZE: 10pt;MARGIN: 0in 0in 0pt 0.25in\" align=\"left\"><font style=\"FONT-SIZE: 10pt\"></font><font style=\"FONT-SIZE: 10pt\"><font style=\"FONT-SIZE: 10pt\">Our contract with Silver Creek Pictures (&#8220;Silver Creek&#8221;), an affiliate of The Walt Disney Company, called for per annum payments of nonrecoupable overhead allowance of $<font style=\"FONT-FAMILY: 'Times New Roman','serif'; FONT-SIZE: 10pt\" data-cbfactid=\"117754546\">700,000</font> and nonrecoupable consulting services for Stan lee of $<font style=\"FONT-FAMILY: 'Times New Roman','serif'; FONT-SIZE: 10pt\" data-cbfactid=\"117754547\">1,250,000</font>. The contract expired in December 2014. Revenue from Silver Creek is recorded based on the guidance from ASC 605: revenues are considered to have been earned when the entity has substantially accomplished what it must do to be entitled to the benefits represented by the revenues.<font style=\"FONT-FAMILY: 'Times New Roman','serif'; FONT-SIZE: 10pt\"></font></font></font></div> </div><table border=\"0\" style=\"width:100%; table-layout:fixed;\" cellspacing=\"0\" cellpadding=\"0\"><tr><td></td></tr></table>"
      ],
      "text/plain": [
       "<IPython.core.display.HTML object>"
      ]
     },
     "metadata": {},
     "output_type": "display_data"
    },
    {
     "data": {
      "text/html": [
       "<h1>Reading International Inc - Fiscal Year 2015</h1><div> <div style=\"margin-left:0pt;margin-right:0pt;\">\n",
       "\t\t<p style=\"margin:0pt;text-align:left;font-family:Times New Roman;text-justify:inter-ideograph;font-size: 10pt\">\n",
       "\t\t\t<font style=\"display: inline;font-weight:bold;font-style:italic;\">Revenue Recognition</font>\n",
       "\t\t</p>\n",
       "\t\t<p style=\"margin:0pt 0pt 10pt;text-align:left;font-family:Times New Roman;text-justify:inter-ideograph;font-size: 10pt\">\n",
       "\t\t\t<font style=\"display: inline;\">Revenue from cinema ticket sales and concession sales are recognized when sold. Revenue from gift certificate sales is deferred and recognized when the certificates are redeemed. Rental revenue is recognized on a straight-line basis.&nbsp; </font>\n",
       "\t\t</p>\n",
       "\t\t<p><font size=\"1\"> </font></p>\n",
       "\t</div> </div>"
      ],
      "text/plain": [
       "<IPython.core.display.HTML object>"
      ]
     },
     "metadata": {},
     "output_type": "display_data"
    },
    {
     "data": {
      "text/html": [
       "<h1>Regal Entertainment Group - Fiscal Year 2015</h1><div style=\"font-family:Times New Roman;font-size:10pt;\"><div style=\"line-height:120%;text-indent:26px;font-size:10pt;\"><font style=\"font-family:inherit;font-size:10pt;font-style:italic;font-weight:bold;\">Revenue Recognition</font></div><div style=\"line-height:120%;text-indent:32px;font-size:10pt;\"><font style=\"font-family:inherit;font-size:10pt;\"><br clear=\"none\"></font></div><div style=\"line-height:120%;text-indent:32px;font-size:10pt;\"><font style=\"font-family:inherit;font-size:10pt;\">Revenues are generated principally through admissions and concessions sales with proceeds received in cash or via credit card at the point of sale. Other operating revenues consist primarily of product advertising (including vendor marketing programs) and other ancillary revenues that are recognized as income in the period earned. The Company generally recognizes payments received attributable to the marketing and advertising services provided by the Company under certain vendor programs as revenue in the periods in which the advertising is displayed or when the related impressions are delivered. Such impressions are measured by the concession product sales volume, which is a mutually agreed upon proxy of attendance and reflects the Company's marketing and advertising services delivered to its vendors. In instances where the consideration received is in excess of fair value of the advertising services provided, the excess is recorded as a reduction of concession costs. </font></div><div style=\"line-height:120%;text-indent:32px;font-size:10pt;\"><font style=\"font-family:inherit;font-size:10pt;\"><br clear=\"none\"></font></div><div style=\"line-height:120%;text-indent:32px;font-size:10pt;\"><font style=\"font-family:inherit;font-size:10pt;\">The Company maintains a deferred revenue balance pertaining to amounts received for agreeing to the existing National CineMedia exhibitor services agreement (\"ESA\") modification, amounts recorded in connection with the receipt of newly issued common units of National CineMedia pursuant to the provisions of the Common Unit Adjustment Agreement described in Note&#160;4&#8212;\"Investments,\" and amounts received from the sale of discount tickets and gift cards that have not been redeemed. Amortization of deferred revenue related to the amount we received for agreeing to the existing National CineMedia exhibitor services agreement modification and amounts recorded in connection with the receipt of newly issued common units of National CineMedia pursuant to the provisions of the Common Unit Adjustment Agreement are described below in this Note&#160;2 under \"Deferred Revenue\" and in Note&#160;4&#8212;\"Investments.\" The Company recognizes revenue associated with discount tickets and gift cards when redeemed, or when the likelihood of redemption becomes remote. The determination of the likelihood of redemption is based on an analysis of actual historical redemption trends.  </font></div></div>"
      ],
      "text/plain": [
       "<IPython.core.display.HTML object>"
      ]
     },
     "metadata": {},
     "output_type": "display_data"
    },
    {
     "data": {
      "text/html": [
       "<h1>Watermark Group, Inc. - Fiscal Year 2016</h1><p style=\"margin: 0; text-align: justify\"><font style=\"font: 10pt Times New Roman, Times, Serif\">For revenue\r",
       "from product sales, the Company will recognize revenue in accordance with Staff Accounting Bulletin No. 104, &#34;Revenue Recognition&#34;\r",
       "(SAB No. 104), which superseded Staff Accounting Bulletin No. 101, &#34;Revenue Recognition in Financial Statements&#34; (SAB\r",
       "No. 101). SAB No. 104 requires that four basic criteria must be met before revenue can be recognized: (1) persuasive evidence\r",
       "of an arrangement exists; (2) delivery has occurred; (3) the selling price is fixed and determinable; and (4) collectibility is\r",
       "reasonably assured. Determination of criteria (3) and (4) are based on management's judgment regarding the fixed nature of the\r",
       "selling prices of the products delivered and the collectibility of those amounts. Provisions for discounts and rebates to customers,\r",
       "estimated returns and allowances, and other adjustments will be provided for in the same period the related sales are recorded.</font></p>"
      ],
      "text/plain": [
       "<IPython.core.display.HTML object>"
      ]
     },
     "metadata": {},
     "output_type": "display_data"
    },
    {
     "data": {
      "text/html": [
       "<h1>World Wrestling Entertainmentinc - Fiscal Year 2015</h1><div> <div style=\"margin-left:0pt;margin-right:0pt;\">\n",
       "\t\t<p style=\"margin:10pt 0pt 0pt;text-indent:27pt;text-align:justify;text-justify:inter-ideograph;font-family:Times New Roman;font-size: 10pt\">\n",
       "\t\t\t<font style=\"display: inline;font-style:italic;\">Revenue Recognition</font><font style=\"display: inline;\"> &#x2014; Revenues are generally recognized when products are shipped or as services are performed. However, due to the nature of several of our business lines, there are additional steps in the revenue recognition process, as described below.</font>\n",
       "\t\t</p>\n",
       "\t\t<div style=\"width:100%\"><table style=\"width:100%;\" cellpadding=\"0\" cellspacing=\"0\"><tr><td style=\"width:24pt;\"><p style=\"width:24pt;font-size:0pt;\"></td><td valign=\"top\" align=\"left\" style=\"width: 20.00pt; display: inline;\">\n",
       "\t\t\t<p style=\"font-family:Times New Roman;font-size: 10pt;margin:6pt 0pt 0pt;\">\n",
       "\t\t\t\t<font style=\"margin:6pt 0pt 0pt;font-family:Symbol;font-size:8pt;;\"> &#xB7;</font>\n",
       "\t\t\t</p>\n",
       "\t\t</td><td style=\"width:4pt;\"><p style=\"width:4pt;width:4pt;font-size:0pt;\"></td><td align=\"left\" valign=\"top\">\n",
       "\t\t\t<p style=\"font-family:Times New Roman;font-size: 10pt;margin:6pt 0pt 0pt;\">\n",
       "\t\t\t<font style=\"display: inline;color:#000000;\">WWE Network Subscriptions:</font></p></td></tr></table></div>\n",
       "\t\t<p style=\"margin:10pt 0pt 0pt;text-indent:24.5pt;text-align:justify;text-justify:inter-ideograph;font-family:Times New Roman;font-size: 10pt\">\n",
       "\t\t\t<font style=\"display: inline;color:#000000;\">Revenues are recognized ratably over each </font><font style=\"display: inline;color:#000000;\">paid </font><font style=\"display: inline;color:#000000;\">monthly membership period. Deferred revenue consists of </font><font style=\"display: inline;color:#000000;\">subscription</font><font style=\"display: inline;color:#000000;\"> fees billed to members that have not been recognized and gift memberships that have not been redeemed.</font>\n",
       "\t\t</p>\n",
       "\t\t<div style=\"width:100%\"><table style=\"width:100%;\" cellpadding=\"0\" cellspacing=\"0\"><tr><td style=\"width:24pt;\"><p style=\"width:24pt;font-size:0pt;\"></td><td valign=\"top\" align=\"left\" style=\"width: 20.00pt; display: inline;\">\n",
       "\t\t\t<p style=\"font-family:Times New Roman;font-size: 10pt;margin:6pt 0pt 0pt;\">\n",
       "\t\t\t\t<font style=\"margin:6pt 0pt 0pt;font-family:Symbol;font-size:8pt;;\"> &#xB7;</font>\n",
       "\t\t\t</p>\n",
       "\t\t</td><td style=\"width:4pt;\"><p style=\"width:4pt;width:4pt;font-size:0pt;\"></td><td align=\"left\" valign=\"top\">\n",
       "\t\t\t<p style=\"font-family:Times New Roman;font-size: 10pt;margin:6pt 0pt 0pt;\">\n",
       "\t\t\t<font style=\"display: inline;color:#000000;\">Pay-per-view programming:</font></p></td></tr></table></div>\n",
       "\t\t<p style=\"margin:10pt 0pt 0pt;text-indent:27pt;text-align:justify;text-justify:inter-ideograph;font-family:Times New Roman;font-size: 10pt\">\n",
       "\t\t\t<font style=\"display: inline;color:#000000;\">Revenues from our pay-per-view programming are recorded when the event is aired and are based upon our initial estimate of the number of buys achieved. This initial estimate is based on preliminary buy information received from our pay-per-view distributors. Final reconciliation of the pay-per-view buys generally occurs within </font><font style=\"display: inline;color:#000000;\">one</font><font style=\"display: inline;color:#000000;\"> year and any subsequent adjustments to the buys are recognized in the period new information is received.</font>\n",
       "\t\t</p>\n",
       "\t\t<div style=\"width:100%\"><table style=\"width:100%;\" cellpadding=\"0\" cellspacing=\"0\"><tr><td style=\"width:24pt;\"><p style=\"width:24pt;font-size:0pt;\"></td><td valign=\"top\" align=\"left\" style=\"width: 20.00pt; display: inline;\">\n",
       "\t\t\t<p style=\"font-family:Times New Roman;font-size: 10pt;margin:6pt 0pt 0pt;\">\n",
       "\t\t\t\t<font style=\"margin:6pt 0pt 0pt;font-family:Symbol;font-size:8pt;;\"> &#xB7;</font>\n",
       "\t\t\t</p>\n",
       "\t\t</td><td style=\"width:4pt;\"><p style=\"width:4pt;width:4pt;font-size:0pt;\"></td><td align=\"left\" valign=\"top\">\n",
       "\t\t\t<p style=\"font-family:Times New Roman;font-size: 10pt;margin:6pt 0pt 0pt;\">\n",
       "\t\t\t<font style=\"display: inline;color:#000000;\">Sponsorships:</font></p></td></tr></table></div>\n",
       "\t\t<p style=\"margin:10pt 0pt 0pt;text-indent:27pt;text-align:justify;text-justify:inter-ideograph;font-family:Times New Roman;font-size: 10pt\">\n",
       "\t\t\t<font style=\"display: inline;color:#000000;\">Through our sponsorship packages, we offer advertisers a full range of our promotional vehicles, including online and print advertising, on-air announcements and special appearances by our Superstars</font><font style=\"display: inline;color:#000000;\"> and Divas</font><font style=\"display: inline;color:#000000;\">. We allocate revenue to all deliverables contained within a sponsorship arrangement based upon their relative selling price. In most instances, we determine relative selling price used for allocating revenue to a specific deliverable using vendor specific objective evidence (\"VSOE\"). VSOE is the selling price that a vendor charges when it sells similar products or services on a stand-alone basis.&nbsp;&nbsp;After allocating revenue to each deliverable, we recognize revenue from our sponsorship arrangements when each element is delivered.</font>\n",
       "\t\t</p>\n",
       "\t\t<div style=\"width:100%\"><table style=\"width:100%;\" cellpadding=\"0\" cellspacing=\"0\"><tr><td style=\"width:24pt;\"><p style=\"width:24pt;font-size:0pt;\"></td><td valign=\"top\" align=\"left\" style=\"width: 20.00pt; display: inline;\">\n",
       "\t\t\t<p style=\"font-family:Times New Roman;font-size: 10pt;margin:6pt 0pt 0pt;\">\n",
       "\t\t\t\t<font style=\"margin:6pt 0pt 0pt;font-family:Symbol;font-size:8pt;;\"> &#xB7;</font>\n",
       "\t\t\t</p>\n",
       "\t\t</td><td style=\"width:4pt;\"><p style=\"width:4pt;width:4pt;font-size:0pt;\"></td><td align=\"left\" valign=\"top\">\n",
       "\t\t\t<p style=\"font-family:Times New Roman;font-size: 10pt;margin:6pt 0pt 0pt;\">\n",
       "\t\t\t<font style=\"display: inline;color:#000000;\">Licensing:</font></p></td></tr></table></div>\n",
       "\t\t<p style=\"margin:10pt 0pt 0pt;text-indent:27pt;text-align:justify;text-justify:inter-ideograph;font-family:Times New Roman;font-size: 10pt\">\n",
       "\t\t\t<font style=\"display: inline;color:#000000;\">Revenues from our licensed products are recognized upon receipt of reports from the individual licensees that detail the royalties generated by related product sales. If we receive licensing advances, such payments are recorded as deferred revenue and are recognized as income when earned.</font>\n",
       "\t\t</p>\n",
       "\t\t<div style=\"width:100%\"><table style=\"width:100%;\" cellpadding=\"0\" cellspacing=\"0\"><tr><td style=\"width:24pt;\"><p style=\"width:24pt;font-size:0pt;\"></td><td valign=\"top\" align=\"left\" style=\"width: 20.00pt; display: inline;\">\n",
       "\t\t\t<p style=\"font-family:Times New Roman;font-size: 10pt;margin:6pt 0pt 0pt;\">\n",
       "\t\t\t\t<font style=\"margin:6pt 0pt 0pt;font-family:Symbol;font-size:8pt;;\"> &#xB7;</font>\n",
       "\t\t\t</p>\n",
       "\t\t</td><td style=\"width:4pt;\"><p style=\"width:4pt;width:4pt;font-size:0pt;\"></td><td align=\"left\" valign=\"top\">\n",
       "\t\t\t<p style=\"font-family:Times New Roman;font-size: 10pt;margin:6pt 0pt 0pt;\">\n",
       "\t\t\t<font style=\"display: inline;color:#000000;\">Home entertainment:</font></p></td></tr></table></div>\n",
       "\t\t<p style=\"margin:10pt 0pt 0pt;text-indent:27pt;text-align:justify;text-justify:inter-ideograph;font-family:Times New Roman;font-size: 10pt\">\n",
       "\t\t\t<font style=\"display: inline;color:#000000;\">Revenues from the sales of home video titles are recorded net of an allowance for estimated returns, at the later of delivery by our distributor to retailers, or the date that these products are made widely available for sale by retailers. The allowance for estimated returns is based on historical information, current industry trends and demand for our titles.</font>\n",
       "\t\t</p>\n",
       "\t\t<div style=\"width:100%\"><table style=\"width:100%;\" cellpadding=\"0\" cellspacing=\"0\"><tr><td style=\"width:24pt;\"><p style=\"width:24pt;font-size:0pt;\"></td><td valign=\"top\" align=\"left\" style=\"width: 20.00pt; display: inline;\">\n",
       "\t\t\t<p style=\"font-family:Times New Roman;font-size: 10pt;margin:6pt 0pt 0pt;\">\n",
       "\t\t\t\t<font style=\"margin:6pt 0pt 0pt;font-family:Symbol;font-size:8pt;;\"> &#xB7;</font>\n",
       "\t\t\t</p>\n",
       "\t\t</td><td style=\"width:4pt;\"><p style=\"width:4pt;width:4pt;font-size:0pt;\"></td><td align=\"left\" valign=\"top\">\n",
       "\t\t\t<p style=\"font-family:Times New Roman;font-size: 10pt;margin:6pt 0pt 0pt;\">\n",
       "\t\t\t<font style=\"display: inline;color:#000000;\">TV rights:</font></p></td></tr></table></div>\n",
       "\t\t<p style=\"margin:10pt 0pt 0pt;text-indent:27pt;text-align:justify;text-justify:inter-ideograph;font-family:Times New Roman;font-size: 10pt\">\n",
       "\t\t\t<font style=\"display: inline;color:#000000;\">Rights fees received from distributors of our television programming, both domestically and internationally, are recorded when the program has been delivered to the distributor and is available for exhibition. Our typical distribution agreement is between </font><font style=\"display: inline;color:#000000;\">one</font><font style=\"display: inline;color:#000000;\"> and </font><font style=\"display: inline;color:#000000;\">five</font><font style=\"display: inline;color:#000000;\"> years in length and frequently provides for contractual increases over its term. Expenses incurred in the production of our weekly television programming are expensed when the programming is first available for exhibition.</font>\n",
       "\t\t</p>\n",
       "\t\t<p style=\"margin:10pt 0pt 0pt;text-indent:27pt;text-align:justify;text-justify:inter-ideograph;font-family:Times New Roman;font-size: 10pt\">\n",
       "\t\t\t<font style=\"display: inline;color:#000000;\">Included in deferred income </font><font style=\"display: inline;color:#000000;\">as of December 31, 2015 and </font><font style=\"display: inline;color:#000000;\">2014 is </font><font style=\"display: inline;color:#000000;\" data-cbfactid=\"111383469\">$46.2</font><font style=\"display: inline;color:#000000;\"> million</font><font style=\"display: inline;color:#000000;\"> and</font><font style=\"display: inline;color:#000000;\">&nbsp;</font><font style=\"display: inline;color:#000000;\" data-cbfactid=\"111383467\">$50.0</font><font style=\"display: inline;color:#000000;\"> million</font><font style=\"display: inline;color:#000000;\">, respectively,</font><font style=\"display: inline;color:#000000;\"> related to an advance payment associated with our domestic television rights deal.</font>\n",
       "\t\t</p>\n",
       "\t\t<div style=\"width:100%\"><table style=\"width:100%;\" cellpadding=\"0\" cellspacing=\"0\"><tr><td style=\"width:24pt;\"><p style=\"width:24pt;font-size:0pt;\"></td><td valign=\"top\" align=\"left\" style=\"width: 20.00pt; display: inline;\">\n",
       "\t\t\t<p style=\"font-family:Times New Roman;font-size: 10pt;margin:6pt 0pt 0pt;\">\n",
       "\t\t\t\t<font style=\"margin:6pt 0pt 0pt;font-family:Symbol;font-size:8pt;;\"> &#xB7;</font>\n",
       "\t\t\t</p>\n",
       "\t\t</td><td style=\"width:4pt;\"><p style=\"width:4pt;width:4pt;font-size:0pt;\"></td><td align=\"left\" valign=\"top\">\n",
       "\t\t\t<p style=\"font-family:Times New Roman;font-size: 10pt;margin:6pt 0pt 0pt;\">\n",
       "\t\t\t<font style=\"display: inline;color:#000000;\">Films:</font></p></td></tr></table></div>\n",
       "\t\t<p style=\"margin:0pt;font-family:Times New Roman;font-size: 10pt\">\n",
       "\t\t\t<font style=\"display: inline;color:#000000;\">Revenue recognition for our feature films varies depending on the method of distribution and the extent of control the Company exercises over the distribution and related expenses. We exercise significant control over our self-distributed films and as a result, we record distribution revenue and related expenses on a gross basis in our financial statements. Third-party distribution partners control the distribution and marketing of our </font><font style=\"display: inline;color:#000000;\">co-distributed</font><font style=\"display: inline;color:#000000;\"> films, and as a result, we recognize revenue on a net basis after the third-party distributor recoups distribution fees and expenses and results </font><font style=\"display: inline;color:#000000;\">are</font><font style=\"display: inline;color:#000000;\"> reported to us. This typically occurs in periods subsequent to the initial release of the film. Revenues generated from our films through the various distribution channels, including home video, video-on-demand and television are recognized consistent with the policies described above.</font>\n",
       "\t\t</p>\n",
       "\t\t<p><font size=\"1\"> </font></p>\n",
       "\t</div> </div>"
      ],
      "text/plain": [
       "<IPython.core.display.HTML object>"
      ]
     },
     "metadata": {},
     "output_type": "display_data"
    },
    {
     "data": {
      "text/html": [
       "<h1>Writ Media Group, Inc. - Fiscal Year 2016</h1><p style=\"font: 10pt Times New Roman, Times, Serif; margin: 0; text-align: justify\"><font style=\"font: 10pt Times New Roman, Times, Serif\">The\r",
       "Company follows revenue recognition in two industries, technology and film.</font></p>\r",
       "\r",
       "<p style=\"font: 10pt Times New Roman, Times, Serif; margin: 0; text-align: justify; text-indent: 0.5in\"><font style=\"font: 10pt Times New Roman, Times, Serif\">&#160;</font></p>\r",
       "\r",
       "<p style=\"font: 10pt Times New Roman, Times, Serif; margin: 0; text-align: justify\"><font style=\"font: 10pt Times New Roman, Times, Serif\">Revenue\r",
       "is measured at the fair value of the consideration received or receivable net of sales tax, trade discounts and customer returns.</font></p>"
      ],
      "text/plain": [
       "<IPython.core.display.HTML object>"
      ]
     },
     "metadata": {},
     "output_type": "display_data"
    }
   ],
   "source": [
    "for result in revenue_recognition_results:\n",
    "    display(HTML('<h1>{entity_name} - Fiscal Year {fiscal_year}</h1>'.format(**result) + cb.tag_contents(accession_id=result['accession_id'], block_tag_name=\"RevenueRecognitionPolicyTextBlock\")))"
   ]
  },
  {
   "cell_type": "code",
   "execution_count": 29,
   "metadata": {
    "collapsed": true
   },
   "outputs": [],
   "source": [
    "with open('cinema_revenue_recognition.csv', 'w') as f:\n",
    "    writer = csv.writer(f)\n",
    "    for result in revenue_recognition_results:\n",
    "        contents = cb.tag_contents(accession_id=result['accession_id'], block_tag_name=\"RevenueRecognitionPolicyTextBlock\")\n",
    "        writer.writerow([result['entity_name'], result['fiscal_year'], contents])"
   ]
  },
  {
   "cell_type": "code",
   "execution_count": null,
   "metadata": {
    "collapsed": true
   },
   "outputs": [],
   "source": []
  }
 ],
 "metadata": {
  "kernelspec": {
   "display_name": "Python 3",
   "language": "python",
   "name": "python3"
  },
  "language_info": {
   "codemirror_mode": {
    "name": "ipython",
    "version": 3
   },
   "file_extension": ".py",
   "mimetype": "text/x-python",
   "name": "python",
   "nbconvert_exporter": "python",
   "pygments_lexer": "ipython3",
   "version": "3.5.1"
  }
 },
 "nbformat": 4,
 "nbformat_minor": 0
}
