{
 "cells": [
  {
   "cell_type": "markdown",
   "metadata": {},
   "source": [
    "## Numeric Data"
   ]
  },
  {
   "cell_type": "markdown",
   "metadata": {},
   "source": [
    "The API serves normalized and as-reported financial information in JSON.\n",
    "\n",
    "Calcbench uses cookie based authentication, you will need to use a client that handles cookies, an example using Python's requests package is below."
   ]
  },
  {
   "cell_type": "code",
   "execution_count": null,
   "metadata": {},
   "outputs": [],
   "source": [
    "import requests\n",
    "import json\n",
    "cb_email = \"andrew@calcbench.com\" # put your calcbench username here\n",
    "cb_password = \"password\" # put your calcbench password here\n",
    "CALCBENCH_SESSION = requests.Session()\n",
    "CALCBENCH_API_URL_BASE = \"https://www.calcbench.com/api/{0}\"\n",
    "r = CALCBENCH_SESSION.post('https://www.calcbench.com/account/LogOnAjax', \n",
    "                  {'email' : cb_email, \n",
    "                   'password' : cb_password, \n",
    "                   'rememberMe' : 'true'}, \n",
    "                  verify=True)\n",
    "assert r.text == 'true', 'login failed'"
   ]
  },
  {
   "cell_type": "markdown",
   "metadata": {},
   "source": [
    "#### Get tickers by industry."
   ]
  },
  {
   "cell_type": "code",
   "execution_count": null,
   "metadata": {},
   "outputs": [],
   "source": [
    "pharma_SIC_code = 2834\n",
    "url = CALCBENCH_API_URL_BASE.format(\"companies?siccodes={0}\".format(pharma_SIC_code))\n",
    "pharma_companies = CALCBENCH_SESSION.get(url).json()\n",
    "pharma_tickers = [co['ticker'] for co in pharma_companies]"
   ]
  },
  {
   "cell_type": "markdown",
   "metadata": {},
   "source": [
    "### Normalized Data"
   ]
  },
  {
   "cell_type": "code",
   "execution_count": null,
   "metadata": {},
   "outputs": [],
   "source": [
    "metrics = ['revenue', 'netincome', 'assets', 'stockholdersequity']\n",
    "payload = {\"start_year\" : 2010,\n",
    "           'start_period' : 1,\n",
    "           'end_year' : 2014,\n",
    "           'end_period' : 4,\n",
    "           'company_identifiers' : ['ibm', 'goog'],\n",
    "           'metrics' : metrics,\n",
    "           }\n",
    "url = CALCBENCH_API_URL_BASE.format(\"/NormalizedValues\")\n",
    "data = CALCBENCH_SESSION.post(url,\n",
    "                              data=json.dumps(payload), \n",
    "                              headers={'content-type' : 'application/json'}\n",
    "                              ).json()"
   ]
  },
  {
   "cell_type": "code",
   "execution_count": null,
   "metadata": {},
   "outputs": [],
   "source": [
    "data[0]"
   ]
  },
  {
   "cell_type": "markdown",
   "metadata": {},
   "source": [
    "### As Reported Data"
   ]
  },
  {
   "cell_type": "code",
   "execution_count": null,
   "metadata": {},
   "outputs": [],
   "source": [
    "ticker = \"ibm\"\n",
    "statement_type = \"income\" # one of (income, balance, cash)\n",
    "as_reported_path = 'asreported/?companyIdentifier={0}&statementType={1}&periodType=annual'.format(ticker, statement_type)\n",
    "response = CALCBENCH_SESSION.get(CALCBENCH_API_URL_BASE.format(as_reported_path), verify=True)\n",
    "as_reported_data = json.loads(response.text)"
   ]
  },
  {
   "cell_type": "code",
   "execution_count": null,
   "metadata": {},
   "outputs": [],
   "source": [
    "as_reported_data"
   ]
  }
 ],
 "metadata": {
  "kernelspec": {
   "display_name": "Python 3",
   "language": "python",
   "name": "python3"
  },
  "language_info": {
   "codemirror_mode": {
    "name": "ipython",
    "version": 3
   },
   "file_extension": ".py",
   "mimetype": "text/x-python",
   "name": "python",
   "nbconvert_exporter": "python",
   "pygments_lexer": "ipython3",
   "version": "3.5.1"
  }
 },
 "nbformat": 4,
 "nbformat_minor": 1
}
