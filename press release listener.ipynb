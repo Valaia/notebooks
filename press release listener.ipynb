{
 "cells": [
  {
   "cell_type": "code",
   "execution_count": 1,
   "metadata": {},
   "outputs": [],
   "source": [
    "import calcbench as cb"
   ]
  },
  {
   "cell_type": "code",
   "execution_count": 7,
   "metadata": {},
   "outputs": [],
   "source": [
    "def handle_filing(filing):\n",
    "    if(filing['is_wire']):\n",
    "        print(f\"{filing['ticker']}, {filing['document_type']}, {filing['filing_type']}\")\n",
    "        pr_data = cb.press_release_raw(company_identifiers=filing['ticker'], \n",
    "                                   year=filing['fiscal_year'], \n",
    "                                   period=['fiscal_year'],\n",
    "                                   match_to_previous_period=True, \n",
    "                                   standardize_beginning_of_period=True)\n",
    "        print(pr_data)"
   ]
  },
  {
   "cell_type": "code",
   "execution_count": null,
   "metadata": {},
   "outputs": [
    {
     "name": "stderr",
     "output_type": "stream",
     "text": [
      "C:\\Users\\Andrew Kittredge\\git\\python_api_client\\calcbench\\listener.py:37: UserWarning: 'document_type'\n",
      "  warnings.warn(str(e))\n"
     ]
    },
    {
     "name": "stdout",
     "output_type": "stream",
     "text": [
      "SGRP, WIREPR, 3\n",
      "None\n",
      "TSSI, WIREPR, 3\n",
      "None\n",
      "SPIN, WIREPR, 3\n",
      "None\n",
      "AIPT, WIREPR, 3\n",
      "None\n",
      "QRHC, WIREPR, 3\n",
      "None\n",
      "EFOI, WIREPR, 3\n",
      "None\n",
      "MFON, WIREPR, 3\n",
      "None\n",
      "SKAS, WIREPR, 3\n",
      "None\n",
      "DRYS, WIREPR, 3\n",
      "None\n",
      "SITO, WIREPR, 3\n",
      "None\n",
      "BRFH, WIREPR, 3\n",
      "None\n",
      "FORD, WIREPR, 3\n",
      "None\n",
      "EVOL, WIREPR, 3\n",
      "None\n",
      "LMB, WIREPR, 3\n",
      "None\n",
      "PYDS, WIREPR, 3\n",
      "None\n",
      "OMEX, WIREPR, 3\n",
      "None\n",
      "CSSE, WIREPR, 3\n",
      "None\n",
      "DDS, WIREPR, 3\n",
      "None\n",
      "CAPC, WIREPR, 3\n",
      "None\n",
      "SIEB, WIREPR, 3\n",
      "None\n",
      "XSPA, WIREPR, 3\n",
      "None\n",
      "EVC, WIREPR, 3\n",
      "None\n",
      "PETZ, WIREPR, 3\n",
      "None\n",
      "KGJI, WIREPR, 3\n",
      "None\n",
      "SNES, WIREPR, 3\n",
      "None\n",
      "IVOB, WIREPR, 3\n",
      "None\n",
      "MITO, WIREPR, 3\n",
      "None\n",
      "ACHV, WIREPR, 3\n",
      "None\n",
      "JMDA, WIREPR, 3\n",
      "None\n",
      "BHTG, WIREPR, 3\n",
      "None\n",
      "TTNP, WIREPR, 3\n",
      "None\n",
      "TCI, WIREPR, 3\n",
      "None\n",
      "UNAM, WIREPR, 3\n",
      "None\n",
      "ARL, WIREPR, 3\n",
      "None\n",
      "GLOW, WIREPR, 3\n",
      "None\n",
      "SLS, WIREPR, 3\n",
      "None\n",
      "PEYE, WIREPR, 3\n",
      "None\n",
      "SORL, WIREPR, 3\n",
      "None\n",
      "RSSS, WIREPR, 3\n",
      "None\n",
      "PHUN, WIREPR, 3\n",
      "None\n",
      "SRAX, WIREPR, 3\n",
      "None\n",
      "ACFN, WIREPR, 3\n",
      "None\n",
      "IOR, WIREPR, 3\n",
      "None\n",
      "ANY, WIREPR, 3\n",
      "None\n",
      "GBR, WIREPR, 3\n",
      "None\n",
      "FLO, WIREPR, 3\n",
      "None\n",
      "SBSAA, WIREPR, 3\n",
      "None\n"
     ]
    }
   ],
   "source": [
    "cb.handle_filings(handle_filing, queue_subscription)"
   ]
  },
  {
   "cell_type": "code",
   "execution_count": null,
   "metadata": {},
   "outputs": [],
   "source": []
  }
 ],
 "metadata": {
  "kernelspec": {
   "display_name": "Python 3",
   "language": "python",
   "name": "python3"
  },
  "language_info": {
   "codemirror_mode": {
    "name": "ipython",
    "version": 3
   },
   "file_extension": ".py",
   "mimetype": "text/x-python",
   "name": "python",
   "nbconvert_exporter": "python",
   "pygments_lexer": "ipython3",
   "version": "3.7.1"
  }
 },
 "nbformat": 4,
 "nbformat_minor": 2
}
